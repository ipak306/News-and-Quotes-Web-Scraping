{
 "cells": [
  {
   "cell_type": "markdown",
   "metadata": {},
   "source": [
    "# Assignment 2 - DS4Biz Y63\n",
    "## TextScraping_Classification\n",
    "***\n",
    "\n",
    "### Team Detail\n",
    "**Team Name**: TomandJerry  \n",
    "***\n",
    "### *Student 1*\n",
    "**Student ID**: 61070306  \n",
    "**Student Full Name**: นางสาว ปรียานุช สุภาสืบ\n",
    "***\n",
    "### *Student 2*\n",
    "**Student ID**: 61070365   \n",
    "**Student Full Name**: นางสาว อารีญา สมิงแก้ว \n",
    "***"
   ]
  },
  {
   "cell_type": "markdown",
   "metadata": {},
   "source": [
    "# news"
   ]
  },
  {
   "cell_type": "code",
   "execution_count": 1,
   "metadata": {},
   "outputs": [],
   "source": [
    "import requests\n",
    "import bs4\n",
    "from bs4 import BeautifulSoup\n",
    "import pandas as pd \n",
    "import numpy as np\n",
    "import matplotlib.pyplot as plt\n",
    "from sklearn.ensemble import RandomForestClassifier\n",
    "from sklearn.svm import SVC\n",
    "from sklearn.linear_model import LogisticRegression\n",
    "from sklearn.neighbors import KNeighborsClassifier\n",
    "from sklearn.model_selection import train_test_split\n",
    "from sklearn.linear_model import LinearRegression\n",
    "from sklearn.model_selection import cross_val_score\n",
    "from sklearn.model_selection import RandomizedSearchCV, GridSearchCV\n",
    "import xgboost as xgb\n",
    "from xgboost import XGBClassifier\n",
    "from sklearn.metrics import mean_squared_error\n",
    "from sklearn.metrics import accuracy_score\n",
    "from sklearn.metrics import classification_report\n",
    "from sklearn import model_selection, naive_bayes, svm\n",
    "import seaborn as sns\n",
    "import nltk\n",
    "import warnings\n",
    "warnings.filterwarnings('ignore')\n",
    "from sklearn.linear_model import SGDClassifier\n",
    "from sklearn.pipeline import Pipeline\n",
    "import numpy as np\n",
    "from sklearn.metrics import confusion_matrix\n",
    "from sklearn.model_selection import RandomizedSearchCV, GridSearchCV\n",
    "from sklearn.model_selection import StratifiedKFold"
   ]
  },
  {
   "cell_type": "markdown",
   "metadata": {},
   "source": [
    "# Part 1: Data Collection\n",
    "- ## เเสดงกระบวนการ scrape บทความจากหน้าเว็บไซต์"
   ]
  },
  {
   "cell_type": "markdown",
   "metadata": {},
   "source": [
    "### request หน้า web"
   ]
  },
  {
   "cell_type": "code",
   "execution_count": 2,
   "metadata": {},
   "outputs": [
    {
     "name": "stdout",
     "output_type": "stream",
     "text": [
      "<Response [200]>\n"
     ]
    }
   ],
   "source": [
    "response = requests.get('http://www.it.kmitl.ac.th/~teerapong/news_archive/index.html') # ส่งคำขอไปยังหน้าเว็บที่เราต้องการ \n",
    "print(response) # check ว่า ข้อความตอบกลับสามารถใช้ข้อมูลหน้าเว็บได้หรือไม่ \n",
    "# print(type(response)) \n",
    "# ถ้าคืนมาเท่ากับ404 คือ server ไม่มี"
   ]
  },
  {
   "cell_type": "markdown",
   "metadata": {},
   "source": [
    "### Parsing the HTML with BeautifulSoup"
   ]
  },
  {
   "cell_type": "code",
   "execution_count": 3,
   "metadata": {},
   "outputs": [
    {
     "name": "stdout",
     "output_type": "stream",
     "text": [
      "<!DOCTYPE html>\n",
      "<html lang=\"en\">\n",
      " <head>\n",
      "  <title>\n",
      "   Online News Archive\n",
      "  </title>\n",
      "  <meta charset=\"utf-8\"/>\n",
      "  <meta content=\"width=device-width, initial-scale=1\" name=\"viewport\"/>\n",
      "  <meta content=\"noindex\" name=\"robots\"/>\n",
      "  <meta content=\"news,articles,news\" name=\"keywords\"/>\n",
      "  <meta content=\"Breaking News | International Headlines\" property=\"og:title\"/>\n",
      "  <meta content=\"News Archive\" property=\"og:site_name\"/>\n",
      "  <meta content=\"Latest news and more from the definitive brand of quality news.\" property=\"og:description\"/>\n",
      "  <link href=\"css/bootstrap.min.css\" rel=\"stylesheet\"/>\n",
      "  <script src=\"js/jquery-3.2.1.slim.min.js\">\n",
      "  </script>\n",
      "  <script src=\"js/popper.min.js\">\n",
      "  </script>\n",
      "  <script src=\"js/tether.min.js\">\n",
      "  </script>\n",
      "  <script src=\"js/jquery-3.2.1.slim.min.js\">\n",
      "  </script>\n",
      "  <script src=\"js/popper.min.js\">\n",
      "  </script>\n",
      "  <script src=\"js/tether.min.js\">\n",
      "  </script>\n",
      "  <script src=\"js/bootstrap.min.js\">\n",
      "  </script>\n",
      "  <style>\n",
      "   .main{ padding: 0; text-align: center;}\n",
      "\t  \t\t.footer{ padding: 6px;text-align: center; margin-top: 1em; }\n",
      "\n",
      "\t  \t\th1\n",
      "\t  \t\t{\n",
      "\t  \t\t\tfont-size: 180%;\n",
      "\t  \t\t\tmargin-top: 15px;\n",
      "\t  \t\t\tmargin-bottom: 15px;\n",
      "\t  \t\t}\n",
      "\t  \t\tul {list-style-type: none;}\n",
      "\t  \t\tli { margin-top: 5px; }\n",
      "  </style>\n",
      " </head>\n",
      " <body>\n",
      "  <div class=\"container\" style=\"margin-top: 2em;\">\n",
      "   <div class=\"main\">\n",
      "    <img alt=\"banner\" src=\"images/banner.jpg\" width=\"500\"/>\n",
      "    <h1>\n",
      "     News Article Archive\n",
      "    </h1>\n",
      "    <p>\n",
      "     Archive of all news headlines and stories, organised per month.\n",
      "    </p>\n",
      "    <ul>\n",
      "     <li>\n",
      "      Articles —\n",
      "      <a href=\"month-jan-2017.html\">\n",
      "       January\n",
      "      </a>\n",
      "      [118]\n",
      "     </li>\n",
      "     <li>\n",
      "      Articles —\n",
      "      <a href=\"month-feb-2017.html\">\n",
      "       February\n",
      "      </a>\n",
      "      [124]\n",
      "     </li>\n",
      "     <li>\n",
      "      Articles —\n",
      "      <a href=\"month-mar-2017.html\">\n",
      "       March\n",
      "      </a>\n",
      "      [116]\n",
      "     </li>\n",
      "     <li>\n",
      "      Articles —\n",
      "      <a href=\"month-apr-2017.html\">\n",
      "       April\n",
      "      </a>\n",
      "      [118]\n",
      "     </li>\n",
      "     <li>\n",
      "      Articles —\n",
      "      <a href=\"month-may-2017.html\">\n",
      "       May\n",
      "      </a>\n",
      "      [115]\n",
      "     </li>\n",
      "     <li>\n",
      "      Articles —\n",
      "      <a href=\"month-jun-2017.html\">\n",
      "       June\n",
      "      </a>\n",
      "      [115]\n",
      "     </li>\n",
      "     <li>\n",
      "      Articles —\n",
      "      <a href=\"month-jul-2017.html\">\n",
      "       July\n",
      "      </a>\n",
      "      [122]\n",
      "     </li>\n",
      "     <li>\n",
      "      Articles —\n",
      "      <a href=\"month-aug-2017.html\">\n",
      "       August\n",
      "      </a>\n",
      "      [116]\n",
      "     </li>\n",
      "     <li>\n",
      "      Articles —\n",
      "      <a href=\"month-sep-2017.html\">\n",
      "       September\n",
      "      </a>\n",
      "      [113]\n",
      "     </li>\n",
      "     <li>\n",
      "      Articles —\n",
      "      <a href=\"month-oct-2017.html\">\n",
      "       October\n",
      "      </a>\n",
      "      [124]\n",
      "     </li>\n",
      "     <li>\n",
      "      Articles —\n",
      "      <a href=\"month-nov-2017.html\">\n",
      "       November\n",
      "      </a>\n",
      "      [122]\n",
      "     </li>\n",
      "     <li>\n",
      "      Articles —\n",
      "      <a href=\"month-dec-2017.html\">\n",
      "       December\n",
      "      </a>\n",
      "      [115]\n",
      "     </li>\n",
      "    </ul>\n",
      "   </div>\n",
      "   <div class=\"footer\">\n",
      "    <span>\n",
      "     <a href=\"#\">\n",
      "      Terms &amp; Conditions\n",
      "     </a>\n",
      "     |\n",
      "     <a href=\"#\">\n",
      "      Privacy Policy\n",
      "     </a>\n",
      "     |\n",
      "     <a href=\"#\">\n",
      "      Cookie Information\n",
      "     </a>\n",
      "    </span>\n",
      "    <br/>\n",
      "    <span>\n",
      "     ©\n",
      "     <span class=\"thisyear\">\n",
      "      2019-2020\n",
      "     </span>\n",
      "     — Original rights holders\n",
      "    </span>\n",
      "   </div>\n",
      "  </div>\n",
      " </body>\n",
      "</html>\n",
      "\n"
     ]
    }
   ],
   "source": [
    "soup  = bs4.BeautifulSoup(response.content, 'lxml') # เลือกใช้ parser lxml \n",
    "print(soup.prettify()) # มองเป็น html # เเสดงโค้ดหน้า html "
   ]
  },
  {
   "cell_type": "markdown",
   "metadata": {},
   "source": [
    "## scrape ข้อมูลจากหน้าเว็บไซต์\n",
    "> มีการบวนการดังนี้ \n",
    "1. ดึงข้อมูล Article Category(target) เเละ Article Title หัวข้อข่าว \n",
    "    -  ดึงชื่อ link ในเเต่ละเดือนเพื่อได้ link url ที่สมบูรณ์ ในเเต่ละเดือน \n",
    "    -  เริ่มดึงข้อมูลทั้งหมดเเละเก็บใน DataFrame \n",
    "    -  ทำความสะอาดข้อมูล ลบข้อมูลที่ไม่เกี่ยวข้อง เช่น ค่า null\n",
    "    - save ข้อมูล txt file --> ผลลัพธ์ที่ได้จะได้ target ของข่าวมาทั้งหมด\n",
    "2. ดึงข้อมูลเนื้อหาข่าวรวมถึงหัวข้อข่าวด้วย \n",
    "    - get link in each title news เเละเก็บ link url ในรูปเเบบเต็ม\n",
    "    - ตั้งฟังก์ชั่นในการดึงข้อมูลหัวข้อข่าว เเละ เนื้อหาข่าว \n",
    "    - ดึงข้อมูลมาเก็บไว้ จะได้ รายการ list ข่าวในเเต่ละหัวข้อ ประกอบไปด้วยหัวข้อข่าวเเละเนื้อหาข่าวทั้งหหมด\n",
    "    - แปลงเป็น DataFrame เเละ save to txt file and csv file -> ผลลัพธ์ที่ได้ จะได้ไฟล์ทั้งสองรูปแบบคือมีเนื้อหาข่าวอย่างเดียว, ,มีเนื้อหาเเละหัวข้อข่าว"
   ]
  },
  {
   "cell_type": "markdown",
   "metadata": {},
   "source": [
    "### ดึงชื่อ link ในเเต่ละเดือน"
   ]
  },
  {
   "cell_type": "code",
   "execution_count": 4,
   "metadata": {
    "scrolled": false
   },
   "outputs": [
    {
     "data": {
      "text/plain": [
       "['month-jan-2017.html',\n",
       " 'month-feb-2017.html',\n",
       " 'month-mar-2017.html',\n",
       " 'month-apr-2017.html',\n",
       " 'month-may-2017.html',\n",
       " 'month-jun-2017.html',\n",
       " 'month-jul-2017.html',\n",
       " 'month-aug-2017.html',\n",
       " 'month-sep-2017.html',\n",
       " 'month-oct-2017.html',\n",
       " 'month-nov-2017.html',\n",
       " 'month-dec-2017.html']"
      ]
     },
     "execution_count": 4,
     "metadata": {},
     "output_type": "execute_result"
    }
   ],
   "source": [
    "# ลิ้งเเต่ละดือน\n",
    "link_months = soup.find_all('a') # หา tag a\n",
    "link_month = [] \n",
    "for link in link_months: # วนลูปทุกๆ tag a\n",
    "    if 'href' in link.attrs: # ตั้งเงื่อนไขว่า ถ้า tag a มี href ให้นำค่าของ href ใส่ไว้ใน list link_month ที่ตั้งไว้ \n",
    "        link_month.append(link.attrs['href'])\n",
    "#         print(str(link.attrs['href']))\n",
    "\n",
    "# มีบางลิ้งค์ทีีไม่เกี่ยวข้องออกมาด้วย จำนวน 3 ค่าสุดท้าย จึงทำการลบ\n",
    "for i in range(-3,0):\n",
    "    link_month.pop(i)\n",
    "link_month # เรียกดูรายการ link ในเเต่ละหัวข้อข่าว"
   ]
  },
  {
   "cell_type": "markdown",
   "metadata": {},
   "source": [
    "### เก็บที่อยู่ link ทั้ง 12 เดือน หลังจากได้ชื่อท้ายของ link ที่เเตกต่าง "
   ]
  },
  {
   "cell_type": "code",
   "execution_count": 5,
   "metadata": {},
   "outputs": [
    {
     "name": "stdout",
     "output_type": "stream",
     "text": [
      "['http://www.it.kmitl.ac.th/~teerapong/news_archive/month-jan-2017.html', 'http://www.it.kmitl.ac.th/~teerapong/news_archive/month-feb-2017.html', 'http://www.it.kmitl.ac.th/~teerapong/news_archive/month-mar-2017.html', 'http://www.it.kmitl.ac.th/~teerapong/news_archive/month-apr-2017.html', 'http://www.it.kmitl.ac.th/~teerapong/news_archive/month-may-2017.html', 'http://www.it.kmitl.ac.th/~teerapong/news_archive/month-jun-2017.html', 'http://www.it.kmitl.ac.th/~teerapong/news_archive/month-jul-2017.html', 'http://www.it.kmitl.ac.th/~teerapong/news_archive/month-aug-2017.html', 'http://www.it.kmitl.ac.th/~teerapong/news_archive/month-sep-2017.html', 'http://www.it.kmitl.ac.th/~teerapong/news_archive/month-oct-2017.html', 'http://www.it.kmitl.ac.th/~teerapong/news_archive/month-nov-2017.html', 'http://www.it.kmitl.ac.th/~teerapong/news_archive/month-dec-2017.html']\n"
     ]
    }
   ],
   "source": [
    "link_months = [] # สร้าง list เพื่อเก็บ link ในเเต่ละเดือน \n",
    "for link in link_month: # วนลูปเพื่อเรียกใช้ชื่อในเเต่ละเดือนที่เก็บไว้ข้างต้น\n",
    "    \n",
    "    # นำชื่อในเเต่ละเดือนมาต่อกับ link ที่มีที่มาเดียวกัน เเต่เนื้อหาที่นำมาต่อเเตกต่างกัน \n",
    "    link = (f'http://www.it.kmitl.ac.th/~teerapong/news_archive/{link}') \n",
    "    \n",
    "    link_months.append(link) # นำlink url เก็บไว้ในตัวแปรชื่อ link_months\n",
    "print(link_months)"
   ]
  },
  {
   "cell_type": "code",
   "execution_count": 6,
   "metadata": {
    "scrolled": true
   },
   "outputs": [
    {
     "name": "stdout",
     "output_type": "stream",
     "text": [
      "http://www.it.kmitl.ac.th/~teerapong/news_archive/month-jan-2017.html\n",
      "http://www.it.kmitl.ac.th/~teerapong/news_archive/month-feb-2017.html\n",
      "http://www.it.kmitl.ac.th/~teerapong/news_archive/month-mar-2017.html\n",
      "http://www.it.kmitl.ac.th/~teerapong/news_archive/month-apr-2017.html\n",
      "http://www.it.kmitl.ac.th/~teerapong/news_archive/month-may-2017.html\n",
      "http://www.it.kmitl.ac.th/~teerapong/news_archive/month-jun-2017.html\n",
      "http://www.it.kmitl.ac.th/~teerapong/news_archive/month-jul-2017.html\n",
      "http://www.it.kmitl.ac.th/~teerapong/news_archive/month-aug-2017.html\n",
      "http://www.it.kmitl.ac.th/~teerapong/news_archive/month-sep-2017.html\n",
      "http://www.it.kmitl.ac.th/~teerapong/news_archive/month-oct-2017.html\n",
      "http://www.it.kmitl.ac.th/~teerapong/news_archive/month-nov-2017.html\n",
      "http://www.it.kmitl.ac.th/~teerapong/news_archive/month-dec-2017.html\n"
     ]
    }
   ],
   "source": [
    "# เเสดงผลลัพธ์ในเเต่ละลิงค์\n",
    "for l in link_months:\n",
    "    print(l)"
   ]
  },
  {
   "cell_type": "markdown",
   "metadata": {},
   "source": [
    "## 1 เริ่มจากการดึงข้อมูล target เเละ หัวข้อข่าว"
   ]
  },
  {
   "cell_type": "markdown",
   "metadata": {},
   "source": [
    "- ดึงข้อมูลที่มีอยู่ในทุกๆ link url ของเเต่ละเดือน เเล้วเก็บเข้า list โดยข้อมูลประกอบไปด้วย categorical (target) เเละ หัวข้อข่าว\n"
   ]
  },
  {
   "cell_type": "code",
   "execution_count": 7,
   "metadata": {
    "scrolled": true
   },
   "outputs": [
    {
     "name": "stdout",
     "output_type": "stream",
     "text": [
      "[['technology', '21st-Century Sports: How Digital Technology Is Changing the Face Of The Sporting Industry'], ['business', 'Asian quake hits European shares'], ['technology', 'BT offers free net phone calls'], ['business', 'Barclays shares up on merger talk'], ['sport', 'Barkley fit for match in Ireland'], ['sport', 'Bellamy under new fire'], ['sport', \"Benitez 'to launch Morientes bid'\"], ['sport', 'Benitez delight after crucial win'], ['technology', 'Big war games battle it out'], ['technology', 'British Library gets wireless net'], ['sport', \"Brizzel to run AAA's in Sheffield\"], ['business', 'Bush budget seeks deep cutbacks'], ['business', \"Bush to get 'tough' on deficit\"], ['technology', 'Cable offers video-on-demand'], ['technology', 'Cabs collect mountain of mobiles'], ['technology', \"Camera phones are 'must-haves'\"], ['business', \"Card fraudsters 'targeting web'\"], ['business', 'Cash gives way to flexible friend'], ['technology', 'Cebit opens to mobile music tune'], ['sport', 'Charvis set to lose fitness bid'], ['sport', 'Chelsea hold Arsenal'], ['business', 'Christmas sales worst since 1981'], ['sport', 'Clijsters set for February return'], ['sport', 'Clyde 0-5 Celtic'], ['sport', 'Coach Ranieri sacked by Valencia'], ['technology', 'Confusion over high-definition TV'], ['business', 'Cuba winds back economic clock'], ['technology', 'DS aims to touch gamers'], ['sport', 'Dawson set for new Wasps contract'], ['business', 'Diageo to buy US wine firm'], ['technology', 'Digital guru floats sub-$100 PC'], ['business', 'EU aiming to fuel development aid'], ['N/A', 'Article no longer available in archive'], ['sport', 'England 17-18 France'], ['business', 'Enron bosses in $168m payout'], ['business', \"Euronext 'poised to make LSE bid'\"], ['business', 'Europe asks Asia for euro help'], ['business', 'Europe blames US over weak dollar'], ['business', \"Fannie Mae 'should restate books'\"], ['technology', \"Featured: 'Brainwave' cap controls computer\"], ['technology', \"Featured: 'Evil twin' fear for wireless net\"], ['technology', \"Featured: 'Friends fear' with lost mobiles\"], ['N/A', 'Article no longer available in archive'], ['business', \"Featured: 'Post-Christmas lull' in lending\"], ['business', 'Fed warns of more US rate rises'], ['sport', 'Federer forced to dig deep'], ['sport', 'Ferguson puts faith in youngsters'], ['business', \"GE sees 'excellent' world economy\"], ['business', 'GM issues 2005 profits warning'], ['technology', 'Gangsters dominate gaming chart'], ['sport', 'Gardener wins double in Glasgow'], ['N/A', 'Article no longer available in archive'], ['business', \"Gazprom 'in $36m back-tax claim'\"], ['business', 'German growth goes into reverse'], ['business', 'Germany calls for EU reform'], ['technology', 'Go-ahead for new internet names'], ['sport', 'Greek duo cleared in doping case'], ['sport', \"Hansen 'delays return until 2006'\"], ['N/A', 'Article no longer available in archive'], ['sport', 'Henman & Murray claim LTA awards'], ['sport', 'Henman decides to quit Davis Cup'], ['technology', 'Hi-tech posters guide commuters'], ['sport', 'Hodgson shoulders England blame'], ['technology', 'Hollywood to sue net film pirates'], ['sport', 'Holmes secures comeback victory'], ['business', 'House prices suffer festive fall'], ['sport', 'IAAF launches fight against drugs'], ['business', 'India-Pakistan peace boosts trade'], ['business', 'Iraqi voters turn to economic issues'], ['sport', 'Jansen suffers a further setback'], ['technology', 'Latest Opera browser gets vocal'], ['business', 'Laura Ashley chief stepping down'], ['technology', 'Learning to love broadband'], ['technology', 'Mac Mini heralds mini revolution'], ['business', \"Macy's owner buys rival for $11bn\"], ['business', 'Madagascar completes currency switch'], ['sport', 'McLeish ready for criticism'], ['technology', 'Mobile games come of age'], ['technology', 'More power to the people says HP'], ['sport', 'Mourinho sends out warning shot'], ['sport', 'Moya suffers shock loss'], ['sport', 'Moyes U-turn on Beattie dismissal'], ['sport', 'Murray returns to Scotland fold'], ['business', 'Mystery surrounds new Yukos owner'], ['sport', 'Off-colour Gardener storms to win'], ['business', 'Oil companies get Russian setback'], ['sport', 'Owen may have to return home'], ['sport', 'Pearce keen on succeeding Keegan'], ['technology', \"Poles play with GameBoy 'blip-pop'\"], ['sport', 'Premier League probes Cole claims'], ['sport', 'Prodigy Monfils blows away Gaudio'], ['technology', 'Remote control rifle range debuts'], ['sport', 'Robinson ready for difficult task'], ['technology', 'Row brewing over peer-to-peer ads'], ['sport', 'Rusedski angry over supplements'], ['business', 'S Korean lender faces liquidation'], ['sport', 'SFA awaits report over Mikoliunas'], ['sport', 'Safin cool on Wimbledon'], ['sport', 'Safin plays down Wimbledon hopes'], ['technology', 'Satellite mapping aids Darfur relief'], ['technology', 'Search sites get closer to users'], ['technology', 'Security scares spark browser fix'], ['business', 'Senior Fannie Mae bosses resign'], ['technology', 'Solutions to net security fears'], ['business', 'Split-caps pay £194m compensation'], ['sport', 'Sports Stock Tips'], ['business', 'Strong quarterly growth for Nike'], ['technology', \"T-Mobile bets on 'pocket office'\"], ['sport', 'Thanou desperate to make return'], ['sport', 'Thompson says Gerrard should stay'], ['sport', 'Time to get tough on friendlies?'], ['technology', 'US peer-to-peer pirates convicted'], ['technology', 'US top of supercomputing charts'], ['business', 'Venezuela and China sign oil deal'], ['business', 'Weak end-of-year sales hit Next'], ['sport', 'Williams says he will never quit'], ['business', \"Winemaker rejects Foster's offer\"], ['business', \"Worldcom boss 'left books alone'\"], ['technology', 'Xbox 2 may be unveiled in summer'], ['technology', \"Xbox power cable 'fire fear'\"], ['business', \"Yangtze Electric's profits double\"], ['business', 'Yukos loses US bankruptcy battle']]\n",
      "[['technology', '21st-Century Sports: How Digital Technology Is Changing the Face Of The Sporting Industry'], ['business', 'Asian quake hits European shares'], ['technology', 'BT offers free net phone calls'], ['business', 'Barclays shares up on merger talk'], ['sport', 'Barkley fit for match in Ireland'], ['sport', 'Bellamy under new fire'], ['sport', \"Benitez 'to launch Morientes bid'\"], ['sport', 'Benitez delight after crucial win'], ['technology', 'Big war games battle it out'], ['technology', 'British Library gets wireless net'], ['sport', \"Brizzel to run AAA's in Sheffield\"], ['business', 'Bush budget seeks deep cutbacks'], ['business', \"Bush to get 'tough' on deficit\"], ['technology', 'Cable offers video-on-demand'], ['technology', 'Cabs collect mountain of mobiles'], ['technology', \"Camera phones are 'must-haves'\"], ['business', \"Card fraudsters 'targeting web'\"], ['business', 'Cash gives way to flexible friend'], ['technology', 'Cebit opens to mobile music tune'], ['sport', 'Charvis set to lose fitness bid'], ['sport', 'Chelsea hold Arsenal'], ['business', 'Christmas sales worst since 1981'], ['sport', 'Clijsters set for February return'], ['sport', 'Clyde 0-5 Celtic'], ['sport', 'Coach Ranieri sacked by Valencia'], ['technology', 'Confusion over high-definition TV'], ['business', 'Cuba winds back economic clock'], ['technology', 'DS aims to touch gamers'], ['sport', 'Dawson set for new Wasps contract'], ['business', 'Diageo to buy US wine firm'], ['technology', 'Digital guru floats sub-$100 PC'], ['business', 'EU aiming to fuel development aid'], ['N/A', 'Article no longer available in archive'], ['sport', 'England 17-18 France'], ['business', 'Enron bosses in $168m payout'], ['business', \"Euronext 'poised to make LSE bid'\"], ['business', 'Europe asks Asia for euro help'], ['business', 'Europe blames US over weak dollar'], ['business', \"Fannie Mae 'should restate books'\"], ['technology', \"Featured: 'Brainwave' cap controls computer\"], ['technology', \"Featured: 'Evil twin' fear for wireless net\"], ['technology', \"Featured: 'Friends fear' with lost mobiles\"], ['N/A', 'Article no longer available in archive'], ['business', \"Featured: 'Post-Christmas lull' in lending\"], ['business', 'Fed warns of more US rate rises'], ['sport', 'Federer forced to dig deep'], ['sport', 'Ferguson puts faith in youngsters'], ['business', \"GE sees 'excellent' world economy\"], ['business', 'GM issues 2005 profits warning'], ['technology', 'Gangsters dominate gaming chart'], ['sport', 'Gardener wins double in Glasgow'], ['N/A', 'Article no longer available in archive'], ['business', \"Gazprom 'in $36m back-tax claim'\"], ['business', 'German growth goes into reverse'], ['business', 'Germany calls for EU reform'], ['technology', 'Go-ahead for new internet names'], ['sport', 'Greek duo cleared in doping case'], ['sport', \"Hansen 'delays return until 2006'\"], ['N/A', 'Article no longer available in archive'], ['sport', 'Henman & Murray claim LTA awards'], ['sport', 'Henman decides to quit Davis Cup'], ['technology', 'Hi-tech posters guide commuters'], ['sport', 'Hodgson shoulders England blame'], ['technology', 'Hollywood to sue net film pirates'], ['sport', 'Holmes secures comeback victory'], ['business', 'House prices suffer festive fall'], ['sport', 'IAAF launches fight against drugs'], ['business', 'India-Pakistan peace boosts trade'], ['business', 'Iraqi voters turn to economic issues'], ['sport', 'Jansen suffers a further setback'], ['technology', 'Latest Opera browser gets vocal'], ['business', 'Laura Ashley chief stepping down'], ['technology', 'Learning to love broadband'], ['technology', 'Mac Mini heralds mini revolution'], ['business', \"Macy's owner buys rival for $11bn\"], ['business', 'Madagascar completes currency switch'], ['sport', 'McLeish ready for criticism'], ['technology', 'Mobile games come of age'], ['technology', 'More power to the people says HP'], ['sport', 'Mourinho sends out warning shot'], ['sport', 'Moya suffers shock loss'], ['sport', 'Moyes U-turn on Beattie dismissal'], ['sport', 'Murray returns to Scotland fold'], ['business', 'Mystery surrounds new Yukos owner'], ['sport', 'Off-colour Gardener storms to win'], ['business', 'Oil companies get Russian setback'], ['sport', 'Owen may have to return home'], ['sport', 'Pearce keen on succeeding Keegan'], ['technology', \"Poles play with GameBoy 'blip-pop'\"], ['sport', 'Premier League probes Cole claims'], ['sport', 'Prodigy Monfils blows away Gaudio'], ['technology', 'Remote control rifle range debuts'], ['sport', 'Robinson ready for difficult task'], ['technology', 'Row brewing over peer-to-peer ads'], ['sport', 'Rusedski angry over supplements'], ['business', 'S Korean lender faces liquidation'], ['sport', 'SFA awaits report over Mikoliunas'], ['sport', 'Safin cool on Wimbledon'], ['sport', 'Safin plays down Wimbledon hopes'], ['technology', 'Satellite mapping aids Darfur relief'], ['technology', 'Search sites get closer to users'], ['technology', 'Security scares spark browser fix'], ['business', 'Senior Fannie Mae bosses resign'], ['technology', 'Solutions to net security fears'], ['business', 'Split-caps pay £194m compensation'], ['sport', 'Sports Stock Tips'], ['business', 'Strong quarterly growth for Nike'], ['technology', \"T-Mobile bets on 'pocket office'\"], ['sport', 'Thanou desperate to make return'], ['sport', 'Thompson says Gerrard should stay'], ['sport', 'Time to get tough on friendlies?'], ['technology', 'US peer-to-peer pirates convicted'], ['technology', 'US top of supercomputing charts'], ['business', 'Venezuela and China sign oil deal'], ['business', 'Weak end-of-year sales hit Next'], ['sport', 'Williams says he will never quit'], ['business', \"Winemaker rejects Foster's offer\"], ['business', \"Worldcom boss 'left books alone'\"], ['technology', 'Xbox 2 may be unveiled in summer'], ['technology', \"Xbox power cable 'fire fear'\"], ['business', \"Yangtze Electric's profits double\"], ['business', 'Yukos loses US bankruptcy battle'], ['business', '7 business technology trends to watch'], ['sport', 'A November to remember'], ['technology', 'A question of trust and technology'], ['business', 'Ad sales boost Time Warner profit'], ['sport', 'African double in Edinburgh'], ['business', 'Air passengers win new EU rights'], ['technology', 'Anti-spam screensaver scrapped'], ['sport', 'Arsenal through on penalties'], ['business', 'BP surges ahead on high oil price'], ['business', 'Bank holds interest rate at 4.75%'], ['business', 'Bank set to leave rates on hold'], ['sport', 'Bekele sets sights on world mark'], ['sport', 'Bitter Santini hits out at Spurs'], ['technology', 'Blogs take on the mainstream'], ['business', \"Brewers' profits lose their fizz\"], ['business', \"Bush to outline 'toughest' budget\"], ['business', \"Buyers snap up Jet Airways' shares\"], ['business', 'Cairn shares up on new oil find'], ['sport', 'Campbell to extend sprint career'], ['sport', 'Celtic make late bid for Bellamy'], ['sport', 'Charlton 1-2 Liverpool'], ['N/A', 'Article no longer available in archive'], ['sport', 'Chepkemei joins Edinburgh line-up'], ['N/A', 'Article no longer available in archive'], ['business', 'Chinese billionaire targets Manchester United shares in new deal, reports suggest'], ['sport', 'Collins calls for Chambers return'], ['technology', 'Commodore finds new lease of life'], ['technology', 'Creator of first Apple Mac dies'], ['sport', 'Cudicini misses Carling Cup final'], ['sport', 'Davenport hits out at Wimbledon'], ['sport', 'Davies favours Gloucester future'], ['business', 'Deutsche Telekom sees mobile gain'], ['sport', 'Dibaba breaks 5,000m world record'], ['sport', 'Dogged Federer claims Dubai crown'], ['business', 'Dollar hovers around record lows'], ['sport', 'Dundee Utd 4-1 Aberdeen'], ['business', 'EC calls truce in deficit battle'], ['business', 'EU-US seeking deal on air dispute'], ['business', 'Egypt and Israel seal trade deal'], ['business', 'Egypt to sell off state-owned bank'], ['sport', 'El Guerrouj targets cross country'], ['sport', 'FA ready to test out goal bleeper'], ['N/A', 'Article no longer available in archive'], ['business', 'FBI agent colludes with analyst'], ['technology', 'Fast moving phone bugs appear'], ['N/A', 'Article no longer available in archive'], ['sport', 'Ferguson fears Milan cutting edge'], ['sport', 'Finnan says Irish can win group'], ['sport', 'Fit-again Betsen in France squad'], ['business', 'Five million Germans out of work'], ['technology', \"Format wars could 'confuse users'\"], ['sport', 'Giggs handed Wales leading role'], ['technology', 'Gritty return for Prince of Persia'], ['sport', 'Hewitt survives Nalbandian epic'], ['business', 'Honda wins China copyright ruling'], ['business', 'India seeks to boost construction'], ['business', \"India's Deccan gets more planes\"], ['business', 'Indy buys into India paper'], ['business', 'Intercom raises €101m in funding round making it the most valuable Irish tech firm'], ['business', 'Iranian MPs threaten mobile deal'], ['business', 'Irish company hit by Iraqi report'], ['sport', 'Italy aim to rattle England'], ['business', 'Italy to get economic action plan'], ['sport', \"Juninho demand for O'Neill talks\"], ['sport', 'Kenyon denies Robben Barca return'], ['sport', 'Kerr frustrated at victory margin'], ['sport', 'Klinsmann issues Lehmann warning'], ['business', \"LSE 'sets date for takeover deal'\"], ['sport', 'Lewis-Francis eyeing world gold'], ['technology', \"Lifestyle 'governs mobile choice'\"], ['technology', 'Looks and music to drive mobiles'], ['sport', 'Man Utd through after Exeter test'], ['sport', 'Martinez sees off Vinci challenge'], ['technology', 'Microsoft makes anti-piracy move'], ['sport', 'Middlesbrough 2-2 Charlton'], ['sport', 'Mido makes third apology'], ['technology', 'Millions buy MP3 players in US'], ['business', 'Mixed signals from French economy'], ['technology', 'Mobile picture power in your pocket'], ['sport', 'Moore questions captaincy'], ['sport', 'More Africans for tsunami game'], ['sport', 'Murphy: That was a bruising battle'], ['sport', 'Navratilova hits out at critics'], ['sport', \"O'Driscoll out of Scotland game\"], ['sport', \"O'Gara revels in Ireland victory\"], ['sport', 'Owen dismisses fresh Real rumours'], ['technology', \"PC ownership to 'double by 2010'\"], ['sport', 'Paris promise raises Welsh hopes'], ['business', 'Parmalat sues 45 banks over crash'], ['technology', 'Progress on new internet domains'], ['business', 'Qantas considers offshore option'], ['sport', 'Radcliffe tackles marathon tasks'], ['sport', 'Rangers seal Old Firm win'], ['sport', 'Record fails to lift lacklustre meet'], ['business', 'Record year for Chilean copper'], ['sport', 'Republic to face China and Italy'], ['sport', 'Robben sidelined with broken foot'], ['technology', \"Robots learn 'robotiquette' rules\"], ['technology', \"Rolling out next generation's net\"], ['business', \"Russia WTO talks 'make progress'\"], ['technology', 'Screensaver tackles spam websites'], ['technology', 'Slim PlayStation triples sales'], ['business', 'Standard Life concern at LSE bid'], ['business', \"Steel firm 'to cut' 45,000 jobs\"], ['sport', 'Stuart joins Norwich from Addicks'], ['N/A', 'Article no longer available in archive'], ['technology', 'Sun offers processing by the hour'], ['technology', 'Tech helps disabled speed demons'], ['technology', 'Telewest to challenge Sky Plus'], ['sport', 'Thanou bullish over drugs hearing'], ['technology', 'The Force is strong in Battlefront'], ['technology', 'The gaming world in 2005'], ['business', 'Turkey knocks six zeros off lira'], ['business', 'UK Coal plunges into deeper loss'], ['business', 'US trade gap ballooned in October'], ['business', 'Unilever shake up as profit slips'], ['sport', 'Wales get Williams fitness boost'], ['sport', 'Wales stars need a rest - Ruddock'], ['business', \"Wall Street cool to eBay's profit\"], ['technology', 'Warnings about junk mail deluge'], ['technology', 'Web radio takes Spanish rap global'], ['sport', 'Wenger shock at Newcastle dip'], ['technology', 'When invention turns to innovation'], ['technology', 'Who do you think you are?'], ['sport', 'Wilkinson to miss Ireland match'], ['business', 'Winn-Dixie files for bankruptcy'], ['business', 'Yukos sues four firms for $20bn']]\n"
     ]
    },
    {
     "name": "stdout",
     "output_type": "stream",
     "text": [
      "[['technology', '21st-Century Sports: How Digital Technology Is Changing the Face Of The Sporting Industry'], ['business', 'Asian quake hits European shares'], ['technology', 'BT offers free net phone calls'], ['business', 'Barclays shares up on merger talk'], ['sport', 'Barkley fit for match in Ireland'], ['sport', 'Bellamy under new fire'], ['sport', \"Benitez 'to launch Morientes bid'\"], ['sport', 'Benitez delight after crucial win'], ['technology', 'Big war games battle it out'], ['technology', 'British Library gets wireless net'], ['sport', \"Brizzel to run AAA's in Sheffield\"], ['business', 'Bush budget seeks deep cutbacks'], ['business', \"Bush to get 'tough' on deficit\"], ['technology', 'Cable offers video-on-demand'], ['technology', 'Cabs collect mountain of mobiles'], ['technology', \"Camera phones are 'must-haves'\"], ['business', \"Card fraudsters 'targeting web'\"], ['business', 'Cash gives way to flexible friend'], ['technology', 'Cebit opens to mobile music tune'], ['sport', 'Charvis set to lose fitness bid'], ['sport', 'Chelsea hold Arsenal'], ['business', 'Christmas sales worst since 1981'], ['sport', 'Clijsters set for February return'], ['sport', 'Clyde 0-5 Celtic'], ['sport', 'Coach Ranieri sacked by Valencia'], ['technology', 'Confusion over high-definition TV'], ['business', 'Cuba winds back economic clock'], ['technology', 'DS aims to touch gamers'], ['sport', 'Dawson set for new Wasps contract'], ['business', 'Diageo to buy US wine firm'], ['technology', 'Digital guru floats sub-$100 PC'], ['business', 'EU aiming to fuel development aid'], ['N/A', 'Article no longer available in archive'], ['sport', 'England 17-18 France'], ['business', 'Enron bosses in $168m payout'], ['business', \"Euronext 'poised to make LSE bid'\"], ['business', 'Europe asks Asia for euro help'], ['business', 'Europe blames US over weak dollar'], ['business', \"Fannie Mae 'should restate books'\"], ['technology', \"Featured: 'Brainwave' cap controls computer\"], ['technology', \"Featured: 'Evil twin' fear for wireless net\"], ['technology', \"Featured: 'Friends fear' with lost mobiles\"], ['N/A', 'Article no longer available in archive'], ['business', \"Featured: 'Post-Christmas lull' in lending\"], ['business', 'Fed warns of more US rate rises'], ['sport', 'Federer forced to dig deep'], ['sport', 'Ferguson puts faith in youngsters'], ['business', \"GE sees 'excellent' world economy\"], ['business', 'GM issues 2005 profits warning'], ['technology', 'Gangsters dominate gaming chart'], ['sport', 'Gardener wins double in Glasgow'], ['N/A', 'Article no longer available in archive'], ['business', \"Gazprom 'in $36m back-tax claim'\"], ['business', 'German growth goes into reverse'], ['business', 'Germany calls for EU reform'], ['technology', 'Go-ahead for new internet names'], ['sport', 'Greek duo cleared in doping case'], ['sport', \"Hansen 'delays return until 2006'\"], ['N/A', 'Article no longer available in archive'], ['sport', 'Henman & Murray claim LTA awards'], ['sport', 'Henman decides to quit Davis Cup'], ['technology', 'Hi-tech posters guide commuters'], ['sport', 'Hodgson shoulders England blame'], ['technology', 'Hollywood to sue net film pirates'], ['sport', 'Holmes secures comeback victory'], ['business', 'House prices suffer festive fall'], ['sport', 'IAAF launches fight against drugs'], ['business', 'India-Pakistan peace boosts trade'], ['business', 'Iraqi voters turn to economic issues'], ['sport', 'Jansen suffers a further setback'], ['technology', 'Latest Opera browser gets vocal'], ['business', 'Laura Ashley chief stepping down'], ['technology', 'Learning to love broadband'], ['technology', 'Mac Mini heralds mini revolution'], ['business', \"Macy's owner buys rival for $11bn\"], ['business', 'Madagascar completes currency switch'], ['sport', 'McLeish ready for criticism'], ['technology', 'Mobile games come of age'], ['technology', 'More power to the people says HP'], ['sport', 'Mourinho sends out warning shot'], ['sport', 'Moya suffers shock loss'], ['sport', 'Moyes U-turn on Beattie dismissal'], ['sport', 'Murray returns to Scotland fold'], ['business', 'Mystery surrounds new Yukos owner'], ['sport', 'Off-colour Gardener storms to win'], ['business', 'Oil companies get Russian setback'], ['sport', 'Owen may have to return home'], ['sport', 'Pearce keen on succeeding Keegan'], ['technology', \"Poles play with GameBoy 'blip-pop'\"], ['sport', 'Premier League probes Cole claims'], ['sport', 'Prodigy Monfils blows away Gaudio'], ['technology', 'Remote control rifle range debuts'], ['sport', 'Robinson ready for difficult task'], ['technology', 'Row brewing over peer-to-peer ads'], ['sport', 'Rusedski angry over supplements'], ['business', 'S Korean lender faces liquidation'], ['sport', 'SFA awaits report over Mikoliunas'], ['sport', 'Safin cool on Wimbledon'], ['sport', 'Safin plays down Wimbledon hopes'], ['technology', 'Satellite mapping aids Darfur relief'], ['technology', 'Search sites get closer to users'], ['technology', 'Security scares spark browser fix'], ['business', 'Senior Fannie Mae bosses resign'], ['technology', 'Solutions to net security fears'], ['business', 'Split-caps pay £194m compensation'], ['sport', 'Sports Stock Tips'], ['business', 'Strong quarterly growth for Nike'], ['technology', \"T-Mobile bets on 'pocket office'\"], ['sport', 'Thanou desperate to make return'], ['sport', 'Thompson says Gerrard should stay'], ['sport', 'Time to get tough on friendlies?'], ['technology', 'US peer-to-peer pirates convicted'], ['technology', 'US top of supercomputing charts'], ['business', 'Venezuela and China sign oil deal'], ['business', 'Weak end-of-year sales hit Next'], ['sport', 'Williams says he will never quit'], ['business', \"Winemaker rejects Foster's offer\"], ['business', \"Worldcom boss 'left books alone'\"], ['technology', 'Xbox 2 may be unveiled in summer'], ['technology', \"Xbox power cable 'fire fear'\"], ['business', \"Yangtze Electric's profits double\"], ['business', 'Yukos loses US bankruptcy battle'], ['business', '7 business technology trends to watch'], ['sport', 'A November to remember'], ['technology', 'A question of trust and technology'], ['business', 'Ad sales boost Time Warner profit'], ['sport', 'African double in Edinburgh'], ['business', 'Air passengers win new EU rights'], ['technology', 'Anti-spam screensaver scrapped'], ['sport', 'Arsenal through on penalties'], ['business', 'BP surges ahead on high oil price'], ['business', 'Bank holds interest rate at 4.75%'], ['business', 'Bank set to leave rates on hold'], ['sport', 'Bekele sets sights on world mark'], ['sport', 'Bitter Santini hits out at Spurs'], ['technology', 'Blogs take on the mainstream'], ['business', \"Brewers' profits lose their fizz\"], ['business', \"Bush to outline 'toughest' budget\"], ['business', \"Buyers snap up Jet Airways' shares\"], ['business', 'Cairn shares up on new oil find'], ['sport', 'Campbell to extend sprint career'], ['sport', 'Celtic make late bid for Bellamy'], ['sport', 'Charlton 1-2 Liverpool'], ['N/A', 'Article no longer available in archive'], ['sport', 'Chepkemei joins Edinburgh line-up'], ['N/A', 'Article no longer available in archive'], ['business', 'Chinese billionaire targets Manchester United shares in new deal, reports suggest'], ['sport', 'Collins calls for Chambers return'], ['technology', 'Commodore finds new lease of life'], ['technology', 'Creator of first Apple Mac dies'], ['sport', 'Cudicini misses Carling Cup final'], ['sport', 'Davenport hits out at Wimbledon'], ['sport', 'Davies favours Gloucester future'], ['business', 'Deutsche Telekom sees mobile gain'], ['sport', 'Dibaba breaks 5,000m world record'], ['sport', 'Dogged Federer claims Dubai crown'], ['business', 'Dollar hovers around record lows'], ['sport', 'Dundee Utd 4-1 Aberdeen'], ['business', 'EC calls truce in deficit battle'], ['business', 'EU-US seeking deal on air dispute'], ['business', 'Egypt and Israel seal trade deal'], ['business', 'Egypt to sell off state-owned bank'], ['sport', 'El Guerrouj targets cross country'], ['sport', 'FA ready to test out goal bleeper'], ['N/A', 'Article no longer available in archive'], ['business', 'FBI agent colludes with analyst'], ['technology', 'Fast moving phone bugs appear'], ['N/A', 'Article no longer available in archive'], ['sport', 'Ferguson fears Milan cutting edge'], ['sport', 'Finnan says Irish can win group'], ['sport', 'Fit-again Betsen in France squad'], ['business', 'Five million Germans out of work'], ['technology', \"Format wars could 'confuse users'\"], ['sport', 'Giggs handed Wales leading role'], ['technology', 'Gritty return for Prince of Persia'], ['sport', 'Hewitt survives Nalbandian epic'], ['business', 'Honda wins China copyright ruling'], ['business', 'India seeks to boost construction'], ['business', \"India's Deccan gets more planes\"], ['business', 'Indy buys into India paper'], ['business', 'Intercom raises €101m in funding round making it the most valuable Irish tech firm'], ['business', 'Iranian MPs threaten mobile deal'], ['business', 'Irish company hit by Iraqi report'], ['sport', 'Italy aim to rattle England'], ['business', 'Italy to get economic action plan'], ['sport', \"Juninho demand for O'Neill talks\"], ['sport', 'Kenyon denies Robben Barca return'], ['sport', 'Kerr frustrated at victory margin'], ['sport', 'Klinsmann issues Lehmann warning'], ['business', \"LSE 'sets date for takeover deal'\"], ['sport', 'Lewis-Francis eyeing world gold'], ['technology', \"Lifestyle 'governs mobile choice'\"], ['technology', 'Looks and music to drive mobiles'], ['sport', 'Man Utd through after Exeter test'], ['sport', 'Martinez sees off Vinci challenge'], ['technology', 'Microsoft makes anti-piracy move'], ['sport', 'Middlesbrough 2-2 Charlton'], ['sport', 'Mido makes third apology'], ['technology', 'Millions buy MP3 players in US'], ['business', 'Mixed signals from French economy'], ['technology', 'Mobile picture power in your pocket'], ['sport', 'Moore questions captaincy'], ['sport', 'More Africans for tsunami game'], ['sport', 'Murphy: That was a bruising battle'], ['sport', 'Navratilova hits out at critics'], ['sport', \"O'Driscoll out of Scotland game\"], ['sport', \"O'Gara revels in Ireland victory\"], ['sport', 'Owen dismisses fresh Real rumours'], ['technology', \"PC ownership to 'double by 2010'\"], ['sport', 'Paris promise raises Welsh hopes'], ['business', 'Parmalat sues 45 banks over crash'], ['technology', 'Progress on new internet domains'], ['business', 'Qantas considers offshore option'], ['sport', 'Radcliffe tackles marathon tasks'], ['sport', 'Rangers seal Old Firm win'], ['sport', 'Record fails to lift lacklustre meet'], ['business', 'Record year for Chilean copper'], ['sport', 'Republic to face China and Italy'], ['sport', 'Robben sidelined with broken foot'], ['technology', \"Robots learn 'robotiquette' rules\"], ['technology', \"Rolling out next generation's net\"], ['business', \"Russia WTO talks 'make progress'\"], ['technology', 'Screensaver tackles spam websites'], ['technology', 'Slim PlayStation triples sales'], ['business', 'Standard Life concern at LSE bid'], ['business', \"Steel firm 'to cut' 45,000 jobs\"], ['sport', 'Stuart joins Norwich from Addicks'], ['N/A', 'Article no longer available in archive'], ['technology', 'Sun offers processing by the hour'], ['technology', 'Tech helps disabled speed demons'], ['technology', 'Telewest to challenge Sky Plus'], ['sport', 'Thanou bullish over drugs hearing'], ['technology', 'The Force is strong in Battlefront'], ['technology', 'The gaming world in 2005'], ['business', 'Turkey knocks six zeros off lira'], ['business', 'UK Coal plunges into deeper loss'], ['business', 'US trade gap ballooned in October'], ['business', 'Unilever shake up as profit slips'], ['sport', 'Wales get Williams fitness boost'], ['sport', 'Wales stars need a rest - Ruddock'], ['business', \"Wall Street cool to eBay's profit\"], ['technology', 'Warnings about junk mail deluge'], ['technology', 'Web radio takes Spanish rap global'], ['sport', 'Wenger shock at Newcastle dip'], ['technology', 'When invention turns to innovation'], ['technology', 'Who do you think you are?'], ['sport', 'Wilkinson to miss Ireland match'], ['business', 'Winn-Dixie files for bankruptcy'], ['business', 'Yukos sues four firms for $20bn'], ['sport', 'A year to remember for Irish'], ['sport', 'An Irish Athletics Year'], ['sport', 'Arnesen denies rift with Santini'], ['business', 'Asia shares defy post-quake gloom'], ['business', 'Bank payout to Pinochet victims'], ['sport', 'Barcelona title hopes hit by loss'], ['business', 'Bargain calls widen Softbank loss'], ['sport', 'Bayern Munich 3-1 Arsenal'], ['sport', 'Benitez deflects blame from Dudek'], ['technology', 'Blog reading explodes in America'], ['technology', 'Broadband challenges TV viewing'], ['technology', 'Broadband in the UK growing fast'], ['sport', 'Calder fears for Scottish rugby'], ['sport', 'Captains lining up for Aid match'], ['sport', 'Celts savour Grand Slam prospect'], ['sport', 'Chelsea ridiculed over complaint'], ['business', 'China keeps tight rein on credit'], ['technology', 'China net cafe culture crackdown'], ['business', 'China suspends 26 power projects'], ['business', 'Christmas shoppers flock to tills'], ['sport', 'Collins named UK Athletics chief'], ['technology', 'Court mulls file-sharing future'], ['business', 'Crude oil prices back above $50'], ['technology', 'Cyber criminals step up the pace'], ['technology', 'DVD copy protection strengthened'], ['business', 'Deutsche attacks Yukos case'], ['sport', 'Disappointed Scott in solid start'], ['business', 'Durex maker SSL awaits firm bid'], ['technology', 'EA to take on film and TV giants'], ['sport', 'Edu blasts Arsenal'], ['N/A', 'Article no longer available in archive'], ['technology', 'Europe backs digital TV lifestyle'], ['sport', 'Farrell saga to drag on - Lindsay'], ['business', \"Featured: 'Golden economic period' to end\"], ['business', 'Feta cheese battle reaches court'], ['business', 'Firms pump billions into pensions'], ['technology', 'First look at PlayStation 3 chip'], ['business', 'Ford gains from finance not cars'], ['sport', 'Fuming Robinson blasts officials'], ['sport', 'GB quartet get cross country call'], ['technology', \"Gadget market 'to grow in 2005'\"], ['technology', 'Gadgets galore on show at fair'], ['technology', \"Games help you 'learn and play'\"], ['business', 'Gaming firm to sell UK dog tracks'], ['business', 'Germany nears 1990 jobless level'], ['sport', 'Greek pair attend drugs hearing'], ['sport', 'Gronkjaer agrees switch to Madrid'], ['N/A', 'Article no longer available in archive'], ['technology', \"Half of UK's mobiles 'go online'\"], ['sport', 'Hantuchova in Dubai last eight'], ['technology', 'Have hackers recruited your PC?'], ['sport', 'Healey targets England comeback'], ['business', 'High fuel costs hit US airlines'], ['business', \"High fuel prices hit BA's profits\"], ['technology', 'Hotspot users gain free net calls'], ['business', 'House prices drop as sales slow'], ['business', 'House prices show slight increase'], ['technology', 'ITunes user sues Apple over iPod'], ['business', 'India widens access to telecoms'], ['technology', 'Iran jails blogger for 14 years'], ['business', 'Irish duo could block Man Utd bid'], ['sport', 'Italy 8-38 Wales'], ['sport', 'Johnson uncertain about Euro bid'], ['sport', 'Kirwan demands Italy consistency'], ['business', 'Liberian economy starts to grow'], ['business', 'Malaysia lifts Islamic bank limit'], ['sport', 'Man Utd stroll to Cup win'], ['technology', 'Man auctions ad space on forehead'], ['business', \"Manufacturing recovery 'slowing'\"], ['business', 'Markets signal Brazilian recovery'], ['sport', 'Merritt close to indoor 400m mark'], ['technology', 'Microsoft debuts security tools'], ['technology', 'Microsoft releases patches'], ['business', 'Minister hits out at Yukos sale'], ['sport', 'Mirza shocks Kuznetsova'], ['N/A', 'Article no longer available in archive'], ['sport', 'Mourinho receives Robson warning'], ['sport', 'Moya emotional after Davis Cup win'], ['business', 'Nasdaq planning $100m share sale'], ['sport', 'Newcastle 2-1 Bolton'], ['sport', 'Newcastle to join Morientes race'], ['business', 'News Corp makes $5.4bn Fox offer'], ['business', 'Nigeria to boost cocoa production'], ['technology', 'Nintendo DS aims to touch gamers'], ['business', 'Novartis hits acquisition trail'], ['business', \"Profits stall at China's Lenovo\"], ['business', 'Putin backs state grab for Yukos'], ['business', 'Quiksilver moves for Rossignol'], ['sport', 'Redknapp poised for Saints'], ['sport', 'Robertson out to retain Euro lure'], ['technology', 'Seamen sail into biometric future'], ['business', 'Singapore growth at 8.1% in 2004'], ['N/A', 'Article no longer available in archive'], ['sport', 'Slovakia reach Hopman Cup final'], ['sport', 'Sociedad set to rescue Mladenovic'], ['technology', 'Sony wares win innovation award'], ['business', 'Soros group warns of Kazakh close'], ['technology', 'Sport-loving inventors whose tech could change the game'], ['sport', 'Sprinter Walker quits athletics'], ['N/A', 'Article no longer available in archive'], ['business', 'Stock market eyes Japan recovery'], ['business', 'Swiss cement firm in buying spree'], ['technology', 'Text message record smashed'], ['technology', 'The pirates with no profit motive'], ['business', 'Tsunami to cost Sri Lanka $1.3bn'], ['sport', 'UK Athletics agrees new kit deal'], ['technology', 'US cyber security chief resigns'], ['technology', 'US hacker breaks into T-Mobile'], ['business', 'US industrial output growth eases'], ['business', 'US insurer Marsh cuts 2,500 jobs'], ['business', 'US manufacturing expands'], ['business', 'US to rule on Yukos refuge call'], ['sport', 'Van Nistelrooy set to return'], ['sport', 'Vickery upbeat about arm injury'], ['technology', 'Video phones act as dating tools'], ['business', 'Virgin Blue shares plummet 20%'], ['N/A', 'Article no longer available in archive'], ['sport', 'Wada will appeal against ruling'], ['sport', 'Wales critical of clumsy Grewcock'], ['sport', 'Wales silent on Grand Slam talk'], ['sport', 'Wenger rules out new keeper'], ['sport', 'Wenger signs new deal']]\n"
     ]
    },
    {
     "name": "stdout",
     "output_type": "stream",
     "text": [
      "[['technology', '21st-Century Sports: How Digital Technology Is Changing the Face Of The Sporting Industry'], ['business', 'Asian quake hits European shares'], ['technology', 'BT offers free net phone calls'], ['business', 'Barclays shares up on merger talk'], ['sport', 'Barkley fit for match in Ireland'], ['sport', 'Bellamy under new fire'], ['sport', \"Benitez 'to launch Morientes bid'\"], ['sport', 'Benitez delight after crucial win'], ['technology', 'Big war games battle it out'], ['technology', 'British Library gets wireless net'], ['sport', \"Brizzel to run AAA's in Sheffield\"], ['business', 'Bush budget seeks deep cutbacks'], ['business', \"Bush to get 'tough' on deficit\"], ['technology', 'Cable offers video-on-demand'], ['technology', 'Cabs collect mountain of mobiles'], ['technology', \"Camera phones are 'must-haves'\"], ['business', \"Card fraudsters 'targeting web'\"], ['business', 'Cash gives way to flexible friend'], ['technology', 'Cebit opens to mobile music tune'], ['sport', 'Charvis set to lose fitness bid'], ['sport', 'Chelsea hold Arsenal'], ['business', 'Christmas sales worst since 1981'], ['sport', 'Clijsters set for February return'], ['sport', 'Clyde 0-5 Celtic'], ['sport', 'Coach Ranieri sacked by Valencia'], ['technology', 'Confusion over high-definition TV'], ['business', 'Cuba winds back economic clock'], ['technology', 'DS aims to touch gamers'], ['sport', 'Dawson set for new Wasps contract'], ['business', 'Diageo to buy US wine firm'], ['technology', 'Digital guru floats sub-$100 PC'], ['business', 'EU aiming to fuel development aid'], ['N/A', 'Article no longer available in archive'], ['sport', 'England 17-18 France'], ['business', 'Enron bosses in $168m payout'], ['business', \"Euronext 'poised to make LSE bid'\"], ['business', 'Europe asks Asia for euro help'], ['business', 'Europe blames US over weak dollar'], ['business', \"Fannie Mae 'should restate books'\"], ['technology', \"Featured: 'Brainwave' cap controls computer\"], ['technology', \"Featured: 'Evil twin' fear for wireless net\"], ['technology', \"Featured: 'Friends fear' with lost mobiles\"], ['N/A', 'Article no longer available in archive'], ['business', \"Featured: 'Post-Christmas lull' in lending\"], ['business', 'Fed warns of more US rate rises'], ['sport', 'Federer forced to dig deep'], ['sport', 'Ferguson puts faith in youngsters'], ['business', \"GE sees 'excellent' world economy\"], ['business', 'GM issues 2005 profits warning'], ['technology', 'Gangsters dominate gaming chart'], ['sport', 'Gardener wins double in Glasgow'], ['N/A', 'Article no longer available in archive'], ['business', \"Gazprom 'in $36m back-tax claim'\"], ['business', 'German growth goes into reverse'], ['business', 'Germany calls for EU reform'], ['technology', 'Go-ahead for new internet names'], ['sport', 'Greek duo cleared in doping case'], ['sport', \"Hansen 'delays return until 2006'\"], ['N/A', 'Article no longer available in archive'], ['sport', 'Henman & Murray claim LTA awards'], ['sport', 'Henman decides to quit Davis Cup'], ['technology', 'Hi-tech posters guide commuters'], ['sport', 'Hodgson shoulders England blame'], ['technology', 'Hollywood to sue net film pirates'], ['sport', 'Holmes secures comeback victory'], ['business', 'House prices suffer festive fall'], ['sport', 'IAAF launches fight against drugs'], ['business', 'India-Pakistan peace boosts trade'], ['business', 'Iraqi voters turn to economic issues'], ['sport', 'Jansen suffers a further setback'], ['technology', 'Latest Opera browser gets vocal'], ['business', 'Laura Ashley chief stepping down'], ['technology', 'Learning to love broadband'], ['technology', 'Mac Mini heralds mini revolution'], ['business', \"Macy's owner buys rival for $11bn\"], ['business', 'Madagascar completes currency switch'], ['sport', 'McLeish ready for criticism'], ['technology', 'Mobile games come of age'], ['technology', 'More power to the people says HP'], ['sport', 'Mourinho sends out warning shot'], ['sport', 'Moya suffers shock loss'], ['sport', 'Moyes U-turn on Beattie dismissal'], ['sport', 'Murray returns to Scotland fold'], ['business', 'Mystery surrounds new Yukos owner'], ['sport', 'Off-colour Gardener storms to win'], ['business', 'Oil companies get Russian setback'], ['sport', 'Owen may have to return home'], ['sport', 'Pearce keen on succeeding Keegan'], ['technology', \"Poles play with GameBoy 'blip-pop'\"], ['sport', 'Premier League probes Cole claims'], ['sport', 'Prodigy Monfils blows away Gaudio'], ['technology', 'Remote control rifle range debuts'], ['sport', 'Robinson ready for difficult task'], ['technology', 'Row brewing over peer-to-peer ads'], ['sport', 'Rusedski angry over supplements'], ['business', 'S Korean lender faces liquidation'], ['sport', 'SFA awaits report over Mikoliunas'], ['sport', 'Safin cool on Wimbledon'], ['sport', 'Safin plays down Wimbledon hopes'], ['technology', 'Satellite mapping aids Darfur relief'], ['technology', 'Search sites get closer to users'], ['technology', 'Security scares spark browser fix'], ['business', 'Senior Fannie Mae bosses resign'], ['technology', 'Solutions to net security fears'], ['business', 'Split-caps pay £194m compensation'], ['sport', 'Sports Stock Tips'], ['business', 'Strong quarterly growth for Nike'], ['technology', \"T-Mobile bets on 'pocket office'\"], ['sport', 'Thanou desperate to make return'], ['sport', 'Thompson says Gerrard should stay'], ['sport', 'Time to get tough on friendlies?'], ['technology', 'US peer-to-peer pirates convicted'], ['technology', 'US top of supercomputing charts'], ['business', 'Venezuela and China sign oil deal'], ['business', 'Weak end-of-year sales hit Next'], ['sport', 'Williams says he will never quit'], ['business', \"Winemaker rejects Foster's offer\"], ['business', \"Worldcom boss 'left books alone'\"], ['technology', 'Xbox 2 may be unveiled in summer'], ['technology', \"Xbox power cable 'fire fear'\"], ['business', \"Yangtze Electric's profits double\"], ['business', 'Yukos loses US bankruptcy battle'], ['business', '7 business technology trends to watch'], ['sport', 'A November to remember'], ['technology', 'A question of trust and technology'], ['business', 'Ad sales boost Time Warner profit'], ['sport', 'African double in Edinburgh'], ['business', 'Air passengers win new EU rights'], ['technology', 'Anti-spam screensaver scrapped'], ['sport', 'Arsenal through on penalties'], ['business', 'BP surges ahead on high oil price'], ['business', 'Bank holds interest rate at 4.75%'], ['business', 'Bank set to leave rates on hold'], ['sport', 'Bekele sets sights on world mark'], ['sport', 'Bitter Santini hits out at Spurs'], ['technology', 'Blogs take on the mainstream'], ['business', \"Brewers' profits lose their fizz\"], ['business', \"Bush to outline 'toughest' budget\"], ['business', \"Buyers snap up Jet Airways' shares\"], ['business', 'Cairn shares up on new oil find'], ['sport', 'Campbell to extend sprint career'], ['sport', 'Celtic make late bid for Bellamy'], ['sport', 'Charlton 1-2 Liverpool'], ['N/A', 'Article no longer available in archive'], ['sport', 'Chepkemei joins Edinburgh line-up'], ['N/A', 'Article no longer available in archive'], ['business', 'Chinese billionaire targets Manchester United shares in new deal, reports suggest'], ['sport', 'Collins calls for Chambers return'], ['technology', 'Commodore finds new lease of life'], ['technology', 'Creator of first Apple Mac dies'], ['sport', 'Cudicini misses Carling Cup final'], ['sport', 'Davenport hits out at Wimbledon'], ['sport', 'Davies favours Gloucester future'], ['business', 'Deutsche Telekom sees mobile gain'], ['sport', 'Dibaba breaks 5,000m world record'], ['sport', 'Dogged Federer claims Dubai crown'], ['business', 'Dollar hovers around record lows'], ['sport', 'Dundee Utd 4-1 Aberdeen'], ['business', 'EC calls truce in deficit battle'], ['business', 'EU-US seeking deal on air dispute'], ['business', 'Egypt and Israel seal trade deal'], ['business', 'Egypt to sell off state-owned bank'], ['sport', 'El Guerrouj targets cross country'], ['sport', 'FA ready to test out goal bleeper'], ['N/A', 'Article no longer available in archive'], ['business', 'FBI agent colludes with analyst'], ['technology', 'Fast moving phone bugs appear'], ['N/A', 'Article no longer available in archive'], ['sport', 'Ferguson fears Milan cutting edge'], ['sport', 'Finnan says Irish can win group'], ['sport', 'Fit-again Betsen in France squad'], ['business', 'Five million Germans out of work'], ['technology', \"Format wars could 'confuse users'\"], ['sport', 'Giggs handed Wales leading role'], ['technology', 'Gritty return for Prince of Persia'], ['sport', 'Hewitt survives Nalbandian epic'], ['business', 'Honda wins China copyright ruling'], ['business', 'India seeks to boost construction'], ['business', \"India's Deccan gets more planes\"], ['business', 'Indy buys into India paper'], ['business', 'Intercom raises €101m in funding round making it the most valuable Irish tech firm'], ['business', 'Iranian MPs threaten mobile deal'], ['business', 'Irish company hit by Iraqi report'], ['sport', 'Italy aim to rattle England'], ['business', 'Italy to get economic action plan'], ['sport', \"Juninho demand for O'Neill talks\"], ['sport', 'Kenyon denies Robben Barca return'], ['sport', 'Kerr frustrated at victory margin'], ['sport', 'Klinsmann issues Lehmann warning'], ['business', \"LSE 'sets date for takeover deal'\"], ['sport', 'Lewis-Francis eyeing world gold'], ['technology', \"Lifestyle 'governs mobile choice'\"], ['technology', 'Looks and music to drive mobiles'], ['sport', 'Man Utd through after Exeter test'], ['sport', 'Martinez sees off Vinci challenge'], ['technology', 'Microsoft makes anti-piracy move'], ['sport', 'Middlesbrough 2-2 Charlton'], ['sport', 'Mido makes third apology'], ['technology', 'Millions buy MP3 players in US'], ['business', 'Mixed signals from French economy'], ['technology', 'Mobile picture power in your pocket'], ['sport', 'Moore questions captaincy'], ['sport', 'More Africans for tsunami game'], ['sport', 'Murphy: That was a bruising battle'], ['sport', 'Navratilova hits out at critics'], ['sport', \"O'Driscoll out of Scotland game\"], ['sport', \"O'Gara revels in Ireland victory\"], ['sport', 'Owen dismisses fresh Real rumours'], ['technology', \"PC ownership to 'double by 2010'\"], ['sport', 'Paris promise raises Welsh hopes'], ['business', 'Parmalat sues 45 banks over crash'], ['technology', 'Progress on new internet domains'], ['business', 'Qantas considers offshore option'], ['sport', 'Radcliffe tackles marathon tasks'], ['sport', 'Rangers seal Old Firm win'], ['sport', 'Record fails to lift lacklustre meet'], ['business', 'Record year for Chilean copper'], ['sport', 'Republic to face China and Italy'], ['sport', 'Robben sidelined with broken foot'], ['technology', \"Robots learn 'robotiquette' rules\"], ['technology', \"Rolling out next generation's net\"], ['business', \"Russia WTO talks 'make progress'\"], ['technology', 'Screensaver tackles spam websites'], ['technology', 'Slim PlayStation triples sales'], ['business', 'Standard Life concern at LSE bid'], ['business', \"Steel firm 'to cut' 45,000 jobs\"], ['sport', 'Stuart joins Norwich from Addicks'], ['N/A', 'Article no longer available in archive'], ['technology', 'Sun offers processing by the hour'], ['technology', 'Tech helps disabled speed demons'], ['technology', 'Telewest to challenge Sky Plus'], ['sport', 'Thanou bullish over drugs hearing'], ['technology', 'The Force is strong in Battlefront'], ['technology', 'The gaming world in 2005'], ['business', 'Turkey knocks six zeros off lira'], ['business', 'UK Coal plunges into deeper loss'], ['business', 'US trade gap ballooned in October'], ['business', 'Unilever shake up as profit slips'], ['sport', 'Wales get Williams fitness boost'], ['sport', 'Wales stars need a rest - Ruddock'], ['business', \"Wall Street cool to eBay's profit\"], ['technology', 'Warnings about junk mail deluge'], ['technology', 'Web radio takes Spanish rap global'], ['sport', 'Wenger shock at Newcastle dip'], ['technology', 'When invention turns to innovation'], ['technology', 'Who do you think you are?'], ['sport', 'Wilkinson to miss Ireland match'], ['business', 'Winn-Dixie files for bankruptcy'], ['business', 'Yukos sues four firms for $20bn'], ['sport', 'A year to remember for Irish'], ['sport', 'An Irish Athletics Year'], ['sport', 'Arnesen denies rift with Santini'], ['business', 'Asia shares defy post-quake gloom'], ['business', 'Bank payout to Pinochet victims'], ['sport', 'Barcelona title hopes hit by loss'], ['business', 'Bargain calls widen Softbank loss'], ['sport', 'Bayern Munich 3-1 Arsenal'], ['sport', 'Benitez deflects blame from Dudek'], ['technology', 'Blog reading explodes in America'], ['technology', 'Broadband challenges TV viewing'], ['technology', 'Broadband in the UK growing fast'], ['sport', 'Calder fears for Scottish rugby'], ['sport', 'Captains lining up for Aid match'], ['sport', 'Celts savour Grand Slam prospect'], ['sport', 'Chelsea ridiculed over complaint'], ['business', 'China keeps tight rein on credit'], ['technology', 'China net cafe culture crackdown'], ['business', 'China suspends 26 power projects'], ['business', 'Christmas shoppers flock to tills'], ['sport', 'Collins named UK Athletics chief'], ['technology', 'Court mulls file-sharing future'], ['business', 'Crude oil prices back above $50'], ['technology', 'Cyber criminals step up the pace'], ['technology', 'DVD copy protection strengthened'], ['business', 'Deutsche attacks Yukos case'], ['sport', 'Disappointed Scott in solid start'], ['business', 'Durex maker SSL awaits firm bid'], ['technology', 'EA to take on film and TV giants'], ['sport', 'Edu blasts Arsenal'], ['N/A', 'Article no longer available in archive'], ['technology', 'Europe backs digital TV lifestyle'], ['sport', 'Farrell saga to drag on - Lindsay'], ['business', \"Featured: 'Golden economic period' to end\"], ['business', 'Feta cheese battle reaches court'], ['business', 'Firms pump billions into pensions'], ['technology', 'First look at PlayStation 3 chip'], ['business', 'Ford gains from finance not cars'], ['sport', 'Fuming Robinson blasts officials'], ['sport', 'GB quartet get cross country call'], ['technology', \"Gadget market 'to grow in 2005'\"], ['technology', 'Gadgets galore on show at fair'], ['technology', \"Games help you 'learn and play'\"], ['business', 'Gaming firm to sell UK dog tracks'], ['business', 'Germany nears 1990 jobless level'], ['sport', 'Greek pair attend drugs hearing'], ['sport', 'Gronkjaer agrees switch to Madrid'], ['N/A', 'Article no longer available in archive'], ['technology', \"Half of UK's mobiles 'go online'\"], ['sport', 'Hantuchova in Dubai last eight'], ['technology', 'Have hackers recruited your PC?'], ['sport', 'Healey targets England comeback'], ['business', 'High fuel costs hit US airlines'], ['business', \"High fuel prices hit BA's profits\"], ['technology', 'Hotspot users gain free net calls'], ['business', 'House prices drop as sales slow'], ['business', 'House prices show slight increase'], ['technology', 'ITunes user sues Apple over iPod'], ['business', 'India widens access to telecoms'], ['technology', 'Iran jails blogger for 14 years'], ['business', 'Irish duo could block Man Utd bid'], ['sport', 'Italy 8-38 Wales'], ['sport', 'Johnson uncertain about Euro bid'], ['sport', 'Kirwan demands Italy consistency'], ['business', 'Liberian economy starts to grow'], ['business', 'Malaysia lifts Islamic bank limit'], ['sport', 'Man Utd stroll to Cup win'], ['technology', 'Man auctions ad space on forehead'], ['business', \"Manufacturing recovery 'slowing'\"], ['business', 'Markets signal Brazilian recovery'], ['sport', 'Merritt close to indoor 400m mark'], ['technology', 'Microsoft debuts security tools'], ['technology', 'Microsoft releases patches'], ['business', 'Minister hits out at Yukos sale'], ['sport', 'Mirza shocks Kuznetsova'], ['N/A', 'Article no longer available in archive'], ['sport', 'Mourinho receives Robson warning'], ['sport', 'Moya emotional after Davis Cup win'], ['business', 'Nasdaq planning $100m share sale'], ['sport', 'Newcastle 2-1 Bolton'], ['sport', 'Newcastle to join Morientes race'], ['business', 'News Corp makes $5.4bn Fox offer'], ['business', 'Nigeria to boost cocoa production'], ['technology', 'Nintendo DS aims to touch gamers'], ['business', 'Novartis hits acquisition trail'], ['business', \"Profits stall at China's Lenovo\"], ['business', 'Putin backs state grab for Yukos'], ['business', 'Quiksilver moves for Rossignol'], ['sport', 'Redknapp poised for Saints'], ['sport', 'Robertson out to retain Euro lure'], ['technology', 'Seamen sail into biometric future'], ['business', 'Singapore growth at 8.1% in 2004'], ['N/A', 'Article no longer available in archive'], ['sport', 'Slovakia reach Hopman Cup final'], ['sport', 'Sociedad set to rescue Mladenovic'], ['technology', 'Sony wares win innovation award'], ['business', 'Soros group warns of Kazakh close'], ['technology', 'Sport-loving inventors whose tech could change the game'], ['sport', 'Sprinter Walker quits athletics'], ['N/A', 'Article no longer available in archive'], ['business', 'Stock market eyes Japan recovery'], ['business', 'Swiss cement firm in buying spree'], ['technology', 'Text message record smashed'], ['technology', 'The pirates with no profit motive'], ['business', 'Tsunami to cost Sri Lanka $1.3bn'], ['sport', 'UK Athletics agrees new kit deal'], ['technology', 'US cyber security chief resigns'], ['technology', 'US hacker breaks into T-Mobile'], ['business', 'US industrial output growth eases'], ['business', 'US insurer Marsh cuts 2,500 jobs'], ['business', 'US manufacturing expands'], ['business', 'US to rule on Yukos refuge call'], ['sport', 'Van Nistelrooy set to return'], ['sport', 'Vickery upbeat about arm injury'], ['technology', 'Video phones act as dating tools'], ['business', 'Virgin Blue shares plummet 20%'], ['N/A', 'Article no longer available in archive'], ['sport', 'Wada will appeal against ruling'], ['sport', 'Wales critical of clumsy Grewcock'], ['sport', 'Wales silent on Grand Slam talk'], ['sport', 'Wenger rules out new keeper'], ['sport', 'Wenger signs new deal'], ['business', 'Axa Sun Life cuts bonus payments'], ['technology', 'BT boosts its broadband packages'], ['sport', 'Bates seals takeover'], ['technology', 'Beckham virus spotted on the net'], ['technology', 'Broadband fuels online expression'], ['technology', 'Broadband in the UK gathers pace'], ['business', 'Burren awarded Egyptian contracts'], ['business', 'Business fears over sluggish EU economy'], ['sport', 'Candela completes Bolton switch'], ['business', 'Cannabis hopes for drug firm'], ['sport', 'Castaignede fires Laporte warning'], ['technology', \"Casual gaming to 'take off'\"], ['sport', 'Chelsea sack Mutu'], ['business', 'China Aviation seeks rescue deal'], ['sport', 'Classy Henman makes winning start'], ['sport', 'Collins banned in landmark case'], ['technology', 'Concerns over Windows ATMs'], ['sport', 'Connors boost for British tennis'], ['business', \"Crossrail link 'to get go-ahead'\"], ['N/A', 'Article no longer available in archive'], ['technology', 'Cyber crime booms in 2004'], ['technology', 'Disney backs Sony DVD technology'], ['business', 'Dollar slides ahead of New Year'], ['business', \"Economy 'stronger than forecast'\"], ['business', 'Electrolux to export Europe jobs'], ['business', \"Ethiopia's crop production up 24%\"], ['sport', 'FA charges Liverpool and Millwall'], ['sport', 'FA probes crowd trouble'], ['technology', \"Format wars could 'confuse users'\"], ['business', 'GM in crunch talks on Fiat future'], ['technology', 'Game makers get Xbox 2 sneak peek'], ['technology', 'Gamers could drive high-definition'], ['technology', 'Google launches TV search service'], ['sport', 'Harinordoquy suffers France axe'], ['sport', 'Hearts of Oak 3-2 Cotonsport'], ['sport', 'Hodges announces rugby retirement'], ['sport', 'Holmes feted with further honour'], ['technology', 'Honour for UK games maker'], ['sport', 'Houllier praises Benitez regime'], ['technology', 'Humanoid robot learns how to run'], ['sport', 'Ireland v USA (Sat)'], ['sport', 'Isinbayeva heads for Birmingham'], ['sport', 'Israeli club look to Africa'], ['technology', 'Junk e-mails on relentless rise'], ['sport', 'Kluft impressed by Sotherton form'], ['business', 'Latin America sees strong growth'], ['business', 'Libya takes $1bn in unfrozen funds'], ['technology', 'Loyalty cards idea for TV addicts'], ['sport', 'Man City 1-1 Newcastle'], ['sport', 'McCall earns Tannadice reprieve'], ['sport', 'McClaren eyes Uefa Cup top spot'], ['sport', \"McClaren hails Boro's Uefa spirit\"], ['sport', 'McIlroy aiming for Madrid title'], ['technology', 'Microsoft makes anti-piracy move'], ['technology', 'Microsoft seeking spyware trojan'], ['business', 'Mild winter drives US oil down 6%'], ['technology', 'Millions to miss out on the net'], ['sport', 'Minister digs in over doping row'], ['sport', 'Mirza makes Indian tennis history'], ['business', 'Mitsubishi in Peugeot link talks'], ['technology', 'Mobile multimedia slow to catch on'], ['technology', \"Mobiles 'not media players yet'\"], ['sport', 'Morientes admits to Reds struggle'], ['sport', 'Mourinho plots impressive course'], ['sport', 'Mourinho says race is almost over'], ['N/A', 'Article no longer available in archive'], ['sport', 'Moya sidesteps Davis Cup in 2005'], ['sport', 'Nadal marches on in Mexico'], ['technology', 'Nintendo adds media playing to DS'], ['sport', \"O'Connell rejects Lions rumours\"], ['sport', \"O'Driscoll concern at Fifa ruling\"], ['business', 'Oil prices fall back from highs'], ['business', 'Ore costs hit global steel firms'], ['sport', 'Parry relishes Anfield challenge'], ['business', 'Peugeot deal boosts Mitsubishi'], ['N/A', 'Article no longer available in archive'], ['technology', 'PlayStation 3 chip to be unveiled'], ['technology', 'Portable PlayStation ready to go'], ['sport', 'Premier League planning Cole date'], ['business', 'Qantas sees profits fly to record'], ['sport', 'Radcliffe yet to answer GB call'], ['sport', \"Redknapp's Saints face Pompey tie\"], ['sport', 'Reds sink 10-man Magpies'], ['business', 'Reliance unit loses Anil Ambani'], ['technology', 'Rich pickings for hi-tech thieves'], ['sport', 'Robinson out of Six Nations'], ['sport', 'Rovers reject third Ferguson bid'], ['sport', 'Saint-Andre anger at absent stars'], ['N/A', 'Article no longer available in archive'], ['business', 'Salary scandal in Cameroon'], ['technology', 'Slimmer PlayStation triple sales'], ['sport', 'Slovakia seal Hopman Cup success'], ['technology', 'Smart search lets art fans browse'], ['sport', 'Smith keen on Home series return'], ['sport', 'South Africa sweep top awards'], ['technology', 'Speak easy plan for media players'], ['technology', 'Speech takes on search engines'], ['business', \"Tokyo says deflation 'controlled'\"], ['business', 'Turkey turns on the economic charm'], ['business', \"Turkey-Iran mobile deal 'at risk'\"], ['business', \"UK 'risks breaking golden rule'\"], ['business', 'UK firm faces Venezuelan land row'], ['technology', 'UK pioneers digital film network'], ['business', 'US bank in $515m SEC settlement'], ['business', 'US crude prices surge above $53'], ['sport', 'Umaga ready for Lions'], ['business', 'Umbro profits lifted by Euro 2004'], ['technology', 'Virgin Radio offers 3G broadcast'], ['technology', 'Virus poses as Christmas e-mail'], ['technology', 'Voters flock to blog awards site'], ['sport', 'Wales want rugby league training'], ['sport', 'Wales win in Rome'], ['technology', 'Warning over tsunami aid website'], ['sport', 'Wolves appoint Hoddle as manager'], ['sport', 'Wood - Ireland can win Grand Slam'], ['business', 'World leaders gather to face uncertainty'], ['sport', 'Worthington praises classy Villa'], ['sport', 'Yachvili savours France comeback'], ['N/A', 'Article no longer available in archive'], ['business', 'Yukos heading back to US courts'], ['business', 'Yukos seeks court action on sale'], ['business', 'Yukos unit fetches $9bn at auction']]\n"
     ]
    },
    {
     "name": "stdout",
     "output_type": "stream",
     "text": [
      "[['technology', '21st-Century Sports: How Digital Technology Is Changing the Face Of The Sporting Industry'], ['business', 'Asian quake hits European shares'], ['technology', 'BT offers free net phone calls'], ['business', 'Barclays shares up on merger talk'], ['sport', 'Barkley fit for match in Ireland'], ['sport', 'Bellamy under new fire'], ['sport', \"Benitez 'to launch Morientes bid'\"], ['sport', 'Benitez delight after crucial win'], ['technology', 'Big war games battle it out'], ['technology', 'British Library gets wireless net'], ['sport', \"Brizzel to run AAA's in Sheffield\"], ['business', 'Bush budget seeks deep cutbacks'], ['business', \"Bush to get 'tough' on deficit\"], ['technology', 'Cable offers video-on-demand'], ['technology', 'Cabs collect mountain of mobiles'], ['technology', \"Camera phones are 'must-haves'\"], ['business', \"Card fraudsters 'targeting web'\"], ['business', 'Cash gives way to flexible friend'], ['technology', 'Cebit opens to mobile music tune'], ['sport', 'Charvis set to lose fitness bid'], ['sport', 'Chelsea hold Arsenal'], ['business', 'Christmas sales worst since 1981'], ['sport', 'Clijsters set for February return'], ['sport', 'Clyde 0-5 Celtic'], ['sport', 'Coach Ranieri sacked by Valencia'], ['technology', 'Confusion over high-definition TV'], ['business', 'Cuba winds back economic clock'], ['technology', 'DS aims to touch gamers'], ['sport', 'Dawson set for new Wasps contract'], ['business', 'Diageo to buy US wine firm'], ['technology', 'Digital guru floats sub-$100 PC'], ['business', 'EU aiming to fuel development aid'], ['N/A', 'Article no longer available in archive'], ['sport', 'England 17-18 France'], ['business', 'Enron bosses in $168m payout'], ['business', \"Euronext 'poised to make LSE bid'\"], ['business', 'Europe asks Asia for euro help'], ['business', 'Europe blames US over weak dollar'], ['business', \"Fannie Mae 'should restate books'\"], ['technology', \"Featured: 'Brainwave' cap controls computer\"], ['technology', \"Featured: 'Evil twin' fear for wireless net\"], ['technology', \"Featured: 'Friends fear' with lost mobiles\"], ['N/A', 'Article no longer available in archive'], ['business', \"Featured: 'Post-Christmas lull' in lending\"], ['business', 'Fed warns of more US rate rises'], ['sport', 'Federer forced to dig deep'], ['sport', 'Ferguson puts faith in youngsters'], ['business', \"GE sees 'excellent' world economy\"], ['business', 'GM issues 2005 profits warning'], ['technology', 'Gangsters dominate gaming chart'], ['sport', 'Gardener wins double in Glasgow'], ['N/A', 'Article no longer available in archive'], ['business', \"Gazprom 'in $36m back-tax claim'\"], ['business', 'German growth goes into reverse'], ['business', 'Germany calls for EU reform'], ['technology', 'Go-ahead for new internet names'], ['sport', 'Greek duo cleared in doping case'], ['sport', \"Hansen 'delays return until 2006'\"], ['N/A', 'Article no longer available in archive'], ['sport', 'Henman & Murray claim LTA awards'], ['sport', 'Henman decides to quit Davis Cup'], ['technology', 'Hi-tech posters guide commuters'], ['sport', 'Hodgson shoulders England blame'], ['technology', 'Hollywood to sue net film pirates'], ['sport', 'Holmes secures comeback victory'], ['business', 'House prices suffer festive fall'], ['sport', 'IAAF launches fight against drugs'], ['business', 'India-Pakistan peace boosts trade'], ['business', 'Iraqi voters turn to economic issues'], ['sport', 'Jansen suffers a further setback'], ['technology', 'Latest Opera browser gets vocal'], ['business', 'Laura Ashley chief stepping down'], ['technology', 'Learning to love broadband'], ['technology', 'Mac Mini heralds mini revolution'], ['business', \"Macy's owner buys rival for $11bn\"], ['business', 'Madagascar completes currency switch'], ['sport', 'McLeish ready for criticism'], ['technology', 'Mobile games come of age'], ['technology', 'More power to the people says HP'], ['sport', 'Mourinho sends out warning shot'], ['sport', 'Moya suffers shock loss'], ['sport', 'Moyes U-turn on Beattie dismissal'], ['sport', 'Murray returns to Scotland fold'], ['business', 'Mystery surrounds new Yukos owner'], ['sport', 'Off-colour Gardener storms to win'], ['business', 'Oil companies get Russian setback'], ['sport', 'Owen may have to return home'], ['sport', 'Pearce keen on succeeding Keegan'], ['technology', \"Poles play with GameBoy 'blip-pop'\"], ['sport', 'Premier League probes Cole claims'], ['sport', 'Prodigy Monfils blows away Gaudio'], ['technology', 'Remote control rifle range debuts'], ['sport', 'Robinson ready for difficult task'], ['technology', 'Row brewing over peer-to-peer ads'], ['sport', 'Rusedski angry over supplements'], ['business', 'S Korean lender faces liquidation'], ['sport', 'SFA awaits report over Mikoliunas'], ['sport', 'Safin cool on Wimbledon'], ['sport', 'Safin plays down Wimbledon hopes'], ['technology', 'Satellite mapping aids Darfur relief'], ['technology', 'Search sites get closer to users'], ['technology', 'Security scares spark browser fix'], ['business', 'Senior Fannie Mae bosses resign'], ['technology', 'Solutions to net security fears'], ['business', 'Split-caps pay £194m compensation'], ['sport', 'Sports Stock Tips'], ['business', 'Strong quarterly growth for Nike'], ['technology', \"T-Mobile bets on 'pocket office'\"], ['sport', 'Thanou desperate to make return'], ['sport', 'Thompson says Gerrard should stay'], ['sport', 'Time to get tough on friendlies?'], ['technology', 'US peer-to-peer pirates convicted'], ['technology', 'US top of supercomputing charts'], ['business', 'Venezuela and China sign oil deal'], ['business', 'Weak end-of-year sales hit Next'], ['sport', 'Williams says he will never quit'], ['business', \"Winemaker rejects Foster's offer\"], ['business', \"Worldcom boss 'left books alone'\"], ['technology', 'Xbox 2 may be unveiled in summer'], ['technology', \"Xbox power cable 'fire fear'\"], ['business', \"Yangtze Electric's profits double\"], ['business', 'Yukos loses US bankruptcy battle'], ['business', '7 business technology trends to watch'], ['sport', 'A November to remember'], ['technology', 'A question of trust and technology'], ['business', 'Ad sales boost Time Warner profit'], ['sport', 'African double in Edinburgh'], ['business', 'Air passengers win new EU rights'], ['technology', 'Anti-spam screensaver scrapped'], ['sport', 'Arsenal through on penalties'], ['business', 'BP surges ahead on high oil price'], ['business', 'Bank holds interest rate at 4.75%'], ['business', 'Bank set to leave rates on hold'], ['sport', 'Bekele sets sights on world mark'], ['sport', 'Bitter Santini hits out at Spurs'], ['technology', 'Blogs take on the mainstream'], ['business', \"Brewers' profits lose their fizz\"], ['business', \"Bush to outline 'toughest' budget\"], ['business', \"Buyers snap up Jet Airways' shares\"], ['business', 'Cairn shares up on new oil find'], ['sport', 'Campbell to extend sprint career'], ['sport', 'Celtic make late bid for Bellamy'], ['sport', 'Charlton 1-2 Liverpool'], ['N/A', 'Article no longer available in archive'], ['sport', 'Chepkemei joins Edinburgh line-up'], ['N/A', 'Article no longer available in archive'], ['business', 'Chinese billionaire targets Manchester United shares in new deal, reports suggest'], ['sport', 'Collins calls for Chambers return'], ['technology', 'Commodore finds new lease of life'], ['technology', 'Creator of first Apple Mac dies'], ['sport', 'Cudicini misses Carling Cup final'], ['sport', 'Davenport hits out at Wimbledon'], ['sport', 'Davies favours Gloucester future'], ['business', 'Deutsche Telekom sees mobile gain'], ['sport', 'Dibaba breaks 5,000m world record'], ['sport', 'Dogged Federer claims Dubai crown'], ['business', 'Dollar hovers around record lows'], ['sport', 'Dundee Utd 4-1 Aberdeen'], ['business', 'EC calls truce in deficit battle'], ['business', 'EU-US seeking deal on air dispute'], ['business', 'Egypt and Israel seal trade deal'], ['business', 'Egypt to sell off state-owned bank'], ['sport', 'El Guerrouj targets cross country'], ['sport', 'FA ready to test out goal bleeper'], ['N/A', 'Article no longer available in archive'], ['business', 'FBI agent colludes with analyst'], ['technology', 'Fast moving phone bugs appear'], ['N/A', 'Article no longer available in archive'], ['sport', 'Ferguson fears Milan cutting edge'], ['sport', 'Finnan says Irish can win group'], ['sport', 'Fit-again Betsen in France squad'], ['business', 'Five million Germans out of work'], ['technology', \"Format wars could 'confuse users'\"], ['sport', 'Giggs handed Wales leading role'], ['technology', 'Gritty return for Prince of Persia'], ['sport', 'Hewitt survives Nalbandian epic'], ['business', 'Honda wins China copyright ruling'], ['business', 'India seeks to boost construction'], ['business', \"India's Deccan gets more planes\"], ['business', 'Indy buys into India paper'], ['business', 'Intercom raises €101m in funding round making it the most valuable Irish tech firm'], ['business', 'Iranian MPs threaten mobile deal'], ['business', 'Irish company hit by Iraqi report'], ['sport', 'Italy aim to rattle England'], ['business', 'Italy to get economic action plan'], ['sport', \"Juninho demand for O'Neill talks\"], ['sport', 'Kenyon denies Robben Barca return'], ['sport', 'Kerr frustrated at victory margin'], ['sport', 'Klinsmann issues Lehmann warning'], ['business', \"LSE 'sets date for takeover deal'\"], ['sport', 'Lewis-Francis eyeing world gold'], ['technology', \"Lifestyle 'governs mobile choice'\"], ['technology', 'Looks and music to drive mobiles'], ['sport', 'Man Utd through after Exeter test'], ['sport', 'Martinez sees off Vinci challenge'], ['technology', 'Microsoft makes anti-piracy move'], ['sport', 'Middlesbrough 2-2 Charlton'], ['sport', 'Mido makes third apology'], ['technology', 'Millions buy MP3 players in US'], ['business', 'Mixed signals from French economy'], ['technology', 'Mobile picture power in your pocket'], ['sport', 'Moore questions captaincy'], ['sport', 'More Africans for tsunami game'], ['sport', 'Murphy: That was a bruising battle'], ['sport', 'Navratilova hits out at critics'], ['sport', \"O'Driscoll out of Scotland game\"], ['sport', \"O'Gara revels in Ireland victory\"], ['sport', 'Owen dismisses fresh Real rumours'], ['technology', \"PC ownership to 'double by 2010'\"], ['sport', 'Paris promise raises Welsh hopes'], ['business', 'Parmalat sues 45 banks over crash'], ['technology', 'Progress on new internet domains'], ['business', 'Qantas considers offshore option'], ['sport', 'Radcliffe tackles marathon tasks'], ['sport', 'Rangers seal Old Firm win'], ['sport', 'Record fails to lift lacklustre meet'], ['business', 'Record year for Chilean copper'], ['sport', 'Republic to face China and Italy'], ['sport', 'Robben sidelined with broken foot'], ['technology', \"Robots learn 'robotiquette' rules\"], ['technology', \"Rolling out next generation's net\"], ['business', \"Russia WTO talks 'make progress'\"], ['technology', 'Screensaver tackles spam websites'], ['technology', 'Slim PlayStation triples sales'], ['business', 'Standard Life concern at LSE bid'], ['business', \"Steel firm 'to cut' 45,000 jobs\"], ['sport', 'Stuart joins Norwich from Addicks'], ['N/A', 'Article no longer available in archive'], ['technology', 'Sun offers processing by the hour'], ['technology', 'Tech helps disabled speed demons'], ['technology', 'Telewest to challenge Sky Plus'], ['sport', 'Thanou bullish over drugs hearing'], ['technology', 'The Force is strong in Battlefront'], ['technology', 'The gaming world in 2005'], ['business', 'Turkey knocks six zeros off lira'], ['business', 'UK Coal plunges into deeper loss'], ['business', 'US trade gap ballooned in October'], ['business', 'Unilever shake up as profit slips'], ['sport', 'Wales get Williams fitness boost'], ['sport', 'Wales stars need a rest - Ruddock'], ['business', \"Wall Street cool to eBay's profit\"], ['technology', 'Warnings about junk mail deluge'], ['technology', 'Web radio takes Spanish rap global'], ['sport', 'Wenger shock at Newcastle dip'], ['technology', 'When invention turns to innovation'], ['technology', 'Who do you think you are?'], ['sport', 'Wilkinson to miss Ireland match'], ['business', 'Winn-Dixie files for bankruptcy'], ['business', 'Yukos sues four firms for $20bn'], ['sport', 'A year to remember for Irish'], ['sport', 'An Irish Athletics Year'], ['sport', 'Arnesen denies rift with Santini'], ['business', 'Asia shares defy post-quake gloom'], ['business', 'Bank payout to Pinochet victims'], ['sport', 'Barcelona title hopes hit by loss'], ['business', 'Bargain calls widen Softbank loss'], ['sport', 'Bayern Munich 3-1 Arsenal'], ['sport', 'Benitez deflects blame from Dudek'], ['technology', 'Blog reading explodes in America'], ['technology', 'Broadband challenges TV viewing'], ['technology', 'Broadband in the UK growing fast'], ['sport', 'Calder fears for Scottish rugby'], ['sport', 'Captains lining up for Aid match'], ['sport', 'Celts savour Grand Slam prospect'], ['sport', 'Chelsea ridiculed over complaint'], ['business', 'China keeps tight rein on credit'], ['technology', 'China net cafe culture crackdown'], ['business', 'China suspends 26 power projects'], ['business', 'Christmas shoppers flock to tills'], ['sport', 'Collins named UK Athletics chief'], ['technology', 'Court mulls file-sharing future'], ['business', 'Crude oil prices back above $50'], ['technology', 'Cyber criminals step up the pace'], ['technology', 'DVD copy protection strengthened'], ['business', 'Deutsche attacks Yukos case'], ['sport', 'Disappointed Scott in solid start'], ['business', 'Durex maker SSL awaits firm bid'], ['technology', 'EA to take on film and TV giants'], ['sport', 'Edu blasts Arsenal'], ['N/A', 'Article no longer available in archive'], ['technology', 'Europe backs digital TV lifestyle'], ['sport', 'Farrell saga to drag on - Lindsay'], ['business', \"Featured: 'Golden economic period' to end\"], ['business', 'Feta cheese battle reaches court'], ['business', 'Firms pump billions into pensions'], ['technology', 'First look at PlayStation 3 chip'], ['business', 'Ford gains from finance not cars'], ['sport', 'Fuming Robinson blasts officials'], ['sport', 'GB quartet get cross country call'], ['technology', \"Gadget market 'to grow in 2005'\"], ['technology', 'Gadgets galore on show at fair'], ['technology', \"Games help you 'learn and play'\"], ['business', 'Gaming firm to sell UK dog tracks'], ['business', 'Germany nears 1990 jobless level'], ['sport', 'Greek pair attend drugs hearing'], ['sport', 'Gronkjaer agrees switch to Madrid'], ['N/A', 'Article no longer available in archive'], ['technology', \"Half of UK's mobiles 'go online'\"], ['sport', 'Hantuchova in Dubai last eight'], ['technology', 'Have hackers recruited your PC?'], ['sport', 'Healey targets England comeback'], ['business', 'High fuel costs hit US airlines'], ['business', \"High fuel prices hit BA's profits\"], ['technology', 'Hotspot users gain free net calls'], ['business', 'House prices drop as sales slow'], ['business', 'House prices show slight increase'], ['technology', 'ITunes user sues Apple over iPod'], ['business', 'India widens access to telecoms'], ['technology', 'Iran jails blogger for 14 years'], ['business', 'Irish duo could block Man Utd bid'], ['sport', 'Italy 8-38 Wales'], ['sport', 'Johnson uncertain about Euro bid'], ['sport', 'Kirwan demands Italy consistency'], ['business', 'Liberian economy starts to grow'], ['business', 'Malaysia lifts Islamic bank limit'], ['sport', 'Man Utd stroll to Cup win'], ['technology', 'Man auctions ad space on forehead'], ['business', \"Manufacturing recovery 'slowing'\"], ['business', 'Markets signal Brazilian recovery'], ['sport', 'Merritt close to indoor 400m mark'], ['technology', 'Microsoft debuts security tools'], ['technology', 'Microsoft releases patches'], ['business', 'Minister hits out at Yukos sale'], ['sport', 'Mirza shocks Kuznetsova'], ['N/A', 'Article no longer available in archive'], ['sport', 'Mourinho receives Robson warning'], ['sport', 'Moya emotional after Davis Cup win'], ['business', 'Nasdaq planning $100m share sale'], ['sport', 'Newcastle 2-1 Bolton'], ['sport', 'Newcastle to join Morientes race'], ['business', 'News Corp makes $5.4bn Fox offer'], ['business', 'Nigeria to boost cocoa production'], ['technology', 'Nintendo DS aims to touch gamers'], ['business', 'Novartis hits acquisition trail'], ['business', \"Profits stall at China's Lenovo\"], ['business', 'Putin backs state grab for Yukos'], ['business', 'Quiksilver moves for Rossignol'], ['sport', 'Redknapp poised for Saints'], ['sport', 'Robertson out to retain Euro lure'], ['technology', 'Seamen sail into biometric future'], ['business', 'Singapore growth at 8.1% in 2004'], ['N/A', 'Article no longer available in archive'], ['sport', 'Slovakia reach Hopman Cup final'], ['sport', 'Sociedad set to rescue Mladenovic'], ['technology', 'Sony wares win innovation award'], ['business', 'Soros group warns of Kazakh close'], ['technology', 'Sport-loving inventors whose tech could change the game'], ['sport', 'Sprinter Walker quits athletics'], ['N/A', 'Article no longer available in archive'], ['business', 'Stock market eyes Japan recovery'], ['business', 'Swiss cement firm in buying spree'], ['technology', 'Text message record smashed'], ['technology', 'The pirates with no profit motive'], ['business', 'Tsunami to cost Sri Lanka $1.3bn'], ['sport', 'UK Athletics agrees new kit deal'], ['technology', 'US cyber security chief resigns'], ['technology', 'US hacker breaks into T-Mobile'], ['business', 'US industrial output growth eases'], ['business', 'US insurer Marsh cuts 2,500 jobs'], ['business', 'US manufacturing expands'], ['business', 'US to rule on Yukos refuge call'], ['sport', 'Van Nistelrooy set to return'], ['sport', 'Vickery upbeat about arm injury'], ['technology', 'Video phones act as dating tools'], ['business', 'Virgin Blue shares plummet 20%'], ['N/A', 'Article no longer available in archive'], ['sport', 'Wada will appeal against ruling'], ['sport', 'Wales critical of clumsy Grewcock'], ['sport', 'Wales silent on Grand Slam talk'], ['sport', 'Wenger rules out new keeper'], ['sport', 'Wenger signs new deal'], ['business', 'Axa Sun Life cuts bonus payments'], ['technology', 'BT boosts its broadband packages'], ['sport', 'Bates seals takeover'], ['technology', 'Beckham virus spotted on the net'], ['technology', 'Broadband fuels online expression'], ['technology', 'Broadband in the UK gathers pace'], ['business', 'Burren awarded Egyptian contracts'], ['business', 'Business fears over sluggish EU economy'], ['sport', 'Candela completes Bolton switch'], ['business', 'Cannabis hopes for drug firm'], ['sport', 'Castaignede fires Laporte warning'], ['technology', \"Casual gaming to 'take off'\"], ['sport', 'Chelsea sack Mutu'], ['business', 'China Aviation seeks rescue deal'], ['sport', 'Classy Henman makes winning start'], ['sport', 'Collins banned in landmark case'], ['technology', 'Concerns over Windows ATMs'], ['sport', 'Connors boost for British tennis'], ['business', \"Crossrail link 'to get go-ahead'\"], ['N/A', 'Article no longer available in archive'], ['technology', 'Cyber crime booms in 2004'], ['technology', 'Disney backs Sony DVD technology'], ['business', 'Dollar slides ahead of New Year'], ['business', \"Economy 'stronger than forecast'\"], ['business', 'Electrolux to export Europe jobs'], ['business', \"Ethiopia's crop production up 24%\"], ['sport', 'FA charges Liverpool and Millwall'], ['sport', 'FA probes crowd trouble'], ['technology', \"Format wars could 'confuse users'\"], ['business', 'GM in crunch talks on Fiat future'], ['technology', 'Game makers get Xbox 2 sneak peek'], ['technology', 'Gamers could drive high-definition'], ['technology', 'Google launches TV search service'], ['sport', 'Harinordoquy suffers France axe'], ['sport', 'Hearts of Oak 3-2 Cotonsport'], ['sport', 'Hodges announces rugby retirement'], ['sport', 'Holmes feted with further honour'], ['technology', 'Honour for UK games maker'], ['sport', 'Houllier praises Benitez regime'], ['technology', 'Humanoid robot learns how to run'], ['sport', 'Ireland v USA (Sat)'], ['sport', 'Isinbayeva heads for Birmingham'], ['sport', 'Israeli club look to Africa'], ['technology', 'Junk e-mails on relentless rise'], ['sport', 'Kluft impressed by Sotherton form'], ['business', 'Latin America sees strong growth'], ['business', 'Libya takes $1bn in unfrozen funds'], ['technology', 'Loyalty cards idea for TV addicts'], ['sport', 'Man City 1-1 Newcastle'], ['sport', 'McCall earns Tannadice reprieve'], ['sport', 'McClaren eyes Uefa Cup top spot'], ['sport', \"McClaren hails Boro's Uefa spirit\"], ['sport', 'McIlroy aiming for Madrid title'], ['technology', 'Microsoft makes anti-piracy move'], ['technology', 'Microsoft seeking spyware trojan'], ['business', 'Mild winter drives US oil down 6%'], ['technology', 'Millions to miss out on the net'], ['sport', 'Minister digs in over doping row'], ['sport', 'Mirza makes Indian tennis history'], ['business', 'Mitsubishi in Peugeot link talks'], ['technology', 'Mobile multimedia slow to catch on'], ['technology', \"Mobiles 'not media players yet'\"], ['sport', 'Morientes admits to Reds struggle'], ['sport', 'Mourinho plots impressive course'], ['sport', 'Mourinho says race is almost over'], ['N/A', 'Article no longer available in archive'], ['sport', 'Moya sidesteps Davis Cup in 2005'], ['sport', 'Nadal marches on in Mexico'], ['technology', 'Nintendo adds media playing to DS'], ['sport', \"O'Connell rejects Lions rumours\"], ['sport', \"O'Driscoll concern at Fifa ruling\"], ['business', 'Oil prices fall back from highs'], ['business', 'Ore costs hit global steel firms'], ['sport', 'Parry relishes Anfield challenge'], ['business', 'Peugeot deal boosts Mitsubishi'], ['N/A', 'Article no longer available in archive'], ['technology', 'PlayStation 3 chip to be unveiled'], ['technology', 'Portable PlayStation ready to go'], ['sport', 'Premier League planning Cole date'], ['business', 'Qantas sees profits fly to record'], ['sport', 'Radcliffe yet to answer GB call'], ['sport', \"Redknapp's Saints face Pompey tie\"], ['sport', 'Reds sink 10-man Magpies'], ['business', 'Reliance unit loses Anil Ambani'], ['technology', 'Rich pickings for hi-tech thieves'], ['sport', 'Robinson out of Six Nations'], ['sport', 'Rovers reject third Ferguson bid'], ['sport', 'Saint-Andre anger at absent stars'], ['N/A', 'Article no longer available in archive'], ['business', 'Salary scandal in Cameroon'], ['technology', 'Slimmer PlayStation triple sales'], ['sport', 'Slovakia seal Hopman Cup success'], ['technology', 'Smart search lets art fans browse'], ['sport', 'Smith keen on Home series return'], ['sport', 'South Africa sweep top awards'], ['technology', 'Speak easy plan for media players'], ['technology', 'Speech takes on search engines'], ['business', \"Tokyo says deflation 'controlled'\"], ['business', 'Turkey turns on the economic charm'], ['business', \"Turkey-Iran mobile deal 'at risk'\"], ['business', \"UK 'risks breaking golden rule'\"], ['business', 'UK firm faces Venezuelan land row'], ['technology', 'UK pioneers digital film network'], ['business', 'US bank in $515m SEC settlement'], ['business', 'US crude prices surge above $53'], ['sport', 'Umaga ready for Lions'], ['business', 'Umbro profits lifted by Euro 2004'], ['technology', 'Virgin Radio offers 3G broadcast'], ['technology', 'Virus poses as Christmas e-mail'], ['technology', 'Voters flock to blog awards site'], ['sport', 'Wales want rugby league training'], ['sport', 'Wales win in Rome'], ['technology', 'Warning over tsunami aid website'], ['sport', 'Wolves appoint Hoddle as manager'], ['sport', 'Wood - Ireland can win Grand Slam'], ['business', 'World leaders gather to face uncertainty'], ['sport', 'Worthington praises classy Villa'], ['sport', 'Yachvili savours France comeback'], ['N/A', 'Article no longer available in archive'], ['business', 'Yukos heading back to US courts'], ['business', 'Yukos seeks court action on sale'], ['business', 'Yukos unit fetches $9bn at auction'], ['business', 'Air China in $1bn London listing'], ['sport', 'Angry Williams rejects criticism'], ['business', 'Apple Inc. Phone Pricing Likely To Trend Lower'], ['business', 'Argentina closes $102.6bn debt swap'], ['business', 'AstraZeneca hit by drug failure'], ['sport', 'Balco case trial date pushed back'], ['business', 'Battered dollar hits another low'], ['sport', 'Beckham hints at Man Utd return'], ['sport', 'Benitez joy as Reds take control'], ['technology', \"Blind student 'hears in colour'\"], ['technology', 'Blogger grounded by her airline'], ['business', 'Brazil jobless rate hits new low'], ['technology', 'Broadband set to revolutionise TV'], ['technology', 'Bush website blocked outside US'], ['business', 'Business confidence dips in Japan'], ['business', 'Businesses fail to plan for HIV'], ['sport', 'Campese berates whingeing England'], ['sport', 'Cech sets clean-sheet benchmark'], ['technology', \"China 'blocks Google news site'\"], ['business', 'China continues rapid growth'], ['business', 'Circuit City gets takeover offer'], ['sport', 'Claxton hunting first major medal'], ['technology', 'Consumer concern over RFID tags'], ['business', \"Continental 'may run out of cash'\"], ['business', 'Deadline nears for Fiat-GM deal'], ['business', \"Deutsche Boerse set to 'woo' LSE\"], ['technology', 'Domain system scam fear'], ['technology', 'Doors open at biggest gadget fair'], ['sport', 'Dunne keen to commit to Man City'], ['business', 'EMI shares hit by profit warning'], ['business', \"EU to probe Alitalia 'state aid'\"], ['sport', \"England 'to launch ref protest'\"], ['sport', 'Faye plans to stay at Portsmouth'], ['business', \"Featured: 'Strong dollar' call halts slide\"], ['sport', \"Ferguson hails Man Utd's resolve\"], ['sport', 'Fuming Robinson blasts officials'], ['business', 'Further rise in UK jobless total'], ['technology', 'Gadget growth fuels eco concerns'], ['technology', 'Gadget show heralds MP3 season'], ['technology', 'Games win for Blu-ray DVD format'], ['business', 'German business confidence slides'], ['sport', 'Gerrard future not decided by Cardiff loss'], ['technology', 'Halo 2 sells five million copies'], ['sport', 'Henin-Hardenne beaten on comeback'], ['sport', 'Hewitt falls to Dent in Adelaide'], ['technology', 'How to smash a home computer'], ['sport', 'Ireland call up uncapped Campbell'], ['business', 'Israel looks to US for bank chief'], ['sport', 'Keane defiant over Vieira bust-up'], ['sport', \"Kenya lift Chepkemei's suspension\"], ['business', 'Kraft cuts snack ads for children'], ['business', 'Lesotho textile workers lose jobs'], ['sport', 'Lomu relishing return to action'], ['business', 'Lufthansa may sue over Bush visit'], ['business', 'MCI shares climb on takeover bid'], ['business', \"MG Rover China tie-up 'delayed'\"], ['business', 'Making your office work for you'], ['sport', 'McIlroy continues winning streak'], ['technology', 'Mobile TV tipped as one to watch'], ['business', 'Monsanto fined $1.5m for bribery'], ['technology', 'Moving mobile improves golf swing'], ['sport', 'Nadal puts Spain 2-0 up'], ['business', 'Nasdaq planning $100m-share sale'], ['technology', \"New Year's texting breaks record\"], ['N/A', 'Article no longer available in archive'], ['technology', 'New consoles promise big problems'], ['technology', 'Nintendo DS makes its Euro debut'], ['sport', \"O'Connor aims to grab opportunity\"], ['sport', \"O'Leary agrees new Villa contract\"], ['N/A', 'Article no longer available in archive'], ['sport', \"O'Sullivan keeps his powder dry\"], ['technology', 'Online commons to spark debate'], ['technology', 'Online games play with politics'], ['business', 'Parmalat founder offers apology'], ['business', 'Parmalat to return to stockmarket'], ['technology', \"Peer-to-peer nets 'here to stay'\"], ['business', 'Pernod takeover talk lifts Domecq'], ['business', \"Profits jump at China's top bank\"], ['sport', 'Prop Jones ready for hard graft'], ['business', 'Qatar and Shell in $6bn gas deal'], ['business', \"Quake's economic costs emerging\"], ['sport', 'Real in talks over Gravesen move'], ['business', 'Rescue hope for Borussia Dortmund'], ['sport', 'Robben and Cole earn Chelsea win'], ['technology', 'Robotic pods take on car design'], ['sport', 'Roddick in talks over new coach'], ['business', 'SEC to rethink post-Enron rules'], ['technology', 'Santy worm makes unwelcome visit'], ['technology', 'Seamen sail into biometric future'], ['sport', 'Serena becomes world number two'], ['sport', 'Smith aims to bring back respect'], ['business', \"Soaring oil 'hits world economy'\"], ['technology', 'Software watching while you work'], ['technology', 'Sony PSP console hits US in March'], ['sport', 'TV calls after Carroll error'], ['technology', \"TV's future down the phone line\"], ['N/A', 'Article no longer available in archive'], ['business', \"The 'ticking budget' facing the US\"], ['business', 'Train strike grips Buenos Aires'], ['technology', 'UK broadband gets speed injection'], ['business', 'US adds more jobs than expected'], ['business', 'US economy shows solid GDP growth'], ['business', 'US economy still growing says Fed'], ['business', 'US in EU tariff chaos trade row'], ['business', 'US retail sales surge in December'], ['business', 'US trade gap hits record in 2004'], ['business', 'Ukraine revisits state sell-offs'], ['sport', 'Underdogs have more fun'], ['business', 'VW considers opening Indian plant'], ['business', 'Wal-Mart to pay $14m in gun suit'], ['sport', 'Wasps 31-37 Leicester'], ['technology', 'What high-definition will do to DVDs'], ['technology', 'Why Cell will get the hard sell'], ['sport', 'Wilkinson fit to face Edinburgh'], ['sport', \"Wilkinson return 'unlikely'\"], ['technology', 'Yahoo celebrates a decade online'], ['technology', 'Yahoo moves into desktop search']]\n"
     ]
    },
    {
     "name": "stdout",
     "output_type": "stream",
     "text": [
      "[['technology', '21st-Century Sports: How Digital Technology Is Changing the Face Of The Sporting Industry'], ['business', 'Asian quake hits European shares'], ['technology', 'BT offers free net phone calls'], ['business', 'Barclays shares up on merger talk'], ['sport', 'Barkley fit for match in Ireland'], ['sport', 'Bellamy under new fire'], ['sport', \"Benitez 'to launch Morientes bid'\"], ['sport', 'Benitez delight after crucial win'], ['technology', 'Big war games battle it out'], ['technology', 'British Library gets wireless net'], ['sport', \"Brizzel to run AAA's in Sheffield\"], ['business', 'Bush budget seeks deep cutbacks'], ['business', \"Bush to get 'tough' on deficit\"], ['technology', 'Cable offers video-on-demand'], ['technology', 'Cabs collect mountain of mobiles'], ['technology', \"Camera phones are 'must-haves'\"], ['business', \"Card fraudsters 'targeting web'\"], ['business', 'Cash gives way to flexible friend'], ['technology', 'Cebit opens to mobile music tune'], ['sport', 'Charvis set to lose fitness bid'], ['sport', 'Chelsea hold Arsenal'], ['business', 'Christmas sales worst since 1981'], ['sport', 'Clijsters set for February return'], ['sport', 'Clyde 0-5 Celtic'], ['sport', 'Coach Ranieri sacked by Valencia'], ['technology', 'Confusion over high-definition TV'], ['business', 'Cuba winds back economic clock'], ['technology', 'DS aims to touch gamers'], ['sport', 'Dawson set for new Wasps contract'], ['business', 'Diageo to buy US wine firm'], ['technology', 'Digital guru floats sub-$100 PC'], ['business', 'EU aiming to fuel development aid'], ['N/A', 'Article no longer available in archive'], ['sport', 'England 17-18 France'], ['business', 'Enron bosses in $168m payout'], ['business', \"Euronext 'poised to make LSE bid'\"], ['business', 'Europe asks Asia for euro help'], ['business', 'Europe blames US over weak dollar'], ['business', \"Fannie Mae 'should restate books'\"], ['technology', \"Featured: 'Brainwave' cap controls computer\"], ['technology', \"Featured: 'Evil twin' fear for wireless net\"], ['technology', \"Featured: 'Friends fear' with lost mobiles\"], ['N/A', 'Article no longer available in archive'], ['business', \"Featured: 'Post-Christmas lull' in lending\"], ['business', 'Fed warns of more US rate rises'], ['sport', 'Federer forced to dig deep'], ['sport', 'Ferguson puts faith in youngsters'], ['business', \"GE sees 'excellent' world economy\"], ['business', 'GM issues 2005 profits warning'], ['technology', 'Gangsters dominate gaming chart'], ['sport', 'Gardener wins double in Glasgow'], ['N/A', 'Article no longer available in archive'], ['business', \"Gazprom 'in $36m back-tax claim'\"], ['business', 'German growth goes into reverse'], ['business', 'Germany calls for EU reform'], ['technology', 'Go-ahead for new internet names'], ['sport', 'Greek duo cleared in doping case'], ['sport', \"Hansen 'delays return until 2006'\"], ['N/A', 'Article no longer available in archive'], ['sport', 'Henman & Murray claim LTA awards'], ['sport', 'Henman decides to quit Davis Cup'], ['technology', 'Hi-tech posters guide commuters'], ['sport', 'Hodgson shoulders England blame'], ['technology', 'Hollywood to sue net film pirates'], ['sport', 'Holmes secures comeback victory'], ['business', 'House prices suffer festive fall'], ['sport', 'IAAF launches fight against drugs'], ['business', 'India-Pakistan peace boosts trade'], ['business', 'Iraqi voters turn to economic issues'], ['sport', 'Jansen suffers a further setback'], ['technology', 'Latest Opera browser gets vocal'], ['business', 'Laura Ashley chief stepping down'], ['technology', 'Learning to love broadband'], ['technology', 'Mac Mini heralds mini revolution'], ['business', \"Macy's owner buys rival for $11bn\"], ['business', 'Madagascar completes currency switch'], ['sport', 'McLeish ready for criticism'], ['technology', 'Mobile games come of age'], ['technology', 'More power to the people says HP'], ['sport', 'Mourinho sends out warning shot'], ['sport', 'Moya suffers shock loss'], ['sport', 'Moyes U-turn on Beattie dismissal'], ['sport', 'Murray returns to Scotland fold'], ['business', 'Mystery surrounds new Yukos owner'], ['sport', 'Off-colour Gardener storms to win'], ['business', 'Oil companies get Russian setback'], ['sport', 'Owen may have to return home'], ['sport', 'Pearce keen on succeeding Keegan'], ['technology', \"Poles play with GameBoy 'blip-pop'\"], ['sport', 'Premier League probes Cole claims'], ['sport', 'Prodigy Monfils blows away Gaudio'], ['technology', 'Remote control rifle range debuts'], ['sport', 'Robinson ready for difficult task'], ['technology', 'Row brewing over peer-to-peer ads'], ['sport', 'Rusedski angry over supplements'], ['business', 'S Korean lender faces liquidation'], ['sport', 'SFA awaits report over Mikoliunas'], ['sport', 'Safin cool on Wimbledon'], ['sport', 'Safin plays down Wimbledon hopes'], ['technology', 'Satellite mapping aids Darfur relief'], ['technology', 'Search sites get closer to users'], ['technology', 'Security scares spark browser fix'], ['business', 'Senior Fannie Mae bosses resign'], ['technology', 'Solutions to net security fears'], ['business', 'Split-caps pay £194m compensation'], ['sport', 'Sports Stock Tips'], ['business', 'Strong quarterly growth for Nike'], ['technology', \"T-Mobile bets on 'pocket office'\"], ['sport', 'Thanou desperate to make return'], ['sport', 'Thompson says Gerrard should stay'], ['sport', 'Time to get tough on friendlies?'], ['technology', 'US peer-to-peer pirates convicted'], ['technology', 'US top of supercomputing charts'], ['business', 'Venezuela and China sign oil deal'], ['business', 'Weak end-of-year sales hit Next'], ['sport', 'Williams says he will never quit'], ['business', \"Winemaker rejects Foster's offer\"], ['business', \"Worldcom boss 'left books alone'\"], ['technology', 'Xbox 2 may be unveiled in summer'], ['technology', \"Xbox power cable 'fire fear'\"], ['business', \"Yangtze Electric's profits double\"], ['business', 'Yukos loses US bankruptcy battle'], ['business', '7 business technology trends to watch'], ['sport', 'A November to remember'], ['technology', 'A question of trust and technology'], ['business', 'Ad sales boost Time Warner profit'], ['sport', 'African double in Edinburgh'], ['business', 'Air passengers win new EU rights'], ['technology', 'Anti-spam screensaver scrapped'], ['sport', 'Arsenal through on penalties'], ['business', 'BP surges ahead on high oil price'], ['business', 'Bank holds interest rate at 4.75%'], ['business', 'Bank set to leave rates on hold'], ['sport', 'Bekele sets sights on world mark'], ['sport', 'Bitter Santini hits out at Spurs'], ['technology', 'Blogs take on the mainstream'], ['business', \"Brewers' profits lose their fizz\"], ['business', \"Bush to outline 'toughest' budget\"], ['business', \"Buyers snap up Jet Airways' shares\"], ['business', 'Cairn shares up on new oil find'], ['sport', 'Campbell to extend sprint career'], ['sport', 'Celtic make late bid for Bellamy'], ['sport', 'Charlton 1-2 Liverpool'], ['N/A', 'Article no longer available in archive'], ['sport', 'Chepkemei joins Edinburgh line-up'], ['N/A', 'Article no longer available in archive'], ['business', 'Chinese billionaire targets Manchester United shares in new deal, reports suggest'], ['sport', 'Collins calls for Chambers return'], ['technology', 'Commodore finds new lease of life'], ['technology', 'Creator of first Apple Mac dies'], ['sport', 'Cudicini misses Carling Cup final'], ['sport', 'Davenport hits out at Wimbledon'], ['sport', 'Davies favours Gloucester future'], ['business', 'Deutsche Telekom sees mobile gain'], ['sport', 'Dibaba breaks 5,000m world record'], ['sport', 'Dogged Federer claims Dubai crown'], ['business', 'Dollar hovers around record lows'], ['sport', 'Dundee Utd 4-1 Aberdeen'], ['business', 'EC calls truce in deficit battle'], ['business', 'EU-US seeking deal on air dispute'], ['business', 'Egypt and Israel seal trade deal'], ['business', 'Egypt to sell off state-owned bank'], ['sport', 'El Guerrouj targets cross country'], ['sport', 'FA ready to test out goal bleeper'], ['N/A', 'Article no longer available in archive'], ['business', 'FBI agent colludes with analyst'], ['technology', 'Fast moving phone bugs appear'], ['N/A', 'Article no longer available in archive'], ['sport', 'Ferguson fears Milan cutting edge'], ['sport', 'Finnan says Irish can win group'], ['sport', 'Fit-again Betsen in France squad'], ['business', 'Five million Germans out of work'], ['technology', \"Format wars could 'confuse users'\"], ['sport', 'Giggs handed Wales leading role'], ['technology', 'Gritty return for Prince of Persia'], ['sport', 'Hewitt survives Nalbandian epic'], ['business', 'Honda wins China copyright ruling'], ['business', 'India seeks to boost construction'], ['business', \"India's Deccan gets more planes\"], ['business', 'Indy buys into India paper'], ['business', 'Intercom raises €101m in funding round making it the most valuable Irish tech firm'], ['business', 'Iranian MPs threaten mobile deal'], ['business', 'Irish company hit by Iraqi report'], ['sport', 'Italy aim to rattle England'], ['business', 'Italy to get economic action plan'], ['sport', \"Juninho demand for O'Neill talks\"], ['sport', 'Kenyon denies Robben Barca return'], ['sport', 'Kerr frustrated at victory margin'], ['sport', 'Klinsmann issues Lehmann warning'], ['business', \"LSE 'sets date for takeover deal'\"], ['sport', 'Lewis-Francis eyeing world gold'], ['technology', \"Lifestyle 'governs mobile choice'\"], ['technology', 'Looks and music to drive mobiles'], ['sport', 'Man Utd through after Exeter test'], ['sport', 'Martinez sees off Vinci challenge'], ['technology', 'Microsoft makes anti-piracy move'], ['sport', 'Middlesbrough 2-2 Charlton'], ['sport', 'Mido makes third apology'], ['technology', 'Millions buy MP3 players in US'], ['business', 'Mixed signals from French economy'], ['technology', 'Mobile picture power in your pocket'], ['sport', 'Moore questions captaincy'], ['sport', 'More Africans for tsunami game'], ['sport', 'Murphy: That was a bruising battle'], ['sport', 'Navratilova hits out at critics'], ['sport', \"O'Driscoll out of Scotland game\"], ['sport', \"O'Gara revels in Ireland victory\"], ['sport', 'Owen dismisses fresh Real rumours'], ['technology', \"PC ownership to 'double by 2010'\"], ['sport', 'Paris promise raises Welsh hopes'], ['business', 'Parmalat sues 45 banks over crash'], ['technology', 'Progress on new internet domains'], ['business', 'Qantas considers offshore option'], ['sport', 'Radcliffe tackles marathon tasks'], ['sport', 'Rangers seal Old Firm win'], ['sport', 'Record fails to lift lacklustre meet'], ['business', 'Record year for Chilean copper'], ['sport', 'Republic to face China and Italy'], ['sport', 'Robben sidelined with broken foot'], ['technology', \"Robots learn 'robotiquette' rules\"], ['technology', \"Rolling out next generation's net\"], ['business', \"Russia WTO talks 'make progress'\"], ['technology', 'Screensaver tackles spam websites'], ['technology', 'Slim PlayStation triples sales'], ['business', 'Standard Life concern at LSE bid'], ['business', \"Steel firm 'to cut' 45,000 jobs\"], ['sport', 'Stuart joins Norwich from Addicks'], ['N/A', 'Article no longer available in archive'], ['technology', 'Sun offers processing by the hour'], ['technology', 'Tech helps disabled speed demons'], ['technology', 'Telewest to challenge Sky Plus'], ['sport', 'Thanou bullish over drugs hearing'], ['technology', 'The Force is strong in Battlefront'], ['technology', 'The gaming world in 2005'], ['business', 'Turkey knocks six zeros off lira'], ['business', 'UK Coal plunges into deeper loss'], ['business', 'US trade gap ballooned in October'], ['business', 'Unilever shake up as profit slips'], ['sport', 'Wales get Williams fitness boost'], ['sport', 'Wales stars need a rest - Ruddock'], ['business', \"Wall Street cool to eBay's profit\"], ['technology', 'Warnings about junk mail deluge'], ['technology', 'Web radio takes Spanish rap global'], ['sport', 'Wenger shock at Newcastle dip'], ['technology', 'When invention turns to innovation'], ['technology', 'Who do you think you are?'], ['sport', 'Wilkinson to miss Ireland match'], ['business', 'Winn-Dixie files for bankruptcy'], ['business', 'Yukos sues four firms for $20bn'], ['sport', 'A year to remember for Irish'], ['sport', 'An Irish Athletics Year'], ['sport', 'Arnesen denies rift with Santini'], ['business', 'Asia shares defy post-quake gloom'], ['business', 'Bank payout to Pinochet victims'], ['sport', 'Barcelona title hopes hit by loss'], ['business', 'Bargain calls widen Softbank loss'], ['sport', 'Bayern Munich 3-1 Arsenal'], ['sport', 'Benitez deflects blame from Dudek'], ['technology', 'Blog reading explodes in America'], ['technology', 'Broadband challenges TV viewing'], ['technology', 'Broadband in the UK growing fast'], ['sport', 'Calder fears for Scottish rugby'], ['sport', 'Captains lining up for Aid match'], ['sport', 'Celts savour Grand Slam prospect'], ['sport', 'Chelsea ridiculed over complaint'], ['business', 'China keeps tight rein on credit'], ['technology', 'China net cafe culture crackdown'], ['business', 'China suspends 26 power projects'], ['business', 'Christmas shoppers flock to tills'], ['sport', 'Collins named UK Athletics chief'], ['technology', 'Court mulls file-sharing future'], ['business', 'Crude oil prices back above $50'], ['technology', 'Cyber criminals step up the pace'], ['technology', 'DVD copy protection strengthened'], ['business', 'Deutsche attacks Yukos case'], ['sport', 'Disappointed Scott in solid start'], ['business', 'Durex maker SSL awaits firm bid'], ['technology', 'EA to take on film and TV giants'], ['sport', 'Edu blasts Arsenal'], ['N/A', 'Article no longer available in archive'], ['technology', 'Europe backs digital TV lifestyle'], ['sport', 'Farrell saga to drag on - Lindsay'], ['business', \"Featured: 'Golden economic period' to end\"], ['business', 'Feta cheese battle reaches court'], ['business', 'Firms pump billions into pensions'], ['technology', 'First look at PlayStation 3 chip'], ['business', 'Ford gains from finance not cars'], ['sport', 'Fuming Robinson blasts officials'], ['sport', 'GB quartet get cross country call'], ['technology', \"Gadget market 'to grow in 2005'\"], ['technology', 'Gadgets galore on show at fair'], ['technology', \"Games help you 'learn and play'\"], ['business', 'Gaming firm to sell UK dog tracks'], ['business', 'Germany nears 1990 jobless level'], ['sport', 'Greek pair attend drugs hearing'], ['sport', 'Gronkjaer agrees switch to Madrid'], ['N/A', 'Article no longer available in archive'], ['technology', \"Half of UK's mobiles 'go online'\"], ['sport', 'Hantuchova in Dubai last eight'], ['technology', 'Have hackers recruited your PC?'], ['sport', 'Healey targets England comeback'], ['business', 'High fuel costs hit US airlines'], ['business', \"High fuel prices hit BA's profits\"], ['technology', 'Hotspot users gain free net calls'], ['business', 'House prices drop as sales slow'], ['business', 'House prices show slight increase'], ['technology', 'ITunes user sues Apple over iPod'], ['business', 'India widens access to telecoms'], ['technology', 'Iran jails blogger for 14 years'], ['business', 'Irish duo could block Man Utd bid'], ['sport', 'Italy 8-38 Wales'], ['sport', 'Johnson uncertain about Euro bid'], ['sport', 'Kirwan demands Italy consistency'], ['business', 'Liberian economy starts to grow'], ['business', 'Malaysia lifts Islamic bank limit'], ['sport', 'Man Utd stroll to Cup win'], ['technology', 'Man auctions ad space on forehead'], ['business', \"Manufacturing recovery 'slowing'\"], ['business', 'Markets signal Brazilian recovery'], ['sport', 'Merritt close to indoor 400m mark'], ['technology', 'Microsoft debuts security tools'], ['technology', 'Microsoft releases patches'], ['business', 'Minister hits out at Yukos sale'], ['sport', 'Mirza shocks Kuznetsova'], ['N/A', 'Article no longer available in archive'], ['sport', 'Mourinho receives Robson warning'], ['sport', 'Moya emotional after Davis Cup win'], ['business', 'Nasdaq planning $100m share sale'], ['sport', 'Newcastle 2-1 Bolton'], ['sport', 'Newcastle to join Morientes race'], ['business', 'News Corp makes $5.4bn Fox offer'], ['business', 'Nigeria to boost cocoa production'], ['technology', 'Nintendo DS aims to touch gamers'], ['business', 'Novartis hits acquisition trail'], ['business', \"Profits stall at China's Lenovo\"], ['business', 'Putin backs state grab for Yukos'], ['business', 'Quiksilver moves for Rossignol'], ['sport', 'Redknapp poised for Saints'], ['sport', 'Robertson out to retain Euro lure'], ['technology', 'Seamen sail into biometric future'], ['business', 'Singapore growth at 8.1% in 2004'], ['N/A', 'Article no longer available in archive'], ['sport', 'Slovakia reach Hopman Cup final'], ['sport', 'Sociedad set to rescue Mladenovic'], ['technology', 'Sony wares win innovation award'], ['business', 'Soros group warns of Kazakh close'], ['technology', 'Sport-loving inventors whose tech could change the game'], ['sport', 'Sprinter Walker quits athletics'], ['N/A', 'Article no longer available in archive'], ['business', 'Stock market eyes Japan recovery'], ['business', 'Swiss cement firm in buying spree'], ['technology', 'Text message record smashed'], ['technology', 'The pirates with no profit motive'], ['business', 'Tsunami to cost Sri Lanka $1.3bn'], ['sport', 'UK Athletics agrees new kit deal'], ['technology', 'US cyber security chief resigns'], ['technology', 'US hacker breaks into T-Mobile'], ['business', 'US industrial output growth eases'], ['business', 'US insurer Marsh cuts 2,500 jobs'], ['business', 'US manufacturing expands'], ['business', 'US to rule on Yukos refuge call'], ['sport', 'Van Nistelrooy set to return'], ['sport', 'Vickery upbeat about arm injury'], ['technology', 'Video phones act as dating tools'], ['business', 'Virgin Blue shares plummet 20%'], ['N/A', 'Article no longer available in archive'], ['sport', 'Wada will appeal against ruling'], ['sport', 'Wales critical of clumsy Grewcock'], ['sport', 'Wales silent on Grand Slam talk'], ['sport', 'Wenger rules out new keeper'], ['sport', 'Wenger signs new deal'], ['business', 'Axa Sun Life cuts bonus payments'], ['technology', 'BT boosts its broadband packages'], ['sport', 'Bates seals takeover'], ['technology', 'Beckham virus spotted on the net'], ['technology', 'Broadband fuels online expression'], ['technology', 'Broadband in the UK gathers pace'], ['business', 'Burren awarded Egyptian contracts'], ['business', 'Business fears over sluggish EU economy'], ['sport', 'Candela completes Bolton switch'], ['business', 'Cannabis hopes for drug firm'], ['sport', 'Castaignede fires Laporte warning'], ['technology', \"Casual gaming to 'take off'\"], ['sport', 'Chelsea sack Mutu'], ['business', 'China Aviation seeks rescue deal'], ['sport', 'Classy Henman makes winning start'], ['sport', 'Collins banned in landmark case'], ['technology', 'Concerns over Windows ATMs'], ['sport', 'Connors boost for British tennis'], ['business', \"Crossrail link 'to get go-ahead'\"], ['N/A', 'Article no longer available in archive'], ['technology', 'Cyber crime booms in 2004'], ['technology', 'Disney backs Sony DVD technology'], ['business', 'Dollar slides ahead of New Year'], ['business', \"Economy 'stronger than forecast'\"], ['business', 'Electrolux to export Europe jobs'], ['business', \"Ethiopia's crop production up 24%\"], ['sport', 'FA charges Liverpool and Millwall'], ['sport', 'FA probes crowd trouble'], ['technology', \"Format wars could 'confuse users'\"], ['business', 'GM in crunch talks on Fiat future'], ['technology', 'Game makers get Xbox 2 sneak peek'], ['technology', 'Gamers could drive high-definition'], ['technology', 'Google launches TV search service'], ['sport', 'Harinordoquy suffers France axe'], ['sport', 'Hearts of Oak 3-2 Cotonsport'], ['sport', 'Hodges announces rugby retirement'], ['sport', 'Holmes feted with further honour'], ['technology', 'Honour for UK games maker'], ['sport', 'Houllier praises Benitez regime'], ['technology', 'Humanoid robot learns how to run'], ['sport', 'Ireland v USA (Sat)'], ['sport', 'Isinbayeva heads for Birmingham'], ['sport', 'Israeli club look to Africa'], ['technology', 'Junk e-mails on relentless rise'], ['sport', 'Kluft impressed by Sotherton form'], ['business', 'Latin America sees strong growth'], ['business', 'Libya takes $1bn in unfrozen funds'], ['technology', 'Loyalty cards idea for TV addicts'], ['sport', 'Man City 1-1 Newcastle'], ['sport', 'McCall earns Tannadice reprieve'], ['sport', 'McClaren eyes Uefa Cup top spot'], ['sport', \"McClaren hails Boro's Uefa spirit\"], ['sport', 'McIlroy aiming for Madrid title'], ['technology', 'Microsoft makes anti-piracy move'], ['technology', 'Microsoft seeking spyware trojan'], ['business', 'Mild winter drives US oil down 6%'], ['technology', 'Millions to miss out on the net'], ['sport', 'Minister digs in over doping row'], ['sport', 'Mirza makes Indian tennis history'], ['business', 'Mitsubishi in Peugeot link talks'], ['technology', 'Mobile multimedia slow to catch on'], ['technology', \"Mobiles 'not media players yet'\"], ['sport', 'Morientes admits to Reds struggle'], ['sport', 'Mourinho plots impressive course'], ['sport', 'Mourinho says race is almost over'], ['N/A', 'Article no longer available in archive'], ['sport', 'Moya sidesteps Davis Cup in 2005'], ['sport', 'Nadal marches on in Mexico'], ['technology', 'Nintendo adds media playing to DS'], ['sport', \"O'Connell rejects Lions rumours\"], ['sport', \"O'Driscoll concern at Fifa ruling\"], ['business', 'Oil prices fall back from highs'], ['business', 'Ore costs hit global steel firms'], ['sport', 'Parry relishes Anfield challenge'], ['business', 'Peugeot deal boosts Mitsubishi'], ['N/A', 'Article no longer available in archive'], ['technology', 'PlayStation 3 chip to be unveiled'], ['technology', 'Portable PlayStation ready to go'], ['sport', 'Premier League planning Cole date'], ['business', 'Qantas sees profits fly to record'], ['sport', 'Radcliffe yet to answer GB call'], ['sport', \"Redknapp's Saints face Pompey tie\"], ['sport', 'Reds sink 10-man Magpies'], ['business', 'Reliance unit loses Anil Ambani'], ['technology', 'Rich pickings for hi-tech thieves'], ['sport', 'Robinson out of Six Nations'], ['sport', 'Rovers reject third Ferguson bid'], ['sport', 'Saint-Andre anger at absent stars'], ['N/A', 'Article no longer available in archive'], ['business', 'Salary scandal in Cameroon'], ['technology', 'Slimmer PlayStation triple sales'], ['sport', 'Slovakia seal Hopman Cup success'], ['technology', 'Smart search lets art fans browse'], ['sport', 'Smith keen on Home series return'], ['sport', 'South Africa sweep top awards'], ['technology', 'Speak easy plan for media players'], ['technology', 'Speech takes on search engines'], ['business', \"Tokyo says deflation 'controlled'\"], ['business', 'Turkey turns on the economic charm'], ['business', \"Turkey-Iran mobile deal 'at risk'\"], ['business', \"UK 'risks breaking golden rule'\"], ['business', 'UK firm faces Venezuelan land row'], ['technology', 'UK pioneers digital film network'], ['business', 'US bank in $515m SEC settlement'], ['business', 'US crude prices surge above $53'], ['sport', 'Umaga ready for Lions'], ['business', 'Umbro profits lifted by Euro 2004'], ['technology', 'Virgin Radio offers 3G broadcast'], ['technology', 'Virus poses as Christmas e-mail'], ['technology', 'Voters flock to blog awards site'], ['sport', 'Wales want rugby league training'], ['sport', 'Wales win in Rome'], ['technology', 'Warning over tsunami aid website'], ['sport', 'Wolves appoint Hoddle as manager'], ['sport', 'Wood - Ireland can win Grand Slam'], ['business', 'World leaders gather to face uncertainty'], ['sport', 'Worthington praises classy Villa'], ['sport', 'Yachvili savours France comeback'], ['N/A', 'Article no longer available in archive'], ['business', 'Yukos heading back to US courts'], ['business', 'Yukos seeks court action on sale'], ['business', 'Yukos unit fetches $9bn at auction'], ['business', 'Air China in $1bn London listing'], ['sport', 'Angry Williams rejects criticism'], ['business', 'Apple Inc. Phone Pricing Likely To Trend Lower'], ['business', 'Argentina closes $102.6bn debt swap'], ['business', 'AstraZeneca hit by drug failure'], ['sport', 'Balco case trial date pushed back'], ['business', 'Battered dollar hits another low'], ['sport', 'Beckham hints at Man Utd return'], ['sport', 'Benitez joy as Reds take control'], ['technology', \"Blind student 'hears in colour'\"], ['technology', 'Blogger grounded by her airline'], ['business', 'Brazil jobless rate hits new low'], ['technology', 'Broadband set to revolutionise TV'], ['technology', 'Bush website blocked outside US'], ['business', 'Business confidence dips in Japan'], ['business', 'Businesses fail to plan for HIV'], ['sport', 'Campese berates whingeing England'], ['sport', 'Cech sets clean-sheet benchmark'], ['technology', \"China 'blocks Google news site'\"], ['business', 'China continues rapid growth'], ['business', 'Circuit City gets takeover offer'], ['sport', 'Claxton hunting first major medal'], ['technology', 'Consumer concern over RFID tags'], ['business', \"Continental 'may run out of cash'\"], ['business', 'Deadline nears for Fiat-GM deal'], ['business', \"Deutsche Boerse set to 'woo' LSE\"], ['technology', 'Domain system scam fear'], ['technology', 'Doors open at biggest gadget fair'], ['sport', 'Dunne keen to commit to Man City'], ['business', 'EMI shares hit by profit warning'], ['business', \"EU to probe Alitalia 'state aid'\"], ['sport', \"England 'to launch ref protest'\"], ['sport', 'Faye plans to stay at Portsmouth'], ['business', \"Featured: 'Strong dollar' call halts slide\"], ['sport', \"Ferguson hails Man Utd's resolve\"], ['sport', 'Fuming Robinson blasts officials'], ['business', 'Further rise in UK jobless total'], ['technology', 'Gadget growth fuels eco concerns'], ['technology', 'Gadget show heralds MP3 season'], ['technology', 'Games win for Blu-ray DVD format'], ['business', 'German business confidence slides'], ['sport', 'Gerrard future not decided by Cardiff loss'], ['technology', 'Halo 2 sells five million copies'], ['sport', 'Henin-Hardenne beaten on comeback'], ['sport', 'Hewitt falls to Dent in Adelaide'], ['technology', 'How to smash a home computer'], ['sport', 'Ireland call up uncapped Campbell'], ['business', 'Israel looks to US for bank chief'], ['sport', 'Keane defiant over Vieira bust-up'], ['sport', \"Kenya lift Chepkemei's suspension\"], ['business', 'Kraft cuts snack ads for children'], ['business', 'Lesotho textile workers lose jobs'], ['sport', 'Lomu relishing return to action'], ['business', 'Lufthansa may sue over Bush visit'], ['business', 'MCI shares climb on takeover bid'], ['business', \"MG Rover China tie-up 'delayed'\"], ['business', 'Making your office work for you'], ['sport', 'McIlroy continues winning streak'], ['technology', 'Mobile TV tipped as one to watch'], ['business', 'Monsanto fined $1.5m for bribery'], ['technology', 'Moving mobile improves golf swing'], ['sport', 'Nadal puts Spain 2-0 up'], ['business', 'Nasdaq planning $100m-share sale'], ['technology', \"New Year's texting breaks record\"], ['N/A', 'Article no longer available in archive'], ['technology', 'New consoles promise big problems'], ['technology', 'Nintendo DS makes its Euro debut'], ['sport', \"O'Connor aims to grab opportunity\"], ['sport', \"O'Leary agrees new Villa contract\"], ['N/A', 'Article no longer available in archive'], ['sport', \"O'Sullivan keeps his powder dry\"], ['technology', 'Online commons to spark debate'], ['technology', 'Online games play with politics'], ['business', 'Parmalat founder offers apology'], ['business', 'Parmalat to return to stockmarket'], ['technology', \"Peer-to-peer nets 'here to stay'\"], ['business', 'Pernod takeover talk lifts Domecq'], ['business', \"Profits jump at China's top bank\"], ['sport', 'Prop Jones ready for hard graft'], ['business', 'Qatar and Shell in $6bn gas deal'], ['business', \"Quake's economic costs emerging\"], ['sport', 'Real in talks over Gravesen move'], ['business', 'Rescue hope for Borussia Dortmund'], ['sport', 'Robben and Cole earn Chelsea win'], ['technology', 'Robotic pods take on car design'], ['sport', 'Roddick in talks over new coach'], ['business', 'SEC to rethink post-Enron rules'], ['technology', 'Santy worm makes unwelcome visit'], ['technology', 'Seamen sail into biometric future'], ['sport', 'Serena becomes world number two'], ['sport', 'Smith aims to bring back respect'], ['business', \"Soaring oil 'hits world economy'\"], ['technology', 'Software watching while you work'], ['technology', 'Sony PSP console hits US in March'], ['sport', 'TV calls after Carroll error'], ['technology', \"TV's future down the phone line\"], ['N/A', 'Article no longer available in archive'], ['business', \"The 'ticking budget' facing the US\"], ['business', 'Train strike grips Buenos Aires'], ['technology', 'UK broadband gets speed injection'], ['business', 'US adds more jobs than expected'], ['business', 'US economy shows solid GDP growth'], ['business', 'US economy still growing says Fed'], ['business', 'US in EU tariff chaos trade row'], ['business', 'US retail sales surge in December'], ['business', 'US trade gap hits record in 2004'], ['business', 'Ukraine revisits state sell-offs'], ['sport', 'Underdogs have more fun'], ['business', 'VW considers opening Indian plant'], ['business', 'Wal-Mart to pay $14m in gun suit'], ['sport', 'Wasps 31-37 Leicester'], ['technology', 'What high-definition will do to DVDs'], ['technology', 'Why Cell will get the hard sell'], ['sport', 'Wilkinson fit to face Edinburgh'], ['sport', \"Wilkinson return 'unlikely'\"], ['technology', 'Yahoo celebrates a decade online'], ['technology', 'Yahoo moves into desktop search'], ['technology', '2D Metal Slug offers retro fun'], ['technology', 'Anti-spam laws bite spammer hard'], ['technology', \"Apple laptop is 'greatest gadget'\"], ['technology', 'Apple makes blogs reveal sources'], ['technology', \"Apple unveils low-cost 'Mac mini'\"], ['business', \"Arsenal 'may seek full share listing'\"], ['business', 'BA to suspend two Saudi services'], ['business', 'BMW drives record sales in Asia'], ['business', 'BT offers equal access to rivals'], ['sport', 'Barwick calls for Highbury calm'], ['sport', 'Barwick installed as new FA boss'], ['technology', 'Be careful how you code'], ['business', 'Beer giant swallows Russian firm'], ['technology', 'Blinx sequel purrs nicely'], ['business', 'Bombardier chief to leave company'], ['technology', 'Bond game fails to shake or stir'], ['business', \"Britannia members' £42m windfall\"], ['technology', 'California sets fines for spyware'], ['business', 'Call to save manufacturing jobs'], ['sport', 'Can Smith work Scottish wonders?'], ['technology', 'Cebit fever takes over Hanover'], ['sport', 'Chelsea clinch cup in extra-time'], ['technology', \"China 'to overtake US net use'\"], ['business', 'China bans new tobacco factories'], ['sport', 'Davenport dismantles young rival'], ['business', \"Disaster claims 'less than $10bn'\"], ['business', 'Dollar drops on reserves concerns'], ['business', \"EU 'too slow' on economic reforms\"], ['sport', 'English clubs make Euro history'], ['business', 'Ex-Boeing director gets jail term'], ['sport', 'FA decides not to punish Mourinho'], ['technology', 'Fast lifts rise into record books'], ['technology', \"Featured: 'Blog' picked as word of the year\"], ['technology', \"Featured: 'Brainwave' cap controls computer\"], ['technology', \"Featured: 'Podcasters' look to net money\"], ['business', 'Fresh hope after Argentine crisis'], ['technology', \"Gadget market 'to grow in 2005'\"], ['technology', 'Gates opens biggest gadget fair'], ['sport', 'Gebrselassie in London triple bid'], ['sport', 'Gerrard plays down European hopes'], ['business', 'Giant waves damage S Asia economy'], ['business', 'Giving financial gifts to children'], ['business', 'Golden rule boost for Chancellor'], ['sport', 'Henman hopes ended in Dubai'], ['technology', \"Hitachi unveils 'fastest robot'\"], ['technology', 'Hotspot users gain free net calls'], ['business', 'How Manchester United, Knicks Wins Correlate With Stock Gains'], ['business', 'Hyundai to build new India plant'], ['business', 'Industrial revival hope for Japan'], ['business', 'Insurance bosses plead guilty'], ['business', 'Iraq and Afghanistan in WTO talks'], ['sport', 'Ireland surge past Scots'], ['sport', 'Italy 17-28 Ireland'], ['business', 'JP Morgan admits US slavery links'], ['sport', 'Keegan hails comeback king Fowler'], ['technology', 'Kenyan school turns to handhelds'], ['technology', 'Long life promised for laptop PCs'], ['business', 'M&S cuts prices by average of 24%'], ['business', 'MCI shareholder sues to stop bid'], ['business', 'Market unfazed by Aurora setback'], ['technology', 'Microsoft takes on desktop search'], ['business', \"Millions 'to lose textile jobs'\"], ['technology', 'Mobile networks seek turbo boost'], ['technology', \"Mobiles 'not media players yet'\"], ['technology', 'Mobiles double up as bus tickets'], ['technology', 'Mobiles rack up 20 years of use'], ['N/A', 'Article no longer available in archive'], ['sport', 'Mourinho takes swipe at Arsenal'], ['sport', 'Mourinho to escape FA charge'], ['technology', \"Net regulation 'still possible'\"], ['technology', 'New delay hits EU software laws'], ['business', 'Newest EU members underpin growth'], ['sport', 'No lack of Christmas spirit'], ['sport', \"O'Driscoll/Gregan lead Aid stars\"], ['business', 'Optimism remains over UK housing'], ['business', 'Orange colour clash set for court'], ['sport', 'Owen delighted with Real display'], ['technology', 'Pandas benefit from wireless net'], ['technology', 'Parents face video game lessons'], ['sport', 'Petit career ended by knee injury'], ['N/A', 'Article no longer available in archive'], ['sport', 'Plymouth 3-0 Sheff Utd'], ['sport', 'Preview: Ireland v England (Sun)'], ['sport', 'Prinz beats Hamm to Fifa trophy'], ['business', \"Profits slide at India's Dr Reddy\"], ['sport', 'Prutton poised for lengthy FA ban'], ['technology', 'Rivals of the £400 Apple...'], ['sport', 'Robinson answers critics'], ['sport', 'Rochus shocks Coria in Auckland'], ['business', \"Rover deal 'may cost 2,000 jobs'\"], ['N/A', 'Article no longer available in archive'], ['sport', 'Running around the Olympics'], ['business', \"SA unveils 'more for all' budget\"], ['business', 'SBC plans post-takeover job cuts'], ['business', 'Safety alert as GM recalls cars'], ['business', 'Saudi ministry to employ women'], ['technology', 'Savvy searchers fail to spot ads'], ['business', 'Shares hit by MS drug suspension'], ['business', 'Slowdown hits US factory growth'], ['technology', 'Spam e-mails tempt net shoppers'], ['technology', 'Text messages aid disaster recovery'], ['sport', 'The wonder of Ronaldinho'], ['technology', 'The year search became personal'], ['sport', 'Tomlinson stays focused on Europe'], ['N/A', 'Article no longer available in archive'], ['business', \"US bank boss hails 'genius' Smith\"], ['business', 'US consumer confidence up'], ['business', 'US trade deficit widens sharply'], ['sport', 'Uefa threat over foreign quotas'], ['business', \"Ukraine steel sell-off 'illegal'\"], ['business', 'Ukraine trims privatisation check'], ['sport', 'Venus stunned by Farina Elia'], ['sport', 'Video technology will not make football a mistake-free sport'], ['technology', 'Warning over Windows Word files'], ['business', 'Weak dollar trims Cadbury profits'], ['technology', 'Web helps collect aid donations'], ['sport', 'Wenger handed summer war chest'], ['technology', 'When technology gets personal']]\n",
      "[['technology', '21st-Century Sports: How Digital Technology Is Changing the Face Of The Sporting Industry'], ['business', 'Asian quake hits European shares'], ['technology', 'BT offers free net phone calls'], ['business', 'Barclays shares up on merger talk'], ['sport', 'Barkley fit for match in Ireland'], ['sport', 'Bellamy under new fire'], ['sport', \"Benitez 'to launch Morientes bid'\"], ['sport', 'Benitez delight after crucial win'], ['technology', 'Big war games battle it out'], ['technology', 'British Library gets wireless net'], ['sport', \"Brizzel to run AAA's in Sheffield\"], ['business', 'Bush budget seeks deep cutbacks'], ['business', \"Bush to get 'tough' on deficit\"], ['technology', 'Cable offers video-on-demand'], ['technology', 'Cabs collect mountain of mobiles'], ['technology', \"Camera phones are 'must-haves'\"], ['business', \"Card fraudsters 'targeting web'\"], ['business', 'Cash gives way to flexible friend'], ['technology', 'Cebit opens to mobile music tune'], ['sport', 'Charvis set to lose fitness bid'], ['sport', 'Chelsea hold Arsenal'], ['business', 'Christmas sales worst since 1981'], ['sport', 'Clijsters set for February return'], ['sport', 'Clyde 0-5 Celtic'], ['sport', 'Coach Ranieri sacked by Valencia'], ['technology', 'Confusion over high-definition TV'], ['business', 'Cuba winds back economic clock'], ['technology', 'DS aims to touch gamers'], ['sport', 'Dawson set for new Wasps contract'], ['business', 'Diageo to buy US wine firm'], ['technology', 'Digital guru floats sub-$100 PC'], ['business', 'EU aiming to fuel development aid'], ['N/A', 'Article no longer available in archive'], ['sport', 'England 17-18 France'], ['business', 'Enron bosses in $168m payout'], ['business', \"Euronext 'poised to make LSE bid'\"], ['business', 'Europe asks Asia for euro help'], ['business', 'Europe blames US over weak dollar'], ['business', \"Fannie Mae 'should restate books'\"], ['technology', \"Featured: 'Brainwave' cap controls computer\"], ['technology', \"Featured: 'Evil twin' fear for wireless net\"], ['technology', \"Featured: 'Friends fear' with lost mobiles\"], ['N/A', 'Article no longer available in archive'], ['business', \"Featured: 'Post-Christmas lull' in lending\"], ['business', 'Fed warns of more US rate rises'], ['sport', 'Federer forced to dig deep'], ['sport', 'Ferguson puts faith in youngsters'], ['business', \"GE sees 'excellent' world economy\"], ['business', 'GM issues 2005 profits warning'], ['technology', 'Gangsters dominate gaming chart'], ['sport', 'Gardener wins double in Glasgow'], ['N/A', 'Article no longer available in archive'], ['business', \"Gazprom 'in $36m back-tax claim'\"], ['business', 'German growth goes into reverse'], ['business', 'Germany calls for EU reform'], ['technology', 'Go-ahead for new internet names'], ['sport', 'Greek duo cleared in doping case'], ['sport', \"Hansen 'delays return until 2006'\"], ['N/A', 'Article no longer available in archive'], ['sport', 'Henman & Murray claim LTA awards'], ['sport', 'Henman decides to quit Davis Cup'], ['technology', 'Hi-tech posters guide commuters'], ['sport', 'Hodgson shoulders England blame'], ['technology', 'Hollywood to sue net film pirates'], ['sport', 'Holmes secures comeback victory'], ['business', 'House prices suffer festive fall'], ['sport', 'IAAF launches fight against drugs'], ['business', 'India-Pakistan peace boosts trade'], ['business', 'Iraqi voters turn to economic issues'], ['sport', 'Jansen suffers a further setback'], ['technology', 'Latest Opera browser gets vocal'], ['business', 'Laura Ashley chief stepping down'], ['technology', 'Learning to love broadband'], ['technology', 'Mac Mini heralds mini revolution'], ['business', \"Macy's owner buys rival for $11bn\"], ['business', 'Madagascar completes currency switch'], ['sport', 'McLeish ready for criticism'], ['technology', 'Mobile games come of age'], ['technology', 'More power to the people says HP'], ['sport', 'Mourinho sends out warning shot'], ['sport', 'Moya suffers shock loss'], ['sport', 'Moyes U-turn on Beattie dismissal'], ['sport', 'Murray returns to Scotland fold'], ['business', 'Mystery surrounds new Yukos owner'], ['sport', 'Off-colour Gardener storms to win'], ['business', 'Oil companies get Russian setback'], ['sport', 'Owen may have to return home'], ['sport', 'Pearce keen on succeeding Keegan'], ['technology', \"Poles play with GameBoy 'blip-pop'\"], ['sport', 'Premier League probes Cole claims'], ['sport', 'Prodigy Monfils blows away Gaudio'], ['technology', 'Remote control rifle range debuts'], ['sport', 'Robinson ready for difficult task'], ['technology', 'Row brewing over peer-to-peer ads'], ['sport', 'Rusedski angry over supplements'], ['business', 'S Korean lender faces liquidation'], ['sport', 'SFA awaits report over Mikoliunas'], ['sport', 'Safin cool on Wimbledon'], ['sport', 'Safin plays down Wimbledon hopes'], ['technology', 'Satellite mapping aids Darfur relief'], ['technology', 'Search sites get closer to users'], ['technology', 'Security scares spark browser fix'], ['business', 'Senior Fannie Mae bosses resign'], ['technology', 'Solutions to net security fears'], ['business', 'Split-caps pay £194m compensation'], ['sport', 'Sports Stock Tips'], ['business', 'Strong quarterly growth for Nike'], ['technology', \"T-Mobile bets on 'pocket office'\"], ['sport', 'Thanou desperate to make return'], ['sport', 'Thompson says Gerrard should stay'], ['sport', 'Time to get tough on friendlies?'], ['technology', 'US peer-to-peer pirates convicted'], ['technology', 'US top of supercomputing charts'], ['business', 'Venezuela and China sign oil deal'], ['business', 'Weak end-of-year sales hit Next'], ['sport', 'Williams says he will never quit'], ['business', \"Winemaker rejects Foster's offer\"], ['business', \"Worldcom boss 'left books alone'\"], ['technology', 'Xbox 2 may be unveiled in summer'], ['technology', \"Xbox power cable 'fire fear'\"], ['business', \"Yangtze Electric's profits double\"], ['business', 'Yukos loses US bankruptcy battle'], ['business', '7 business technology trends to watch'], ['sport', 'A November to remember'], ['technology', 'A question of trust and technology'], ['business', 'Ad sales boost Time Warner profit'], ['sport', 'African double in Edinburgh'], ['business', 'Air passengers win new EU rights'], ['technology', 'Anti-spam screensaver scrapped'], ['sport', 'Arsenal through on penalties'], ['business', 'BP surges ahead on high oil price'], ['business', 'Bank holds interest rate at 4.75%'], ['business', 'Bank set to leave rates on hold'], ['sport', 'Bekele sets sights on world mark'], ['sport', 'Bitter Santini hits out at Spurs'], ['technology', 'Blogs take on the mainstream'], ['business', \"Brewers' profits lose their fizz\"], ['business', \"Bush to outline 'toughest' budget\"], ['business', \"Buyers snap up Jet Airways' shares\"], ['business', 'Cairn shares up on new oil find'], ['sport', 'Campbell to extend sprint career'], ['sport', 'Celtic make late bid for Bellamy'], ['sport', 'Charlton 1-2 Liverpool'], ['N/A', 'Article no longer available in archive'], ['sport', 'Chepkemei joins Edinburgh line-up'], ['N/A', 'Article no longer available in archive'], ['business', 'Chinese billionaire targets Manchester United shares in new deal, reports suggest'], ['sport', 'Collins calls for Chambers return'], ['technology', 'Commodore finds new lease of life'], ['technology', 'Creator of first Apple Mac dies'], ['sport', 'Cudicini misses Carling Cup final'], ['sport', 'Davenport hits out at Wimbledon'], ['sport', 'Davies favours Gloucester future'], ['business', 'Deutsche Telekom sees mobile gain'], ['sport', 'Dibaba breaks 5,000m world record'], ['sport', 'Dogged Federer claims Dubai crown'], ['business', 'Dollar hovers around record lows'], ['sport', 'Dundee Utd 4-1 Aberdeen'], ['business', 'EC calls truce in deficit battle'], ['business', 'EU-US seeking deal on air dispute'], ['business', 'Egypt and Israel seal trade deal'], ['business', 'Egypt to sell off state-owned bank'], ['sport', 'El Guerrouj targets cross country'], ['sport', 'FA ready to test out goal bleeper'], ['N/A', 'Article no longer available in archive'], ['business', 'FBI agent colludes with analyst'], ['technology', 'Fast moving phone bugs appear'], ['N/A', 'Article no longer available in archive'], ['sport', 'Ferguson fears Milan cutting edge'], ['sport', 'Finnan says Irish can win group'], ['sport', 'Fit-again Betsen in France squad'], ['business', 'Five million Germans out of work'], ['technology', \"Format wars could 'confuse users'\"], ['sport', 'Giggs handed Wales leading role'], ['technology', 'Gritty return for Prince of Persia'], ['sport', 'Hewitt survives Nalbandian epic'], ['business', 'Honda wins China copyright ruling'], ['business', 'India seeks to boost construction'], ['business', \"India's Deccan gets more planes\"], ['business', 'Indy buys into India paper'], ['business', 'Intercom raises €101m in funding round making it the most valuable Irish tech firm'], ['business', 'Iranian MPs threaten mobile deal'], ['business', 'Irish company hit by Iraqi report'], ['sport', 'Italy aim to rattle England'], ['business', 'Italy to get economic action plan'], ['sport', \"Juninho demand for O'Neill talks\"], ['sport', 'Kenyon denies Robben Barca return'], ['sport', 'Kerr frustrated at victory margin'], ['sport', 'Klinsmann issues Lehmann warning'], ['business', \"LSE 'sets date for takeover deal'\"], ['sport', 'Lewis-Francis eyeing world gold'], ['technology', \"Lifestyle 'governs mobile choice'\"], ['technology', 'Looks and music to drive mobiles'], ['sport', 'Man Utd through after Exeter test'], ['sport', 'Martinez sees off Vinci challenge'], ['technology', 'Microsoft makes anti-piracy move'], ['sport', 'Middlesbrough 2-2 Charlton'], ['sport', 'Mido makes third apology'], ['technology', 'Millions buy MP3 players in US'], ['business', 'Mixed signals from French economy'], ['technology', 'Mobile picture power in your pocket'], ['sport', 'Moore questions captaincy'], ['sport', 'More Africans for tsunami game'], ['sport', 'Murphy: That was a bruising battle'], ['sport', 'Navratilova hits out at critics'], ['sport', \"O'Driscoll out of Scotland game\"], ['sport', \"O'Gara revels in Ireland victory\"], ['sport', 'Owen dismisses fresh Real rumours'], ['technology', \"PC ownership to 'double by 2010'\"], ['sport', 'Paris promise raises Welsh hopes'], ['business', 'Parmalat sues 45 banks over crash'], ['technology', 'Progress on new internet domains'], ['business', 'Qantas considers offshore option'], ['sport', 'Radcliffe tackles marathon tasks'], ['sport', 'Rangers seal Old Firm win'], ['sport', 'Record fails to lift lacklustre meet'], ['business', 'Record year for Chilean copper'], ['sport', 'Republic to face China and Italy'], ['sport', 'Robben sidelined with broken foot'], ['technology', \"Robots learn 'robotiquette' rules\"], ['technology', \"Rolling out next generation's net\"], ['business', \"Russia WTO talks 'make progress'\"], ['technology', 'Screensaver tackles spam websites'], ['technology', 'Slim PlayStation triples sales'], ['business', 'Standard Life concern at LSE bid'], ['business', \"Steel firm 'to cut' 45,000 jobs\"], ['sport', 'Stuart joins Norwich from Addicks'], ['N/A', 'Article no longer available in archive'], ['technology', 'Sun offers processing by the hour'], ['technology', 'Tech helps disabled speed demons'], ['technology', 'Telewest to challenge Sky Plus'], ['sport', 'Thanou bullish over drugs hearing'], ['technology', 'The Force is strong in Battlefront'], ['technology', 'The gaming world in 2005'], ['business', 'Turkey knocks six zeros off lira'], ['business', 'UK Coal plunges into deeper loss'], ['business', 'US trade gap ballooned in October'], ['business', 'Unilever shake up as profit slips'], ['sport', 'Wales get Williams fitness boost'], ['sport', 'Wales stars need a rest - Ruddock'], ['business', \"Wall Street cool to eBay's profit\"], ['technology', 'Warnings about junk mail deluge'], ['technology', 'Web radio takes Spanish rap global'], ['sport', 'Wenger shock at Newcastle dip'], ['technology', 'When invention turns to innovation'], ['technology', 'Who do you think you are?'], ['sport', 'Wilkinson to miss Ireland match'], ['business', 'Winn-Dixie files for bankruptcy'], ['business', 'Yukos sues four firms for $20bn'], ['sport', 'A year to remember for Irish'], ['sport', 'An Irish Athletics Year'], ['sport', 'Arnesen denies rift with Santini'], ['business', 'Asia shares defy post-quake gloom'], ['business', 'Bank payout to Pinochet victims'], ['sport', 'Barcelona title hopes hit by loss'], ['business', 'Bargain calls widen Softbank loss'], ['sport', 'Bayern Munich 3-1 Arsenal'], ['sport', 'Benitez deflects blame from Dudek'], ['technology', 'Blog reading explodes in America'], ['technology', 'Broadband challenges TV viewing'], ['technology', 'Broadband in the UK growing fast'], ['sport', 'Calder fears for Scottish rugby'], ['sport', 'Captains lining up for Aid match'], ['sport', 'Celts savour Grand Slam prospect'], ['sport', 'Chelsea ridiculed over complaint'], ['business', 'China keeps tight rein on credit'], ['technology', 'China net cafe culture crackdown'], ['business', 'China suspends 26 power projects'], ['business', 'Christmas shoppers flock to tills'], ['sport', 'Collins named UK Athletics chief'], ['technology', 'Court mulls file-sharing future'], ['business', 'Crude oil prices back above $50'], ['technology', 'Cyber criminals step up the pace'], ['technology', 'DVD copy protection strengthened'], ['business', 'Deutsche attacks Yukos case'], ['sport', 'Disappointed Scott in solid start'], ['business', 'Durex maker SSL awaits firm bid'], ['technology', 'EA to take on film and TV giants'], ['sport', 'Edu blasts Arsenal'], ['N/A', 'Article no longer available in archive'], ['technology', 'Europe backs digital TV lifestyle'], ['sport', 'Farrell saga to drag on - Lindsay'], ['business', \"Featured: 'Golden economic period' to end\"], ['business', 'Feta cheese battle reaches court'], ['business', 'Firms pump billions into pensions'], ['technology', 'First look at PlayStation 3 chip'], ['business', 'Ford gains from finance not cars'], ['sport', 'Fuming Robinson blasts officials'], ['sport', 'GB quartet get cross country call'], ['technology', \"Gadget market 'to grow in 2005'\"], ['technology', 'Gadgets galore on show at fair'], ['technology', \"Games help you 'learn and play'\"], ['business', 'Gaming firm to sell UK dog tracks'], ['business', 'Germany nears 1990 jobless level'], ['sport', 'Greek pair attend drugs hearing'], ['sport', 'Gronkjaer agrees switch to Madrid'], ['N/A', 'Article no longer available in archive'], ['technology', \"Half of UK's mobiles 'go online'\"], ['sport', 'Hantuchova in Dubai last eight'], ['technology', 'Have hackers recruited your PC?'], ['sport', 'Healey targets England comeback'], ['business', 'High fuel costs hit US airlines'], ['business', \"High fuel prices hit BA's profits\"], ['technology', 'Hotspot users gain free net calls'], ['business', 'House prices drop as sales slow'], ['business', 'House prices show slight increase'], ['technology', 'ITunes user sues Apple over iPod'], ['business', 'India widens access to telecoms'], ['technology', 'Iran jails blogger for 14 years'], ['business', 'Irish duo could block Man Utd bid'], ['sport', 'Italy 8-38 Wales'], ['sport', 'Johnson uncertain about Euro bid'], ['sport', 'Kirwan demands Italy consistency'], ['business', 'Liberian economy starts to grow'], ['business', 'Malaysia lifts Islamic bank limit'], ['sport', 'Man Utd stroll to Cup win'], ['technology', 'Man auctions ad space on forehead'], ['business', \"Manufacturing recovery 'slowing'\"], ['business', 'Markets signal Brazilian recovery'], ['sport', 'Merritt close to indoor 400m mark'], ['technology', 'Microsoft debuts security tools'], ['technology', 'Microsoft releases patches'], ['business', 'Minister hits out at Yukos sale'], ['sport', 'Mirza shocks Kuznetsova'], ['N/A', 'Article no longer available in archive'], ['sport', 'Mourinho receives Robson warning'], ['sport', 'Moya emotional after Davis Cup win'], ['business', 'Nasdaq planning $100m share sale'], ['sport', 'Newcastle 2-1 Bolton'], ['sport', 'Newcastle to join Morientes race'], ['business', 'News Corp makes $5.4bn Fox offer'], ['business', 'Nigeria to boost cocoa production'], ['technology', 'Nintendo DS aims to touch gamers'], ['business', 'Novartis hits acquisition trail'], ['business', \"Profits stall at China's Lenovo\"], ['business', 'Putin backs state grab for Yukos'], ['business', 'Quiksilver moves for Rossignol'], ['sport', 'Redknapp poised for Saints'], ['sport', 'Robertson out to retain Euro lure'], ['technology', 'Seamen sail into biometric future'], ['business', 'Singapore growth at 8.1% in 2004'], ['N/A', 'Article no longer available in archive'], ['sport', 'Slovakia reach Hopman Cup final'], ['sport', 'Sociedad set to rescue Mladenovic'], ['technology', 'Sony wares win innovation award'], ['business', 'Soros group warns of Kazakh close'], ['technology', 'Sport-loving inventors whose tech could change the game'], ['sport', 'Sprinter Walker quits athletics'], ['N/A', 'Article no longer available in archive'], ['business', 'Stock market eyes Japan recovery'], ['business', 'Swiss cement firm in buying spree'], ['technology', 'Text message record smashed'], ['technology', 'The pirates with no profit motive'], ['business', 'Tsunami to cost Sri Lanka $1.3bn'], ['sport', 'UK Athletics agrees new kit deal'], ['technology', 'US cyber security chief resigns'], ['technology', 'US hacker breaks into T-Mobile'], ['business', 'US industrial output growth eases'], ['business', 'US insurer Marsh cuts 2,500 jobs'], ['business', 'US manufacturing expands'], ['business', 'US to rule on Yukos refuge call'], ['sport', 'Van Nistelrooy set to return'], ['sport', 'Vickery upbeat about arm injury'], ['technology', 'Video phones act as dating tools'], ['business', 'Virgin Blue shares plummet 20%'], ['N/A', 'Article no longer available in archive'], ['sport', 'Wada will appeal against ruling'], ['sport', 'Wales critical of clumsy Grewcock'], ['sport', 'Wales silent on Grand Slam talk'], ['sport', 'Wenger rules out new keeper'], ['sport', 'Wenger signs new deal'], ['business', 'Axa Sun Life cuts bonus payments'], ['technology', 'BT boosts its broadband packages'], ['sport', 'Bates seals takeover'], ['technology', 'Beckham virus spotted on the net'], ['technology', 'Broadband fuels online expression'], ['technology', 'Broadband in the UK gathers pace'], ['business', 'Burren awarded Egyptian contracts'], ['business', 'Business fears over sluggish EU economy'], ['sport', 'Candela completes Bolton switch'], ['business', 'Cannabis hopes for drug firm'], ['sport', 'Castaignede fires Laporte warning'], ['technology', \"Casual gaming to 'take off'\"], ['sport', 'Chelsea sack Mutu'], ['business', 'China Aviation seeks rescue deal'], ['sport', 'Classy Henman makes winning start'], ['sport', 'Collins banned in landmark case'], ['technology', 'Concerns over Windows ATMs'], ['sport', 'Connors boost for British tennis'], ['business', \"Crossrail link 'to get go-ahead'\"], ['N/A', 'Article no longer available in archive'], ['technology', 'Cyber crime booms in 2004'], ['technology', 'Disney backs Sony DVD technology'], ['business', 'Dollar slides ahead of New Year'], ['business', \"Economy 'stronger than forecast'\"], ['business', 'Electrolux to export Europe jobs'], ['business', \"Ethiopia's crop production up 24%\"], ['sport', 'FA charges Liverpool and Millwall'], ['sport', 'FA probes crowd trouble'], ['technology', \"Format wars could 'confuse users'\"], ['business', 'GM in crunch talks on Fiat future'], ['technology', 'Game makers get Xbox 2 sneak peek'], ['technology', 'Gamers could drive high-definition'], ['technology', 'Google launches TV search service'], ['sport', 'Harinordoquy suffers France axe'], ['sport', 'Hearts of Oak 3-2 Cotonsport'], ['sport', 'Hodges announces rugby retirement'], ['sport', 'Holmes feted with further honour'], ['technology', 'Honour for UK games maker'], ['sport', 'Houllier praises Benitez regime'], ['technology', 'Humanoid robot learns how to run'], ['sport', 'Ireland v USA (Sat)'], ['sport', 'Isinbayeva heads for Birmingham'], ['sport', 'Israeli club look to Africa'], ['technology', 'Junk e-mails on relentless rise'], ['sport', 'Kluft impressed by Sotherton form'], ['business', 'Latin America sees strong growth'], ['business', 'Libya takes $1bn in unfrozen funds'], ['technology', 'Loyalty cards idea for TV addicts'], ['sport', 'Man City 1-1 Newcastle'], ['sport', 'McCall earns Tannadice reprieve'], ['sport', 'McClaren eyes Uefa Cup top spot'], ['sport', \"McClaren hails Boro's Uefa spirit\"], ['sport', 'McIlroy aiming for Madrid title'], ['technology', 'Microsoft makes anti-piracy move'], ['technology', 'Microsoft seeking spyware trojan'], ['business', 'Mild winter drives US oil down 6%'], ['technology', 'Millions to miss out on the net'], ['sport', 'Minister digs in over doping row'], ['sport', 'Mirza makes Indian tennis history'], ['business', 'Mitsubishi in Peugeot link talks'], ['technology', 'Mobile multimedia slow to catch on'], ['technology', \"Mobiles 'not media players yet'\"], ['sport', 'Morientes admits to Reds struggle'], ['sport', 'Mourinho plots impressive course'], ['sport', 'Mourinho says race is almost over'], ['N/A', 'Article no longer available in archive'], ['sport', 'Moya sidesteps Davis Cup in 2005'], ['sport', 'Nadal marches on in Mexico'], ['technology', 'Nintendo adds media playing to DS'], ['sport', \"O'Connell rejects Lions rumours\"], ['sport', \"O'Driscoll concern at Fifa ruling\"], ['business', 'Oil prices fall back from highs'], ['business', 'Ore costs hit global steel firms'], ['sport', 'Parry relishes Anfield challenge'], ['business', 'Peugeot deal boosts Mitsubishi'], ['N/A', 'Article no longer available in archive'], ['technology', 'PlayStation 3 chip to be unveiled'], ['technology', 'Portable PlayStation ready to go'], ['sport', 'Premier League planning Cole date'], ['business', 'Qantas sees profits fly to record'], ['sport', 'Radcliffe yet to answer GB call'], ['sport', \"Redknapp's Saints face Pompey tie\"], ['sport', 'Reds sink 10-man Magpies'], ['business', 'Reliance unit loses Anil Ambani'], ['technology', 'Rich pickings for hi-tech thieves'], ['sport', 'Robinson out of Six Nations'], ['sport', 'Rovers reject third Ferguson bid'], ['sport', 'Saint-Andre anger at absent stars'], ['N/A', 'Article no longer available in archive'], ['business', 'Salary scandal in Cameroon'], ['technology', 'Slimmer PlayStation triple sales'], ['sport', 'Slovakia seal Hopman Cup success'], ['technology', 'Smart search lets art fans browse'], ['sport', 'Smith keen on Home series return'], ['sport', 'South Africa sweep top awards'], ['technology', 'Speak easy plan for media players'], ['technology', 'Speech takes on search engines'], ['business', \"Tokyo says deflation 'controlled'\"], ['business', 'Turkey turns on the economic charm'], ['business', \"Turkey-Iran mobile deal 'at risk'\"], ['business', \"UK 'risks breaking golden rule'\"], ['business', 'UK firm faces Venezuelan land row'], ['technology', 'UK pioneers digital film network'], ['business', 'US bank in $515m SEC settlement'], ['business', 'US crude prices surge above $53'], ['sport', 'Umaga ready for Lions'], ['business', 'Umbro profits lifted by Euro 2004'], ['technology', 'Virgin Radio offers 3G broadcast'], ['technology', 'Virus poses as Christmas e-mail'], ['technology', 'Voters flock to blog awards site'], ['sport', 'Wales want rugby league training'], ['sport', 'Wales win in Rome'], ['technology', 'Warning over tsunami aid website'], ['sport', 'Wolves appoint Hoddle as manager'], ['sport', 'Wood - Ireland can win Grand Slam'], ['business', 'World leaders gather to face uncertainty'], ['sport', 'Worthington praises classy Villa'], ['sport', 'Yachvili savours France comeback'], ['N/A', 'Article no longer available in archive'], ['business', 'Yukos heading back to US courts'], ['business', 'Yukos seeks court action on sale'], ['business', 'Yukos unit fetches $9bn at auction'], ['business', 'Air China in $1bn London listing'], ['sport', 'Angry Williams rejects criticism'], ['business', 'Apple Inc. Phone Pricing Likely To Trend Lower'], ['business', 'Argentina closes $102.6bn debt swap'], ['business', 'AstraZeneca hit by drug failure'], ['sport', 'Balco case trial date pushed back'], ['business', 'Battered dollar hits another low'], ['sport', 'Beckham hints at Man Utd return'], ['sport', 'Benitez joy as Reds take control'], ['technology', \"Blind student 'hears in colour'\"], ['technology', 'Blogger grounded by her airline'], ['business', 'Brazil jobless rate hits new low'], ['technology', 'Broadband set to revolutionise TV'], ['technology', 'Bush website blocked outside US'], ['business', 'Business confidence dips in Japan'], ['business', 'Businesses fail to plan for HIV'], ['sport', 'Campese berates whingeing England'], ['sport', 'Cech sets clean-sheet benchmark'], ['technology', \"China 'blocks Google news site'\"], ['business', 'China continues rapid growth'], ['business', 'Circuit City gets takeover offer'], ['sport', 'Claxton hunting first major medal'], ['technology', 'Consumer concern over RFID tags'], ['business', \"Continental 'may run out of cash'\"], ['business', 'Deadline nears for Fiat-GM deal'], ['business', \"Deutsche Boerse set to 'woo' LSE\"], ['technology', 'Domain system scam fear'], ['technology', 'Doors open at biggest gadget fair'], ['sport', 'Dunne keen to commit to Man City'], ['business', 'EMI shares hit by profit warning'], ['business', \"EU to probe Alitalia 'state aid'\"], ['sport', \"England 'to launch ref protest'\"], ['sport', 'Faye plans to stay at Portsmouth'], ['business', \"Featured: 'Strong dollar' call halts slide\"], ['sport', \"Ferguson hails Man Utd's resolve\"], ['sport', 'Fuming Robinson blasts officials'], ['business', 'Further rise in UK jobless total'], ['technology', 'Gadget growth fuels eco concerns'], ['technology', 'Gadget show heralds MP3 season'], ['technology', 'Games win for Blu-ray DVD format'], ['business', 'German business confidence slides'], ['sport', 'Gerrard future not decided by Cardiff loss'], ['technology', 'Halo 2 sells five million copies'], ['sport', 'Henin-Hardenne beaten on comeback'], ['sport', 'Hewitt falls to Dent in Adelaide'], ['technology', 'How to smash a home computer'], ['sport', 'Ireland call up uncapped Campbell'], ['business', 'Israel looks to US for bank chief'], ['sport', 'Keane defiant over Vieira bust-up'], ['sport', \"Kenya lift Chepkemei's suspension\"], ['business', 'Kraft cuts snack ads for children'], ['business', 'Lesotho textile workers lose jobs'], ['sport', 'Lomu relishing return to action'], ['business', 'Lufthansa may sue over Bush visit'], ['business', 'MCI shares climb on takeover bid'], ['business', \"MG Rover China tie-up 'delayed'\"], ['business', 'Making your office work for you'], ['sport', 'McIlroy continues winning streak'], ['technology', 'Mobile TV tipped as one to watch'], ['business', 'Monsanto fined $1.5m for bribery'], ['technology', 'Moving mobile improves golf swing'], ['sport', 'Nadal puts Spain 2-0 up'], ['business', 'Nasdaq planning $100m-share sale'], ['technology', \"New Year's texting breaks record\"], ['N/A', 'Article no longer available in archive'], ['technology', 'New consoles promise big problems'], ['technology', 'Nintendo DS makes its Euro debut'], ['sport', \"O'Connor aims to grab opportunity\"], ['sport', \"O'Leary agrees new Villa contract\"], ['N/A', 'Article no longer available in archive'], ['sport', \"O'Sullivan keeps his powder dry\"], ['technology', 'Online commons to spark debate'], ['technology', 'Online games play with politics'], ['business', 'Parmalat founder offers apology'], ['business', 'Parmalat to return to stockmarket'], ['technology', \"Peer-to-peer nets 'here to stay'\"], ['business', 'Pernod takeover talk lifts Domecq'], ['business', \"Profits jump at China's top bank\"], ['sport', 'Prop Jones ready for hard graft'], ['business', 'Qatar and Shell in $6bn gas deal'], ['business', \"Quake's economic costs emerging\"], ['sport', 'Real in talks over Gravesen move'], ['business', 'Rescue hope for Borussia Dortmund'], ['sport', 'Robben and Cole earn Chelsea win'], ['technology', 'Robotic pods take on car design'], ['sport', 'Roddick in talks over new coach'], ['business', 'SEC to rethink post-Enron rules'], ['technology', 'Santy worm makes unwelcome visit'], ['technology', 'Seamen sail into biometric future'], ['sport', 'Serena becomes world number two'], ['sport', 'Smith aims to bring back respect'], ['business', \"Soaring oil 'hits world economy'\"], ['technology', 'Software watching while you work'], ['technology', 'Sony PSP console hits US in March'], ['sport', 'TV calls after Carroll error'], ['technology', \"TV's future down the phone line\"], ['N/A', 'Article no longer available in archive'], ['business', \"The 'ticking budget' facing the US\"], ['business', 'Train strike grips Buenos Aires'], ['technology', 'UK broadband gets speed injection'], ['business', 'US adds more jobs than expected'], ['business', 'US economy shows solid GDP growth'], ['business', 'US economy still growing says Fed'], ['business', 'US in EU tariff chaos trade row'], ['business', 'US retail sales surge in December'], ['business', 'US trade gap hits record in 2004'], ['business', 'Ukraine revisits state sell-offs'], ['sport', 'Underdogs have more fun'], ['business', 'VW considers opening Indian plant'], ['business', 'Wal-Mart to pay $14m in gun suit'], ['sport', 'Wasps 31-37 Leicester'], ['technology', 'What high-definition will do to DVDs'], ['technology', 'Why Cell will get the hard sell'], ['sport', 'Wilkinson fit to face Edinburgh'], ['sport', \"Wilkinson return 'unlikely'\"], ['technology', 'Yahoo celebrates a decade online'], ['technology', 'Yahoo moves into desktop search'], ['technology', '2D Metal Slug offers retro fun'], ['technology', 'Anti-spam laws bite spammer hard'], ['technology', \"Apple laptop is 'greatest gadget'\"], ['technology', 'Apple makes blogs reveal sources'], ['technology', \"Apple unveils low-cost 'Mac mini'\"], ['business', \"Arsenal 'may seek full share listing'\"], ['business', 'BA to suspend two Saudi services'], ['business', 'BMW drives record sales in Asia'], ['business', 'BT offers equal access to rivals'], ['sport', 'Barwick calls for Highbury calm'], ['sport', 'Barwick installed as new FA boss'], ['technology', 'Be careful how you code'], ['business', 'Beer giant swallows Russian firm'], ['technology', 'Blinx sequel purrs nicely'], ['business', 'Bombardier chief to leave company'], ['technology', 'Bond game fails to shake or stir'], ['business', \"Britannia members' £42m windfall\"], ['technology', 'California sets fines for spyware'], ['business', 'Call to save manufacturing jobs'], ['sport', 'Can Smith work Scottish wonders?'], ['technology', 'Cebit fever takes over Hanover'], ['sport', 'Chelsea clinch cup in extra-time'], ['technology', \"China 'to overtake US net use'\"], ['business', 'China bans new tobacco factories'], ['sport', 'Davenport dismantles young rival'], ['business', \"Disaster claims 'less than $10bn'\"], ['business', 'Dollar drops on reserves concerns'], ['business', \"EU 'too slow' on economic reforms\"], ['sport', 'English clubs make Euro history'], ['business', 'Ex-Boeing director gets jail term'], ['sport', 'FA decides not to punish Mourinho'], ['technology', 'Fast lifts rise into record books'], ['technology', \"Featured: 'Blog' picked as word of the year\"], ['technology', \"Featured: 'Brainwave' cap controls computer\"], ['technology', \"Featured: 'Podcasters' look to net money\"], ['business', 'Fresh hope after Argentine crisis'], ['technology', \"Gadget market 'to grow in 2005'\"], ['technology', 'Gates opens biggest gadget fair'], ['sport', 'Gebrselassie in London triple bid'], ['sport', 'Gerrard plays down European hopes'], ['business', 'Giant waves damage S Asia economy'], ['business', 'Giving financial gifts to children'], ['business', 'Golden rule boost for Chancellor'], ['sport', 'Henman hopes ended in Dubai'], ['technology', \"Hitachi unveils 'fastest robot'\"], ['technology', 'Hotspot users gain free net calls'], ['business', 'How Manchester United, Knicks Wins Correlate With Stock Gains'], ['business', 'Hyundai to build new India plant'], ['business', 'Industrial revival hope for Japan'], ['business', 'Insurance bosses plead guilty'], ['business', 'Iraq and Afghanistan in WTO talks'], ['sport', 'Ireland surge past Scots'], ['sport', 'Italy 17-28 Ireland'], ['business', 'JP Morgan admits US slavery links'], ['sport', 'Keegan hails comeback king Fowler'], ['technology', 'Kenyan school turns to handhelds'], ['technology', 'Long life promised for laptop PCs'], ['business', 'M&S cuts prices by average of 24%'], ['business', 'MCI shareholder sues to stop bid'], ['business', 'Market unfazed by Aurora setback'], ['technology', 'Microsoft takes on desktop search'], ['business', \"Millions 'to lose textile jobs'\"], ['technology', 'Mobile networks seek turbo boost'], ['technology', \"Mobiles 'not media players yet'\"], ['technology', 'Mobiles double up as bus tickets'], ['technology', 'Mobiles rack up 20 years of use'], ['N/A', 'Article no longer available in archive'], ['sport', 'Mourinho takes swipe at Arsenal'], ['sport', 'Mourinho to escape FA charge'], ['technology', \"Net regulation 'still possible'\"], ['technology', 'New delay hits EU software laws'], ['business', 'Newest EU members underpin growth'], ['sport', 'No lack of Christmas spirit'], ['sport', \"O'Driscoll/Gregan lead Aid stars\"], ['business', 'Optimism remains over UK housing'], ['business', 'Orange colour clash set for court'], ['sport', 'Owen delighted with Real display'], ['technology', 'Pandas benefit from wireless net'], ['technology', 'Parents face video game lessons'], ['sport', 'Petit career ended by knee injury'], ['N/A', 'Article no longer available in archive'], ['sport', 'Plymouth 3-0 Sheff Utd'], ['sport', 'Preview: Ireland v England (Sun)'], ['sport', 'Prinz beats Hamm to Fifa trophy'], ['business', \"Profits slide at India's Dr Reddy\"], ['sport', 'Prutton poised for lengthy FA ban'], ['technology', 'Rivals of the £400 Apple...'], ['sport', 'Robinson answers critics'], ['sport', 'Rochus shocks Coria in Auckland'], ['business', \"Rover deal 'may cost 2,000 jobs'\"], ['N/A', 'Article no longer available in archive'], ['sport', 'Running around the Olympics'], ['business', \"SA unveils 'more for all' budget\"], ['business', 'SBC plans post-takeover job cuts'], ['business', 'Safety alert as GM recalls cars'], ['business', 'Saudi ministry to employ women'], ['technology', 'Savvy searchers fail to spot ads'], ['business', 'Shares hit by MS drug suspension'], ['business', 'Slowdown hits US factory growth'], ['technology', 'Spam e-mails tempt net shoppers'], ['technology', 'Text messages aid disaster recovery'], ['sport', 'The wonder of Ronaldinho'], ['technology', 'The year search became personal'], ['sport', 'Tomlinson stays focused on Europe'], ['N/A', 'Article no longer available in archive'], ['business', \"US bank boss hails 'genius' Smith\"], ['business', 'US consumer confidence up'], ['business', 'US trade deficit widens sharply'], ['sport', 'Uefa threat over foreign quotas'], ['business', \"Ukraine steel sell-off 'illegal'\"], ['business', 'Ukraine trims privatisation check'], ['sport', 'Venus stunned by Farina Elia'], ['sport', 'Video technology will not make football a mistake-free sport'], ['technology', 'Warning over Windows Word files'], ['business', 'Weak dollar trims Cadbury profits'], ['technology', 'Web helps collect aid donations'], ['sport', 'Wenger handed summer war chest'], ['technology', 'When technology gets personal'], ['technology', 'A decade of good website design'], ['sport', 'Agassi fear for Melbourne'], ['business', 'Ailing EuroDisney vows turnaround'], ['sport', 'Ajax refuse to rule out Jol move'], ['sport', 'Anelka apologises for criticism'], ['technology', 'Apple attacked over sources row'], ['technology', 'Apple iPod family expands market'], ['technology', 'Argonaut founder rebuilds empire'], ['sport', 'Arsenal 1-1 Sheff Utd'], ['business', 'Asia shares defy post-quake gloom'], ['business', 'Aviation firms eye booming India'], ['technology', 'BT program to beat dialler scams'], ['business', 'Bat spit drug firm goes to market'], ['sport', 'Bees handed potential Man Utd tie'], ['sport', 'Blackburn v Burnley'], ['business', 'Boeing unveils new 777 aircraft'], ['sport', 'Breaking news: US company admits Benin bribery'], ['technology', 'Broadband in the UK growing fast'], ['sport', 'Bryan twins keep US hopes alive'], ['business', 'Building giant in asbestos payout'], ['technology', 'California sets fines for spyware'], ['business', 'Call to overhaul UK state pension'], ['sport', 'Campbell to be Lions consultant'], ['sport', 'Cantona issues Man Utd job hint'], ['business', 'Chinese exports rise 25% in 2004'], ['sport', 'Clijsters could play Aussie Open'], ['sport', 'Corry backs skipper Robinson'], ['technology', 'DVD copy protection strengthened'], ['sport', 'Dallaglio his own man to the end'], ['sport', 'Dawson wins England squad recall'], ['sport', 'Dementieva prevails in Hong Kong'], ['technology', 'Disney backs Sony DVD technology'], ['sport', 'Dominici backs lacklustre France'], ['technology', 'Dublin hi-tech labs to shut down'], ['business', 'Ebbers denies WorldCom fraud'], ['sport', 'England coach faces rap after row'], ['business', \"European losses hit GM's profits\"], ['sport', 'Fifa agrees goal-line technology'], ['technology', 'Freeze on anti-spam campaign'], ['business', 'French boss to leave EADS'], ['business', 'German economy rebounds'], ['business', 'Glazer makes new Man Utd approach'], ['technology', 'Google to scan famous libraries'], ['sport', \"Greek sprinters 'won't run again'\"], ['sport', 'Greek sprinters suspended by IAAF'], ['sport', 'Gunners clock up winning record'], ['technology', 'Halo 2 heralds traffic explosion'], ['sport', 'Henson stakes early Lions claim'], ['sport', 'Hewitt fights back to reach final'], ['sport', 'Holmes is hit by hamstring injury'], ['technology', 'IBM frees 500 software patents'], ['N/A', 'Article no longer available in archive'], ['business', \"India's Reliance family feud heats up\"], ['business', \"India's rupee hits five-year high\"], ['technology', 'Ink helps drive democracy in Asia'], ['sport', 'Irish finish with home game'], ['business', 'J&J agrees $25bn Guidant deal'], ['sport', 'Johansson takes Adelaide victory'], ['sport', 'Jones doping probe begins'], ['sport', 'Kenteris denies faking road crash'], ['business', 'Khodorkovsky quits Yukos shares'], ['technology', 'Latest Opera browser gets vocal'], ['N/A', 'Article no longer available in archive'], ['sport', 'Legendary Dutch boss Michels dies'], ['sport', 'Lions blow to World Cup stars'], ['sport', 'Liverpool revel in night of glory'], ['business', 'Man Utd to open books to Glazer'], ['sport', 'Man Utd urged to seal Giggs deal'], ['sport', 'Melzer shocks Agassi in San Jose'], ['technology', 'Microsoft debuts security tools'], ['technology', 'Millions buy MP3 players in US'], ['technology', 'Mobile multimedia slow to catch on'], ['technology', 'Mobiles get set for visual radio'], ['technology', 'Mobiles rack up 20 years of use'], ['sport', 'Molby says Gravesen is Real deal'], ['technology', 'More power to the people says HP'], ['technology', \"Musicians 'upbeat' about the net\"], ['business', 'News Corp eyes video games market'], ['N/A', 'Article no longer available in archive'], ['technology', 'No half measures with Half-Life 2'], ['sport', 'Parmar ruled out of Davis Cup tie'], ['sport', 'Philippoussis doubt over Open bid'], ['technology', 'Pompeii gets digital make-over'], ['business', 'Q&A: Malcolm Glazer and Man Utd'], ['sport', 'Radcliffe eyes hard line on drugs'], ['sport', 'Real will finish abandoned match'], ['sport', 'Ref stands by Scotland decisions'], ['sport', 'Robinson wants dual code success'], ['sport', \"Roche 'turns down Federer offer'\"], ['N/A', 'Article no longer available in archive'], ['sport', 'Roddick splits from coach Gilbert'], ['sport', 'Ronaldinho denies Blues interest'], ['business', 'S Korea spending boost to economy'], ['business', 'S Korean consumers spending again'], ['business', 'Saudi investor picks up the Savoy'], ['sport', 'Sella wants Michalak recall'], ['business', 'Share boost for feud-hit Reliance'], ['business', 'Shares rise on new Man Utd offer'], ['technology', \"Sony PSP tipped as a 'must-have'\"], ['sport', 'Souness eyes summer move for Owen'], ['technology', 'Souped-up wi-fi is on the horizon'], ['business', 'South African car demand surges'], ['sport', 'Stam spices up Man Utd encounter'], ['sport', 'Tapping-up row is so much hot air'], ['technology', 'Technology gets the creative bug'], ['technology', 'Technology in rugby: GPS systems continue to grow in importance'], ['sport', 'Tindall aiming to earn Lions spot'], ['sport', 'Tindall wants second opinion'], ['business', \"Tsunami 'to hit Sri Lanka banks'\"], ['business', \"UK economy facing 'major risks'\"], ['business', 'US Ahold suppliers face charges'], ['business', 'US data sparks inflation worries'], ['business', 'US interest rate rise expected'], ['technology', 'US peer-to-peer pirates convicted'], ['sport', 'Umaga ready for \"fearsome\" Lions'], ['technology', 'Virus poses as Christmas e-mail'], ['business', 'Wal-Mart fights back at accusers'], ['sport', 'Wales coach elated with win'], ['N/A', 'Article no longer available in archive'], ['business', 'Warning over US pensions deficit'], ['technology', 'Web photo storage market hots up'], ['technology', 'Web radio takes Spanish rap global'], ['sport', 'Wenger keeping faith with Almunia'], ['sport', 'Wenger steps up row'], ['sport', 'What now for British tennis?'], ['sport', 'White admits to Balco drugs link'], ['technology', 'World tour for top video gamers']]\n"
     ]
    },
    {
     "name": "stdout",
     "output_type": "stream",
     "text": [
      "[['technology', '21st-Century Sports: How Digital Technology Is Changing the Face Of The Sporting Industry'], ['business', 'Asian quake hits European shares'], ['technology', 'BT offers free net phone calls'], ['business', 'Barclays shares up on merger talk'], ['sport', 'Barkley fit for match in Ireland'], ['sport', 'Bellamy under new fire'], ['sport', \"Benitez 'to launch Morientes bid'\"], ['sport', 'Benitez delight after crucial win'], ['technology', 'Big war games battle it out'], ['technology', 'British Library gets wireless net'], ['sport', \"Brizzel to run AAA's in Sheffield\"], ['business', 'Bush budget seeks deep cutbacks'], ['business', \"Bush to get 'tough' on deficit\"], ['technology', 'Cable offers video-on-demand'], ['technology', 'Cabs collect mountain of mobiles'], ['technology', \"Camera phones are 'must-haves'\"], ['business', \"Card fraudsters 'targeting web'\"], ['business', 'Cash gives way to flexible friend'], ['technology', 'Cebit opens to mobile music tune'], ['sport', 'Charvis set to lose fitness bid'], ['sport', 'Chelsea hold Arsenal'], ['business', 'Christmas sales worst since 1981'], ['sport', 'Clijsters set for February return'], ['sport', 'Clyde 0-5 Celtic'], ['sport', 'Coach Ranieri sacked by Valencia'], ['technology', 'Confusion over high-definition TV'], ['business', 'Cuba winds back economic clock'], ['technology', 'DS aims to touch gamers'], ['sport', 'Dawson set for new Wasps contract'], ['business', 'Diageo to buy US wine firm'], ['technology', 'Digital guru floats sub-$100 PC'], ['business', 'EU aiming to fuel development aid'], ['N/A', 'Article no longer available in archive'], ['sport', 'England 17-18 France'], ['business', 'Enron bosses in $168m payout'], ['business', \"Euronext 'poised to make LSE bid'\"], ['business', 'Europe asks Asia for euro help'], ['business', 'Europe blames US over weak dollar'], ['business', \"Fannie Mae 'should restate books'\"], ['technology', \"Featured: 'Brainwave' cap controls computer\"], ['technology', \"Featured: 'Evil twin' fear for wireless net\"], ['technology', \"Featured: 'Friends fear' with lost mobiles\"], ['N/A', 'Article no longer available in archive'], ['business', \"Featured: 'Post-Christmas lull' in lending\"], ['business', 'Fed warns of more US rate rises'], ['sport', 'Federer forced to dig deep'], ['sport', 'Ferguson puts faith in youngsters'], ['business', \"GE sees 'excellent' world economy\"], ['business', 'GM issues 2005 profits warning'], ['technology', 'Gangsters dominate gaming chart'], ['sport', 'Gardener wins double in Glasgow'], ['N/A', 'Article no longer available in archive'], ['business', \"Gazprom 'in $36m back-tax claim'\"], ['business', 'German growth goes into reverse'], ['business', 'Germany calls for EU reform'], ['technology', 'Go-ahead for new internet names'], ['sport', 'Greek duo cleared in doping case'], ['sport', \"Hansen 'delays return until 2006'\"], ['N/A', 'Article no longer available in archive'], ['sport', 'Henman & Murray claim LTA awards'], ['sport', 'Henman decides to quit Davis Cup'], ['technology', 'Hi-tech posters guide commuters'], ['sport', 'Hodgson shoulders England blame'], ['technology', 'Hollywood to sue net film pirates'], ['sport', 'Holmes secures comeback victory'], ['business', 'House prices suffer festive fall'], ['sport', 'IAAF launches fight against drugs'], ['business', 'India-Pakistan peace boosts trade'], ['business', 'Iraqi voters turn to economic issues'], ['sport', 'Jansen suffers a further setback'], ['technology', 'Latest Opera browser gets vocal'], ['business', 'Laura Ashley chief stepping down'], ['technology', 'Learning to love broadband'], ['technology', 'Mac Mini heralds mini revolution'], ['business', \"Macy's owner buys rival for $11bn\"], ['business', 'Madagascar completes currency switch'], ['sport', 'McLeish ready for criticism'], ['technology', 'Mobile games come of age'], ['technology', 'More power to the people says HP'], ['sport', 'Mourinho sends out warning shot'], ['sport', 'Moya suffers shock loss'], ['sport', 'Moyes U-turn on Beattie dismissal'], ['sport', 'Murray returns to Scotland fold'], ['business', 'Mystery surrounds new Yukos owner'], ['sport', 'Off-colour Gardener storms to win'], ['business', 'Oil companies get Russian setback'], ['sport', 'Owen may have to return home'], ['sport', 'Pearce keen on succeeding Keegan'], ['technology', \"Poles play with GameBoy 'blip-pop'\"], ['sport', 'Premier League probes Cole claims'], ['sport', 'Prodigy Monfils blows away Gaudio'], ['technology', 'Remote control rifle range debuts'], ['sport', 'Robinson ready for difficult task'], ['technology', 'Row brewing over peer-to-peer ads'], ['sport', 'Rusedski angry over supplements'], ['business', 'S Korean lender faces liquidation'], ['sport', 'SFA awaits report over Mikoliunas'], ['sport', 'Safin cool on Wimbledon'], ['sport', 'Safin plays down Wimbledon hopes'], ['technology', 'Satellite mapping aids Darfur relief'], ['technology', 'Search sites get closer to users'], ['technology', 'Security scares spark browser fix'], ['business', 'Senior Fannie Mae bosses resign'], ['technology', 'Solutions to net security fears'], ['business', 'Split-caps pay £194m compensation'], ['sport', 'Sports Stock Tips'], ['business', 'Strong quarterly growth for Nike'], ['technology', \"T-Mobile bets on 'pocket office'\"], ['sport', 'Thanou desperate to make return'], ['sport', 'Thompson says Gerrard should stay'], ['sport', 'Time to get tough on friendlies?'], ['technology', 'US peer-to-peer pirates convicted'], ['technology', 'US top of supercomputing charts'], ['business', 'Venezuela and China sign oil deal'], ['business', 'Weak end-of-year sales hit Next'], ['sport', 'Williams says he will never quit'], ['business', \"Winemaker rejects Foster's offer\"], ['business', \"Worldcom boss 'left books alone'\"], ['technology', 'Xbox 2 may be unveiled in summer'], ['technology', \"Xbox power cable 'fire fear'\"], ['business', \"Yangtze Electric's profits double\"], ['business', 'Yukos loses US bankruptcy battle'], ['business', '7 business technology trends to watch'], ['sport', 'A November to remember'], ['technology', 'A question of trust and technology'], ['business', 'Ad sales boost Time Warner profit'], ['sport', 'African double in Edinburgh'], ['business', 'Air passengers win new EU rights'], ['technology', 'Anti-spam screensaver scrapped'], ['sport', 'Arsenal through on penalties'], ['business', 'BP surges ahead on high oil price'], ['business', 'Bank holds interest rate at 4.75%'], ['business', 'Bank set to leave rates on hold'], ['sport', 'Bekele sets sights on world mark'], ['sport', 'Bitter Santini hits out at Spurs'], ['technology', 'Blogs take on the mainstream'], ['business', \"Brewers' profits lose their fizz\"], ['business', \"Bush to outline 'toughest' budget\"], ['business', \"Buyers snap up Jet Airways' shares\"], ['business', 'Cairn shares up on new oil find'], ['sport', 'Campbell to extend sprint career'], ['sport', 'Celtic make late bid for Bellamy'], ['sport', 'Charlton 1-2 Liverpool'], ['N/A', 'Article no longer available in archive'], ['sport', 'Chepkemei joins Edinburgh line-up'], ['N/A', 'Article no longer available in archive'], ['business', 'Chinese billionaire targets Manchester United shares in new deal, reports suggest'], ['sport', 'Collins calls for Chambers return'], ['technology', 'Commodore finds new lease of life'], ['technology', 'Creator of first Apple Mac dies'], ['sport', 'Cudicini misses Carling Cup final'], ['sport', 'Davenport hits out at Wimbledon'], ['sport', 'Davies favours Gloucester future'], ['business', 'Deutsche Telekom sees mobile gain'], ['sport', 'Dibaba breaks 5,000m world record'], ['sport', 'Dogged Federer claims Dubai crown'], ['business', 'Dollar hovers around record lows'], ['sport', 'Dundee Utd 4-1 Aberdeen'], ['business', 'EC calls truce in deficit battle'], ['business', 'EU-US seeking deal on air dispute'], ['business', 'Egypt and Israel seal trade deal'], ['business', 'Egypt to sell off state-owned bank'], ['sport', 'El Guerrouj targets cross country'], ['sport', 'FA ready to test out goal bleeper'], ['N/A', 'Article no longer available in archive'], ['business', 'FBI agent colludes with analyst'], ['technology', 'Fast moving phone bugs appear'], ['N/A', 'Article no longer available in archive'], ['sport', 'Ferguson fears Milan cutting edge'], ['sport', 'Finnan says Irish can win group'], ['sport', 'Fit-again Betsen in France squad'], ['business', 'Five million Germans out of work'], ['technology', \"Format wars could 'confuse users'\"], ['sport', 'Giggs handed Wales leading role'], ['technology', 'Gritty return for Prince of Persia'], ['sport', 'Hewitt survives Nalbandian epic'], ['business', 'Honda wins China copyright ruling'], ['business', 'India seeks to boost construction'], ['business', \"India's Deccan gets more planes\"], ['business', 'Indy buys into India paper'], ['business', 'Intercom raises €101m in funding round making it the most valuable Irish tech firm'], ['business', 'Iranian MPs threaten mobile deal'], ['business', 'Irish company hit by Iraqi report'], ['sport', 'Italy aim to rattle England'], ['business', 'Italy to get economic action plan'], ['sport', \"Juninho demand for O'Neill talks\"], ['sport', 'Kenyon denies Robben Barca return'], ['sport', 'Kerr frustrated at victory margin'], ['sport', 'Klinsmann issues Lehmann warning'], ['business', \"LSE 'sets date for takeover deal'\"], ['sport', 'Lewis-Francis eyeing world gold'], ['technology', \"Lifestyle 'governs mobile choice'\"], ['technology', 'Looks and music to drive mobiles'], ['sport', 'Man Utd through after Exeter test'], ['sport', 'Martinez sees off Vinci challenge'], ['technology', 'Microsoft makes anti-piracy move'], ['sport', 'Middlesbrough 2-2 Charlton'], ['sport', 'Mido makes third apology'], ['technology', 'Millions buy MP3 players in US'], ['business', 'Mixed signals from French economy'], ['technology', 'Mobile picture power in your pocket'], ['sport', 'Moore questions captaincy'], ['sport', 'More Africans for tsunami game'], ['sport', 'Murphy: That was a bruising battle'], ['sport', 'Navratilova hits out at critics'], ['sport', \"O'Driscoll out of Scotland game\"], ['sport', \"O'Gara revels in Ireland victory\"], ['sport', 'Owen dismisses fresh Real rumours'], ['technology', \"PC ownership to 'double by 2010'\"], ['sport', 'Paris promise raises Welsh hopes'], ['business', 'Parmalat sues 45 banks over crash'], ['technology', 'Progress on new internet domains'], ['business', 'Qantas considers offshore option'], ['sport', 'Radcliffe tackles marathon tasks'], ['sport', 'Rangers seal Old Firm win'], ['sport', 'Record fails to lift lacklustre meet'], ['business', 'Record year for Chilean copper'], ['sport', 'Republic to face China and Italy'], ['sport', 'Robben sidelined with broken foot'], ['technology', \"Robots learn 'robotiquette' rules\"], ['technology', \"Rolling out next generation's net\"], ['business', \"Russia WTO talks 'make progress'\"], ['technology', 'Screensaver tackles spam websites'], ['technology', 'Slim PlayStation triples sales'], ['business', 'Standard Life concern at LSE bid'], ['business', \"Steel firm 'to cut' 45,000 jobs\"], ['sport', 'Stuart joins Norwich from Addicks'], ['N/A', 'Article no longer available in archive'], ['technology', 'Sun offers processing by the hour'], ['technology', 'Tech helps disabled speed demons'], ['technology', 'Telewest to challenge Sky Plus'], ['sport', 'Thanou bullish over drugs hearing'], ['technology', 'The Force is strong in Battlefront'], ['technology', 'The gaming world in 2005'], ['business', 'Turkey knocks six zeros off lira'], ['business', 'UK Coal plunges into deeper loss'], ['business', 'US trade gap ballooned in October'], ['business', 'Unilever shake up as profit slips'], ['sport', 'Wales get Williams fitness boost'], ['sport', 'Wales stars need a rest - Ruddock'], ['business', \"Wall Street cool to eBay's profit\"], ['technology', 'Warnings about junk mail deluge'], ['technology', 'Web radio takes Spanish rap global'], ['sport', 'Wenger shock at Newcastle dip'], ['technology', 'When invention turns to innovation'], ['technology', 'Who do you think you are?'], ['sport', 'Wilkinson to miss Ireland match'], ['business', 'Winn-Dixie files for bankruptcy'], ['business', 'Yukos sues four firms for $20bn'], ['sport', 'A year to remember for Irish'], ['sport', 'An Irish Athletics Year'], ['sport', 'Arnesen denies rift with Santini'], ['business', 'Asia shares defy post-quake gloom'], ['business', 'Bank payout to Pinochet victims'], ['sport', 'Barcelona title hopes hit by loss'], ['business', 'Bargain calls widen Softbank loss'], ['sport', 'Bayern Munich 3-1 Arsenal'], ['sport', 'Benitez deflects blame from Dudek'], ['technology', 'Blog reading explodes in America'], ['technology', 'Broadband challenges TV viewing'], ['technology', 'Broadband in the UK growing fast'], ['sport', 'Calder fears for Scottish rugby'], ['sport', 'Captains lining up for Aid match'], ['sport', 'Celts savour Grand Slam prospect'], ['sport', 'Chelsea ridiculed over complaint'], ['business', 'China keeps tight rein on credit'], ['technology', 'China net cafe culture crackdown'], ['business', 'China suspends 26 power projects'], ['business', 'Christmas shoppers flock to tills'], ['sport', 'Collins named UK Athletics chief'], ['technology', 'Court mulls file-sharing future'], ['business', 'Crude oil prices back above $50'], ['technology', 'Cyber criminals step up the pace'], ['technology', 'DVD copy protection strengthened'], ['business', 'Deutsche attacks Yukos case'], ['sport', 'Disappointed Scott in solid start'], ['business', 'Durex maker SSL awaits firm bid'], ['technology', 'EA to take on film and TV giants'], ['sport', 'Edu blasts Arsenal'], ['N/A', 'Article no longer available in archive'], ['technology', 'Europe backs digital TV lifestyle'], ['sport', 'Farrell saga to drag on - Lindsay'], ['business', \"Featured: 'Golden economic period' to end\"], ['business', 'Feta cheese battle reaches court'], ['business', 'Firms pump billions into pensions'], ['technology', 'First look at PlayStation 3 chip'], ['business', 'Ford gains from finance not cars'], ['sport', 'Fuming Robinson blasts officials'], ['sport', 'GB quartet get cross country call'], ['technology', \"Gadget market 'to grow in 2005'\"], ['technology', 'Gadgets galore on show at fair'], ['technology', \"Games help you 'learn and play'\"], ['business', 'Gaming firm to sell UK dog tracks'], ['business', 'Germany nears 1990 jobless level'], ['sport', 'Greek pair attend drugs hearing'], ['sport', 'Gronkjaer agrees switch to Madrid'], ['N/A', 'Article no longer available in archive'], ['technology', \"Half of UK's mobiles 'go online'\"], ['sport', 'Hantuchova in Dubai last eight'], ['technology', 'Have hackers recruited your PC?'], ['sport', 'Healey targets England comeback'], ['business', 'High fuel costs hit US airlines'], ['business', \"High fuel prices hit BA's profits\"], ['technology', 'Hotspot users gain free net calls'], ['business', 'House prices drop as sales slow'], ['business', 'House prices show slight increase'], ['technology', 'ITunes user sues Apple over iPod'], ['business', 'India widens access to telecoms'], ['technology', 'Iran jails blogger for 14 years'], ['business', 'Irish duo could block Man Utd bid'], ['sport', 'Italy 8-38 Wales'], ['sport', 'Johnson uncertain about Euro bid'], ['sport', 'Kirwan demands Italy consistency'], ['business', 'Liberian economy starts to grow'], ['business', 'Malaysia lifts Islamic bank limit'], ['sport', 'Man Utd stroll to Cup win'], ['technology', 'Man auctions ad space on forehead'], ['business', \"Manufacturing recovery 'slowing'\"], ['business', 'Markets signal Brazilian recovery'], ['sport', 'Merritt close to indoor 400m mark'], ['technology', 'Microsoft debuts security tools'], ['technology', 'Microsoft releases patches'], ['business', 'Minister hits out at Yukos sale'], ['sport', 'Mirza shocks Kuznetsova'], ['N/A', 'Article no longer available in archive'], ['sport', 'Mourinho receives Robson warning'], ['sport', 'Moya emotional after Davis Cup win'], ['business', 'Nasdaq planning $100m share sale'], ['sport', 'Newcastle 2-1 Bolton'], ['sport', 'Newcastle to join Morientes race'], ['business', 'News Corp makes $5.4bn Fox offer'], ['business', 'Nigeria to boost cocoa production'], ['technology', 'Nintendo DS aims to touch gamers'], ['business', 'Novartis hits acquisition trail'], ['business', \"Profits stall at China's Lenovo\"], ['business', 'Putin backs state grab for Yukos'], ['business', 'Quiksilver moves for Rossignol'], ['sport', 'Redknapp poised for Saints'], ['sport', 'Robertson out to retain Euro lure'], ['technology', 'Seamen sail into biometric future'], ['business', 'Singapore growth at 8.1% in 2004'], ['N/A', 'Article no longer available in archive'], ['sport', 'Slovakia reach Hopman Cup final'], ['sport', 'Sociedad set to rescue Mladenovic'], ['technology', 'Sony wares win innovation award'], ['business', 'Soros group warns of Kazakh close'], ['technology', 'Sport-loving inventors whose tech could change the game'], ['sport', 'Sprinter Walker quits athletics'], ['N/A', 'Article no longer available in archive'], ['business', 'Stock market eyes Japan recovery'], ['business', 'Swiss cement firm in buying spree'], ['technology', 'Text message record smashed'], ['technology', 'The pirates with no profit motive'], ['business', 'Tsunami to cost Sri Lanka $1.3bn'], ['sport', 'UK Athletics agrees new kit deal'], ['technology', 'US cyber security chief resigns'], ['technology', 'US hacker breaks into T-Mobile'], ['business', 'US industrial output growth eases'], ['business', 'US insurer Marsh cuts 2,500 jobs'], ['business', 'US manufacturing expands'], ['business', 'US to rule on Yukos refuge call'], ['sport', 'Van Nistelrooy set to return'], ['sport', 'Vickery upbeat about arm injury'], ['technology', 'Video phones act as dating tools'], ['business', 'Virgin Blue shares plummet 20%'], ['N/A', 'Article no longer available in archive'], ['sport', 'Wada will appeal against ruling'], ['sport', 'Wales critical of clumsy Grewcock'], ['sport', 'Wales silent on Grand Slam talk'], ['sport', 'Wenger rules out new keeper'], ['sport', 'Wenger signs new deal'], ['business', 'Axa Sun Life cuts bonus payments'], ['technology', 'BT boosts its broadband packages'], ['sport', 'Bates seals takeover'], ['technology', 'Beckham virus spotted on the net'], ['technology', 'Broadband fuels online expression'], ['technology', 'Broadband in the UK gathers pace'], ['business', 'Burren awarded Egyptian contracts'], ['business', 'Business fears over sluggish EU economy'], ['sport', 'Candela completes Bolton switch'], ['business', 'Cannabis hopes for drug firm'], ['sport', 'Castaignede fires Laporte warning'], ['technology', \"Casual gaming to 'take off'\"], ['sport', 'Chelsea sack Mutu'], ['business', 'China Aviation seeks rescue deal'], ['sport', 'Classy Henman makes winning start'], ['sport', 'Collins banned in landmark case'], ['technology', 'Concerns over Windows ATMs'], ['sport', 'Connors boost for British tennis'], ['business', \"Crossrail link 'to get go-ahead'\"], ['N/A', 'Article no longer available in archive'], ['technology', 'Cyber crime booms in 2004'], ['technology', 'Disney backs Sony DVD technology'], ['business', 'Dollar slides ahead of New Year'], ['business', \"Economy 'stronger than forecast'\"], ['business', 'Electrolux to export Europe jobs'], ['business', \"Ethiopia's crop production up 24%\"], ['sport', 'FA charges Liverpool and Millwall'], ['sport', 'FA probes crowd trouble'], ['technology', \"Format wars could 'confuse users'\"], ['business', 'GM in crunch talks on Fiat future'], ['technology', 'Game makers get Xbox 2 sneak peek'], ['technology', 'Gamers could drive high-definition'], ['technology', 'Google launches TV search service'], ['sport', 'Harinordoquy suffers France axe'], ['sport', 'Hearts of Oak 3-2 Cotonsport'], ['sport', 'Hodges announces rugby retirement'], ['sport', 'Holmes feted with further honour'], ['technology', 'Honour for UK games maker'], ['sport', 'Houllier praises Benitez regime'], ['technology', 'Humanoid robot learns how to run'], ['sport', 'Ireland v USA (Sat)'], ['sport', 'Isinbayeva heads for Birmingham'], ['sport', 'Israeli club look to Africa'], ['technology', 'Junk e-mails on relentless rise'], ['sport', 'Kluft impressed by Sotherton form'], ['business', 'Latin America sees strong growth'], ['business', 'Libya takes $1bn in unfrozen funds'], ['technology', 'Loyalty cards idea for TV addicts'], ['sport', 'Man City 1-1 Newcastle'], ['sport', 'McCall earns Tannadice reprieve'], ['sport', 'McClaren eyes Uefa Cup top spot'], ['sport', \"McClaren hails Boro's Uefa spirit\"], ['sport', 'McIlroy aiming for Madrid title'], ['technology', 'Microsoft makes anti-piracy move'], ['technology', 'Microsoft seeking spyware trojan'], ['business', 'Mild winter drives US oil down 6%'], ['technology', 'Millions to miss out on the net'], ['sport', 'Minister digs in over doping row'], ['sport', 'Mirza makes Indian tennis history'], ['business', 'Mitsubishi in Peugeot link talks'], ['technology', 'Mobile multimedia slow to catch on'], ['technology', \"Mobiles 'not media players yet'\"], ['sport', 'Morientes admits to Reds struggle'], ['sport', 'Mourinho plots impressive course'], ['sport', 'Mourinho says race is almost over'], ['N/A', 'Article no longer available in archive'], ['sport', 'Moya sidesteps Davis Cup in 2005'], ['sport', 'Nadal marches on in Mexico'], ['technology', 'Nintendo adds media playing to DS'], ['sport', \"O'Connell rejects Lions rumours\"], ['sport', \"O'Driscoll concern at Fifa ruling\"], ['business', 'Oil prices fall back from highs'], ['business', 'Ore costs hit global steel firms'], ['sport', 'Parry relishes Anfield challenge'], ['business', 'Peugeot deal boosts Mitsubishi'], ['N/A', 'Article no longer available in archive'], ['technology', 'PlayStation 3 chip to be unveiled'], ['technology', 'Portable PlayStation ready to go'], ['sport', 'Premier League planning Cole date'], ['business', 'Qantas sees profits fly to record'], ['sport', 'Radcliffe yet to answer GB call'], ['sport', \"Redknapp's Saints face Pompey tie\"], ['sport', 'Reds sink 10-man Magpies'], ['business', 'Reliance unit loses Anil Ambani'], ['technology', 'Rich pickings for hi-tech thieves'], ['sport', 'Robinson out of Six Nations'], ['sport', 'Rovers reject third Ferguson bid'], ['sport', 'Saint-Andre anger at absent stars'], ['N/A', 'Article no longer available in archive'], ['business', 'Salary scandal in Cameroon'], ['technology', 'Slimmer PlayStation triple sales'], ['sport', 'Slovakia seal Hopman Cup success'], ['technology', 'Smart search lets art fans browse'], ['sport', 'Smith keen on Home series return'], ['sport', 'South Africa sweep top awards'], ['technology', 'Speak easy plan for media players'], ['technology', 'Speech takes on search engines'], ['business', \"Tokyo says deflation 'controlled'\"], ['business', 'Turkey turns on the economic charm'], ['business', \"Turkey-Iran mobile deal 'at risk'\"], ['business', \"UK 'risks breaking golden rule'\"], ['business', 'UK firm faces Venezuelan land row'], ['technology', 'UK pioneers digital film network'], ['business', 'US bank in $515m SEC settlement'], ['business', 'US crude prices surge above $53'], ['sport', 'Umaga ready for Lions'], ['business', 'Umbro profits lifted by Euro 2004'], ['technology', 'Virgin Radio offers 3G broadcast'], ['technology', 'Virus poses as Christmas e-mail'], ['technology', 'Voters flock to blog awards site'], ['sport', 'Wales want rugby league training'], ['sport', 'Wales win in Rome'], ['technology', 'Warning over tsunami aid website'], ['sport', 'Wolves appoint Hoddle as manager'], ['sport', 'Wood - Ireland can win Grand Slam'], ['business', 'World leaders gather to face uncertainty'], ['sport', 'Worthington praises classy Villa'], ['sport', 'Yachvili savours France comeback'], ['N/A', 'Article no longer available in archive'], ['business', 'Yukos heading back to US courts'], ['business', 'Yukos seeks court action on sale'], ['business', 'Yukos unit fetches $9bn at auction'], ['business', 'Air China in $1bn London listing'], ['sport', 'Angry Williams rejects criticism'], ['business', 'Apple Inc. Phone Pricing Likely To Trend Lower'], ['business', 'Argentina closes $102.6bn debt swap'], ['business', 'AstraZeneca hit by drug failure'], ['sport', 'Balco case trial date pushed back'], ['business', 'Battered dollar hits another low'], ['sport', 'Beckham hints at Man Utd return'], ['sport', 'Benitez joy as Reds take control'], ['technology', \"Blind student 'hears in colour'\"], ['technology', 'Blogger grounded by her airline'], ['business', 'Brazil jobless rate hits new low'], ['technology', 'Broadband set to revolutionise TV'], ['technology', 'Bush website blocked outside US'], ['business', 'Business confidence dips in Japan'], ['business', 'Businesses fail to plan for HIV'], ['sport', 'Campese berates whingeing England'], ['sport', 'Cech sets clean-sheet benchmark'], ['technology', \"China 'blocks Google news site'\"], ['business', 'China continues rapid growth'], ['business', 'Circuit City gets takeover offer'], ['sport', 'Claxton hunting first major medal'], ['technology', 'Consumer concern over RFID tags'], ['business', \"Continental 'may run out of cash'\"], ['business', 'Deadline nears for Fiat-GM deal'], ['business', \"Deutsche Boerse set to 'woo' LSE\"], ['technology', 'Domain system scam fear'], ['technology', 'Doors open at biggest gadget fair'], ['sport', 'Dunne keen to commit to Man City'], ['business', 'EMI shares hit by profit warning'], ['business', \"EU to probe Alitalia 'state aid'\"], ['sport', \"England 'to launch ref protest'\"], ['sport', 'Faye plans to stay at Portsmouth'], ['business', \"Featured: 'Strong dollar' call halts slide\"], ['sport', \"Ferguson hails Man Utd's resolve\"], ['sport', 'Fuming Robinson blasts officials'], ['business', 'Further rise in UK jobless total'], ['technology', 'Gadget growth fuels eco concerns'], ['technology', 'Gadget show heralds MP3 season'], ['technology', 'Games win for Blu-ray DVD format'], ['business', 'German business confidence slides'], ['sport', 'Gerrard future not decided by Cardiff loss'], ['technology', 'Halo 2 sells five million copies'], ['sport', 'Henin-Hardenne beaten on comeback'], ['sport', 'Hewitt falls to Dent in Adelaide'], ['technology', 'How to smash a home computer'], ['sport', 'Ireland call up uncapped Campbell'], ['business', 'Israel looks to US for bank chief'], ['sport', 'Keane defiant over Vieira bust-up'], ['sport', \"Kenya lift Chepkemei's suspension\"], ['business', 'Kraft cuts snack ads for children'], ['business', 'Lesotho textile workers lose jobs'], ['sport', 'Lomu relishing return to action'], ['business', 'Lufthansa may sue over Bush visit'], ['business', 'MCI shares climb on takeover bid'], ['business', \"MG Rover China tie-up 'delayed'\"], ['business', 'Making your office work for you'], ['sport', 'McIlroy continues winning streak'], ['technology', 'Mobile TV tipped as one to watch'], ['business', 'Monsanto fined $1.5m for bribery'], ['technology', 'Moving mobile improves golf swing'], ['sport', 'Nadal puts Spain 2-0 up'], ['business', 'Nasdaq planning $100m-share sale'], ['technology', \"New Year's texting breaks record\"], ['N/A', 'Article no longer available in archive'], ['technology', 'New consoles promise big problems'], ['technology', 'Nintendo DS makes its Euro debut'], ['sport', \"O'Connor aims to grab opportunity\"], ['sport', \"O'Leary agrees new Villa contract\"], ['N/A', 'Article no longer available in archive'], ['sport', \"O'Sullivan keeps his powder dry\"], ['technology', 'Online commons to spark debate'], ['technology', 'Online games play with politics'], ['business', 'Parmalat founder offers apology'], ['business', 'Parmalat to return to stockmarket'], ['technology', \"Peer-to-peer nets 'here to stay'\"], ['business', 'Pernod takeover talk lifts Domecq'], ['business', \"Profits jump at China's top bank\"], ['sport', 'Prop Jones ready for hard graft'], ['business', 'Qatar and Shell in $6bn gas deal'], ['business', \"Quake's economic costs emerging\"], ['sport', 'Real in talks over Gravesen move'], ['business', 'Rescue hope for Borussia Dortmund'], ['sport', 'Robben and Cole earn Chelsea win'], ['technology', 'Robotic pods take on car design'], ['sport', 'Roddick in talks over new coach'], ['business', 'SEC to rethink post-Enron rules'], ['technology', 'Santy worm makes unwelcome visit'], ['technology', 'Seamen sail into biometric future'], ['sport', 'Serena becomes world number two'], ['sport', 'Smith aims to bring back respect'], ['business', \"Soaring oil 'hits world economy'\"], ['technology', 'Software watching while you work'], ['technology', 'Sony PSP console hits US in March'], ['sport', 'TV calls after Carroll error'], ['technology', \"TV's future down the phone line\"], ['N/A', 'Article no longer available in archive'], ['business', \"The 'ticking budget' facing the US\"], ['business', 'Train strike grips Buenos Aires'], ['technology', 'UK broadband gets speed injection'], ['business', 'US adds more jobs than expected'], ['business', 'US economy shows solid GDP growth'], ['business', 'US economy still growing says Fed'], ['business', 'US in EU tariff chaos trade row'], ['business', 'US retail sales surge in December'], ['business', 'US trade gap hits record in 2004'], ['business', 'Ukraine revisits state sell-offs'], ['sport', 'Underdogs have more fun'], ['business', 'VW considers opening Indian plant'], ['business', 'Wal-Mart to pay $14m in gun suit'], ['sport', 'Wasps 31-37 Leicester'], ['technology', 'What high-definition will do to DVDs'], ['technology', 'Why Cell will get the hard sell'], ['sport', 'Wilkinson fit to face Edinburgh'], ['sport', \"Wilkinson return 'unlikely'\"], ['technology', 'Yahoo celebrates a decade online'], ['technology', 'Yahoo moves into desktop search'], ['technology', '2D Metal Slug offers retro fun'], ['technology', 'Anti-spam laws bite spammer hard'], ['technology', \"Apple laptop is 'greatest gadget'\"], ['technology', 'Apple makes blogs reveal sources'], ['technology', \"Apple unveils low-cost 'Mac mini'\"], ['business', \"Arsenal 'may seek full share listing'\"], ['business', 'BA to suspend two Saudi services'], ['business', 'BMW drives record sales in Asia'], ['business', 'BT offers equal access to rivals'], ['sport', 'Barwick calls for Highbury calm'], ['sport', 'Barwick installed as new FA boss'], ['technology', 'Be careful how you code'], ['business', 'Beer giant swallows Russian firm'], ['technology', 'Blinx sequel purrs nicely'], ['business', 'Bombardier chief to leave company'], ['technology', 'Bond game fails to shake or stir'], ['business', \"Britannia members' £42m windfall\"], ['technology', 'California sets fines for spyware'], ['business', 'Call to save manufacturing jobs'], ['sport', 'Can Smith work Scottish wonders?'], ['technology', 'Cebit fever takes over Hanover'], ['sport', 'Chelsea clinch cup in extra-time'], ['technology', \"China 'to overtake US net use'\"], ['business', 'China bans new tobacco factories'], ['sport', 'Davenport dismantles young rival'], ['business', \"Disaster claims 'less than $10bn'\"], ['business', 'Dollar drops on reserves concerns'], ['business', \"EU 'too slow' on economic reforms\"], ['sport', 'English clubs make Euro history'], ['business', 'Ex-Boeing director gets jail term'], ['sport', 'FA decides not to punish Mourinho'], ['technology', 'Fast lifts rise into record books'], ['technology', \"Featured: 'Blog' picked as word of the year\"], ['technology', \"Featured: 'Brainwave' cap controls computer\"], ['technology', \"Featured: 'Podcasters' look to net money\"], ['business', 'Fresh hope after Argentine crisis'], ['technology', \"Gadget market 'to grow in 2005'\"], ['technology', 'Gates opens biggest gadget fair'], ['sport', 'Gebrselassie in London triple bid'], ['sport', 'Gerrard plays down European hopes'], ['business', 'Giant waves damage S Asia economy'], ['business', 'Giving financial gifts to children'], ['business', 'Golden rule boost for Chancellor'], ['sport', 'Henman hopes ended in Dubai'], ['technology', \"Hitachi unveils 'fastest robot'\"], ['technology', 'Hotspot users gain free net calls'], ['business', 'How Manchester United, Knicks Wins Correlate With Stock Gains'], ['business', 'Hyundai to build new India plant'], ['business', 'Industrial revival hope for Japan'], ['business', 'Insurance bosses plead guilty'], ['business', 'Iraq and Afghanistan in WTO talks'], ['sport', 'Ireland surge past Scots'], ['sport', 'Italy 17-28 Ireland'], ['business', 'JP Morgan admits US slavery links'], ['sport', 'Keegan hails comeback king Fowler'], ['technology', 'Kenyan school turns to handhelds'], ['technology', 'Long life promised for laptop PCs'], ['business', 'M&S cuts prices by average of 24%'], ['business', 'MCI shareholder sues to stop bid'], ['business', 'Market unfazed by Aurora setback'], ['technology', 'Microsoft takes on desktop search'], ['business', \"Millions 'to lose textile jobs'\"], ['technology', 'Mobile networks seek turbo boost'], ['technology', \"Mobiles 'not media players yet'\"], ['technology', 'Mobiles double up as bus tickets'], ['technology', 'Mobiles rack up 20 years of use'], ['N/A', 'Article no longer available in archive'], ['sport', 'Mourinho takes swipe at Arsenal'], ['sport', 'Mourinho to escape FA charge'], ['technology', \"Net regulation 'still possible'\"], ['technology', 'New delay hits EU software laws'], ['business', 'Newest EU members underpin growth'], ['sport', 'No lack of Christmas spirit'], ['sport', \"O'Driscoll/Gregan lead Aid stars\"], ['business', 'Optimism remains over UK housing'], ['business', 'Orange colour clash set for court'], ['sport', 'Owen delighted with Real display'], ['technology', 'Pandas benefit from wireless net'], ['technology', 'Parents face video game lessons'], ['sport', 'Petit career ended by knee injury'], ['N/A', 'Article no longer available in archive'], ['sport', 'Plymouth 3-0 Sheff Utd'], ['sport', 'Preview: Ireland v England (Sun)'], ['sport', 'Prinz beats Hamm to Fifa trophy'], ['business', \"Profits slide at India's Dr Reddy\"], ['sport', 'Prutton poised for lengthy FA ban'], ['technology', 'Rivals of the £400 Apple...'], ['sport', 'Robinson answers critics'], ['sport', 'Rochus shocks Coria in Auckland'], ['business', \"Rover deal 'may cost 2,000 jobs'\"], ['N/A', 'Article no longer available in archive'], ['sport', 'Running around the Olympics'], ['business', \"SA unveils 'more for all' budget\"], ['business', 'SBC plans post-takeover job cuts'], ['business', 'Safety alert as GM recalls cars'], ['business', 'Saudi ministry to employ women'], ['technology', 'Savvy searchers fail to spot ads'], ['business', 'Shares hit by MS drug suspension'], ['business', 'Slowdown hits US factory growth'], ['technology', 'Spam e-mails tempt net shoppers'], ['technology', 'Text messages aid disaster recovery'], ['sport', 'The wonder of Ronaldinho'], ['technology', 'The year search became personal'], ['sport', 'Tomlinson stays focused on Europe'], ['N/A', 'Article no longer available in archive'], ['business', \"US bank boss hails 'genius' Smith\"], ['business', 'US consumer confidence up'], ['business', 'US trade deficit widens sharply'], ['sport', 'Uefa threat over foreign quotas'], ['business', \"Ukraine steel sell-off 'illegal'\"], ['business', 'Ukraine trims privatisation check'], ['sport', 'Venus stunned by Farina Elia'], ['sport', 'Video technology will not make football a mistake-free sport'], ['technology', 'Warning over Windows Word files'], ['business', 'Weak dollar trims Cadbury profits'], ['technology', 'Web helps collect aid donations'], ['sport', 'Wenger handed summer war chest'], ['technology', 'When technology gets personal'], ['technology', 'A decade of good website design'], ['sport', 'Agassi fear for Melbourne'], ['business', 'Ailing EuroDisney vows turnaround'], ['sport', 'Ajax refuse to rule out Jol move'], ['sport', 'Anelka apologises for criticism'], ['technology', 'Apple attacked over sources row'], ['technology', 'Apple iPod family expands market'], ['technology', 'Argonaut founder rebuilds empire'], ['sport', 'Arsenal 1-1 Sheff Utd'], ['business', 'Asia shares defy post-quake gloom'], ['business', 'Aviation firms eye booming India'], ['technology', 'BT program to beat dialler scams'], ['business', 'Bat spit drug firm goes to market'], ['sport', 'Bees handed potential Man Utd tie'], ['sport', 'Blackburn v Burnley'], ['business', 'Boeing unveils new 777 aircraft'], ['sport', 'Breaking news: US company admits Benin bribery'], ['technology', 'Broadband in the UK growing fast'], ['sport', 'Bryan twins keep US hopes alive'], ['business', 'Building giant in asbestos payout'], ['technology', 'California sets fines for spyware'], ['business', 'Call to overhaul UK state pension'], ['sport', 'Campbell to be Lions consultant'], ['sport', 'Cantona issues Man Utd job hint'], ['business', 'Chinese exports rise 25% in 2004'], ['sport', 'Clijsters could play Aussie Open'], ['sport', 'Corry backs skipper Robinson'], ['technology', 'DVD copy protection strengthened'], ['sport', 'Dallaglio his own man to the end'], ['sport', 'Dawson wins England squad recall'], ['sport', 'Dementieva prevails in Hong Kong'], ['technology', 'Disney backs Sony DVD technology'], ['sport', 'Dominici backs lacklustre France'], ['technology', 'Dublin hi-tech labs to shut down'], ['business', 'Ebbers denies WorldCom fraud'], ['sport', 'England coach faces rap after row'], ['business', \"European losses hit GM's profits\"], ['sport', 'Fifa agrees goal-line technology'], ['technology', 'Freeze on anti-spam campaign'], ['business', 'French boss to leave EADS'], ['business', 'German economy rebounds'], ['business', 'Glazer makes new Man Utd approach'], ['technology', 'Google to scan famous libraries'], ['sport', \"Greek sprinters 'won't run again'\"], ['sport', 'Greek sprinters suspended by IAAF'], ['sport', 'Gunners clock up winning record'], ['technology', 'Halo 2 heralds traffic explosion'], ['sport', 'Henson stakes early Lions claim'], ['sport', 'Hewitt fights back to reach final'], ['sport', 'Holmes is hit by hamstring injury'], ['technology', 'IBM frees 500 software patents'], ['N/A', 'Article no longer available in archive'], ['business', \"India's Reliance family feud heats up\"], ['business', \"India's rupee hits five-year high\"], ['technology', 'Ink helps drive democracy in Asia'], ['sport', 'Irish finish with home game'], ['business', 'J&J agrees $25bn Guidant deal'], ['sport', 'Johansson takes Adelaide victory'], ['sport', 'Jones doping probe begins'], ['sport', 'Kenteris denies faking road crash'], ['business', 'Khodorkovsky quits Yukos shares'], ['technology', 'Latest Opera browser gets vocal'], ['N/A', 'Article no longer available in archive'], ['sport', 'Legendary Dutch boss Michels dies'], ['sport', 'Lions blow to World Cup stars'], ['sport', 'Liverpool revel in night of glory'], ['business', 'Man Utd to open books to Glazer'], ['sport', 'Man Utd urged to seal Giggs deal'], ['sport', 'Melzer shocks Agassi in San Jose'], ['technology', 'Microsoft debuts security tools'], ['technology', 'Millions buy MP3 players in US'], ['technology', 'Mobile multimedia slow to catch on'], ['technology', 'Mobiles get set for visual radio'], ['technology', 'Mobiles rack up 20 years of use'], ['sport', 'Molby says Gravesen is Real deal'], ['technology', 'More power to the people says HP'], ['technology', \"Musicians 'upbeat' about the net\"], ['business', 'News Corp eyes video games market'], ['N/A', 'Article no longer available in archive'], ['technology', 'No half measures with Half-Life 2'], ['sport', 'Parmar ruled out of Davis Cup tie'], ['sport', 'Philippoussis doubt over Open bid'], ['technology', 'Pompeii gets digital make-over'], ['business', 'Q&A: Malcolm Glazer and Man Utd'], ['sport', 'Radcliffe eyes hard line on drugs'], ['sport', 'Real will finish abandoned match'], ['sport', 'Ref stands by Scotland decisions'], ['sport', 'Robinson wants dual code success'], ['sport', \"Roche 'turns down Federer offer'\"], ['N/A', 'Article no longer available in archive'], ['sport', 'Roddick splits from coach Gilbert'], ['sport', 'Ronaldinho denies Blues interest'], ['business', 'S Korea spending boost to economy'], ['business', 'S Korean consumers spending again'], ['business', 'Saudi investor picks up the Savoy'], ['sport', 'Sella wants Michalak recall'], ['business', 'Share boost for feud-hit Reliance'], ['business', 'Shares rise on new Man Utd offer'], ['technology', \"Sony PSP tipped as a 'must-have'\"], ['sport', 'Souness eyes summer move for Owen'], ['technology', 'Souped-up wi-fi is on the horizon'], ['business', 'South African car demand surges'], ['sport', 'Stam spices up Man Utd encounter'], ['sport', 'Tapping-up row is so much hot air'], ['technology', 'Technology gets the creative bug'], ['technology', 'Technology in rugby: GPS systems continue to grow in importance'], ['sport', 'Tindall aiming to earn Lions spot'], ['sport', 'Tindall wants second opinion'], ['business', \"Tsunami 'to hit Sri Lanka banks'\"], ['business', \"UK economy facing 'major risks'\"], ['business', 'US Ahold suppliers face charges'], ['business', 'US data sparks inflation worries'], ['business', 'US interest rate rise expected'], ['technology', 'US peer-to-peer pirates convicted'], ['sport', 'Umaga ready for \"fearsome\" Lions'], ['technology', 'Virus poses as Christmas e-mail'], ['business', 'Wal-Mart fights back at accusers'], ['sport', 'Wales coach elated with win'], ['N/A', 'Article no longer available in archive'], ['business', 'Warning over US pensions deficit'], ['technology', 'Web photo storage market hots up'], ['technology', 'Web radio takes Spanish rap global'], ['sport', 'Wenger keeping faith with Almunia'], ['sport', 'Wenger steps up row'], ['sport', 'What now for British tennis?'], ['sport', 'White admits to Balco drugs link'], ['technology', 'World tour for top video gamers'], ['business', '$1m payoff for former Shell boss'], ['technology', 'Anti-tremor mouse stops PC shakes'], ['technology', \"Apple unveils low-cost 'Mac mini'\"], ['business', 'Argentina, Venezuela in oil deal'], ['sport', 'Argentine great Caniggia retires'], ['business', 'Banker loses sexism claim'], ['business', 'Beijingers fume over parking fees'], ['sport', 'Bell set for England debut'], ['sport', 'Benitez issues warning to Gerrard'], ['sport', 'Blackburn 0-1 Chelsea'], ['business', 'Brazil plays down Varig rescue'], ['technology', 'Britons fed up with net service'], ['technology', 'Broadband takes on TV viewing'], ['business', 'Brussels raps mobile call charges'], ['sport', 'Butler strikes gold in Spain'], ['sport', 'Chelsea denied by James heroics'], ['business', 'China had role in Yukos split-up'], ['sport', 'Clijsters hope on Aussie Open'], ['sport', 'Costin aims for comeback in 2006'], ['business', \"DaimlerChrysler's 2004 sales rise\"], ['sport', 'Dal Maso in to replace Bergamasco'], ['sport', 'Davenport hits out at Wimbledon'], ['sport', 'Dein concerned by Chelsea stance'], ['business', 'Deutsche Boerse boosts dividend'], ['business', 'EU ministers to mull jet fuel tax'], ['business', 'Euronext joins bid battle for LSE'], ['technology', \"Featured: 'No re-draft' for EU patent law\"], ['technology', \"Featured: 'Ultimate game' award for Doom 3\"], ['N/A', 'Article no longer available in archive'], ['business', 'Fed chief warning on US deficit'], ['sport', 'Ferguson rues failure to cut gap'], ['business', 'GM pays $2bn to evade Fiat buyout'], ['business', 'GSK aims to stop Aids profiteers'], ['technology', 'GTA sequel is criminally good'], ['technology', 'Gamer buys $26,500 virtual land'], ['technology', \"Google's toolbar sparks concern\"], ['sport', 'Greene sets sights on world title'], ['sport', 'Henman to face Saulnier test'], ['sport', 'Holmes back on form in Birmingham'], ['business', 'Home loan approvals rising again'], ['business', 'Huge rush for Jet Airways shares'], ['technology', 'IBM puts cash behind Linux push'], ['business', 'India unveils anti-poverty budget'], ['sport', 'Injury doubts beset Wales squad'], ['technology', 'Intercom Are Doubling Their Product Teams In SF, Dublin & London'], ['sport', 'Ireland 19-13 England'], ['sport', \"Ireland win eclipses refereeing 'errors'\"], ['N/A', 'Article no longer available in archive'], ['business', 'Japan economy slides to recession'], ['business', \"Japan's ageing workforce: built to last\"], ['N/A', 'Article no longer available in archive'], ['business', 'Japanese growth grinds to a halt'], ['business', 'Jobs go at Oracle after takeover'], ['business', 'Jobs growth still slow in the US'], ['sport', 'Johnson accuses British sprinters'], ['business', \"LSE doubts boost bidders' shares\"], ['technology', 'Lasers help bridge network gaps'], ['sport', 'Lewis-Francis turns to Christie'], ['sport', 'Man City 0-2 Man Utd'], ['sport', \"Man Utd women's team to be axed\"], ['business', 'Markets fall on weak dollar fears'], ['business', 'Marsh executive in guilty plea'], ['business', \"McDonald's boss Bell dies aged 44\"], ['sport', 'McIlroy wins 800m indoor title'], ['business', 'Mexican in US send $16bn home'], ['technology', 'Microsoft launches its own search'], ['technology', 'Microsoft releases bumper patches'], ['technology', 'Microsoft sets sights on spyware'], ['business', 'Mixed Christmas for US retailers'], ['business', 'Mixed reaction to Man Utd offer'], ['sport', 'Murray to make Cup history'], ['technology', 'Musical future for phones'], ['technology', 'Net fingerprints combat attacks'], ['technology', 'New browser wins over net surfers'], ['business', 'News Corp eyes video games market'], ['business', 'No seasonal lift for house market'], ['sport', \"O'Sullivan quick to hail Italians\"], ['business', 'Online News poll indicates economic gloom'], ['business', 'Parmalat boasts doubled profits'], ['technology', 'PlayStation 3 processor unveiled'], ['technology', 'Podcasts mark rise of DIY radio'], ['business', 'Police detain Chinese milk bosses'], ['sport', 'Poll explains free-kick decision'], ['sport', 'Radcliffe proves doubters wrong'], ['sport', 'Radcliffe will compete in London'], ['sport', 'Roddick into San Jose final'], ['sport', \"Ruddock backs Yapp's credentials\"], ['business', 'S&N extends Indian beer venture'], ['sport', 'SA return to Mauritius'], ['sport', 'Safin slumps to shock Dubai loss'], ['business', \"Sales 'fail to boost High Street'\"], ['sport', 'Santini resigns as Spurs manager'], ['sport', \"Serena ends Sania Mirza's dream\"], ['technology', 'Set your television to wow'], ['business', \"Small firms 'hit by rising costs'\"], ['sport', 'Souness delight at Euro progress'], ['sport', 'Stars shine for tsunami benefit'], ['sport', 'Strachan turns down Pompey'], ['business', 'Strong demand triggers oil rally'], ['sport', 'Sydney to host north v south game'], ['business', 'Telegraph newspapers axe 90 jobs'], ['business', 'UK bank seals South Korean deal'], ['business', 'UK homes hit £3.3 trillion total'], ['business', 'US Airways staff agree to pay cut'], ['business', 'US budget deficit to reach $368bn'], ['business', 'US interest rates increased to 2%'], ['technology', 'US woman sues over ink cartridges'], ['sport', 'Uganda FA suspended'], ['business', 'Ukraine strikes Turkmen gas deal'], ['technology', 'Video phone help for deaf people'], ['technology', 'Viewers to be able to shape TV'], ['sport', 'WRU proposes season overhaul'], ['business', 'Watchdog probes Vivendi bond sale'], ['business', 'Weak data buffets French economy'], ['sport', 'White prepared for battle'], ['sport', 'Williams stays on despite dispute'], ['business', 'Wipro beats forecasts once again'], ['business', \"WorldCom bosses' $54m payout\"], ['sport', 'Young debut cut short by Ginepri']]\n"
     ]
    },
    {
     "name": "stdout",
     "output_type": "stream",
     "text": [
      "[['technology', '21st-Century Sports: How Digital Technology Is Changing the Face Of The Sporting Industry'], ['business', 'Asian quake hits European shares'], ['technology', 'BT offers free net phone calls'], ['business', 'Barclays shares up on merger talk'], ['sport', 'Barkley fit for match in Ireland'], ['sport', 'Bellamy under new fire'], ['sport', \"Benitez 'to launch Morientes bid'\"], ['sport', 'Benitez delight after crucial win'], ['technology', 'Big war games battle it out'], ['technology', 'British Library gets wireless net'], ['sport', \"Brizzel to run AAA's in Sheffield\"], ['business', 'Bush budget seeks deep cutbacks'], ['business', \"Bush to get 'tough' on deficit\"], ['technology', 'Cable offers video-on-demand'], ['technology', 'Cabs collect mountain of mobiles'], ['technology', \"Camera phones are 'must-haves'\"], ['business', \"Card fraudsters 'targeting web'\"], ['business', 'Cash gives way to flexible friend'], ['technology', 'Cebit opens to mobile music tune'], ['sport', 'Charvis set to lose fitness bid'], ['sport', 'Chelsea hold Arsenal'], ['business', 'Christmas sales worst since 1981'], ['sport', 'Clijsters set for February return'], ['sport', 'Clyde 0-5 Celtic'], ['sport', 'Coach Ranieri sacked by Valencia'], ['technology', 'Confusion over high-definition TV'], ['business', 'Cuba winds back economic clock'], ['technology', 'DS aims to touch gamers'], ['sport', 'Dawson set for new Wasps contract'], ['business', 'Diageo to buy US wine firm'], ['technology', 'Digital guru floats sub-$100 PC'], ['business', 'EU aiming to fuel development aid'], ['N/A', 'Article no longer available in archive'], ['sport', 'England 17-18 France'], ['business', 'Enron bosses in $168m payout'], ['business', \"Euronext 'poised to make LSE bid'\"], ['business', 'Europe asks Asia for euro help'], ['business', 'Europe blames US over weak dollar'], ['business', \"Fannie Mae 'should restate books'\"], ['technology', \"Featured: 'Brainwave' cap controls computer\"], ['technology', \"Featured: 'Evil twin' fear for wireless net\"], ['technology', \"Featured: 'Friends fear' with lost mobiles\"], ['N/A', 'Article no longer available in archive'], ['business', \"Featured: 'Post-Christmas lull' in lending\"], ['business', 'Fed warns of more US rate rises'], ['sport', 'Federer forced to dig deep'], ['sport', 'Ferguson puts faith in youngsters'], ['business', \"GE sees 'excellent' world economy\"], ['business', 'GM issues 2005 profits warning'], ['technology', 'Gangsters dominate gaming chart'], ['sport', 'Gardener wins double in Glasgow'], ['N/A', 'Article no longer available in archive'], ['business', \"Gazprom 'in $36m back-tax claim'\"], ['business', 'German growth goes into reverse'], ['business', 'Germany calls for EU reform'], ['technology', 'Go-ahead for new internet names'], ['sport', 'Greek duo cleared in doping case'], ['sport', \"Hansen 'delays return until 2006'\"], ['N/A', 'Article no longer available in archive'], ['sport', 'Henman & Murray claim LTA awards'], ['sport', 'Henman decides to quit Davis Cup'], ['technology', 'Hi-tech posters guide commuters'], ['sport', 'Hodgson shoulders England blame'], ['technology', 'Hollywood to sue net film pirates'], ['sport', 'Holmes secures comeback victory'], ['business', 'House prices suffer festive fall'], ['sport', 'IAAF launches fight against drugs'], ['business', 'India-Pakistan peace boosts trade'], ['business', 'Iraqi voters turn to economic issues'], ['sport', 'Jansen suffers a further setback'], ['technology', 'Latest Opera browser gets vocal'], ['business', 'Laura Ashley chief stepping down'], ['technology', 'Learning to love broadband'], ['technology', 'Mac Mini heralds mini revolution'], ['business', \"Macy's owner buys rival for $11bn\"], ['business', 'Madagascar completes currency switch'], ['sport', 'McLeish ready for criticism'], ['technology', 'Mobile games come of age'], ['technology', 'More power to the people says HP'], ['sport', 'Mourinho sends out warning shot'], ['sport', 'Moya suffers shock loss'], ['sport', 'Moyes U-turn on Beattie dismissal'], ['sport', 'Murray returns to Scotland fold'], ['business', 'Mystery surrounds new Yukos owner'], ['sport', 'Off-colour Gardener storms to win'], ['business', 'Oil companies get Russian setback'], ['sport', 'Owen may have to return home'], ['sport', 'Pearce keen on succeeding Keegan'], ['technology', \"Poles play with GameBoy 'blip-pop'\"], ['sport', 'Premier League probes Cole claims'], ['sport', 'Prodigy Monfils blows away Gaudio'], ['technology', 'Remote control rifle range debuts'], ['sport', 'Robinson ready for difficult task'], ['technology', 'Row brewing over peer-to-peer ads'], ['sport', 'Rusedski angry over supplements'], ['business', 'S Korean lender faces liquidation'], ['sport', 'SFA awaits report over Mikoliunas'], ['sport', 'Safin cool on Wimbledon'], ['sport', 'Safin plays down Wimbledon hopes'], ['technology', 'Satellite mapping aids Darfur relief'], ['technology', 'Search sites get closer to users'], ['technology', 'Security scares spark browser fix'], ['business', 'Senior Fannie Mae bosses resign'], ['technology', 'Solutions to net security fears'], ['business', 'Split-caps pay £194m compensation'], ['sport', 'Sports Stock Tips'], ['business', 'Strong quarterly growth for Nike'], ['technology', \"T-Mobile bets on 'pocket office'\"], ['sport', 'Thanou desperate to make return'], ['sport', 'Thompson says Gerrard should stay'], ['sport', 'Time to get tough on friendlies?'], ['technology', 'US peer-to-peer pirates convicted'], ['technology', 'US top of supercomputing charts'], ['business', 'Venezuela and China sign oil deal'], ['business', 'Weak end-of-year sales hit Next'], ['sport', 'Williams says he will never quit'], ['business', \"Winemaker rejects Foster's offer\"], ['business', \"Worldcom boss 'left books alone'\"], ['technology', 'Xbox 2 may be unveiled in summer'], ['technology', \"Xbox power cable 'fire fear'\"], ['business', \"Yangtze Electric's profits double\"], ['business', 'Yukos loses US bankruptcy battle'], ['business', '7 business technology trends to watch'], ['sport', 'A November to remember'], ['technology', 'A question of trust and technology'], ['business', 'Ad sales boost Time Warner profit'], ['sport', 'African double in Edinburgh'], ['business', 'Air passengers win new EU rights'], ['technology', 'Anti-spam screensaver scrapped'], ['sport', 'Arsenal through on penalties'], ['business', 'BP surges ahead on high oil price'], ['business', 'Bank holds interest rate at 4.75%'], ['business', 'Bank set to leave rates on hold'], ['sport', 'Bekele sets sights on world mark'], ['sport', 'Bitter Santini hits out at Spurs'], ['technology', 'Blogs take on the mainstream'], ['business', \"Brewers' profits lose their fizz\"], ['business', \"Bush to outline 'toughest' budget\"], ['business', \"Buyers snap up Jet Airways' shares\"], ['business', 'Cairn shares up on new oil find'], ['sport', 'Campbell to extend sprint career'], ['sport', 'Celtic make late bid for Bellamy'], ['sport', 'Charlton 1-2 Liverpool'], ['N/A', 'Article no longer available in archive'], ['sport', 'Chepkemei joins Edinburgh line-up'], ['N/A', 'Article no longer available in archive'], ['business', 'Chinese billionaire targets Manchester United shares in new deal, reports suggest'], ['sport', 'Collins calls for Chambers return'], ['technology', 'Commodore finds new lease of life'], ['technology', 'Creator of first Apple Mac dies'], ['sport', 'Cudicini misses Carling Cup final'], ['sport', 'Davenport hits out at Wimbledon'], ['sport', 'Davies favours Gloucester future'], ['business', 'Deutsche Telekom sees mobile gain'], ['sport', 'Dibaba breaks 5,000m world record'], ['sport', 'Dogged Federer claims Dubai crown'], ['business', 'Dollar hovers around record lows'], ['sport', 'Dundee Utd 4-1 Aberdeen'], ['business', 'EC calls truce in deficit battle'], ['business', 'EU-US seeking deal on air dispute'], ['business', 'Egypt and Israel seal trade deal'], ['business', 'Egypt to sell off state-owned bank'], ['sport', 'El Guerrouj targets cross country'], ['sport', 'FA ready to test out goal bleeper'], ['N/A', 'Article no longer available in archive'], ['business', 'FBI agent colludes with analyst'], ['technology', 'Fast moving phone bugs appear'], ['N/A', 'Article no longer available in archive'], ['sport', 'Ferguson fears Milan cutting edge'], ['sport', 'Finnan says Irish can win group'], ['sport', 'Fit-again Betsen in France squad'], ['business', 'Five million Germans out of work'], ['technology', \"Format wars could 'confuse users'\"], ['sport', 'Giggs handed Wales leading role'], ['technology', 'Gritty return for Prince of Persia'], ['sport', 'Hewitt survives Nalbandian epic'], ['business', 'Honda wins China copyright ruling'], ['business', 'India seeks to boost construction'], ['business', \"India's Deccan gets more planes\"], ['business', 'Indy buys into India paper'], ['business', 'Intercom raises €101m in funding round making it the most valuable Irish tech firm'], ['business', 'Iranian MPs threaten mobile deal'], ['business', 'Irish company hit by Iraqi report'], ['sport', 'Italy aim to rattle England'], ['business', 'Italy to get economic action plan'], ['sport', \"Juninho demand for O'Neill talks\"], ['sport', 'Kenyon denies Robben Barca return'], ['sport', 'Kerr frustrated at victory margin'], ['sport', 'Klinsmann issues Lehmann warning'], ['business', \"LSE 'sets date for takeover deal'\"], ['sport', 'Lewis-Francis eyeing world gold'], ['technology', \"Lifestyle 'governs mobile choice'\"], ['technology', 'Looks and music to drive mobiles'], ['sport', 'Man Utd through after Exeter test'], ['sport', 'Martinez sees off Vinci challenge'], ['technology', 'Microsoft makes anti-piracy move'], ['sport', 'Middlesbrough 2-2 Charlton'], ['sport', 'Mido makes third apology'], ['technology', 'Millions buy MP3 players in US'], ['business', 'Mixed signals from French economy'], ['technology', 'Mobile picture power in your pocket'], ['sport', 'Moore questions captaincy'], ['sport', 'More Africans for tsunami game'], ['sport', 'Murphy: That was a bruising battle'], ['sport', 'Navratilova hits out at critics'], ['sport', \"O'Driscoll out of Scotland game\"], ['sport', \"O'Gara revels in Ireland victory\"], ['sport', 'Owen dismisses fresh Real rumours'], ['technology', \"PC ownership to 'double by 2010'\"], ['sport', 'Paris promise raises Welsh hopes'], ['business', 'Parmalat sues 45 banks over crash'], ['technology', 'Progress on new internet domains'], ['business', 'Qantas considers offshore option'], ['sport', 'Radcliffe tackles marathon tasks'], ['sport', 'Rangers seal Old Firm win'], ['sport', 'Record fails to lift lacklustre meet'], ['business', 'Record year for Chilean copper'], ['sport', 'Republic to face China and Italy'], ['sport', 'Robben sidelined with broken foot'], ['technology', \"Robots learn 'robotiquette' rules\"], ['technology', \"Rolling out next generation's net\"], ['business', \"Russia WTO talks 'make progress'\"], ['technology', 'Screensaver tackles spam websites'], ['technology', 'Slim PlayStation triples sales'], ['business', 'Standard Life concern at LSE bid'], ['business', \"Steel firm 'to cut' 45,000 jobs\"], ['sport', 'Stuart joins Norwich from Addicks'], ['N/A', 'Article no longer available in archive'], ['technology', 'Sun offers processing by the hour'], ['technology', 'Tech helps disabled speed demons'], ['technology', 'Telewest to challenge Sky Plus'], ['sport', 'Thanou bullish over drugs hearing'], ['technology', 'The Force is strong in Battlefront'], ['technology', 'The gaming world in 2005'], ['business', 'Turkey knocks six zeros off lira'], ['business', 'UK Coal plunges into deeper loss'], ['business', 'US trade gap ballooned in October'], ['business', 'Unilever shake up as profit slips'], ['sport', 'Wales get Williams fitness boost'], ['sport', 'Wales stars need a rest - Ruddock'], ['business', \"Wall Street cool to eBay's profit\"], ['technology', 'Warnings about junk mail deluge'], ['technology', 'Web radio takes Spanish rap global'], ['sport', 'Wenger shock at Newcastle dip'], ['technology', 'When invention turns to innovation'], ['technology', 'Who do you think you are?'], ['sport', 'Wilkinson to miss Ireland match'], ['business', 'Winn-Dixie files for bankruptcy'], ['business', 'Yukos sues four firms for $20bn'], ['sport', 'A year to remember for Irish'], ['sport', 'An Irish Athletics Year'], ['sport', 'Arnesen denies rift with Santini'], ['business', 'Asia shares defy post-quake gloom'], ['business', 'Bank payout to Pinochet victims'], ['sport', 'Barcelona title hopes hit by loss'], ['business', 'Bargain calls widen Softbank loss'], ['sport', 'Bayern Munich 3-1 Arsenal'], ['sport', 'Benitez deflects blame from Dudek'], ['technology', 'Blog reading explodes in America'], ['technology', 'Broadband challenges TV viewing'], ['technology', 'Broadband in the UK growing fast'], ['sport', 'Calder fears for Scottish rugby'], ['sport', 'Captains lining up for Aid match'], ['sport', 'Celts savour Grand Slam prospect'], ['sport', 'Chelsea ridiculed over complaint'], ['business', 'China keeps tight rein on credit'], ['technology', 'China net cafe culture crackdown'], ['business', 'China suspends 26 power projects'], ['business', 'Christmas shoppers flock to tills'], ['sport', 'Collins named UK Athletics chief'], ['technology', 'Court mulls file-sharing future'], ['business', 'Crude oil prices back above $50'], ['technology', 'Cyber criminals step up the pace'], ['technology', 'DVD copy protection strengthened'], ['business', 'Deutsche attacks Yukos case'], ['sport', 'Disappointed Scott in solid start'], ['business', 'Durex maker SSL awaits firm bid'], ['technology', 'EA to take on film and TV giants'], ['sport', 'Edu blasts Arsenal'], ['N/A', 'Article no longer available in archive'], ['technology', 'Europe backs digital TV lifestyle'], ['sport', 'Farrell saga to drag on - Lindsay'], ['business', \"Featured: 'Golden economic period' to end\"], ['business', 'Feta cheese battle reaches court'], ['business', 'Firms pump billions into pensions'], ['technology', 'First look at PlayStation 3 chip'], ['business', 'Ford gains from finance not cars'], ['sport', 'Fuming Robinson blasts officials'], ['sport', 'GB quartet get cross country call'], ['technology', \"Gadget market 'to grow in 2005'\"], ['technology', 'Gadgets galore on show at fair'], ['technology', \"Games help you 'learn and play'\"], ['business', 'Gaming firm to sell UK dog tracks'], ['business', 'Germany nears 1990 jobless level'], ['sport', 'Greek pair attend drugs hearing'], ['sport', 'Gronkjaer agrees switch to Madrid'], ['N/A', 'Article no longer available in archive'], ['technology', \"Half of UK's mobiles 'go online'\"], ['sport', 'Hantuchova in Dubai last eight'], ['technology', 'Have hackers recruited your PC?'], ['sport', 'Healey targets England comeback'], ['business', 'High fuel costs hit US airlines'], ['business', \"High fuel prices hit BA's profits\"], ['technology', 'Hotspot users gain free net calls'], ['business', 'House prices drop as sales slow'], ['business', 'House prices show slight increase'], ['technology', 'ITunes user sues Apple over iPod'], ['business', 'India widens access to telecoms'], ['technology', 'Iran jails blogger for 14 years'], ['business', 'Irish duo could block Man Utd bid'], ['sport', 'Italy 8-38 Wales'], ['sport', 'Johnson uncertain about Euro bid'], ['sport', 'Kirwan demands Italy consistency'], ['business', 'Liberian economy starts to grow'], ['business', 'Malaysia lifts Islamic bank limit'], ['sport', 'Man Utd stroll to Cup win'], ['technology', 'Man auctions ad space on forehead'], ['business', \"Manufacturing recovery 'slowing'\"], ['business', 'Markets signal Brazilian recovery'], ['sport', 'Merritt close to indoor 400m mark'], ['technology', 'Microsoft debuts security tools'], ['technology', 'Microsoft releases patches'], ['business', 'Minister hits out at Yukos sale'], ['sport', 'Mirza shocks Kuznetsova'], ['N/A', 'Article no longer available in archive'], ['sport', 'Mourinho receives Robson warning'], ['sport', 'Moya emotional after Davis Cup win'], ['business', 'Nasdaq planning $100m share sale'], ['sport', 'Newcastle 2-1 Bolton'], ['sport', 'Newcastle to join Morientes race'], ['business', 'News Corp makes $5.4bn Fox offer'], ['business', 'Nigeria to boost cocoa production'], ['technology', 'Nintendo DS aims to touch gamers'], ['business', 'Novartis hits acquisition trail'], ['business', \"Profits stall at China's Lenovo\"], ['business', 'Putin backs state grab for Yukos'], ['business', 'Quiksilver moves for Rossignol'], ['sport', 'Redknapp poised for Saints'], ['sport', 'Robertson out to retain Euro lure'], ['technology', 'Seamen sail into biometric future'], ['business', 'Singapore growth at 8.1% in 2004'], ['N/A', 'Article no longer available in archive'], ['sport', 'Slovakia reach Hopman Cup final'], ['sport', 'Sociedad set to rescue Mladenovic'], ['technology', 'Sony wares win innovation award'], ['business', 'Soros group warns of Kazakh close'], ['technology', 'Sport-loving inventors whose tech could change the game'], ['sport', 'Sprinter Walker quits athletics'], ['N/A', 'Article no longer available in archive'], ['business', 'Stock market eyes Japan recovery'], ['business', 'Swiss cement firm in buying spree'], ['technology', 'Text message record smashed'], ['technology', 'The pirates with no profit motive'], ['business', 'Tsunami to cost Sri Lanka $1.3bn'], ['sport', 'UK Athletics agrees new kit deal'], ['technology', 'US cyber security chief resigns'], ['technology', 'US hacker breaks into T-Mobile'], ['business', 'US industrial output growth eases'], ['business', 'US insurer Marsh cuts 2,500 jobs'], ['business', 'US manufacturing expands'], ['business', 'US to rule on Yukos refuge call'], ['sport', 'Van Nistelrooy set to return'], ['sport', 'Vickery upbeat about arm injury'], ['technology', 'Video phones act as dating tools'], ['business', 'Virgin Blue shares plummet 20%'], ['N/A', 'Article no longer available in archive'], ['sport', 'Wada will appeal against ruling'], ['sport', 'Wales critical of clumsy Grewcock'], ['sport', 'Wales silent on Grand Slam talk'], ['sport', 'Wenger rules out new keeper'], ['sport', 'Wenger signs new deal'], ['business', 'Axa Sun Life cuts bonus payments'], ['technology', 'BT boosts its broadband packages'], ['sport', 'Bates seals takeover'], ['technology', 'Beckham virus spotted on the net'], ['technology', 'Broadband fuels online expression'], ['technology', 'Broadband in the UK gathers pace'], ['business', 'Burren awarded Egyptian contracts'], ['business', 'Business fears over sluggish EU economy'], ['sport', 'Candela completes Bolton switch'], ['business', 'Cannabis hopes for drug firm'], ['sport', 'Castaignede fires Laporte warning'], ['technology', \"Casual gaming to 'take off'\"], ['sport', 'Chelsea sack Mutu'], ['business', 'China Aviation seeks rescue deal'], ['sport', 'Classy Henman makes winning start'], ['sport', 'Collins banned in landmark case'], ['technology', 'Concerns over Windows ATMs'], ['sport', 'Connors boost for British tennis'], ['business', \"Crossrail link 'to get go-ahead'\"], ['N/A', 'Article no longer available in archive'], ['technology', 'Cyber crime booms in 2004'], ['technology', 'Disney backs Sony DVD technology'], ['business', 'Dollar slides ahead of New Year'], ['business', \"Economy 'stronger than forecast'\"], ['business', 'Electrolux to export Europe jobs'], ['business', \"Ethiopia's crop production up 24%\"], ['sport', 'FA charges Liverpool and Millwall'], ['sport', 'FA probes crowd trouble'], ['technology', \"Format wars could 'confuse users'\"], ['business', 'GM in crunch talks on Fiat future'], ['technology', 'Game makers get Xbox 2 sneak peek'], ['technology', 'Gamers could drive high-definition'], ['technology', 'Google launches TV search service'], ['sport', 'Harinordoquy suffers France axe'], ['sport', 'Hearts of Oak 3-2 Cotonsport'], ['sport', 'Hodges announces rugby retirement'], ['sport', 'Holmes feted with further honour'], ['technology', 'Honour for UK games maker'], ['sport', 'Houllier praises Benitez regime'], ['technology', 'Humanoid robot learns how to run'], ['sport', 'Ireland v USA (Sat)'], ['sport', 'Isinbayeva heads for Birmingham'], ['sport', 'Israeli club look to Africa'], ['technology', 'Junk e-mails on relentless rise'], ['sport', 'Kluft impressed by Sotherton form'], ['business', 'Latin America sees strong growth'], ['business', 'Libya takes $1bn in unfrozen funds'], ['technology', 'Loyalty cards idea for TV addicts'], ['sport', 'Man City 1-1 Newcastle'], ['sport', 'McCall earns Tannadice reprieve'], ['sport', 'McClaren eyes Uefa Cup top spot'], ['sport', \"McClaren hails Boro's Uefa spirit\"], ['sport', 'McIlroy aiming for Madrid title'], ['technology', 'Microsoft makes anti-piracy move'], ['technology', 'Microsoft seeking spyware trojan'], ['business', 'Mild winter drives US oil down 6%'], ['technology', 'Millions to miss out on the net'], ['sport', 'Minister digs in over doping row'], ['sport', 'Mirza makes Indian tennis history'], ['business', 'Mitsubishi in Peugeot link talks'], ['technology', 'Mobile multimedia slow to catch on'], ['technology', \"Mobiles 'not media players yet'\"], ['sport', 'Morientes admits to Reds struggle'], ['sport', 'Mourinho plots impressive course'], ['sport', 'Mourinho says race is almost over'], ['N/A', 'Article no longer available in archive'], ['sport', 'Moya sidesteps Davis Cup in 2005'], ['sport', 'Nadal marches on in Mexico'], ['technology', 'Nintendo adds media playing to DS'], ['sport', \"O'Connell rejects Lions rumours\"], ['sport', \"O'Driscoll concern at Fifa ruling\"], ['business', 'Oil prices fall back from highs'], ['business', 'Ore costs hit global steel firms'], ['sport', 'Parry relishes Anfield challenge'], ['business', 'Peugeot deal boosts Mitsubishi'], ['N/A', 'Article no longer available in archive'], ['technology', 'PlayStation 3 chip to be unveiled'], ['technology', 'Portable PlayStation ready to go'], ['sport', 'Premier League planning Cole date'], ['business', 'Qantas sees profits fly to record'], ['sport', 'Radcliffe yet to answer GB call'], ['sport', \"Redknapp's Saints face Pompey tie\"], ['sport', 'Reds sink 10-man Magpies'], ['business', 'Reliance unit loses Anil Ambani'], ['technology', 'Rich pickings for hi-tech thieves'], ['sport', 'Robinson out of Six Nations'], ['sport', 'Rovers reject third Ferguson bid'], ['sport', 'Saint-Andre anger at absent stars'], ['N/A', 'Article no longer available in archive'], ['business', 'Salary scandal in Cameroon'], ['technology', 'Slimmer PlayStation triple sales'], ['sport', 'Slovakia seal Hopman Cup success'], ['technology', 'Smart search lets art fans browse'], ['sport', 'Smith keen on Home series return'], ['sport', 'South Africa sweep top awards'], ['technology', 'Speak easy plan for media players'], ['technology', 'Speech takes on search engines'], ['business', \"Tokyo says deflation 'controlled'\"], ['business', 'Turkey turns on the economic charm'], ['business', \"Turkey-Iran mobile deal 'at risk'\"], ['business', \"UK 'risks breaking golden rule'\"], ['business', 'UK firm faces Venezuelan land row'], ['technology', 'UK pioneers digital film network'], ['business', 'US bank in $515m SEC settlement'], ['business', 'US crude prices surge above $53'], ['sport', 'Umaga ready for Lions'], ['business', 'Umbro profits lifted by Euro 2004'], ['technology', 'Virgin Radio offers 3G broadcast'], ['technology', 'Virus poses as Christmas e-mail'], ['technology', 'Voters flock to blog awards site'], ['sport', 'Wales want rugby league training'], ['sport', 'Wales win in Rome'], ['technology', 'Warning over tsunami aid website'], ['sport', 'Wolves appoint Hoddle as manager'], ['sport', 'Wood - Ireland can win Grand Slam'], ['business', 'World leaders gather to face uncertainty'], ['sport', 'Worthington praises classy Villa'], ['sport', 'Yachvili savours France comeback'], ['N/A', 'Article no longer available in archive'], ['business', 'Yukos heading back to US courts'], ['business', 'Yukos seeks court action on sale'], ['business', 'Yukos unit fetches $9bn at auction'], ['business', 'Air China in $1bn London listing'], ['sport', 'Angry Williams rejects criticism'], ['business', 'Apple Inc. Phone Pricing Likely To Trend Lower'], ['business', 'Argentina closes $102.6bn debt swap'], ['business', 'AstraZeneca hit by drug failure'], ['sport', 'Balco case trial date pushed back'], ['business', 'Battered dollar hits another low'], ['sport', 'Beckham hints at Man Utd return'], ['sport', 'Benitez joy as Reds take control'], ['technology', \"Blind student 'hears in colour'\"], ['technology', 'Blogger grounded by her airline'], ['business', 'Brazil jobless rate hits new low'], ['technology', 'Broadband set to revolutionise TV'], ['technology', 'Bush website blocked outside US'], ['business', 'Business confidence dips in Japan'], ['business', 'Businesses fail to plan for HIV'], ['sport', 'Campese berates whingeing England'], ['sport', 'Cech sets clean-sheet benchmark'], ['technology', \"China 'blocks Google news site'\"], ['business', 'China continues rapid growth'], ['business', 'Circuit City gets takeover offer'], ['sport', 'Claxton hunting first major medal'], ['technology', 'Consumer concern over RFID tags'], ['business', \"Continental 'may run out of cash'\"], ['business', 'Deadline nears for Fiat-GM deal'], ['business', \"Deutsche Boerse set to 'woo' LSE\"], ['technology', 'Domain system scam fear'], ['technology', 'Doors open at biggest gadget fair'], ['sport', 'Dunne keen to commit to Man City'], ['business', 'EMI shares hit by profit warning'], ['business', \"EU to probe Alitalia 'state aid'\"], ['sport', \"England 'to launch ref protest'\"], ['sport', 'Faye plans to stay at Portsmouth'], ['business', \"Featured: 'Strong dollar' call halts slide\"], ['sport', \"Ferguson hails Man Utd's resolve\"], ['sport', 'Fuming Robinson blasts officials'], ['business', 'Further rise in UK jobless total'], ['technology', 'Gadget growth fuels eco concerns'], ['technology', 'Gadget show heralds MP3 season'], ['technology', 'Games win for Blu-ray DVD format'], ['business', 'German business confidence slides'], ['sport', 'Gerrard future not decided by Cardiff loss'], ['technology', 'Halo 2 sells five million copies'], ['sport', 'Henin-Hardenne beaten on comeback'], ['sport', 'Hewitt falls to Dent in Adelaide'], ['technology', 'How to smash a home computer'], ['sport', 'Ireland call up uncapped Campbell'], ['business', 'Israel looks to US for bank chief'], ['sport', 'Keane defiant over Vieira bust-up'], ['sport', \"Kenya lift Chepkemei's suspension\"], ['business', 'Kraft cuts snack ads for children'], ['business', 'Lesotho textile workers lose jobs'], ['sport', 'Lomu relishing return to action'], ['business', 'Lufthansa may sue over Bush visit'], ['business', 'MCI shares climb on takeover bid'], ['business', \"MG Rover China tie-up 'delayed'\"], ['business', 'Making your office work for you'], ['sport', 'McIlroy continues winning streak'], ['technology', 'Mobile TV tipped as one to watch'], ['business', 'Monsanto fined $1.5m for bribery'], ['technology', 'Moving mobile improves golf swing'], ['sport', 'Nadal puts Spain 2-0 up'], ['business', 'Nasdaq planning $100m-share sale'], ['technology', \"New Year's texting breaks record\"], ['N/A', 'Article no longer available in archive'], ['technology', 'New consoles promise big problems'], ['technology', 'Nintendo DS makes its Euro debut'], ['sport', \"O'Connor aims to grab opportunity\"], ['sport', \"O'Leary agrees new Villa contract\"], ['N/A', 'Article no longer available in archive'], ['sport', \"O'Sullivan keeps his powder dry\"], ['technology', 'Online commons to spark debate'], ['technology', 'Online games play with politics'], ['business', 'Parmalat founder offers apology'], ['business', 'Parmalat to return to stockmarket'], ['technology', \"Peer-to-peer nets 'here to stay'\"], ['business', 'Pernod takeover talk lifts Domecq'], ['business', \"Profits jump at China's top bank\"], ['sport', 'Prop Jones ready for hard graft'], ['business', 'Qatar and Shell in $6bn gas deal'], ['business', \"Quake's economic costs emerging\"], ['sport', 'Real in talks over Gravesen move'], ['business', 'Rescue hope for Borussia Dortmund'], ['sport', 'Robben and Cole earn Chelsea win'], ['technology', 'Robotic pods take on car design'], ['sport', 'Roddick in talks over new coach'], ['business', 'SEC to rethink post-Enron rules'], ['technology', 'Santy worm makes unwelcome visit'], ['technology', 'Seamen sail into biometric future'], ['sport', 'Serena becomes world number two'], ['sport', 'Smith aims to bring back respect'], ['business', \"Soaring oil 'hits world economy'\"], ['technology', 'Software watching while you work'], ['technology', 'Sony PSP console hits US in March'], ['sport', 'TV calls after Carroll error'], ['technology', \"TV's future down the phone line\"], ['N/A', 'Article no longer available in archive'], ['business', \"The 'ticking budget' facing the US\"], ['business', 'Train strike grips Buenos Aires'], ['technology', 'UK broadband gets speed injection'], ['business', 'US adds more jobs than expected'], ['business', 'US economy shows solid GDP growth'], ['business', 'US economy still growing says Fed'], ['business', 'US in EU tariff chaos trade row'], ['business', 'US retail sales surge in December'], ['business', 'US trade gap hits record in 2004'], ['business', 'Ukraine revisits state sell-offs'], ['sport', 'Underdogs have more fun'], ['business', 'VW considers opening Indian plant'], ['business', 'Wal-Mart to pay $14m in gun suit'], ['sport', 'Wasps 31-37 Leicester'], ['technology', 'What high-definition will do to DVDs'], ['technology', 'Why Cell will get the hard sell'], ['sport', 'Wilkinson fit to face Edinburgh'], ['sport', \"Wilkinson return 'unlikely'\"], ['technology', 'Yahoo celebrates a decade online'], ['technology', 'Yahoo moves into desktop search'], ['technology', '2D Metal Slug offers retro fun'], ['technology', 'Anti-spam laws bite spammer hard'], ['technology', \"Apple laptop is 'greatest gadget'\"], ['technology', 'Apple makes blogs reveal sources'], ['technology', \"Apple unveils low-cost 'Mac mini'\"], ['business', \"Arsenal 'may seek full share listing'\"], ['business', 'BA to suspend two Saudi services'], ['business', 'BMW drives record sales in Asia'], ['business', 'BT offers equal access to rivals'], ['sport', 'Barwick calls for Highbury calm'], ['sport', 'Barwick installed as new FA boss'], ['technology', 'Be careful how you code'], ['business', 'Beer giant swallows Russian firm'], ['technology', 'Blinx sequel purrs nicely'], ['business', 'Bombardier chief to leave company'], ['technology', 'Bond game fails to shake or stir'], ['business', \"Britannia members' £42m windfall\"], ['technology', 'California sets fines for spyware'], ['business', 'Call to save manufacturing jobs'], ['sport', 'Can Smith work Scottish wonders?'], ['technology', 'Cebit fever takes over Hanover'], ['sport', 'Chelsea clinch cup in extra-time'], ['technology', \"China 'to overtake US net use'\"], ['business', 'China bans new tobacco factories'], ['sport', 'Davenport dismantles young rival'], ['business', \"Disaster claims 'less than $10bn'\"], ['business', 'Dollar drops on reserves concerns'], ['business', \"EU 'too slow' on economic reforms\"], ['sport', 'English clubs make Euro history'], ['business', 'Ex-Boeing director gets jail term'], ['sport', 'FA decides not to punish Mourinho'], ['technology', 'Fast lifts rise into record books'], ['technology', \"Featured: 'Blog' picked as word of the year\"], ['technology', \"Featured: 'Brainwave' cap controls computer\"], ['technology', \"Featured: 'Podcasters' look to net money\"], ['business', 'Fresh hope after Argentine crisis'], ['technology', \"Gadget market 'to grow in 2005'\"], ['technology', 'Gates opens biggest gadget fair'], ['sport', 'Gebrselassie in London triple bid'], ['sport', 'Gerrard plays down European hopes'], ['business', 'Giant waves damage S Asia economy'], ['business', 'Giving financial gifts to children'], ['business', 'Golden rule boost for Chancellor'], ['sport', 'Henman hopes ended in Dubai'], ['technology', \"Hitachi unveils 'fastest robot'\"], ['technology', 'Hotspot users gain free net calls'], ['business', 'How Manchester United, Knicks Wins Correlate With Stock Gains'], ['business', 'Hyundai to build new India plant'], ['business', 'Industrial revival hope for Japan'], ['business', 'Insurance bosses plead guilty'], ['business', 'Iraq and Afghanistan in WTO talks'], ['sport', 'Ireland surge past Scots'], ['sport', 'Italy 17-28 Ireland'], ['business', 'JP Morgan admits US slavery links'], ['sport', 'Keegan hails comeback king Fowler'], ['technology', 'Kenyan school turns to handhelds'], ['technology', 'Long life promised for laptop PCs'], ['business', 'M&S cuts prices by average of 24%'], ['business', 'MCI shareholder sues to stop bid'], ['business', 'Market unfazed by Aurora setback'], ['technology', 'Microsoft takes on desktop search'], ['business', \"Millions 'to lose textile jobs'\"], ['technology', 'Mobile networks seek turbo boost'], ['technology', \"Mobiles 'not media players yet'\"], ['technology', 'Mobiles double up as bus tickets'], ['technology', 'Mobiles rack up 20 years of use'], ['N/A', 'Article no longer available in archive'], ['sport', 'Mourinho takes swipe at Arsenal'], ['sport', 'Mourinho to escape FA charge'], ['technology', \"Net regulation 'still possible'\"], ['technology', 'New delay hits EU software laws'], ['business', 'Newest EU members underpin growth'], ['sport', 'No lack of Christmas spirit'], ['sport', \"O'Driscoll/Gregan lead Aid stars\"], ['business', 'Optimism remains over UK housing'], ['business', 'Orange colour clash set for court'], ['sport', 'Owen delighted with Real display'], ['technology', 'Pandas benefit from wireless net'], ['technology', 'Parents face video game lessons'], ['sport', 'Petit career ended by knee injury'], ['N/A', 'Article no longer available in archive'], ['sport', 'Plymouth 3-0 Sheff Utd'], ['sport', 'Preview: Ireland v England (Sun)'], ['sport', 'Prinz beats Hamm to Fifa trophy'], ['business', \"Profits slide at India's Dr Reddy\"], ['sport', 'Prutton poised for lengthy FA ban'], ['technology', 'Rivals of the £400 Apple...'], ['sport', 'Robinson answers critics'], ['sport', 'Rochus shocks Coria in Auckland'], ['business', \"Rover deal 'may cost 2,000 jobs'\"], ['N/A', 'Article no longer available in archive'], ['sport', 'Running around the Olympics'], ['business', \"SA unveils 'more for all' budget\"], ['business', 'SBC plans post-takeover job cuts'], ['business', 'Safety alert as GM recalls cars'], ['business', 'Saudi ministry to employ women'], ['technology', 'Savvy searchers fail to spot ads'], ['business', 'Shares hit by MS drug suspension'], ['business', 'Slowdown hits US factory growth'], ['technology', 'Spam e-mails tempt net shoppers'], ['technology', 'Text messages aid disaster recovery'], ['sport', 'The wonder of Ronaldinho'], ['technology', 'The year search became personal'], ['sport', 'Tomlinson stays focused on Europe'], ['N/A', 'Article no longer available in archive'], ['business', \"US bank boss hails 'genius' Smith\"], ['business', 'US consumer confidence up'], ['business', 'US trade deficit widens sharply'], ['sport', 'Uefa threat over foreign quotas'], ['business', \"Ukraine steel sell-off 'illegal'\"], ['business', 'Ukraine trims privatisation check'], ['sport', 'Venus stunned by Farina Elia'], ['sport', 'Video technology will not make football a mistake-free sport'], ['technology', 'Warning over Windows Word files'], ['business', 'Weak dollar trims Cadbury profits'], ['technology', 'Web helps collect aid donations'], ['sport', 'Wenger handed summer war chest'], ['technology', 'When technology gets personal'], ['technology', 'A decade of good website design'], ['sport', 'Agassi fear for Melbourne'], ['business', 'Ailing EuroDisney vows turnaround'], ['sport', 'Ajax refuse to rule out Jol move'], ['sport', 'Anelka apologises for criticism'], ['technology', 'Apple attacked over sources row'], ['technology', 'Apple iPod family expands market'], ['technology', 'Argonaut founder rebuilds empire'], ['sport', 'Arsenal 1-1 Sheff Utd'], ['business', 'Asia shares defy post-quake gloom'], ['business', 'Aviation firms eye booming India'], ['technology', 'BT program to beat dialler scams'], ['business', 'Bat spit drug firm goes to market'], ['sport', 'Bees handed potential Man Utd tie'], ['sport', 'Blackburn v Burnley'], ['business', 'Boeing unveils new 777 aircraft'], ['sport', 'Breaking news: US company admits Benin bribery'], ['technology', 'Broadband in the UK growing fast'], ['sport', 'Bryan twins keep US hopes alive'], ['business', 'Building giant in asbestos payout'], ['technology', 'California sets fines for spyware'], ['business', 'Call to overhaul UK state pension'], ['sport', 'Campbell to be Lions consultant'], ['sport', 'Cantona issues Man Utd job hint'], ['business', 'Chinese exports rise 25% in 2004'], ['sport', 'Clijsters could play Aussie Open'], ['sport', 'Corry backs skipper Robinson'], ['technology', 'DVD copy protection strengthened'], ['sport', 'Dallaglio his own man to the end'], ['sport', 'Dawson wins England squad recall'], ['sport', 'Dementieva prevails in Hong Kong'], ['technology', 'Disney backs Sony DVD technology'], ['sport', 'Dominici backs lacklustre France'], ['technology', 'Dublin hi-tech labs to shut down'], ['business', 'Ebbers denies WorldCom fraud'], ['sport', 'England coach faces rap after row'], ['business', \"European losses hit GM's profits\"], ['sport', 'Fifa agrees goal-line technology'], ['technology', 'Freeze on anti-spam campaign'], ['business', 'French boss to leave EADS'], ['business', 'German economy rebounds'], ['business', 'Glazer makes new Man Utd approach'], ['technology', 'Google to scan famous libraries'], ['sport', \"Greek sprinters 'won't run again'\"], ['sport', 'Greek sprinters suspended by IAAF'], ['sport', 'Gunners clock up winning record'], ['technology', 'Halo 2 heralds traffic explosion'], ['sport', 'Henson stakes early Lions claim'], ['sport', 'Hewitt fights back to reach final'], ['sport', 'Holmes is hit by hamstring injury'], ['technology', 'IBM frees 500 software patents'], ['N/A', 'Article no longer available in archive'], ['business', \"India's Reliance family feud heats up\"], ['business', \"India's rupee hits five-year high\"], ['technology', 'Ink helps drive democracy in Asia'], ['sport', 'Irish finish with home game'], ['business', 'J&J agrees $25bn Guidant deal'], ['sport', 'Johansson takes Adelaide victory'], ['sport', 'Jones doping probe begins'], ['sport', 'Kenteris denies faking road crash'], ['business', 'Khodorkovsky quits Yukos shares'], ['technology', 'Latest Opera browser gets vocal'], ['N/A', 'Article no longer available in archive'], ['sport', 'Legendary Dutch boss Michels dies'], ['sport', 'Lions blow to World Cup stars'], ['sport', 'Liverpool revel in night of glory'], ['business', 'Man Utd to open books to Glazer'], ['sport', 'Man Utd urged to seal Giggs deal'], ['sport', 'Melzer shocks Agassi in San Jose'], ['technology', 'Microsoft debuts security tools'], ['technology', 'Millions buy MP3 players in US'], ['technology', 'Mobile multimedia slow to catch on'], ['technology', 'Mobiles get set for visual radio'], ['technology', 'Mobiles rack up 20 years of use'], ['sport', 'Molby says Gravesen is Real deal'], ['technology', 'More power to the people says HP'], ['technology', \"Musicians 'upbeat' about the net\"], ['business', 'News Corp eyes video games market'], ['N/A', 'Article no longer available in archive'], ['technology', 'No half measures with Half-Life 2'], ['sport', 'Parmar ruled out of Davis Cup tie'], ['sport', 'Philippoussis doubt over Open bid'], ['technology', 'Pompeii gets digital make-over'], ['business', 'Q&A: Malcolm Glazer and Man Utd'], ['sport', 'Radcliffe eyes hard line on drugs'], ['sport', 'Real will finish abandoned match'], ['sport', 'Ref stands by Scotland decisions'], ['sport', 'Robinson wants dual code success'], ['sport', \"Roche 'turns down Federer offer'\"], ['N/A', 'Article no longer available in archive'], ['sport', 'Roddick splits from coach Gilbert'], ['sport', 'Ronaldinho denies Blues interest'], ['business', 'S Korea spending boost to economy'], ['business', 'S Korean consumers spending again'], ['business', 'Saudi investor picks up the Savoy'], ['sport', 'Sella wants Michalak recall'], ['business', 'Share boost for feud-hit Reliance'], ['business', 'Shares rise on new Man Utd offer'], ['technology', \"Sony PSP tipped as a 'must-have'\"], ['sport', 'Souness eyes summer move for Owen'], ['technology', 'Souped-up wi-fi is on the horizon'], ['business', 'South African car demand surges'], ['sport', 'Stam spices up Man Utd encounter'], ['sport', 'Tapping-up row is so much hot air'], ['technology', 'Technology gets the creative bug'], ['technology', 'Technology in rugby: GPS systems continue to grow in importance'], ['sport', 'Tindall aiming to earn Lions spot'], ['sport', 'Tindall wants second opinion'], ['business', \"Tsunami 'to hit Sri Lanka banks'\"], ['business', \"UK economy facing 'major risks'\"], ['business', 'US Ahold suppliers face charges'], ['business', 'US data sparks inflation worries'], ['business', 'US interest rate rise expected'], ['technology', 'US peer-to-peer pirates convicted'], ['sport', 'Umaga ready for \"fearsome\" Lions'], ['technology', 'Virus poses as Christmas e-mail'], ['business', 'Wal-Mart fights back at accusers'], ['sport', 'Wales coach elated with win'], ['N/A', 'Article no longer available in archive'], ['business', 'Warning over US pensions deficit'], ['technology', 'Web photo storage market hots up'], ['technology', 'Web radio takes Spanish rap global'], ['sport', 'Wenger keeping faith with Almunia'], ['sport', 'Wenger steps up row'], ['sport', 'What now for British tennis?'], ['sport', 'White admits to Balco drugs link'], ['technology', 'World tour for top video gamers'], ['business', '$1m payoff for former Shell boss'], ['technology', 'Anti-tremor mouse stops PC shakes'], ['technology', \"Apple unveils low-cost 'Mac mini'\"], ['business', 'Argentina, Venezuela in oil deal'], ['sport', 'Argentine great Caniggia retires'], ['business', 'Banker loses sexism claim'], ['business', 'Beijingers fume over parking fees'], ['sport', 'Bell set for England debut'], ['sport', 'Benitez issues warning to Gerrard'], ['sport', 'Blackburn 0-1 Chelsea'], ['business', 'Brazil plays down Varig rescue'], ['technology', 'Britons fed up with net service'], ['technology', 'Broadband takes on TV viewing'], ['business', 'Brussels raps mobile call charges'], ['sport', 'Butler strikes gold in Spain'], ['sport', 'Chelsea denied by James heroics'], ['business', 'China had role in Yukos split-up'], ['sport', 'Clijsters hope on Aussie Open'], ['sport', 'Costin aims for comeback in 2006'], ['business', \"DaimlerChrysler's 2004 sales rise\"], ['sport', 'Dal Maso in to replace Bergamasco'], ['sport', 'Davenport hits out at Wimbledon'], ['sport', 'Dein concerned by Chelsea stance'], ['business', 'Deutsche Boerse boosts dividend'], ['business', 'EU ministers to mull jet fuel tax'], ['business', 'Euronext joins bid battle for LSE'], ['technology', \"Featured: 'No re-draft' for EU patent law\"], ['technology', \"Featured: 'Ultimate game' award for Doom 3\"], ['N/A', 'Article no longer available in archive'], ['business', 'Fed chief warning on US deficit'], ['sport', 'Ferguson rues failure to cut gap'], ['business', 'GM pays $2bn to evade Fiat buyout'], ['business', 'GSK aims to stop Aids profiteers'], ['technology', 'GTA sequel is criminally good'], ['technology', 'Gamer buys $26,500 virtual land'], ['technology', \"Google's toolbar sparks concern\"], ['sport', 'Greene sets sights on world title'], ['sport', 'Henman to face Saulnier test'], ['sport', 'Holmes back on form in Birmingham'], ['business', 'Home loan approvals rising again'], ['business', 'Huge rush for Jet Airways shares'], ['technology', 'IBM puts cash behind Linux push'], ['business', 'India unveils anti-poverty budget'], ['sport', 'Injury doubts beset Wales squad'], ['technology', 'Intercom Are Doubling Their Product Teams In SF, Dublin & London'], ['sport', 'Ireland 19-13 England'], ['sport', \"Ireland win eclipses refereeing 'errors'\"], ['N/A', 'Article no longer available in archive'], ['business', 'Japan economy slides to recession'], ['business', \"Japan's ageing workforce: built to last\"], ['N/A', 'Article no longer available in archive'], ['business', 'Japanese growth grinds to a halt'], ['business', 'Jobs go at Oracle after takeover'], ['business', 'Jobs growth still slow in the US'], ['sport', 'Johnson accuses British sprinters'], ['business', \"LSE doubts boost bidders' shares\"], ['technology', 'Lasers help bridge network gaps'], ['sport', 'Lewis-Francis turns to Christie'], ['sport', 'Man City 0-2 Man Utd'], ['sport', \"Man Utd women's team to be axed\"], ['business', 'Markets fall on weak dollar fears'], ['business', 'Marsh executive in guilty plea'], ['business', \"McDonald's boss Bell dies aged 44\"], ['sport', 'McIlroy wins 800m indoor title'], ['business', 'Mexican in US send $16bn home'], ['technology', 'Microsoft launches its own search'], ['technology', 'Microsoft releases bumper patches'], ['technology', 'Microsoft sets sights on spyware'], ['business', 'Mixed Christmas for US retailers'], ['business', 'Mixed reaction to Man Utd offer'], ['sport', 'Murray to make Cup history'], ['technology', 'Musical future for phones'], ['technology', 'Net fingerprints combat attacks'], ['technology', 'New browser wins over net surfers'], ['business', 'News Corp eyes video games market'], ['business', 'No seasonal lift for house market'], ['sport', \"O'Sullivan quick to hail Italians\"], ['business', 'Online News poll indicates economic gloom'], ['business', 'Parmalat boasts doubled profits'], ['technology', 'PlayStation 3 processor unveiled'], ['technology', 'Podcasts mark rise of DIY radio'], ['business', 'Police detain Chinese milk bosses'], ['sport', 'Poll explains free-kick decision'], ['sport', 'Radcliffe proves doubters wrong'], ['sport', 'Radcliffe will compete in London'], ['sport', 'Roddick into San Jose final'], ['sport', \"Ruddock backs Yapp's credentials\"], ['business', 'S&N extends Indian beer venture'], ['sport', 'SA return to Mauritius'], ['sport', 'Safin slumps to shock Dubai loss'], ['business', \"Sales 'fail to boost High Street'\"], ['sport', 'Santini resigns as Spurs manager'], ['sport', \"Serena ends Sania Mirza's dream\"], ['technology', 'Set your television to wow'], ['business', \"Small firms 'hit by rising costs'\"], ['sport', 'Souness delight at Euro progress'], ['sport', 'Stars shine for tsunami benefit'], ['sport', 'Strachan turns down Pompey'], ['business', 'Strong demand triggers oil rally'], ['sport', 'Sydney to host north v south game'], ['business', 'Telegraph newspapers axe 90 jobs'], ['business', 'UK bank seals South Korean deal'], ['business', 'UK homes hit £3.3 trillion total'], ['business', 'US Airways staff agree to pay cut'], ['business', 'US budget deficit to reach $368bn'], ['business', 'US interest rates increased to 2%'], ['technology', 'US woman sues over ink cartridges'], ['sport', 'Uganda FA suspended'], ['business', 'Ukraine strikes Turkmen gas deal'], ['technology', 'Video phone help for deaf people'], ['technology', 'Viewers to be able to shape TV'], ['sport', 'WRU proposes season overhaul'], ['business', 'Watchdog probes Vivendi bond sale'], ['business', 'Weak data buffets French economy'], ['sport', 'White prepared for battle'], ['sport', 'Williams stays on despite dispute'], ['business', 'Wipro beats forecasts once again'], ['business', \"WorldCom bosses' $54m payout\"], ['sport', 'Young debut cut short by Ginepri'], ['sport', \"Adriano's Chelsea link rejected\"], ['business', \"Alfa Romeos 'to get GM engines'\"], ['business', 'Amex shares up on spin-off news'], ['technology', 'Apple attacked over sources row'], ['sport', 'Aragones angered by racism fine'], ['business', \"Asian banks halt dollar's slide\"], ['technology', 'Attack prompts Bush site block'], ['sport', 'Beckham relief as Real go through'], ['sport', \"Beckham's chat reigns in Spain\"], ['sport', 'Blatter suggests offside change'], ['sport', 'Bomb threat at Bernabeu stadium'], ['sport', 'Bristol City 2-1 Milton Keynes'], ['business', 'Cairn Energy in Indian gas find'], ['sport', 'Campbell lifts lid on United feud'], ['technology', 'Can Yahoo dominate next decade?'], ['business', 'Cars pull down US retail figures'], ['sport', 'Chelsea 3-0 Portsmouth'], ['sport', 'Chepkemei hit by big ban'], ['business', \"Chinese dam firm 'defies Beijing'\"], ['technology', 'Concern over RFID tags'], ['sport', 'Davenport puts retirement on hold'], ['business', 'Dollar hits new low versus euro'], ['technology', 'Domain system opens door to scams'], ['business', 'Dutch bank to lay off 2,850 staff'], ['sport', 'Edgy Agassi struggles past Dent'], ['sport', 'Edwards tips Idowu for Euro gold'], ['business', 'Electronics firms eye plasma deal'], ['sport', 'England claim Dubai Sevens glory'], ['sport', \"England's defensive crisis grows\"], ['business', 'Ericsson sees earnings improve'], ['business', 'FAO warns on impact of subsidies'], ['sport', 'Faultless Federer has no equal'], ['sport', 'Fear will help France - Laporte'], ['technology', \"Featured: 'No re-draft' for EU patent law\"], ['N/A', 'Article no longer available in archive'], ['sport', 'Ferguson urges Henry punishment'], ['sport', 'Ferrero eyes return to top form'], ['business', 'Fiat chief takes steering wheel'], ['technology', 'Football Manager scores big time'], ['technology', 'Freeze on anti-spam campaign'], ['business', 'French suitor holds LSE meeting'], ['sport', 'Funding cut hits Wales Students'], ['technology', 'Gadget show heralds MP3 Christmas'], ['technology', \"Games firms 'face tough future'\"], ['business', 'Georgia plans hidden asset pardon'], ['business', 'German jobless rate at new record'], ['sport', 'Gerrard happy at Anfield'], ['business', 'Go-ahead for Balkan oil pipeline'], ['business', \"Golden rule 'intact' says ex-aide\"], ['sport', 'Henman overcomes rival Rusedski'], ['sport', 'Henry tipped for Fifa award'], ['sport', 'Highbury tunnel players in clear'], ['sport', 'Holmes urged to compete at Worlds'], ['technology', 'How to make a gigapixel picture'], ['sport', \"IAAF awaits Greek pair's response\"], ['business', 'ID theft surge hits US consumers'], ['N/A', 'Article no longer available in archive'], ['business', 'India and Russia in energy talks'], ['business', \"Indonesia 'declines debt freeze'\"], ['technology', 'Intel unveils laser breakthrough'], ['business', 'Iran budget seeks state sell-offs'], ['business', 'Iraq to invite phone licence bids'], ['sport', 'Ireland 17-12 South Africa'], ['sport', 'Ireland 21-19 Argentina'], ['business', 'Jarvis sells Tube stake to Spain'], ['business', 'Krispy Kreme shares hit'], ['sport', \"Kuznetsova 'failed a drugs test'\"], ['sport', 'Laporte tinkers with team'], ['sport', 'Lions blow to World Cup winners'], ['N/A', 'Article no longer available in archive'], ['technology', 'Local net TV takes off in Austria'], ['technology', 'Losing yourself in online gaming'], ['technology', 'Media gadgets get moving'], ['N/A', 'Article no longer available in archive'], ['technology', 'Mobile gaming takes off in India'], ['technology', \"More movies head to Sony's PSP\"], ['technology', 'More women turn to net security'], ['sport', 'Mourinho expects fight to finish'], ['sport', 'Moya clinches Cup for Spain'], ['sport', 'Newcastle 27-27 Gloucester'], ['sport', \"O'Driscoll saves Irish blushes\"], ['sport', \"O'Sullivan could run in Worlds\"], ['sport', 'Old Firm pair handed suspensions'], ['technology', 'Online News leads interactive Bafta wins'], ['business', 'Palestinian economy in decline'], ['technology', \"Putting a face to 'Big Brother'\"], ['business', 'Rich grab half Colombia poor fund'], ['business', 'Russia gets investment blessing'], ['business', 'Saab to build Cadillacs in Sweden'], ['technology', \"Security warning over 'FBI virus'\"], ['sport', 'Spain coach faces racism inquiry'], ['technology', 'Spam e-mails tempt net shoppers'], ['technology', 'Sporting rivals go to extra time'], ['business', 'Standard Life cuts policy bonuses'], ['business', 'Stormy year for property insurers'], ['technology', 'Swap offer for pirated Windows XP'], ['sport', 'Sydney return for Henin-Hardenne'], ['business', 'Takeover rumour lifts Exel shares'], ['sport', 'Tanzania gets Fifa backing'], ['technology', 'Technology hijacked sports'], ['technology', 'Tough rules for ringtone sellers'], ['sport', 'Trial date is set for Balco case'], ['business', 'UK house prices dip in November'], ['business', 'UK interest rates held at 4.75%'], ['business', \"Venezuela identifies 'idle' farms\"], ['sport', 'Verdict delay for Greek sprinters'], ['business', \"Verizon 'seals takeover of MCI'\"], ['business', 'Vodafone appoints new Japan boss'], ['business', 'WMC says Xstrata bid is too low'], ['technology', 'Warnings on woeful wi-fi security'], ['business', \"Wembley firm won't make a profit\"], ['business', 'Will Manchester United plc Short Squeeze Soon'], ['business', 'Worldcom director ends evidence'], ['sport', 'Yeading face Newcastle in FA Cup'], ['business', 'Yukos owner sues Russia for $28bn'], ['business', 'Yukos unit buyer faces loan claim']]"
     ]
    },
    {
     "name": "stdout",
     "output_type": "stream",
     "text": [
      "\n",
      "[['technology', '21st-Century Sports: How Digital Technology Is Changing the Face Of The Sporting Industry'], ['business', 'Asian quake hits European shares'], ['technology', 'BT offers free net phone calls'], ['business', 'Barclays shares up on merger talk'], ['sport', 'Barkley fit for match in Ireland'], ['sport', 'Bellamy under new fire'], ['sport', \"Benitez 'to launch Morientes bid'\"], ['sport', 'Benitez delight after crucial win'], ['technology', 'Big war games battle it out'], ['technology', 'British Library gets wireless net'], ['sport', \"Brizzel to run AAA's in Sheffield\"], ['business', 'Bush budget seeks deep cutbacks'], ['business', \"Bush to get 'tough' on deficit\"], ['technology', 'Cable offers video-on-demand'], ['technology', 'Cabs collect mountain of mobiles'], ['technology', \"Camera phones are 'must-haves'\"], ['business', \"Card fraudsters 'targeting web'\"], ['business', 'Cash gives way to flexible friend'], ['technology', 'Cebit opens to mobile music tune'], ['sport', 'Charvis set to lose fitness bid'], ['sport', 'Chelsea hold Arsenal'], ['business', 'Christmas sales worst since 1981'], ['sport', 'Clijsters set for February return'], ['sport', 'Clyde 0-5 Celtic'], ['sport', 'Coach Ranieri sacked by Valencia'], ['technology', 'Confusion over high-definition TV'], ['business', 'Cuba winds back economic clock'], ['technology', 'DS aims to touch gamers'], ['sport', 'Dawson set for new Wasps contract'], ['business', 'Diageo to buy US wine firm'], ['technology', 'Digital guru floats sub-$100 PC'], ['business', 'EU aiming to fuel development aid'], ['N/A', 'Article no longer available in archive'], ['sport', 'England 17-18 France'], ['business', 'Enron bosses in $168m payout'], ['business', \"Euronext 'poised to make LSE bid'\"], ['business', 'Europe asks Asia for euro help'], ['business', 'Europe blames US over weak dollar'], ['business', \"Fannie Mae 'should restate books'\"], ['technology', \"Featured: 'Brainwave' cap controls computer\"], ['technology', \"Featured: 'Evil twin' fear for wireless net\"], ['technology', \"Featured: 'Friends fear' with lost mobiles\"], ['N/A', 'Article no longer available in archive'], ['business', \"Featured: 'Post-Christmas lull' in lending\"], ['business', 'Fed warns of more US rate rises'], ['sport', 'Federer forced to dig deep'], ['sport', 'Ferguson puts faith in youngsters'], ['business', \"GE sees 'excellent' world economy\"], ['business', 'GM issues 2005 profits warning'], ['technology', 'Gangsters dominate gaming chart'], ['sport', 'Gardener wins double in Glasgow'], ['N/A', 'Article no longer available in archive'], ['business', \"Gazprom 'in $36m back-tax claim'\"], ['business', 'German growth goes into reverse'], ['business', 'Germany calls for EU reform'], ['technology', 'Go-ahead for new internet names'], ['sport', 'Greek duo cleared in doping case'], ['sport', \"Hansen 'delays return until 2006'\"], ['N/A', 'Article no longer available in archive'], ['sport', 'Henman & Murray claim LTA awards'], ['sport', 'Henman decides to quit Davis Cup'], ['technology', 'Hi-tech posters guide commuters'], ['sport', 'Hodgson shoulders England blame'], ['technology', 'Hollywood to sue net film pirates'], ['sport', 'Holmes secures comeback victory'], ['business', 'House prices suffer festive fall'], ['sport', 'IAAF launches fight against drugs'], ['business', 'India-Pakistan peace boosts trade'], ['business', 'Iraqi voters turn to economic issues'], ['sport', 'Jansen suffers a further setback'], ['technology', 'Latest Opera browser gets vocal'], ['business', 'Laura Ashley chief stepping down'], ['technology', 'Learning to love broadband'], ['technology', 'Mac Mini heralds mini revolution'], ['business', \"Macy's owner buys rival for $11bn\"], ['business', 'Madagascar completes currency switch'], ['sport', 'McLeish ready for criticism'], ['technology', 'Mobile games come of age'], ['technology', 'More power to the people says HP'], ['sport', 'Mourinho sends out warning shot'], ['sport', 'Moya suffers shock loss'], ['sport', 'Moyes U-turn on Beattie dismissal'], ['sport', 'Murray returns to Scotland fold'], ['business', 'Mystery surrounds new Yukos owner'], ['sport', 'Off-colour Gardener storms to win'], ['business', 'Oil companies get Russian setback'], ['sport', 'Owen may have to return home'], ['sport', 'Pearce keen on succeeding Keegan'], ['technology', \"Poles play with GameBoy 'blip-pop'\"], ['sport', 'Premier League probes Cole claims'], ['sport', 'Prodigy Monfils blows away Gaudio'], ['technology', 'Remote control rifle range debuts'], ['sport', 'Robinson ready for difficult task'], ['technology', 'Row brewing over peer-to-peer ads'], ['sport', 'Rusedski angry over supplements'], ['business', 'S Korean lender faces liquidation'], ['sport', 'SFA awaits report over Mikoliunas'], ['sport', 'Safin cool on Wimbledon'], ['sport', 'Safin plays down Wimbledon hopes'], ['technology', 'Satellite mapping aids Darfur relief'], ['technology', 'Search sites get closer to users'], ['technology', 'Security scares spark browser fix'], ['business', 'Senior Fannie Mae bosses resign'], ['technology', 'Solutions to net security fears'], ['business', 'Split-caps pay £194m compensation'], ['sport', 'Sports Stock Tips'], ['business', 'Strong quarterly growth for Nike'], ['technology', \"T-Mobile bets on 'pocket office'\"], ['sport', 'Thanou desperate to make return'], ['sport', 'Thompson says Gerrard should stay'], ['sport', 'Time to get tough on friendlies?'], ['technology', 'US peer-to-peer pirates convicted'], ['technology', 'US top of supercomputing charts'], ['business', 'Venezuela and China sign oil deal'], ['business', 'Weak end-of-year sales hit Next'], ['sport', 'Williams says he will never quit'], ['business', \"Winemaker rejects Foster's offer\"], ['business', \"Worldcom boss 'left books alone'\"], ['technology', 'Xbox 2 may be unveiled in summer'], ['technology', \"Xbox power cable 'fire fear'\"], ['business', \"Yangtze Electric's profits double\"], ['business', 'Yukos loses US bankruptcy battle'], ['business', '7 business technology trends to watch'], ['sport', 'A November to remember'], ['technology', 'A question of trust and technology'], ['business', 'Ad sales boost Time Warner profit'], ['sport', 'African double in Edinburgh'], ['business', 'Air passengers win new EU rights'], ['technology', 'Anti-spam screensaver scrapped'], ['sport', 'Arsenal through on penalties'], ['business', 'BP surges ahead on high oil price'], ['business', 'Bank holds interest rate at 4.75%'], ['business', 'Bank set to leave rates on hold'], ['sport', 'Bekele sets sights on world mark'], ['sport', 'Bitter Santini hits out at Spurs'], ['technology', 'Blogs take on the mainstream'], ['business', \"Brewers' profits lose their fizz\"], ['business', \"Bush to outline 'toughest' budget\"], ['business', \"Buyers snap up Jet Airways' shares\"], ['business', 'Cairn shares up on new oil find'], ['sport', 'Campbell to extend sprint career'], ['sport', 'Celtic make late bid for Bellamy'], ['sport', 'Charlton 1-2 Liverpool'], ['N/A', 'Article no longer available in archive'], ['sport', 'Chepkemei joins Edinburgh line-up'], ['N/A', 'Article no longer available in archive'], ['business', 'Chinese billionaire targets Manchester United shares in new deal, reports suggest'], ['sport', 'Collins calls for Chambers return'], ['technology', 'Commodore finds new lease of life'], ['technology', 'Creator of first Apple Mac dies'], ['sport', 'Cudicini misses Carling Cup final'], ['sport', 'Davenport hits out at Wimbledon'], ['sport', 'Davies favours Gloucester future'], ['business', 'Deutsche Telekom sees mobile gain'], ['sport', 'Dibaba breaks 5,000m world record'], ['sport', 'Dogged Federer claims Dubai crown'], ['business', 'Dollar hovers around record lows'], ['sport', 'Dundee Utd 4-1 Aberdeen'], ['business', 'EC calls truce in deficit battle'], ['business', 'EU-US seeking deal on air dispute'], ['business', 'Egypt and Israel seal trade deal'], ['business', 'Egypt to sell off state-owned bank'], ['sport', 'El Guerrouj targets cross country'], ['sport', 'FA ready to test out goal bleeper'], ['N/A', 'Article no longer available in archive'], ['business', 'FBI agent colludes with analyst'], ['technology', 'Fast moving phone bugs appear'], ['N/A', 'Article no longer available in archive'], ['sport', 'Ferguson fears Milan cutting edge'], ['sport', 'Finnan says Irish can win group'], ['sport', 'Fit-again Betsen in France squad'], ['business', 'Five million Germans out of work'], ['technology', \"Format wars could 'confuse users'\"], ['sport', 'Giggs handed Wales leading role'], ['technology', 'Gritty return for Prince of Persia'], ['sport', 'Hewitt survives Nalbandian epic'], ['business', 'Honda wins China copyright ruling'], ['business', 'India seeks to boost construction'], ['business', \"India's Deccan gets more planes\"], ['business', 'Indy buys into India paper'], ['business', 'Intercom raises €101m in funding round making it the most valuable Irish tech firm'], ['business', 'Iranian MPs threaten mobile deal'], ['business', 'Irish company hit by Iraqi report'], ['sport', 'Italy aim to rattle England'], ['business', 'Italy to get economic action plan'], ['sport', \"Juninho demand for O'Neill talks\"], ['sport', 'Kenyon denies Robben Barca return'], ['sport', 'Kerr frustrated at victory margin'], ['sport', 'Klinsmann issues Lehmann warning'], ['business', \"LSE 'sets date for takeover deal'\"], ['sport', 'Lewis-Francis eyeing world gold'], ['technology', \"Lifestyle 'governs mobile choice'\"], ['technology', 'Looks and music to drive mobiles'], ['sport', 'Man Utd through after Exeter test'], ['sport', 'Martinez sees off Vinci challenge'], ['technology', 'Microsoft makes anti-piracy move'], ['sport', 'Middlesbrough 2-2 Charlton'], ['sport', 'Mido makes third apology'], ['technology', 'Millions buy MP3 players in US'], ['business', 'Mixed signals from French economy'], ['technology', 'Mobile picture power in your pocket'], ['sport', 'Moore questions captaincy'], ['sport', 'More Africans for tsunami game'], ['sport', 'Murphy: That was a bruising battle'], ['sport', 'Navratilova hits out at critics'], ['sport', \"O'Driscoll out of Scotland game\"], ['sport', \"O'Gara revels in Ireland victory\"], ['sport', 'Owen dismisses fresh Real rumours'], ['technology', \"PC ownership to 'double by 2010'\"], ['sport', 'Paris promise raises Welsh hopes'], ['business', 'Parmalat sues 45 banks over crash'], ['technology', 'Progress on new internet domains'], ['business', 'Qantas considers offshore option'], ['sport', 'Radcliffe tackles marathon tasks'], ['sport', 'Rangers seal Old Firm win'], ['sport', 'Record fails to lift lacklustre meet'], ['business', 'Record year for Chilean copper'], ['sport', 'Republic to face China and Italy'], ['sport', 'Robben sidelined with broken foot'], ['technology', \"Robots learn 'robotiquette' rules\"], ['technology', \"Rolling out next generation's net\"], ['business', \"Russia WTO talks 'make progress'\"], ['technology', 'Screensaver tackles spam websites'], ['technology', 'Slim PlayStation triples sales'], ['business', 'Standard Life concern at LSE bid'], ['business', \"Steel firm 'to cut' 45,000 jobs\"], ['sport', 'Stuart joins Norwich from Addicks'], ['N/A', 'Article no longer available in archive'], ['technology', 'Sun offers processing by the hour'], ['technology', 'Tech helps disabled speed demons'], ['technology', 'Telewest to challenge Sky Plus'], ['sport', 'Thanou bullish over drugs hearing'], ['technology', 'The Force is strong in Battlefront'], ['technology', 'The gaming world in 2005'], ['business', 'Turkey knocks six zeros off lira'], ['business', 'UK Coal plunges into deeper loss'], ['business', 'US trade gap ballooned in October'], ['business', 'Unilever shake up as profit slips'], ['sport', 'Wales get Williams fitness boost'], ['sport', 'Wales stars need a rest - Ruddock'], ['business', \"Wall Street cool to eBay's profit\"], ['technology', 'Warnings about junk mail deluge'], ['technology', 'Web radio takes Spanish rap global'], ['sport', 'Wenger shock at Newcastle dip'], ['technology', 'When invention turns to innovation'], ['technology', 'Who do you think you are?'], ['sport', 'Wilkinson to miss Ireland match'], ['business', 'Winn-Dixie files for bankruptcy'], ['business', 'Yukos sues four firms for $20bn'], ['sport', 'A year to remember for Irish'], ['sport', 'An Irish Athletics Year'], ['sport', 'Arnesen denies rift with Santini'], ['business', 'Asia shares defy post-quake gloom'], ['business', 'Bank payout to Pinochet victims'], ['sport', 'Barcelona title hopes hit by loss'], ['business', 'Bargain calls widen Softbank loss'], ['sport', 'Bayern Munich 3-1 Arsenal'], ['sport', 'Benitez deflects blame from Dudek'], ['technology', 'Blog reading explodes in America'], ['technology', 'Broadband challenges TV viewing'], ['technology', 'Broadband in the UK growing fast'], ['sport', 'Calder fears for Scottish rugby'], ['sport', 'Captains lining up for Aid match'], ['sport', 'Celts savour Grand Slam prospect'], ['sport', 'Chelsea ridiculed over complaint'], ['business', 'China keeps tight rein on credit'], ['technology', 'China net cafe culture crackdown'], ['business', 'China suspends 26 power projects'], ['business', 'Christmas shoppers flock to tills'], ['sport', 'Collins named UK Athletics chief'], ['technology', 'Court mulls file-sharing future'], ['business', 'Crude oil prices back above $50'], ['technology', 'Cyber criminals step up the pace'], ['technology', 'DVD copy protection strengthened'], ['business', 'Deutsche attacks Yukos case'], ['sport', 'Disappointed Scott in solid start'], ['business', 'Durex maker SSL awaits firm bid'], ['technology', 'EA to take on film and TV giants'], ['sport', 'Edu blasts Arsenal'], ['N/A', 'Article no longer available in archive'], ['technology', 'Europe backs digital TV lifestyle'], ['sport', 'Farrell saga to drag on - Lindsay'], ['business', \"Featured: 'Golden economic period' to end\"], ['business', 'Feta cheese battle reaches court'], ['business', 'Firms pump billions into pensions'], ['technology', 'First look at PlayStation 3 chip'], ['business', 'Ford gains from finance not cars'], ['sport', 'Fuming Robinson blasts officials'], ['sport', 'GB quartet get cross country call'], ['technology', \"Gadget market 'to grow in 2005'\"], ['technology', 'Gadgets galore on show at fair'], ['technology', \"Games help you 'learn and play'\"], ['business', 'Gaming firm to sell UK dog tracks'], ['business', 'Germany nears 1990 jobless level'], ['sport', 'Greek pair attend drugs hearing'], ['sport', 'Gronkjaer agrees switch to Madrid'], ['N/A', 'Article no longer available in archive'], ['technology', \"Half of UK's mobiles 'go online'\"], ['sport', 'Hantuchova in Dubai last eight'], ['technology', 'Have hackers recruited your PC?'], ['sport', 'Healey targets England comeback'], ['business', 'High fuel costs hit US airlines'], ['business', \"High fuel prices hit BA's profits\"], ['technology', 'Hotspot users gain free net calls'], ['business', 'House prices drop as sales slow'], ['business', 'House prices show slight increase'], ['technology', 'ITunes user sues Apple over iPod'], ['business', 'India widens access to telecoms'], ['technology', 'Iran jails blogger for 14 years'], ['business', 'Irish duo could block Man Utd bid'], ['sport', 'Italy 8-38 Wales'], ['sport', 'Johnson uncertain about Euro bid'], ['sport', 'Kirwan demands Italy consistency'], ['business', 'Liberian economy starts to grow'], ['business', 'Malaysia lifts Islamic bank limit'], ['sport', 'Man Utd stroll to Cup win'], ['technology', 'Man auctions ad space on forehead'], ['business', \"Manufacturing recovery 'slowing'\"], ['business', 'Markets signal Brazilian recovery'], ['sport', 'Merritt close to indoor 400m mark'], ['technology', 'Microsoft debuts security tools'], ['technology', 'Microsoft releases patches'], ['business', 'Minister hits out at Yukos sale'], ['sport', 'Mirza shocks Kuznetsova'], ['N/A', 'Article no longer available in archive'], ['sport', 'Mourinho receives Robson warning'], ['sport', 'Moya emotional after Davis Cup win'], ['business', 'Nasdaq planning $100m share sale'], ['sport', 'Newcastle 2-1 Bolton'], ['sport', 'Newcastle to join Morientes race'], ['business', 'News Corp makes $5.4bn Fox offer'], ['business', 'Nigeria to boost cocoa production'], ['technology', 'Nintendo DS aims to touch gamers'], ['business', 'Novartis hits acquisition trail'], ['business', \"Profits stall at China's Lenovo\"], ['business', 'Putin backs state grab for Yukos'], ['business', 'Quiksilver moves for Rossignol'], ['sport', 'Redknapp poised for Saints'], ['sport', 'Robertson out to retain Euro lure'], ['technology', 'Seamen sail into biometric future'], ['business', 'Singapore growth at 8.1% in 2004'], ['N/A', 'Article no longer available in archive'], ['sport', 'Slovakia reach Hopman Cup final'], ['sport', 'Sociedad set to rescue Mladenovic'], ['technology', 'Sony wares win innovation award'], ['business', 'Soros group warns of Kazakh close'], ['technology', 'Sport-loving inventors whose tech could change the game'], ['sport', 'Sprinter Walker quits athletics'], ['N/A', 'Article no longer available in archive'], ['business', 'Stock market eyes Japan recovery'], ['business', 'Swiss cement firm in buying spree'], ['technology', 'Text message record smashed'], ['technology', 'The pirates with no profit motive'], ['business', 'Tsunami to cost Sri Lanka $1.3bn'], ['sport', 'UK Athletics agrees new kit deal'], ['technology', 'US cyber security chief resigns'], ['technology', 'US hacker breaks into T-Mobile'], ['business', 'US industrial output growth eases'], ['business', 'US insurer Marsh cuts 2,500 jobs'], ['business', 'US manufacturing expands'], ['business', 'US to rule on Yukos refuge call'], ['sport', 'Van Nistelrooy set to return'], ['sport', 'Vickery upbeat about arm injury'], ['technology', 'Video phones act as dating tools'], ['business', 'Virgin Blue shares plummet 20%'], ['N/A', 'Article no longer available in archive'], ['sport', 'Wada will appeal against ruling'], ['sport', 'Wales critical of clumsy Grewcock'], ['sport', 'Wales silent on Grand Slam talk'], ['sport', 'Wenger rules out new keeper'], ['sport', 'Wenger signs new deal'], ['business', 'Axa Sun Life cuts bonus payments'], ['technology', 'BT boosts its broadband packages'], ['sport', 'Bates seals takeover'], ['technology', 'Beckham virus spotted on the net'], ['technology', 'Broadband fuels online expression'], ['technology', 'Broadband in the UK gathers pace'], ['business', 'Burren awarded Egyptian contracts'], ['business', 'Business fears over sluggish EU economy'], ['sport', 'Candela completes Bolton switch'], ['business', 'Cannabis hopes for drug firm'], ['sport', 'Castaignede fires Laporte warning'], ['technology', \"Casual gaming to 'take off'\"], ['sport', 'Chelsea sack Mutu'], ['business', 'China Aviation seeks rescue deal'], ['sport', 'Classy Henman makes winning start'], ['sport', 'Collins banned in landmark case'], ['technology', 'Concerns over Windows ATMs'], ['sport', 'Connors boost for British tennis'], ['business', \"Crossrail link 'to get go-ahead'\"], ['N/A', 'Article no longer available in archive'], ['technology', 'Cyber crime booms in 2004'], ['technology', 'Disney backs Sony DVD technology'], ['business', 'Dollar slides ahead of New Year'], ['business', \"Economy 'stronger than forecast'\"], ['business', 'Electrolux to export Europe jobs'], ['business', \"Ethiopia's crop production up 24%\"], ['sport', 'FA charges Liverpool and Millwall'], ['sport', 'FA probes crowd trouble'], ['technology', \"Format wars could 'confuse users'\"], ['business', 'GM in crunch talks on Fiat future'], ['technology', 'Game makers get Xbox 2 sneak peek'], ['technology', 'Gamers could drive high-definition'], ['technology', 'Google launches TV search service'], ['sport', 'Harinordoquy suffers France axe'], ['sport', 'Hearts of Oak 3-2 Cotonsport'], ['sport', 'Hodges announces rugby retirement'], ['sport', 'Holmes feted with further honour'], ['technology', 'Honour for UK games maker'], ['sport', 'Houllier praises Benitez regime'], ['technology', 'Humanoid robot learns how to run'], ['sport', 'Ireland v USA (Sat)'], ['sport', 'Isinbayeva heads for Birmingham'], ['sport', 'Israeli club look to Africa'], ['technology', 'Junk e-mails on relentless rise'], ['sport', 'Kluft impressed by Sotherton form'], ['business', 'Latin America sees strong growth'], ['business', 'Libya takes $1bn in unfrozen funds'], ['technology', 'Loyalty cards idea for TV addicts'], ['sport', 'Man City 1-1 Newcastle'], ['sport', 'McCall earns Tannadice reprieve'], ['sport', 'McClaren eyes Uefa Cup top spot'], ['sport', \"McClaren hails Boro's Uefa spirit\"], ['sport', 'McIlroy aiming for Madrid title'], ['technology', 'Microsoft makes anti-piracy move'], ['technology', 'Microsoft seeking spyware trojan'], ['business', 'Mild winter drives US oil down 6%'], ['technology', 'Millions to miss out on the net'], ['sport', 'Minister digs in over doping row'], ['sport', 'Mirza makes Indian tennis history'], ['business', 'Mitsubishi in Peugeot link talks'], ['technology', 'Mobile multimedia slow to catch on'], ['technology', \"Mobiles 'not media players yet'\"], ['sport', 'Morientes admits to Reds struggle'], ['sport', 'Mourinho plots impressive course'], ['sport', 'Mourinho says race is almost over'], ['N/A', 'Article no longer available in archive'], ['sport', 'Moya sidesteps Davis Cup in 2005'], ['sport', 'Nadal marches on in Mexico'], ['technology', 'Nintendo adds media playing to DS'], ['sport', \"O'Connell rejects Lions rumours\"], ['sport', \"O'Driscoll concern at Fifa ruling\"], ['business', 'Oil prices fall back from highs'], ['business', 'Ore costs hit global steel firms'], ['sport', 'Parry relishes Anfield challenge'], ['business', 'Peugeot deal boosts Mitsubishi'], ['N/A', 'Article no longer available in archive'], ['technology', 'PlayStation 3 chip to be unveiled'], ['technology', 'Portable PlayStation ready to go'], ['sport', 'Premier League planning Cole date'], ['business', 'Qantas sees profits fly to record'], ['sport', 'Radcliffe yet to answer GB call'], ['sport', \"Redknapp's Saints face Pompey tie\"], ['sport', 'Reds sink 10-man Magpies'], ['business', 'Reliance unit loses Anil Ambani'], ['technology', 'Rich pickings for hi-tech thieves'], ['sport', 'Robinson out of Six Nations'], ['sport', 'Rovers reject third Ferguson bid'], ['sport', 'Saint-Andre anger at absent stars'], ['N/A', 'Article no longer available in archive'], ['business', 'Salary scandal in Cameroon'], ['technology', 'Slimmer PlayStation triple sales'], ['sport', 'Slovakia seal Hopman Cup success'], ['technology', 'Smart search lets art fans browse'], ['sport', 'Smith keen on Home series return'], ['sport', 'South Africa sweep top awards'], ['technology', 'Speak easy plan for media players'], ['technology', 'Speech takes on search engines'], ['business', \"Tokyo says deflation 'controlled'\"], ['business', 'Turkey turns on the economic charm'], ['business', \"Turkey-Iran mobile deal 'at risk'\"], ['business', \"UK 'risks breaking golden rule'\"], ['business', 'UK firm faces Venezuelan land row'], ['technology', 'UK pioneers digital film network'], ['business', 'US bank in $515m SEC settlement'], ['business', 'US crude prices surge above $53'], ['sport', 'Umaga ready for Lions'], ['business', 'Umbro profits lifted by Euro 2004'], ['technology', 'Virgin Radio offers 3G broadcast'], ['technology', 'Virus poses as Christmas e-mail'], ['technology', 'Voters flock to blog awards site'], ['sport', 'Wales want rugby league training'], ['sport', 'Wales win in Rome'], ['technology', 'Warning over tsunami aid website'], ['sport', 'Wolves appoint Hoddle as manager'], ['sport', 'Wood - Ireland can win Grand Slam'], ['business', 'World leaders gather to face uncertainty'], ['sport', 'Worthington praises classy Villa'], ['sport', 'Yachvili savours France comeback'], ['N/A', 'Article no longer available in archive'], ['business', 'Yukos heading back to US courts'], ['business', 'Yukos seeks court action on sale'], ['business', 'Yukos unit fetches $9bn at auction'], ['business', 'Air China in $1bn London listing'], ['sport', 'Angry Williams rejects criticism'], ['business', 'Apple Inc. Phone Pricing Likely To Trend Lower'], ['business', 'Argentina closes $102.6bn debt swap'], ['business', 'AstraZeneca hit by drug failure'], ['sport', 'Balco case trial date pushed back'], ['business', 'Battered dollar hits another low'], ['sport', 'Beckham hints at Man Utd return'], ['sport', 'Benitez joy as Reds take control'], ['technology', \"Blind student 'hears in colour'\"], ['technology', 'Blogger grounded by her airline'], ['business', 'Brazil jobless rate hits new low'], ['technology', 'Broadband set to revolutionise TV'], ['technology', 'Bush website blocked outside US'], ['business', 'Business confidence dips in Japan'], ['business', 'Businesses fail to plan for HIV'], ['sport', 'Campese berates whingeing England'], ['sport', 'Cech sets clean-sheet benchmark'], ['technology', \"China 'blocks Google news site'\"], ['business', 'China continues rapid growth'], ['business', 'Circuit City gets takeover offer'], ['sport', 'Claxton hunting first major medal'], ['technology', 'Consumer concern over RFID tags'], ['business', \"Continental 'may run out of cash'\"], ['business', 'Deadline nears for Fiat-GM deal'], ['business', \"Deutsche Boerse set to 'woo' LSE\"], ['technology', 'Domain system scam fear'], ['technology', 'Doors open at biggest gadget fair'], ['sport', 'Dunne keen to commit to Man City'], ['business', 'EMI shares hit by profit warning'], ['business', \"EU to probe Alitalia 'state aid'\"], ['sport', \"England 'to launch ref protest'\"], ['sport', 'Faye plans to stay at Portsmouth'], ['business', \"Featured: 'Strong dollar' call halts slide\"], ['sport', \"Ferguson hails Man Utd's resolve\"], ['sport', 'Fuming Robinson blasts officials'], ['business', 'Further rise in UK jobless total'], ['technology', 'Gadget growth fuels eco concerns'], ['technology', 'Gadget show heralds MP3 season'], ['technology', 'Games win for Blu-ray DVD format'], ['business', 'German business confidence slides'], ['sport', 'Gerrard future not decided by Cardiff loss'], ['technology', 'Halo 2 sells five million copies'], ['sport', 'Henin-Hardenne beaten on comeback'], ['sport', 'Hewitt falls to Dent in Adelaide'], ['technology', 'How to smash a home computer'], ['sport', 'Ireland call up uncapped Campbell'], ['business', 'Israel looks to US for bank chief'], ['sport', 'Keane defiant over Vieira bust-up'], ['sport', \"Kenya lift Chepkemei's suspension\"], ['business', 'Kraft cuts snack ads for children'], ['business', 'Lesotho textile workers lose jobs'], ['sport', 'Lomu relishing return to action'], ['business', 'Lufthansa may sue over Bush visit'], ['business', 'MCI shares climb on takeover bid'], ['business', \"MG Rover China tie-up 'delayed'\"], ['business', 'Making your office work for you'], ['sport', 'McIlroy continues winning streak'], ['technology', 'Mobile TV tipped as one to watch'], ['business', 'Monsanto fined $1.5m for bribery'], ['technology', 'Moving mobile improves golf swing'], ['sport', 'Nadal puts Spain 2-0 up'], ['business', 'Nasdaq planning $100m-share sale'], ['technology', \"New Year's texting breaks record\"], ['N/A', 'Article no longer available in archive'], ['technology', 'New consoles promise big problems'], ['technology', 'Nintendo DS makes its Euro debut'], ['sport', \"O'Connor aims to grab opportunity\"], ['sport', \"O'Leary agrees new Villa contract\"], ['N/A', 'Article no longer available in archive'], ['sport', \"O'Sullivan keeps his powder dry\"], ['technology', 'Online commons to spark debate'], ['technology', 'Online games play with politics'], ['business', 'Parmalat founder offers apology'], ['business', 'Parmalat to return to stockmarket'], ['technology', \"Peer-to-peer nets 'here to stay'\"], ['business', 'Pernod takeover talk lifts Domecq'], ['business', \"Profits jump at China's top bank\"], ['sport', 'Prop Jones ready for hard graft'], ['business', 'Qatar and Shell in $6bn gas deal'], ['business', \"Quake's economic costs emerging\"], ['sport', 'Real in talks over Gravesen move'], ['business', 'Rescue hope for Borussia Dortmund'], ['sport', 'Robben and Cole earn Chelsea win'], ['technology', 'Robotic pods take on car design'], ['sport', 'Roddick in talks over new coach'], ['business', 'SEC to rethink post-Enron rules'], ['technology', 'Santy worm makes unwelcome visit'], ['technology', 'Seamen sail into biometric future'], ['sport', 'Serena becomes world number two'], ['sport', 'Smith aims to bring back respect'], ['business', \"Soaring oil 'hits world economy'\"], ['technology', 'Software watching while you work'], ['technology', 'Sony PSP console hits US in March'], ['sport', 'TV calls after Carroll error'], ['technology', \"TV's future down the phone line\"], ['N/A', 'Article no longer available in archive'], ['business', \"The 'ticking budget' facing the US\"], ['business', 'Train strike grips Buenos Aires'], ['technology', 'UK broadband gets speed injection'], ['business', 'US adds more jobs than expected'], ['business', 'US economy shows solid GDP growth'], ['business', 'US economy still growing says Fed'], ['business', 'US in EU tariff chaos trade row'], ['business', 'US retail sales surge in December'], ['business', 'US trade gap hits record in 2004'], ['business', 'Ukraine revisits state sell-offs'], ['sport', 'Underdogs have more fun'], ['business', 'VW considers opening Indian plant'], ['business', 'Wal-Mart to pay $14m in gun suit'], ['sport', 'Wasps 31-37 Leicester'], ['technology', 'What high-definition will do to DVDs'], ['technology', 'Why Cell will get the hard sell'], ['sport', 'Wilkinson fit to face Edinburgh'], ['sport', \"Wilkinson return 'unlikely'\"], ['technology', 'Yahoo celebrates a decade online'], ['technology', 'Yahoo moves into desktop search'], ['technology', '2D Metal Slug offers retro fun'], ['technology', 'Anti-spam laws bite spammer hard'], ['technology', \"Apple laptop is 'greatest gadget'\"], ['technology', 'Apple makes blogs reveal sources'], ['technology', \"Apple unveils low-cost 'Mac mini'\"], ['business', \"Arsenal 'may seek full share listing'\"], ['business', 'BA to suspend two Saudi services'], ['business', 'BMW drives record sales in Asia'], ['business', 'BT offers equal access to rivals'], ['sport', 'Barwick calls for Highbury calm'], ['sport', 'Barwick installed as new FA boss'], ['technology', 'Be careful how you code'], ['business', 'Beer giant swallows Russian firm'], ['technology', 'Blinx sequel purrs nicely'], ['business', 'Bombardier chief to leave company'], ['technology', 'Bond game fails to shake or stir'], ['business', \"Britannia members' £42m windfall\"], ['technology', 'California sets fines for spyware'], ['business', 'Call to save manufacturing jobs'], ['sport', 'Can Smith work Scottish wonders?'], ['technology', 'Cebit fever takes over Hanover'], ['sport', 'Chelsea clinch cup in extra-time'], ['technology', \"China 'to overtake US net use'\"], ['business', 'China bans new tobacco factories'], ['sport', 'Davenport dismantles young rival'], ['business', \"Disaster claims 'less than $10bn'\"], ['business', 'Dollar drops on reserves concerns'], ['business', \"EU 'too slow' on economic reforms\"], ['sport', 'English clubs make Euro history'], ['business', 'Ex-Boeing director gets jail term'], ['sport', 'FA decides not to punish Mourinho'], ['technology', 'Fast lifts rise into record books'], ['technology', \"Featured: 'Blog' picked as word of the year\"], ['technology', \"Featured: 'Brainwave' cap controls computer\"], ['technology', \"Featured: 'Podcasters' look to net money\"], ['business', 'Fresh hope after Argentine crisis'], ['technology', \"Gadget market 'to grow in 2005'\"], ['technology', 'Gates opens biggest gadget fair'], ['sport', 'Gebrselassie in London triple bid'], ['sport', 'Gerrard plays down European hopes'], ['business', 'Giant waves damage S Asia economy'], ['business', 'Giving financial gifts to children'], ['business', 'Golden rule boost for Chancellor'], ['sport', 'Henman hopes ended in Dubai'], ['technology', \"Hitachi unveils 'fastest robot'\"], ['technology', 'Hotspot users gain free net calls'], ['business', 'How Manchester United, Knicks Wins Correlate With Stock Gains'], ['business', 'Hyundai to build new India plant'], ['business', 'Industrial revival hope for Japan'], ['business', 'Insurance bosses plead guilty'], ['business', 'Iraq and Afghanistan in WTO talks'], ['sport', 'Ireland surge past Scots'], ['sport', 'Italy 17-28 Ireland'], ['business', 'JP Morgan admits US slavery links'], ['sport', 'Keegan hails comeback king Fowler'], ['technology', 'Kenyan school turns to handhelds'], ['technology', 'Long life promised for laptop PCs'], ['business', 'M&S cuts prices by average of 24%'], ['business', 'MCI shareholder sues to stop bid'], ['business', 'Market unfazed by Aurora setback'], ['technology', 'Microsoft takes on desktop search'], ['business', \"Millions 'to lose textile jobs'\"], ['technology', 'Mobile networks seek turbo boost'], ['technology', \"Mobiles 'not media players yet'\"], ['technology', 'Mobiles double up as bus tickets'], ['technology', 'Mobiles rack up 20 years of use'], ['N/A', 'Article no longer available in archive'], ['sport', 'Mourinho takes swipe at Arsenal'], ['sport', 'Mourinho to escape FA charge'], ['technology', \"Net regulation 'still possible'\"], ['technology', 'New delay hits EU software laws'], ['business', 'Newest EU members underpin growth'], ['sport', 'No lack of Christmas spirit'], ['sport', \"O'Driscoll/Gregan lead Aid stars\"], ['business', 'Optimism remains over UK housing'], ['business', 'Orange colour clash set for court'], ['sport', 'Owen delighted with Real display'], ['technology', 'Pandas benefit from wireless net'], ['technology', 'Parents face video game lessons'], ['sport', 'Petit career ended by knee injury'], ['N/A', 'Article no longer available in archive'], ['sport', 'Plymouth 3-0 Sheff Utd'], ['sport', 'Preview: Ireland v England (Sun)'], ['sport', 'Prinz beats Hamm to Fifa trophy'], ['business', \"Profits slide at India's Dr Reddy\"], ['sport', 'Prutton poised for lengthy FA ban'], ['technology', 'Rivals of the £400 Apple...'], ['sport', 'Robinson answers critics'], ['sport', 'Rochus shocks Coria in Auckland'], ['business', \"Rover deal 'may cost 2,000 jobs'\"], ['N/A', 'Article no longer available in archive'], ['sport', 'Running around the Olympics'], ['business', \"SA unveils 'more for all' budget\"], ['business', 'SBC plans post-takeover job cuts'], ['business', 'Safety alert as GM recalls cars'], ['business', 'Saudi ministry to employ women'], ['technology', 'Savvy searchers fail to spot ads'], ['business', 'Shares hit by MS drug suspension'], ['business', 'Slowdown hits US factory growth'], ['technology', 'Spam e-mails tempt net shoppers'], ['technology', 'Text messages aid disaster recovery'], ['sport', 'The wonder of Ronaldinho'], ['technology', 'The year search became personal'], ['sport', 'Tomlinson stays focused on Europe'], ['N/A', 'Article no longer available in archive'], ['business', \"US bank boss hails 'genius' Smith\"], ['business', 'US consumer confidence up'], ['business', 'US trade deficit widens sharply'], ['sport', 'Uefa threat over foreign quotas'], ['business', \"Ukraine steel sell-off 'illegal'\"], ['business', 'Ukraine trims privatisation check'], ['sport', 'Venus stunned by Farina Elia'], ['sport', 'Video technology will not make football a mistake-free sport'], ['technology', 'Warning over Windows Word files'], ['business', 'Weak dollar trims Cadbury profits'], ['technology', 'Web helps collect aid donations'], ['sport', 'Wenger handed summer war chest'], ['technology', 'When technology gets personal'], ['technology', 'A decade of good website design'], ['sport', 'Agassi fear for Melbourne'], ['business', 'Ailing EuroDisney vows turnaround'], ['sport', 'Ajax refuse to rule out Jol move'], ['sport', 'Anelka apologises for criticism'], ['technology', 'Apple attacked over sources row'], ['technology', 'Apple iPod family expands market'], ['technology', 'Argonaut founder rebuilds empire'], ['sport', 'Arsenal 1-1 Sheff Utd'], ['business', 'Asia shares defy post-quake gloom'], ['business', 'Aviation firms eye booming India'], ['technology', 'BT program to beat dialler scams'], ['business', 'Bat spit drug firm goes to market'], ['sport', 'Bees handed potential Man Utd tie'], ['sport', 'Blackburn v Burnley'], ['business', 'Boeing unveils new 777 aircraft'], ['sport', 'Breaking news: US company admits Benin bribery'], ['technology', 'Broadband in the UK growing fast'], ['sport', 'Bryan twins keep US hopes alive'], ['business', 'Building giant in asbestos payout'], ['technology', 'California sets fines for spyware'], ['business', 'Call to overhaul UK state pension'], ['sport', 'Campbell to be Lions consultant'], ['sport', 'Cantona issues Man Utd job hint'], ['business', 'Chinese exports rise 25% in 2004'], ['sport', 'Clijsters could play Aussie Open'], ['sport', 'Corry backs skipper Robinson'], ['technology', 'DVD copy protection strengthened'], ['sport', 'Dallaglio his own man to the end'], ['sport', 'Dawson wins England squad recall'], ['sport', 'Dementieva prevails in Hong Kong'], ['technology', 'Disney backs Sony DVD technology'], ['sport', 'Dominici backs lacklustre France'], ['technology', 'Dublin hi-tech labs to shut down'], ['business', 'Ebbers denies WorldCom fraud'], ['sport', 'England coach faces rap after row'], ['business', \"European losses hit GM's profits\"], ['sport', 'Fifa agrees goal-line technology'], ['technology', 'Freeze on anti-spam campaign'], ['business', 'French boss to leave EADS'], ['business', 'German economy rebounds'], ['business', 'Glazer makes new Man Utd approach'], ['technology', 'Google to scan famous libraries'], ['sport', \"Greek sprinters 'won't run again'\"], ['sport', 'Greek sprinters suspended by IAAF'], ['sport', 'Gunners clock up winning record'], ['technology', 'Halo 2 heralds traffic explosion'], ['sport', 'Henson stakes early Lions claim'], ['sport', 'Hewitt fights back to reach final'], ['sport', 'Holmes is hit by hamstring injury'], ['technology', 'IBM frees 500 software patents'], ['N/A', 'Article no longer available in archive'], ['business', \"India's Reliance family feud heats up\"], ['business', \"India's rupee hits five-year high\"], ['technology', 'Ink helps drive democracy in Asia'], ['sport', 'Irish finish with home game'], ['business', 'J&J agrees $25bn Guidant deal'], ['sport', 'Johansson takes Adelaide victory'], ['sport', 'Jones doping probe begins'], ['sport', 'Kenteris denies faking road crash'], ['business', 'Khodorkovsky quits Yukos shares'], ['technology', 'Latest Opera browser gets vocal'], ['N/A', 'Article no longer available in archive'], ['sport', 'Legendary Dutch boss Michels dies'], ['sport', 'Lions blow to World Cup stars'], ['sport', 'Liverpool revel in night of glory'], ['business', 'Man Utd to open books to Glazer'], ['sport', 'Man Utd urged to seal Giggs deal'], ['sport', 'Melzer shocks Agassi in San Jose'], ['technology', 'Microsoft debuts security tools'], ['technology', 'Millions buy MP3 players in US'], ['technology', 'Mobile multimedia slow to catch on'], ['technology', 'Mobiles get set for visual radio'], ['technology', 'Mobiles rack up 20 years of use'], ['sport', 'Molby says Gravesen is Real deal'], ['technology', 'More power to the people says HP'], ['technology', \"Musicians 'upbeat' about the net\"], ['business', 'News Corp eyes video games market'], ['N/A', 'Article no longer available in archive'], ['technology', 'No half measures with Half-Life 2'], ['sport', 'Parmar ruled out of Davis Cup tie'], ['sport', 'Philippoussis doubt over Open bid'], ['technology', 'Pompeii gets digital make-over'], ['business', 'Q&A: Malcolm Glazer and Man Utd'], ['sport', 'Radcliffe eyes hard line on drugs'], ['sport', 'Real will finish abandoned match'], ['sport', 'Ref stands by Scotland decisions'], ['sport', 'Robinson wants dual code success'], ['sport', \"Roche 'turns down Federer offer'\"], ['N/A', 'Article no longer available in archive'], ['sport', 'Roddick splits from coach Gilbert'], ['sport', 'Ronaldinho denies Blues interest'], ['business', 'S Korea spending boost to economy'], ['business', 'S Korean consumers spending again'], ['business', 'Saudi investor picks up the Savoy'], ['sport', 'Sella wants Michalak recall'], ['business', 'Share boost for feud-hit Reliance'], ['business', 'Shares rise on new Man Utd offer'], ['technology', \"Sony PSP tipped as a 'must-have'\"], ['sport', 'Souness eyes summer move for Owen'], ['technology', 'Souped-up wi-fi is on the horizon'], ['business', 'South African car demand surges'], ['sport', 'Stam spices up Man Utd encounter'], ['sport', 'Tapping-up row is so much hot air'], ['technology', 'Technology gets the creative bug'], ['technology', 'Technology in rugby: GPS systems continue to grow in importance'], ['sport', 'Tindall aiming to earn Lions spot'], ['sport', 'Tindall wants second opinion'], ['business', \"Tsunami 'to hit Sri Lanka banks'\"], ['business', \"UK economy facing 'major risks'\"], ['business', 'US Ahold suppliers face charges'], ['business', 'US data sparks inflation worries'], ['business', 'US interest rate rise expected'], ['technology', 'US peer-to-peer pirates convicted'], ['sport', 'Umaga ready for \"fearsome\" Lions'], ['technology', 'Virus poses as Christmas e-mail'], ['business', 'Wal-Mart fights back at accusers'], ['sport', 'Wales coach elated with win'], ['N/A', 'Article no longer available in archive'], ['business', 'Warning over US pensions deficit'], ['technology', 'Web photo storage market hots up'], ['technology', 'Web radio takes Spanish rap global'], ['sport', 'Wenger keeping faith with Almunia'], ['sport', 'Wenger steps up row'], ['sport', 'What now for British tennis?'], ['sport', 'White admits to Balco drugs link'], ['technology', 'World tour for top video gamers'], ['business', '$1m payoff for former Shell boss'], ['technology', 'Anti-tremor mouse stops PC shakes'], ['technology', \"Apple unveils low-cost 'Mac mini'\"], ['business', 'Argentina, Venezuela in oil deal'], ['sport', 'Argentine great Caniggia retires'], ['business', 'Banker loses sexism claim'], ['business', 'Beijingers fume over parking fees'], ['sport', 'Bell set for England debut'], ['sport', 'Benitez issues warning to Gerrard'], ['sport', 'Blackburn 0-1 Chelsea'], ['business', 'Brazil plays down Varig rescue'], ['technology', 'Britons fed up with net service'], ['technology', 'Broadband takes on TV viewing'], ['business', 'Brussels raps mobile call charges'], ['sport', 'Butler strikes gold in Spain'], ['sport', 'Chelsea denied by James heroics'], ['business', 'China had role in Yukos split-up'], ['sport', 'Clijsters hope on Aussie Open'], ['sport', 'Costin aims for comeback in 2006'], ['business', \"DaimlerChrysler's 2004 sales rise\"], ['sport', 'Dal Maso in to replace Bergamasco'], ['sport', 'Davenport hits out at Wimbledon'], ['sport', 'Dein concerned by Chelsea stance'], ['business', 'Deutsche Boerse boosts dividend'], ['business', 'EU ministers to mull jet fuel tax'], ['business', 'Euronext joins bid battle for LSE'], ['technology', \"Featured: 'No re-draft' for EU patent law\"], ['technology', \"Featured: 'Ultimate game' award for Doom 3\"], ['N/A', 'Article no longer available in archive'], ['business', 'Fed chief warning on US deficit'], ['sport', 'Ferguson rues failure to cut gap'], ['business', 'GM pays $2bn to evade Fiat buyout'], ['business', 'GSK aims to stop Aids profiteers'], ['technology', 'GTA sequel is criminally good'], ['technology', 'Gamer buys $26,500 virtual land'], ['technology', \"Google's toolbar sparks concern\"], ['sport', 'Greene sets sights on world title'], ['sport', 'Henman to face Saulnier test'], ['sport', 'Holmes back on form in Birmingham'], ['business', 'Home loan approvals rising again'], ['business', 'Huge rush for Jet Airways shares'], ['technology', 'IBM puts cash behind Linux push'], ['business', 'India unveils anti-poverty budget'], ['sport', 'Injury doubts beset Wales squad'], ['technology', 'Intercom Are Doubling Their Product Teams In SF, Dublin & London'], ['sport', 'Ireland 19-13 England'], ['sport', \"Ireland win eclipses refereeing 'errors'\"], ['N/A', 'Article no longer available in archive'], ['business', 'Japan economy slides to recession'], ['business', \"Japan's ageing workforce: built to last\"], ['N/A', 'Article no longer available in archive'], ['business', 'Japanese growth grinds to a halt'], ['business', 'Jobs go at Oracle after takeover'], ['business', 'Jobs growth still slow in the US'], ['sport', 'Johnson accuses British sprinters'], ['business', \"LSE doubts boost bidders' shares\"], ['technology', 'Lasers help bridge network gaps'], ['sport', 'Lewis-Francis turns to Christie'], ['sport', 'Man City 0-2 Man Utd'], ['sport', \"Man Utd women's team to be axed\"], ['business', 'Markets fall on weak dollar fears'], ['business', 'Marsh executive in guilty plea'], ['business', \"McDonald's boss Bell dies aged 44\"], ['sport', 'McIlroy wins 800m indoor title'], ['business', 'Mexican in US send $16bn home'], ['technology', 'Microsoft launches its own search'], ['technology', 'Microsoft releases bumper patches'], ['technology', 'Microsoft sets sights on spyware'], ['business', 'Mixed Christmas for US retailers'], ['business', 'Mixed reaction to Man Utd offer'], ['sport', 'Murray to make Cup history'], ['technology', 'Musical future for phones'], ['technology', 'Net fingerprints combat attacks'], ['technology', 'New browser wins over net surfers'], ['business', 'News Corp eyes video games market'], ['business', 'No seasonal lift for house market'], ['sport', \"O'Sullivan quick to hail Italians\"], ['business', 'Online News poll indicates economic gloom'], ['business', 'Parmalat boasts doubled profits'], ['technology', 'PlayStation 3 processor unveiled'], ['technology', 'Podcasts mark rise of DIY radio'], ['business', 'Police detain Chinese milk bosses'], ['sport', 'Poll explains free-kick decision'], ['sport', 'Radcliffe proves doubters wrong'], ['sport', 'Radcliffe will compete in London'], ['sport', 'Roddick into San Jose final'], ['sport', \"Ruddock backs Yapp's credentials\"], ['business', 'S&N extends Indian beer venture'], ['sport', 'SA return to Mauritius'], ['sport', 'Safin slumps to shock Dubai loss'], ['business', \"Sales 'fail to boost High Street'\"], ['sport', 'Santini resigns as Spurs manager'], ['sport', \"Serena ends Sania Mirza's dream\"], ['technology', 'Set your television to wow'], ['business', \"Small firms 'hit by rising costs'\"], ['sport', 'Souness delight at Euro progress'], ['sport', 'Stars shine for tsunami benefit'], ['sport', 'Strachan turns down Pompey'], ['business', 'Strong demand triggers oil rally'], ['sport', 'Sydney to host north v south game'], ['business', 'Telegraph newspapers axe 90 jobs'], ['business', 'UK bank seals South Korean deal'], ['business', 'UK homes hit £3.3 trillion total'], ['business', 'US Airways staff agree to pay cut'], ['business', 'US budget deficit to reach $368bn'], ['business', 'US interest rates increased to 2%'], ['technology', 'US woman sues over ink cartridges'], ['sport', 'Uganda FA suspended'], ['business', 'Ukraine strikes Turkmen gas deal'], ['technology', 'Video phone help for deaf people'], ['technology', 'Viewers to be able to shape TV'], ['sport', 'WRU proposes season overhaul'], ['business', 'Watchdog probes Vivendi bond sale'], ['business', 'Weak data buffets French economy'], ['sport', 'White prepared for battle'], ['sport', 'Williams stays on despite dispute'], ['business', 'Wipro beats forecasts once again'], ['business', \"WorldCom bosses' $54m payout\"], ['sport', 'Young debut cut short by Ginepri'], ['sport', \"Adriano's Chelsea link rejected\"], ['business', \"Alfa Romeos 'to get GM engines'\"], ['business', 'Amex shares up on spin-off news'], ['technology', 'Apple attacked over sources row'], ['sport', 'Aragones angered by racism fine'], ['business', \"Asian banks halt dollar's slide\"], ['technology', 'Attack prompts Bush site block'], ['sport', 'Beckham relief as Real go through'], ['sport', \"Beckham's chat reigns in Spain\"], ['sport', 'Blatter suggests offside change'], ['sport', 'Bomb threat at Bernabeu stadium'], ['sport', 'Bristol City 2-1 Milton Keynes'], ['business', 'Cairn Energy in Indian gas find'], ['sport', 'Campbell lifts lid on United feud'], ['technology', 'Can Yahoo dominate next decade?'], ['business', 'Cars pull down US retail figures'], ['sport', 'Chelsea 3-0 Portsmouth'], ['sport', 'Chepkemei hit by big ban'], ['business', \"Chinese dam firm 'defies Beijing'\"], ['technology', 'Concern over RFID tags'], ['sport', 'Davenport puts retirement on hold'], ['business', 'Dollar hits new low versus euro'], ['technology', 'Domain system opens door to scams'], ['business', 'Dutch bank to lay off 2,850 staff'], ['sport', 'Edgy Agassi struggles past Dent'], ['sport', 'Edwards tips Idowu for Euro gold'], ['business', 'Electronics firms eye plasma deal'], ['sport', 'England claim Dubai Sevens glory'], ['sport', \"England's defensive crisis grows\"], ['business', 'Ericsson sees earnings improve'], ['business', 'FAO warns on impact of subsidies'], ['sport', 'Faultless Federer has no equal'], ['sport', 'Fear will help France - Laporte'], ['technology', \"Featured: 'No re-draft' for EU patent law\"], ['N/A', 'Article no longer available in archive'], ['sport', 'Ferguson urges Henry punishment'], ['sport', 'Ferrero eyes return to top form'], ['business', 'Fiat chief takes steering wheel'], ['technology', 'Football Manager scores big time'], ['technology', 'Freeze on anti-spam campaign'], ['business', 'French suitor holds LSE meeting'], ['sport', 'Funding cut hits Wales Students'], ['technology', 'Gadget show heralds MP3 Christmas'], ['technology', \"Games firms 'face tough future'\"], ['business', 'Georgia plans hidden asset pardon'], ['business', 'German jobless rate at new record'], ['sport', 'Gerrard happy at Anfield'], ['business', 'Go-ahead for Balkan oil pipeline'], ['business', \"Golden rule 'intact' says ex-aide\"], ['sport', 'Henman overcomes rival Rusedski'], ['sport', 'Henry tipped for Fifa award'], ['sport', 'Highbury tunnel players in clear'], ['sport', 'Holmes urged to compete at Worlds'], ['technology', 'How to make a gigapixel picture'], ['sport', \"IAAF awaits Greek pair's response\"], ['business', 'ID theft surge hits US consumers'], ['N/A', 'Article no longer available in archive'], ['business', 'India and Russia in energy talks'], ['business', \"Indonesia 'declines debt freeze'\"], ['technology', 'Intel unveils laser breakthrough'], ['business', 'Iran budget seeks state sell-offs'], ['business', 'Iraq to invite phone licence bids'], ['sport', 'Ireland 17-12 South Africa'], ['sport', 'Ireland 21-19 Argentina'], ['business', 'Jarvis sells Tube stake to Spain'], ['business', 'Krispy Kreme shares hit'], ['sport', \"Kuznetsova 'failed a drugs test'\"], ['sport', 'Laporte tinkers with team'], ['sport', 'Lions blow to World Cup winners'], ['N/A', 'Article no longer available in archive'], ['technology', 'Local net TV takes off in Austria'], ['technology', 'Losing yourself in online gaming'], ['technology', 'Media gadgets get moving'], ['N/A', 'Article no longer available in archive'], ['technology', 'Mobile gaming takes off in India'], ['technology', \"More movies head to Sony's PSP\"], ['technology', 'More women turn to net security'], ['sport', 'Mourinho expects fight to finish'], ['sport', 'Moya clinches Cup for Spain'], ['sport', 'Newcastle 27-27 Gloucester'], ['sport', \"O'Driscoll saves Irish blushes\"], ['sport', \"O'Sullivan could run in Worlds\"], ['sport', 'Old Firm pair handed suspensions'], ['technology', 'Online News leads interactive Bafta wins'], ['business', 'Palestinian economy in decline'], ['technology', \"Putting a face to 'Big Brother'\"], ['business', 'Rich grab half Colombia poor fund'], ['business', 'Russia gets investment blessing'], ['business', 'Saab to build Cadillacs in Sweden'], ['technology', \"Security warning over 'FBI virus'\"], ['sport', 'Spain coach faces racism inquiry'], ['technology', 'Spam e-mails tempt net shoppers'], ['technology', 'Sporting rivals go to extra time'], ['business', 'Standard Life cuts policy bonuses'], ['business', 'Stormy year for property insurers'], ['technology', 'Swap offer for pirated Windows XP'], ['sport', 'Sydney return for Henin-Hardenne'], ['business', 'Takeover rumour lifts Exel shares'], ['sport', 'Tanzania gets Fifa backing'], ['technology', 'Technology hijacked sports'], ['technology', 'Tough rules for ringtone sellers'], ['sport', 'Trial date is set for Balco case'], ['business', 'UK house prices dip in November'], ['business', 'UK interest rates held at 4.75%'], ['business', \"Venezuela identifies 'idle' farms\"], ['sport', 'Verdict delay for Greek sprinters'], ['business', \"Verizon 'seals takeover of MCI'\"], ['business', 'Vodafone appoints new Japan boss'], ['business', 'WMC says Xstrata bid is too low'], ['technology', 'Warnings on woeful wi-fi security'], ['business', \"Wembley firm won't make a profit\"], ['business', 'Will Manchester United plc Short Squeeze Soon'], ['business', 'Worldcom director ends evidence'], ['sport', 'Yeading face Newcastle in FA Cup'], ['business', 'Yukos owner sues Russia for $28bn'], ['business', 'Yukos unit buyer faces loan claim'], ['sport', 'A need to limit foreign numbers'], ['technology', 'Apple iPod family expands market'], ['technology', \"Apple sues 'Tiger' file sharers\"], ['technology', 'Apple sues to stop product leaks'], ['sport', 'Athens memories soar above lows'], ['technology', 'Ban hits Half-Life 2 pirates hard'], ['sport', 'Bath faced with Tindall ultimatum'], ['sport', 'Bellamy fined after row'], ['business', 'Brazil approves bankruptcy reform'], ['sport', 'Britain boosted by Holmes double'], ['technology', 'Britons fed up with net service'], ['business', 'Cactus diet deal for Phytopharm'], ['business', \"Call centre users 'lose patience'\"], ['sport', 'Call for Kenteris to be cleared'], ['technology', 'Call for action on internet scam'], ['technology', \"Camera phones are 'must-haves'\"], ['business', \"China's Shanda buys stake in Sina\"], ['technology', 'Chip maker backs net phone calls'], ['N/A', 'Article no longer available in archive'], ['sport', 'Cole refuses to blame van Persie'], ['sport', 'Collins appeals against drugs ban'], ['business', 'Consumers drive French economy'], ['sport', 'Crusaders 2-3 Ballymena United'], ['sport', 'Desailly backs Blues revenge trip'], ['technology', 'Digital guru floats sub-$100 PC'], ['technology', 'Doors open at biggest gadget fair'], ['sport', 'Double injury blow strikes Wales'], ['technology', 'EU software patent law faces axe'], ['business', \"Ebbers 'aware' of WorldCom fraud\"], ['sport', 'England given tough Sevens draw'], ['technology', 'Europe backs digital TV lifestyle'], ['business', 'Executive trio leave Aer Lingus'], ['sport', 'FA Cup losing its sheen'], ['technology', 'Fast moving phone viruses appear'], ['business', \"Featured: 'Standoff' on Deutsche's LSE bid\"], ['technology', \"Featured: 'Ultimate game' award for Doom 3\"], ['sport', 'Federer joins all-time greats'], ['sport', \"Formula 1: US-Qatari investors 'to bid for sport'\"], ['business', 'Fosters buys stake in winemaker'], ['business', 'French consumer spending rising'], ['technology', \"Games 'deserve a place in class'\"], ['sport', 'Gatlin and Hayes win Owen awards'], ['business', 'German bidder in talks with LSE'], ['technology', 'Global blogger action day called'], ['sport', 'Greece defy the odds at Euro 2004'], ['sport', 'Greek pair set for hearing'], ['technology', \"Halo fans' hope for sequel\"], ['business', 'Hariri killing hits Beirut shares'], ['sport', 'Hodgson relishes European clashes'], ['sport', 'Hong Kong in 2011 World Cup bid'], ['sport', 'IAAF will contest Greek decision'], ['technology', 'IBM puts cash behind Linux push'], ['business', 'IMF agrees fresh Turkey funding'], ['business', 'India and Iran in gas export deal'], ['business', 'India power shares jump on debut'], ['business', \"India's Deccan seals $1.8bn deal\"], ['business', 'Indian oil firm eyes Yukos assets'], ['business', 'Israeli economy picking up pace'], ['business', 'Japan bank shares up on link talk'], ['business', 'Japanese mogul arrested for fraud'], ['sport', 'Kewell waits as injury drags on'], ['business', 'Khodorkovsky ally denies charges'], ['sport', 'Leeds v Saracens (Fri)'], ['sport', 'Liverpool pledge to keep Gerrard'], ['sport', 'Llewellyn plans Wales retirement'], ['business', \"Lloyd's of London head chides FSA\"], ['sport', 'Mauresmo opens with victory in LA'], ['N/A', 'Article no longer available in archive'], ['business', 'Metlife buys up Citigroup insurer'], ['technology', 'Microsoft seeking spyware trojan'], ['technology', 'Mobile audio enters new dimension'], ['technology', 'Mobile networks seek turbo boost'], ['technology', \"Movie body targets children's PCs\"], ['technology', 'Napster offers rented music to go'], ['technology', 'New business technology trends'], ['sport', 'Nike defends under-fire football'], ['technology', 'Nintendo handheld given Euro date'], ['business', 'Nissan names successor to Ghosn'], ['technology', 'Nuclear body seeks new tech'], ['business', 'Oil prices reach three-month low'], ['technology', 'Open source leaders slam patents'], ['sport', 'Owen determined to stay in Madrid'], ['sport', 'Owen set for skipper role'], ['technology', \"Peer-to-peer nets 'here to stay'\"], ['business', 'Pension hitch for long-living men'], ['N/A', 'Article no longer available in archive'], ['sport', 'Radcliffe enjoys winning comeback'], ['technology', 'Reboot ordered for EU patent law'], ['N/A', 'Article no longer available in archive'], ['sport', 'Relay squad thrilled with honours'], ['sport', 'Reyes tricked into Real admission'], ['technology', 'Rings of steel combat net attacks'], ['sport', 'Rivals back anti-racism campaign'], ['business', 'Ryanair in $4bn Boeing plane deal'], ['sport', 'SA supports Fifa control'], ['sport', 'Safin relieved at Aussie recovery'], ['N/A', 'Article no longer available in archive'], ['sport', 'Scotland 18-10 Italy'], ['sport', 'Sculthorpe wants Lions captaincy'], ['business', 'Sluggish economy hits German jobs'], ['sport', 'Souness backs Smith for Scotland'], ['technology', 'Speak easy plan for media players'], ['business', 'Steady job growth continues in US'], ['technology', 'Sun offers processing by the hour'], ['technology', 'Supercomputer breaks speed record'], ['technology', 'TV future in the hands of viewers'], ['business', 'Tate & Lyle boss bags top award'], ['sport', 'Taylor poised for Scotland return'], ['sport', 'Tevez - an Argentine in Brazil'], ['technology', 'Tough rules for ringtone sellers'], ['business', 'Tsunami cost hits Jakarta shares'], ['business', 'Two Nigerian banks set to merge'], ['technology', 'UK net users leading TV downloads'], ['business', \"US bank 'loses' customer details\"], ['technology', 'US duo in first spam conviction'], ['business', 'US firm pulls out of Iraq'], ['business', 'US gives foreign firms extra time'], ['business', 'US prepares for hybrid onslaught'], ['sport', 'Van Nistelrooy hungry for return'], ['business', 'WMC profits up amid bid criticism'], ['technology', 'Web logs aid disaster recovery'], ['N/A', 'Article no longer available in archive'], ['sport', 'Wenger offers Mutu hope'], ['sport', 'What now for Kelly Holmes?'], ['sport', 'Why technology in sport poses a threat to keeping the game fair, safe and affordable'], ['sport', 'Williams battles to Aussie title'], ['business', 'WorldCom director admits lying'], ['business', \"Yukos bankruptcy 'not US matter'\"]]\n",
      "[['technology', '21st-Century Sports: How Digital Technology Is Changing the Face Of The Sporting Industry'], ['business', 'Asian quake hits European shares'], ['technology', 'BT offers free net phone calls'], ['business', 'Barclays shares up on merger talk'], ['sport', 'Barkley fit for match in Ireland'], ['sport', 'Bellamy under new fire'], ['sport', \"Benitez 'to launch Morientes bid'\"], ['sport', 'Benitez delight after crucial win'], ['technology', 'Big war games battle it out'], ['technology', 'British Library gets wireless net'], ['sport', \"Brizzel to run AAA's in Sheffield\"], ['business', 'Bush budget seeks deep cutbacks'], ['business', \"Bush to get 'tough' on deficit\"], ['technology', 'Cable offers video-on-demand'], ['technology', 'Cabs collect mountain of mobiles'], ['technology', \"Camera phones are 'must-haves'\"], ['business', \"Card fraudsters 'targeting web'\"], ['business', 'Cash gives way to flexible friend'], ['technology', 'Cebit opens to mobile music tune'], ['sport', 'Charvis set to lose fitness bid'], ['sport', 'Chelsea hold Arsenal'], ['business', 'Christmas sales worst since 1981'], ['sport', 'Clijsters set for February return'], ['sport', 'Clyde 0-5 Celtic'], ['sport', 'Coach Ranieri sacked by Valencia'], ['technology', 'Confusion over high-definition TV'], ['business', 'Cuba winds back economic clock'], ['technology', 'DS aims to touch gamers'], ['sport', 'Dawson set for new Wasps contract'], ['business', 'Diageo to buy US wine firm'], ['technology', 'Digital guru floats sub-$100 PC'], ['business', 'EU aiming to fuel development aid'], ['N/A', 'Article no longer available in archive'], ['sport', 'England 17-18 France'], ['business', 'Enron bosses in $168m payout'], ['business', \"Euronext 'poised to make LSE bid'\"], ['business', 'Europe asks Asia for euro help'], ['business', 'Europe blames US over weak dollar'], ['business', \"Fannie Mae 'should restate books'\"], ['technology', \"Featured: 'Brainwave' cap controls computer\"], ['technology', \"Featured: 'Evil twin' fear for wireless net\"], ['technology', \"Featured: 'Friends fear' with lost mobiles\"], ['N/A', 'Article no longer available in archive'], ['business', \"Featured: 'Post-Christmas lull' in lending\"], ['business', 'Fed warns of more US rate rises'], ['sport', 'Federer forced to dig deep'], ['sport', 'Ferguson puts faith in youngsters'], ['business', \"GE sees 'excellent' world economy\"], ['business', 'GM issues 2005 profits warning'], ['technology', 'Gangsters dominate gaming chart'], ['sport', 'Gardener wins double in Glasgow'], ['N/A', 'Article no longer available in archive'], ['business', \"Gazprom 'in $36m back-tax claim'\"], ['business', 'German growth goes into reverse'], ['business', 'Germany calls for EU reform'], ['technology', 'Go-ahead for new internet names'], ['sport', 'Greek duo cleared in doping case'], ['sport', \"Hansen 'delays return until 2006'\"], ['N/A', 'Article no longer available in archive'], ['sport', 'Henman & Murray claim LTA awards'], ['sport', 'Henman decides to quit Davis Cup'], ['technology', 'Hi-tech posters guide commuters'], ['sport', 'Hodgson shoulders England blame'], ['technology', 'Hollywood to sue net film pirates'], ['sport', 'Holmes secures comeback victory'], ['business', 'House prices suffer festive fall'], ['sport', 'IAAF launches fight against drugs'], ['business', 'India-Pakistan peace boosts trade'], ['business', 'Iraqi voters turn to economic issues'], ['sport', 'Jansen suffers a further setback'], ['technology', 'Latest Opera browser gets vocal'], ['business', 'Laura Ashley chief stepping down'], ['technology', 'Learning to love broadband'], ['technology', 'Mac Mini heralds mini revolution'], ['business', \"Macy's owner buys rival for $11bn\"], ['business', 'Madagascar completes currency switch'], ['sport', 'McLeish ready for criticism'], ['technology', 'Mobile games come of age'], ['technology', 'More power to the people says HP'], ['sport', 'Mourinho sends out warning shot'], ['sport', 'Moya suffers shock loss'], ['sport', 'Moyes U-turn on Beattie dismissal'], ['sport', 'Murray returns to Scotland fold'], ['business', 'Mystery surrounds new Yukos owner'], ['sport', 'Off-colour Gardener storms to win'], ['business', 'Oil companies get Russian setback'], ['sport', 'Owen may have to return home'], ['sport', 'Pearce keen on succeeding Keegan'], ['technology', \"Poles play with GameBoy 'blip-pop'\"], ['sport', 'Premier League probes Cole claims'], ['sport', 'Prodigy Monfils blows away Gaudio'], ['technology', 'Remote control rifle range debuts'], ['sport', 'Robinson ready for difficult task'], ['technology', 'Row brewing over peer-to-peer ads'], ['sport', 'Rusedski angry over supplements'], ['business', 'S Korean lender faces liquidation'], ['sport', 'SFA awaits report over Mikoliunas'], ['sport', 'Safin cool on Wimbledon'], ['sport', 'Safin plays down Wimbledon hopes'], ['technology', 'Satellite mapping aids Darfur relief'], ['technology', 'Search sites get closer to users'], ['technology', 'Security scares spark browser fix'], ['business', 'Senior Fannie Mae bosses resign'], ['technology', 'Solutions to net security fears'], ['business', 'Split-caps pay £194m compensation'], ['sport', 'Sports Stock Tips'], ['business', 'Strong quarterly growth for Nike'], ['technology', \"T-Mobile bets on 'pocket office'\"], ['sport', 'Thanou desperate to make return'], ['sport', 'Thompson says Gerrard should stay'], ['sport', 'Time to get tough on friendlies?'], ['technology', 'US peer-to-peer pirates convicted'], ['technology', 'US top of supercomputing charts'], ['business', 'Venezuela and China sign oil deal'], ['business', 'Weak end-of-year sales hit Next'], ['sport', 'Williams says he will never quit'], ['business', \"Winemaker rejects Foster's offer\"], ['business', \"Worldcom boss 'left books alone'\"], ['technology', 'Xbox 2 may be unveiled in summer'], ['technology', \"Xbox power cable 'fire fear'\"], ['business', \"Yangtze Electric's profits double\"], ['business', 'Yukos loses US bankruptcy battle'], ['business', '7 business technology trends to watch'], ['sport', 'A November to remember'], ['technology', 'A question of trust and technology'], ['business', 'Ad sales boost Time Warner profit'], ['sport', 'African double in Edinburgh'], ['business', 'Air passengers win new EU rights'], ['technology', 'Anti-spam screensaver scrapped'], ['sport', 'Arsenal through on penalties'], ['business', 'BP surges ahead on high oil price'], ['business', 'Bank holds interest rate at 4.75%'], ['business', 'Bank set to leave rates on hold'], ['sport', 'Bekele sets sights on world mark'], ['sport', 'Bitter Santini hits out at Spurs'], ['technology', 'Blogs take on the mainstream'], ['business', \"Brewers' profits lose their fizz\"], ['business', \"Bush to outline 'toughest' budget\"], ['business', \"Buyers snap up Jet Airways' shares\"], ['business', 'Cairn shares up on new oil find'], ['sport', 'Campbell to extend sprint career'], ['sport', 'Celtic make late bid for Bellamy'], ['sport', 'Charlton 1-2 Liverpool'], ['N/A', 'Article no longer available in archive'], ['sport', 'Chepkemei joins Edinburgh line-up'], ['N/A', 'Article no longer available in archive'], ['business', 'Chinese billionaire targets Manchester United shares in new deal, reports suggest'], ['sport', 'Collins calls for Chambers return'], ['technology', 'Commodore finds new lease of life'], ['technology', 'Creator of first Apple Mac dies'], ['sport', 'Cudicini misses Carling Cup final'], ['sport', 'Davenport hits out at Wimbledon'], ['sport', 'Davies favours Gloucester future'], ['business', 'Deutsche Telekom sees mobile gain'], ['sport', 'Dibaba breaks 5,000m world record'], ['sport', 'Dogged Federer claims Dubai crown'], ['business', 'Dollar hovers around record lows'], ['sport', 'Dundee Utd 4-1 Aberdeen'], ['business', 'EC calls truce in deficit battle'], ['business', 'EU-US seeking deal on air dispute'], ['business', 'Egypt and Israel seal trade deal'], ['business', 'Egypt to sell off state-owned bank'], ['sport', 'El Guerrouj targets cross country'], ['sport', 'FA ready to test out goal bleeper'], ['N/A', 'Article no longer available in archive'], ['business', 'FBI agent colludes with analyst'], ['technology', 'Fast moving phone bugs appear'], ['N/A', 'Article no longer available in archive'], ['sport', 'Ferguson fears Milan cutting edge'], ['sport', 'Finnan says Irish can win group'], ['sport', 'Fit-again Betsen in France squad'], ['business', 'Five million Germans out of work'], ['technology', \"Format wars could 'confuse users'\"], ['sport', 'Giggs handed Wales leading role'], ['technology', 'Gritty return for Prince of Persia'], ['sport', 'Hewitt survives Nalbandian epic'], ['business', 'Honda wins China copyright ruling'], ['business', 'India seeks to boost construction'], ['business', \"India's Deccan gets more planes\"], ['business', 'Indy buys into India paper'], ['business', 'Intercom raises €101m in funding round making it the most valuable Irish tech firm'], ['business', 'Iranian MPs threaten mobile deal'], ['business', 'Irish company hit by Iraqi report'], ['sport', 'Italy aim to rattle England'], ['business', 'Italy to get economic action plan'], ['sport', \"Juninho demand for O'Neill talks\"], ['sport', 'Kenyon denies Robben Barca return'], ['sport', 'Kerr frustrated at victory margin'], ['sport', 'Klinsmann issues Lehmann warning'], ['business', \"LSE 'sets date for takeover deal'\"], ['sport', 'Lewis-Francis eyeing world gold'], ['technology', \"Lifestyle 'governs mobile choice'\"], ['technology', 'Looks and music to drive mobiles'], ['sport', 'Man Utd through after Exeter test'], ['sport', 'Martinez sees off Vinci challenge'], ['technology', 'Microsoft makes anti-piracy move'], ['sport', 'Middlesbrough 2-2 Charlton'], ['sport', 'Mido makes third apology'], ['technology', 'Millions buy MP3 players in US'], ['business', 'Mixed signals from French economy'], ['technology', 'Mobile picture power in your pocket'], ['sport', 'Moore questions captaincy'], ['sport', 'More Africans for tsunami game'], ['sport', 'Murphy: That was a bruising battle'], ['sport', 'Navratilova hits out at critics'], ['sport', \"O'Driscoll out of Scotland game\"], ['sport', \"O'Gara revels in Ireland victory\"], ['sport', 'Owen dismisses fresh Real rumours'], ['technology', \"PC ownership to 'double by 2010'\"], ['sport', 'Paris promise raises Welsh hopes'], ['business', 'Parmalat sues 45 banks over crash'], ['technology', 'Progress on new internet domains'], ['business', 'Qantas considers offshore option'], ['sport', 'Radcliffe tackles marathon tasks'], ['sport', 'Rangers seal Old Firm win'], ['sport', 'Record fails to lift lacklustre meet'], ['business', 'Record year for Chilean copper'], ['sport', 'Republic to face China and Italy'], ['sport', 'Robben sidelined with broken foot'], ['technology', \"Robots learn 'robotiquette' rules\"], ['technology', \"Rolling out next generation's net\"], ['business', \"Russia WTO talks 'make progress'\"], ['technology', 'Screensaver tackles spam websites'], ['technology', 'Slim PlayStation triples sales'], ['business', 'Standard Life concern at LSE bid'], ['business', \"Steel firm 'to cut' 45,000 jobs\"], ['sport', 'Stuart joins Norwich from Addicks'], ['N/A', 'Article no longer available in archive'], ['technology', 'Sun offers processing by the hour'], ['technology', 'Tech helps disabled speed demons'], ['technology', 'Telewest to challenge Sky Plus'], ['sport', 'Thanou bullish over drugs hearing'], ['technology', 'The Force is strong in Battlefront'], ['technology', 'The gaming world in 2005'], ['business', 'Turkey knocks six zeros off lira'], ['business', 'UK Coal plunges into deeper loss'], ['business', 'US trade gap ballooned in October'], ['business', 'Unilever shake up as profit slips'], ['sport', 'Wales get Williams fitness boost'], ['sport', 'Wales stars need a rest - Ruddock'], ['business', \"Wall Street cool to eBay's profit\"], ['technology', 'Warnings about junk mail deluge'], ['technology', 'Web radio takes Spanish rap global'], ['sport', 'Wenger shock at Newcastle dip'], ['technology', 'When invention turns to innovation'], ['technology', 'Who do you think you are?'], ['sport', 'Wilkinson to miss Ireland match'], ['business', 'Winn-Dixie files for bankruptcy'], ['business', 'Yukos sues four firms for $20bn'], ['sport', 'A year to remember for Irish'], ['sport', 'An Irish Athletics Year'], ['sport', 'Arnesen denies rift with Santini'], ['business', 'Asia shares defy post-quake gloom'], ['business', 'Bank payout to Pinochet victims'], ['sport', 'Barcelona title hopes hit by loss'], ['business', 'Bargain calls widen Softbank loss'], ['sport', 'Bayern Munich 3-1 Arsenal'], ['sport', 'Benitez deflects blame from Dudek'], ['technology', 'Blog reading explodes in America'], ['technology', 'Broadband challenges TV viewing'], ['technology', 'Broadband in the UK growing fast'], ['sport', 'Calder fears for Scottish rugby'], ['sport', 'Captains lining up for Aid match'], ['sport', 'Celts savour Grand Slam prospect'], ['sport', 'Chelsea ridiculed over complaint'], ['business', 'China keeps tight rein on credit'], ['technology', 'China net cafe culture crackdown'], ['business', 'China suspends 26 power projects'], ['business', 'Christmas shoppers flock to tills'], ['sport', 'Collins named UK Athletics chief'], ['technology', 'Court mulls file-sharing future'], ['business', 'Crude oil prices back above $50'], ['technology', 'Cyber criminals step up the pace'], ['technology', 'DVD copy protection strengthened'], ['business', 'Deutsche attacks Yukos case'], ['sport', 'Disappointed Scott in solid start'], ['business', 'Durex maker SSL awaits firm bid'], ['technology', 'EA to take on film and TV giants'], ['sport', 'Edu blasts Arsenal'], ['N/A', 'Article no longer available in archive'], ['technology', 'Europe backs digital TV lifestyle'], ['sport', 'Farrell saga to drag on - Lindsay'], ['business', \"Featured: 'Golden economic period' to end\"], ['business', 'Feta cheese battle reaches court'], ['business', 'Firms pump billions into pensions'], ['technology', 'First look at PlayStation 3 chip'], ['business', 'Ford gains from finance not cars'], ['sport', 'Fuming Robinson blasts officials'], ['sport', 'GB quartet get cross country call'], ['technology', \"Gadget market 'to grow in 2005'\"], ['technology', 'Gadgets galore on show at fair'], ['technology', \"Games help you 'learn and play'\"], ['business', 'Gaming firm to sell UK dog tracks'], ['business', 'Germany nears 1990 jobless level'], ['sport', 'Greek pair attend drugs hearing'], ['sport', 'Gronkjaer agrees switch to Madrid'], ['N/A', 'Article no longer available in archive'], ['technology', \"Half of UK's mobiles 'go online'\"], ['sport', 'Hantuchova in Dubai last eight'], ['technology', 'Have hackers recruited your PC?'], ['sport', 'Healey targets England comeback'], ['business', 'High fuel costs hit US airlines'], ['business', \"High fuel prices hit BA's profits\"], ['technology', 'Hotspot users gain free net calls'], ['business', 'House prices drop as sales slow'], ['business', 'House prices show slight increase'], ['technology', 'ITunes user sues Apple over iPod'], ['business', 'India widens access to telecoms'], ['technology', 'Iran jails blogger for 14 years'], ['business', 'Irish duo could block Man Utd bid'], ['sport', 'Italy 8-38 Wales'], ['sport', 'Johnson uncertain about Euro bid'], ['sport', 'Kirwan demands Italy consistency'], ['business', 'Liberian economy starts to grow'], ['business', 'Malaysia lifts Islamic bank limit'], ['sport', 'Man Utd stroll to Cup win'], ['technology', 'Man auctions ad space on forehead'], ['business', \"Manufacturing recovery 'slowing'\"], ['business', 'Markets signal Brazilian recovery'], ['sport', 'Merritt close to indoor 400m mark'], ['technology', 'Microsoft debuts security tools'], ['technology', 'Microsoft releases patches'], ['business', 'Minister hits out at Yukos sale'], ['sport', 'Mirza shocks Kuznetsova'], ['N/A', 'Article no longer available in archive'], ['sport', 'Mourinho receives Robson warning'], ['sport', 'Moya emotional after Davis Cup win'], ['business', 'Nasdaq planning $100m share sale'], ['sport', 'Newcastle 2-1 Bolton'], ['sport', 'Newcastle to join Morientes race'], ['business', 'News Corp makes $5.4bn Fox offer'], ['business', 'Nigeria to boost cocoa production'], ['technology', 'Nintendo DS aims to touch gamers'], ['business', 'Novartis hits acquisition trail'], ['business', \"Profits stall at China's Lenovo\"], ['business', 'Putin backs state grab for Yukos'], ['business', 'Quiksilver moves for Rossignol'], ['sport', 'Redknapp poised for Saints'], ['sport', 'Robertson out to retain Euro lure'], ['technology', 'Seamen sail into biometric future'], ['business', 'Singapore growth at 8.1% in 2004'], ['N/A', 'Article no longer available in archive'], ['sport', 'Slovakia reach Hopman Cup final'], ['sport', 'Sociedad set to rescue Mladenovic'], ['technology', 'Sony wares win innovation award'], ['business', 'Soros group warns of Kazakh close'], ['technology', 'Sport-loving inventors whose tech could change the game'], ['sport', 'Sprinter Walker quits athletics'], ['N/A', 'Article no longer available in archive'], ['business', 'Stock market eyes Japan recovery'], ['business', 'Swiss cement firm in buying spree'], ['technology', 'Text message record smashed'], ['technology', 'The pirates with no profit motive'], ['business', 'Tsunami to cost Sri Lanka $1.3bn'], ['sport', 'UK Athletics agrees new kit deal'], ['technology', 'US cyber security chief resigns'], ['technology', 'US hacker breaks into T-Mobile'], ['business', 'US industrial output growth eases'], ['business', 'US insurer Marsh cuts 2,500 jobs'], ['business', 'US manufacturing expands'], ['business', 'US to rule on Yukos refuge call'], ['sport', 'Van Nistelrooy set to return'], ['sport', 'Vickery upbeat about arm injury'], ['technology', 'Video phones act as dating tools'], ['business', 'Virgin Blue shares plummet 20%'], ['N/A', 'Article no longer available in archive'], ['sport', 'Wada will appeal against ruling'], ['sport', 'Wales critical of clumsy Grewcock'], ['sport', 'Wales silent on Grand Slam talk'], ['sport', 'Wenger rules out new keeper'], ['sport', 'Wenger signs new deal'], ['business', 'Axa Sun Life cuts bonus payments'], ['technology', 'BT boosts its broadband packages'], ['sport', 'Bates seals takeover'], ['technology', 'Beckham virus spotted on the net'], ['technology', 'Broadband fuels online expression'], ['technology', 'Broadband in the UK gathers pace'], ['business', 'Burren awarded Egyptian contracts'], ['business', 'Business fears over sluggish EU economy'], ['sport', 'Candela completes Bolton switch'], ['business', 'Cannabis hopes for drug firm'], ['sport', 'Castaignede fires Laporte warning'], ['technology', \"Casual gaming to 'take off'\"], ['sport', 'Chelsea sack Mutu'], ['business', 'China Aviation seeks rescue deal'], ['sport', 'Classy Henman makes winning start'], ['sport', 'Collins banned in landmark case'], ['technology', 'Concerns over Windows ATMs'], ['sport', 'Connors boost for British tennis'], ['business', \"Crossrail link 'to get go-ahead'\"], ['N/A', 'Article no longer available in archive'], ['technology', 'Cyber crime booms in 2004'], ['technology', 'Disney backs Sony DVD technology'], ['business', 'Dollar slides ahead of New Year'], ['business', \"Economy 'stronger than forecast'\"], ['business', 'Electrolux to export Europe jobs'], ['business', \"Ethiopia's crop production up 24%\"], ['sport', 'FA charges Liverpool and Millwall'], ['sport', 'FA probes crowd trouble'], ['technology', \"Format wars could 'confuse users'\"], ['business', 'GM in crunch talks on Fiat future'], ['technology', 'Game makers get Xbox 2 sneak peek'], ['technology', 'Gamers could drive high-definition'], ['technology', 'Google launches TV search service'], ['sport', 'Harinordoquy suffers France axe'], ['sport', 'Hearts of Oak 3-2 Cotonsport'], ['sport', 'Hodges announces rugby retirement'], ['sport', 'Holmes feted with further honour'], ['technology', 'Honour for UK games maker'], ['sport', 'Houllier praises Benitez regime'], ['technology', 'Humanoid robot learns how to run'], ['sport', 'Ireland v USA (Sat)'], ['sport', 'Isinbayeva heads for Birmingham'], ['sport', 'Israeli club look to Africa'], ['technology', 'Junk e-mails on relentless rise'], ['sport', 'Kluft impressed by Sotherton form'], ['business', 'Latin America sees strong growth'], ['business', 'Libya takes $1bn in unfrozen funds'], ['technology', 'Loyalty cards idea for TV addicts'], ['sport', 'Man City 1-1 Newcastle'], ['sport', 'McCall earns Tannadice reprieve'], ['sport', 'McClaren eyes Uefa Cup top spot'], ['sport', \"McClaren hails Boro's Uefa spirit\"], ['sport', 'McIlroy aiming for Madrid title'], ['technology', 'Microsoft makes anti-piracy move'], ['technology', 'Microsoft seeking spyware trojan'], ['business', 'Mild winter drives US oil down 6%'], ['technology', 'Millions to miss out on the net'], ['sport', 'Minister digs in over doping row'], ['sport', 'Mirza makes Indian tennis history'], ['business', 'Mitsubishi in Peugeot link talks'], ['technology', 'Mobile multimedia slow to catch on'], ['technology', \"Mobiles 'not media players yet'\"], ['sport', 'Morientes admits to Reds struggle'], ['sport', 'Mourinho plots impressive course'], ['sport', 'Mourinho says race is almost over'], ['N/A', 'Article no longer available in archive'], ['sport', 'Moya sidesteps Davis Cup in 2005'], ['sport', 'Nadal marches on in Mexico'], ['technology', 'Nintendo adds media playing to DS'], ['sport', \"O'Connell rejects Lions rumours\"], ['sport', \"O'Driscoll concern at Fifa ruling\"], ['business', 'Oil prices fall back from highs'], ['business', 'Ore costs hit global steel firms'], ['sport', 'Parry relishes Anfield challenge'], ['business', 'Peugeot deal boosts Mitsubishi'], ['N/A', 'Article no longer available in archive'], ['technology', 'PlayStation 3 chip to be unveiled'], ['technology', 'Portable PlayStation ready to go'], ['sport', 'Premier League planning Cole date'], ['business', 'Qantas sees profits fly to record'], ['sport', 'Radcliffe yet to answer GB call'], ['sport', \"Redknapp's Saints face Pompey tie\"], ['sport', 'Reds sink 10-man Magpies'], ['business', 'Reliance unit loses Anil Ambani'], ['technology', 'Rich pickings for hi-tech thieves'], ['sport', 'Robinson out of Six Nations'], ['sport', 'Rovers reject third Ferguson bid'], ['sport', 'Saint-Andre anger at absent stars'], ['N/A', 'Article no longer available in archive'], ['business', 'Salary scandal in Cameroon'], ['technology', 'Slimmer PlayStation triple sales'], ['sport', 'Slovakia seal Hopman Cup success'], ['technology', 'Smart search lets art fans browse'], ['sport', 'Smith keen on Home series return'], ['sport', 'South Africa sweep top awards'], ['technology', 'Speak easy plan for media players'], ['technology', 'Speech takes on search engines'], ['business', \"Tokyo says deflation 'controlled'\"], ['business', 'Turkey turns on the economic charm'], ['business', \"Turkey-Iran mobile deal 'at risk'\"], ['business', \"UK 'risks breaking golden rule'\"], ['business', 'UK firm faces Venezuelan land row'], ['technology', 'UK pioneers digital film network'], ['business', 'US bank in $515m SEC settlement'], ['business', 'US crude prices surge above $53'], ['sport', 'Umaga ready for Lions'], ['business', 'Umbro profits lifted by Euro 2004'], ['technology', 'Virgin Radio offers 3G broadcast'], ['technology', 'Virus poses as Christmas e-mail'], ['technology', 'Voters flock to blog awards site'], ['sport', 'Wales want rugby league training'], ['sport', 'Wales win in Rome'], ['technology', 'Warning over tsunami aid website'], ['sport', 'Wolves appoint Hoddle as manager'], ['sport', 'Wood - Ireland can win Grand Slam'], ['business', 'World leaders gather to face uncertainty'], ['sport', 'Worthington praises classy Villa'], ['sport', 'Yachvili savours France comeback'], ['N/A', 'Article no longer available in archive'], ['business', 'Yukos heading back to US courts'], ['business', 'Yukos seeks court action on sale'], ['business', 'Yukos unit fetches $9bn at auction'], ['business', 'Air China in $1bn London listing'], ['sport', 'Angry Williams rejects criticism'], ['business', 'Apple Inc. Phone Pricing Likely To Trend Lower'], ['business', 'Argentina closes $102.6bn debt swap'], ['business', 'AstraZeneca hit by drug failure'], ['sport', 'Balco case trial date pushed back'], ['business', 'Battered dollar hits another low'], ['sport', 'Beckham hints at Man Utd return'], ['sport', 'Benitez joy as Reds take control'], ['technology', \"Blind student 'hears in colour'\"], ['technology', 'Blogger grounded by her airline'], ['business', 'Brazil jobless rate hits new low'], ['technology', 'Broadband set to revolutionise TV'], ['technology', 'Bush website blocked outside US'], ['business', 'Business confidence dips in Japan'], ['business', 'Businesses fail to plan for HIV'], ['sport', 'Campese berates whingeing England'], ['sport', 'Cech sets clean-sheet benchmark'], ['technology', \"China 'blocks Google news site'\"], ['business', 'China continues rapid growth'], ['business', 'Circuit City gets takeover offer'], ['sport', 'Claxton hunting first major medal'], ['technology', 'Consumer concern over RFID tags'], ['business', \"Continental 'may run out of cash'\"], ['business', 'Deadline nears for Fiat-GM deal'], ['business', \"Deutsche Boerse set to 'woo' LSE\"], ['technology', 'Domain system scam fear'], ['technology', 'Doors open at biggest gadget fair'], ['sport', 'Dunne keen to commit to Man City'], ['business', 'EMI shares hit by profit warning'], ['business', \"EU to probe Alitalia 'state aid'\"], ['sport', \"England 'to launch ref protest'\"], ['sport', 'Faye plans to stay at Portsmouth'], ['business', \"Featured: 'Strong dollar' call halts slide\"], ['sport', \"Ferguson hails Man Utd's resolve\"], ['sport', 'Fuming Robinson blasts officials'], ['business', 'Further rise in UK jobless total'], ['technology', 'Gadget growth fuels eco concerns'], ['technology', 'Gadget show heralds MP3 season'], ['technology', 'Games win for Blu-ray DVD format'], ['business', 'German business confidence slides'], ['sport', 'Gerrard future not decided by Cardiff loss'], ['technology', 'Halo 2 sells five million copies'], ['sport', 'Henin-Hardenne beaten on comeback'], ['sport', 'Hewitt falls to Dent in Adelaide'], ['technology', 'How to smash a home computer'], ['sport', 'Ireland call up uncapped Campbell'], ['business', 'Israel looks to US for bank chief'], ['sport', 'Keane defiant over Vieira bust-up'], ['sport', \"Kenya lift Chepkemei's suspension\"], ['business', 'Kraft cuts snack ads for children'], ['business', 'Lesotho textile workers lose jobs'], ['sport', 'Lomu relishing return to action'], ['business', 'Lufthansa may sue over Bush visit'], ['business', 'MCI shares climb on takeover bid'], ['business', \"MG Rover China tie-up 'delayed'\"], ['business', 'Making your office work for you'], ['sport', 'McIlroy continues winning streak'], ['technology', 'Mobile TV tipped as one to watch'], ['business', 'Monsanto fined $1.5m for bribery'], ['technology', 'Moving mobile improves golf swing'], ['sport', 'Nadal puts Spain 2-0 up'], ['business', 'Nasdaq planning $100m-share sale'], ['technology', \"New Year's texting breaks record\"], ['N/A', 'Article no longer available in archive'], ['technology', 'New consoles promise big problems'], ['technology', 'Nintendo DS makes its Euro debut'], ['sport', \"O'Connor aims to grab opportunity\"], ['sport', \"O'Leary agrees new Villa contract\"], ['N/A', 'Article no longer available in archive'], ['sport', \"O'Sullivan keeps his powder dry\"], ['technology', 'Online commons to spark debate'], ['technology', 'Online games play with politics'], ['business', 'Parmalat founder offers apology'], ['business', 'Parmalat to return to stockmarket'], ['technology', \"Peer-to-peer nets 'here to stay'\"], ['business', 'Pernod takeover talk lifts Domecq'], ['business', \"Profits jump at China's top bank\"], ['sport', 'Prop Jones ready for hard graft'], ['business', 'Qatar and Shell in $6bn gas deal'], ['business', \"Quake's economic costs emerging\"], ['sport', 'Real in talks over Gravesen move'], ['business', 'Rescue hope for Borussia Dortmund'], ['sport', 'Robben and Cole earn Chelsea win'], ['technology', 'Robotic pods take on car design'], ['sport', 'Roddick in talks over new coach'], ['business', 'SEC to rethink post-Enron rules'], ['technology', 'Santy worm makes unwelcome visit'], ['technology', 'Seamen sail into biometric future'], ['sport', 'Serena becomes world number two'], ['sport', 'Smith aims to bring back respect'], ['business', \"Soaring oil 'hits world economy'\"], ['technology', 'Software watching while you work'], ['technology', 'Sony PSP console hits US in March'], ['sport', 'TV calls after Carroll error'], ['technology', \"TV's future down the phone line\"], ['N/A', 'Article no longer available in archive'], ['business', \"The 'ticking budget' facing the US\"], ['business', 'Train strike grips Buenos Aires'], ['technology', 'UK broadband gets speed injection'], ['business', 'US adds more jobs than expected'], ['business', 'US economy shows solid GDP growth'], ['business', 'US economy still growing says Fed'], ['business', 'US in EU tariff chaos trade row'], ['business', 'US retail sales surge in December'], ['business', 'US trade gap hits record in 2004'], ['business', 'Ukraine revisits state sell-offs'], ['sport', 'Underdogs have more fun'], ['business', 'VW considers opening Indian plant'], ['business', 'Wal-Mart to pay $14m in gun suit'], ['sport', 'Wasps 31-37 Leicester'], ['technology', 'What high-definition will do to DVDs'], ['technology', 'Why Cell will get the hard sell'], ['sport', 'Wilkinson fit to face Edinburgh'], ['sport', \"Wilkinson return 'unlikely'\"], ['technology', 'Yahoo celebrates a decade online'], ['technology', 'Yahoo moves into desktop search'], ['technology', '2D Metal Slug offers retro fun'], ['technology', 'Anti-spam laws bite spammer hard'], ['technology', \"Apple laptop is 'greatest gadget'\"], ['technology', 'Apple makes blogs reveal sources'], ['technology', \"Apple unveils low-cost 'Mac mini'\"], ['business', \"Arsenal 'may seek full share listing'\"], ['business', 'BA to suspend two Saudi services'], ['business', 'BMW drives record sales in Asia'], ['business', 'BT offers equal access to rivals'], ['sport', 'Barwick calls for Highbury calm'], ['sport', 'Barwick installed as new FA boss'], ['technology', 'Be careful how you code'], ['business', 'Beer giant swallows Russian firm'], ['technology', 'Blinx sequel purrs nicely'], ['business', 'Bombardier chief to leave company'], ['technology', 'Bond game fails to shake or stir'], ['business', \"Britannia members' £42m windfall\"], ['technology', 'California sets fines for spyware'], ['business', 'Call to save manufacturing jobs'], ['sport', 'Can Smith work Scottish wonders?'], ['technology', 'Cebit fever takes over Hanover'], ['sport', 'Chelsea clinch cup in extra-time'], ['technology', \"China 'to overtake US net use'\"], ['business', 'China bans new tobacco factories'], ['sport', 'Davenport dismantles young rival'], ['business', \"Disaster claims 'less than $10bn'\"], ['business', 'Dollar drops on reserves concerns'], ['business', \"EU 'too slow' on economic reforms\"], ['sport', 'English clubs make Euro history'], ['business', 'Ex-Boeing director gets jail term'], ['sport', 'FA decides not to punish Mourinho'], ['technology', 'Fast lifts rise into record books'], ['technology', \"Featured: 'Blog' picked as word of the year\"], ['technology', \"Featured: 'Brainwave' cap controls computer\"], ['technology', \"Featured: 'Podcasters' look to net money\"], ['business', 'Fresh hope after Argentine crisis'], ['technology', \"Gadget market 'to grow in 2005'\"], ['technology', 'Gates opens biggest gadget fair'], ['sport', 'Gebrselassie in London triple bid'], ['sport', 'Gerrard plays down European hopes'], ['business', 'Giant waves damage S Asia economy'], ['business', 'Giving financial gifts to children'], ['business', 'Golden rule boost for Chancellor'], ['sport', 'Henman hopes ended in Dubai'], ['technology', \"Hitachi unveils 'fastest robot'\"], ['technology', 'Hotspot users gain free net calls'], ['business', 'How Manchester United, Knicks Wins Correlate With Stock Gains'], ['business', 'Hyundai to build new India plant'], ['business', 'Industrial revival hope for Japan'], ['business', 'Insurance bosses plead guilty'], ['business', 'Iraq and Afghanistan in WTO talks'], ['sport', 'Ireland surge past Scots'], ['sport', 'Italy 17-28 Ireland'], ['business', 'JP Morgan admits US slavery links'], ['sport', 'Keegan hails comeback king Fowler'], ['technology', 'Kenyan school turns to handhelds'], ['technology', 'Long life promised for laptop PCs'], ['business', 'M&S cuts prices by average of 24%'], ['business', 'MCI shareholder sues to stop bid'], ['business', 'Market unfazed by Aurora setback'], ['technology', 'Microsoft takes on desktop search'], ['business', \"Millions 'to lose textile jobs'\"], ['technology', 'Mobile networks seek turbo boost'], ['technology', \"Mobiles 'not media players yet'\"], ['technology', 'Mobiles double up as bus tickets'], ['technology', 'Mobiles rack up 20 years of use'], ['N/A', 'Article no longer available in archive'], ['sport', 'Mourinho takes swipe at Arsenal'], ['sport', 'Mourinho to escape FA charge'], ['technology', \"Net regulation 'still possible'\"], ['technology', 'New delay hits EU software laws'], ['business', 'Newest EU members underpin growth'], ['sport', 'No lack of Christmas spirit'], ['sport', \"O'Driscoll/Gregan lead Aid stars\"], ['business', 'Optimism remains over UK housing'], ['business', 'Orange colour clash set for court'], ['sport', 'Owen delighted with Real display'], ['technology', 'Pandas benefit from wireless net'], ['technology', 'Parents face video game lessons'], ['sport', 'Petit career ended by knee injury'], ['N/A', 'Article no longer available in archive'], ['sport', 'Plymouth 3-0 Sheff Utd'], ['sport', 'Preview: Ireland v England (Sun)'], ['sport', 'Prinz beats Hamm to Fifa trophy'], ['business', \"Profits slide at India's Dr Reddy\"], ['sport', 'Prutton poised for lengthy FA ban'], ['technology', 'Rivals of the £400 Apple...'], ['sport', 'Robinson answers critics'], ['sport', 'Rochus shocks Coria in Auckland'], ['business', \"Rover deal 'may cost 2,000 jobs'\"], ['N/A', 'Article no longer available in archive'], ['sport', 'Running around the Olympics'], ['business', \"SA unveils 'more for all' budget\"], ['business', 'SBC plans post-takeover job cuts'], ['business', 'Safety alert as GM recalls cars'], ['business', 'Saudi ministry to employ women'], ['technology', 'Savvy searchers fail to spot ads'], ['business', 'Shares hit by MS drug suspension'], ['business', 'Slowdown hits US factory growth'], ['technology', 'Spam e-mails tempt net shoppers'], ['technology', 'Text messages aid disaster recovery'], ['sport', 'The wonder of Ronaldinho'], ['technology', 'The year search became personal'], ['sport', 'Tomlinson stays focused on Europe'], ['N/A', 'Article no longer available in archive'], ['business', \"US bank boss hails 'genius' Smith\"], ['business', 'US consumer confidence up'], ['business', 'US trade deficit widens sharply'], ['sport', 'Uefa threat over foreign quotas'], ['business', \"Ukraine steel sell-off 'illegal'\"], ['business', 'Ukraine trims privatisation check'], ['sport', 'Venus stunned by Farina Elia'], ['sport', 'Video technology will not make football a mistake-free sport'], ['technology', 'Warning over Windows Word files'], ['business', 'Weak dollar trims Cadbury profits'], ['technology', 'Web helps collect aid donations'], ['sport', 'Wenger handed summer war chest'], ['technology', 'When technology gets personal'], ['technology', 'A decade of good website design'], ['sport', 'Agassi fear for Melbourne'], ['business', 'Ailing EuroDisney vows turnaround'], ['sport', 'Ajax refuse to rule out Jol move'], ['sport', 'Anelka apologises for criticism'], ['technology', 'Apple attacked over sources row'], ['technology', 'Apple iPod family expands market'], ['technology', 'Argonaut founder rebuilds empire'], ['sport', 'Arsenal 1-1 Sheff Utd'], ['business', 'Asia shares defy post-quake gloom'], ['business', 'Aviation firms eye booming India'], ['technology', 'BT program to beat dialler scams'], ['business', 'Bat spit drug firm goes to market'], ['sport', 'Bees handed potential Man Utd tie'], ['sport', 'Blackburn v Burnley'], ['business', 'Boeing unveils new 777 aircraft'], ['sport', 'Breaking news: US company admits Benin bribery'], ['technology', 'Broadband in the UK growing fast'], ['sport', 'Bryan twins keep US hopes alive'], ['business', 'Building giant in asbestos payout'], ['technology', 'California sets fines for spyware'], ['business', 'Call to overhaul UK state pension'], ['sport', 'Campbell to be Lions consultant'], ['sport', 'Cantona issues Man Utd job hint'], ['business', 'Chinese exports rise 25% in 2004'], ['sport', 'Clijsters could play Aussie Open'], ['sport', 'Corry backs skipper Robinson'], ['technology', 'DVD copy protection strengthened'], ['sport', 'Dallaglio his own man to the end'], ['sport', 'Dawson wins England squad recall'], ['sport', 'Dementieva prevails in Hong Kong'], ['technology', 'Disney backs Sony DVD technology'], ['sport', 'Dominici backs lacklustre France'], ['technology', 'Dublin hi-tech labs to shut down'], ['business', 'Ebbers denies WorldCom fraud'], ['sport', 'England coach faces rap after row'], ['business', \"European losses hit GM's profits\"], ['sport', 'Fifa agrees goal-line technology'], ['technology', 'Freeze on anti-spam campaign'], ['business', 'French boss to leave EADS'], ['business', 'German economy rebounds'], ['business', 'Glazer makes new Man Utd approach'], ['technology', 'Google to scan famous libraries'], ['sport', \"Greek sprinters 'won't run again'\"], ['sport', 'Greek sprinters suspended by IAAF'], ['sport', 'Gunners clock up winning record'], ['technology', 'Halo 2 heralds traffic explosion'], ['sport', 'Henson stakes early Lions claim'], ['sport', 'Hewitt fights back to reach final'], ['sport', 'Holmes is hit by hamstring injury'], ['technology', 'IBM frees 500 software patents'], ['N/A', 'Article no longer available in archive'], ['business', \"India's Reliance family feud heats up\"], ['business', \"India's rupee hits five-year high\"], ['technology', 'Ink helps drive democracy in Asia'], ['sport', 'Irish finish with home game'], ['business', 'J&J agrees $25bn Guidant deal'], ['sport', 'Johansson takes Adelaide victory'], ['sport', 'Jones doping probe begins'], ['sport', 'Kenteris denies faking road crash'], ['business', 'Khodorkovsky quits Yukos shares'], ['technology', 'Latest Opera browser gets vocal'], ['N/A', 'Article no longer available in archive'], ['sport', 'Legendary Dutch boss Michels dies'], ['sport', 'Lions blow to World Cup stars'], ['sport', 'Liverpool revel in night of glory'], ['business', 'Man Utd to open books to Glazer'], ['sport', 'Man Utd urged to seal Giggs deal'], ['sport', 'Melzer shocks Agassi in San Jose'], ['technology', 'Microsoft debuts security tools'], ['technology', 'Millions buy MP3 players in US'], ['technology', 'Mobile multimedia slow to catch on'], ['technology', 'Mobiles get set for visual radio'], ['technology', 'Mobiles rack up 20 years of use'], ['sport', 'Molby says Gravesen is Real deal'], ['technology', 'More power to the people says HP'], ['technology', \"Musicians 'upbeat' about the net\"], ['business', 'News Corp eyes video games market'], ['N/A', 'Article no longer available in archive'], ['technology', 'No half measures with Half-Life 2'], ['sport', 'Parmar ruled out of Davis Cup tie'], ['sport', 'Philippoussis doubt over Open bid'], ['technology', 'Pompeii gets digital make-over'], ['business', 'Q&A: Malcolm Glazer and Man Utd'], ['sport', 'Radcliffe eyes hard line on drugs'], ['sport', 'Real will finish abandoned match'], ['sport', 'Ref stands by Scotland decisions'], ['sport', 'Robinson wants dual code success'], ['sport', \"Roche 'turns down Federer offer'\"], ['N/A', 'Article no longer available in archive'], ['sport', 'Roddick splits from coach Gilbert'], ['sport', 'Ronaldinho denies Blues interest'], ['business', 'S Korea spending boost to economy'], ['business', 'S Korean consumers spending again'], ['business', 'Saudi investor picks up the Savoy'], ['sport', 'Sella wants Michalak recall'], ['business', 'Share boost for feud-hit Reliance'], ['business', 'Shares rise on new Man Utd offer'], ['technology', \"Sony PSP tipped as a 'must-have'\"], ['sport', 'Souness eyes summer move for Owen'], ['technology', 'Souped-up wi-fi is on the horizon'], ['business', 'South African car demand surges'], ['sport', 'Stam spices up Man Utd encounter'], ['sport', 'Tapping-up row is so much hot air'], ['technology', 'Technology gets the creative bug'], ['technology', 'Technology in rugby: GPS systems continue to grow in importance'], ['sport', 'Tindall aiming to earn Lions spot'], ['sport', 'Tindall wants second opinion'], ['business', \"Tsunami 'to hit Sri Lanka banks'\"], ['business', \"UK economy facing 'major risks'\"], ['business', 'US Ahold suppliers face charges'], ['business', 'US data sparks inflation worries'], ['business', 'US interest rate rise expected'], ['technology', 'US peer-to-peer pirates convicted'], ['sport', 'Umaga ready for \"fearsome\" Lions'], ['technology', 'Virus poses as Christmas e-mail'], ['business', 'Wal-Mart fights back at accusers'], ['sport', 'Wales coach elated with win'], ['N/A', 'Article no longer available in archive'], ['business', 'Warning over US pensions deficit'], ['technology', 'Web photo storage market hots up'], ['technology', 'Web radio takes Spanish rap global'], ['sport', 'Wenger keeping faith with Almunia'], ['sport', 'Wenger steps up row'], ['sport', 'What now for British tennis?'], ['sport', 'White admits to Balco drugs link'], ['technology', 'World tour for top video gamers'], ['business', '$1m payoff for former Shell boss'], ['technology', 'Anti-tremor mouse stops PC shakes'], ['technology', \"Apple unveils low-cost 'Mac mini'\"], ['business', 'Argentina, Venezuela in oil deal'], ['sport', 'Argentine great Caniggia retires'], ['business', 'Banker loses sexism claim'], ['business', 'Beijingers fume over parking fees'], ['sport', 'Bell set for England debut'], ['sport', 'Benitez issues warning to Gerrard'], ['sport', 'Blackburn 0-1 Chelsea'], ['business', 'Brazil plays down Varig rescue'], ['technology', 'Britons fed up with net service'], ['technology', 'Broadband takes on TV viewing'], ['business', 'Brussels raps mobile call charges'], ['sport', 'Butler strikes gold in Spain'], ['sport', 'Chelsea denied by James heroics'], ['business', 'China had role in Yukos split-up'], ['sport', 'Clijsters hope on Aussie Open'], ['sport', 'Costin aims for comeback in 2006'], ['business', \"DaimlerChrysler's 2004 sales rise\"], ['sport', 'Dal Maso in to replace Bergamasco'], ['sport', 'Davenport hits out at Wimbledon'], ['sport', 'Dein concerned by Chelsea stance'], ['business', 'Deutsche Boerse boosts dividend'], ['business', 'EU ministers to mull jet fuel tax'], ['business', 'Euronext joins bid battle for LSE'], ['technology', \"Featured: 'No re-draft' for EU patent law\"], ['technology', \"Featured: 'Ultimate game' award for Doom 3\"], ['N/A', 'Article no longer available in archive'], ['business', 'Fed chief warning on US deficit'], ['sport', 'Ferguson rues failure to cut gap'], ['business', 'GM pays $2bn to evade Fiat buyout'], ['business', 'GSK aims to stop Aids profiteers'], ['technology', 'GTA sequel is criminally good'], ['technology', 'Gamer buys $26,500 virtual land'], ['technology', \"Google's toolbar sparks concern\"], ['sport', 'Greene sets sights on world title'], ['sport', 'Henman to face Saulnier test'], ['sport', 'Holmes back on form in Birmingham'], ['business', 'Home loan approvals rising again'], ['business', 'Huge rush for Jet Airways shares'], ['technology', 'IBM puts cash behind Linux push'], ['business', 'India unveils anti-poverty budget'], ['sport', 'Injury doubts beset Wales squad'], ['technology', 'Intercom Are Doubling Their Product Teams In SF, Dublin & London'], ['sport', 'Ireland 19-13 England'], ['sport', \"Ireland win eclipses refereeing 'errors'\"], ['N/A', 'Article no longer available in archive'], ['business', 'Japan economy slides to recession'], ['business', \"Japan's ageing workforce: built to last\"], ['N/A', 'Article no longer available in archive'], ['business', 'Japanese growth grinds to a halt'], ['business', 'Jobs go at Oracle after takeover'], ['business', 'Jobs growth still slow in the US'], ['sport', 'Johnson accuses British sprinters'], ['business', \"LSE doubts boost bidders' shares\"], ['technology', 'Lasers help bridge network gaps'], ['sport', 'Lewis-Francis turns to Christie'], ['sport', 'Man City 0-2 Man Utd'], ['sport', \"Man Utd women's team to be axed\"], ['business', 'Markets fall on weak dollar fears'], ['business', 'Marsh executive in guilty plea'], ['business', \"McDonald's boss Bell dies aged 44\"], ['sport', 'McIlroy wins 800m indoor title'], ['business', 'Mexican in US send $16bn home'], ['technology', 'Microsoft launches its own search'], ['technology', 'Microsoft releases bumper patches'], ['technology', 'Microsoft sets sights on spyware'], ['business', 'Mixed Christmas for US retailers'], ['business', 'Mixed reaction to Man Utd offer'], ['sport', 'Murray to make Cup history'], ['technology', 'Musical future for phones'], ['technology', 'Net fingerprints combat attacks'], ['technology', 'New browser wins over net surfers'], ['business', 'News Corp eyes video games market'], ['business', 'No seasonal lift for house market'], ['sport', \"O'Sullivan quick to hail Italians\"], ['business', 'Online News poll indicates economic gloom'], ['business', 'Parmalat boasts doubled profits'], ['technology', 'PlayStation 3 processor unveiled'], ['technology', 'Podcasts mark rise of DIY radio'], ['business', 'Police detain Chinese milk bosses'], ['sport', 'Poll explains free-kick decision'], ['sport', 'Radcliffe proves doubters wrong'], ['sport', 'Radcliffe will compete in London'], ['sport', 'Roddick into San Jose final'], ['sport', \"Ruddock backs Yapp's credentials\"], ['business', 'S&N extends Indian beer venture'], ['sport', 'SA return to Mauritius'], ['sport', 'Safin slumps to shock Dubai loss'], ['business', \"Sales 'fail to boost High Street'\"], ['sport', 'Santini resigns as Spurs manager'], ['sport', \"Serena ends Sania Mirza's dream\"], ['technology', 'Set your television to wow'], ['business', \"Small firms 'hit by rising costs'\"], ['sport', 'Souness delight at Euro progress'], ['sport', 'Stars shine for tsunami benefit'], ['sport', 'Strachan turns down Pompey'], ['business', 'Strong demand triggers oil rally'], ['sport', 'Sydney to host north v south game'], ['business', 'Telegraph newspapers axe 90 jobs'], ['business', 'UK bank seals South Korean deal'], ['business', 'UK homes hit £3.3 trillion total'], ['business', 'US Airways staff agree to pay cut'], ['business', 'US budget deficit to reach $368bn'], ['business', 'US interest rates increased to 2%'], ['technology', 'US woman sues over ink cartridges'], ['sport', 'Uganda FA suspended'], ['business', 'Ukraine strikes Turkmen gas deal'], ['technology', 'Video phone help for deaf people'], ['technology', 'Viewers to be able to shape TV'], ['sport', 'WRU proposes season overhaul'], ['business', 'Watchdog probes Vivendi bond sale'], ['business', 'Weak data buffets French economy'], ['sport', 'White prepared for battle'], ['sport', 'Williams stays on despite dispute'], ['business', 'Wipro beats forecasts once again'], ['business', \"WorldCom bosses' $54m payout\"], ['sport', 'Young debut cut short by Ginepri'], ['sport', \"Adriano's Chelsea link rejected\"], ['business', \"Alfa Romeos 'to get GM engines'\"], ['business', 'Amex shares up on spin-off news'], ['technology', 'Apple attacked over sources row'], ['sport', 'Aragones angered by racism fine'], ['business', \"Asian banks halt dollar's slide\"], ['technology', 'Attack prompts Bush site block'], ['sport', 'Beckham relief as Real go through'], ['sport', \"Beckham's chat reigns in Spain\"], ['sport', 'Blatter suggests offside change'], ['sport', 'Bomb threat at Bernabeu stadium'], ['sport', 'Bristol City 2-1 Milton Keynes'], ['business', 'Cairn Energy in Indian gas find'], ['sport', 'Campbell lifts lid on United feud'], ['technology', 'Can Yahoo dominate next decade?'], ['business', 'Cars pull down US retail figures'], ['sport', 'Chelsea 3-0 Portsmouth'], ['sport', 'Chepkemei hit by big ban'], ['business', \"Chinese dam firm 'defies Beijing'\"], ['technology', 'Concern over RFID tags'], ['sport', 'Davenport puts retirement on hold'], ['business', 'Dollar hits new low versus euro'], ['technology', 'Domain system opens door to scams'], ['business', 'Dutch bank to lay off 2,850 staff'], ['sport', 'Edgy Agassi struggles past Dent'], ['sport', 'Edwards tips Idowu for Euro gold'], ['business', 'Electronics firms eye plasma deal'], ['sport', 'England claim Dubai Sevens glory'], ['sport', \"England's defensive crisis grows\"], ['business', 'Ericsson sees earnings improve'], ['business', 'FAO warns on impact of subsidies'], ['sport', 'Faultless Federer has no equal'], ['sport', 'Fear will help France - Laporte'], ['technology', \"Featured: 'No re-draft' for EU patent law\"], ['N/A', 'Article no longer available in archive'], ['sport', 'Ferguson urges Henry punishment'], ['sport', 'Ferrero eyes return to top form'], ['business', 'Fiat chief takes steering wheel'], ['technology', 'Football Manager scores big time'], ['technology', 'Freeze on anti-spam campaign'], ['business', 'French suitor holds LSE meeting'], ['sport', 'Funding cut hits Wales Students'], ['technology', 'Gadget show heralds MP3 Christmas'], ['technology', \"Games firms 'face tough future'\"], ['business', 'Georgia plans hidden asset pardon'], ['business', 'German jobless rate at new record'], ['sport', 'Gerrard happy at Anfield'], ['business', 'Go-ahead for Balkan oil pipeline'], ['business', \"Golden rule 'intact' says ex-aide\"], ['sport', 'Henman overcomes rival Rusedski'], ['sport', 'Henry tipped for Fifa award'], ['sport', 'Highbury tunnel players in clear'], ['sport', 'Holmes urged to compete at Worlds'], ['technology', 'How to make a gigapixel picture'], ['sport', \"IAAF awaits Greek pair's response\"], ['business', 'ID theft surge hits US consumers'], ['N/A', 'Article no longer available in archive'], ['business', 'India and Russia in energy talks'], ['business', \"Indonesia 'declines debt freeze'\"], ['technology', 'Intel unveils laser breakthrough'], ['business', 'Iran budget seeks state sell-offs'], ['business', 'Iraq to invite phone licence bids'], ['sport', 'Ireland 17-12 South Africa'], ['sport', 'Ireland 21-19 Argentina'], ['business', 'Jarvis sells Tube stake to Spain'], ['business', 'Krispy Kreme shares hit'], ['sport', \"Kuznetsova 'failed a drugs test'\"], ['sport', 'Laporte tinkers with team'], ['sport', 'Lions blow to World Cup winners'], ['N/A', 'Article no longer available in archive'], ['technology', 'Local net TV takes off in Austria'], ['technology', 'Losing yourself in online gaming'], ['technology', 'Media gadgets get moving'], ['N/A', 'Article no longer available in archive'], ['technology', 'Mobile gaming takes off in India'], ['technology', \"More movies head to Sony's PSP\"], ['technology', 'More women turn to net security'], ['sport', 'Mourinho expects fight to finish'], ['sport', 'Moya clinches Cup for Spain'], ['sport', 'Newcastle 27-27 Gloucester'], ['sport', \"O'Driscoll saves Irish blushes\"], ['sport', \"O'Sullivan could run in Worlds\"], ['sport', 'Old Firm pair handed suspensions'], ['technology', 'Online News leads interactive Bafta wins'], ['business', 'Palestinian economy in decline'], ['technology', \"Putting a face to 'Big Brother'\"], ['business', 'Rich grab half Colombia poor fund'], ['business', 'Russia gets investment blessing'], ['business', 'Saab to build Cadillacs in Sweden'], ['technology', \"Security warning over 'FBI virus'\"], ['sport', 'Spain coach faces racism inquiry'], ['technology', 'Spam e-mails tempt net shoppers'], ['technology', 'Sporting rivals go to extra time'], ['business', 'Standard Life cuts policy bonuses'], ['business', 'Stormy year for property insurers'], ['technology', 'Swap offer for pirated Windows XP'], ['sport', 'Sydney return for Henin-Hardenne'], ['business', 'Takeover rumour lifts Exel shares'], ['sport', 'Tanzania gets Fifa backing'], ['technology', 'Technology hijacked sports'], ['technology', 'Tough rules for ringtone sellers'], ['sport', 'Trial date is set for Balco case'], ['business', 'UK house prices dip in November'], ['business', 'UK interest rates held at 4.75%'], ['business', \"Venezuela identifies 'idle' farms\"], ['sport', 'Verdict delay for Greek sprinters'], ['business', \"Verizon 'seals takeover of MCI'\"], ['business', 'Vodafone appoints new Japan boss'], ['business', 'WMC says Xstrata bid is too low'], ['technology', 'Warnings on woeful wi-fi security'], ['business', \"Wembley firm won't make a profit\"], ['business', 'Will Manchester United plc Short Squeeze Soon'], ['business', 'Worldcom director ends evidence'], ['sport', 'Yeading face Newcastle in FA Cup'], ['business', 'Yukos owner sues Russia for $28bn'], ['business', 'Yukos unit buyer faces loan claim'], ['sport', 'A need to limit foreign numbers'], ['technology', 'Apple iPod family expands market'], ['technology', \"Apple sues 'Tiger' file sharers\"], ['technology', 'Apple sues to stop product leaks'], ['sport', 'Athens memories soar above lows'], ['technology', 'Ban hits Half-Life 2 pirates hard'], ['sport', 'Bath faced with Tindall ultimatum'], ['sport', 'Bellamy fined after row'], ['business', 'Brazil approves bankruptcy reform'], ['sport', 'Britain boosted by Holmes double'], ['technology', 'Britons fed up with net service'], ['business', 'Cactus diet deal for Phytopharm'], ['business', \"Call centre users 'lose patience'\"], ['sport', 'Call for Kenteris to be cleared'], ['technology', 'Call for action on internet scam'], ['technology', \"Camera phones are 'must-haves'\"], ['business', \"China's Shanda buys stake in Sina\"], ['technology', 'Chip maker backs net phone calls'], ['N/A', 'Article no longer available in archive'], ['sport', 'Cole refuses to blame van Persie'], ['sport', 'Collins appeals against drugs ban'], ['business', 'Consumers drive French economy'], ['sport', 'Crusaders 2-3 Ballymena United'], ['sport', 'Desailly backs Blues revenge trip'], ['technology', 'Digital guru floats sub-$100 PC'], ['technology', 'Doors open at biggest gadget fair'], ['sport', 'Double injury blow strikes Wales'], ['technology', 'EU software patent law faces axe'], ['business', \"Ebbers 'aware' of WorldCom fraud\"], ['sport', 'England given tough Sevens draw'], ['technology', 'Europe backs digital TV lifestyle'], ['business', 'Executive trio leave Aer Lingus'], ['sport', 'FA Cup losing its sheen'], ['technology', 'Fast moving phone viruses appear'], ['business', \"Featured: 'Standoff' on Deutsche's LSE bid\"], ['technology', \"Featured: 'Ultimate game' award for Doom 3\"], ['sport', 'Federer joins all-time greats'], ['sport', \"Formula 1: US-Qatari investors 'to bid for sport'\"], ['business', 'Fosters buys stake in winemaker'], ['business', 'French consumer spending rising'], ['technology', \"Games 'deserve a place in class'\"], ['sport', 'Gatlin and Hayes win Owen awards'], ['business', 'German bidder in talks with LSE'], ['technology', 'Global blogger action day called'], ['sport', 'Greece defy the odds at Euro 2004'], ['sport', 'Greek pair set for hearing'], ['technology', \"Halo fans' hope for sequel\"], ['business', 'Hariri killing hits Beirut shares'], ['sport', 'Hodgson relishes European clashes'], ['sport', 'Hong Kong in 2011 World Cup bid'], ['sport', 'IAAF will contest Greek decision'], ['technology', 'IBM puts cash behind Linux push'], ['business', 'IMF agrees fresh Turkey funding'], ['business', 'India and Iran in gas export deal'], ['business', 'India power shares jump on debut'], ['business', \"India's Deccan seals $1.8bn deal\"], ['business', 'Indian oil firm eyes Yukos assets'], ['business', 'Israeli economy picking up pace'], ['business', 'Japan bank shares up on link talk'], ['business', 'Japanese mogul arrested for fraud'], ['sport', 'Kewell waits as injury drags on'], ['business', 'Khodorkovsky ally denies charges'], ['sport', 'Leeds v Saracens (Fri)'], ['sport', 'Liverpool pledge to keep Gerrard'], ['sport', 'Llewellyn plans Wales retirement'], ['business', \"Lloyd's of London head chides FSA\"], ['sport', 'Mauresmo opens with victory in LA'], ['N/A', 'Article no longer available in archive'], ['business', 'Metlife buys up Citigroup insurer'], ['technology', 'Microsoft seeking spyware trojan'], ['technology', 'Mobile audio enters new dimension'], ['technology', 'Mobile networks seek turbo boost'], ['technology', \"Movie body targets children's PCs\"], ['technology', 'Napster offers rented music to go'], ['technology', 'New business technology trends'], ['sport', 'Nike defends under-fire football'], ['technology', 'Nintendo handheld given Euro date'], ['business', 'Nissan names successor to Ghosn'], ['technology', 'Nuclear body seeks new tech'], ['business', 'Oil prices reach three-month low'], ['technology', 'Open source leaders slam patents'], ['sport', 'Owen determined to stay in Madrid'], ['sport', 'Owen set for skipper role'], ['technology', \"Peer-to-peer nets 'here to stay'\"], ['business', 'Pension hitch for long-living men'], ['N/A', 'Article no longer available in archive'], ['sport', 'Radcliffe enjoys winning comeback'], ['technology', 'Reboot ordered for EU patent law'], ['N/A', 'Article no longer available in archive'], ['sport', 'Relay squad thrilled with honours'], ['sport', 'Reyes tricked into Real admission'], ['technology', 'Rings of steel combat net attacks'], ['sport', 'Rivals back anti-racism campaign'], ['business', 'Ryanair in $4bn Boeing plane deal'], ['sport', 'SA supports Fifa control'], ['sport', 'Safin relieved at Aussie recovery'], ['N/A', 'Article no longer available in archive'], ['sport', 'Scotland 18-10 Italy'], ['sport', 'Sculthorpe wants Lions captaincy'], ['business', 'Sluggish economy hits German jobs'], ['sport', 'Souness backs Smith for Scotland'], ['technology', 'Speak easy plan for media players'], ['business', 'Steady job growth continues in US'], ['technology', 'Sun offers processing by the hour'], ['technology', 'Supercomputer breaks speed record'], ['technology', 'TV future in the hands of viewers'], ['business', 'Tate & Lyle boss bags top award'], ['sport', 'Taylor poised for Scotland return'], ['sport', 'Tevez - an Argentine in Brazil'], ['technology', 'Tough rules for ringtone sellers'], ['business', 'Tsunami cost hits Jakarta shares'], ['business', 'Two Nigerian banks set to merge'], ['technology', 'UK net users leading TV downloads'], ['business', \"US bank 'loses' customer details\"], ['technology', 'US duo in first spam conviction'], ['business', 'US firm pulls out of Iraq'], ['business', 'US gives foreign firms extra time'], ['business', 'US prepares for hybrid onslaught'], ['sport', 'Van Nistelrooy hungry for return'], ['business', 'WMC profits up amid bid criticism'], ['technology', 'Web logs aid disaster recovery'], ['N/A', 'Article no longer available in archive'], ['sport', 'Wenger offers Mutu hope'], ['sport', 'What now for Kelly Holmes?'], ['sport', 'Why technology in sport poses a threat to keeping the game fair, safe and affordable'], ['sport', 'Williams battles to Aussie title'], ['business', 'WorldCom director admits lying'], ['business', \"Yukos bankruptcy 'not US matter'\"], ['sport', 'All Black magic: New Zealand rugby'], ['sport', \"Anelka 'eyes Man City departure'\"], ['technology', 'Apple Mac mini gets warm welcome'], ['technology', \"Apple laptop is 'greatest gadget'\"], ['business', 'Asia quake increases poverty risk'], ['technology', 'Ask Jeeves joins web log market'], ['business', 'Australia rates at four year high'], ['business', 'BMW reveals new models pipeline'], ['business', 'BMW to recall faulty diesel cars'], ['business', 'Ban on forced retirement under 65'], ['business', 'Bank opts to leave rates on hold'], ['business', 'Bank voted 8-1 for no rate change'], ['business', 'Barclays profits hit record level'], ['sport', 'Beckham rules out management move'], ['business', 'Boeing secures giant Japan order'], ['sport', \"Bookies pay out on Spurs 'goal'\"], ['business', 'Booming markets shed few tears'], ['sport', 'Borders 19-20 Ulster'], ['sport', 'Bortolami predicts dour contest'], ['sport', 'Brentford v Southampton'], ['sport', 'Bridge could miss rest of season'], ['technology', \"Britons growing 'digitally obese'\"], ['technology', 'Broadband fuels online change'], ['business', 'Budget Aston takes on Porsche'], ['sport', 'Campbell rescues Arsenal'], ['business', 'Car giant hit by Mercedes slump'], ['sport', 'Celtic unhappy over Bulgaria date'], ['sport', 'Collins to compete in Birmingham'], ['technology', 'Computer grid to help the world'], ['sport', \"Connors' rallying cry for British tennis\"], ['technology', \"Consumers 'snub portable video'\"], ['business', 'Court rejects $280bn tobacco case'], ['business', 'Criminal probe on Citigroup deals'], ['sport', 'Dawson joins England injury list'], ['sport', 'Desailly backs Blues revenge trip'], ['N/A', 'Article no longer available in archive'], ['technology', 'Digital UK driven by net and TV'], ['business', 'Disney settles disclosure charges'], ['sport', 'Downing injury mars Uefa victory'], ['sport', 'Duff ruled out of Barcelona clash'], ['business', 'ECB holds rates amid growth fears'], ['technology', 'EU software patent law delayed'], ['business', 'Fiat mulls Ferrari market listing'], ['technology', 'Finding new homes for old phones'], ['technology', 'Firefox browser takes on Microsoft'], ['technology', 'France starts digital terrestrial'], ['business', 'G7 backs Africa debt relief plan'], ['sport', 'GB select Holmes for double bid'], ['business', 'GM, Ford cut output as sales fall'], ['sport', 'Gallas sees two-horse race'], ['technology', 'Games enter the classroom'], ['sport', 'Gardener battles to narrow win'], ['business', 'Gold falls on IMF sale concerns'], ['business', 'Green reports shun supply chain'], ['technology', 'Half-Life 2 sweeps Bafta awards'], ['sport', 'Hearts 2-1 Livingston'], ['sport', 'Hingis to make unexpected return'], ['sport', \"Hitzlsperger waiting on O'Leary\"], ['technology', 'How to make a greener computer'], ['sport', 'IAAF to rule on Greek sprint pair'], ['business', \"IMF 'cuts' German growth estimate\"], ['business', 'Indonesians face fuel price rise'], ['technology', 'Internet boom for gift shopping'], ['sport', 'Iranian misses Israel match'], ['business', 'Japanese banking battle at an end'], ['sport', 'Johnson announces June retirement'], ['sport', 'Johnson edges out rival Sotherton'], ['sport', \"Jol joy at 'professional' Cup win\"], ['sport', 'Jones files Conte lawsuit'], ['technology', 'Junk e-mails on relentless rise'], ['business', 'Karachi stocks hit historic high'], ['technology', 'Kenyan school turns to handhelds'], ['technology', 'Looks and music to drive mobiles'], ['business', \"McDonald's to sponsor MTV show\"], ['sport', 'Mexicans tracking unhappy Juninho'], ['technology', 'Microsoft gets the blogging bug'], ['N/A', 'Article no longer available in archive'], ['business', 'Millions go missing at China bank'], ['technology', \"Mobile music challenges 'iPod age'\"], ['sport', 'Moody joins up with England'], ['sport', 'Mourinho defiant on Chelsea form'], ['technology', 'Movie body hits peer-to-peer nets'], ['sport', 'Moya emotional at Davis Cup win'], ['sport', 'Newry to fight cup exit in courts'], ['technology', \"Norway upholds 'Napster' ruling\"], ['technology', 'Online News web search aids odd queries'], ['technology', 'PC photo printers challenge pros'], ['sport', 'Palace threat over Cantona masks'], ['business', 'Parmalat bank barred from suing'], ['sport', 'Pennant guilty of wasting talent'], ['sport', 'Player burn-out worries Robinson'], ['business', 'Qwest may spark MCI bidding war'], ['business', \"Rank 'set to sell off film unit'\"], ['sport', 'Reaction from Spanish press'], ['business', 'Retail sales show festive fervour'], ['sport', 'Roddick to face Saulnier in final'], ['N/A', 'Article no longer available in archive'], ['sport', 'Rush future at Chester uncertain'], ['business', 'Russian oil merger excludes Yukos'], ['business', 'S Korean credit card firm rescued'], ['sport', 'Scrum-half Williams rejoins Bath'], ['technology', 'Smartphones suffer Skulls attack'], ['technology', 'Software watching while you work'], ['sport', \"Sports Direct investors veto £11m payout to Ashley's brother\"], ['business', 'Survey confirms property slowdown'], ['sport', 'Tartan Army given safety pledge'], ['sport', 'Teenager Tait picked for England'], ['technology', 'Text message record smashed again'], ['sport', 'Thomas out of Six Nations'], ['business', 'Tobacco giants hail court ruling'], ['technology', 'Toxic web links help virus spread'], ['business', \"Tsunami slows Sri Lanka's growth\"], ['business', 'UK young top Euro earnings league'], ['technology', 'US duo in first spam conviction'], ['business', 'US regulator to rule on pain drug'], ['technology', \"US state acts to stop 'spammers'\"], ['business', 'US to probe airline travel chaos'], ['sport', 'Wales hails new superstar'], ['N/A', 'Article no longer available in archive'], ['business', 'Wall Street cheers Bush victory'], ['technology', \"What price for 'trusted PC security'?\"], ['sport', 'Wilkinson to lead England'], ['technology', 'Windows worm travels with Tetris'], ['business', 'Winter freeze keeps oil above $50'], ['business', 'Worldcom ex-boss launches defence']]\n"
     ]
    },
    {
     "name": "stdout",
     "output_type": "stream",
     "text": [
      "[['technology', '21st-Century Sports: How Digital Technology Is Changing the Face Of The Sporting Industry'], ['business', 'Asian quake hits European shares'], ['technology', 'BT offers free net phone calls'], ['business', 'Barclays shares up on merger talk'], ['sport', 'Barkley fit for match in Ireland'], ['sport', 'Bellamy under new fire'], ['sport', \"Benitez 'to launch Morientes bid'\"], ['sport', 'Benitez delight after crucial win'], ['technology', 'Big war games battle it out'], ['technology', 'British Library gets wireless net'], ['sport', \"Brizzel to run AAA's in Sheffield\"], ['business', 'Bush budget seeks deep cutbacks'], ['business', \"Bush to get 'tough' on deficit\"], ['technology', 'Cable offers video-on-demand'], ['technology', 'Cabs collect mountain of mobiles'], ['technology', \"Camera phones are 'must-haves'\"], ['business', \"Card fraudsters 'targeting web'\"], ['business', 'Cash gives way to flexible friend'], ['technology', 'Cebit opens to mobile music tune'], ['sport', 'Charvis set to lose fitness bid'], ['sport', 'Chelsea hold Arsenal'], ['business', 'Christmas sales worst since 1981'], ['sport', 'Clijsters set for February return'], ['sport', 'Clyde 0-5 Celtic'], ['sport', 'Coach Ranieri sacked by Valencia'], ['technology', 'Confusion over high-definition TV'], ['business', 'Cuba winds back economic clock'], ['technology', 'DS aims to touch gamers'], ['sport', 'Dawson set for new Wasps contract'], ['business', 'Diageo to buy US wine firm'], ['technology', 'Digital guru floats sub-$100 PC'], ['business', 'EU aiming to fuel development aid'], ['N/A', 'Article no longer available in archive'], ['sport', 'England 17-18 France'], ['business', 'Enron bosses in $168m payout'], ['business', \"Euronext 'poised to make LSE bid'\"], ['business', 'Europe asks Asia for euro help'], ['business', 'Europe blames US over weak dollar'], ['business', \"Fannie Mae 'should restate books'\"], ['technology', \"Featured: 'Brainwave' cap controls computer\"], ['technology', \"Featured: 'Evil twin' fear for wireless net\"], ['technology', \"Featured: 'Friends fear' with lost mobiles\"], ['N/A', 'Article no longer available in archive'], ['business', \"Featured: 'Post-Christmas lull' in lending\"], ['business', 'Fed warns of more US rate rises'], ['sport', 'Federer forced to dig deep'], ['sport', 'Ferguson puts faith in youngsters'], ['business', \"GE sees 'excellent' world economy\"], ['business', 'GM issues 2005 profits warning'], ['technology', 'Gangsters dominate gaming chart'], ['sport', 'Gardener wins double in Glasgow'], ['N/A', 'Article no longer available in archive'], ['business', \"Gazprom 'in $36m back-tax claim'\"], ['business', 'German growth goes into reverse'], ['business', 'Germany calls for EU reform'], ['technology', 'Go-ahead for new internet names'], ['sport', 'Greek duo cleared in doping case'], ['sport', \"Hansen 'delays return until 2006'\"], ['N/A', 'Article no longer available in archive'], ['sport', 'Henman & Murray claim LTA awards'], ['sport', 'Henman decides to quit Davis Cup'], ['technology', 'Hi-tech posters guide commuters'], ['sport', 'Hodgson shoulders England blame'], ['technology', 'Hollywood to sue net film pirates'], ['sport', 'Holmes secures comeback victory'], ['business', 'House prices suffer festive fall'], ['sport', 'IAAF launches fight against drugs'], ['business', 'India-Pakistan peace boosts trade'], ['business', 'Iraqi voters turn to economic issues'], ['sport', 'Jansen suffers a further setback'], ['technology', 'Latest Opera browser gets vocal'], ['business', 'Laura Ashley chief stepping down'], ['technology', 'Learning to love broadband'], ['technology', 'Mac Mini heralds mini revolution'], ['business', \"Macy's owner buys rival for $11bn\"], ['business', 'Madagascar completes currency switch'], ['sport', 'McLeish ready for criticism'], ['technology', 'Mobile games come of age'], ['technology', 'More power to the people says HP'], ['sport', 'Mourinho sends out warning shot'], ['sport', 'Moya suffers shock loss'], ['sport', 'Moyes U-turn on Beattie dismissal'], ['sport', 'Murray returns to Scotland fold'], ['business', 'Mystery surrounds new Yukos owner'], ['sport', 'Off-colour Gardener storms to win'], ['business', 'Oil companies get Russian setback'], ['sport', 'Owen may have to return home'], ['sport', 'Pearce keen on succeeding Keegan'], ['technology', \"Poles play with GameBoy 'blip-pop'\"], ['sport', 'Premier League probes Cole claims'], ['sport', 'Prodigy Monfils blows away Gaudio'], ['technology', 'Remote control rifle range debuts'], ['sport', 'Robinson ready for difficult task'], ['technology', 'Row brewing over peer-to-peer ads'], ['sport', 'Rusedski angry over supplements'], ['business', 'S Korean lender faces liquidation'], ['sport', 'SFA awaits report over Mikoliunas'], ['sport', 'Safin cool on Wimbledon'], ['sport', 'Safin plays down Wimbledon hopes'], ['technology', 'Satellite mapping aids Darfur relief'], ['technology', 'Search sites get closer to users'], ['technology', 'Security scares spark browser fix'], ['business', 'Senior Fannie Mae bosses resign'], ['technology', 'Solutions to net security fears'], ['business', 'Split-caps pay £194m compensation'], ['sport', 'Sports Stock Tips'], ['business', 'Strong quarterly growth for Nike'], ['technology', \"T-Mobile bets on 'pocket office'\"], ['sport', 'Thanou desperate to make return'], ['sport', 'Thompson says Gerrard should stay'], ['sport', 'Time to get tough on friendlies?'], ['technology', 'US peer-to-peer pirates convicted'], ['technology', 'US top of supercomputing charts'], ['business', 'Venezuela and China sign oil deal'], ['business', 'Weak end-of-year sales hit Next'], ['sport', 'Williams says he will never quit'], ['business', \"Winemaker rejects Foster's offer\"], ['business', \"Worldcom boss 'left books alone'\"], ['technology', 'Xbox 2 may be unveiled in summer'], ['technology', \"Xbox power cable 'fire fear'\"], ['business', \"Yangtze Electric's profits double\"], ['business', 'Yukos loses US bankruptcy battle'], ['business', '7 business technology trends to watch'], ['sport', 'A November to remember'], ['technology', 'A question of trust and technology'], ['business', 'Ad sales boost Time Warner profit'], ['sport', 'African double in Edinburgh'], ['business', 'Air passengers win new EU rights'], ['technology', 'Anti-spam screensaver scrapped'], ['sport', 'Arsenal through on penalties'], ['business', 'BP surges ahead on high oil price'], ['business', 'Bank holds interest rate at 4.75%'], ['business', 'Bank set to leave rates on hold'], ['sport', 'Bekele sets sights on world mark'], ['sport', 'Bitter Santini hits out at Spurs'], ['technology', 'Blogs take on the mainstream'], ['business', \"Brewers' profits lose their fizz\"], ['business', \"Bush to outline 'toughest' budget\"], ['business', \"Buyers snap up Jet Airways' shares\"], ['business', 'Cairn shares up on new oil find'], ['sport', 'Campbell to extend sprint career'], ['sport', 'Celtic make late bid for Bellamy'], ['sport', 'Charlton 1-2 Liverpool'], ['N/A', 'Article no longer available in archive'], ['sport', 'Chepkemei joins Edinburgh line-up'], ['N/A', 'Article no longer available in archive'], ['business', 'Chinese billionaire targets Manchester United shares in new deal, reports suggest'], ['sport', 'Collins calls for Chambers return'], ['technology', 'Commodore finds new lease of life'], ['technology', 'Creator of first Apple Mac dies'], ['sport', 'Cudicini misses Carling Cup final'], ['sport', 'Davenport hits out at Wimbledon'], ['sport', 'Davies favours Gloucester future'], ['business', 'Deutsche Telekom sees mobile gain'], ['sport', 'Dibaba breaks 5,000m world record'], ['sport', 'Dogged Federer claims Dubai crown'], ['business', 'Dollar hovers around record lows'], ['sport', 'Dundee Utd 4-1 Aberdeen'], ['business', 'EC calls truce in deficit battle'], ['business', 'EU-US seeking deal on air dispute'], ['business', 'Egypt and Israel seal trade deal'], ['business', 'Egypt to sell off state-owned bank'], ['sport', 'El Guerrouj targets cross country'], ['sport', 'FA ready to test out goal bleeper'], ['N/A', 'Article no longer available in archive'], ['business', 'FBI agent colludes with analyst'], ['technology', 'Fast moving phone bugs appear'], ['N/A', 'Article no longer available in archive'], ['sport', 'Ferguson fears Milan cutting edge'], ['sport', 'Finnan says Irish can win group'], ['sport', 'Fit-again Betsen in France squad'], ['business', 'Five million Germans out of work'], ['technology', \"Format wars could 'confuse users'\"], ['sport', 'Giggs handed Wales leading role'], ['technology', 'Gritty return for Prince of Persia'], ['sport', 'Hewitt survives Nalbandian epic'], ['business', 'Honda wins China copyright ruling'], ['business', 'India seeks to boost construction'], ['business', \"India's Deccan gets more planes\"], ['business', 'Indy buys into India paper'], ['business', 'Intercom raises €101m in funding round making it the most valuable Irish tech firm'], ['business', 'Iranian MPs threaten mobile deal'], ['business', 'Irish company hit by Iraqi report'], ['sport', 'Italy aim to rattle England'], ['business', 'Italy to get economic action plan'], ['sport', \"Juninho demand for O'Neill talks\"], ['sport', 'Kenyon denies Robben Barca return'], ['sport', 'Kerr frustrated at victory margin'], ['sport', 'Klinsmann issues Lehmann warning'], ['business', \"LSE 'sets date for takeover deal'\"], ['sport', 'Lewis-Francis eyeing world gold'], ['technology', \"Lifestyle 'governs mobile choice'\"], ['technology', 'Looks and music to drive mobiles'], ['sport', 'Man Utd through after Exeter test'], ['sport', 'Martinez sees off Vinci challenge'], ['technology', 'Microsoft makes anti-piracy move'], ['sport', 'Middlesbrough 2-2 Charlton'], ['sport', 'Mido makes third apology'], ['technology', 'Millions buy MP3 players in US'], ['business', 'Mixed signals from French economy'], ['technology', 'Mobile picture power in your pocket'], ['sport', 'Moore questions captaincy'], ['sport', 'More Africans for tsunami game'], ['sport', 'Murphy: That was a bruising battle'], ['sport', 'Navratilova hits out at critics'], ['sport', \"O'Driscoll out of Scotland game\"], ['sport', \"O'Gara revels in Ireland victory\"], ['sport', 'Owen dismisses fresh Real rumours'], ['technology', \"PC ownership to 'double by 2010'\"], ['sport', 'Paris promise raises Welsh hopes'], ['business', 'Parmalat sues 45 banks over crash'], ['technology', 'Progress on new internet domains'], ['business', 'Qantas considers offshore option'], ['sport', 'Radcliffe tackles marathon tasks'], ['sport', 'Rangers seal Old Firm win'], ['sport', 'Record fails to lift lacklustre meet'], ['business', 'Record year for Chilean copper'], ['sport', 'Republic to face China and Italy'], ['sport', 'Robben sidelined with broken foot'], ['technology', \"Robots learn 'robotiquette' rules\"], ['technology', \"Rolling out next generation's net\"], ['business', \"Russia WTO talks 'make progress'\"], ['technology', 'Screensaver tackles spam websites'], ['technology', 'Slim PlayStation triples sales'], ['business', 'Standard Life concern at LSE bid'], ['business', \"Steel firm 'to cut' 45,000 jobs\"], ['sport', 'Stuart joins Norwich from Addicks'], ['N/A', 'Article no longer available in archive'], ['technology', 'Sun offers processing by the hour'], ['technology', 'Tech helps disabled speed demons'], ['technology', 'Telewest to challenge Sky Plus'], ['sport', 'Thanou bullish over drugs hearing'], ['technology', 'The Force is strong in Battlefront'], ['technology', 'The gaming world in 2005'], ['business', 'Turkey knocks six zeros off lira'], ['business', 'UK Coal plunges into deeper loss'], ['business', 'US trade gap ballooned in October'], ['business', 'Unilever shake up as profit slips'], ['sport', 'Wales get Williams fitness boost'], ['sport', 'Wales stars need a rest - Ruddock'], ['business', \"Wall Street cool to eBay's profit\"], ['technology', 'Warnings about junk mail deluge'], ['technology', 'Web radio takes Spanish rap global'], ['sport', 'Wenger shock at Newcastle dip'], ['technology', 'When invention turns to innovation'], ['technology', 'Who do you think you are?'], ['sport', 'Wilkinson to miss Ireland match'], ['business', 'Winn-Dixie files for bankruptcy'], ['business', 'Yukos sues four firms for $20bn'], ['sport', 'A year to remember for Irish'], ['sport', 'An Irish Athletics Year'], ['sport', 'Arnesen denies rift with Santini'], ['business', 'Asia shares defy post-quake gloom'], ['business', 'Bank payout to Pinochet victims'], ['sport', 'Barcelona title hopes hit by loss'], ['business', 'Bargain calls widen Softbank loss'], ['sport', 'Bayern Munich 3-1 Arsenal'], ['sport', 'Benitez deflects blame from Dudek'], ['technology', 'Blog reading explodes in America'], ['technology', 'Broadband challenges TV viewing'], ['technology', 'Broadband in the UK growing fast'], ['sport', 'Calder fears for Scottish rugby'], ['sport', 'Captains lining up for Aid match'], ['sport', 'Celts savour Grand Slam prospect'], ['sport', 'Chelsea ridiculed over complaint'], ['business', 'China keeps tight rein on credit'], ['technology', 'China net cafe culture crackdown'], ['business', 'China suspends 26 power projects'], ['business', 'Christmas shoppers flock to tills'], ['sport', 'Collins named UK Athletics chief'], ['technology', 'Court mulls file-sharing future'], ['business', 'Crude oil prices back above $50'], ['technology', 'Cyber criminals step up the pace'], ['technology', 'DVD copy protection strengthened'], ['business', 'Deutsche attacks Yukos case'], ['sport', 'Disappointed Scott in solid start'], ['business', 'Durex maker SSL awaits firm bid'], ['technology', 'EA to take on film and TV giants'], ['sport', 'Edu blasts Arsenal'], ['N/A', 'Article no longer available in archive'], ['technology', 'Europe backs digital TV lifestyle'], ['sport', 'Farrell saga to drag on - Lindsay'], ['business', \"Featured: 'Golden economic period' to end\"], ['business', 'Feta cheese battle reaches court'], ['business', 'Firms pump billions into pensions'], ['technology', 'First look at PlayStation 3 chip'], ['business', 'Ford gains from finance not cars'], ['sport', 'Fuming Robinson blasts officials'], ['sport', 'GB quartet get cross country call'], ['technology', \"Gadget market 'to grow in 2005'\"], ['technology', 'Gadgets galore on show at fair'], ['technology', \"Games help you 'learn and play'\"], ['business', 'Gaming firm to sell UK dog tracks'], ['business', 'Germany nears 1990 jobless level'], ['sport', 'Greek pair attend drugs hearing'], ['sport', 'Gronkjaer agrees switch to Madrid'], ['N/A', 'Article no longer available in archive'], ['technology', \"Half of UK's mobiles 'go online'\"], ['sport', 'Hantuchova in Dubai last eight'], ['technology', 'Have hackers recruited your PC?'], ['sport', 'Healey targets England comeback'], ['business', 'High fuel costs hit US airlines'], ['business', \"High fuel prices hit BA's profits\"], ['technology', 'Hotspot users gain free net calls'], ['business', 'House prices drop as sales slow'], ['business', 'House prices show slight increase'], ['technology', 'ITunes user sues Apple over iPod'], ['business', 'India widens access to telecoms'], ['technology', 'Iran jails blogger for 14 years'], ['business', 'Irish duo could block Man Utd bid'], ['sport', 'Italy 8-38 Wales'], ['sport', 'Johnson uncertain about Euro bid'], ['sport', 'Kirwan demands Italy consistency'], ['business', 'Liberian economy starts to grow'], ['business', 'Malaysia lifts Islamic bank limit'], ['sport', 'Man Utd stroll to Cup win'], ['technology', 'Man auctions ad space on forehead'], ['business', \"Manufacturing recovery 'slowing'\"], ['business', 'Markets signal Brazilian recovery'], ['sport', 'Merritt close to indoor 400m mark'], ['technology', 'Microsoft debuts security tools'], ['technology', 'Microsoft releases patches'], ['business', 'Minister hits out at Yukos sale'], ['sport', 'Mirza shocks Kuznetsova'], ['N/A', 'Article no longer available in archive'], ['sport', 'Mourinho receives Robson warning'], ['sport', 'Moya emotional after Davis Cup win'], ['business', 'Nasdaq planning $100m share sale'], ['sport', 'Newcastle 2-1 Bolton'], ['sport', 'Newcastle to join Morientes race'], ['business', 'News Corp makes $5.4bn Fox offer'], ['business', 'Nigeria to boost cocoa production'], ['technology', 'Nintendo DS aims to touch gamers'], ['business', 'Novartis hits acquisition trail'], ['business', \"Profits stall at China's Lenovo\"], ['business', 'Putin backs state grab for Yukos'], ['business', 'Quiksilver moves for Rossignol'], ['sport', 'Redknapp poised for Saints'], ['sport', 'Robertson out to retain Euro lure'], ['technology', 'Seamen sail into biometric future'], ['business', 'Singapore growth at 8.1% in 2004'], ['N/A', 'Article no longer available in archive'], ['sport', 'Slovakia reach Hopman Cup final'], ['sport', 'Sociedad set to rescue Mladenovic'], ['technology', 'Sony wares win innovation award'], ['business', 'Soros group warns of Kazakh close'], ['technology', 'Sport-loving inventors whose tech could change the game'], ['sport', 'Sprinter Walker quits athletics'], ['N/A', 'Article no longer available in archive'], ['business', 'Stock market eyes Japan recovery'], ['business', 'Swiss cement firm in buying spree'], ['technology', 'Text message record smashed'], ['technology', 'The pirates with no profit motive'], ['business', 'Tsunami to cost Sri Lanka $1.3bn'], ['sport', 'UK Athletics agrees new kit deal'], ['technology', 'US cyber security chief resigns'], ['technology', 'US hacker breaks into T-Mobile'], ['business', 'US industrial output growth eases'], ['business', 'US insurer Marsh cuts 2,500 jobs'], ['business', 'US manufacturing expands'], ['business', 'US to rule on Yukos refuge call'], ['sport', 'Van Nistelrooy set to return'], ['sport', 'Vickery upbeat about arm injury'], ['technology', 'Video phones act as dating tools'], ['business', 'Virgin Blue shares plummet 20%'], ['N/A', 'Article no longer available in archive'], ['sport', 'Wada will appeal against ruling'], ['sport', 'Wales critical of clumsy Grewcock'], ['sport', 'Wales silent on Grand Slam talk'], ['sport', 'Wenger rules out new keeper'], ['sport', 'Wenger signs new deal'], ['business', 'Axa Sun Life cuts bonus payments'], ['technology', 'BT boosts its broadband packages'], ['sport', 'Bates seals takeover'], ['technology', 'Beckham virus spotted on the net'], ['technology', 'Broadband fuels online expression'], ['technology', 'Broadband in the UK gathers pace'], ['business', 'Burren awarded Egyptian contracts'], ['business', 'Business fears over sluggish EU economy'], ['sport', 'Candela completes Bolton switch'], ['business', 'Cannabis hopes for drug firm'], ['sport', 'Castaignede fires Laporte warning'], ['technology', \"Casual gaming to 'take off'\"], ['sport', 'Chelsea sack Mutu'], ['business', 'China Aviation seeks rescue deal'], ['sport', 'Classy Henman makes winning start'], ['sport', 'Collins banned in landmark case'], ['technology', 'Concerns over Windows ATMs'], ['sport', 'Connors boost for British tennis'], ['business', \"Crossrail link 'to get go-ahead'\"], ['N/A', 'Article no longer available in archive'], ['technology', 'Cyber crime booms in 2004'], ['technology', 'Disney backs Sony DVD technology'], ['business', 'Dollar slides ahead of New Year'], ['business', \"Economy 'stronger than forecast'\"], ['business', 'Electrolux to export Europe jobs'], ['business', \"Ethiopia's crop production up 24%\"], ['sport', 'FA charges Liverpool and Millwall'], ['sport', 'FA probes crowd trouble'], ['technology', \"Format wars could 'confuse users'\"], ['business', 'GM in crunch talks on Fiat future'], ['technology', 'Game makers get Xbox 2 sneak peek'], ['technology', 'Gamers could drive high-definition'], ['technology', 'Google launches TV search service'], ['sport', 'Harinordoquy suffers France axe'], ['sport', 'Hearts of Oak 3-2 Cotonsport'], ['sport', 'Hodges announces rugby retirement'], ['sport', 'Holmes feted with further honour'], ['technology', 'Honour for UK games maker'], ['sport', 'Houllier praises Benitez regime'], ['technology', 'Humanoid robot learns how to run'], ['sport', 'Ireland v USA (Sat)'], ['sport', 'Isinbayeva heads for Birmingham'], ['sport', 'Israeli club look to Africa'], ['technology', 'Junk e-mails on relentless rise'], ['sport', 'Kluft impressed by Sotherton form'], ['business', 'Latin America sees strong growth'], ['business', 'Libya takes $1bn in unfrozen funds'], ['technology', 'Loyalty cards idea for TV addicts'], ['sport', 'Man City 1-1 Newcastle'], ['sport', 'McCall earns Tannadice reprieve'], ['sport', 'McClaren eyes Uefa Cup top spot'], ['sport', \"McClaren hails Boro's Uefa spirit\"], ['sport', 'McIlroy aiming for Madrid title'], ['technology', 'Microsoft makes anti-piracy move'], ['technology', 'Microsoft seeking spyware trojan'], ['business', 'Mild winter drives US oil down 6%'], ['technology', 'Millions to miss out on the net'], ['sport', 'Minister digs in over doping row'], ['sport', 'Mirza makes Indian tennis history'], ['business', 'Mitsubishi in Peugeot link talks'], ['technology', 'Mobile multimedia slow to catch on'], ['technology', \"Mobiles 'not media players yet'\"], ['sport', 'Morientes admits to Reds struggle'], ['sport', 'Mourinho plots impressive course'], ['sport', 'Mourinho says race is almost over'], ['N/A', 'Article no longer available in archive'], ['sport', 'Moya sidesteps Davis Cup in 2005'], ['sport', 'Nadal marches on in Mexico'], ['technology', 'Nintendo adds media playing to DS'], ['sport', \"O'Connell rejects Lions rumours\"], ['sport', \"O'Driscoll concern at Fifa ruling\"], ['business', 'Oil prices fall back from highs'], ['business', 'Ore costs hit global steel firms'], ['sport', 'Parry relishes Anfield challenge'], ['business', 'Peugeot deal boosts Mitsubishi'], ['N/A', 'Article no longer available in archive'], ['technology', 'PlayStation 3 chip to be unveiled'], ['technology', 'Portable PlayStation ready to go'], ['sport', 'Premier League planning Cole date'], ['business', 'Qantas sees profits fly to record'], ['sport', 'Radcliffe yet to answer GB call'], ['sport', \"Redknapp's Saints face Pompey tie\"], ['sport', 'Reds sink 10-man Magpies'], ['business', 'Reliance unit loses Anil Ambani'], ['technology', 'Rich pickings for hi-tech thieves'], ['sport', 'Robinson out of Six Nations'], ['sport', 'Rovers reject third Ferguson bid'], ['sport', 'Saint-Andre anger at absent stars'], ['N/A', 'Article no longer available in archive'], ['business', 'Salary scandal in Cameroon'], ['technology', 'Slimmer PlayStation triple sales'], ['sport', 'Slovakia seal Hopman Cup success'], ['technology', 'Smart search lets art fans browse'], ['sport', 'Smith keen on Home series return'], ['sport', 'South Africa sweep top awards'], ['technology', 'Speak easy plan for media players'], ['technology', 'Speech takes on search engines'], ['business', \"Tokyo says deflation 'controlled'\"], ['business', 'Turkey turns on the economic charm'], ['business', \"Turkey-Iran mobile deal 'at risk'\"], ['business', \"UK 'risks breaking golden rule'\"], ['business', 'UK firm faces Venezuelan land row'], ['technology', 'UK pioneers digital film network'], ['business', 'US bank in $515m SEC settlement'], ['business', 'US crude prices surge above $53'], ['sport', 'Umaga ready for Lions'], ['business', 'Umbro profits lifted by Euro 2004'], ['technology', 'Virgin Radio offers 3G broadcast'], ['technology', 'Virus poses as Christmas e-mail'], ['technology', 'Voters flock to blog awards site'], ['sport', 'Wales want rugby league training'], ['sport', 'Wales win in Rome'], ['technology', 'Warning over tsunami aid website'], ['sport', 'Wolves appoint Hoddle as manager'], ['sport', 'Wood - Ireland can win Grand Slam'], ['business', 'World leaders gather to face uncertainty'], ['sport', 'Worthington praises classy Villa'], ['sport', 'Yachvili savours France comeback'], ['N/A', 'Article no longer available in archive'], ['business', 'Yukos heading back to US courts'], ['business', 'Yukos seeks court action on sale'], ['business', 'Yukos unit fetches $9bn at auction'], ['business', 'Air China in $1bn London listing'], ['sport', 'Angry Williams rejects criticism'], ['business', 'Apple Inc. Phone Pricing Likely To Trend Lower'], ['business', 'Argentina closes $102.6bn debt swap'], ['business', 'AstraZeneca hit by drug failure'], ['sport', 'Balco case trial date pushed back'], ['business', 'Battered dollar hits another low'], ['sport', 'Beckham hints at Man Utd return'], ['sport', 'Benitez joy as Reds take control'], ['technology', \"Blind student 'hears in colour'\"], ['technology', 'Blogger grounded by her airline'], ['business', 'Brazil jobless rate hits new low'], ['technology', 'Broadband set to revolutionise TV'], ['technology', 'Bush website blocked outside US'], ['business', 'Business confidence dips in Japan'], ['business', 'Businesses fail to plan for HIV'], ['sport', 'Campese berates whingeing England'], ['sport', 'Cech sets clean-sheet benchmark'], ['technology', \"China 'blocks Google news site'\"], ['business', 'China continues rapid growth'], ['business', 'Circuit City gets takeover offer'], ['sport', 'Claxton hunting first major medal'], ['technology', 'Consumer concern over RFID tags'], ['business', \"Continental 'may run out of cash'\"], ['business', 'Deadline nears for Fiat-GM deal'], ['business', \"Deutsche Boerse set to 'woo' LSE\"], ['technology', 'Domain system scam fear'], ['technology', 'Doors open at biggest gadget fair'], ['sport', 'Dunne keen to commit to Man City'], ['business', 'EMI shares hit by profit warning'], ['business', \"EU to probe Alitalia 'state aid'\"], ['sport', \"England 'to launch ref protest'\"], ['sport', 'Faye plans to stay at Portsmouth'], ['business', \"Featured: 'Strong dollar' call halts slide\"], ['sport', \"Ferguson hails Man Utd's resolve\"], ['sport', 'Fuming Robinson blasts officials'], ['business', 'Further rise in UK jobless total'], ['technology', 'Gadget growth fuels eco concerns'], ['technology', 'Gadget show heralds MP3 season'], ['technology', 'Games win for Blu-ray DVD format'], ['business', 'German business confidence slides'], ['sport', 'Gerrard future not decided by Cardiff loss'], ['technology', 'Halo 2 sells five million copies'], ['sport', 'Henin-Hardenne beaten on comeback'], ['sport', 'Hewitt falls to Dent in Adelaide'], ['technology', 'How to smash a home computer'], ['sport', 'Ireland call up uncapped Campbell'], ['business', 'Israel looks to US for bank chief'], ['sport', 'Keane defiant over Vieira bust-up'], ['sport', \"Kenya lift Chepkemei's suspension\"], ['business', 'Kraft cuts snack ads for children'], ['business', 'Lesotho textile workers lose jobs'], ['sport', 'Lomu relishing return to action'], ['business', 'Lufthansa may sue over Bush visit'], ['business', 'MCI shares climb on takeover bid'], ['business', \"MG Rover China tie-up 'delayed'\"], ['business', 'Making your office work for you'], ['sport', 'McIlroy continues winning streak'], ['technology', 'Mobile TV tipped as one to watch'], ['business', 'Monsanto fined $1.5m for bribery'], ['technology', 'Moving mobile improves golf swing'], ['sport', 'Nadal puts Spain 2-0 up'], ['business', 'Nasdaq planning $100m-share sale'], ['technology', \"New Year's texting breaks record\"], ['N/A', 'Article no longer available in archive'], ['technology', 'New consoles promise big problems'], ['technology', 'Nintendo DS makes its Euro debut'], ['sport', \"O'Connor aims to grab opportunity\"], ['sport', \"O'Leary agrees new Villa contract\"], ['N/A', 'Article no longer available in archive'], ['sport', \"O'Sullivan keeps his powder dry\"], ['technology', 'Online commons to spark debate'], ['technology', 'Online games play with politics'], ['business', 'Parmalat founder offers apology'], ['business', 'Parmalat to return to stockmarket'], ['technology', \"Peer-to-peer nets 'here to stay'\"], ['business', 'Pernod takeover talk lifts Domecq'], ['business', \"Profits jump at China's top bank\"], ['sport', 'Prop Jones ready for hard graft'], ['business', 'Qatar and Shell in $6bn gas deal'], ['business', \"Quake's economic costs emerging\"], ['sport', 'Real in talks over Gravesen move'], ['business', 'Rescue hope for Borussia Dortmund'], ['sport', 'Robben and Cole earn Chelsea win'], ['technology', 'Robotic pods take on car design'], ['sport', 'Roddick in talks over new coach'], ['business', 'SEC to rethink post-Enron rules'], ['technology', 'Santy worm makes unwelcome visit'], ['technology', 'Seamen sail into biometric future'], ['sport', 'Serena becomes world number two'], ['sport', 'Smith aims to bring back respect'], ['business', \"Soaring oil 'hits world economy'\"], ['technology', 'Software watching while you work'], ['technology', 'Sony PSP console hits US in March'], ['sport', 'TV calls after Carroll error'], ['technology', \"TV's future down the phone line\"], ['N/A', 'Article no longer available in archive'], ['business', \"The 'ticking budget' facing the US\"], ['business', 'Train strike grips Buenos Aires'], ['technology', 'UK broadband gets speed injection'], ['business', 'US adds more jobs than expected'], ['business', 'US economy shows solid GDP growth'], ['business', 'US economy still growing says Fed'], ['business', 'US in EU tariff chaos trade row'], ['business', 'US retail sales surge in December'], ['business', 'US trade gap hits record in 2004'], ['business', 'Ukraine revisits state sell-offs'], ['sport', 'Underdogs have more fun'], ['business', 'VW considers opening Indian plant'], ['business', 'Wal-Mart to pay $14m in gun suit'], ['sport', 'Wasps 31-37 Leicester'], ['technology', 'What high-definition will do to DVDs'], ['technology', 'Why Cell will get the hard sell'], ['sport', 'Wilkinson fit to face Edinburgh'], ['sport', \"Wilkinson return 'unlikely'\"], ['technology', 'Yahoo celebrates a decade online'], ['technology', 'Yahoo moves into desktop search'], ['technology', '2D Metal Slug offers retro fun'], ['technology', 'Anti-spam laws bite spammer hard'], ['technology', \"Apple laptop is 'greatest gadget'\"], ['technology', 'Apple makes blogs reveal sources'], ['technology', \"Apple unveils low-cost 'Mac mini'\"], ['business', \"Arsenal 'may seek full share listing'\"], ['business', 'BA to suspend two Saudi services'], ['business', 'BMW drives record sales in Asia'], ['business', 'BT offers equal access to rivals'], ['sport', 'Barwick calls for Highbury calm'], ['sport', 'Barwick installed as new FA boss'], ['technology', 'Be careful how you code'], ['business', 'Beer giant swallows Russian firm'], ['technology', 'Blinx sequel purrs nicely'], ['business', 'Bombardier chief to leave company'], ['technology', 'Bond game fails to shake or stir'], ['business', \"Britannia members' £42m windfall\"], ['technology', 'California sets fines for spyware'], ['business', 'Call to save manufacturing jobs'], ['sport', 'Can Smith work Scottish wonders?'], ['technology', 'Cebit fever takes over Hanover'], ['sport', 'Chelsea clinch cup in extra-time'], ['technology', \"China 'to overtake US net use'\"], ['business', 'China bans new tobacco factories'], ['sport', 'Davenport dismantles young rival'], ['business', \"Disaster claims 'less than $10bn'\"], ['business', 'Dollar drops on reserves concerns'], ['business', \"EU 'too slow' on economic reforms\"], ['sport', 'English clubs make Euro history'], ['business', 'Ex-Boeing director gets jail term'], ['sport', 'FA decides not to punish Mourinho'], ['technology', 'Fast lifts rise into record books'], ['technology', \"Featured: 'Blog' picked as word of the year\"], ['technology', \"Featured: 'Brainwave' cap controls computer\"], ['technology', \"Featured: 'Podcasters' look to net money\"], ['business', 'Fresh hope after Argentine crisis'], ['technology', \"Gadget market 'to grow in 2005'\"], ['technology', 'Gates opens biggest gadget fair'], ['sport', 'Gebrselassie in London triple bid'], ['sport', 'Gerrard plays down European hopes'], ['business', 'Giant waves damage S Asia economy'], ['business', 'Giving financial gifts to children'], ['business', 'Golden rule boost for Chancellor'], ['sport', 'Henman hopes ended in Dubai'], ['technology', \"Hitachi unveils 'fastest robot'\"], ['technology', 'Hotspot users gain free net calls'], ['business', 'How Manchester United, Knicks Wins Correlate With Stock Gains'], ['business', 'Hyundai to build new India plant'], ['business', 'Industrial revival hope for Japan'], ['business', 'Insurance bosses plead guilty'], ['business', 'Iraq and Afghanistan in WTO talks'], ['sport', 'Ireland surge past Scots'], ['sport', 'Italy 17-28 Ireland'], ['business', 'JP Morgan admits US slavery links'], ['sport', 'Keegan hails comeback king Fowler'], ['technology', 'Kenyan school turns to handhelds'], ['technology', 'Long life promised for laptop PCs'], ['business', 'M&S cuts prices by average of 24%'], ['business', 'MCI shareholder sues to stop bid'], ['business', 'Market unfazed by Aurora setback'], ['technology', 'Microsoft takes on desktop search'], ['business', \"Millions 'to lose textile jobs'\"], ['technology', 'Mobile networks seek turbo boost'], ['technology', \"Mobiles 'not media players yet'\"], ['technology', 'Mobiles double up as bus tickets'], ['technology', 'Mobiles rack up 20 years of use'], ['N/A', 'Article no longer available in archive'], ['sport', 'Mourinho takes swipe at Arsenal'], ['sport', 'Mourinho to escape FA charge'], ['technology', \"Net regulation 'still possible'\"], ['technology', 'New delay hits EU software laws'], ['business', 'Newest EU members underpin growth'], ['sport', 'No lack of Christmas spirit'], ['sport', \"O'Driscoll/Gregan lead Aid stars\"], ['business', 'Optimism remains over UK housing'], ['business', 'Orange colour clash set for court'], ['sport', 'Owen delighted with Real display'], ['technology', 'Pandas benefit from wireless net'], ['technology', 'Parents face video game lessons'], ['sport', 'Petit career ended by knee injury'], ['N/A', 'Article no longer available in archive'], ['sport', 'Plymouth 3-0 Sheff Utd'], ['sport', 'Preview: Ireland v England (Sun)'], ['sport', 'Prinz beats Hamm to Fifa trophy'], ['business', \"Profits slide at India's Dr Reddy\"], ['sport', 'Prutton poised for lengthy FA ban'], ['technology', 'Rivals of the £400 Apple...'], ['sport', 'Robinson answers critics'], ['sport', 'Rochus shocks Coria in Auckland'], ['business', \"Rover deal 'may cost 2,000 jobs'\"], ['N/A', 'Article no longer available in archive'], ['sport', 'Running around the Olympics'], ['business', \"SA unveils 'more for all' budget\"], ['business', 'SBC plans post-takeover job cuts'], ['business', 'Safety alert as GM recalls cars'], ['business', 'Saudi ministry to employ women'], ['technology', 'Savvy searchers fail to spot ads'], ['business', 'Shares hit by MS drug suspension'], ['business', 'Slowdown hits US factory growth'], ['technology', 'Spam e-mails tempt net shoppers'], ['technology', 'Text messages aid disaster recovery'], ['sport', 'The wonder of Ronaldinho'], ['technology', 'The year search became personal'], ['sport', 'Tomlinson stays focused on Europe'], ['N/A', 'Article no longer available in archive'], ['business', \"US bank boss hails 'genius' Smith\"], ['business', 'US consumer confidence up'], ['business', 'US trade deficit widens sharply'], ['sport', 'Uefa threat over foreign quotas'], ['business', \"Ukraine steel sell-off 'illegal'\"], ['business', 'Ukraine trims privatisation check'], ['sport', 'Venus stunned by Farina Elia'], ['sport', 'Video technology will not make football a mistake-free sport'], ['technology', 'Warning over Windows Word files'], ['business', 'Weak dollar trims Cadbury profits'], ['technology', 'Web helps collect aid donations'], ['sport', 'Wenger handed summer war chest'], ['technology', 'When technology gets personal'], ['technology', 'A decade of good website design'], ['sport', 'Agassi fear for Melbourne'], ['business', 'Ailing EuroDisney vows turnaround'], ['sport', 'Ajax refuse to rule out Jol move'], ['sport', 'Anelka apologises for criticism'], ['technology', 'Apple attacked over sources row'], ['technology', 'Apple iPod family expands market'], ['technology', 'Argonaut founder rebuilds empire'], ['sport', 'Arsenal 1-1 Sheff Utd'], ['business', 'Asia shares defy post-quake gloom'], ['business', 'Aviation firms eye booming India'], ['technology', 'BT program to beat dialler scams'], ['business', 'Bat spit drug firm goes to market'], ['sport', 'Bees handed potential Man Utd tie'], ['sport', 'Blackburn v Burnley'], ['business', 'Boeing unveils new 777 aircraft'], ['sport', 'Breaking news: US company admits Benin bribery'], ['technology', 'Broadband in the UK growing fast'], ['sport', 'Bryan twins keep US hopes alive'], ['business', 'Building giant in asbestos payout'], ['technology', 'California sets fines for spyware'], ['business', 'Call to overhaul UK state pension'], ['sport', 'Campbell to be Lions consultant'], ['sport', 'Cantona issues Man Utd job hint'], ['business', 'Chinese exports rise 25% in 2004'], ['sport', 'Clijsters could play Aussie Open'], ['sport', 'Corry backs skipper Robinson'], ['technology', 'DVD copy protection strengthened'], ['sport', 'Dallaglio his own man to the end'], ['sport', 'Dawson wins England squad recall'], ['sport', 'Dementieva prevails in Hong Kong'], ['technology', 'Disney backs Sony DVD technology'], ['sport', 'Dominici backs lacklustre France'], ['technology', 'Dublin hi-tech labs to shut down'], ['business', 'Ebbers denies WorldCom fraud'], ['sport', 'England coach faces rap after row'], ['business', \"European losses hit GM's profits\"], ['sport', 'Fifa agrees goal-line technology'], ['technology', 'Freeze on anti-spam campaign'], ['business', 'French boss to leave EADS'], ['business', 'German economy rebounds'], ['business', 'Glazer makes new Man Utd approach'], ['technology', 'Google to scan famous libraries'], ['sport', \"Greek sprinters 'won't run again'\"], ['sport', 'Greek sprinters suspended by IAAF'], ['sport', 'Gunners clock up winning record'], ['technology', 'Halo 2 heralds traffic explosion'], ['sport', 'Henson stakes early Lions claim'], ['sport', 'Hewitt fights back to reach final'], ['sport', 'Holmes is hit by hamstring injury'], ['technology', 'IBM frees 500 software patents'], ['N/A', 'Article no longer available in archive'], ['business', \"India's Reliance family feud heats up\"], ['business', \"India's rupee hits five-year high\"], ['technology', 'Ink helps drive democracy in Asia'], ['sport', 'Irish finish with home game'], ['business', 'J&J agrees $25bn Guidant deal'], ['sport', 'Johansson takes Adelaide victory'], ['sport', 'Jones doping probe begins'], ['sport', 'Kenteris denies faking road crash'], ['business', 'Khodorkovsky quits Yukos shares'], ['technology', 'Latest Opera browser gets vocal'], ['N/A', 'Article no longer available in archive'], ['sport', 'Legendary Dutch boss Michels dies'], ['sport', 'Lions blow to World Cup stars'], ['sport', 'Liverpool revel in night of glory'], ['business', 'Man Utd to open books to Glazer'], ['sport', 'Man Utd urged to seal Giggs deal'], ['sport', 'Melzer shocks Agassi in San Jose'], ['technology', 'Microsoft debuts security tools'], ['technology', 'Millions buy MP3 players in US'], ['technology', 'Mobile multimedia slow to catch on'], ['technology', 'Mobiles get set for visual radio'], ['technology', 'Mobiles rack up 20 years of use'], ['sport', 'Molby says Gravesen is Real deal'], ['technology', 'More power to the people says HP'], ['technology', \"Musicians 'upbeat' about the net\"], ['business', 'News Corp eyes video games market'], ['N/A', 'Article no longer available in archive'], ['technology', 'No half measures with Half-Life 2'], ['sport', 'Parmar ruled out of Davis Cup tie'], ['sport', 'Philippoussis doubt over Open bid'], ['technology', 'Pompeii gets digital make-over'], ['business', 'Q&A: Malcolm Glazer and Man Utd'], ['sport', 'Radcliffe eyes hard line on drugs'], ['sport', 'Real will finish abandoned match'], ['sport', 'Ref stands by Scotland decisions'], ['sport', 'Robinson wants dual code success'], ['sport', \"Roche 'turns down Federer offer'\"], ['N/A', 'Article no longer available in archive'], ['sport', 'Roddick splits from coach Gilbert'], ['sport', 'Ronaldinho denies Blues interest'], ['business', 'S Korea spending boost to economy'], ['business', 'S Korean consumers spending again'], ['business', 'Saudi investor picks up the Savoy'], ['sport', 'Sella wants Michalak recall'], ['business', 'Share boost for feud-hit Reliance'], ['business', 'Shares rise on new Man Utd offer'], ['technology', \"Sony PSP tipped as a 'must-have'\"], ['sport', 'Souness eyes summer move for Owen'], ['technology', 'Souped-up wi-fi is on the horizon'], ['business', 'South African car demand surges'], ['sport', 'Stam spices up Man Utd encounter'], ['sport', 'Tapping-up row is so much hot air'], ['technology', 'Technology gets the creative bug'], ['technology', 'Technology in rugby: GPS systems continue to grow in importance'], ['sport', 'Tindall aiming to earn Lions spot'], ['sport', 'Tindall wants second opinion'], ['business', \"Tsunami 'to hit Sri Lanka banks'\"], ['business', \"UK economy facing 'major risks'\"], ['business', 'US Ahold suppliers face charges'], ['business', 'US data sparks inflation worries'], ['business', 'US interest rate rise expected'], ['technology', 'US peer-to-peer pirates convicted'], ['sport', 'Umaga ready for \"fearsome\" Lions'], ['technology', 'Virus poses as Christmas e-mail'], ['business', 'Wal-Mart fights back at accusers'], ['sport', 'Wales coach elated with win'], ['N/A', 'Article no longer available in archive'], ['business', 'Warning over US pensions deficit'], ['technology', 'Web photo storage market hots up'], ['technology', 'Web radio takes Spanish rap global'], ['sport', 'Wenger keeping faith with Almunia'], ['sport', 'Wenger steps up row'], ['sport', 'What now for British tennis?'], ['sport', 'White admits to Balco drugs link'], ['technology', 'World tour for top video gamers'], ['business', '$1m payoff for former Shell boss'], ['technology', 'Anti-tremor mouse stops PC shakes'], ['technology', \"Apple unveils low-cost 'Mac mini'\"], ['business', 'Argentina, Venezuela in oil deal'], ['sport', 'Argentine great Caniggia retires'], ['business', 'Banker loses sexism claim'], ['business', 'Beijingers fume over parking fees'], ['sport', 'Bell set for England debut'], ['sport', 'Benitez issues warning to Gerrard'], ['sport', 'Blackburn 0-1 Chelsea'], ['business', 'Brazil plays down Varig rescue'], ['technology', 'Britons fed up with net service'], ['technology', 'Broadband takes on TV viewing'], ['business', 'Brussels raps mobile call charges'], ['sport', 'Butler strikes gold in Spain'], ['sport', 'Chelsea denied by James heroics'], ['business', 'China had role in Yukos split-up'], ['sport', 'Clijsters hope on Aussie Open'], ['sport', 'Costin aims for comeback in 2006'], ['business', \"DaimlerChrysler's 2004 sales rise\"], ['sport', 'Dal Maso in to replace Bergamasco'], ['sport', 'Davenport hits out at Wimbledon'], ['sport', 'Dein concerned by Chelsea stance'], ['business', 'Deutsche Boerse boosts dividend'], ['business', 'EU ministers to mull jet fuel tax'], ['business', 'Euronext joins bid battle for LSE'], ['technology', \"Featured: 'No re-draft' for EU patent law\"], ['technology', \"Featured: 'Ultimate game' award for Doom 3\"], ['N/A', 'Article no longer available in archive'], ['business', 'Fed chief warning on US deficit'], ['sport', 'Ferguson rues failure to cut gap'], ['business', 'GM pays $2bn to evade Fiat buyout'], ['business', 'GSK aims to stop Aids profiteers'], ['technology', 'GTA sequel is criminally good'], ['technology', 'Gamer buys $26,500 virtual land'], ['technology', \"Google's toolbar sparks concern\"], ['sport', 'Greene sets sights on world title'], ['sport', 'Henman to face Saulnier test'], ['sport', 'Holmes back on form in Birmingham'], ['business', 'Home loan approvals rising again'], ['business', 'Huge rush for Jet Airways shares'], ['technology', 'IBM puts cash behind Linux push'], ['business', 'India unveils anti-poverty budget'], ['sport', 'Injury doubts beset Wales squad'], ['technology', 'Intercom Are Doubling Their Product Teams In SF, Dublin & London'], ['sport', 'Ireland 19-13 England'], ['sport', \"Ireland win eclipses refereeing 'errors'\"], ['N/A', 'Article no longer available in archive'], ['business', 'Japan economy slides to recession'], ['business', \"Japan's ageing workforce: built to last\"], ['N/A', 'Article no longer available in archive'], ['business', 'Japanese growth grinds to a halt'], ['business', 'Jobs go at Oracle after takeover'], ['business', 'Jobs growth still slow in the US'], ['sport', 'Johnson accuses British sprinters'], ['business', \"LSE doubts boost bidders' shares\"], ['technology', 'Lasers help bridge network gaps'], ['sport', 'Lewis-Francis turns to Christie'], ['sport', 'Man City 0-2 Man Utd'], ['sport', \"Man Utd women's team to be axed\"], ['business', 'Markets fall on weak dollar fears'], ['business', 'Marsh executive in guilty plea'], ['business', \"McDonald's boss Bell dies aged 44\"], ['sport', 'McIlroy wins 800m indoor title'], ['business', 'Mexican in US send $16bn home'], ['technology', 'Microsoft launches its own search'], ['technology', 'Microsoft releases bumper patches'], ['technology', 'Microsoft sets sights on spyware'], ['business', 'Mixed Christmas for US retailers'], ['business', 'Mixed reaction to Man Utd offer'], ['sport', 'Murray to make Cup history'], ['technology', 'Musical future for phones'], ['technology', 'Net fingerprints combat attacks'], ['technology', 'New browser wins over net surfers'], ['business', 'News Corp eyes video games market'], ['business', 'No seasonal lift for house market'], ['sport', \"O'Sullivan quick to hail Italians\"], ['business', 'Online News poll indicates economic gloom'], ['business', 'Parmalat boasts doubled profits'], ['technology', 'PlayStation 3 processor unveiled'], ['technology', 'Podcasts mark rise of DIY radio'], ['business', 'Police detain Chinese milk bosses'], ['sport', 'Poll explains free-kick decision'], ['sport', 'Radcliffe proves doubters wrong'], ['sport', 'Radcliffe will compete in London'], ['sport', 'Roddick into San Jose final'], ['sport', \"Ruddock backs Yapp's credentials\"], ['business', 'S&N extends Indian beer venture'], ['sport', 'SA return to Mauritius'], ['sport', 'Safin slumps to shock Dubai loss'], ['business', \"Sales 'fail to boost High Street'\"], ['sport', 'Santini resigns as Spurs manager'], ['sport', \"Serena ends Sania Mirza's dream\"], ['technology', 'Set your television to wow'], ['business', \"Small firms 'hit by rising costs'\"], ['sport', 'Souness delight at Euro progress'], ['sport', 'Stars shine for tsunami benefit'], ['sport', 'Strachan turns down Pompey'], ['business', 'Strong demand triggers oil rally'], ['sport', 'Sydney to host north v south game'], ['business', 'Telegraph newspapers axe 90 jobs'], ['business', 'UK bank seals South Korean deal'], ['business', 'UK homes hit £3.3 trillion total'], ['business', 'US Airways staff agree to pay cut'], ['business', 'US budget deficit to reach $368bn'], ['business', 'US interest rates increased to 2%'], ['technology', 'US woman sues over ink cartridges'], ['sport', 'Uganda FA suspended'], ['business', 'Ukraine strikes Turkmen gas deal'], ['technology', 'Video phone help for deaf people'], ['technology', 'Viewers to be able to shape TV'], ['sport', 'WRU proposes season overhaul'], ['business', 'Watchdog probes Vivendi bond sale'], ['business', 'Weak data buffets French economy'], ['sport', 'White prepared for battle'], ['sport', 'Williams stays on despite dispute'], ['business', 'Wipro beats forecasts once again'], ['business', \"WorldCom bosses' $54m payout\"], ['sport', 'Young debut cut short by Ginepri'], ['sport', \"Adriano's Chelsea link rejected\"], ['business', \"Alfa Romeos 'to get GM engines'\"], ['business', 'Amex shares up on spin-off news'], ['technology', 'Apple attacked over sources row'], ['sport', 'Aragones angered by racism fine'], ['business', \"Asian banks halt dollar's slide\"], ['technology', 'Attack prompts Bush site block'], ['sport', 'Beckham relief as Real go through'], ['sport', \"Beckham's chat reigns in Spain\"], ['sport', 'Blatter suggests offside change'], ['sport', 'Bomb threat at Bernabeu stadium'], ['sport', 'Bristol City 2-1 Milton Keynes'], ['business', 'Cairn Energy in Indian gas find'], ['sport', 'Campbell lifts lid on United feud'], ['technology', 'Can Yahoo dominate next decade?'], ['business', 'Cars pull down US retail figures'], ['sport', 'Chelsea 3-0 Portsmouth'], ['sport', 'Chepkemei hit by big ban'], ['business', \"Chinese dam firm 'defies Beijing'\"], ['technology', 'Concern over RFID tags'], ['sport', 'Davenport puts retirement on hold'], ['business', 'Dollar hits new low versus euro'], ['technology', 'Domain system opens door to scams'], ['business', 'Dutch bank to lay off 2,850 staff'], ['sport', 'Edgy Agassi struggles past Dent'], ['sport', 'Edwards tips Idowu for Euro gold'], ['business', 'Electronics firms eye plasma deal'], ['sport', 'England claim Dubai Sevens glory'], ['sport', \"England's defensive crisis grows\"], ['business', 'Ericsson sees earnings improve'], ['business', 'FAO warns on impact of subsidies'], ['sport', 'Faultless Federer has no equal'], ['sport', 'Fear will help France - Laporte'], ['technology', \"Featured: 'No re-draft' for EU patent law\"], ['N/A', 'Article no longer available in archive'], ['sport', 'Ferguson urges Henry punishment'], ['sport', 'Ferrero eyes return to top form'], ['business', 'Fiat chief takes steering wheel'], ['technology', 'Football Manager scores big time'], ['technology', 'Freeze on anti-spam campaign'], ['business', 'French suitor holds LSE meeting'], ['sport', 'Funding cut hits Wales Students'], ['technology', 'Gadget show heralds MP3 Christmas'], ['technology', \"Games firms 'face tough future'\"], ['business', 'Georgia plans hidden asset pardon'], ['business', 'German jobless rate at new record'], ['sport', 'Gerrard happy at Anfield'], ['business', 'Go-ahead for Balkan oil pipeline'], ['business', \"Golden rule 'intact' says ex-aide\"], ['sport', 'Henman overcomes rival Rusedski'], ['sport', 'Henry tipped for Fifa award'], ['sport', 'Highbury tunnel players in clear'], ['sport', 'Holmes urged to compete at Worlds'], ['technology', 'How to make a gigapixel picture'], ['sport', \"IAAF awaits Greek pair's response\"], ['business', 'ID theft surge hits US consumers'], ['N/A', 'Article no longer available in archive'], ['business', 'India and Russia in energy talks'], ['business', \"Indonesia 'declines debt freeze'\"], ['technology', 'Intel unveils laser breakthrough'], ['business', 'Iran budget seeks state sell-offs'], ['business', 'Iraq to invite phone licence bids'], ['sport', 'Ireland 17-12 South Africa'], ['sport', 'Ireland 21-19 Argentina'], ['business', 'Jarvis sells Tube stake to Spain'], ['business', 'Krispy Kreme shares hit'], ['sport', \"Kuznetsova 'failed a drugs test'\"], ['sport', 'Laporte tinkers with team'], ['sport', 'Lions blow to World Cup winners'], ['N/A', 'Article no longer available in archive'], ['technology', 'Local net TV takes off in Austria'], ['technology', 'Losing yourself in online gaming'], ['technology', 'Media gadgets get moving'], ['N/A', 'Article no longer available in archive'], ['technology', 'Mobile gaming takes off in India'], ['technology', \"More movies head to Sony's PSP\"], ['technology', 'More women turn to net security'], ['sport', 'Mourinho expects fight to finish'], ['sport', 'Moya clinches Cup for Spain'], ['sport', 'Newcastle 27-27 Gloucester'], ['sport', \"O'Driscoll saves Irish blushes\"], ['sport', \"O'Sullivan could run in Worlds\"], ['sport', 'Old Firm pair handed suspensions'], ['technology', 'Online News leads interactive Bafta wins'], ['business', 'Palestinian economy in decline'], ['technology', \"Putting a face to 'Big Brother'\"], ['business', 'Rich grab half Colombia poor fund'], ['business', 'Russia gets investment blessing'], ['business', 'Saab to build Cadillacs in Sweden'], ['technology', \"Security warning over 'FBI virus'\"], ['sport', 'Spain coach faces racism inquiry'], ['technology', 'Spam e-mails tempt net shoppers'], ['technology', 'Sporting rivals go to extra time'], ['business', 'Standard Life cuts policy bonuses'], ['business', 'Stormy year for property insurers'], ['technology', 'Swap offer for pirated Windows XP'], ['sport', 'Sydney return for Henin-Hardenne'], ['business', 'Takeover rumour lifts Exel shares'], ['sport', 'Tanzania gets Fifa backing'], ['technology', 'Technology hijacked sports'], ['technology', 'Tough rules for ringtone sellers'], ['sport', 'Trial date is set for Balco case'], ['business', 'UK house prices dip in November'], ['business', 'UK interest rates held at 4.75%'], ['business', \"Venezuela identifies 'idle' farms\"], ['sport', 'Verdict delay for Greek sprinters'], ['business', \"Verizon 'seals takeover of MCI'\"], ['business', 'Vodafone appoints new Japan boss'], ['business', 'WMC says Xstrata bid is too low'], ['technology', 'Warnings on woeful wi-fi security'], ['business', \"Wembley firm won't make a profit\"], ['business', 'Will Manchester United plc Short Squeeze Soon'], ['business', 'Worldcom director ends evidence'], ['sport', 'Yeading face Newcastle in FA Cup'], ['business', 'Yukos owner sues Russia for $28bn'], ['business', 'Yukos unit buyer faces loan claim'], ['sport', 'A need to limit foreign numbers'], ['technology', 'Apple iPod family expands market'], ['technology', \"Apple sues 'Tiger' file sharers\"], ['technology', 'Apple sues to stop product leaks'], ['sport', 'Athens memories soar above lows'], ['technology', 'Ban hits Half-Life 2 pirates hard'], ['sport', 'Bath faced with Tindall ultimatum'], ['sport', 'Bellamy fined after row'], ['business', 'Brazil approves bankruptcy reform'], ['sport', 'Britain boosted by Holmes double'], ['technology', 'Britons fed up with net service'], ['business', 'Cactus diet deal for Phytopharm'], ['business', \"Call centre users 'lose patience'\"], ['sport', 'Call for Kenteris to be cleared'], ['technology', 'Call for action on internet scam'], ['technology', \"Camera phones are 'must-haves'\"], ['business', \"China's Shanda buys stake in Sina\"], ['technology', 'Chip maker backs net phone calls'], ['N/A', 'Article no longer available in archive'], ['sport', 'Cole refuses to blame van Persie'], ['sport', 'Collins appeals against drugs ban'], ['business', 'Consumers drive French economy'], ['sport', 'Crusaders 2-3 Ballymena United'], ['sport', 'Desailly backs Blues revenge trip'], ['technology', 'Digital guru floats sub-$100 PC'], ['technology', 'Doors open at biggest gadget fair'], ['sport', 'Double injury blow strikes Wales'], ['technology', 'EU software patent law faces axe'], ['business', \"Ebbers 'aware' of WorldCom fraud\"], ['sport', 'England given tough Sevens draw'], ['technology', 'Europe backs digital TV lifestyle'], ['business', 'Executive trio leave Aer Lingus'], ['sport', 'FA Cup losing its sheen'], ['technology', 'Fast moving phone viruses appear'], ['business', \"Featured: 'Standoff' on Deutsche's LSE bid\"], ['technology', \"Featured: 'Ultimate game' award for Doom 3\"], ['sport', 'Federer joins all-time greats'], ['sport', \"Formula 1: US-Qatari investors 'to bid for sport'\"], ['business', 'Fosters buys stake in winemaker'], ['business', 'French consumer spending rising'], ['technology', \"Games 'deserve a place in class'\"], ['sport', 'Gatlin and Hayes win Owen awards'], ['business', 'German bidder in talks with LSE'], ['technology', 'Global blogger action day called'], ['sport', 'Greece defy the odds at Euro 2004'], ['sport', 'Greek pair set for hearing'], ['technology', \"Halo fans' hope for sequel\"], ['business', 'Hariri killing hits Beirut shares'], ['sport', 'Hodgson relishes European clashes'], ['sport', 'Hong Kong in 2011 World Cup bid'], ['sport', 'IAAF will contest Greek decision'], ['technology', 'IBM puts cash behind Linux push'], ['business', 'IMF agrees fresh Turkey funding'], ['business', 'India and Iran in gas export deal'], ['business', 'India power shares jump on debut'], ['business', \"India's Deccan seals $1.8bn deal\"], ['business', 'Indian oil firm eyes Yukos assets'], ['business', 'Israeli economy picking up pace'], ['business', 'Japan bank shares up on link talk'], ['business', 'Japanese mogul arrested for fraud'], ['sport', 'Kewell waits as injury drags on'], ['business', 'Khodorkovsky ally denies charges'], ['sport', 'Leeds v Saracens (Fri)'], ['sport', 'Liverpool pledge to keep Gerrard'], ['sport', 'Llewellyn plans Wales retirement'], ['business', \"Lloyd's of London head chides FSA\"], ['sport', 'Mauresmo opens with victory in LA'], ['N/A', 'Article no longer available in archive'], ['business', 'Metlife buys up Citigroup insurer'], ['technology', 'Microsoft seeking spyware trojan'], ['technology', 'Mobile audio enters new dimension'], ['technology', 'Mobile networks seek turbo boost'], ['technology', \"Movie body targets children's PCs\"], ['technology', 'Napster offers rented music to go'], ['technology', 'New business technology trends'], ['sport', 'Nike defends under-fire football'], ['technology', 'Nintendo handheld given Euro date'], ['business', 'Nissan names successor to Ghosn'], ['technology', 'Nuclear body seeks new tech'], ['business', 'Oil prices reach three-month low'], ['technology', 'Open source leaders slam patents'], ['sport', 'Owen determined to stay in Madrid'], ['sport', 'Owen set for skipper role'], ['technology', \"Peer-to-peer nets 'here to stay'\"], ['business', 'Pension hitch for long-living men'], ['N/A', 'Article no longer available in archive'], ['sport', 'Radcliffe enjoys winning comeback'], ['technology', 'Reboot ordered for EU patent law'], ['N/A', 'Article no longer available in archive'], ['sport', 'Relay squad thrilled with honours'], ['sport', 'Reyes tricked into Real admission'], ['technology', 'Rings of steel combat net attacks'], ['sport', 'Rivals back anti-racism campaign'], ['business', 'Ryanair in $4bn Boeing plane deal'], ['sport', 'SA supports Fifa control'], ['sport', 'Safin relieved at Aussie recovery'], ['N/A', 'Article no longer available in archive'], ['sport', 'Scotland 18-10 Italy'], ['sport', 'Sculthorpe wants Lions captaincy'], ['business', 'Sluggish economy hits German jobs'], ['sport', 'Souness backs Smith for Scotland'], ['technology', 'Speak easy plan for media players'], ['business', 'Steady job growth continues in US'], ['technology', 'Sun offers processing by the hour'], ['technology', 'Supercomputer breaks speed record'], ['technology', 'TV future in the hands of viewers'], ['business', 'Tate & Lyle boss bags top award'], ['sport', 'Taylor poised for Scotland return'], ['sport', 'Tevez - an Argentine in Brazil'], ['technology', 'Tough rules for ringtone sellers'], ['business', 'Tsunami cost hits Jakarta shares'], ['business', 'Two Nigerian banks set to merge'], ['technology', 'UK net users leading TV downloads'], ['business', \"US bank 'loses' customer details\"], ['technology', 'US duo in first spam conviction'], ['business', 'US firm pulls out of Iraq'], ['business', 'US gives foreign firms extra time'], ['business', 'US prepares for hybrid onslaught'], ['sport', 'Van Nistelrooy hungry for return'], ['business', 'WMC profits up amid bid criticism'], ['technology', 'Web logs aid disaster recovery'], ['N/A', 'Article no longer available in archive'], ['sport', 'Wenger offers Mutu hope'], ['sport', 'What now for Kelly Holmes?'], ['sport', 'Why technology in sport poses a threat to keeping the game fair, safe and affordable'], ['sport', 'Williams battles to Aussie title'], ['business', 'WorldCom director admits lying'], ['business', \"Yukos bankruptcy 'not US matter'\"], ['sport', 'All Black magic: New Zealand rugby'], ['sport', \"Anelka 'eyes Man City departure'\"], ['technology', 'Apple Mac mini gets warm welcome'], ['technology', \"Apple laptop is 'greatest gadget'\"], ['business', 'Asia quake increases poverty risk'], ['technology', 'Ask Jeeves joins web log market'], ['business', 'Australia rates at four year high'], ['business', 'BMW reveals new models pipeline'], ['business', 'BMW to recall faulty diesel cars'], ['business', 'Ban on forced retirement under 65'], ['business', 'Bank opts to leave rates on hold'], ['business', 'Bank voted 8-1 for no rate change'], ['business', 'Barclays profits hit record level'], ['sport', 'Beckham rules out management move'], ['business', 'Boeing secures giant Japan order'], ['sport', \"Bookies pay out on Spurs 'goal'\"], ['business', 'Booming markets shed few tears'], ['sport', 'Borders 19-20 Ulster'], ['sport', 'Bortolami predicts dour contest'], ['sport', 'Brentford v Southampton'], ['sport', 'Bridge could miss rest of season'], ['technology', \"Britons growing 'digitally obese'\"], ['technology', 'Broadband fuels online change'], ['business', 'Budget Aston takes on Porsche'], ['sport', 'Campbell rescues Arsenal'], ['business', 'Car giant hit by Mercedes slump'], ['sport', 'Celtic unhappy over Bulgaria date'], ['sport', 'Collins to compete in Birmingham'], ['technology', 'Computer grid to help the world'], ['sport', \"Connors' rallying cry for British tennis\"], ['technology', \"Consumers 'snub portable video'\"], ['business', 'Court rejects $280bn tobacco case'], ['business', 'Criminal probe on Citigroup deals'], ['sport', 'Dawson joins England injury list'], ['sport', 'Desailly backs Blues revenge trip'], ['N/A', 'Article no longer available in archive'], ['technology', 'Digital UK driven by net and TV'], ['business', 'Disney settles disclosure charges'], ['sport', 'Downing injury mars Uefa victory'], ['sport', 'Duff ruled out of Barcelona clash'], ['business', 'ECB holds rates amid growth fears'], ['technology', 'EU software patent law delayed'], ['business', 'Fiat mulls Ferrari market listing'], ['technology', 'Finding new homes for old phones'], ['technology', 'Firefox browser takes on Microsoft'], ['technology', 'France starts digital terrestrial'], ['business', 'G7 backs Africa debt relief plan'], ['sport', 'GB select Holmes for double bid'], ['business', 'GM, Ford cut output as sales fall'], ['sport', 'Gallas sees two-horse race'], ['technology', 'Games enter the classroom'], ['sport', 'Gardener battles to narrow win'], ['business', 'Gold falls on IMF sale concerns'], ['business', 'Green reports shun supply chain'], ['technology', 'Half-Life 2 sweeps Bafta awards'], ['sport', 'Hearts 2-1 Livingston'], ['sport', 'Hingis to make unexpected return'], ['sport', \"Hitzlsperger waiting on O'Leary\"], ['technology', 'How to make a greener computer'], ['sport', 'IAAF to rule on Greek sprint pair'], ['business', \"IMF 'cuts' German growth estimate\"], ['business', 'Indonesians face fuel price rise'], ['technology', 'Internet boom for gift shopping'], ['sport', 'Iranian misses Israel match'], ['business', 'Japanese banking battle at an end'], ['sport', 'Johnson announces June retirement'], ['sport', 'Johnson edges out rival Sotherton'], ['sport', \"Jol joy at 'professional' Cup win\"], ['sport', 'Jones files Conte lawsuit'], ['technology', 'Junk e-mails on relentless rise'], ['business', 'Karachi stocks hit historic high'], ['technology', 'Kenyan school turns to handhelds'], ['technology', 'Looks and music to drive mobiles'], ['business', \"McDonald's to sponsor MTV show\"], ['sport', 'Mexicans tracking unhappy Juninho'], ['technology', 'Microsoft gets the blogging bug'], ['N/A', 'Article no longer available in archive'], ['business', 'Millions go missing at China bank'], ['technology', \"Mobile music challenges 'iPod age'\"], ['sport', 'Moody joins up with England'], ['sport', 'Mourinho defiant on Chelsea form'], ['technology', 'Movie body hits peer-to-peer nets'], ['sport', 'Moya emotional at Davis Cup win'], ['sport', 'Newry to fight cup exit in courts'], ['technology', \"Norway upholds 'Napster' ruling\"], ['technology', 'Online News web search aids odd queries'], ['technology', 'PC photo printers challenge pros'], ['sport', 'Palace threat over Cantona masks'], ['business', 'Parmalat bank barred from suing'], ['sport', 'Pennant guilty of wasting talent'], ['sport', 'Player burn-out worries Robinson'], ['business', 'Qwest may spark MCI bidding war'], ['business', \"Rank 'set to sell off film unit'\"], ['sport', 'Reaction from Spanish press'], ['business', 'Retail sales show festive fervour'], ['sport', 'Roddick to face Saulnier in final'], ['N/A', 'Article no longer available in archive'], ['sport', 'Rush future at Chester uncertain'], ['business', 'Russian oil merger excludes Yukos'], ['business', 'S Korean credit card firm rescued'], ['sport', 'Scrum-half Williams rejoins Bath'], ['technology', 'Smartphones suffer Skulls attack'], ['technology', 'Software watching while you work'], ['sport', \"Sports Direct investors veto £11m payout to Ashley's brother\"], ['business', 'Survey confirms property slowdown'], ['sport', 'Tartan Army given safety pledge'], ['sport', 'Teenager Tait picked for England'], ['technology', 'Text message record smashed again'], ['sport', 'Thomas out of Six Nations'], ['business', 'Tobacco giants hail court ruling'], ['technology', 'Toxic web links help virus spread'], ['business', \"Tsunami slows Sri Lanka's growth\"], ['business', 'UK young top Euro earnings league'], ['technology', 'US duo in first spam conviction'], ['business', 'US regulator to rule on pain drug'], ['technology', \"US state acts to stop 'spammers'\"], ['business', 'US to probe airline travel chaos'], ['sport', 'Wales hails new superstar'], ['N/A', 'Article no longer available in archive'], ['business', 'Wall Street cheers Bush victory'], ['technology', \"What price for 'trusted PC security'?\"], ['sport', 'Wilkinson to lead England'], ['technology', 'Windows worm travels with Tetris'], ['business', 'Winter freeze keeps oil above $50'], ['business', 'Worldcom ex-boss launches defence'], ['sport', '2004 - A year to remember'], ['business', 'Absa and Barclays talks continue'], ['technology', 'Ask Jeeves joins web log market'], ['business', 'Ask Jeeves tips online ad revival'], ['business', 'BMW cash to fuel Mini production'], ['technology', 'Bad e-mail habits sustains spam'], ['business', 'Bad weather hits Nestle sales'], ['sport', 'Barbarians 19-47 New Zealand'], ['sport', 'Big guns ease through in San Jose'], ['sport', 'Blues slam Blackburn over Savage'], ['business', 'Borussia Dortmund near bust'], ['business', \"Brazil buy boosts Belgium's Inbev\"], ['technology', 'Broadband soars in 2004'], ['technology', \"China 'ripe' for media explosion\"], ['business', 'China continues breakneck growth'], ['business', \"Chinese wine tempts Italy's Illva\"], ['business', 'Consumer spending lifts US growth'], ['business', 'Could Yukos be a blessing in disguise?'], ['sport', 'Cup holders Man Utd visit Everton'], ['sport', \"D'Arcy injury adds to Ireland woe\"], ['sport', 'Dallaglio eyeing Lions tour place'], ['business', 'Delta cuts fares in survival plan'], ['business', 'Dollar gains on Greenspan speech'], ['N/A', 'Article no longer available in archive'], ['technology', 'Dozens held over ID fraud site'], ['business', \"Economy 'strong' in election year\"], ['sport', 'Edu describes tunnel fracas'], ['sport', 'European medal chances improve'], ['sport', 'Federer breezes into semi-finals'], ['sport', 'Federer claims Dubai crown'], ['sport', 'Ferdinand casts doubt over Glazer'], ['technology', 'File-swappers ready new network'], ['business', 'France Telecom gets Orange boost'], ['technology', \"Game firm holds 'cast' auditions\"], ['technology', 'Games maker fights for survival'], ['N/A', 'Article no longer available in archive'], ['technology', 'Games win for Blu-ray DVD format'], ['technology', 'Gizmondo gadget hits the shelves'], ['business', 'Glaxo aims high after profit fall'], ['technology', \"Global digital divide 'narrowing'\"], ['business', 'Google shares fall as staff sell'], ['sport', 'Hamm bows out for US'], ['sport', 'Harinordoquy suffers France axe'], ['sport', 'Hewitt overcomes wobble in Sydney'], ['technology', 'Hollywood campaign hits websites'], ['business', 'House prices rebound says Halifax'], ['business', 'India calls for fair trade rules'], ['business', 'India opens skies to competition'], ['business', 'Industrial output falls in Japan'], ['business', 'Irish markets reach all-time high'], ['business', 'Japan narrowly escapes recession'], ['business', 'Japan turns to beer alternatives'], ['technology', 'Joke e-mail virus tricks users'], ['sport', 'Jones files lawsuit against Conte'], ['sport', 'Jones happy with Henson heroics'], ['sport', \"Jones medals 'must go if guilty'\"], ['sport', 'Lewsey puzzle over disallowed try'], ['technology', \"Lifestyle 'governs mobile choice'\"], ['sport', 'Linesman defends disallowed goal'], ['sport', 'London Irish 19-33 Wasps'], ['sport', 'Melzer shocks Agassi'], ['technology', \"Microsoft plans 'safer ID' system\"], ['technology', 'Millions to miss out on the net'], ['technology', 'Mobile games come of age'], ['N/A', 'Article no longer available in archive'], ['technology', 'Mobile gig aims to rock 3G'], ['sport', 'Moya fights back for Indian title'], ['technology', 'Multi-purpose TV aids India'], ['sport', 'Munster Cup tie switched to Spain'], ['business', 'Nortel in $300m profit revision'], ['sport', 'Officials respond in court row'], ['business', 'Oil rebounds from weather effect'], ['sport', 'Parry firm over Gerrard'], ['sport', \"Parry puts Gerrard 'above money'\"], ['technology', 'Piero gives rugby perspective'], ['technology', 'Players sought for $1m prize'], ['sport', 'QPR keeper Day heads for Preston'], ['business', \"Renault boss hails 'great year'\"], ['technology', 'Report: Benitez delight after crucial win'], ['technology', 'Rings of steel combat net attacks'], ['business', \"Saudi NCCI's shares soar\"], ['technology', 'Savvy searchers fail to spot ads'], ['sport', 'Scots suffer another injury blow'], ['technology', 'Search wars hit desktop PCs'], ['technology', \"Security warning over 'FBI virus'\"], ['technology', 'Slow start to speedy net services'], ['technology', 'Sony PSP handheld console hits US'], ['technology', \"Sony PSP tipped as a 'must-have'\"], ['sport', 'Stevens named in England line-up'], ['technology', \"T-Mobile bets on 'pocket office'\"], ['business', 'Takeover offer for Sunderland FC'], ['technology', 'The future in your pocket'], ['sport', 'The gloves are off'], ['sport', \"Tigers wary of Farrell 'gamble'\"], ['business', 'Troubled Marsh under SEC scrutiny'], ['technology', 'UK gets official virus alert site'], ['technology', 'US blogger fired by her airline'], ['business', 'US company admits Benin bribery'], ['business', 'US seeks new $280bn smoker ruling'], ['technology', 'US woman sues over cartridges'], ['sport', 'Uefa approves fake grass'], ['N/A', 'Article no longer available in archive'], ['sport', 'Unclear future for striker Baros'], ['business', 'Venezuela reviews foreign deals'], ['sport', 'Vickery out of Six Nations'], ['sport', 'Wales make two changes for France'], ['technology', 'Warning over tsunami aid website'], ['business', 'Weak dollar hits Online News'], ['sport', 'Wenger dejected as Arsenal slump'], ['technology', 'What high-definition will do to DVDs'], ['technology', \"What's next for next-gen consoles?\"], ['business', 'Why few targets are better than many'], ['technology', 'Wi-fi web reaches farmers in Peru'], ['sport', 'Woodward eyes Brennan for Lions'], ['business', 'WorldCom trial starts in New York'], ['business', 'Yukos accused of lying to court'], ['business', 'Yukos drops banks from court bid'], ['sport', 'Zambia confident and cautious']]\n"
     ]
    }
   ],
   "source": [
    "res = [] # ตั้งตัวแปรเพื่อเก็บรายการข้อมูลทั้หมด\n",
    "for link in link_months: # วนลูปเข้าในเเต่ละรายการลิ้งค์ที่เก็บไว้ \n",
    "        response = requests.get(link) # ร้องขอไปที่เเต่ละลิ้งค์\n",
    "        soup = bs4.BeautifulSoup(response.content) # ใช้ bs4 เพื่อ get เนื้อหาบนหน้าเว็บได้ \n",
    "\n",
    "        table = soup.find('table') # เข้าถึงตารางที่จัดเก็บข้อมูล\n",
    "        tbody = table.find('tbody') # เลือกเฉพาะ ข้อมูลที่จัดเก็บอยู่ใน tbody tag\n",
    "        table_rows = tbody.find_all('tr') # tr ที่มีอยู่ใน tbody จะรีเทินค่ามาทั้งหมด เนื่องจากส่วนของข้อมูลที่ต้องการจะอยู่ใน tag tr --> td \n",
    "        for tr in table_rows: # วนลูปเข้าในเเต่ละเนื้อหาข่าว\n",
    "            td = tr.find_all('td') # return ข้อมูลที่อยู่ใน tag td ทั้งหมด \n",
    "            row = [tr.text.strip() for tr in td]# ตัดคำหรือช่องวา่ง เพื่อได้เนื้อหาในเเต่ละเเถว ที่ประกอบไปด้วย target เเละ หัวข้อ เเละเก็บไว้ในตัวแปร row\n",
    "            if row: # ถ้า row สำเร็จ\n",
    "                res.append(row) # ให้ append ข้อมูลในเเต่ละหน้าเว็บเข้า list res \n",
    "        print(res) # เเสดงผล"
   ]
  },
  {
   "cell_type": "markdown",
   "metadata": {},
   "source": [
    "- นำข้อมูลผลลัพธ์ target เเละ หัวข้อข่าว เข้า DataFrame"
   ]
  },
  {
   "cell_type": "code",
   "execution_count": 8,
   "metadata": {
    "scrolled": true
   },
   "outputs": [
    {
     "data": {
      "text/html": [
       "<div>\n",
       "<style scoped>\n",
       "    .dataframe tbody tr th:only-of-type {\n",
       "        vertical-align: middle;\n",
       "    }\n",
       "\n",
       "    .dataframe tbody tr th {\n",
       "        vertical-align: top;\n",
       "    }\n",
       "\n",
       "    .dataframe thead th {\n",
       "        text-align: right;\n",
       "    }\n",
       "</style>\n",
       "<table border=\"1\" class=\"dataframe\">\n",
       "  <thead>\n",
       "    <tr style=\"text-align: right;\">\n",
       "      <th></th>\n",
       "      <th>Article_category</th>\n",
       "      <th>Article_title</th>\n",
       "    </tr>\n",
       "  </thead>\n",
       "  <tbody>\n",
       "    <tr>\n",
       "      <th>0</th>\n",
       "      <td>technology</td>\n",
       "      <td>21st-Century Sports: How Digital Technology Is...</td>\n",
       "    </tr>\n",
       "    <tr>\n",
       "      <th>1</th>\n",
       "      <td>business</td>\n",
       "      <td>Asian quake hits European shares</td>\n",
       "    </tr>\n",
       "    <tr>\n",
       "      <th>2</th>\n",
       "      <td>technology</td>\n",
       "      <td>BT offers free net phone calls</td>\n",
       "    </tr>\n",
       "    <tr>\n",
       "      <th>3</th>\n",
       "      <td>business</td>\n",
       "      <td>Barclays shares up on merger talk</td>\n",
       "    </tr>\n",
       "    <tr>\n",
       "      <th>4</th>\n",
       "      <td>sport</td>\n",
       "      <td>Barkley fit for match in Ireland</td>\n",
       "    </tr>\n",
       "    <tr>\n",
       "      <th>...</th>\n",
       "      <td>...</td>\n",
       "      <td>...</td>\n",
       "    </tr>\n",
       "    <tr>\n",
       "      <th>1456</th>\n",
       "      <td>sport</td>\n",
       "      <td>Woodward eyes Brennan for Lions</td>\n",
       "    </tr>\n",
       "    <tr>\n",
       "      <th>1457</th>\n",
       "      <td>business</td>\n",
       "      <td>WorldCom trial starts in New York</td>\n",
       "    </tr>\n",
       "    <tr>\n",
       "      <th>1458</th>\n",
       "      <td>business</td>\n",
       "      <td>Yukos accused of lying to court</td>\n",
       "    </tr>\n",
       "    <tr>\n",
       "      <th>1459</th>\n",
       "      <td>business</td>\n",
       "      <td>Yukos drops banks from court bid</td>\n",
       "    </tr>\n",
       "    <tr>\n",
       "      <th>1460</th>\n",
       "      <td>sport</td>\n",
       "      <td>Zambia confident and cautious</td>\n",
       "    </tr>\n",
       "  </tbody>\n",
       "</table>\n",
       "<p>1461 rows × 2 columns</p>\n",
       "</div>"
      ],
      "text/plain": [
       "     Article_category                                      Article_title\n",
       "0          technology  21st-Century Sports: How Digital Technology Is...\n",
       "1            business                   Asian quake hits European shares\n",
       "2          technology                     BT offers free net phone calls\n",
       "3            business                  Barclays shares up on merger talk\n",
       "4               sport                   Barkley fit for match in Ireland\n",
       "...               ...                                                ...\n",
       "1456            sport                    Woodward eyes Brennan for Lions\n",
       "1457         business                  WorldCom trial starts in New York\n",
       "1458         business                    Yukos accused of lying to court\n",
       "1459         business                   Yukos drops banks from court bid\n",
       "1460            sport                      Zambia confident and cautious\n",
       "\n",
       "[1461 rows x 2 columns]"
      ]
     },
     "execution_count": 8,
     "metadata": {},
     "output_type": "execute_result"
    }
   ],
   "source": [
    "title_target = pd.DataFrame(res, columns = ['Article_category', 'Article_title']) # นำข้อมูลเข้า df พร้อมตั้งชื่อ column \n",
    "title_target"
   ]
  },
  {
   "cell_type": "markdown",
   "metadata": {},
   "source": [
    "### ตรวจสอบข้อมูลเบื้องต้น"
   ]
  },
  {
   "cell_type": "code",
   "execution_count": 9,
   "metadata": {
    "scrolled": false
   },
   "outputs": [
    {
     "data": {
      "text/html": [
       "<div>\n",
       "<style scoped>\n",
       "    .dataframe tbody tr th:only-of-type {\n",
       "        vertical-align: middle;\n",
       "    }\n",
       "\n",
       "    .dataframe tbody tr th {\n",
       "        vertical-align: top;\n",
       "    }\n",
       "\n",
       "    .dataframe thead th {\n",
       "        text-align: right;\n",
       "    }\n",
       "</style>\n",
       "<table border=\"1\" class=\"dataframe\">\n",
       "  <thead>\n",
       "    <tr style=\"text-align: right;\">\n",
       "      <th></th>\n",
       "      <th>Article_category</th>\n",
       "      <th>Article_title</th>\n",
       "    </tr>\n",
       "  </thead>\n",
       "  <tbody>\n",
       "    <tr>\n",
       "      <th>140</th>\n",
       "      <td>sport</td>\n",
       "      <td>Campbell to extend sprint career</td>\n",
       "    </tr>\n",
       "    <tr>\n",
       "      <th>141</th>\n",
       "      <td>sport</td>\n",
       "      <td>Celtic make late bid for Bellamy</td>\n",
       "    </tr>\n",
       "    <tr>\n",
       "      <th>142</th>\n",
       "      <td>sport</td>\n",
       "      <td>Charlton 1-2 Liverpool</td>\n",
       "    </tr>\n",
       "    <tr>\n",
       "      <th>143</th>\n",
       "      <td>N/A</td>\n",
       "      <td>Article no longer available in archive</td>\n",
       "    </tr>\n",
       "    <tr>\n",
       "      <th>144</th>\n",
       "      <td>sport</td>\n",
       "      <td>Chepkemei joins Edinburgh line-up</td>\n",
       "    </tr>\n",
       "    <tr>\n",
       "      <th>145</th>\n",
       "      <td>N/A</td>\n",
       "      <td>Article no longer available in archive</td>\n",
       "    </tr>\n",
       "    <tr>\n",
       "      <th>146</th>\n",
       "      <td>business</td>\n",
       "      <td>Chinese billionaire targets Manchester United ...</td>\n",
       "    </tr>\n",
       "    <tr>\n",
       "      <th>147</th>\n",
       "      <td>sport</td>\n",
       "      <td>Collins calls for Chambers return</td>\n",
       "    </tr>\n",
       "    <tr>\n",
       "      <th>148</th>\n",
       "      <td>technology</td>\n",
       "      <td>Commodore finds new lease of life</td>\n",
       "    </tr>\n",
       "    <tr>\n",
       "      <th>149</th>\n",
       "      <td>technology</td>\n",
       "      <td>Creator of first Apple Mac dies</td>\n",
       "    </tr>\n",
       "  </tbody>\n",
       "</table>\n",
       "</div>"
      ],
      "text/plain": [
       "    Article_category                                      Article_title\n",
       "140            sport                   Campbell to extend sprint career\n",
       "141            sport                   Celtic make late bid for Bellamy\n",
       "142            sport                             Charlton 1-2 Liverpool\n",
       "143              N/A             Article no longer available in archive\n",
       "144            sport                  Chepkemei joins Edinburgh line-up\n",
       "145              N/A             Article no longer available in archive\n",
       "146         business  Chinese billionaire targets Manchester United ...\n",
       "147            sport                  Collins calls for Chambers return\n",
       "148       technology                  Commodore finds new lease of life\n",
       "149       technology                    Creator of first Apple Mac dies"
      ]
     },
     "execution_count": 9,
     "metadata": {},
     "output_type": "execute_result"
    }
   ],
   "source": [
    "# เรียกดูค่าข้อมูล\n",
    "title_target.iloc[140:150]"
   ]
  },
  {
   "cell_type": "markdown",
   "metadata": {},
   "source": [
    ">จากผลลัพธ์ด้านบนจะพบว่ามีบางเเถวที่ไม่มีเนื้อหาข่าวอยู่จริง หรือเป็นค่าว่าง จึงจะทำการลบออกก่อน เพื่อได้ข้อมูลเฉพาะที่มีเนื้อหาข่าวจริงๆ มาใช้ได้ "
   ]
  },
  {
   "cell_type": "markdown",
   "metadata": {},
   "source": [
    "### ทำความสะอาดข้อมูล"
   ]
  },
  {
   "cell_type": "code",
   "execution_count": 10,
   "metadata": {},
   "outputs": [
    {
     "data": {
      "text/plain": [
       "1408"
      ]
     },
     "execution_count": 10,
     "metadata": {},
     "output_type": "execute_result"
    }
   ],
   "source": [
    "# ลบเเถวที่มีค่าว่าง (N/A) โดยการเลือกเฉพาะค่าที่ไม่มี text  N/A\n",
    "title_target = title_target[title_target.Article_category != 'N/A'] \n",
    "len(title_target)"
   ]
  },
  {
   "cell_type": "markdown",
   "metadata": {},
   "source": [
    "### ตรวจเช็คข้อมูลหลังจากลบค่าว่างออกเเล้ว"
   ]
  },
  {
   "cell_type": "code",
   "execution_count": 11,
   "metadata": {},
   "outputs": [
    {
     "data": {
      "text/plain": [
       "sport         526\n",
       "business      491\n",
       "technology    391\n",
       "Name: Article_category, dtype: int64"
      ]
     },
     "execution_count": 11,
     "metadata": {},
     "output_type": "execute_result"
    }
   ],
   "source": [
    "title_target['Article_category'].value_counts() # เพื่อตรวจเช็คว่าไม่มีข้อมูลที่ผิดปกติอยู่ "
   ]
  },
  {
   "cell_type": "markdown",
   "metadata": {},
   "source": [
    "### reset index ใหม่จะได้ จำนวนข้อมูลทั้งหมด 1408 เเถวข้อมูล"
   ]
  },
  {
   "cell_type": "code",
   "execution_count": 12,
   "metadata": {
    "scrolled": true
   },
   "outputs": [
    {
     "data": {
      "text/html": [
       "<div>\n",
       "<style scoped>\n",
       "    .dataframe tbody tr th:only-of-type {\n",
       "        vertical-align: middle;\n",
       "    }\n",
       "\n",
       "    .dataframe tbody tr th {\n",
       "        vertical-align: top;\n",
       "    }\n",
       "\n",
       "    .dataframe thead th {\n",
       "        text-align: right;\n",
       "    }\n",
       "</style>\n",
       "<table border=\"1\" class=\"dataframe\">\n",
       "  <thead>\n",
       "    <tr style=\"text-align: right;\">\n",
       "      <th></th>\n",
       "      <th>Article_category</th>\n",
       "      <th>Article_title</th>\n",
       "    </tr>\n",
       "  </thead>\n",
       "  <tbody>\n",
       "    <tr>\n",
       "      <th>0</th>\n",
       "      <td>technology</td>\n",
       "      <td>21st-Century Sports: How Digital Technology Is...</td>\n",
       "    </tr>\n",
       "    <tr>\n",
       "      <th>1</th>\n",
       "      <td>business</td>\n",
       "      <td>Asian quake hits European shares</td>\n",
       "    </tr>\n",
       "    <tr>\n",
       "      <th>2</th>\n",
       "      <td>technology</td>\n",
       "      <td>BT offers free net phone calls</td>\n",
       "    </tr>\n",
       "    <tr>\n",
       "      <th>3</th>\n",
       "      <td>business</td>\n",
       "      <td>Barclays shares up on merger talk</td>\n",
       "    </tr>\n",
       "    <tr>\n",
       "      <th>4</th>\n",
       "      <td>sport</td>\n",
       "      <td>Barkley fit for match in Ireland</td>\n",
       "    </tr>\n",
       "    <tr>\n",
       "      <th>...</th>\n",
       "      <td>...</td>\n",
       "      <td>...</td>\n",
       "    </tr>\n",
       "    <tr>\n",
       "      <th>1403</th>\n",
       "      <td>sport</td>\n",
       "      <td>Woodward eyes Brennan for Lions</td>\n",
       "    </tr>\n",
       "    <tr>\n",
       "      <th>1404</th>\n",
       "      <td>business</td>\n",
       "      <td>WorldCom trial starts in New York</td>\n",
       "    </tr>\n",
       "    <tr>\n",
       "      <th>1405</th>\n",
       "      <td>business</td>\n",
       "      <td>Yukos accused of lying to court</td>\n",
       "    </tr>\n",
       "    <tr>\n",
       "      <th>1406</th>\n",
       "      <td>business</td>\n",
       "      <td>Yukos drops banks from court bid</td>\n",
       "    </tr>\n",
       "    <tr>\n",
       "      <th>1407</th>\n",
       "      <td>sport</td>\n",
       "      <td>Zambia confident and cautious</td>\n",
       "    </tr>\n",
       "  </tbody>\n",
       "</table>\n",
       "<p>1408 rows × 2 columns</p>\n",
       "</div>"
      ],
      "text/plain": [
       "     Article_category                                      Article_title\n",
       "0          technology  21st-Century Sports: How Digital Technology Is...\n",
       "1            business                   Asian quake hits European shares\n",
       "2          technology                     BT offers free net phone calls\n",
       "3            business                  Barclays shares up on merger talk\n",
       "4               sport                   Barkley fit for match in Ireland\n",
       "...               ...                                                ...\n",
       "1403            sport                    Woodward eyes Brennan for Lions\n",
       "1404         business                  WorldCom trial starts in New York\n",
       "1405         business                    Yukos accused of lying to court\n",
       "1406         business                   Yukos drops banks from court bid\n",
       "1407            sport                      Zambia confident and cautious\n",
       "\n",
       "[1408 rows x 2 columns]"
      ]
     },
     "execution_count": 12,
     "metadata": {},
     "output_type": "execute_result"
    }
   ],
   "source": [
    "title_target = title_target.reset_index(drop=True) \n",
    "title_target"
   ]
  },
  {
   "cell_type": "markdown",
   "metadata": {},
   "source": [
    "-------------------------------------------------------"
   ]
  },
  {
   "cell_type": "markdown",
   "metadata": {},
   "source": [
    "## 2. เก็บข้อมูล content เเละหัวข้อของข่าว "
   ]
  },
  {
   "cell_type": "markdown",
   "metadata": {},
   "source": [
    "### <ul><li>get name link in each title news เก็บชื่อลิ้งค์ของเเต่ละหัวข้อข่าวเพื่อดึง content ข่าว ผลลัพธ์ที่ได้จากขั้นตอนนี้คือ ชื่อหลังสุดที่ปรากฏบน link ข่าว ตั้งเเต่เดือน มกราคา - ธันวาคม<ul>"
   ]
  },
  {
   "cell_type": "code",
   "execution_count": 13,
   "metadata": {},
   "outputs": [
    {
     "name": "stdout",
     "output_type": "stream",
     "text": [
      "['article-jan-0418.html', 'article-jan-0027.html', 'article-jan-0631.html', 'article-jan-2105.html', 'article-jan-3300.html', 'article-jan-4187.html', 'article-jan-1974.html', 'article-jan-3666.html', 'article-jan-2629.html', 'article-jan-2415.html', 'article-jan-4210.html', 'article-jan-4789.html', 'article-jan-3452.html', 'article-jan-2428.html', 'article-jan-4766.html', 'article-jan-2595.html', 'article-jan-2935.html', 'article-jan-0578.html', 'article-jan-3023.html', 'article-jan-2356.html', 'article-jan-1023.html', 'article-jan-0641.html', 'article-jan-2461.html', 'article-jan-4541.html', 'article-jan-1259.html', 'article-jan-4007.html', 'article-jan-4171.html', 'article-jan-0272.html', 'article-jan-4894.html', 'article-jan-4504.html', 'article-jan-1740.html', 'article-jan-2390.html', 'article-jan-4471.html', 'article-jan-3978.html', 'article-jan-2209.html', 'article-jan-0858.html', 'article-jan-3187.html', 'article-jan-1282.html', 'article-jan-3414.html', 'article-jan-2289.html', 'article-jan-1899.html', 'article-jan-3686.html', 'article-jan-3679.html', 'article-jan-1469.html', 'article-jan-4815.html', 'article-jan-1761.html', 'article-jan-4519.html', 'article-jan-0248.html', 'article-jan-1280.html', 'article-jan-0154.html', 'article-jan-4182.html', 'article-jan-3155.html', 'article-jan-0502.html', 'article-jan-1027.html', 'article-jan-3810.html', 'article-jan-1481.html', 'article-jan-2551.html', 'article-jan-0989.html', 'article-jan-0633.html', 'article-jan-1566.html', 'article-jan-0791.html', 'article-jan-2691.html', 'article-jan-3650.html', 'article-jan-1867.html', 'article-jan-2835.html', 'article-jan-1079.html', 'article-jan-4592.html', 'article-jan-4111.html', 'article-jan-0599.html', 'article-jan-0969.html', 'article-jan-2042.html', 'article-jan-0050.html', 'article-jan-4860.html', 'article-jan-0180.html', 'article-jan-1582.html', 'article-jan-4456.html', 'article-jan-3002.html', 'article-jan-2380.html', 'article-jan-3243.html', 'article-jan-3151.html', 'article-jan-2619.html', 'article-jan-1811.html', 'article-jan-3831.html', 'article-jan-4567.html', 'article-jan-3938.html', 'article-jan-4175.html', 'article-jan-0237.html', 'article-jan-0924.html', 'article-jan-1731.html', 'article-jan-3981.html', 'article-jan-2769.html', 'article-jan-2140.html', 'article-jan-3329.html', 'article-jan-1087.html', 'article-jan-0480.html', 'article-jan-2591.html', 'article-jan-2407.html', 'article-jan-1520.html', 'article-jan-3036.html', 'article-jan-1051.html', 'article-jan-2864.html', 'article-jan-4078.html', 'article-jan-0269.html', 'article-jan-1728.html', 'article-jan-0976.html', 'article-jan-3315.html', 'article-jan-3425.html', 'article-jan-1296.html', 'article-jan-4675.html', 'article-jan-3694.html', 'article-jan-1550.html', 'article-jan-1587.html', 'article-jan-0587.html', 'article-jan-1650.html', 'article-jan-0867.html', 'article-jan-0457.html', 'article-jan-2075.html', 'article-jan-3244.html', 'article-feb-3392.html', 'article-feb-0704.html', 'article-feb-0913.html', 'article-feb-3975.html', 'article-feb-0641.html', 'article-feb-0608.html', 'article-feb-4436.html', 'article-feb-0930.html', 'article-feb-4492.html', 'article-feb-4474.html', 'article-feb-4340.html', 'article-feb-1116.html', 'article-feb-2873.html', 'article-feb-2303.html', 'article-feb-2977.html', 'article-feb-4547.html', 'article-feb-3154.html', 'article-feb-1466.html', 'article-feb-3116.html', 'article-feb-3641.html', 'article-feb-3724.html', 'article-feb-1553.html', 'article-feb-0192.html', 'article-feb-2830.html', 'article-feb-2366.html', 'article-feb-3261.html', 'article-feb-2526.html', 'article-feb-3097.html', 'article-feb-1454.html', 'article-feb-0258.html', 'article-feb-4548.html', 'article-feb-0679.html', 'article-feb-1000.html', 'article-feb-1821.html', 'article-feb-4494.html', 'article-feb-0250.html', 'article-feb-2382.html', 'article-feb-4407.html', 'article-feb-3768.html', 'article-feb-3375.html', 'article-feb-2553.html', 'article-feb-2750.html', 'article-feb-0829.html', 'article-feb-3941.html', 'article-feb-1333.html', 'article-feb-3708.html', 'article-feb-1684.html', 'article-feb-4876.html', 'article-feb-1493.html', 'article-feb-0113.html', 'article-feb-2502.html', 'article-feb-2351.html', 'article-feb-1245.html', 'article-feb-2809.html', 'article-feb-4569.html', 'article-feb-4323.html', 'article-feb-3937.html', 'article-feb-1582.html', 'article-feb-1312.html', 'article-feb-2836.html', 'article-feb-0505.html', 'article-feb-3556.html', 'article-feb-4691.html', 'article-feb-4543.html', 'article-feb-3028.html', 'article-feb-1960.html', 'article-feb-4127.html', 'article-feb-4247.html', 'article-feb-2114.html', 'article-feb-0571.html', 'article-feb-0451.html', 'article-feb-1201.html', 'article-feb-4578.html', 'article-feb-3474.html', 'article-feb-4987.html', 'article-feb-4718.html', 'article-feb-2135.html', 'article-feb-1118.html', 'article-feb-4768.html', 'article-feb-4017.html', 'article-feb-1005.html', 'article-feb-0504.html', 'article-feb-1308.html', 'article-feb-2371.html', 'article-feb-3067.html', 'article-feb-1134.html', 'article-feb-1004.html', 'article-feb-0814.html', 'article-feb-4229.html', 'article-feb-0630.html', 'article-feb-2030.html', 'article-feb-1336.html', 'article-feb-3074.html', 'article-feb-1812.html', 'article-feb-1149.html', 'article-feb-0800.html', 'article-feb-2206.html', 'article-feb-0110.html', 'article-feb-3700.html', 'article-feb-4539.html', 'article-feb-0707.html', 'article-feb-2055.html', 'article-feb-4838.html', 'article-feb-2802.html', 'article-feb-2640.html', 'article-feb-4399.html', 'article-feb-0406.html', 'article-feb-2304.html', 'article-feb-2170.html', 'article-feb-3783.html', 'article-feb-4402.html', 'article-feb-1028.html', 'article-feb-2316.html', 'article-feb-0243.html', 'article-feb-2017.html', 'article-feb-2660.html', 'article-feb-0224.html', 'article-feb-2955.html', 'article-feb-4616.html', 'article-feb-0576.html', 'article-feb-0519.html', 'article-feb-1952.html', 'article-mar-1126.html', 'article-mar-3331.html', 'article-mar-3141.html', 'article-mar-3697.html', 'article-mar-3655.html', 'article-mar-2120.html', 'article-mar-2380.html', 'article-mar-1445.html', 'article-mar-1627.html', 'article-mar-0220.html', 'article-mar-1595.html', 'article-mar-4085.html', 'article-mar-2495.html', 'article-mar-4902.html', 'article-mar-3484.html', 'article-mar-1905.html', 'article-mar-1702.html', 'article-mar-4607.html', 'article-mar-4510.html', 'article-mar-1543.html', 'article-mar-0210.html', 'article-mar-1989.html', 'article-mar-4293.html', 'article-mar-0521.html', 'article-mar-3692.html', 'article-mar-2874.html', 'article-mar-3420.html', 'article-mar-3360.html', 'article-mar-0037.html', 'article-mar-2432.html', 'article-mar-1244.html', 'article-mar-1251.html', 'article-mar-0183.html', 'article-mar-2000.html', 'article-mar-3083.html', 'article-mar-3722.html', 'article-mar-1165.html', 'article-mar-2123.html', 'article-mar-3909.html', 'article-mar-0579.html', 'article-mar-3023.html', 'article-mar-0977.html', 'article-mar-4216.html', 'article-mar-2195.html', 'article-mar-4576.html', 'article-mar-2382.html', 'article-mar-0012.html', 'article-mar-4343.html', 'article-mar-3567.html', 'article-mar-1674.html', 'article-mar-3810.html', 'article-mar-3301.html', 'article-mar-2795.html', 'article-mar-3037.html', 'article-mar-1629.html', 'article-mar-0481.html', 'article-mar-0388.html', 'article-mar-1453.html', 'article-mar-1606.html', 'article-mar-1230.html', 'article-mar-3153.html', 'article-mar-0170.html', 'article-mar-4481.html', 'article-mar-4754.html', 'article-mar-3612.html', 'article-mar-3927.html', 'article-mar-4340.html', 'article-mar-1335.html', 'article-mar-2040.html', 'article-mar-0033.html', 'article-mar-2536.html', 'article-mar-4512.html', 'article-mar-4615.html', 'article-mar-4246.html', 'article-mar-4861.html', 'article-mar-4279.html', 'article-mar-4599.html', 'article-mar-2276.html', 'article-mar-1739.html', 'article-mar-4407.html', 'article-mar-3144.html', 'article-mar-0182.html', 'article-mar-2488.html', 'article-mar-4584.html', 'article-mar-4102.html', 'article-mar-3792.html', 'article-mar-0131.html', 'article-mar-4398.html', 'article-mar-0463.html', 'article-mar-0029.html', 'article-mar-4749.html', 'article-mar-3392.html', 'article-mar-0952.html', 'article-mar-1203.html', 'article-mar-2048.html', 'article-mar-3318.html', 'article-mar-2788.html', 'article-mar-4562.html', 'article-mar-0620.html', 'article-mar-4001.html', 'article-mar-1599.html', 'article-mar-2785.html', 'article-mar-1454.html', 'article-mar-1913.html', 'article-mar-4140.html', 'article-mar-4357.html', 'article-mar-4898.html', 'article-mar-0550.html', 'article-mar-2508.html', 'article-mar-2039.html', 'article-mar-4111.html', 'article-mar-4582.html', 'article-mar-3651.html', 'article-mar-3663.html', 'article-mar-4500.html', 'article-mar-1916.html', 'article-apr-1897.html', 'article-apr-2967.html', 'article-apr-2939.html', 'article-apr-0145.html', 'article-apr-1938.html', 'article-apr-1748.html', 'article-apr-2559.html', 'article-apr-1306.html', 'article-apr-2454.html', 'article-apr-0039.html', 'article-apr-1044.html', 'article-apr-2151.html', 'article-apr-2808.html', 'article-apr-4324.html', 'article-apr-2873.html', 'article-apr-4741.html', 'article-apr-0433.html', 'article-apr-4890.html', 'article-apr-4575.html', 'article-apr-0228.html', 'article-apr-4827.html', 'article-apr-1926.html', 'article-apr-1571.html', 'article-apr-1904.html', 'article-apr-3933.html', 'article-apr-4960.html', 'article-apr-4241.html', 'article-apr-4901.html', 'article-apr-0724.html', 'article-apr-4907.html', 'article-apr-3088.html', 'article-apr-0395.html', 'article-apr-4460.html', 'article-apr-0524.html', 'article-apr-3536.html', 'article-apr-4694.html', 'article-apr-3827.html', 'article-apr-2270.html', 'article-apr-0205.html', 'article-apr-1858.html', 'article-apr-3390.html', 'article-apr-3841.html', 'article-apr-4467.html', 'article-apr-3842.html', 'article-apr-3718.html', 'article-apr-0784.html', 'article-apr-2677.html', 'article-apr-3475.html', 'article-apr-2558.html', 'article-apr-2706.html', 'article-apr-4921.html', 'article-apr-0240.html', 'article-apr-2106.html', 'article-apr-0622.html', 'article-apr-4699.html', 'article-apr-4622.html', 'article-apr-2061.html', 'article-apr-0646.html', 'article-apr-4064.html', 'article-apr-4854.html', 'article-apr-4446.html', 'article-apr-0150.html', 'article-apr-3146.html', 'article-apr-1270.html', 'article-apr-2879.html', 'article-apr-1276.html', 'article-apr-0061.html', 'article-apr-1620.html', 'article-apr-2704.html', 'article-apr-4823.html', 'article-apr-0564.html', 'article-apr-0338.html', 'article-apr-4399.html', 'article-apr-4686.html', 'article-apr-2813.html', 'article-apr-0953.html', 'article-apr-2019.html', 'article-apr-0042.html', 'article-apr-4569.html', 'article-apr-2560.html', 'article-apr-1918.html', 'article-apr-0857.html', 'article-apr-0028.html', 'article-apr-1068.html', 'article-apr-4171.html', 'article-apr-4618.html', 'article-apr-1300.html', 'article-apr-1815.html', 'article-apr-3833.html', 'article-apr-1205.html', 'article-apr-3471.html', 'article-apr-4435.html', 'article-apr-0484.html', 'article-apr-1009.html', 'article-apr-0361.html', 'article-apr-4474.html', 'article-apr-3423.html', 'article-apr-3100.html', 'article-apr-0865.html', 'article-apr-0134.html', 'article-apr-2219.html', 'article-apr-0182.html', 'article-apr-4228.html', 'article-apr-3753.html', 'article-apr-2040.html', 'article-apr-4036.html', 'article-apr-4395.html', 'article-apr-4277.html', 'article-apr-1102.html', 'article-apr-3992.html', 'article-apr-3250.html', 'article-apr-4031.html', 'article-apr-0896.html', 'article-apr-3567.html', 'article-apr-3586.html', 'article-apr-4951.html', 'article-apr-0345.html', 'article-may-0284.html', 'article-may-3980.html', 'article-may-2027.html', 'article-may-2024.html', 'article-may-2738.html', 'article-may-4424.html', 'article-may-2659.html', 'article-may-4512.html', 'article-may-0131.html', 'article-may-2874.html', 'article-may-2905.html', 'article-may-1663.html', 'article-may-1702.html', 'article-may-4777.html', 'article-may-2166.html', 'article-may-1662.html', 'article-may-1837.html', 'article-may-1887.html', 'article-may-3273.html', 'article-may-2294.html', 'article-may-3257.html', 'article-may-2723.html', 'article-may-1549.html', 'article-may-0149.html', 'article-may-2122.html', 'article-may-4336.html', 'article-may-0706.html', 'article-may-0573.html', 'article-may-2915.html', 'article-may-1785.html', 'article-may-1306.html', 'article-may-2222.html', 'article-may-1674.html', 'article-may-3633.html', 'article-may-3723.html', 'article-may-2499.html', 'article-may-2400.html', 'article-may-2476.html', 'article-may-2112.html', 'article-may-2581.html', 'article-may-2727.html', 'article-may-0713.html', 'article-may-4324.html', 'article-may-4280.html', 'article-may-0143.html', 'article-may-2440.html', 'article-may-1036.html', 'article-may-0966.html', 'article-may-4655.html', 'article-may-2796.html', 'article-may-0305.html', 'article-may-2491.html', 'article-may-2781.html', 'article-may-1795.html', 'article-may-0332.html', 'article-may-4014.html', 'article-may-4886.html', 'article-may-4104.html', 'article-may-1112.html', 'article-may-0180.html', 'article-may-1740.html', 'article-may-4133.html', 'article-may-0916.html', 'article-may-3761.html', 'article-may-4517.html', 'article-may-1326.html', 'article-may-0373.html', 'article-may-4484.html', 'article-may-4229.html', 'article-may-4474.html', 'article-may-1687.html', 'article-may-1905.html', 'article-may-2611.html', 'article-may-4895.html', 'article-may-0016.html', 'article-may-1238.html', 'article-may-1947.html', 'article-may-2512.html', 'article-may-1598.html', 'article-may-4585.html', 'article-may-4874.html', 'article-may-0488.html', 'article-may-0292.html', 'article-may-3235.html', 'article-may-1464.html', 'article-may-2443.html', 'article-may-2260.html', 'article-may-3908.html', 'article-may-2514.html', 'article-may-0985.html', 'article-may-3855.html', 'article-may-0057.html', 'article-may-0549.html', 'article-may-0738.html', 'article-may-1288.html', 'article-may-2467.html', 'article-may-2263.html', 'article-may-0648.html', 'article-may-3222.html', 'article-may-1355.html', 'article-may-3184.html', 'article-may-2365.html', 'article-may-0720.html', 'article-may-3287.html', 'article-may-2299.html', 'article-may-0748.html', 'article-may-4097.html', 'article-may-2131.html', 'article-may-3461.html', 'article-may-4326.html', 'article-may-2814.html', 'article-may-2271.html', 'article-may-3619.html', 'article-may-0996.html', 'article-jun-1972.html', 'article-jun-1987.html', 'article-jun-0716.html', 'article-jun-2935.html', 'article-jun-4840.html', 'article-jun-4479.html', 'article-jun-1568.html', 'article-jun-1579.html', 'article-jun-3219.html', 'article-jun-1778.html', 'article-jun-1644.html', 'article-jun-2609.html', 'article-jun-1346.html', 'article-jun-3633.html', 'article-jun-3298.html', 'article-jun-3624.html', 'article-jun-0532.html', 'article-jun-2071.html', 'article-jun-1491.html', 'article-jun-1294.html', 'article-jun-1801.html', 'article-jun-4596.html', 'article-jun-4483.html', 'article-jun-0384.html', 'article-jun-3025.html', 'article-jun-3207.html', 'article-jun-3422.html', 'article-jun-3285.html', 'article-jun-1131.html', 'article-jun-4266.html', 'article-jun-4362.html', 'article-jun-0537.html', 'article-jun-1448.html', 'article-jun-4007.html', 'article-jun-3887.html', 'article-jun-3406.html', 'article-jun-2920.html', 'article-jun-2699.html', 'article-jun-0332.html', 'article-jun-4500.html', 'article-jun-1482.html', 'article-jun-0787.html', 'article-jun-2022.html', 'article-jun-3687.html', 'article-jun-3700.html', 'article-jun-3528.html', 'article-jun-2557.html', 'article-jun-2381.html', 'article-jun-1633.html', 'article-jun-4342.html', 'article-jun-4535.html', 'article-jun-1155.html', 'article-jun-0553.html', 'article-jun-1387.html', 'article-jun-2401.html', 'article-jun-4329.html', 'article-jun-1532.html', 'article-jun-1434.html', 'article-jun-2521.html', 'article-jun-2097.html', 'article-jun-2226.html', 'article-jun-4453.html', 'article-jun-4509.html', 'article-jun-2467.html', 'article-jun-1038.html', 'article-jun-2420.html', 'article-jun-4994.html', 'article-jun-3434.html', 'article-jun-4410.html', 'article-jun-0925.html', 'article-jun-1788.html', 'article-jun-0749.html', 'article-jun-4657.html', 'article-jun-2787.html', 'article-jun-2319.html', 'article-jun-1141.html', 'article-jun-4805.html', 'article-jun-0101.html', 'article-jun-4636.html', 'article-jun-1885.html', 'article-jun-1112.html', 'article-jun-4470.html', 'article-jun-3966.html', 'article-jun-1668.html', 'article-jun-1940.html', 'article-jun-0693.html', 'article-jun-0583.html', 'article-jun-4042.html', 'article-jun-1150.html', 'article-jun-0829.html', 'article-jun-4361.html', 'article-jun-2660.html', 'article-jun-3293.html', 'article-jun-4523.html', 'article-jun-2536.html', 'article-jun-0684.html', 'article-jun-3126.html', 'article-jun-1396.html', 'article-jun-3380.html', 'article-jun-3599.html', 'article-jun-0780.html', 'article-jun-0505.html', 'article-jun-2320.html', 'article-jun-3360.html', 'article-jun-1094.html', 'article-jun-2505.html', 'article-jun-2405.html', 'article-jun-4106.html', 'article-jun-0039.html', 'article-jun-2519.html', 'article-jun-1446.html', 'article-jun-1293.html', 'article-jun-4259.html', 'article-jun-4520.html', 'article-jul-1745.html', 'article-jul-0465.html', 'article-jul-4512.html', 'article-jul-2758.html', 'article-jul-4068.html', 'article-jul-1257.html', 'article-jul-2965.html', 'article-jul-2977.html', 'article-jul-0794.html', 'article-jul-0495.html', 'article-jul-2215.html', 'article-jul-4187.html', 'article-jul-3607.html', 'article-jul-3406.html', 'article-jul-4480.html', 'article-jul-4575.html', 'article-jul-2829.html', 'article-jul-4356.html', 'article-jul-3487.html', 'article-jul-3941.html', 'article-jul-4527.html', 'article-jul-3516.html', 'article-jul-0165.html', 'article-jul-2340.html', 'article-jul-4614.html', 'article-jul-2009.html', 'article-jul-2742.html', 'article-jul-3010.html', 'article-jul-4101.html', 'article-jul-2708.html', 'article-jul-4268.html', 'article-jul-4019.html', 'article-jul-1748.html', 'article-jul-1249.html', 'article-jul-4170.html', 'article-jul-2162.html', 'article-jul-0339.html', 'article-jul-2286.html', 'article-jul-2988.html', 'article-jul-4021.html', 'article-jul-4373.html', 'article-jul-4895.html', 'article-jul-4326.html', 'article-jul-0662.html', 'article-jul-2558.html', 'article-jul-3455.html', 'article-jul-4969.html', 'article-jul-3422.html', 'article-jul-1711.html', 'article-jul-2063.html', 'article-jul-2960.html', 'article-jul-4915.html', 'article-jul-4812.html', 'article-jul-3520.html', 'article-jul-0643.html', 'article-jul-3273.html', 'article-jul-3870.html', 'article-jul-0803.html', 'article-jul-4157.html', 'article-jul-0297.html', 'article-jul-4908.html', 'article-jul-1013.html', 'article-jul-4496.html', 'article-jul-3168.html', 'article-jul-4242.html', 'article-jul-2527.html', 'article-jul-1760.html', 'article-jul-4400.html', 'article-jul-4827.html', 'article-jul-4341.html', 'article-jul-3525.html', 'article-jul-2544.html', 'article-jul-0637.html', 'article-jul-4798.html', 'article-jul-2909.html', 'article-jul-2815.html', 'article-jul-4628.html', 'article-jul-1361.html', 'article-jul-0597.html', 'article-jul-2241.html', 'article-jul-1728.html', 'article-jul-1219.html', 'article-jul-4829.html', 'article-jul-1320.html', 'article-jul-2463.html', 'article-jul-3438.html', 'article-jul-4719.html', 'article-jul-3289.html', 'article-jul-2439.html', 'article-jul-3943.html', 'article-jul-3331.html', 'article-jul-3957.html', 'article-jul-0733.html', 'article-jul-0168.html', 'article-jul-2667.html', 'article-jul-4244.html', 'article-jul-0334.html', 'article-jul-0645.html', 'article-jul-3380.html', 'article-jul-0019.html', 'article-jul-4790.html', 'article-jul-4384.html', 'article-jul-3522.html', 'article-jul-1717.html', 'article-jul-1112.html', 'article-jul-0202.html', 'article-jul-1885.html', 'article-jul-3830.html', 'article-jul-0931.html', 'article-jul-1059.html', 'article-jul-3879.html', 'article-jul-4233.html', 'article-jul-0417.html', 'article-jul-3332.html', 'article-jul-0589.html', 'article-jul-4193.html', 'article-jul-0503.html', 'article-jul-1350.html', 'article-jul-1729.html', 'article-jul-4500.html', 'article-jul-3874.html', 'article-jul-2168.html', 'article-aug-3515.html', 'article-aug-1123.html', 'article-aug-4475.html', 'article-aug-3384.html', 'article-aug-4019.html', 'article-aug-0806.html', 'article-aug-4964.html', 'article-aug-4265.html', 'article-aug-3926.html', 'article-aug-4614.html', 'article-aug-2567.html', 'article-aug-4701.html', 'article-aug-0893.html', 'article-aug-4668.html', 'article-aug-1637.html', 'article-aug-0324.html', 'article-aug-0908.html', 'article-aug-1443.html', 'article-aug-3079.html', 'article-aug-0896.html', 'article-aug-4896.html', 'article-aug-3579.html', 'article-aug-4658.html', 'article-aug-2737.html', 'article-aug-1784.html', 'article-aug-2063.html', 'article-aug-1532.html', 'article-aug-0644.html', 'article-aug-3247.html', 'article-aug-2464.html', 'article-aug-2142.html', 'article-aug-1157.html', 'article-aug-2119.html', 'article-aug-3859.html', 'article-aug-1614.html', 'article-aug-3206.html', 'article-aug-3335.html', 'article-aug-2889.html', 'article-aug-0763.html', 'article-aug-0648.html', 'article-aug-1226.html', 'article-aug-2762.html', 'article-aug-0319.html', 'article-aug-3240.html', 'article-aug-1817.html', 'article-aug-0781.html', 'article-aug-4887.html', 'article-aug-4692.html', 'article-aug-0685.html', 'article-aug-1101.html', 'article-aug-1823.html', 'article-aug-3199.html', 'article-aug-0176.html', 'article-aug-1452.html', 'article-aug-3112.html', 'article-aug-0373.html', 'article-aug-4936.html', 'article-aug-1558.html', 'article-aug-3754.html', 'article-aug-2783.html', 'article-aug-4587.html', 'article-aug-3962.html', 'article-aug-0665.html', 'article-aug-3312.html', 'article-aug-2549.html', 'article-aug-4009.html', 'article-aug-2180.html', 'article-aug-3857.html', 'article-aug-3877.html', 'article-aug-3101.html', 'article-aug-3408.html', 'article-aug-3126.html', 'article-aug-2688.html', 'article-aug-2601.html', 'article-aug-1976.html', 'article-aug-4015.html', 'article-aug-4910.html', 'article-aug-1990.html', 'article-aug-3360.html', 'article-aug-3213.html', 'article-aug-3564.html', 'article-aug-4998.html', 'article-aug-0801.html', 'article-aug-4456.html', 'article-aug-4931.html', 'article-aug-4232.html', 'article-aug-1046.html', 'article-aug-3940.html', 'article-aug-4740.html', 'article-aug-2812.html', 'article-aug-0633.html', 'article-aug-3280.html', 'article-aug-4746.html', 'article-aug-4220.html', 'article-aug-1720.html', 'article-aug-1390.html', 'article-aug-2437.html', 'article-aug-1486.html', 'article-aug-2512.html', 'article-aug-1933.html', 'article-aug-1337.html', 'article-aug-4172.html', 'article-aug-3301.html', 'article-aug-2517.html', 'article-aug-4672.html', 'article-aug-0800.html', 'article-aug-0840.html', 'article-aug-4831.html', 'article-aug-2563.html', 'article-aug-4625.html', 'article-aug-1797.html', 'article-aug-2487.html', 'article-aug-0053.html', 'article-aug-1767.html', 'article-aug-3362.html', 'article-aug-1146.html', 'article-sep-1375.html', 'article-sep-3874.html', 'article-sep-0096.html', 'article-sep-3814.html', 'article-sep-4619.html', 'article-sep-3639.html', 'article-sep-4996.html', 'article-sep-3370.html', 'article-sep-0503.html', 'article-sep-4426.html', 'article-sep-1785.html', 'article-sep-3918.html', 'article-sep-0401.html', 'article-sep-2816.html', 'article-sep-3016.html', 'article-sep-2767.html', 'article-sep-4852.html', 'article-sep-1803.html', 'article-sep-0386.html', 'article-sep-3587.html', 'article-sep-1349.html', 'article-sep-3570.html', 'article-sep-4970.html', 'article-sep-0920.html', 'article-sep-4665.html', 'article-sep-3053.html', 'article-sep-4093.html', 'article-sep-1145.html', 'article-sep-3077.html', 'article-sep-2562.html', 'article-sep-4352.html', 'article-sep-2859.html', 'article-sep-3900.html', 'article-sep-3760.html', 'article-sep-2440.html', 'article-sep-2872.html', 'article-sep-4414.html', 'article-sep-4877.html', 'article-sep-3592.html', 'article-sep-0022.html', 'article-sep-0232.html', 'article-sep-1748.html', 'article-sep-4345.html', 'article-sep-1443.html', 'article-sep-4275.html', 'article-sep-0555.html', 'article-sep-4613.html', 'article-sep-2949.html', 'article-sep-3287.html', 'article-sep-4860.html', 'article-sep-3046.html', 'article-sep-4890.html', 'article-sep-3678.html', 'article-sep-3602.html', 'article-sep-4876.html', 'article-sep-4207.html', 'article-sep-1238.html', 'article-sep-4867.html', 'article-sep-0823.html', 'article-sep-0254.html', 'article-sep-3264.html', 'article-sep-2587.html', 'article-sep-4095.html', 'article-sep-1406.html', 'article-sep-2272.html', 'article-sep-0584.html', 'article-sep-4404.html', 'article-sep-1405.html', 'article-sep-2520.html', 'article-sep-4936.html', 'article-sep-1696.html', 'article-sep-3711.html', 'article-sep-3745.html', 'article-sep-0082.html', 'article-sep-3128.html', 'article-sep-4623.html', 'article-sep-0592.html', 'article-sep-1313.html', 'article-sep-1672.html', 'article-sep-0863.html', 'article-sep-1411.html', 'article-sep-3583.html', 'article-sep-2426.html', 'article-sep-3558.html', 'article-sep-1539.html', 'article-sep-3347.html', 'article-sep-2082.html', 'article-sep-4027.html', 'article-sep-4329.html', 'article-sep-4851.html', 'article-sep-1519.html', 'article-sep-1782.html', 'article-sep-4130.html', 'article-sep-2601.html', 'article-sep-0226.html', 'article-sep-2914.html', 'article-sep-0174.html', 'article-sep-4443.html', 'article-sep-0063.html', 'article-sep-4940.html', 'article-sep-2528.html', 'article-sep-4107.html', 'article-sep-2374.html', 'article-sep-3813.html', 'article-sep-2892.html', 'article-sep-0388.html', 'article-sep-3414.html', 'article-sep-2293.html', 'article-sep-1752.html', 'article-sep-2040.html', 'article-sep-0237.html', 'article-sep-2517.html', 'article-oct-3861.html', 'article-oct-0443.html', 'article-oct-0777.html', 'article-oct-1914.html', 'article-oct-2035.html', 'article-oct-0709.html', 'article-oct-1226.html', 'article-oct-0945.html', 'article-oct-1295.html', 'article-oct-4199.html', 'article-oct-0924.html', 'article-oct-3880.html', 'article-oct-3790.html', 'article-oct-3326.html', 'article-oct-1924.html', 'article-oct-3040.html', 'article-oct-1787.html', 'article-oct-2701.html', 'article-oct-2317.html', 'article-oct-0300.html', 'article-oct-4879.html', 'article-oct-0163.html', 'article-oct-4089.html', 'article-oct-4812.html', 'article-oct-4850.html', 'article-oct-3470.html', 'article-oct-4758.html', 'article-oct-2145.html', 'article-oct-3548.html', 'article-oct-3256.html', 'article-oct-4836.html', 'article-oct-2748.html', 'article-oct-0832.html', 'article-oct-2828.html', 'article-oct-0817.html', 'article-oct-2348.html', 'article-oct-1261.html', 'article-oct-0898.html', 'article-oct-1441.html', 'article-oct-0064.html', 'article-oct-2801.html', 'article-oct-2209.html', 'article-oct-2955.html', 'article-oct-3459.html', 'article-oct-4140.html', 'article-oct-4990.html', 'article-oct-3207.html', 'article-oct-0844.html', 'article-oct-2177.html', 'article-oct-3103.html', 'article-oct-4815.html', 'article-oct-4038.html', 'article-oct-1049.html', 'article-oct-1011.html', 'article-oct-0417.html', 'article-oct-3162.html', 'article-oct-0421.html', 'article-oct-2333.html', 'article-oct-4803.html', 'article-oct-1193.html', 'article-oct-4546.html', 'article-oct-0057.html', 'article-oct-4981.html', 'article-oct-4914.html', 'article-oct-1753.html', 'article-oct-2102.html', 'article-oct-2774.html', 'article-oct-4605.html', 'article-oct-3910.html', 'article-oct-2454.html', 'article-oct-0059.html', 'article-oct-0992.html', 'article-oct-2740.html', 'article-oct-2886.html', 'article-oct-4166.html', 'article-oct-2188.html', 'article-oct-4084.html', 'article-oct-2574.html', 'article-oct-3663.html', 'article-oct-2181.html', 'article-oct-0999.html', 'article-oct-2121.html', 'article-oct-2094.html', 'article-oct-2301.html', 'article-oct-0815.html', 'article-oct-3222.html', 'article-oct-4804.html', 'article-oct-1215.html', 'article-oct-2080.html', 'article-oct-0412.html', 'article-oct-3387.html', 'article-oct-3524.html', 'article-oct-0580.html', 'article-oct-0746.html', 'article-oct-1921.html', 'article-oct-0382.html', 'article-oct-1007.html', 'article-oct-3749.html', 'article-oct-3029.html', 'article-oct-0721.html', 'article-oct-0108.html', 'article-oct-3547.html', 'article-oct-0113.html', 'article-oct-0512.html', 'article-oct-1276.html', 'article-oct-0911.html', 'article-oct-2527.html', 'article-oct-0621.html', 'article-oct-1756.html', 'article-oct-3563.html', 'article-oct-3862.html', 'article-oct-2448.html', 'article-oct-1751.html', 'article-oct-1516.html', 'article-oct-3160.html', 'article-oct-0660.html', 'article-oct-2835.html', 'article-oct-4649.html', 'article-oct-3920.html', 'article-oct-2293.html', 'article-oct-2189.html', 'article-oct-4749.html', 'article-nov-3410.html', 'article-nov-3432.html', 'article-nov-3526.html', 'article-nov-1412.html', 'article-nov-2347.html', 'article-nov-2329.html', 'article-nov-0186.html', 'article-nov-0386.html', 'article-nov-1815.html', 'article-nov-3071.html', 'article-nov-3512.html', 'article-nov-3037.html', 'article-nov-4414.html', 'article-nov-4953.html', 'article-nov-2298.html', 'article-nov-3205.html', 'article-nov-0449.html', 'article-nov-4384.html', 'article-nov-4904.html', 'article-nov-3590.html', 'article-nov-3584.html', 'article-nov-4254.html', 'article-nov-2334.html', 'article-nov-2909.html', 'article-nov-3579.html', 'article-nov-2737.html', 'article-nov-4176.html', 'article-nov-1674.html', 'article-nov-1801.html', 'article-nov-4606.html', 'article-nov-2647.html', 'article-nov-3091.html', 'article-nov-2546.html', 'article-nov-4461.html', 'article-nov-2714.html', 'article-nov-2130.html', 'article-nov-3500.html', 'article-nov-1451.html', 'article-nov-0372.html', 'article-nov-4242.html', 'article-nov-2953.html', 'article-nov-1329.html', 'article-nov-2527.html', 'article-nov-3879.html', 'article-nov-4060.html', 'article-nov-3626.html', 'article-nov-3702.html', 'article-nov-0130.html', 'article-nov-4260.html', 'article-nov-3907.html', 'article-nov-0746.html', 'article-nov-0232.html', 'article-nov-1428.html', 'article-nov-1085.html', 'article-nov-1407.html', 'article-nov-3342.html', 'article-nov-4180.html', 'article-nov-1466.html', 'article-nov-4049.html', 'article-nov-4897.html', 'article-nov-0748.html', 'article-nov-1277.html', 'article-nov-0580.html', 'article-nov-3296.html', 'article-nov-4356.html', 'article-nov-3617.html', 'article-nov-1260.html', 'article-nov-0628.html', 'article-nov-0654.html', 'article-nov-0518.html', 'article-nov-2968.html', 'article-nov-3867.html', 'article-nov-0420.html', 'article-nov-4250.html', 'article-nov-4495.html', 'article-nov-2769.html', 'article-nov-1623.html', 'article-nov-4572.html', 'article-nov-1118.html', 'article-nov-4319.html', 'article-nov-0662.html', 'article-nov-0319.html', 'article-nov-1730.html', 'article-nov-4517.html', 'article-nov-1386.html', 'article-nov-3935.html', 'article-nov-0317.html', 'article-nov-0906.html', 'article-nov-2832.html', 'article-nov-1255.html', 'article-nov-4235.html', 'article-nov-2326.html', 'article-nov-1637.html', 'article-nov-0761.html', 'article-nov-4428.html', 'article-nov-4174.html', 'article-nov-2399.html', 'article-nov-2282.html', 'article-nov-1288.html', 'article-nov-3650.html', 'article-nov-0435.html', 'article-nov-1149.html', 'article-nov-0147.html', 'article-nov-1264.html', 'article-nov-2018.html', 'article-nov-2115.html', 'article-nov-4659.html', 'article-nov-2397.html', 'article-nov-1341.html', 'article-nov-3574.html', 'article-nov-2226.html', 'article-nov-0560.html', 'article-nov-4374.html', 'article-nov-0575.html', 'article-nov-1388.html', 'article-nov-3587.html', 'article-nov-0584.html', 'article-nov-4426.html', 'article-nov-2469.html', 'article-nov-1794.html', 'article-nov-1348.html', 'article-dec-0244.html', 'article-dec-0895.html', 'article-dec-4490.html', 'article-dec-0891.html', 'article-dec-0672.html', 'article-dec-3487.html', 'article-dec-0478.html', 'article-dec-2633.html', 'article-dec-4269.html', 'article-dec-1656.html', 'article-dec-3628.html', 'article-dec-2267.html', 'article-dec-4194.html', 'article-dec-2360.html', 'article-dec-2956.html', 'article-dec-4469.html', 'article-dec-2115.html', 'article-dec-0625.html', 'article-dec-2771.html', 'article-dec-0788.html', 'article-dec-1911.html', 'article-dec-3413.html', 'article-dec-0038.html', 'article-dec-0035.html', 'article-dec-4444.html', 'article-dec-4307.html', 'article-dec-4450.html', 'article-dec-3044.html', 'article-dec-3401.html', 'article-dec-1775.html', 'article-dec-2589.html', 'article-dec-3264.html', 'article-dec-0784.html', 'article-dec-2635.html', 'article-dec-3589.html', 'article-dec-3518.html', 'article-dec-0473.html', 'article-dec-2110.html', 'article-dec-2790.html', 'article-dec-0180.html', 'article-dec-3784.html', 'article-dec-3423.html', 'article-dec-4596.html', 'article-dec-1585.html', 'article-dec-2351.html', 'article-dec-2624.html', 'article-dec-1865.html', 'article-dec-0232.html', 'article-dec-4377.html', 'article-dec-4926.html', 'article-dec-1263.html', 'article-dec-1718.html', 'article-dec-2008.html', 'article-dec-4999.html', 'article-dec-3411.html', 'article-dec-2288.html', 'article-dec-1460.html', 'article-dec-3392.html', 'article-dec-0393.html', 'article-dec-1629.html', 'article-dec-1156.html', 'article-dec-0557.html', 'article-dec-4844.html', 'article-dec-3260.html', 'article-dec-1963.html', 'article-dec-3608.html', 'article-dec-4161.html', 'article-dec-0910.html', 'article-dec-4820.html', 'article-dec-2402.html', 'article-dec-1135.html', 'article-dec-0909.html', 'article-dec-4678.html', 'article-dec-0712.html', 'article-dec-0481.html', 'article-dec-3993.html', 'article-dec-3175.html', 'article-dec-3052.html', 'article-dec-3186.html', 'article-dec-0204.html', 'article-dec-4675.html', 'article-dec-2813.html', 'article-dec-3030.html', 'article-dec-3403.html', 'article-dec-2445.html', 'article-dec-4353.html', 'article-dec-2117.html', 'article-dec-3966.html', 'article-dec-1690.html', 'article-dec-3207.html', 'article-dec-2963.html', 'article-dec-2023.html', 'article-dec-2397.html', 'article-dec-3903.html', 'article-dec-3692.html', 'article-dec-0367.html', 'article-dec-3169.html', 'article-dec-0271.html', 'article-dec-4210.html', 'article-dec-0983.html', 'article-dec-3570.html', 'article-dec-2331.html', 'article-dec-3694.html', 'article-dec-1576.html', 'article-dec-4918.html', 'article-dec-2759.html', 'article-dec-4347.html', 'article-dec-3179.html', 'article-dec-1456.html', 'article-dec-2238.html', 'article-dec-2334.html', 'article-dec-2095.html', 'article-dec-1351.html', 'article-dec-0068.html']\n"
     ]
    },
    {
     "data": {
      "text/plain": [
       "1408"
      ]
     },
     "execution_count": 13,
     "metadata": {},
     "output_type": "execute_result"
    }
   ],
   "source": [
    "# Get all name link \n",
    "link_url = []\n",
    "for month in link_month:  # วนเข้าในตัวแปร link month ที่เคยเก็บไว้ทั้งหมด 12 link \n",
    "    response1 = requests.get(f'http://www.it.kmitl.ac.th/~teerapong/news_archive/{month}') # ร้องขอไปที่ link ในเเต่ละเดือน\n",
    "#     print(response1)\n",
    "    soup = bs4.BeautifulSoup(response1.content, 'lxml')\n",
    "    getlink = soup.find_all('a') # หา tag a ทั้งหมดบนหน้าเว็บเพราะ tag a จะมีชื่อ link ข่าวในเเต่ละหัวข้อ\n",
    "    for link in getlink: # วนลูปเข้า tag a ทั้งหมด \n",
    "        if 'href' in link.attrs: # ถ้ามี attribute href อู่ในเเต่ละ tag a ให้ append ชื่อหลัง href เข้า list link_url\n",
    "            link_url.append(link.attrs['href'])\n",
    "            \n",
    "# เนื่องจากเรานำลิงค์เข้าทั้งหมด เเละเเต่ละหน้าเว็บจะมีรายการลิ้งที่ไม่ใช้ในการดึงข้อมูลออกมาด้วย  จึงทำการลบออก \n",
    "    for i in range(-4,0,1): # ลบเฉพาะ 4 ตัวสุดท้าย เช่น '#' เเละ index.html ที่ได้จาก link เพื่อกลับไปยังหน้าเเรก \n",
    "        link_url.pop(i) # ลบรายการที่ไม่เกี่ยวข้องออกโดยลบตัวสุดท้ายทีละตัว\n",
    "#     len(listlinks) # \n",
    "print(link_url) # เรียกดูรายการ link ในเเต่ละหัวข้อข่าว จะได้ชื่อสุดท้ายของลิงค์ตั้งเเต่เดือนมกราคม ถึง ธันวาคม \n",
    "len(link_url)"
   ]
  },
  {
   "cell_type": "markdown",
   "metadata": {},
   "source": [
    "### <ul><li>เก็บที่อยู่ลิ้งค์เเบบเต็มรูปแบบ http ด้วยการชื่อที่เก็บจากด้านบนมาต่อกับ link ข่าว<ul>"
   ]
  },
  {
   "cell_type": "code",
   "execution_count": 14,
   "metadata": {},
   "outputs": [
    {
     "name": "stdout",
     "output_type": "stream",
     "text": [
      "['http://www.it.kmitl.ac.th/~teerapong/news_archive/article-jan-0418.html', 'http://www.it.kmitl.ac.th/~teerapong/news_archive/article-jan-0027.html', 'http://www.it.kmitl.ac.th/~teerapong/news_archive/article-jan-0631.html', 'http://www.it.kmitl.ac.th/~teerapong/news_archive/article-jan-2105.html', 'http://www.it.kmitl.ac.th/~teerapong/news_archive/article-jan-3300.html', 'http://www.it.kmitl.ac.th/~teerapong/news_archive/article-jan-4187.html', 'http://www.it.kmitl.ac.th/~teerapong/news_archive/article-jan-1974.html', 'http://www.it.kmitl.ac.th/~teerapong/news_archive/article-jan-3666.html', 'http://www.it.kmitl.ac.th/~teerapong/news_archive/article-jan-2629.html', 'http://www.it.kmitl.ac.th/~teerapong/news_archive/article-jan-2415.html', 'http://www.it.kmitl.ac.th/~teerapong/news_archive/article-jan-4210.html', 'http://www.it.kmitl.ac.th/~teerapong/news_archive/article-jan-4789.html', 'http://www.it.kmitl.ac.th/~teerapong/news_archive/article-jan-3452.html', 'http://www.it.kmitl.ac.th/~teerapong/news_archive/article-jan-2428.html', 'http://www.it.kmitl.ac.th/~teerapong/news_archive/article-jan-4766.html', 'http://www.it.kmitl.ac.th/~teerapong/news_archive/article-jan-2595.html', 'http://www.it.kmitl.ac.th/~teerapong/news_archive/article-jan-2935.html', 'http://www.it.kmitl.ac.th/~teerapong/news_archive/article-jan-0578.html', 'http://www.it.kmitl.ac.th/~teerapong/news_archive/article-jan-3023.html', 'http://www.it.kmitl.ac.th/~teerapong/news_archive/article-jan-2356.html', 'http://www.it.kmitl.ac.th/~teerapong/news_archive/article-jan-1023.html', 'http://www.it.kmitl.ac.th/~teerapong/news_archive/article-jan-0641.html', 'http://www.it.kmitl.ac.th/~teerapong/news_archive/article-jan-2461.html', 'http://www.it.kmitl.ac.th/~teerapong/news_archive/article-jan-4541.html', 'http://www.it.kmitl.ac.th/~teerapong/news_archive/article-jan-1259.html', 'http://www.it.kmitl.ac.th/~teerapong/news_archive/article-jan-4007.html', 'http://www.it.kmitl.ac.th/~teerapong/news_archive/article-jan-4171.html', 'http://www.it.kmitl.ac.th/~teerapong/news_archive/article-jan-0272.html', 'http://www.it.kmitl.ac.th/~teerapong/news_archive/article-jan-4894.html', 'http://www.it.kmitl.ac.th/~teerapong/news_archive/article-jan-4504.html', 'http://www.it.kmitl.ac.th/~teerapong/news_archive/article-jan-1740.html', 'http://www.it.kmitl.ac.th/~teerapong/news_archive/article-jan-2390.html', 'http://www.it.kmitl.ac.th/~teerapong/news_archive/article-jan-4471.html', 'http://www.it.kmitl.ac.th/~teerapong/news_archive/article-jan-3978.html', 'http://www.it.kmitl.ac.th/~teerapong/news_archive/article-jan-2209.html', 'http://www.it.kmitl.ac.th/~teerapong/news_archive/article-jan-0858.html', 'http://www.it.kmitl.ac.th/~teerapong/news_archive/article-jan-3187.html', 'http://www.it.kmitl.ac.th/~teerapong/news_archive/article-jan-1282.html', 'http://www.it.kmitl.ac.th/~teerapong/news_archive/article-jan-3414.html', 'http://www.it.kmitl.ac.th/~teerapong/news_archive/article-jan-2289.html', 'http://www.it.kmitl.ac.th/~teerapong/news_archive/article-jan-1899.html', 'http://www.it.kmitl.ac.th/~teerapong/news_archive/article-jan-3686.html', 'http://www.it.kmitl.ac.th/~teerapong/news_archive/article-jan-3679.html', 'http://www.it.kmitl.ac.th/~teerapong/news_archive/article-jan-1469.html', 'http://www.it.kmitl.ac.th/~teerapong/news_archive/article-jan-4815.html', 'http://www.it.kmitl.ac.th/~teerapong/news_archive/article-jan-1761.html', 'http://www.it.kmitl.ac.th/~teerapong/news_archive/article-jan-4519.html', 'http://www.it.kmitl.ac.th/~teerapong/news_archive/article-jan-0248.html', 'http://www.it.kmitl.ac.th/~teerapong/news_archive/article-jan-1280.html', 'http://www.it.kmitl.ac.th/~teerapong/news_archive/article-jan-0154.html', 'http://www.it.kmitl.ac.th/~teerapong/news_archive/article-jan-4182.html', 'http://www.it.kmitl.ac.th/~teerapong/news_archive/article-jan-3155.html', 'http://www.it.kmitl.ac.th/~teerapong/news_archive/article-jan-0502.html', 'http://www.it.kmitl.ac.th/~teerapong/news_archive/article-jan-1027.html', 'http://www.it.kmitl.ac.th/~teerapong/news_archive/article-jan-3810.html', 'http://www.it.kmitl.ac.th/~teerapong/news_archive/article-jan-1481.html', 'http://www.it.kmitl.ac.th/~teerapong/news_archive/article-jan-2551.html', 'http://www.it.kmitl.ac.th/~teerapong/news_archive/article-jan-0989.html', 'http://www.it.kmitl.ac.th/~teerapong/news_archive/article-jan-0633.html', 'http://www.it.kmitl.ac.th/~teerapong/news_archive/article-jan-1566.html', 'http://www.it.kmitl.ac.th/~teerapong/news_archive/article-jan-0791.html', 'http://www.it.kmitl.ac.th/~teerapong/news_archive/article-jan-2691.html', 'http://www.it.kmitl.ac.th/~teerapong/news_archive/article-jan-3650.html', 'http://www.it.kmitl.ac.th/~teerapong/news_archive/article-jan-1867.html', 'http://www.it.kmitl.ac.th/~teerapong/news_archive/article-jan-2835.html', 'http://www.it.kmitl.ac.th/~teerapong/news_archive/article-jan-1079.html', 'http://www.it.kmitl.ac.th/~teerapong/news_archive/article-jan-4592.html', 'http://www.it.kmitl.ac.th/~teerapong/news_archive/article-jan-4111.html', 'http://www.it.kmitl.ac.th/~teerapong/news_archive/article-jan-0599.html', 'http://www.it.kmitl.ac.th/~teerapong/news_archive/article-jan-0969.html', 'http://www.it.kmitl.ac.th/~teerapong/news_archive/article-jan-2042.html', 'http://www.it.kmitl.ac.th/~teerapong/news_archive/article-jan-0050.html', 'http://www.it.kmitl.ac.th/~teerapong/news_archive/article-jan-4860.html', 'http://www.it.kmitl.ac.th/~teerapong/news_archive/article-jan-0180.html', 'http://www.it.kmitl.ac.th/~teerapong/news_archive/article-jan-1582.html', 'http://www.it.kmitl.ac.th/~teerapong/news_archive/article-jan-4456.html', 'http://www.it.kmitl.ac.th/~teerapong/news_archive/article-jan-3002.html', 'http://www.it.kmitl.ac.th/~teerapong/news_archive/article-jan-2380.html', 'http://www.it.kmitl.ac.th/~teerapong/news_archive/article-jan-3243.html', 'http://www.it.kmitl.ac.th/~teerapong/news_archive/article-jan-3151.html', 'http://www.it.kmitl.ac.th/~teerapong/news_archive/article-jan-2619.html', 'http://www.it.kmitl.ac.th/~teerapong/news_archive/article-jan-1811.html', 'http://www.it.kmitl.ac.th/~teerapong/news_archive/article-jan-3831.html', 'http://www.it.kmitl.ac.th/~teerapong/news_archive/article-jan-4567.html', 'http://www.it.kmitl.ac.th/~teerapong/news_archive/article-jan-3938.html', 'http://www.it.kmitl.ac.th/~teerapong/news_archive/article-jan-4175.html', 'http://www.it.kmitl.ac.th/~teerapong/news_archive/article-jan-0237.html', 'http://www.it.kmitl.ac.th/~teerapong/news_archive/article-jan-0924.html', 'http://www.it.kmitl.ac.th/~teerapong/news_archive/article-jan-1731.html', 'http://www.it.kmitl.ac.th/~teerapong/news_archive/article-jan-3981.html', 'http://www.it.kmitl.ac.th/~teerapong/news_archive/article-jan-2769.html', 'http://www.it.kmitl.ac.th/~teerapong/news_archive/article-jan-2140.html', 'http://www.it.kmitl.ac.th/~teerapong/news_archive/article-jan-3329.html', 'http://www.it.kmitl.ac.th/~teerapong/news_archive/article-jan-1087.html', 'http://www.it.kmitl.ac.th/~teerapong/news_archive/article-jan-0480.html', 'http://www.it.kmitl.ac.th/~teerapong/news_archive/article-jan-2591.html', 'http://www.it.kmitl.ac.th/~teerapong/news_archive/article-jan-2407.html', 'http://www.it.kmitl.ac.th/~teerapong/news_archive/article-jan-1520.html', 'http://www.it.kmitl.ac.th/~teerapong/news_archive/article-jan-3036.html', 'http://www.it.kmitl.ac.th/~teerapong/news_archive/article-jan-1051.html', 'http://www.it.kmitl.ac.th/~teerapong/news_archive/article-jan-2864.html', 'http://www.it.kmitl.ac.th/~teerapong/news_archive/article-jan-4078.html', 'http://www.it.kmitl.ac.th/~teerapong/news_archive/article-jan-0269.html', 'http://www.it.kmitl.ac.th/~teerapong/news_archive/article-jan-1728.html', 'http://www.it.kmitl.ac.th/~teerapong/news_archive/article-jan-0976.html', 'http://www.it.kmitl.ac.th/~teerapong/news_archive/article-jan-3315.html', 'http://www.it.kmitl.ac.th/~teerapong/news_archive/article-jan-3425.html', 'http://www.it.kmitl.ac.th/~teerapong/news_archive/article-jan-1296.html', 'http://www.it.kmitl.ac.th/~teerapong/news_archive/article-jan-4675.html', 'http://www.it.kmitl.ac.th/~teerapong/news_archive/article-jan-3694.html', 'http://www.it.kmitl.ac.th/~teerapong/news_archive/article-jan-1550.html', 'http://www.it.kmitl.ac.th/~teerapong/news_archive/article-jan-1587.html', 'http://www.it.kmitl.ac.th/~teerapong/news_archive/article-jan-0587.html', 'http://www.it.kmitl.ac.th/~teerapong/news_archive/article-jan-1650.html', 'http://www.it.kmitl.ac.th/~teerapong/news_archive/article-jan-0867.html', 'http://www.it.kmitl.ac.th/~teerapong/news_archive/article-jan-0457.html', 'http://www.it.kmitl.ac.th/~teerapong/news_archive/article-jan-2075.html', 'http://www.it.kmitl.ac.th/~teerapong/news_archive/article-jan-3244.html', 'http://www.it.kmitl.ac.th/~teerapong/news_archive/article-feb-3392.html', 'http://www.it.kmitl.ac.th/~teerapong/news_archive/article-feb-0704.html', 'http://www.it.kmitl.ac.th/~teerapong/news_archive/article-feb-0913.html', 'http://www.it.kmitl.ac.th/~teerapong/news_archive/article-feb-3975.html', 'http://www.it.kmitl.ac.th/~teerapong/news_archive/article-feb-0641.html', 'http://www.it.kmitl.ac.th/~teerapong/news_archive/article-feb-0608.html', 'http://www.it.kmitl.ac.th/~teerapong/news_archive/article-feb-4436.html', 'http://www.it.kmitl.ac.th/~teerapong/news_archive/article-feb-0930.html', 'http://www.it.kmitl.ac.th/~teerapong/news_archive/article-feb-4492.html', 'http://www.it.kmitl.ac.th/~teerapong/news_archive/article-feb-4474.html', 'http://www.it.kmitl.ac.th/~teerapong/news_archive/article-feb-4340.html', 'http://www.it.kmitl.ac.th/~teerapong/news_archive/article-feb-1116.html', 'http://www.it.kmitl.ac.th/~teerapong/news_archive/article-feb-2873.html', 'http://www.it.kmitl.ac.th/~teerapong/news_archive/article-feb-2303.html', 'http://www.it.kmitl.ac.th/~teerapong/news_archive/article-feb-2977.html', 'http://www.it.kmitl.ac.th/~teerapong/news_archive/article-feb-4547.html', 'http://www.it.kmitl.ac.th/~teerapong/news_archive/article-feb-3154.html', 'http://www.it.kmitl.ac.th/~teerapong/news_archive/article-feb-1466.html', 'http://www.it.kmitl.ac.th/~teerapong/news_archive/article-feb-3116.html', 'http://www.it.kmitl.ac.th/~teerapong/news_archive/article-feb-3641.html', 'http://www.it.kmitl.ac.th/~teerapong/news_archive/article-feb-3724.html', 'http://www.it.kmitl.ac.th/~teerapong/news_archive/article-feb-1553.html', 'http://www.it.kmitl.ac.th/~teerapong/news_archive/article-feb-0192.html', 'http://www.it.kmitl.ac.th/~teerapong/news_archive/article-feb-2830.html', 'http://www.it.kmitl.ac.th/~teerapong/news_archive/article-feb-2366.html', 'http://www.it.kmitl.ac.th/~teerapong/news_archive/article-feb-3261.html', 'http://www.it.kmitl.ac.th/~teerapong/news_archive/article-feb-2526.html', 'http://www.it.kmitl.ac.th/~teerapong/news_archive/article-feb-3097.html', 'http://www.it.kmitl.ac.th/~teerapong/news_archive/article-feb-1454.html', 'http://www.it.kmitl.ac.th/~teerapong/news_archive/article-feb-0258.html', 'http://www.it.kmitl.ac.th/~teerapong/news_archive/article-feb-4548.html', 'http://www.it.kmitl.ac.th/~teerapong/news_archive/article-feb-0679.html', 'http://www.it.kmitl.ac.th/~teerapong/news_archive/article-feb-1000.html', 'http://www.it.kmitl.ac.th/~teerapong/news_archive/article-feb-1821.html', 'http://www.it.kmitl.ac.th/~teerapong/news_archive/article-feb-4494.html', 'http://www.it.kmitl.ac.th/~teerapong/news_archive/article-feb-0250.html', 'http://www.it.kmitl.ac.th/~teerapong/news_archive/article-feb-2382.html', 'http://www.it.kmitl.ac.th/~teerapong/news_archive/article-feb-4407.html', 'http://www.it.kmitl.ac.th/~teerapong/news_archive/article-feb-3768.html', 'http://www.it.kmitl.ac.th/~teerapong/news_archive/article-feb-3375.html', 'http://www.it.kmitl.ac.th/~teerapong/news_archive/article-feb-2553.html', 'http://www.it.kmitl.ac.th/~teerapong/news_archive/article-feb-2750.html', 'http://www.it.kmitl.ac.th/~teerapong/news_archive/article-feb-0829.html', 'http://www.it.kmitl.ac.th/~teerapong/news_archive/article-feb-3941.html', 'http://www.it.kmitl.ac.th/~teerapong/news_archive/article-feb-1333.html', 'http://www.it.kmitl.ac.th/~teerapong/news_archive/article-feb-3708.html', 'http://www.it.kmitl.ac.th/~teerapong/news_archive/article-feb-1684.html', 'http://www.it.kmitl.ac.th/~teerapong/news_archive/article-feb-4876.html', 'http://www.it.kmitl.ac.th/~teerapong/news_archive/article-feb-1493.html', 'http://www.it.kmitl.ac.th/~teerapong/news_archive/article-feb-0113.html', 'http://www.it.kmitl.ac.th/~teerapong/news_archive/article-feb-2502.html', 'http://www.it.kmitl.ac.th/~teerapong/news_archive/article-feb-2351.html', 'http://www.it.kmitl.ac.th/~teerapong/news_archive/article-feb-1245.html', 'http://www.it.kmitl.ac.th/~teerapong/news_archive/article-feb-2809.html', 'http://www.it.kmitl.ac.th/~teerapong/news_archive/article-feb-4569.html', 'http://www.it.kmitl.ac.th/~teerapong/news_archive/article-feb-4323.html', 'http://www.it.kmitl.ac.th/~teerapong/news_archive/article-feb-3937.html', 'http://www.it.kmitl.ac.th/~teerapong/news_archive/article-feb-1582.html', 'http://www.it.kmitl.ac.th/~teerapong/news_archive/article-feb-1312.html', 'http://www.it.kmitl.ac.th/~teerapong/news_archive/article-feb-2836.html', 'http://www.it.kmitl.ac.th/~teerapong/news_archive/article-feb-0505.html', 'http://www.it.kmitl.ac.th/~teerapong/news_archive/article-feb-3556.html', 'http://www.it.kmitl.ac.th/~teerapong/news_archive/article-feb-4691.html', 'http://www.it.kmitl.ac.th/~teerapong/news_archive/article-feb-4543.html', 'http://www.it.kmitl.ac.th/~teerapong/news_archive/article-feb-3028.html', 'http://www.it.kmitl.ac.th/~teerapong/news_archive/article-feb-1960.html', 'http://www.it.kmitl.ac.th/~teerapong/news_archive/article-feb-4127.html', 'http://www.it.kmitl.ac.th/~teerapong/news_archive/article-feb-4247.html', 'http://www.it.kmitl.ac.th/~teerapong/news_archive/article-feb-2114.html', 'http://www.it.kmitl.ac.th/~teerapong/news_archive/article-feb-0571.html', 'http://www.it.kmitl.ac.th/~teerapong/news_archive/article-feb-0451.html', 'http://www.it.kmitl.ac.th/~teerapong/news_archive/article-feb-1201.html', 'http://www.it.kmitl.ac.th/~teerapong/news_archive/article-feb-4578.html', 'http://www.it.kmitl.ac.th/~teerapong/news_archive/article-feb-3474.html', 'http://www.it.kmitl.ac.th/~teerapong/news_archive/article-feb-4987.html', 'http://www.it.kmitl.ac.th/~teerapong/news_archive/article-feb-4718.html', 'http://www.it.kmitl.ac.th/~teerapong/news_archive/article-feb-2135.html', 'http://www.it.kmitl.ac.th/~teerapong/news_archive/article-feb-1118.html', 'http://www.it.kmitl.ac.th/~teerapong/news_archive/article-feb-4768.html', 'http://www.it.kmitl.ac.th/~teerapong/news_archive/article-feb-4017.html', 'http://www.it.kmitl.ac.th/~teerapong/news_archive/article-feb-1005.html', 'http://www.it.kmitl.ac.th/~teerapong/news_archive/article-feb-0504.html', 'http://www.it.kmitl.ac.th/~teerapong/news_archive/article-feb-1308.html', 'http://www.it.kmitl.ac.th/~teerapong/news_archive/article-feb-2371.html', 'http://www.it.kmitl.ac.th/~teerapong/news_archive/article-feb-3067.html', 'http://www.it.kmitl.ac.th/~teerapong/news_archive/article-feb-1134.html', 'http://www.it.kmitl.ac.th/~teerapong/news_archive/article-feb-1004.html', 'http://www.it.kmitl.ac.th/~teerapong/news_archive/article-feb-0814.html', 'http://www.it.kmitl.ac.th/~teerapong/news_archive/article-feb-4229.html', 'http://www.it.kmitl.ac.th/~teerapong/news_archive/article-feb-0630.html', 'http://www.it.kmitl.ac.th/~teerapong/news_archive/article-feb-2030.html', 'http://www.it.kmitl.ac.th/~teerapong/news_archive/article-feb-1336.html', 'http://www.it.kmitl.ac.th/~teerapong/news_archive/article-feb-3074.html', 'http://www.it.kmitl.ac.th/~teerapong/news_archive/article-feb-1812.html', 'http://www.it.kmitl.ac.th/~teerapong/news_archive/article-feb-1149.html', 'http://www.it.kmitl.ac.th/~teerapong/news_archive/article-feb-0800.html', 'http://www.it.kmitl.ac.th/~teerapong/news_archive/article-feb-2206.html', 'http://www.it.kmitl.ac.th/~teerapong/news_archive/article-feb-0110.html', 'http://www.it.kmitl.ac.th/~teerapong/news_archive/article-feb-3700.html', 'http://www.it.kmitl.ac.th/~teerapong/news_archive/article-feb-4539.html', 'http://www.it.kmitl.ac.th/~teerapong/news_archive/article-feb-0707.html', 'http://www.it.kmitl.ac.th/~teerapong/news_archive/article-feb-2055.html', 'http://www.it.kmitl.ac.th/~teerapong/news_archive/article-feb-4838.html', 'http://www.it.kmitl.ac.th/~teerapong/news_archive/article-feb-2802.html', 'http://www.it.kmitl.ac.th/~teerapong/news_archive/article-feb-2640.html', 'http://www.it.kmitl.ac.th/~teerapong/news_archive/article-feb-4399.html', 'http://www.it.kmitl.ac.th/~teerapong/news_archive/article-feb-0406.html', 'http://www.it.kmitl.ac.th/~teerapong/news_archive/article-feb-2304.html', 'http://www.it.kmitl.ac.th/~teerapong/news_archive/article-feb-2170.html', 'http://www.it.kmitl.ac.th/~teerapong/news_archive/article-feb-3783.html', 'http://www.it.kmitl.ac.th/~teerapong/news_archive/article-feb-4402.html', 'http://www.it.kmitl.ac.th/~teerapong/news_archive/article-feb-1028.html', 'http://www.it.kmitl.ac.th/~teerapong/news_archive/article-feb-2316.html', 'http://www.it.kmitl.ac.th/~teerapong/news_archive/article-feb-0243.html', 'http://www.it.kmitl.ac.th/~teerapong/news_archive/article-feb-2017.html', 'http://www.it.kmitl.ac.th/~teerapong/news_archive/article-feb-2660.html', 'http://www.it.kmitl.ac.th/~teerapong/news_archive/article-feb-0224.html', 'http://www.it.kmitl.ac.th/~teerapong/news_archive/article-feb-2955.html', 'http://www.it.kmitl.ac.th/~teerapong/news_archive/article-feb-4616.html', 'http://www.it.kmitl.ac.th/~teerapong/news_archive/article-feb-0576.html', 'http://www.it.kmitl.ac.th/~teerapong/news_archive/article-feb-0519.html', 'http://www.it.kmitl.ac.th/~teerapong/news_archive/article-feb-1952.html', 'http://www.it.kmitl.ac.th/~teerapong/news_archive/article-mar-1126.html', 'http://www.it.kmitl.ac.th/~teerapong/news_archive/article-mar-3331.html', 'http://www.it.kmitl.ac.th/~teerapong/news_archive/article-mar-3141.html', 'http://www.it.kmitl.ac.th/~teerapong/news_archive/article-mar-3697.html', 'http://www.it.kmitl.ac.th/~teerapong/news_archive/article-mar-3655.html', 'http://www.it.kmitl.ac.th/~teerapong/news_archive/article-mar-2120.html', 'http://www.it.kmitl.ac.th/~teerapong/news_archive/article-mar-2380.html', 'http://www.it.kmitl.ac.th/~teerapong/news_archive/article-mar-1445.html', 'http://www.it.kmitl.ac.th/~teerapong/news_archive/article-mar-1627.html', 'http://www.it.kmitl.ac.th/~teerapong/news_archive/article-mar-0220.html', 'http://www.it.kmitl.ac.th/~teerapong/news_archive/article-mar-1595.html', 'http://www.it.kmitl.ac.th/~teerapong/news_archive/article-mar-4085.html', 'http://www.it.kmitl.ac.th/~teerapong/news_archive/article-mar-2495.html', 'http://www.it.kmitl.ac.th/~teerapong/news_archive/article-mar-4902.html', 'http://www.it.kmitl.ac.th/~teerapong/news_archive/article-mar-3484.html', 'http://www.it.kmitl.ac.th/~teerapong/news_archive/article-mar-1905.html', 'http://www.it.kmitl.ac.th/~teerapong/news_archive/article-mar-1702.html', 'http://www.it.kmitl.ac.th/~teerapong/news_archive/article-mar-4607.html', 'http://www.it.kmitl.ac.th/~teerapong/news_archive/article-mar-4510.html', 'http://www.it.kmitl.ac.th/~teerapong/news_archive/article-mar-1543.html', 'http://www.it.kmitl.ac.th/~teerapong/news_archive/article-mar-0210.html', 'http://www.it.kmitl.ac.th/~teerapong/news_archive/article-mar-1989.html', 'http://www.it.kmitl.ac.th/~teerapong/news_archive/article-mar-4293.html', 'http://www.it.kmitl.ac.th/~teerapong/news_archive/article-mar-0521.html', 'http://www.it.kmitl.ac.th/~teerapong/news_archive/article-mar-3692.html', 'http://www.it.kmitl.ac.th/~teerapong/news_archive/article-mar-2874.html', 'http://www.it.kmitl.ac.th/~teerapong/news_archive/article-mar-3420.html', 'http://www.it.kmitl.ac.th/~teerapong/news_archive/article-mar-3360.html', 'http://www.it.kmitl.ac.th/~teerapong/news_archive/article-mar-0037.html', 'http://www.it.kmitl.ac.th/~teerapong/news_archive/article-mar-2432.html', 'http://www.it.kmitl.ac.th/~teerapong/news_archive/article-mar-1244.html', 'http://www.it.kmitl.ac.th/~teerapong/news_archive/article-mar-1251.html', 'http://www.it.kmitl.ac.th/~teerapong/news_archive/article-mar-0183.html', 'http://www.it.kmitl.ac.th/~teerapong/news_archive/article-mar-2000.html', 'http://www.it.kmitl.ac.th/~teerapong/news_archive/article-mar-3083.html', 'http://www.it.kmitl.ac.th/~teerapong/news_archive/article-mar-3722.html', 'http://www.it.kmitl.ac.th/~teerapong/news_archive/article-mar-1165.html', 'http://www.it.kmitl.ac.th/~teerapong/news_archive/article-mar-2123.html', 'http://www.it.kmitl.ac.th/~teerapong/news_archive/article-mar-3909.html', 'http://www.it.kmitl.ac.th/~teerapong/news_archive/article-mar-0579.html', 'http://www.it.kmitl.ac.th/~teerapong/news_archive/article-mar-3023.html', 'http://www.it.kmitl.ac.th/~teerapong/news_archive/article-mar-0977.html', 'http://www.it.kmitl.ac.th/~teerapong/news_archive/article-mar-4216.html', 'http://www.it.kmitl.ac.th/~teerapong/news_archive/article-mar-2195.html', 'http://www.it.kmitl.ac.th/~teerapong/news_archive/article-mar-4576.html', 'http://www.it.kmitl.ac.th/~teerapong/news_archive/article-mar-2382.html', 'http://www.it.kmitl.ac.th/~teerapong/news_archive/article-mar-0012.html', 'http://www.it.kmitl.ac.th/~teerapong/news_archive/article-mar-4343.html', 'http://www.it.kmitl.ac.th/~teerapong/news_archive/article-mar-3567.html', 'http://www.it.kmitl.ac.th/~teerapong/news_archive/article-mar-1674.html', 'http://www.it.kmitl.ac.th/~teerapong/news_archive/article-mar-3810.html', 'http://www.it.kmitl.ac.th/~teerapong/news_archive/article-mar-3301.html', 'http://www.it.kmitl.ac.th/~teerapong/news_archive/article-mar-2795.html', 'http://www.it.kmitl.ac.th/~teerapong/news_archive/article-mar-3037.html', 'http://www.it.kmitl.ac.th/~teerapong/news_archive/article-mar-1629.html', 'http://www.it.kmitl.ac.th/~teerapong/news_archive/article-mar-0481.html', 'http://www.it.kmitl.ac.th/~teerapong/news_archive/article-mar-0388.html', 'http://www.it.kmitl.ac.th/~teerapong/news_archive/article-mar-1453.html', 'http://www.it.kmitl.ac.th/~teerapong/news_archive/article-mar-1606.html', 'http://www.it.kmitl.ac.th/~teerapong/news_archive/article-mar-1230.html', 'http://www.it.kmitl.ac.th/~teerapong/news_archive/article-mar-3153.html', 'http://www.it.kmitl.ac.th/~teerapong/news_archive/article-mar-0170.html', 'http://www.it.kmitl.ac.th/~teerapong/news_archive/article-mar-4481.html', 'http://www.it.kmitl.ac.th/~teerapong/news_archive/article-mar-4754.html', 'http://www.it.kmitl.ac.th/~teerapong/news_archive/article-mar-3612.html', 'http://www.it.kmitl.ac.th/~teerapong/news_archive/article-mar-3927.html', 'http://www.it.kmitl.ac.th/~teerapong/news_archive/article-mar-4340.html', 'http://www.it.kmitl.ac.th/~teerapong/news_archive/article-mar-1335.html', 'http://www.it.kmitl.ac.th/~teerapong/news_archive/article-mar-2040.html', 'http://www.it.kmitl.ac.th/~teerapong/news_archive/article-mar-0033.html', 'http://www.it.kmitl.ac.th/~teerapong/news_archive/article-mar-2536.html', 'http://www.it.kmitl.ac.th/~teerapong/news_archive/article-mar-4512.html', 'http://www.it.kmitl.ac.th/~teerapong/news_archive/article-mar-4615.html', 'http://www.it.kmitl.ac.th/~teerapong/news_archive/article-mar-4246.html', 'http://www.it.kmitl.ac.th/~teerapong/news_archive/article-mar-4861.html', 'http://www.it.kmitl.ac.th/~teerapong/news_archive/article-mar-4279.html', 'http://www.it.kmitl.ac.th/~teerapong/news_archive/article-mar-4599.html', 'http://www.it.kmitl.ac.th/~teerapong/news_archive/article-mar-2276.html', 'http://www.it.kmitl.ac.th/~teerapong/news_archive/article-mar-1739.html', 'http://www.it.kmitl.ac.th/~teerapong/news_archive/article-mar-4407.html', 'http://www.it.kmitl.ac.th/~teerapong/news_archive/article-mar-3144.html', 'http://www.it.kmitl.ac.th/~teerapong/news_archive/article-mar-0182.html', 'http://www.it.kmitl.ac.th/~teerapong/news_archive/article-mar-2488.html', 'http://www.it.kmitl.ac.th/~teerapong/news_archive/article-mar-4584.html', 'http://www.it.kmitl.ac.th/~teerapong/news_archive/article-mar-4102.html', 'http://www.it.kmitl.ac.th/~teerapong/news_archive/article-mar-3792.html', 'http://www.it.kmitl.ac.th/~teerapong/news_archive/article-mar-0131.html', 'http://www.it.kmitl.ac.th/~teerapong/news_archive/article-mar-4398.html', 'http://www.it.kmitl.ac.th/~teerapong/news_archive/article-mar-0463.html', 'http://www.it.kmitl.ac.th/~teerapong/news_archive/article-mar-0029.html', 'http://www.it.kmitl.ac.th/~teerapong/news_archive/article-mar-4749.html', 'http://www.it.kmitl.ac.th/~teerapong/news_archive/article-mar-3392.html', 'http://www.it.kmitl.ac.th/~teerapong/news_archive/article-mar-0952.html', 'http://www.it.kmitl.ac.th/~teerapong/news_archive/article-mar-1203.html', 'http://www.it.kmitl.ac.th/~teerapong/news_archive/article-mar-2048.html', 'http://www.it.kmitl.ac.th/~teerapong/news_archive/article-mar-3318.html', 'http://www.it.kmitl.ac.th/~teerapong/news_archive/article-mar-2788.html', 'http://www.it.kmitl.ac.th/~teerapong/news_archive/article-mar-4562.html', 'http://www.it.kmitl.ac.th/~teerapong/news_archive/article-mar-0620.html', 'http://www.it.kmitl.ac.th/~teerapong/news_archive/article-mar-4001.html', 'http://www.it.kmitl.ac.th/~teerapong/news_archive/article-mar-1599.html', 'http://www.it.kmitl.ac.th/~teerapong/news_archive/article-mar-2785.html', 'http://www.it.kmitl.ac.th/~teerapong/news_archive/article-mar-1454.html', 'http://www.it.kmitl.ac.th/~teerapong/news_archive/article-mar-1913.html', 'http://www.it.kmitl.ac.th/~teerapong/news_archive/article-mar-4140.html', 'http://www.it.kmitl.ac.th/~teerapong/news_archive/article-mar-4357.html', 'http://www.it.kmitl.ac.th/~teerapong/news_archive/article-mar-4898.html', 'http://www.it.kmitl.ac.th/~teerapong/news_archive/article-mar-0550.html', 'http://www.it.kmitl.ac.th/~teerapong/news_archive/article-mar-2508.html', 'http://www.it.kmitl.ac.th/~teerapong/news_archive/article-mar-2039.html', 'http://www.it.kmitl.ac.th/~teerapong/news_archive/article-mar-4111.html', 'http://www.it.kmitl.ac.th/~teerapong/news_archive/article-mar-4582.html', 'http://www.it.kmitl.ac.th/~teerapong/news_archive/article-mar-3651.html', 'http://www.it.kmitl.ac.th/~teerapong/news_archive/article-mar-3663.html', 'http://www.it.kmitl.ac.th/~teerapong/news_archive/article-mar-4500.html', 'http://www.it.kmitl.ac.th/~teerapong/news_archive/article-mar-1916.html', 'http://www.it.kmitl.ac.th/~teerapong/news_archive/article-apr-1897.html', 'http://www.it.kmitl.ac.th/~teerapong/news_archive/article-apr-2967.html', 'http://www.it.kmitl.ac.th/~teerapong/news_archive/article-apr-2939.html', 'http://www.it.kmitl.ac.th/~teerapong/news_archive/article-apr-0145.html', 'http://www.it.kmitl.ac.th/~teerapong/news_archive/article-apr-1938.html', 'http://www.it.kmitl.ac.th/~teerapong/news_archive/article-apr-1748.html', 'http://www.it.kmitl.ac.th/~teerapong/news_archive/article-apr-2559.html', 'http://www.it.kmitl.ac.th/~teerapong/news_archive/article-apr-1306.html', 'http://www.it.kmitl.ac.th/~teerapong/news_archive/article-apr-2454.html', 'http://www.it.kmitl.ac.th/~teerapong/news_archive/article-apr-0039.html', 'http://www.it.kmitl.ac.th/~teerapong/news_archive/article-apr-1044.html', 'http://www.it.kmitl.ac.th/~teerapong/news_archive/article-apr-2151.html', 'http://www.it.kmitl.ac.th/~teerapong/news_archive/article-apr-2808.html', 'http://www.it.kmitl.ac.th/~teerapong/news_archive/article-apr-4324.html', 'http://www.it.kmitl.ac.th/~teerapong/news_archive/article-apr-2873.html', 'http://www.it.kmitl.ac.th/~teerapong/news_archive/article-apr-4741.html', 'http://www.it.kmitl.ac.th/~teerapong/news_archive/article-apr-0433.html', 'http://www.it.kmitl.ac.th/~teerapong/news_archive/article-apr-4890.html', 'http://www.it.kmitl.ac.th/~teerapong/news_archive/article-apr-4575.html', 'http://www.it.kmitl.ac.th/~teerapong/news_archive/article-apr-0228.html', 'http://www.it.kmitl.ac.th/~teerapong/news_archive/article-apr-4827.html', 'http://www.it.kmitl.ac.th/~teerapong/news_archive/article-apr-1926.html', 'http://www.it.kmitl.ac.th/~teerapong/news_archive/article-apr-1571.html', 'http://www.it.kmitl.ac.th/~teerapong/news_archive/article-apr-1904.html', 'http://www.it.kmitl.ac.th/~teerapong/news_archive/article-apr-3933.html', 'http://www.it.kmitl.ac.th/~teerapong/news_archive/article-apr-4960.html', 'http://www.it.kmitl.ac.th/~teerapong/news_archive/article-apr-4241.html', 'http://www.it.kmitl.ac.th/~teerapong/news_archive/article-apr-4901.html', 'http://www.it.kmitl.ac.th/~teerapong/news_archive/article-apr-0724.html', 'http://www.it.kmitl.ac.th/~teerapong/news_archive/article-apr-4907.html', 'http://www.it.kmitl.ac.th/~teerapong/news_archive/article-apr-3088.html', 'http://www.it.kmitl.ac.th/~teerapong/news_archive/article-apr-0395.html', 'http://www.it.kmitl.ac.th/~teerapong/news_archive/article-apr-4460.html', 'http://www.it.kmitl.ac.th/~teerapong/news_archive/article-apr-0524.html', 'http://www.it.kmitl.ac.th/~teerapong/news_archive/article-apr-3536.html', 'http://www.it.kmitl.ac.th/~teerapong/news_archive/article-apr-4694.html', 'http://www.it.kmitl.ac.th/~teerapong/news_archive/article-apr-3827.html', 'http://www.it.kmitl.ac.th/~teerapong/news_archive/article-apr-2270.html', 'http://www.it.kmitl.ac.th/~teerapong/news_archive/article-apr-0205.html', 'http://www.it.kmitl.ac.th/~teerapong/news_archive/article-apr-1858.html', 'http://www.it.kmitl.ac.th/~teerapong/news_archive/article-apr-3390.html', 'http://www.it.kmitl.ac.th/~teerapong/news_archive/article-apr-3841.html', 'http://www.it.kmitl.ac.th/~teerapong/news_archive/article-apr-4467.html', 'http://www.it.kmitl.ac.th/~teerapong/news_archive/article-apr-3842.html', 'http://www.it.kmitl.ac.th/~teerapong/news_archive/article-apr-3718.html', 'http://www.it.kmitl.ac.th/~teerapong/news_archive/article-apr-0784.html', 'http://www.it.kmitl.ac.th/~teerapong/news_archive/article-apr-2677.html', 'http://www.it.kmitl.ac.th/~teerapong/news_archive/article-apr-3475.html', 'http://www.it.kmitl.ac.th/~teerapong/news_archive/article-apr-2558.html', 'http://www.it.kmitl.ac.th/~teerapong/news_archive/article-apr-2706.html', 'http://www.it.kmitl.ac.th/~teerapong/news_archive/article-apr-4921.html', 'http://www.it.kmitl.ac.th/~teerapong/news_archive/article-apr-0240.html', 'http://www.it.kmitl.ac.th/~teerapong/news_archive/article-apr-2106.html', 'http://www.it.kmitl.ac.th/~teerapong/news_archive/article-apr-0622.html', 'http://www.it.kmitl.ac.th/~teerapong/news_archive/article-apr-4699.html', 'http://www.it.kmitl.ac.th/~teerapong/news_archive/article-apr-4622.html', 'http://www.it.kmitl.ac.th/~teerapong/news_archive/article-apr-2061.html', 'http://www.it.kmitl.ac.th/~teerapong/news_archive/article-apr-0646.html', 'http://www.it.kmitl.ac.th/~teerapong/news_archive/article-apr-4064.html', 'http://www.it.kmitl.ac.th/~teerapong/news_archive/article-apr-4854.html', 'http://www.it.kmitl.ac.th/~teerapong/news_archive/article-apr-4446.html', 'http://www.it.kmitl.ac.th/~teerapong/news_archive/article-apr-0150.html', 'http://www.it.kmitl.ac.th/~teerapong/news_archive/article-apr-3146.html', 'http://www.it.kmitl.ac.th/~teerapong/news_archive/article-apr-1270.html', 'http://www.it.kmitl.ac.th/~teerapong/news_archive/article-apr-2879.html', 'http://www.it.kmitl.ac.th/~teerapong/news_archive/article-apr-1276.html', 'http://www.it.kmitl.ac.th/~teerapong/news_archive/article-apr-0061.html', 'http://www.it.kmitl.ac.th/~teerapong/news_archive/article-apr-1620.html', 'http://www.it.kmitl.ac.th/~teerapong/news_archive/article-apr-2704.html', 'http://www.it.kmitl.ac.th/~teerapong/news_archive/article-apr-4823.html', 'http://www.it.kmitl.ac.th/~teerapong/news_archive/article-apr-0564.html', 'http://www.it.kmitl.ac.th/~teerapong/news_archive/article-apr-0338.html', 'http://www.it.kmitl.ac.th/~teerapong/news_archive/article-apr-4399.html', 'http://www.it.kmitl.ac.th/~teerapong/news_archive/article-apr-4686.html', 'http://www.it.kmitl.ac.th/~teerapong/news_archive/article-apr-2813.html', 'http://www.it.kmitl.ac.th/~teerapong/news_archive/article-apr-0953.html', 'http://www.it.kmitl.ac.th/~teerapong/news_archive/article-apr-2019.html', 'http://www.it.kmitl.ac.th/~teerapong/news_archive/article-apr-0042.html', 'http://www.it.kmitl.ac.th/~teerapong/news_archive/article-apr-4569.html', 'http://www.it.kmitl.ac.th/~teerapong/news_archive/article-apr-2560.html', 'http://www.it.kmitl.ac.th/~teerapong/news_archive/article-apr-1918.html', 'http://www.it.kmitl.ac.th/~teerapong/news_archive/article-apr-0857.html', 'http://www.it.kmitl.ac.th/~teerapong/news_archive/article-apr-0028.html', 'http://www.it.kmitl.ac.th/~teerapong/news_archive/article-apr-1068.html', 'http://www.it.kmitl.ac.th/~teerapong/news_archive/article-apr-4171.html', 'http://www.it.kmitl.ac.th/~teerapong/news_archive/article-apr-4618.html', 'http://www.it.kmitl.ac.th/~teerapong/news_archive/article-apr-1300.html', 'http://www.it.kmitl.ac.th/~teerapong/news_archive/article-apr-1815.html', 'http://www.it.kmitl.ac.th/~teerapong/news_archive/article-apr-3833.html', 'http://www.it.kmitl.ac.th/~teerapong/news_archive/article-apr-1205.html', 'http://www.it.kmitl.ac.th/~teerapong/news_archive/article-apr-3471.html', 'http://www.it.kmitl.ac.th/~teerapong/news_archive/article-apr-4435.html', 'http://www.it.kmitl.ac.th/~teerapong/news_archive/article-apr-0484.html', 'http://www.it.kmitl.ac.th/~teerapong/news_archive/article-apr-1009.html', 'http://www.it.kmitl.ac.th/~teerapong/news_archive/article-apr-0361.html', 'http://www.it.kmitl.ac.th/~teerapong/news_archive/article-apr-4474.html', 'http://www.it.kmitl.ac.th/~teerapong/news_archive/article-apr-3423.html', 'http://www.it.kmitl.ac.th/~teerapong/news_archive/article-apr-3100.html', 'http://www.it.kmitl.ac.th/~teerapong/news_archive/article-apr-0865.html', 'http://www.it.kmitl.ac.th/~teerapong/news_archive/article-apr-0134.html', 'http://www.it.kmitl.ac.th/~teerapong/news_archive/article-apr-2219.html', 'http://www.it.kmitl.ac.th/~teerapong/news_archive/article-apr-0182.html', 'http://www.it.kmitl.ac.th/~teerapong/news_archive/article-apr-4228.html', 'http://www.it.kmitl.ac.th/~teerapong/news_archive/article-apr-3753.html', 'http://www.it.kmitl.ac.th/~teerapong/news_archive/article-apr-2040.html', 'http://www.it.kmitl.ac.th/~teerapong/news_archive/article-apr-4036.html', 'http://www.it.kmitl.ac.th/~teerapong/news_archive/article-apr-4395.html', 'http://www.it.kmitl.ac.th/~teerapong/news_archive/article-apr-4277.html', 'http://www.it.kmitl.ac.th/~teerapong/news_archive/article-apr-1102.html', 'http://www.it.kmitl.ac.th/~teerapong/news_archive/article-apr-3992.html', 'http://www.it.kmitl.ac.th/~teerapong/news_archive/article-apr-3250.html', 'http://www.it.kmitl.ac.th/~teerapong/news_archive/article-apr-4031.html', 'http://www.it.kmitl.ac.th/~teerapong/news_archive/article-apr-0896.html', 'http://www.it.kmitl.ac.th/~teerapong/news_archive/article-apr-3567.html', 'http://www.it.kmitl.ac.th/~teerapong/news_archive/article-apr-3586.html', 'http://www.it.kmitl.ac.th/~teerapong/news_archive/article-apr-4951.html', 'http://www.it.kmitl.ac.th/~teerapong/news_archive/article-apr-0345.html', 'http://www.it.kmitl.ac.th/~teerapong/news_archive/article-may-0284.html', 'http://www.it.kmitl.ac.th/~teerapong/news_archive/article-may-3980.html', 'http://www.it.kmitl.ac.th/~teerapong/news_archive/article-may-2027.html', 'http://www.it.kmitl.ac.th/~teerapong/news_archive/article-may-2024.html', 'http://www.it.kmitl.ac.th/~teerapong/news_archive/article-may-2738.html', 'http://www.it.kmitl.ac.th/~teerapong/news_archive/article-may-4424.html', 'http://www.it.kmitl.ac.th/~teerapong/news_archive/article-may-2659.html', 'http://www.it.kmitl.ac.th/~teerapong/news_archive/article-may-4512.html', 'http://www.it.kmitl.ac.th/~teerapong/news_archive/article-may-0131.html', 'http://www.it.kmitl.ac.th/~teerapong/news_archive/article-may-2874.html', 'http://www.it.kmitl.ac.th/~teerapong/news_archive/article-may-2905.html', 'http://www.it.kmitl.ac.th/~teerapong/news_archive/article-may-1663.html', 'http://www.it.kmitl.ac.th/~teerapong/news_archive/article-may-1702.html', 'http://www.it.kmitl.ac.th/~teerapong/news_archive/article-may-4777.html', 'http://www.it.kmitl.ac.th/~teerapong/news_archive/article-may-2166.html', 'http://www.it.kmitl.ac.th/~teerapong/news_archive/article-may-1662.html', 'http://www.it.kmitl.ac.th/~teerapong/news_archive/article-may-1837.html', 'http://www.it.kmitl.ac.th/~teerapong/news_archive/article-may-1887.html', 'http://www.it.kmitl.ac.th/~teerapong/news_archive/article-may-3273.html', 'http://www.it.kmitl.ac.th/~teerapong/news_archive/article-may-2294.html', 'http://www.it.kmitl.ac.th/~teerapong/news_archive/article-may-3257.html', 'http://www.it.kmitl.ac.th/~teerapong/news_archive/article-may-2723.html', 'http://www.it.kmitl.ac.th/~teerapong/news_archive/article-may-1549.html', 'http://www.it.kmitl.ac.th/~teerapong/news_archive/article-may-0149.html', 'http://www.it.kmitl.ac.th/~teerapong/news_archive/article-may-2122.html', 'http://www.it.kmitl.ac.th/~teerapong/news_archive/article-may-4336.html', 'http://www.it.kmitl.ac.th/~teerapong/news_archive/article-may-0706.html', 'http://www.it.kmitl.ac.th/~teerapong/news_archive/article-may-0573.html', 'http://www.it.kmitl.ac.th/~teerapong/news_archive/article-may-2915.html', 'http://www.it.kmitl.ac.th/~teerapong/news_archive/article-may-1785.html', 'http://www.it.kmitl.ac.th/~teerapong/news_archive/article-may-1306.html', 'http://www.it.kmitl.ac.th/~teerapong/news_archive/article-may-2222.html', 'http://www.it.kmitl.ac.th/~teerapong/news_archive/article-may-1674.html', 'http://www.it.kmitl.ac.th/~teerapong/news_archive/article-may-3633.html', 'http://www.it.kmitl.ac.th/~teerapong/news_archive/article-may-3723.html', 'http://www.it.kmitl.ac.th/~teerapong/news_archive/article-may-2499.html', 'http://www.it.kmitl.ac.th/~teerapong/news_archive/article-may-2400.html', 'http://www.it.kmitl.ac.th/~teerapong/news_archive/article-may-2476.html', 'http://www.it.kmitl.ac.th/~teerapong/news_archive/article-may-2112.html', 'http://www.it.kmitl.ac.th/~teerapong/news_archive/article-may-2581.html', 'http://www.it.kmitl.ac.th/~teerapong/news_archive/article-may-2727.html', 'http://www.it.kmitl.ac.th/~teerapong/news_archive/article-may-0713.html', 'http://www.it.kmitl.ac.th/~teerapong/news_archive/article-may-4324.html', 'http://www.it.kmitl.ac.th/~teerapong/news_archive/article-may-4280.html', 'http://www.it.kmitl.ac.th/~teerapong/news_archive/article-may-0143.html', 'http://www.it.kmitl.ac.th/~teerapong/news_archive/article-may-2440.html', 'http://www.it.kmitl.ac.th/~teerapong/news_archive/article-may-1036.html', 'http://www.it.kmitl.ac.th/~teerapong/news_archive/article-may-0966.html', 'http://www.it.kmitl.ac.th/~teerapong/news_archive/article-may-4655.html', 'http://www.it.kmitl.ac.th/~teerapong/news_archive/article-may-2796.html', 'http://www.it.kmitl.ac.th/~teerapong/news_archive/article-may-0305.html', 'http://www.it.kmitl.ac.th/~teerapong/news_archive/article-may-2491.html', 'http://www.it.kmitl.ac.th/~teerapong/news_archive/article-may-2781.html', 'http://www.it.kmitl.ac.th/~teerapong/news_archive/article-may-1795.html', 'http://www.it.kmitl.ac.th/~teerapong/news_archive/article-may-0332.html', 'http://www.it.kmitl.ac.th/~teerapong/news_archive/article-may-4014.html', 'http://www.it.kmitl.ac.th/~teerapong/news_archive/article-may-4886.html', 'http://www.it.kmitl.ac.th/~teerapong/news_archive/article-may-4104.html', 'http://www.it.kmitl.ac.th/~teerapong/news_archive/article-may-1112.html', 'http://www.it.kmitl.ac.th/~teerapong/news_archive/article-may-0180.html', 'http://www.it.kmitl.ac.th/~teerapong/news_archive/article-may-1740.html', 'http://www.it.kmitl.ac.th/~teerapong/news_archive/article-may-4133.html', 'http://www.it.kmitl.ac.th/~teerapong/news_archive/article-may-0916.html', 'http://www.it.kmitl.ac.th/~teerapong/news_archive/article-may-3761.html', 'http://www.it.kmitl.ac.th/~teerapong/news_archive/article-may-4517.html', 'http://www.it.kmitl.ac.th/~teerapong/news_archive/article-may-1326.html', 'http://www.it.kmitl.ac.th/~teerapong/news_archive/article-may-0373.html', 'http://www.it.kmitl.ac.th/~teerapong/news_archive/article-may-4484.html', 'http://www.it.kmitl.ac.th/~teerapong/news_archive/article-may-4229.html', 'http://www.it.kmitl.ac.th/~teerapong/news_archive/article-may-4474.html', 'http://www.it.kmitl.ac.th/~teerapong/news_archive/article-may-1687.html', 'http://www.it.kmitl.ac.th/~teerapong/news_archive/article-may-1905.html', 'http://www.it.kmitl.ac.th/~teerapong/news_archive/article-may-2611.html', 'http://www.it.kmitl.ac.th/~teerapong/news_archive/article-may-4895.html', 'http://www.it.kmitl.ac.th/~teerapong/news_archive/article-may-0016.html', 'http://www.it.kmitl.ac.th/~teerapong/news_archive/article-may-1238.html', 'http://www.it.kmitl.ac.th/~teerapong/news_archive/article-may-1947.html', 'http://www.it.kmitl.ac.th/~teerapong/news_archive/article-may-2512.html', 'http://www.it.kmitl.ac.th/~teerapong/news_archive/article-may-1598.html', 'http://www.it.kmitl.ac.th/~teerapong/news_archive/article-may-4585.html', 'http://www.it.kmitl.ac.th/~teerapong/news_archive/article-may-4874.html', 'http://www.it.kmitl.ac.th/~teerapong/news_archive/article-may-0488.html', 'http://www.it.kmitl.ac.th/~teerapong/news_archive/article-may-0292.html', 'http://www.it.kmitl.ac.th/~teerapong/news_archive/article-may-3235.html', 'http://www.it.kmitl.ac.th/~teerapong/news_archive/article-may-1464.html', 'http://www.it.kmitl.ac.th/~teerapong/news_archive/article-may-2443.html', 'http://www.it.kmitl.ac.th/~teerapong/news_archive/article-may-2260.html', 'http://www.it.kmitl.ac.th/~teerapong/news_archive/article-may-3908.html', 'http://www.it.kmitl.ac.th/~teerapong/news_archive/article-may-2514.html', 'http://www.it.kmitl.ac.th/~teerapong/news_archive/article-may-0985.html', 'http://www.it.kmitl.ac.th/~teerapong/news_archive/article-may-3855.html', 'http://www.it.kmitl.ac.th/~teerapong/news_archive/article-may-0057.html', 'http://www.it.kmitl.ac.th/~teerapong/news_archive/article-may-0549.html', 'http://www.it.kmitl.ac.th/~teerapong/news_archive/article-may-0738.html', 'http://www.it.kmitl.ac.th/~teerapong/news_archive/article-may-1288.html', 'http://www.it.kmitl.ac.th/~teerapong/news_archive/article-may-2467.html', 'http://www.it.kmitl.ac.th/~teerapong/news_archive/article-may-2263.html', 'http://www.it.kmitl.ac.th/~teerapong/news_archive/article-may-0648.html', 'http://www.it.kmitl.ac.th/~teerapong/news_archive/article-may-3222.html', 'http://www.it.kmitl.ac.th/~teerapong/news_archive/article-may-1355.html', 'http://www.it.kmitl.ac.th/~teerapong/news_archive/article-may-3184.html', 'http://www.it.kmitl.ac.th/~teerapong/news_archive/article-may-2365.html', 'http://www.it.kmitl.ac.th/~teerapong/news_archive/article-may-0720.html', 'http://www.it.kmitl.ac.th/~teerapong/news_archive/article-may-3287.html', 'http://www.it.kmitl.ac.th/~teerapong/news_archive/article-may-2299.html', 'http://www.it.kmitl.ac.th/~teerapong/news_archive/article-may-0748.html', 'http://www.it.kmitl.ac.th/~teerapong/news_archive/article-may-4097.html', 'http://www.it.kmitl.ac.th/~teerapong/news_archive/article-may-2131.html', 'http://www.it.kmitl.ac.th/~teerapong/news_archive/article-may-3461.html', 'http://www.it.kmitl.ac.th/~teerapong/news_archive/article-may-4326.html', 'http://www.it.kmitl.ac.th/~teerapong/news_archive/article-may-2814.html', 'http://www.it.kmitl.ac.th/~teerapong/news_archive/article-may-2271.html', 'http://www.it.kmitl.ac.th/~teerapong/news_archive/article-may-3619.html', 'http://www.it.kmitl.ac.th/~teerapong/news_archive/article-may-0996.html', 'http://www.it.kmitl.ac.th/~teerapong/news_archive/article-jun-1972.html', 'http://www.it.kmitl.ac.th/~teerapong/news_archive/article-jun-1987.html', 'http://www.it.kmitl.ac.th/~teerapong/news_archive/article-jun-0716.html', 'http://www.it.kmitl.ac.th/~teerapong/news_archive/article-jun-2935.html', 'http://www.it.kmitl.ac.th/~teerapong/news_archive/article-jun-4840.html', 'http://www.it.kmitl.ac.th/~teerapong/news_archive/article-jun-4479.html', 'http://www.it.kmitl.ac.th/~teerapong/news_archive/article-jun-1568.html', 'http://www.it.kmitl.ac.th/~teerapong/news_archive/article-jun-1579.html', 'http://www.it.kmitl.ac.th/~teerapong/news_archive/article-jun-3219.html', 'http://www.it.kmitl.ac.th/~teerapong/news_archive/article-jun-1778.html', 'http://www.it.kmitl.ac.th/~teerapong/news_archive/article-jun-1644.html', 'http://www.it.kmitl.ac.th/~teerapong/news_archive/article-jun-2609.html', 'http://www.it.kmitl.ac.th/~teerapong/news_archive/article-jun-1346.html', 'http://www.it.kmitl.ac.th/~teerapong/news_archive/article-jun-3633.html', 'http://www.it.kmitl.ac.th/~teerapong/news_archive/article-jun-3298.html', 'http://www.it.kmitl.ac.th/~teerapong/news_archive/article-jun-3624.html', 'http://www.it.kmitl.ac.th/~teerapong/news_archive/article-jun-0532.html', 'http://www.it.kmitl.ac.th/~teerapong/news_archive/article-jun-2071.html', 'http://www.it.kmitl.ac.th/~teerapong/news_archive/article-jun-1491.html', 'http://www.it.kmitl.ac.th/~teerapong/news_archive/article-jun-1294.html', 'http://www.it.kmitl.ac.th/~teerapong/news_archive/article-jun-1801.html', 'http://www.it.kmitl.ac.th/~teerapong/news_archive/article-jun-4596.html', 'http://www.it.kmitl.ac.th/~teerapong/news_archive/article-jun-4483.html', 'http://www.it.kmitl.ac.th/~teerapong/news_archive/article-jun-0384.html', 'http://www.it.kmitl.ac.th/~teerapong/news_archive/article-jun-3025.html', 'http://www.it.kmitl.ac.th/~teerapong/news_archive/article-jun-3207.html', 'http://www.it.kmitl.ac.th/~teerapong/news_archive/article-jun-3422.html', 'http://www.it.kmitl.ac.th/~teerapong/news_archive/article-jun-3285.html', 'http://www.it.kmitl.ac.th/~teerapong/news_archive/article-jun-1131.html', 'http://www.it.kmitl.ac.th/~teerapong/news_archive/article-jun-4266.html', 'http://www.it.kmitl.ac.th/~teerapong/news_archive/article-jun-4362.html', 'http://www.it.kmitl.ac.th/~teerapong/news_archive/article-jun-0537.html', 'http://www.it.kmitl.ac.th/~teerapong/news_archive/article-jun-1448.html', 'http://www.it.kmitl.ac.th/~teerapong/news_archive/article-jun-4007.html', 'http://www.it.kmitl.ac.th/~teerapong/news_archive/article-jun-3887.html', 'http://www.it.kmitl.ac.th/~teerapong/news_archive/article-jun-3406.html', 'http://www.it.kmitl.ac.th/~teerapong/news_archive/article-jun-2920.html', 'http://www.it.kmitl.ac.th/~teerapong/news_archive/article-jun-2699.html', 'http://www.it.kmitl.ac.th/~teerapong/news_archive/article-jun-0332.html', 'http://www.it.kmitl.ac.th/~teerapong/news_archive/article-jun-4500.html', 'http://www.it.kmitl.ac.th/~teerapong/news_archive/article-jun-1482.html', 'http://www.it.kmitl.ac.th/~teerapong/news_archive/article-jun-0787.html', 'http://www.it.kmitl.ac.th/~teerapong/news_archive/article-jun-2022.html', 'http://www.it.kmitl.ac.th/~teerapong/news_archive/article-jun-3687.html', 'http://www.it.kmitl.ac.th/~teerapong/news_archive/article-jun-3700.html', 'http://www.it.kmitl.ac.th/~teerapong/news_archive/article-jun-3528.html', 'http://www.it.kmitl.ac.th/~teerapong/news_archive/article-jun-2557.html', 'http://www.it.kmitl.ac.th/~teerapong/news_archive/article-jun-2381.html', 'http://www.it.kmitl.ac.th/~teerapong/news_archive/article-jun-1633.html', 'http://www.it.kmitl.ac.th/~teerapong/news_archive/article-jun-4342.html', 'http://www.it.kmitl.ac.th/~teerapong/news_archive/article-jun-4535.html', 'http://www.it.kmitl.ac.th/~teerapong/news_archive/article-jun-1155.html', 'http://www.it.kmitl.ac.th/~teerapong/news_archive/article-jun-0553.html', 'http://www.it.kmitl.ac.th/~teerapong/news_archive/article-jun-1387.html', 'http://www.it.kmitl.ac.th/~teerapong/news_archive/article-jun-2401.html', 'http://www.it.kmitl.ac.th/~teerapong/news_archive/article-jun-4329.html', 'http://www.it.kmitl.ac.th/~teerapong/news_archive/article-jun-1532.html', 'http://www.it.kmitl.ac.th/~teerapong/news_archive/article-jun-1434.html', 'http://www.it.kmitl.ac.th/~teerapong/news_archive/article-jun-2521.html', 'http://www.it.kmitl.ac.th/~teerapong/news_archive/article-jun-2097.html', 'http://www.it.kmitl.ac.th/~teerapong/news_archive/article-jun-2226.html', 'http://www.it.kmitl.ac.th/~teerapong/news_archive/article-jun-4453.html', 'http://www.it.kmitl.ac.th/~teerapong/news_archive/article-jun-4509.html', 'http://www.it.kmitl.ac.th/~teerapong/news_archive/article-jun-2467.html', 'http://www.it.kmitl.ac.th/~teerapong/news_archive/article-jun-1038.html', 'http://www.it.kmitl.ac.th/~teerapong/news_archive/article-jun-2420.html', 'http://www.it.kmitl.ac.th/~teerapong/news_archive/article-jun-4994.html', 'http://www.it.kmitl.ac.th/~teerapong/news_archive/article-jun-3434.html', 'http://www.it.kmitl.ac.th/~teerapong/news_archive/article-jun-4410.html', 'http://www.it.kmitl.ac.th/~teerapong/news_archive/article-jun-0925.html', 'http://www.it.kmitl.ac.th/~teerapong/news_archive/article-jun-1788.html', 'http://www.it.kmitl.ac.th/~teerapong/news_archive/article-jun-0749.html', 'http://www.it.kmitl.ac.th/~teerapong/news_archive/article-jun-4657.html', 'http://www.it.kmitl.ac.th/~teerapong/news_archive/article-jun-2787.html', 'http://www.it.kmitl.ac.th/~teerapong/news_archive/article-jun-2319.html', 'http://www.it.kmitl.ac.th/~teerapong/news_archive/article-jun-1141.html', 'http://www.it.kmitl.ac.th/~teerapong/news_archive/article-jun-4805.html', 'http://www.it.kmitl.ac.th/~teerapong/news_archive/article-jun-0101.html', 'http://www.it.kmitl.ac.th/~teerapong/news_archive/article-jun-4636.html', 'http://www.it.kmitl.ac.th/~teerapong/news_archive/article-jun-1885.html', 'http://www.it.kmitl.ac.th/~teerapong/news_archive/article-jun-1112.html', 'http://www.it.kmitl.ac.th/~teerapong/news_archive/article-jun-4470.html', 'http://www.it.kmitl.ac.th/~teerapong/news_archive/article-jun-3966.html', 'http://www.it.kmitl.ac.th/~teerapong/news_archive/article-jun-1668.html', 'http://www.it.kmitl.ac.th/~teerapong/news_archive/article-jun-1940.html', 'http://www.it.kmitl.ac.th/~teerapong/news_archive/article-jun-0693.html', 'http://www.it.kmitl.ac.th/~teerapong/news_archive/article-jun-0583.html', 'http://www.it.kmitl.ac.th/~teerapong/news_archive/article-jun-4042.html', 'http://www.it.kmitl.ac.th/~teerapong/news_archive/article-jun-1150.html', 'http://www.it.kmitl.ac.th/~teerapong/news_archive/article-jun-0829.html', 'http://www.it.kmitl.ac.th/~teerapong/news_archive/article-jun-4361.html', 'http://www.it.kmitl.ac.th/~teerapong/news_archive/article-jun-2660.html', 'http://www.it.kmitl.ac.th/~teerapong/news_archive/article-jun-3293.html', 'http://www.it.kmitl.ac.th/~teerapong/news_archive/article-jun-4523.html', 'http://www.it.kmitl.ac.th/~teerapong/news_archive/article-jun-2536.html', 'http://www.it.kmitl.ac.th/~teerapong/news_archive/article-jun-0684.html', 'http://www.it.kmitl.ac.th/~teerapong/news_archive/article-jun-3126.html', 'http://www.it.kmitl.ac.th/~teerapong/news_archive/article-jun-1396.html', 'http://www.it.kmitl.ac.th/~teerapong/news_archive/article-jun-3380.html', 'http://www.it.kmitl.ac.th/~teerapong/news_archive/article-jun-3599.html', 'http://www.it.kmitl.ac.th/~teerapong/news_archive/article-jun-0780.html', 'http://www.it.kmitl.ac.th/~teerapong/news_archive/article-jun-0505.html', 'http://www.it.kmitl.ac.th/~teerapong/news_archive/article-jun-2320.html', 'http://www.it.kmitl.ac.th/~teerapong/news_archive/article-jun-3360.html', 'http://www.it.kmitl.ac.th/~teerapong/news_archive/article-jun-1094.html', 'http://www.it.kmitl.ac.th/~teerapong/news_archive/article-jun-2505.html', 'http://www.it.kmitl.ac.th/~teerapong/news_archive/article-jun-2405.html', 'http://www.it.kmitl.ac.th/~teerapong/news_archive/article-jun-4106.html', 'http://www.it.kmitl.ac.th/~teerapong/news_archive/article-jun-0039.html', 'http://www.it.kmitl.ac.th/~teerapong/news_archive/article-jun-2519.html', 'http://www.it.kmitl.ac.th/~teerapong/news_archive/article-jun-1446.html', 'http://www.it.kmitl.ac.th/~teerapong/news_archive/article-jun-1293.html', 'http://www.it.kmitl.ac.th/~teerapong/news_archive/article-jun-4259.html', 'http://www.it.kmitl.ac.th/~teerapong/news_archive/article-jun-4520.html', 'http://www.it.kmitl.ac.th/~teerapong/news_archive/article-jul-1745.html', 'http://www.it.kmitl.ac.th/~teerapong/news_archive/article-jul-0465.html', 'http://www.it.kmitl.ac.th/~teerapong/news_archive/article-jul-4512.html', 'http://www.it.kmitl.ac.th/~teerapong/news_archive/article-jul-2758.html', 'http://www.it.kmitl.ac.th/~teerapong/news_archive/article-jul-4068.html', 'http://www.it.kmitl.ac.th/~teerapong/news_archive/article-jul-1257.html', 'http://www.it.kmitl.ac.th/~teerapong/news_archive/article-jul-2965.html', 'http://www.it.kmitl.ac.th/~teerapong/news_archive/article-jul-2977.html', 'http://www.it.kmitl.ac.th/~teerapong/news_archive/article-jul-0794.html', 'http://www.it.kmitl.ac.th/~teerapong/news_archive/article-jul-0495.html', 'http://www.it.kmitl.ac.th/~teerapong/news_archive/article-jul-2215.html', 'http://www.it.kmitl.ac.th/~teerapong/news_archive/article-jul-4187.html', 'http://www.it.kmitl.ac.th/~teerapong/news_archive/article-jul-3607.html', 'http://www.it.kmitl.ac.th/~teerapong/news_archive/article-jul-3406.html', 'http://www.it.kmitl.ac.th/~teerapong/news_archive/article-jul-4480.html', 'http://www.it.kmitl.ac.th/~teerapong/news_archive/article-jul-4575.html', 'http://www.it.kmitl.ac.th/~teerapong/news_archive/article-jul-2829.html', 'http://www.it.kmitl.ac.th/~teerapong/news_archive/article-jul-4356.html', 'http://www.it.kmitl.ac.th/~teerapong/news_archive/article-jul-3487.html', 'http://www.it.kmitl.ac.th/~teerapong/news_archive/article-jul-3941.html', 'http://www.it.kmitl.ac.th/~teerapong/news_archive/article-jul-4527.html', 'http://www.it.kmitl.ac.th/~teerapong/news_archive/article-jul-3516.html', 'http://www.it.kmitl.ac.th/~teerapong/news_archive/article-jul-0165.html', 'http://www.it.kmitl.ac.th/~teerapong/news_archive/article-jul-2340.html', 'http://www.it.kmitl.ac.th/~teerapong/news_archive/article-jul-4614.html', 'http://www.it.kmitl.ac.th/~teerapong/news_archive/article-jul-2009.html', 'http://www.it.kmitl.ac.th/~teerapong/news_archive/article-jul-2742.html', 'http://www.it.kmitl.ac.th/~teerapong/news_archive/article-jul-3010.html', 'http://www.it.kmitl.ac.th/~teerapong/news_archive/article-jul-4101.html', 'http://www.it.kmitl.ac.th/~teerapong/news_archive/article-jul-2708.html', 'http://www.it.kmitl.ac.th/~teerapong/news_archive/article-jul-4268.html', 'http://www.it.kmitl.ac.th/~teerapong/news_archive/article-jul-4019.html', 'http://www.it.kmitl.ac.th/~teerapong/news_archive/article-jul-1748.html', 'http://www.it.kmitl.ac.th/~teerapong/news_archive/article-jul-1249.html', 'http://www.it.kmitl.ac.th/~teerapong/news_archive/article-jul-4170.html', 'http://www.it.kmitl.ac.th/~teerapong/news_archive/article-jul-2162.html', 'http://www.it.kmitl.ac.th/~teerapong/news_archive/article-jul-0339.html', 'http://www.it.kmitl.ac.th/~teerapong/news_archive/article-jul-2286.html', 'http://www.it.kmitl.ac.th/~teerapong/news_archive/article-jul-2988.html', 'http://www.it.kmitl.ac.th/~teerapong/news_archive/article-jul-4021.html', 'http://www.it.kmitl.ac.th/~teerapong/news_archive/article-jul-4373.html', 'http://www.it.kmitl.ac.th/~teerapong/news_archive/article-jul-4895.html', 'http://www.it.kmitl.ac.th/~teerapong/news_archive/article-jul-4326.html', 'http://www.it.kmitl.ac.th/~teerapong/news_archive/article-jul-0662.html', 'http://www.it.kmitl.ac.th/~teerapong/news_archive/article-jul-2558.html', 'http://www.it.kmitl.ac.th/~teerapong/news_archive/article-jul-3455.html', 'http://www.it.kmitl.ac.th/~teerapong/news_archive/article-jul-4969.html', 'http://www.it.kmitl.ac.th/~teerapong/news_archive/article-jul-3422.html', 'http://www.it.kmitl.ac.th/~teerapong/news_archive/article-jul-1711.html', 'http://www.it.kmitl.ac.th/~teerapong/news_archive/article-jul-2063.html', 'http://www.it.kmitl.ac.th/~teerapong/news_archive/article-jul-2960.html', 'http://www.it.kmitl.ac.th/~teerapong/news_archive/article-jul-4915.html', 'http://www.it.kmitl.ac.th/~teerapong/news_archive/article-jul-4812.html', 'http://www.it.kmitl.ac.th/~teerapong/news_archive/article-jul-3520.html', 'http://www.it.kmitl.ac.th/~teerapong/news_archive/article-jul-0643.html', 'http://www.it.kmitl.ac.th/~teerapong/news_archive/article-jul-3273.html', 'http://www.it.kmitl.ac.th/~teerapong/news_archive/article-jul-3870.html', 'http://www.it.kmitl.ac.th/~teerapong/news_archive/article-jul-0803.html', 'http://www.it.kmitl.ac.th/~teerapong/news_archive/article-jul-4157.html', 'http://www.it.kmitl.ac.th/~teerapong/news_archive/article-jul-0297.html', 'http://www.it.kmitl.ac.th/~teerapong/news_archive/article-jul-4908.html', 'http://www.it.kmitl.ac.th/~teerapong/news_archive/article-jul-1013.html', 'http://www.it.kmitl.ac.th/~teerapong/news_archive/article-jul-4496.html', 'http://www.it.kmitl.ac.th/~teerapong/news_archive/article-jul-3168.html', 'http://www.it.kmitl.ac.th/~teerapong/news_archive/article-jul-4242.html', 'http://www.it.kmitl.ac.th/~teerapong/news_archive/article-jul-2527.html', 'http://www.it.kmitl.ac.th/~teerapong/news_archive/article-jul-1760.html', 'http://www.it.kmitl.ac.th/~teerapong/news_archive/article-jul-4400.html', 'http://www.it.kmitl.ac.th/~teerapong/news_archive/article-jul-4827.html', 'http://www.it.kmitl.ac.th/~teerapong/news_archive/article-jul-4341.html', 'http://www.it.kmitl.ac.th/~teerapong/news_archive/article-jul-3525.html', 'http://www.it.kmitl.ac.th/~teerapong/news_archive/article-jul-2544.html', 'http://www.it.kmitl.ac.th/~teerapong/news_archive/article-jul-0637.html', 'http://www.it.kmitl.ac.th/~teerapong/news_archive/article-jul-4798.html', 'http://www.it.kmitl.ac.th/~teerapong/news_archive/article-jul-2909.html', 'http://www.it.kmitl.ac.th/~teerapong/news_archive/article-jul-2815.html', 'http://www.it.kmitl.ac.th/~teerapong/news_archive/article-jul-4628.html', 'http://www.it.kmitl.ac.th/~teerapong/news_archive/article-jul-1361.html', 'http://www.it.kmitl.ac.th/~teerapong/news_archive/article-jul-0597.html', 'http://www.it.kmitl.ac.th/~teerapong/news_archive/article-jul-2241.html', 'http://www.it.kmitl.ac.th/~teerapong/news_archive/article-jul-1728.html', 'http://www.it.kmitl.ac.th/~teerapong/news_archive/article-jul-1219.html', 'http://www.it.kmitl.ac.th/~teerapong/news_archive/article-jul-4829.html', 'http://www.it.kmitl.ac.th/~teerapong/news_archive/article-jul-1320.html', 'http://www.it.kmitl.ac.th/~teerapong/news_archive/article-jul-2463.html', 'http://www.it.kmitl.ac.th/~teerapong/news_archive/article-jul-3438.html', 'http://www.it.kmitl.ac.th/~teerapong/news_archive/article-jul-4719.html', 'http://www.it.kmitl.ac.th/~teerapong/news_archive/article-jul-3289.html', 'http://www.it.kmitl.ac.th/~teerapong/news_archive/article-jul-2439.html', 'http://www.it.kmitl.ac.th/~teerapong/news_archive/article-jul-3943.html', 'http://www.it.kmitl.ac.th/~teerapong/news_archive/article-jul-3331.html', 'http://www.it.kmitl.ac.th/~teerapong/news_archive/article-jul-3957.html', 'http://www.it.kmitl.ac.th/~teerapong/news_archive/article-jul-0733.html', 'http://www.it.kmitl.ac.th/~teerapong/news_archive/article-jul-0168.html', 'http://www.it.kmitl.ac.th/~teerapong/news_archive/article-jul-2667.html', 'http://www.it.kmitl.ac.th/~teerapong/news_archive/article-jul-4244.html', 'http://www.it.kmitl.ac.th/~teerapong/news_archive/article-jul-0334.html', 'http://www.it.kmitl.ac.th/~teerapong/news_archive/article-jul-0645.html', 'http://www.it.kmitl.ac.th/~teerapong/news_archive/article-jul-3380.html', 'http://www.it.kmitl.ac.th/~teerapong/news_archive/article-jul-0019.html', 'http://www.it.kmitl.ac.th/~teerapong/news_archive/article-jul-4790.html', 'http://www.it.kmitl.ac.th/~teerapong/news_archive/article-jul-4384.html', 'http://www.it.kmitl.ac.th/~teerapong/news_archive/article-jul-3522.html', 'http://www.it.kmitl.ac.th/~teerapong/news_archive/article-jul-1717.html', 'http://www.it.kmitl.ac.th/~teerapong/news_archive/article-jul-1112.html', 'http://www.it.kmitl.ac.th/~teerapong/news_archive/article-jul-0202.html', 'http://www.it.kmitl.ac.th/~teerapong/news_archive/article-jul-1885.html', 'http://www.it.kmitl.ac.th/~teerapong/news_archive/article-jul-3830.html', 'http://www.it.kmitl.ac.th/~teerapong/news_archive/article-jul-0931.html', 'http://www.it.kmitl.ac.th/~teerapong/news_archive/article-jul-1059.html', 'http://www.it.kmitl.ac.th/~teerapong/news_archive/article-jul-3879.html', 'http://www.it.kmitl.ac.th/~teerapong/news_archive/article-jul-4233.html', 'http://www.it.kmitl.ac.th/~teerapong/news_archive/article-jul-0417.html', 'http://www.it.kmitl.ac.th/~teerapong/news_archive/article-jul-3332.html', 'http://www.it.kmitl.ac.th/~teerapong/news_archive/article-jul-0589.html', 'http://www.it.kmitl.ac.th/~teerapong/news_archive/article-jul-4193.html', 'http://www.it.kmitl.ac.th/~teerapong/news_archive/article-jul-0503.html', 'http://www.it.kmitl.ac.th/~teerapong/news_archive/article-jul-1350.html', 'http://www.it.kmitl.ac.th/~teerapong/news_archive/article-jul-1729.html', 'http://www.it.kmitl.ac.th/~teerapong/news_archive/article-jul-4500.html', 'http://www.it.kmitl.ac.th/~teerapong/news_archive/article-jul-3874.html', 'http://www.it.kmitl.ac.th/~teerapong/news_archive/article-jul-2168.html', 'http://www.it.kmitl.ac.th/~teerapong/news_archive/article-aug-3515.html', 'http://www.it.kmitl.ac.th/~teerapong/news_archive/article-aug-1123.html', 'http://www.it.kmitl.ac.th/~teerapong/news_archive/article-aug-4475.html', 'http://www.it.kmitl.ac.th/~teerapong/news_archive/article-aug-3384.html', 'http://www.it.kmitl.ac.th/~teerapong/news_archive/article-aug-4019.html', 'http://www.it.kmitl.ac.th/~teerapong/news_archive/article-aug-0806.html', 'http://www.it.kmitl.ac.th/~teerapong/news_archive/article-aug-4964.html', 'http://www.it.kmitl.ac.th/~teerapong/news_archive/article-aug-4265.html', 'http://www.it.kmitl.ac.th/~teerapong/news_archive/article-aug-3926.html', 'http://www.it.kmitl.ac.th/~teerapong/news_archive/article-aug-4614.html', 'http://www.it.kmitl.ac.th/~teerapong/news_archive/article-aug-2567.html', 'http://www.it.kmitl.ac.th/~teerapong/news_archive/article-aug-4701.html', 'http://www.it.kmitl.ac.th/~teerapong/news_archive/article-aug-0893.html', 'http://www.it.kmitl.ac.th/~teerapong/news_archive/article-aug-4668.html', 'http://www.it.kmitl.ac.th/~teerapong/news_archive/article-aug-1637.html', 'http://www.it.kmitl.ac.th/~teerapong/news_archive/article-aug-0324.html', 'http://www.it.kmitl.ac.th/~teerapong/news_archive/article-aug-0908.html', 'http://www.it.kmitl.ac.th/~teerapong/news_archive/article-aug-1443.html', 'http://www.it.kmitl.ac.th/~teerapong/news_archive/article-aug-3079.html', 'http://www.it.kmitl.ac.th/~teerapong/news_archive/article-aug-0896.html', 'http://www.it.kmitl.ac.th/~teerapong/news_archive/article-aug-4896.html', 'http://www.it.kmitl.ac.th/~teerapong/news_archive/article-aug-3579.html', 'http://www.it.kmitl.ac.th/~teerapong/news_archive/article-aug-4658.html', 'http://www.it.kmitl.ac.th/~teerapong/news_archive/article-aug-2737.html', 'http://www.it.kmitl.ac.th/~teerapong/news_archive/article-aug-1784.html', 'http://www.it.kmitl.ac.th/~teerapong/news_archive/article-aug-2063.html', 'http://www.it.kmitl.ac.th/~teerapong/news_archive/article-aug-1532.html', 'http://www.it.kmitl.ac.th/~teerapong/news_archive/article-aug-0644.html', 'http://www.it.kmitl.ac.th/~teerapong/news_archive/article-aug-3247.html', 'http://www.it.kmitl.ac.th/~teerapong/news_archive/article-aug-2464.html', 'http://www.it.kmitl.ac.th/~teerapong/news_archive/article-aug-2142.html', 'http://www.it.kmitl.ac.th/~teerapong/news_archive/article-aug-1157.html', 'http://www.it.kmitl.ac.th/~teerapong/news_archive/article-aug-2119.html', 'http://www.it.kmitl.ac.th/~teerapong/news_archive/article-aug-3859.html', 'http://www.it.kmitl.ac.th/~teerapong/news_archive/article-aug-1614.html', 'http://www.it.kmitl.ac.th/~teerapong/news_archive/article-aug-3206.html', 'http://www.it.kmitl.ac.th/~teerapong/news_archive/article-aug-3335.html', 'http://www.it.kmitl.ac.th/~teerapong/news_archive/article-aug-2889.html', 'http://www.it.kmitl.ac.th/~teerapong/news_archive/article-aug-0763.html', 'http://www.it.kmitl.ac.th/~teerapong/news_archive/article-aug-0648.html', 'http://www.it.kmitl.ac.th/~teerapong/news_archive/article-aug-1226.html', 'http://www.it.kmitl.ac.th/~teerapong/news_archive/article-aug-2762.html', 'http://www.it.kmitl.ac.th/~teerapong/news_archive/article-aug-0319.html', 'http://www.it.kmitl.ac.th/~teerapong/news_archive/article-aug-3240.html', 'http://www.it.kmitl.ac.th/~teerapong/news_archive/article-aug-1817.html', 'http://www.it.kmitl.ac.th/~teerapong/news_archive/article-aug-0781.html', 'http://www.it.kmitl.ac.th/~teerapong/news_archive/article-aug-4887.html', 'http://www.it.kmitl.ac.th/~teerapong/news_archive/article-aug-4692.html', 'http://www.it.kmitl.ac.th/~teerapong/news_archive/article-aug-0685.html', 'http://www.it.kmitl.ac.th/~teerapong/news_archive/article-aug-1101.html', 'http://www.it.kmitl.ac.th/~teerapong/news_archive/article-aug-1823.html', 'http://www.it.kmitl.ac.th/~teerapong/news_archive/article-aug-3199.html', 'http://www.it.kmitl.ac.th/~teerapong/news_archive/article-aug-0176.html', 'http://www.it.kmitl.ac.th/~teerapong/news_archive/article-aug-1452.html', 'http://www.it.kmitl.ac.th/~teerapong/news_archive/article-aug-3112.html', 'http://www.it.kmitl.ac.th/~teerapong/news_archive/article-aug-0373.html', 'http://www.it.kmitl.ac.th/~teerapong/news_archive/article-aug-4936.html', 'http://www.it.kmitl.ac.th/~teerapong/news_archive/article-aug-1558.html', 'http://www.it.kmitl.ac.th/~teerapong/news_archive/article-aug-3754.html', 'http://www.it.kmitl.ac.th/~teerapong/news_archive/article-aug-2783.html', 'http://www.it.kmitl.ac.th/~teerapong/news_archive/article-aug-4587.html', 'http://www.it.kmitl.ac.th/~teerapong/news_archive/article-aug-3962.html', 'http://www.it.kmitl.ac.th/~teerapong/news_archive/article-aug-0665.html', 'http://www.it.kmitl.ac.th/~teerapong/news_archive/article-aug-3312.html', 'http://www.it.kmitl.ac.th/~teerapong/news_archive/article-aug-2549.html', 'http://www.it.kmitl.ac.th/~teerapong/news_archive/article-aug-4009.html', 'http://www.it.kmitl.ac.th/~teerapong/news_archive/article-aug-2180.html', 'http://www.it.kmitl.ac.th/~teerapong/news_archive/article-aug-3857.html', 'http://www.it.kmitl.ac.th/~teerapong/news_archive/article-aug-3877.html', 'http://www.it.kmitl.ac.th/~teerapong/news_archive/article-aug-3101.html', 'http://www.it.kmitl.ac.th/~teerapong/news_archive/article-aug-3408.html', 'http://www.it.kmitl.ac.th/~teerapong/news_archive/article-aug-3126.html', 'http://www.it.kmitl.ac.th/~teerapong/news_archive/article-aug-2688.html', 'http://www.it.kmitl.ac.th/~teerapong/news_archive/article-aug-2601.html', 'http://www.it.kmitl.ac.th/~teerapong/news_archive/article-aug-1976.html', 'http://www.it.kmitl.ac.th/~teerapong/news_archive/article-aug-4015.html', 'http://www.it.kmitl.ac.th/~teerapong/news_archive/article-aug-4910.html', 'http://www.it.kmitl.ac.th/~teerapong/news_archive/article-aug-1990.html', 'http://www.it.kmitl.ac.th/~teerapong/news_archive/article-aug-3360.html', 'http://www.it.kmitl.ac.th/~teerapong/news_archive/article-aug-3213.html', 'http://www.it.kmitl.ac.th/~teerapong/news_archive/article-aug-3564.html', 'http://www.it.kmitl.ac.th/~teerapong/news_archive/article-aug-4998.html', 'http://www.it.kmitl.ac.th/~teerapong/news_archive/article-aug-0801.html', 'http://www.it.kmitl.ac.th/~teerapong/news_archive/article-aug-4456.html', 'http://www.it.kmitl.ac.th/~teerapong/news_archive/article-aug-4931.html', 'http://www.it.kmitl.ac.th/~teerapong/news_archive/article-aug-4232.html', 'http://www.it.kmitl.ac.th/~teerapong/news_archive/article-aug-1046.html', 'http://www.it.kmitl.ac.th/~teerapong/news_archive/article-aug-3940.html', 'http://www.it.kmitl.ac.th/~teerapong/news_archive/article-aug-4740.html', 'http://www.it.kmitl.ac.th/~teerapong/news_archive/article-aug-2812.html', 'http://www.it.kmitl.ac.th/~teerapong/news_archive/article-aug-0633.html', 'http://www.it.kmitl.ac.th/~teerapong/news_archive/article-aug-3280.html', 'http://www.it.kmitl.ac.th/~teerapong/news_archive/article-aug-4746.html', 'http://www.it.kmitl.ac.th/~teerapong/news_archive/article-aug-4220.html', 'http://www.it.kmitl.ac.th/~teerapong/news_archive/article-aug-1720.html', 'http://www.it.kmitl.ac.th/~teerapong/news_archive/article-aug-1390.html', 'http://www.it.kmitl.ac.th/~teerapong/news_archive/article-aug-2437.html', 'http://www.it.kmitl.ac.th/~teerapong/news_archive/article-aug-1486.html', 'http://www.it.kmitl.ac.th/~teerapong/news_archive/article-aug-2512.html', 'http://www.it.kmitl.ac.th/~teerapong/news_archive/article-aug-1933.html', 'http://www.it.kmitl.ac.th/~teerapong/news_archive/article-aug-1337.html', 'http://www.it.kmitl.ac.th/~teerapong/news_archive/article-aug-4172.html', 'http://www.it.kmitl.ac.th/~teerapong/news_archive/article-aug-3301.html', 'http://www.it.kmitl.ac.th/~teerapong/news_archive/article-aug-2517.html', 'http://www.it.kmitl.ac.th/~teerapong/news_archive/article-aug-4672.html', 'http://www.it.kmitl.ac.th/~teerapong/news_archive/article-aug-0800.html', 'http://www.it.kmitl.ac.th/~teerapong/news_archive/article-aug-0840.html', 'http://www.it.kmitl.ac.th/~teerapong/news_archive/article-aug-4831.html', 'http://www.it.kmitl.ac.th/~teerapong/news_archive/article-aug-2563.html', 'http://www.it.kmitl.ac.th/~teerapong/news_archive/article-aug-4625.html', 'http://www.it.kmitl.ac.th/~teerapong/news_archive/article-aug-1797.html', 'http://www.it.kmitl.ac.th/~teerapong/news_archive/article-aug-2487.html', 'http://www.it.kmitl.ac.th/~teerapong/news_archive/article-aug-0053.html', 'http://www.it.kmitl.ac.th/~teerapong/news_archive/article-aug-1767.html', 'http://www.it.kmitl.ac.th/~teerapong/news_archive/article-aug-3362.html', 'http://www.it.kmitl.ac.th/~teerapong/news_archive/article-aug-1146.html', 'http://www.it.kmitl.ac.th/~teerapong/news_archive/article-sep-1375.html', 'http://www.it.kmitl.ac.th/~teerapong/news_archive/article-sep-3874.html', 'http://www.it.kmitl.ac.th/~teerapong/news_archive/article-sep-0096.html', 'http://www.it.kmitl.ac.th/~teerapong/news_archive/article-sep-3814.html', 'http://www.it.kmitl.ac.th/~teerapong/news_archive/article-sep-4619.html', 'http://www.it.kmitl.ac.th/~teerapong/news_archive/article-sep-3639.html', 'http://www.it.kmitl.ac.th/~teerapong/news_archive/article-sep-4996.html', 'http://www.it.kmitl.ac.th/~teerapong/news_archive/article-sep-3370.html', 'http://www.it.kmitl.ac.th/~teerapong/news_archive/article-sep-0503.html', 'http://www.it.kmitl.ac.th/~teerapong/news_archive/article-sep-4426.html', 'http://www.it.kmitl.ac.th/~teerapong/news_archive/article-sep-1785.html', 'http://www.it.kmitl.ac.th/~teerapong/news_archive/article-sep-3918.html', 'http://www.it.kmitl.ac.th/~teerapong/news_archive/article-sep-0401.html', 'http://www.it.kmitl.ac.th/~teerapong/news_archive/article-sep-2816.html', 'http://www.it.kmitl.ac.th/~teerapong/news_archive/article-sep-3016.html', 'http://www.it.kmitl.ac.th/~teerapong/news_archive/article-sep-2767.html', 'http://www.it.kmitl.ac.th/~teerapong/news_archive/article-sep-4852.html', 'http://www.it.kmitl.ac.th/~teerapong/news_archive/article-sep-1803.html', 'http://www.it.kmitl.ac.th/~teerapong/news_archive/article-sep-0386.html', 'http://www.it.kmitl.ac.th/~teerapong/news_archive/article-sep-3587.html', 'http://www.it.kmitl.ac.th/~teerapong/news_archive/article-sep-1349.html', 'http://www.it.kmitl.ac.th/~teerapong/news_archive/article-sep-3570.html', 'http://www.it.kmitl.ac.th/~teerapong/news_archive/article-sep-4970.html', 'http://www.it.kmitl.ac.th/~teerapong/news_archive/article-sep-0920.html', 'http://www.it.kmitl.ac.th/~teerapong/news_archive/article-sep-4665.html', 'http://www.it.kmitl.ac.th/~teerapong/news_archive/article-sep-3053.html', 'http://www.it.kmitl.ac.th/~teerapong/news_archive/article-sep-4093.html', 'http://www.it.kmitl.ac.th/~teerapong/news_archive/article-sep-1145.html', 'http://www.it.kmitl.ac.th/~teerapong/news_archive/article-sep-3077.html', 'http://www.it.kmitl.ac.th/~teerapong/news_archive/article-sep-2562.html', 'http://www.it.kmitl.ac.th/~teerapong/news_archive/article-sep-4352.html', 'http://www.it.kmitl.ac.th/~teerapong/news_archive/article-sep-2859.html', 'http://www.it.kmitl.ac.th/~teerapong/news_archive/article-sep-3900.html', 'http://www.it.kmitl.ac.th/~teerapong/news_archive/article-sep-3760.html', 'http://www.it.kmitl.ac.th/~teerapong/news_archive/article-sep-2440.html', 'http://www.it.kmitl.ac.th/~teerapong/news_archive/article-sep-2872.html', 'http://www.it.kmitl.ac.th/~teerapong/news_archive/article-sep-4414.html', 'http://www.it.kmitl.ac.th/~teerapong/news_archive/article-sep-4877.html', 'http://www.it.kmitl.ac.th/~teerapong/news_archive/article-sep-3592.html', 'http://www.it.kmitl.ac.th/~teerapong/news_archive/article-sep-0022.html', 'http://www.it.kmitl.ac.th/~teerapong/news_archive/article-sep-0232.html', 'http://www.it.kmitl.ac.th/~teerapong/news_archive/article-sep-1748.html', 'http://www.it.kmitl.ac.th/~teerapong/news_archive/article-sep-4345.html', 'http://www.it.kmitl.ac.th/~teerapong/news_archive/article-sep-1443.html', 'http://www.it.kmitl.ac.th/~teerapong/news_archive/article-sep-4275.html', 'http://www.it.kmitl.ac.th/~teerapong/news_archive/article-sep-0555.html', 'http://www.it.kmitl.ac.th/~teerapong/news_archive/article-sep-4613.html', 'http://www.it.kmitl.ac.th/~teerapong/news_archive/article-sep-2949.html', 'http://www.it.kmitl.ac.th/~teerapong/news_archive/article-sep-3287.html', 'http://www.it.kmitl.ac.th/~teerapong/news_archive/article-sep-4860.html', 'http://www.it.kmitl.ac.th/~teerapong/news_archive/article-sep-3046.html', 'http://www.it.kmitl.ac.th/~teerapong/news_archive/article-sep-4890.html', 'http://www.it.kmitl.ac.th/~teerapong/news_archive/article-sep-3678.html', 'http://www.it.kmitl.ac.th/~teerapong/news_archive/article-sep-3602.html', 'http://www.it.kmitl.ac.th/~teerapong/news_archive/article-sep-4876.html', 'http://www.it.kmitl.ac.th/~teerapong/news_archive/article-sep-4207.html', 'http://www.it.kmitl.ac.th/~teerapong/news_archive/article-sep-1238.html', 'http://www.it.kmitl.ac.th/~teerapong/news_archive/article-sep-4867.html', 'http://www.it.kmitl.ac.th/~teerapong/news_archive/article-sep-0823.html', 'http://www.it.kmitl.ac.th/~teerapong/news_archive/article-sep-0254.html', 'http://www.it.kmitl.ac.th/~teerapong/news_archive/article-sep-3264.html', 'http://www.it.kmitl.ac.th/~teerapong/news_archive/article-sep-2587.html', 'http://www.it.kmitl.ac.th/~teerapong/news_archive/article-sep-4095.html', 'http://www.it.kmitl.ac.th/~teerapong/news_archive/article-sep-1406.html', 'http://www.it.kmitl.ac.th/~teerapong/news_archive/article-sep-2272.html', 'http://www.it.kmitl.ac.th/~teerapong/news_archive/article-sep-0584.html', 'http://www.it.kmitl.ac.th/~teerapong/news_archive/article-sep-4404.html', 'http://www.it.kmitl.ac.th/~teerapong/news_archive/article-sep-1405.html', 'http://www.it.kmitl.ac.th/~teerapong/news_archive/article-sep-2520.html', 'http://www.it.kmitl.ac.th/~teerapong/news_archive/article-sep-4936.html', 'http://www.it.kmitl.ac.th/~teerapong/news_archive/article-sep-1696.html', 'http://www.it.kmitl.ac.th/~teerapong/news_archive/article-sep-3711.html', 'http://www.it.kmitl.ac.th/~teerapong/news_archive/article-sep-3745.html', 'http://www.it.kmitl.ac.th/~teerapong/news_archive/article-sep-0082.html', 'http://www.it.kmitl.ac.th/~teerapong/news_archive/article-sep-3128.html', 'http://www.it.kmitl.ac.th/~teerapong/news_archive/article-sep-4623.html', 'http://www.it.kmitl.ac.th/~teerapong/news_archive/article-sep-0592.html', 'http://www.it.kmitl.ac.th/~teerapong/news_archive/article-sep-1313.html', 'http://www.it.kmitl.ac.th/~teerapong/news_archive/article-sep-1672.html', 'http://www.it.kmitl.ac.th/~teerapong/news_archive/article-sep-0863.html', 'http://www.it.kmitl.ac.th/~teerapong/news_archive/article-sep-1411.html', 'http://www.it.kmitl.ac.th/~teerapong/news_archive/article-sep-3583.html', 'http://www.it.kmitl.ac.th/~teerapong/news_archive/article-sep-2426.html', 'http://www.it.kmitl.ac.th/~teerapong/news_archive/article-sep-3558.html', 'http://www.it.kmitl.ac.th/~teerapong/news_archive/article-sep-1539.html', 'http://www.it.kmitl.ac.th/~teerapong/news_archive/article-sep-3347.html', 'http://www.it.kmitl.ac.th/~teerapong/news_archive/article-sep-2082.html', 'http://www.it.kmitl.ac.th/~teerapong/news_archive/article-sep-4027.html', 'http://www.it.kmitl.ac.th/~teerapong/news_archive/article-sep-4329.html', 'http://www.it.kmitl.ac.th/~teerapong/news_archive/article-sep-4851.html', 'http://www.it.kmitl.ac.th/~teerapong/news_archive/article-sep-1519.html', 'http://www.it.kmitl.ac.th/~teerapong/news_archive/article-sep-1782.html', 'http://www.it.kmitl.ac.th/~teerapong/news_archive/article-sep-4130.html', 'http://www.it.kmitl.ac.th/~teerapong/news_archive/article-sep-2601.html', 'http://www.it.kmitl.ac.th/~teerapong/news_archive/article-sep-0226.html', 'http://www.it.kmitl.ac.th/~teerapong/news_archive/article-sep-2914.html', 'http://www.it.kmitl.ac.th/~teerapong/news_archive/article-sep-0174.html', 'http://www.it.kmitl.ac.th/~teerapong/news_archive/article-sep-4443.html', 'http://www.it.kmitl.ac.th/~teerapong/news_archive/article-sep-0063.html', 'http://www.it.kmitl.ac.th/~teerapong/news_archive/article-sep-4940.html', 'http://www.it.kmitl.ac.th/~teerapong/news_archive/article-sep-2528.html', 'http://www.it.kmitl.ac.th/~teerapong/news_archive/article-sep-4107.html', 'http://www.it.kmitl.ac.th/~teerapong/news_archive/article-sep-2374.html', 'http://www.it.kmitl.ac.th/~teerapong/news_archive/article-sep-3813.html', 'http://www.it.kmitl.ac.th/~teerapong/news_archive/article-sep-2892.html', 'http://www.it.kmitl.ac.th/~teerapong/news_archive/article-sep-0388.html', 'http://www.it.kmitl.ac.th/~teerapong/news_archive/article-sep-3414.html', 'http://www.it.kmitl.ac.th/~teerapong/news_archive/article-sep-2293.html', 'http://www.it.kmitl.ac.th/~teerapong/news_archive/article-sep-1752.html', 'http://www.it.kmitl.ac.th/~teerapong/news_archive/article-sep-2040.html', 'http://www.it.kmitl.ac.th/~teerapong/news_archive/article-sep-0237.html', 'http://www.it.kmitl.ac.th/~teerapong/news_archive/article-sep-2517.html', 'http://www.it.kmitl.ac.th/~teerapong/news_archive/article-oct-3861.html', 'http://www.it.kmitl.ac.th/~teerapong/news_archive/article-oct-0443.html', 'http://www.it.kmitl.ac.th/~teerapong/news_archive/article-oct-0777.html', 'http://www.it.kmitl.ac.th/~teerapong/news_archive/article-oct-1914.html', 'http://www.it.kmitl.ac.th/~teerapong/news_archive/article-oct-2035.html', 'http://www.it.kmitl.ac.th/~teerapong/news_archive/article-oct-0709.html', 'http://www.it.kmitl.ac.th/~teerapong/news_archive/article-oct-1226.html', 'http://www.it.kmitl.ac.th/~teerapong/news_archive/article-oct-0945.html', 'http://www.it.kmitl.ac.th/~teerapong/news_archive/article-oct-1295.html', 'http://www.it.kmitl.ac.th/~teerapong/news_archive/article-oct-4199.html', 'http://www.it.kmitl.ac.th/~teerapong/news_archive/article-oct-0924.html', 'http://www.it.kmitl.ac.th/~teerapong/news_archive/article-oct-3880.html', 'http://www.it.kmitl.ac.th/~teerapong/news_archive/article-oct-3790.html', 'http://www.it.kmitl.ac.th/~teerapong/news_archive/article-oct-3326.html', 'http://www.it.kmitl.ac.th/~teerapong/news_archive/article-oct-1924.html', 'http://www.it.kmitl.ac.th/~teerapong/news_archive/article-oct-3040.html', 'http://www.it.kmitl.ac.th/~teerapong/news_archive/article-oct-1787.html', 'http://www.it.kmitl.ac.th/~teerapong/news_archive/article-oct-2701.html', 'http://www.it.kmitl.ac.th/~teerapong/news_archive/article-oct-2317.html', 'http://www.it.kmitl.ac.th/~teerapong/news_archive/article-oct-0300.html', 'http://www.it.kmitl.ac.th/~teerapong/news_archive/article-oct-4879.html', 'http://www.it.kmitl.ac.th/~teerapong/news_archive/article-oct-0163.html', 'http://www.it.kmitl.ac.th/~teerapong/news_archive/article-oct-4089.html', 'http://www.it.kmitl.ac.th/~teerapong/news_archive/article-oct-4812.html', 'http://www.it.kmitl.ac.th/~teerapong/news_archive/article-oct-4850.html', 'http://www.it.kmitl.ac.th/~teerapong/news_archive/article-oct-3470.html', 'http://www.it.kmitl.ac.th/~teerapong/news_archive/article-oct-4758.html', 'http://www.it.kmitl.ac.th/~teerapong/news_archive/article-oct-2145.html', 'http://www.it.kmitl.ac.th/~teerapong/news_archive/article-oct-3548.html', 'http://www.it.kmitl.ac.th/~teerapong/news_archive/article-oct-3256.html', 'http://www.it.kmitl.ac.th/~teerapong/news_archive/article-oct-4836.html', 'http://www.it.kmitl.ac.th/~teerapong/news_archive/article-oct-2748.html', 'http://www.it.kmitl.ac.th/~teerapong/news_archive/article-oct-0832.html', 'http://www.it.kmitl.ac.th/~teerapong/news_archive/article-oct-2828.html', 'http://www.it.kmitl.ac.th/~teerapong/news_archive/article-oct-0817.html', 'http://www.it.kmitl.ac.th/~teerapong/news_archive/article-oct-2348.html', 'http://www.it.kmitl.ac.th/~teerapong/news_archive/article-oct-1261.html', 'http://www.it.kmitl.ac.th/~teerapong/news_archive/article-oct-0898.html', 'http://www.it.kmitl.ac.th/~teerapong/news_archive/article-oct-1441.html', 'http://www.it.kmitl.ac.th/~teerapong/news_archive/article-oct-0064.html', 'http://www.it.kmitl.ac.th/~teerapong/news_archive/article-oct-2801.html', 'http://www.it.kmitl.ac.th/~teerapong/news_archive/article-oct-2209.html', 'http://www.it.kmitl.ac.th/~teerapong/news_archive/article-oct-2955.html', 'http://www.it.kmitl.ac.th/~teerapong/news_archive/article-oct-3459.html', 'http://www.it.kmitl.ac.th/~teerapong/news_archive/article-oct-4140.html', 'http://www.it.kmitl.ac.th/~teerapong/news_archive/article-oct-4990.html', 'http://www.it.kmitl.ac.th/~teerapong/news_archive/article-oct-3207.html', 'http://www.it.kmitl.ac.th/~teerapong/news_archive/article-oct-0844.html', 'http://www.it.kmitl.ac.th/~teerapong/news_archive/article-oct-2177.html', 'http://www.it.kmitl.ac.th/~teerapong/news_archive/article-oct-3103.html', 'http://www.it.kmitl.ac.th/~teerapong/news_archive/article-oct-4815.html', 'http://www.it.kmitl.ac.th/~teerapong/news_archive/article-oct-4038.html', 'http://www.it.kmitl.ac.th/~teerapong/news_archive/article-oct-1049.html', 'http://www.it.kmitl.ac.th/~teerapong/news_archive/article-oct-1011.html', 'http://www.it.kmitl.ac.th/~teerapong/news_archive/article-oct-0417.html', 'http://www.it.kmitl.ac.th/~teerapong/news_archive/article-oct-3162.html', 'http://www.it.kmitl.ac.th/~teerapong/news_archive/article-oct-0421.html', 'http://www.it.kmitl.ac.th/~teerapong/news_archive/article-oct-2333.html', 'http://www.it.kmitl.ac.th/~teerapong/news_archive/article-oct-4803.html', 'http://www.it.kmitl.ac.th/~teerapong/news_archive/article-oct-1193.html', 'http://www.it.kmitl.ac.th/~teerapong/news_archive/article-oct-4546.html', 'http://www.it.kmitl.ac.th/~teerapong/news_archive/article-oct-0057.html', 'http://www.it.kmitl.ac.th/~teerapong/news_archive/article-oct-4981.html', 'http://www.it.kmitl.ac.th/~teerapong/news_archive/article-oct-4914.html', 'http://www.it.kmitl.ac.th/~teerapong/news_archive/article-oct-1753.html', 'http://www.it.kmitl.ac.th/~teerapong/news_archive/article-oct-2102.html', 'http://www.it.kmitl.ac.th/~teerapong/news_archive/article-oct-2774.html', 'http://www.it.kmitl.ac.th/~teerapong/news_archive/article-oct-4605.html', 'http://www.it.kmitl.ac.th/~teerapong/news_archive/article-oct-3910.html', 'http://www.it.kmitl.ac.th/~teerapong/news_archive/article-oct-2454.html', 'http://www.it.kmitl.ac.th/~teerapong/news_archive/article-oct-0059.html', 'http://www.it.kmitl.ac.th/~teerapong/news_archive/article-oct-0992.html', 'http://www.it.kmitl.ac.th/~teerapong/news_archive/article-oct-2740.html', 'http://www.it.kmitl.ac.th/~teerapong/news_archive/article-oct-2886.html', 'http://www.it.kmitl.ac.th/~teerapong/news_archive/article-oct-4166.html', 'http://www.it.kmitl.ac.th/~teerapong/news_archive/article-oct-2188.html', 'http://www.it.kmitl.ac.th/~teerapong/news_archive/article-oct-4084.html', 'http://www.it.kmitl.ac.th/~teerapong/news_archive/article-oct-2574.html', 'http://www.it.kmitl.ac.th/~teerapong/news_archive/article-oct-3663.html', 'http://www.it.kmitl.ac.th/~teerapong/news_archive/article-oct-2181.html', 'http://www.it.kmitl.ac.th/~teerapong/news_archive/article-oct-0999.html', 'http://www.it.kmitl.ac.th/~teerapong/news_archive/article-oct-2121.html', 'http://www.it.kmitl.ac.th/~teerapong/news_archive/article-oct-2094.html', 'http://www.it.kmitl.ac.th/~teerapong/news_archive/article-oct-2301.html', 'http://www.it.kmitl.ac.th/~teerapong/news_archive/article-oct-0815.html', 'http://www.it.kmitl.ac.th/~teerapong/news_archive/article-oct-3222.html', 'http://www.it.kmitl.ac.th/~teerapong/news_archive/article-oct-4804.html', 'http://www.it.kmitl.ac.th/~teerapong/news_archive/article-oct-1215.html', 'http://www.it.kmitl.ac.th/~teerapong/news_archive/article-oct-2080.html', 'http://www.it.kmitl.ac.th/~teerapong/news_archive/article-oct-0412.html', 'http://www.it.kmitl.ac.th/~teerapong/news_archive/article-oct-3387.html', 'http://www.it.kmitl.ac.th/~teerapong/news_archive/article-oct-3524.html', 'http://www.it.kmitl.ac.th/~teerapong/news_archive/article-oct-0580.html', 'http://www.it.kmitl.ac.th/~teerapong/news_archive/article-oct-0746.html', 'http://www.it.kmitl.ac.th/~teerapong/news_archive/article-oct-1921.html', 'http://www.it.kmitl.ac.th/~teerapong/news_archive/article-oct-0382.html', 'http://www.it.kmitl.ac.th/~teerapong/news_archive/article-oct-1007.html', 'http://www.it.kmitl.ac.th/~teerapong/news_archive/article-oct-3749.html', 'http://www.it.kmitl.ac.th/~teerapong/news_archive/article-oct-3029.html', 'http://www.it.kmitl.ac.th/~teerapong/news_archive/article-oct-0721.html', 'http://www.it.kmitl.ac.th/~teerapong/news_archive/article-oct-0108.html', 'http://www.it.kmitl.ac.th/~teerapong/news_archive/article-oct-3547.html', 'http://www.it.kmitl.ac.th/~teerapong/news_archive/article-oct-0113.html', 'http://www.it.kmitl.ac.th/~teerapong/news_archive/article-oct-0512.html', 'http://www.it.kmitl.ac.th/~teerapong/news_archive/article-oct-1276.html', 'http://www.it.kmitl.ac.th/~teerapong/news_archive/article-oct-0911.html', 'http://www.it.kmitl.ac.th/~teerapong/news_archive/article-oct-2527.html', 'http://www.it.kmitl.ac.th/~teerapong/news_archive/article-oct-0621.html', 'http://www.it.kmitl.ac.th/~teerapong/news_archive/article-oct-1756.html', 'http://www.it.kmitl.ac.th/~teerapong/news_archive/article-oct-3563.html', 'http://www.it.kmitl.ac.th/~teerapong/news_archive/article-oct-3862.html', 'http://www.it.kmitl.ac.th/~teerapong/news_archive/article-oct-2448.html', 'http://www.it.kmitl.ac.th/~teerapong/news_archive/article-oct-1751.html', 'http://www.it.kmitl.ac.th/~teerapong/news_archive/article-oct-1516.html', 'http://www.it.kmitl.ac.th/~teerapong/news_archive/article-oct-3160.html', 'http://www.it.kmitl.ac.th/~teerapong/news_archive/article-oct-0660.html', 'http://www.it.kmitl.ac.th/~teerapong/news_archive/article-oct-2835.html', 'http://www.it.kmitl.ac.th/~teerapong/news_archive/article-oct-4649.html', 'http://www.it.kmitl.ac.th/~teerapong/news_archive/article-oct-3920.html', 'http://www.it.kmitl.ac.th/~teerapong/news_archive/article-oct-2293.html', 'http://www.it.kmitl.ac.th/~teerapong/news_archive/article-oct-2189.html', 'http://www.it.kmitl.ac.th/~teerapong/news_archive/article-oct-4749.html', 'http://www.it.kmitl.ac.th/~teerapong/news_archive/article-nov-3410.html', 'http://www.it.kmitl.ac.th/~teerapong/news_archive/article-nov-3432.html', 'http://www.it.kmitl.ac.th/~teerapong/news_archive/article-nov-3526.html', 'http://www.it.kmitl.ac.th/~teerapong/news_archive/article-nov-1412.html', 'http://www.it.kmitl.ac.th/~teerapong/news_archive/article-nov-2347.html', 'http://www.it.kmitl.ac.th/~teerapong/news_archive/article-nov-2329.html', 'http://www.it.kmitl.ac.th/~teerapong/news_archive/article-nov-0186.html', 'http://www.it.kmitl.ac.th/~teerapong/news_archive/article-nov-0386.html', 'http://www.it.kmitl.ac.th/~teerapong/news_archive/article-nov-1815.html', 'http://www.it.kmitl.ac.th/~teerapong/news_archive/article-nov-3071.html', 'http://www.it.kmitl.ac.th/~teerapong/news_archive/article-nov-3512.html', 'http://www.it.kmitl.ac.th/~teerapong/news_archive/article-nov-3037.html', 'http://www.it.kmitl.ac.th/~teerapong/news_archive/article-nov-4414.html', 'http://www.it.kmitl.ac.th/~teerapong/news_archive/article-nov-4953.html', 'http://www.it.kmitl.ac.th/~teerapong/news_archive/article-nov-2298.html', 'http://www.it.kmitl.ac.th/~teerapong/news_archive/article-nov-3205.html', 'http://www.it.kmitl.ac.th/~teerapong/news_archive/article-nov-0449.html', 'http://www.it.kmitl.ac.th/~teerapong/news_archive/article-nov-4384.html', 'http://www.it.kmitl.ac.th/~teerapong/news_archive/article-nov-4904.html', 'http://www.it.kmitl.ac.th/~teerapong/news_archive/article-nov-3590.html', 'http://www.it.kmitl.ac.th/~teerapong/news_archive/article-nov-3584.html', 'http://www.it.kmitl.ac.th/~teerapong/news_archive/article-nov-4254.html', 'http://www.it.kmitl.ac.th/~teerapong/news_archive/article-nov-2334.html', 'http://www.it.kmitl.ac.th/~teerapong/news_archive/article-nov-2909.html', 'http://www.it.kmitl.ac.th/~teerapong/news_archive/article-nov-3579.html', 'http://www.it.kmitl.ac.th/~teerapong/news_archive/article-nov-2737.html', 'http://www.it.kmitl.ac.th/~teerapong/news_archive/article-nov-4176.html', 'http://www.it.kmitl.ac.th/~teerapong/news_archive/article-nov-1674.html', 'http://www.it.kmitl.ac.th/~teerapong/news_archive/article-nov-1801.html', 'http://www.it.kmitl.ac.th/~teerapong/news_archive/article-nov-4606.html', 'http://www.it.kmitl.ac.th/~teerapong/news_archive/article-nov-2647.html', 'http://www.it.kmitl.ac.th/~teerapong/news_archive/article-nov-3091.html', 'http://www.it.kmitl.ac.th/~teerapong/news_archive/article-nov-2546.html', 'http://www.it.kmitl.ac.th/~teerapong/news_archive/article-nov-4461.html', 'http://www.it.kmitl.ac.th/~teerapong/news_archive/article-nov-2714.html', 'http://www.it.kmitl.ac.th/~teerapong/news_archive/article-nov-2130.html', 'http://www.it.kmitl.ac.th/~teerapong/news_archive/article-nov-3500.html', 'http://www.it.kmitl.ac.th/~teerapong/news_archive/article-nov-1451.html', 'http://www.it.kmitl.ac.th/~teerapong/news_archive/article-nov-0372.html', 'http://www.it.kmitl.ac.th/~teerapong/news_archive/article-nov-4242.html', 'http://www.it.kmitl.ac.th/~teerapong/news_archive/article-nov-2953.html', 'http://www.it.kmitl.ac.th/~teerapong/news_archive/article-nov-1329.html', 'http://www.it.kmitl.ac.th/~teerapong/news_archive/article-nov-2527.html', 'http://www.it.kmitl.ac.th/~teerapong/news_archive/article-nov-3879.html', 'http://www.it.kmitl.ac.th/~teerapong/news_archive/article-nov-4060.html', 'http://www.it.kmitl.ac.th/~teerapong/news_archive/article-nov-3626.html', 'http://www.it.kmitl.ac.th/~teerapong/news_archive/article-nov-3702.html', 'http://www.it.kmitl.ac.th/~teerapong/news_archive/article-nov-0130.html', 'http://www.it.kmitl.ac.th/~teerapong/news_archive/article-nov-4260.html', 'http://www.it.kmitl.ac.th/~teerapong/news_archive/article-nov-3907.html', 'http://www.it.kmitl.ac.th/~teerapong/news_archive/article-nov-0746.html', 'http://www.it.kmitl.ac.th/~teerapong/news_archive/article-nov-0232.html', 'http://www.it.kmitl.ac.th/~teerapong/news_archive/article-nov-1428.html', 'http://www.it.kmitl.ac.th/~teerapong/news_archive/article-nov-1085.html', 'http://www.it.kmitl.ac.th/~teerapong/news_archive/article-nov-1407.html', 'http://www.it.kmitl.ac.th/~teerapong/news_archive/article-nov-3342.html', 'http://www.it.kmitl.ac.th/~teerapong/news_archive/article-nov-4180.html', 'http://www.it.kmitl.ac.th/~teerapong/news_archive/article-nov-1466.html', 'http://www.it.kmitl.ac.th/~teerapong/news_archive/article-nov-4049.html', 'http://www.it.kmitl.ac.th/~teerapong/news_archive/article-nov-4897.html', 'http://www.it.kmitl.ac.th/~teerapong/news_archive/article-nov-0748.html', 'http://www.it.kmitl.ac.th/~teerapong/news_archive/article-nov-1277.html', 'http://www.it.kmitl.ac.th/~teerapong/news_archive/article-nov-0580.html', 'http://www.it.kmitl.ac.th/~teerapong/news_archive/article-nov-3296.html', 'http://www.it.kmitl.ac.th/~teerapong/news_archive/article-nov-4356.html', 'http://www.it.kmitl.ac.th/~teerapong/news_archive/article-nov-3617.html', 'http://www.it.kmitl.ac.th/~teerapong/news_archive/article-nov-1260.html', 'http://www.it.kmitl.ac.th/~teerapong/news_archive/article-nov-0628.html', 'http://www.it.kmitl.ac.th/~teerapong/news_archive/article-nov-0654.html', 'http://www.it.kmitl.ac.th/~teerapong/news_archive/article-nov-0518.html', 'http://www.it.kmitl.ac.th/~teerapong/news_archive/article-nov-2968.html', 'http://www.it.kmitl.ac.th/~teerapong/news_archive/article-nov-3867.html', 'http://www.it.kmitl.ac.th/~teerapong/news_archive/article-nov-0420.html', 'http://www.it.kmitl.ac.th/~teerapong/news_archive/article-nov-4250.html', 'http://www.it.kmitl.ac.th/~teerapong/news_archive/article-nov-4495.html', 'http://www.it.kmitl.ac.th/~teerapong/news_archive/article-nov-2769.html', 'http://www.it.kmitl.ac.th/~teerapong/news_archive/article-nov-1623.html', 'http://www.it.kmitl.ac.th/~teerapong/news_archive/article-nov-4572.html', 'http://www.it.kmitl.ac.th/~teerapong/news_archive/article-nov-1118.html', 'http://www.it.kmitl.ac.th/~teerapong/news_archive/article-nov-4319.html', 'http://www.it.kmitl.ac.th/~teerapong/news_archive/article-nov-0662.html', 'http://www.it.kmitl.ac.th/~teerapong/news_archive/article-nov-0319.html', 'http://www.it.kmitl.ac.th/~teerapong/news_archive/article-nov-1730.html', 'http://www.it.kmitl.ac.th/~teerapong/news_archive/article-nov-4517.html', 'http://www.it.kmitl.ac.th/~teerapong/news_archive/article-nov-1386.html', 'http://www.it.kmitl.ac.th/~teerapong/news_archive/article-nov-3935.html', 'http://www.it.kmitl.ac.th/~teerapong/news_archive/article-nov-0317.html', 'http://www.it.kmitl.ac.th/~teerapong/news_archive/article-nov-0906.html', 'http://www.it.kmitl.ac.th/~teerapong/news_archive/article-nov-2832.html', 'http://www.it.kmitl.ac.th/~teerapong/news_archive/article-nov-1255.html', 'http://www.it.kmitl.ac.th/~teerapong/news_archive/article-nov-4235.html', 'http://www.it.kmitl.ac.th/~teerapong/news_archive/article-nov-2326.html', 'http://www.it.kmitl.ac.th/~teerapong/news_archive/article-nov-1637.html', 'http://www.it.kmitl.ac.th/~teerapong/news_archive/article-nov-0761.html', 'http://www.it.kmitl.ac.th/~teerapong/news_archive/article-nov-4428.html', 'http://www.it.kmitl.ac.th/~teerapong/news_archive/article-nov-4174.html', 'http://www.it.kmitl.ac.th/~teerapong/news_archive/article-nov-2399.html', 'http://www.it.kmitl.ac.th/~teerapong/news_archive/article-nov-2282.html', 'http://www.it.kmitl.ac.th/~teerapong/news_archive/article-nov-1288.html', 'http://www.it.kmitl.ac.th/~teerapong/news_archive/article-nov-3650.html', 'http://www.it.kmitl.ac.th/~teerapong/news_archive/article-nov-0435.html', 'http://www.it.kmitl.ac.th/~teerapong/news_archive/article-nov-1149.html', 'http://www.it.kmitl.ac.th/~teerapong/news_archive/article-nov-0147.html', 'http://www.it.kmitl.ac.th/~teerapong/news_archive/article-nov-1264.html', 'http://www.it.kmitl.ac.th/~teerapong/news_archive/article-nov-2018.html', 'http://www.it.kmitl.ac.th/~teerapong/news_archive/article-nov-2115.html', 'http://www.it.kmitl.ac.th/~teerapong/news_archive/article-nov-4659.html', 'http://www.it.kmitl.ac.th/~teerapong/news_archive/article-nov-2397.html', 'http://www.it.kmitl.ac.th/~teerapong/news_archive/article-nov-1341.html', 'http://www.it.kmitl.ac.th/~teerapong/news_archive/article-nov-3574.html', 'http://www.it.kmitl.ac.th/~teerapong/news_archive/article-nov-2226.html', 'http://www.it.kmitl.ac.th/~teerapong/news_archive/article-nov-0560.html', 'http://www.it.kmitl.ac.th/~teerapong/news_archive/article-nov-4374.html', 'http://www.it.kmitl.ac.th/~teerapong/news_archive/article-nov-0575.html', 'http://www.it.kmitl.ac.th/~teerapong/news_archive/article-nov-1388.html', 'http://www.it.kmitl.ac.th/~teerapong/news_archive/article-nov-3587.html', 'http://www.it.kmitl.ac.th/~teerapong/news_archive/article-nov-0584.html', 'http://www.it.kmitl.ac.th/~teerapong/news_archive/article-nov-4426.html', 'http://www.it.kmitl.ac.th/~teerapong/news_archive/article-nov-2469.html', 'http://www.it.kmitl.ac.th/~teerapong/news_archive/article-nov-1794.html', 'http://www.it.kmitl.ac.th/~teerapong/news_archive/article-nov-1348.html', 'http://www.it.kmitl.ac.th/~teerapong/news_archive/article-dec-0244.html', 'http://www.it.kmitl.ac.th/~teerapong/news_archive/article-dec-0895.html', 'http://www.it.kmitl.ac.th/~teerapong/news_archive/article-dec-4490.html', 'http://www.it.kmitl.ac.th/~teerapong/news_archive/article-dec-0891.html', 'http://www.it.kmitl.ac.th/~teerapong/news_archive/article-dec-0672.html', 'http://www.it.kmitl.ac.th/~teerapong/news_archive/article-dec-3487.html', 'http://www.it.kmitl.ac.th/~teerapong/news_archive/article-dec-0478.html', 'http://www.it.kmitl.ac.th/~teerapong/news_archive/article-dec-2633.html', 'http://www.it.kmitl.ac.th/~teerapong/news_archive/article-dec-4269.html', 'http://www.it.kmitl.ac.th/~teerapong/news_archive/article-dec-1656.html', 'http://www.it.kmitl.ac.th/~teerapong/news_archive/article-dec-3628.html', 'http://www.it.kmitl.ac.th/~teerapong/news_archive/article-dec-2267.html', 'http://www.it.kmitl.ac.th/~teerapong/news_archive/article-dec-4194.html', 'http://www.it.kmitl.ac.th/~teerapong/news_archive/article-dec-2360.html', 'http://www.it.kmitl.ac.th/~teerapong/news_archive/article-dec-2956.html', 'http://www.it.kmitl.ac.th/~teerapong/news_archive/article-dec-4469.html', 'http://www.it.kmitl.ac.th/~teerapong/news_archive/article-dec-2115.html', 'http://www.it.kmitl.ac.th/~teerapong/news_archive/article-dec-0625.html', 'http://www.it.kmitl.ac.th/~teerapong/news_archive/article-dec-2771.html', 'http://www.it.kmitl.ac.th/~teerapong/news_archive/article-dec-0788.html', 'http://www.it.kmitl.ac.th/~teerapong/news_archive/article-dec-1911.html', 'http://www.it.kmitl.ac.th/~teerapong/news_archive/article-dec-3413.html', 'http://www.it.kmitl.ac.th/~teerapong/news_archive/article-dec-0038.html', 'http://www.it.kmitl.ac.th/~teerapong/news_archive/article-dec-0035.html', 'http://www.it.kmitl.ac.th/~teerapong/news_archive/article-dec-4444.html', 'http://www.it.kmitl.ac.th/~teerapong/news_archive/article-dec-4307.html', 'http://www.it.kmitl.ac.th/~teerapong/news_archive/article-dec-4450.html', 'http://www.it.kmitl.ac.th/~teerapong/news_archive/article-dec-3044.html', 'http://www.it.kmitl.ac.th/~teerapong/news_archive/article-dec-3401.html', 'http://www.it.kmitl.ac.th/~teerapong/news_archive/article-dec-1775.html', 'http://www.it.kmitl.ac.th/~teerapong/news_archive/article-dec-2589.html', 'http://www.it.kmitl.ac.th/~teerapong/news_archive/article-dec-3264.html', 'http://www.it.kmitl.ac.th/~teerapong/news_archive/article-dec-0784.html', 'http://www.it.kmitl.ac.th/~teerapong/news_archive/article-dec-2635.html', 'http://www.it.kmitl.ac.th/~teerapong/news_archive/article-dec-3589.html', 'http://www.it.kmitl.ac.th/~teerapong/news_archive/article-dec-3518.html', 'http://www.it.kmitl.ac.th/~teerapong/news_archive/article-dec-0473.html', 'http://www.it.kmitl.ac.th/~teerapong/news_archive/article-dec-2110.html', 'http://www.it.kmitl.ac.th/~teerapong/news_archive/article-dec-2790.html', 'http://www.it.kmitl.ac.th/~teerapong/news_archive/article-dec-0180.html', 'http://www.it.kmitl.ac.th/~teerapong/news_archive/article-dec-3784.html', 'http://www.it.kmitl.ac.th/~teerapong/news_archive/article-dec-3423.html', 'http://www.it.kmitl.ac.th/~teerapong/news_archive/article-dec-4596.html', 'http://www.it.kmitl.ac.th/~teerapong/news_archive/article-dec-1585.html', 'http://www.it.kmitl.ac.th/~teerapong/news_archive/article-dec-2351.html', 'http://www.it.kmitl.ac.th/~teerapong/news_archive/article-dec-2624.html', 'http://www.it.kmitl.ac.th/~teerapong/news_archive/article-dec-1865.html', 'http://www.it.kmitl.ac.th/~teerapong/news_archive/article-dec-0232.html', 'http://www.it.kmitl.ac.th/~teerapong/news_archive/article-dec-4377.html', 'http://www.it.kmitl.ac.th/~teerapong/news_archive/article-dec-4926.html', 'http://www.it.kmitl.ac.th/~teerapong/news_archive/article-dec-1263.html', 'http://www.it.kmitl.ac.th/~teerapong/news_archive/article-dec-1718.html', 'http://www.it.kmitl.ac.th/~teerapong/news_archive/article-dec-2008.html', 'http://www.it.kmitl.ac.th/~teerapong/news_archive/article-dec-4999.html', 'http://www.it.kmitl.ac.th/~teerapong/news_archive/article-dec-3411.html', 'http://www.it.kmitl.ac.th/~teerapong/news_archive/article-dec-2288.html', 'http://www.it.kmitl.ac.th/~teerapong/news_archive/article-dec-1460.html', 'http://www.it.kmitl.ac.th/~teerapong/news_archive/article-dec-3392.html', 'http://www.it.kmitl.ac.th/~teerapong/news_archive/article-dec-0393.html', 'http://www.it.kmitl.ac.th/~teerapong/news_archive/article-dec-1629.html', 'http://www.it.kmitl.ac.th/~teerapong/news_archive/article-dec-1156.html', 'http://www.it.kmitl.ac.th/~teerapong/news_archive/article-dec-0557.html', 'http://www.it.kmitl.ac.th/~teerapong/news_archive/article-dec-4844.html', 'http://www.it.kmitl.ac.th/~teerapong/news_archive/article-dec-3260.html', 'http://www.it.kmitl.ac.th/~teerapong/news_archive/article-dec-1963.html', 'http://www.it.kmitl.ac.th/~teerapong/news_archive/article-dec-3608.html', 'http://www.it.kmitl.ac.th/~teerapong/news_archive/article-dec-4161.html', 'http://www.it.kmitl.ac.th/~teerapong/news_archive/article-dec-0910.html', 'http://www.it.kmitl.ac.th/~teerapong/news_archive/article-dec-4820.html', 'http://www.it.kmitl.ac.th/~teerapong/news_archive/article-dec-2402.html', 'http://www.it.kmitl.ac.th/~teerapong/news_archive/article-dec-1135.html', 'http://www.it.kmitl.ac.th/~teerapong/news_archive/article-dec-0909.html', 'http://www.it.kmitl.ac.th/~teerapong/news_archive/article-dec-4678.html', 'http://www.it.kmitl.ac.th/~teerapong/news_archive/article-dec-0712.html', 'http://www.it.kmitl.ac.th/~teerapong/news_archive/article-dec-0481.html', 'http://www.it.kmitl.ac.th/~teerapong/news_archive/article-dec-3993.html', 'http://www.it.kmitl.ac.th/~teerapong/news_archive/article-dec-3175.html', 'http://www.it.kmitl.ac.th/~teerapong/news_archive/article-dec-3052.html', 'http://www.it.kmitl.ac.th/~teerapong/news_archive/article-dec-3186.html', 'http://www.it.kmitl.ac.th/~teerapong/news_archive/article-dec-0204.html', 'http://www.it.kmitl.ac.th/~teerapong/news_archive/article-dec-4675.html', 'http://www.it.kmitl.ac.th/~teerapong/news_archive/article-dec-2813.html', 'http://www.it.kmitl.ac.th/~teerapong/news_archive/article-dec-3030.html', 'http://www.it.kmitl.ac.th/~teerapong/news_archive/article-dec-3403.html', 'http://www.it.kmitl.ac.th/~teerapong/news_archive/article-dec-2445.html', 'http://www.it.kmitl.ac.th/~teerapong/news_archive/article-dec-4353.html', 'http://www.it.kmitl.ac.th/~teerapong/news_archive/article-dec-2117.html', 'http://www.it.kmitl.ac.th/~teerapong/news_archive/article-dec-3966.html', 'http://www.it.kmitl.ac.th/~teerapong/news_archive/article-dec-1690.html', 'http://www.it.kmitl.ac.th/~teerapong/news_archive/article-dec-3207.html', 'http://www.it.kmitl.ac.th/~teerapong/news_archive/article-dec-2963.html', 'http://www.it.kmitl.ac.th/~teerapong/news_archive/article-dec-2023.html', 'http://www.it.kmitl.ac.th/~teerapong/news_archive/article-dec-2397.html', 'http://www.it.kmitl.ac.th/~teerapong/news_archive/article-dec-3903.html', 'http://www.it.kmitl.ac.th/~teerapong/news_archive/article-dec-3692.html', 'http://www.it.kmitl.ac.th/~teerapong/news_archive/article-dec-0367.html', 'http://www.it.kmitl.ac.th/~teerapong/news_archive/article-dec-3169.html', 'http://www.it.kmitl.ac.th/~teerapong/news_archive/article-dec-0271.html', 'http://www.it.kmitl.ac.th/~teerapong/news_archive/article-dec-4210.html', 'http://www.it.kmitl.ac.th/~teerapong/news_archive/article-dec-0983.html', 'http://www.it.kmitl.ac.th/~teerapong/news_archive/article-dec-3570.html', 'http://www.it.kmitl.ac.th/~teerapong/news_archive/article-dec-2331.html', 'http://www.it.kmitl.ac.th/~teerapong/news_archive/article-dec-3694.html', 'http://www.it.kmitl.ac.th/~teerapong/news_archive/article-dec-1576.html', 'http://www.it.kmitl.ac.th/~teerapong/news_archive/article-dec-4918.html', 'http://www.it.kmitl.ac.th/~teerapong/news_archive/article-dec-2759.html', 'http://www.it.kmitl.ac.th/~teerapong/news_archive/article-dec-4347.html', 'http://www.it.kmitl.ac.th/~teerapong/news_archive/article-dec-3179.html', 'http://www.it.kmitl.ac.th/~teerapong/news_archive/article-dec-1456.html', 'http://www.it.kmitl.ac.th/~teerapong/news_archive/article-dec-2238.html', 'http://www.it.kmitl.ac.th/~teerapong/news_archive/article-dec-2334.html', 'http://www.it.kmitl.ac.th/~teerapong/news_archive/article-dec-2095.html', 'http://www.it.kmitl.ac.th/~teerapong/news_archive/article-dec-1351.html', 'http://www.it.kmitl.ac.th/~teerapong/news_archive/article-dec-0068.html']\n"
     ]
    }
   ],
   "source": [
    "links = [] # กำหนดตัวแปรเพื่อเก็บ link ข่าวทั้งหมด \n",
    "for link in link_url: # วนลูปเพื่อได้ชื่อลิ้งค์สุดท้ายที่เก็บไว้ก่อนหน้า \n",
    "    link = (f'http://www.it.kmitl.ac.th/~teerapong/news_archive/{link}') # ใส่ชื่อลิ้งค์ด้านหลังที่เเตกต่างกัน เพื่อเข้าถึงได้ในทุกๆลิ้งค์\n",
    "    links.append(link) # นำชื่อลิงค์ในรูปเเบบเต็มเข้า list links \n",
    "print(links)"
   ]
  },
  {
   "cell_type": "markdown",
   "metadata": {},
   "source": [
    "### <li>ตรวจเช็คจำนวน links"
   ]
  },
  {
   "cell_type": "code",
   "execution_count": 15,
   "metadata": {},
   "outputs": [
    {
     "data": {
      "text/plain": [
       "1408"
      ]
     },
     "execution_count": 15,
     "metadata": {},
     "output_type": "execute_result"
    }
   ],
   "source": [
    "len(links) # ตรวจสอบดู จะได้จำนวนเท่ากับข้อมูลที่เคยเก็บก่อนหน้าคือ target เเละ หัวข้อข่าว "
   ]
  },
  {
   "cell_type": "markdown",
   "metadata": {},
   "source": [
    "### <li>return เป็น ที่อยู่ link ในเเต่ละหน้า Content "
   ]
  },
  {
   "cell_type": "code",
   "execution_count": 16,
   "metadata": {},
   "outputs": [
    {
     "name": "stdout",
     "output_type": "stream",
     "text": [
      "http://www.it.kmitl.ac.th/~teerapong/news_archive/article-jan-0418.html\n",
      "http://www.it.kmitl.ac.th/~teerapong/news_archive/article-jan-0027.html\n",
      "http://www.it.kmitl.ac.th/~teerapong/news_archive/article-jan-0631.html\n",
      "http://www.it.kmitl.ac.th/~teerapong/news_archive/article-jan-2105.html\n",
      "http://www.it.kmitl.ac.th/~teerapong/news_archive/article-jan-3300.html\n",
      "http://www.it.kmitl.ac.th/~teerapong/news_archive/article-jan-4187.html\n",
      "http://www.it.kmitl.ac.th/~teerapong/news_archive/article-jan-1974.html\n",
      "http://www.it.kmitl.ac.th/~teerapong/news_archive/article-jan-3666.html\n",
      "http://www.it.kmitl.ac.th/~teerapong/news_archive/article-jan-2629.html\n",
      "http://www.it.kmitl.ac.th/~teerapong/news_archive/article-jan-2415.html\n",
      "http://www.it.kmitl.ac.th/~teerapong/news_archive/article-jan-4210.html\n",
      "http://www.it.kmitl.ac.th/~teerapong/news_archive/article-jan-4789.html\n",
      "http://www.it.kmitl.ac.th/~teerapong/news_archive/article-jan-3452.html\n",
      "http://www.it.kmitl.ac.th/~teerapong/news_archive/article-jan-2428.html\n",
      "http://www.it.kmitl.ac.th/~teerapong/news_archive/article-jan-4766.html\n",
      "http://www.it.kmitl.ac.th/~teerapong/news_archive/article-jan-2595.html\n",
      "http://www.it.kmitl.ac.th/~teerapong/news_archive/article-jan-2935.html\n",
      "http://www.it.kmitl.ac.th/~teerapong/news_archive/article-jan-0578.html\n",
      "http://www.it.kmitl.ac.th/~teerapong/news_archive/article-jan-3023.html\n",
      "http://www.it.kmitl.ac.th/~teerapong/news_archive/article-jan-2356.html\n",
      "http://www.it.kmitl.ac.th/~teerapong/news_archive/article-jan-1023.html\n",
      "http://www.it.kmitl.ac.th/~teerapong/news_archive/article-jan-0641.html\n",
      "http://www.it.kmitl.ac.th/~teerapong/news_archive/article-jan-2461.html\n",
      "http://www.it.kmitl.ac.th/~teerapong/news_archive/article-jan-4541.html\n",
      "http://www.it.kmitl.ac.th/~teerapong/news_archive/article-jan-1259.html\n",
      "http://www.it.kmitl.ac.th/~teerapong/news_archive/article-jan-4007.html\n",
      "http://www.it.kmitl.ac.th/~teerapong/news_archive/article-jan-4171.html\n",
      "http://www.it.kmitl.ac.th/~teerapong/news_archive/article-jan-0272.html\n",
      "http://www.it.kmitl.ac.th/~teerapong/news_archive/article-jan-4894.html\n",
      "http://www.it.kmitl.ac.th/~teerapong/news_archive/article-jan-4504.html\n",
      "http://www.it.kmitl.ac.th/~teerapong/news_archive/article-jan-1740.html\n",
      "http://www.it.kmitl.ac.th/~teerapong/news_archive/article-jan-2390.html\n",
      "http://www.it.kmitl.ac.th/~teerapong/news_archive/article-jan-4471.html\n",
      "http://www.it.kmitl.ac.th/~teerapong/news_archive/article-jan-3978.html\n",
      "http://www.it.kmitl.ac.th/~teerapong/news_archive/article-jan-2209.html\n",
      "http://www.it.kmitl.ac.th/~teerapong/news_archive/article-jan-0858.html\n",
      "http://www.it.kmitl.ac.th/~teerapong/news_archive/article-jan-3187.html\n",
      "http://www.it.kmitl.ac.th/~teerapong/news_archive/article-jan-1282.html\n",
      "http://www.it.kmitl.ac.th/~teerapong/news_archive/article-jan-3414.html\n",
      "http://www.it.kmitl.ac.th/~teerapong/news_archive/article-jan-2289.html\n",
      "http://www.it.kmitl.ac.th/~teerapong/news_archive/article-jan-1899.html\n",
      "http://www.it.kmitl.ac.th/~teerapong/news_archive/article-jan-3686.html\n",
      "http://www.it.kmitl.ac.th/~teerapong/news_archive/article-jan-3679.html\n",
      "http://www.it.kmitl.ac.th/~teerapong/news_archive/article-jan-1469.html\n",
      "http://www.it.kmitl.ac.th/~teerapong/news_archive/article-jan-4815.html\n",
      "http://www.it.kmitl.ac.th/~teerapong/news_archive/article-jan-1761.html\n",
      "http://www.it.kmitl.ac.th/~teerapong/news_archive/article-jan-4519.html\n",
      "http://www.it.kmitl.ac.th/~teerapong/news_archive/article-jan-0248.html\n",
      "http://www.it.kmitl.ac.th/~teerapong/news_archive/article-jan-1280.html\n",
      "http://www.it.kmitl.ac.th/~teerapong/news_archive/article-jan-0154.html\n",
      "http://www.it.kmitl.ac.th/~teerapong/news_archive/article-jan-4182.html\n",
      "http://www.it.kmitl.ac.th/~teerapong/news_archive/article-jan-3155.html\n",
      "http://www.it.kmitl.ac.th/~teerapong/news_archive/article-jan-0502.html\n",
      "http://www.it.kmitl.ac.th/~teerapong/news_archive/article-jan-1027.html\n",
      "http://www.it.kmitl.ac.th/~teerapong/news_archive/article-jan-3810.html\n",
      "http://www.it.kmitl.ac.th/~teerapong/news_archive/article-jan-1481.html\n",
      "http://www.it.kmitl.ac.th/~teerapong/news_archive/article-jan-2551.html\n",
      "http://www.it.kmitl.ac.th/~teerapong/news_archive/article-jan-0989.html\n",
      "http://www.it.kmitl.ac.th/~teerapong/news_archive/article-jan-0633.html\n",
      "http://www.it.kmitl.ac.th/~teerapong/news_archive/article-jan-1566.html\n",
      "http://www.it.kmitl.ac.th/~teerapong/news_archive/article-jan-0791.html\n",
      "http://www.it.kmitl.ac.th/~teerapong/news_archive/article-jan-2691.html\n",
      "http://www.it.kmitl.ac.th/~teerapong/news_archive/article-jan-3650.html\n",
      "http://www.it.kmitl.ac.th/~teerapong/news_archive/article-jan-1867.html\n",
      "http://www.it.kmitl.ac.th/~teerapong/news_archive/article-jan-2835.html\n",
      "http://www.it.kmitl.ac.th/~teerapong/news_archive/article-jan-1079.html\n",
      "http://www.it.kmitl.ac.th/~teerapong/news_archive/article-jan-4592.html\n",
      "http://www.it.kmitl.ac.th/~teerapong/news_archive/article-jan-4111.html\n",
      "http://www.it.kmitl.ac.th/~teerapong/news_archive/article-jan-0599.html\n",
      "http://www.it.kmitl.ac.th/~teerapong/news_archive/article-jan-0969.html\n",
      "http://www.it.kmitl.ac.th/~teerapong/news_archive/article-jan-2042.html\n",
      "http://www.it.kmitl.ac.th/~teerapong/news_archive/article-jan-0050.html\n",
      "http://www.it.kmitl.ac.th/~teerapong/news_archive/article-jan-4860.html\n",
      "http://www.it.kmitl.ac.th/~teerapong/news_archive/article-jan-0180.html\n",
      "http://www.it.kmitl.ac.th/~teerapong/news_archive/article-jan-1582.html\n",
      "http://www.it.kmitl.ac.th/~teerapong/news_archive/article-jan-4456.html\n",
      "http://www.it.kmitl.ac.th/~teerapong/news_archive/article-jan-3002.html\n",
      "http://www.it.kmitl.ac.th/~teerapong/news_archive/article-jan-2380.html\n",
      "http://www.it.kmitl.ac.th/~teerapong/news_archive/article-jan-3243.html\n",
      "http://www.it.kmitl.ac.th/~teerapong/news_archive/article-jan-3151.html\n",
      "http://www.it.kmitl.ac.th/~teerapong/news_archive/article-jan-2619.html\n",
      "http://www.it.kmitl.ac.th/~teerapong/news_archive/article-jan-1811.html\n",
      "http://www.it.kmitl.ac.th/~teerapong/news_archive/article-jan-3831.html\n",
      "http://www.it.kmitl.ac.th/~teerapong/news_archive/article-jan-4567.html\n",
      "http://www.it.kmitl.ac.th/~teerapong/news_archive/article-jan-3938.html\n",
      "http://www.it.kmitl.ac.th/~teerapong/news_archive/article-jan-4175.html\n",
      "http://www.it.kmitl.ac.th/~teerapong/news_archive/article-jan-0237.html\n",
      "http://www.it.kmitl.ac.th/~teerapong/news_archive/article-jan-0924.html\n",
      "http://www.it.kmitl.ac.th/~teerapong/news_archive/article-jan-1731.html\n",
      "http://www.it.kmitl.ac.th/~teerapong/news_archive/article-jan-3981.html\n",
      "http://www.it.kmitl.ac.th/~teerapong/news_archive/article-jan-2769.html\n",
      "http://www.it.kmitl.ac.th/~teerapong/news_archive/article-jan-2140.html\n",
      "http://www.it.kmitl.ac.th/~teerapong/news_archive/article-jan-3329.html\n",
      "http://www.it.kmitl.ac.th/~teerapong/news_archive/article-jan-1087.html\n",
      "http://www.it.kmitl.ac.th/~teerapong/news_archive/article-jan-0480.html\n",
      "http://www.it.kmitl.ac.th/~teerapong/news_archive/article-jan-2591.html\n",
      "http://www.it.kmitl.ac.th/~teerapong/news_archive/article-jan-2407.html\n",
      "http://www.it.kmitl.ac.th/~teerapong/news_archive/article-jan-1520.html\n",
      "http://www.it.kmitl.ac.th/~teerapong/news_archive/article-jan-3036.html\n",
      "http://www.it.kmitl.ac.th/~teerapong/news_archive/article-jan-1051.html\n",
      "http://www.it.kmitl.ac.th/~teerapong/news_archive/article-jan-2864.html\n",
      "http://www.it.kmitl.ac.th/~teerapong/news_archive/article-jan-4078.html\n",
      "http://www.it.kmitl.ac.th/~teerapong/news_archive/article-jan-0269.html\n",
      "http://www.it.kmitl.ac.th/~teerapong/news_archive/article-jan-1728.html\n",
      "http://www.it.kmitl.ac.th/~teerapong/news_archive/article-jan-0976.html\n",
      "http://www.it.kmitl.ac.th/~teerapong/news_archive/article-jan-3315.html\n",
      "http://www.it.kmitl.ac.th/~teerapong/news_archive/article-jan-3425.html\n",
      "http://www.it.kmitl.ac.th/~teerapong/news_archive/article-jan-1296.html\n",
      "http://www.it.kmitl.ac.th/~teerapong/news_archive/article-jan-4675.html\n",
      "http://www.it.kmitl.ac.th/~teerapong/news_archive/article-jan-3694.html\n",
      "http://www.it.kmitl.ac.th/~teerapong/news_archive/article-jan-1550.html\n",
      "http://www.it.kmitl.ac.th/~teerapong/news_archive/article-jan-1587.html\n",
      "http://www.it.kmitl.ac.th/~teerapong/news_archive/article-jan-0587.html\n",
      "http://www.it.kmitl.ac.th/~teerapong/news_archive/article-jan-1650.html\n",
      "http://www.it.kmitl.ac.th/~teerapong/news_archive/article-jan-0867.html\n",
      "http://www.it.kmitl.ac.th/~teerapong/news_archive/article-jan-0457.html\n",
      "http://www.it.kmitl.ac.th/~teerapong/news_archive/article-jan-2075.html\n",
      "http://www.it.kmitl.ac.th/~teerapong/news_archive/article-jan-3244.html\n",
      "http://www.it.kmitl.ac.th/~teerapong/news_archive/article-feb-3392.html\n",
      "http://www.it.kmitl.ac.th/~teerapong/news_archive/article-feb-0704.html\n",
      "http://www.it.kmitl.ac.th/~teerapong/news_archive/article-feb-0913.html\n",
      "http://www.it.kmitl.ac.th/~teerapong/news_archive/article-feb-3975.html\n",
      "http://www.it.kmitl.ac.th/~teerapong/news_archive/article-feb-0641.html\n",
      "http://www.it.kmitl.ac.th/~teerapong/news_archive/article-feb-0608.html\n",
      "http://www.it.kmitl.ac.th/~teerapong/news_archive/article-feb-4436.html\n",
      "http://www.it.kmitl.ac.th/~teerapong/news_archive/article-feb-0930.html\n",
      "http://www.it.kmitl.ac.th/~teerapong/news_archive/article-feb-4492.html\n",
      "http://www.it.kmitl.ac.th/~teerapong/news_archive/article-feb-4474.html\n",
      "http://www.it.kmitl.ac.th/~teerapong/news_archive/article-feb-4340.html\n",
      "http://www.it.kmitl.ac.th/~teerapong/news_archive/article-feb-1116.html\n",
      "http://www.it.kmitl.ac.th/~teerapong/news_archive/article-feb-2873.html\n",
      "http://www.it.kmitl.ac.th/~teerapong/news_archive/article-feb-2303.html\n",
      "http://www.it.kmitl.ac.th/~teerapong/news_archive/article-feb-2977.html\n",
      "http://www.it.kmitl.ac.th/~teerapong/news_archive/article-feb-4547.html\n",
      "http://www.it.kmitl.ac.th/~teerapong/news_archive/article-feb-3154.html\n",
      "http://www.it.kmitl.ac.th/~teerapong/news_archive/article-feb-1466.html\n",
      "http://www.it.kmitl.ac.th/~teerapong/news_archive/article-feb-3116.html\n",
      "http://www.it.kmitl.ac.th/~teerapong/news_archive/article-feb-3641.html\n",
      "http://www.it.kmitl.ac.th/~teerapong/news_archive/article-feb-3724.html\n",
      "http://www.it.kmitl.ac.th/~teerapong/news_archive/article-feb-1553.html\n",
      "http://www.it.kmitl.ac.th/~teerapong/news_archive/article-feb-0192.html\n",
      "http://www.it.kmitl.ac.th/~teerapong/news_archive/article-feb-2830.html\n",
      "http://www.it.kmitl.ac.th/~teerapong/news_archive/article-feb-2366.html\n",
      "http://www.it.kmitl.ac.th/~teerapong/news_archive/article-feb-3261.html\n",
      "http://www.it.kmitl.ac.th/~teerapong/news_archive/article-feb-2526.html\n",
      "http://www.it.kmitl.ac.th/~teerapong/news_archive/article-feb-3097.html\n",
      "http://www.it.kmitl.ac.th/~teerapong/news_archive/article-feb-1454.html\n",
      "http://www.it.kmitl.ac.th/~teerapong/news_archive/article-feb-0258.html\n",
      "http://www.it.kmitl.ac.th/~teerapong/news_archive/article-feb-4548.html\n",
      "http://www.it.kmitl.ac.th/~teerapong/news_archive/article-feb-0679.html\n",
      "http://www.it.kmitl.ac.th/~teerapong/news_archive/article-feb-1000.html\n",
      "http://www.it.kmitl.ac.th/~teerapong/news_archive/article-feb-1821.html\n",
      "http://www.it.kmitl.ac.th/~teerapong/news_archive/article-feb-4494.html\n",
      "http://www.it.kmitl.ac.th/~teerapong/news_archive/article-feb-0250.html\n",
      "http://www.it.kmitl.ac.th/~teerapong/news_archive/article-feb-2382.html\n",
      "http://www.it.kmitl.ac.th/~teerapong/news_archive/article-feb-4407.html\n",
      "http://www.it.kmitl.ac.th/~teerapong/news_archive/article-feb-3768.html\n",
      "http://www.it.kmitl.ac.th/~teerapong/news_archive/article-feb-3375.html\n",
      "http://www.it.kmitl.ac.th/~teerapong/news_archive/article-feb-2553.html\n",
      "http://www.it.kmitl.ac.th/~teerapong/news_archive/article-feb-2750.html\n",
      "http://www.it.kmitl.ac.th/~teerapong/news_archive/article-feb-0829.html\n",
      "http://www.it.kmitl.ac.th/~teerapong/news_archive/article-feb-3941.html\n",
      "http://www.it.kmitl.ac.th/~teerapong/news_archive/article-feb-1333.html\n",
      "http://www.it.kmitl.ac.th/~teerapong/news_archive/article-feb-3708.html\n",
      "http://www.it.kmitl.ac.th/~teerapong/news_archive/article-feb-1684.html\n",
      "http://www.it.kmitl.ac.th/~teerapong/news_archive/article-feb-4876.html\n",
      "http://www.it.kmitl.ac.th/~teerapong/news_archive/article-feb-1493.html\n",
      "http://www.it.kmitl.ac.th/~teerapong/news_archive/article-feb-0113.html\n",
      "http://www.it.kmitl.ac.th/~teerapong/news_archive/article-feb-2502.html\n",
      "http://www.it.kmitl.ac.th/~teerapong/news_archive/article-feb-2351.html\n",
      "http://www.it.kmitl.ac.th/~teerapong/news_archive/article-feb-1245.html\n",
      "http://www.it.kmitl.ac.th/~teerapong/news_archive/article-feb-2809.html\n",
      "http://www.it.kmitl.ac.th/~teerapong/news_archive/article-feb-4569.html\n",
      "http://www.it.kmitl.ac.th/~teerapong/news_archive/article-feb-4323.html\n",
      "http://www.it.kmitl.ac.th/~teerapong/news_archive/article-feb-3937.html\n",
      "http://www.it.kmitl.ac.th/~teerapong/news_archive/article-feb-1582.html\n",
      "http://www.it.kmitl.ac.th/~teerapong/news_archive/article-feb-1312.html\n",
      "http://www.it.kmitl.ac.th/~teerapong/news_archive/article-feb-2836.html\n",
      "http://www.it.kmitl.ac.th/~teerapong/news_archive/article-feb-0505.html\n",
      "http://www.it.kmitl.ac.th/~teerapong/news_archive/article-feb-3556.html\n",
      "http://www.it.kmitl.ac.th/~teerapong/news_archive/article-feb-4691.html\n",
      "http://www.it.kmitl.ac.th/~teerapong/news_archive/article-feb-4543.html\n",
      "http://www.it.kmitl.ac.th/~teerapong/news_archive/article-feb-3028.html\n",
      "http://www.it.kmitl.ac.th/~teerapong/news_archive/article-feb-1960.html\n",
      "http://www.it.kmitl.ac.th/~teerapong/news_archive/article-feb-4127.html\n",
      "http://www.it.kmitl.ac.th/~teerapong/news_archive/article-feb-4247.html\n",
      "http://www.it.kmitl.ac.th/~teerapong/news_archive/article-feb-2114.html\n",
      "http://www.it.kmitl.ac.th/~teerapong/news_archive/article-feb-0571.html\n",
      "http://www.it.kmitl.ac.th/~teerapong/news_archive/article-feb-0451.html\n",
      "http://www.it.kmitl.ac.th/~teerapong/news_archive/article-feb-1201.html\n",
      "http://www.it.kmitl.ac.th/~teerapong/news_archive/article-feb-4578.html\n",
      "http://www.it.kmitl.ac.th/~teerapong/news_archive/article-feb-3474.html\n",
      "http://www.it.kmitl.ac.th/~teerapong/news_archive/article-feb-4987.html\n",
      "http://www.it.kmitl.ac.th/~teerapong/news_archive/article-feb-4718.html\n",
      "http://www.it.kmitl.ac.th/~teerapong/news_archive/article-feb-2135.html\n",
      "http://www.it.kmitl.ac.th/~teerapong/news_archive/article-feb-1118.html\n",
      "http://www.it.kmitl.ac.th/~teerapong/news_archive/article-feb-4768.html\n",
      "http://www.it.kmitl.ac.th/~teerapong/news_archive/article-feb-4017.html\n",
      "http://www.it.kmitl.ac.th/~teerapong/news_archive/article-feb-1005.html\n",
      "http://www.it.kmitl.ac.th/~teerapong/news_archive/article-feb-0504.html\n",
      "http://www.it.kmitl.ac.th/~teerapong/news_archive/article-feb-1308.html\n",
      "http://www.it.kmitl.ac.th/~teerapong/news_archive/article-feb-2371.html\n",
      "http://www.it.kmitl.ac.th/~teerapong/news_archive/article-feb-3067.html\n",
      "http://www.it.kmitl.ac.th/~teerapong/news_archive/article-feb-1134.html\n",
      "http://www.it.kmitl.ac.th/~teerapong/news_archive/article-feb-1004.html\n",
      "http://www.it.kmitl.ac.th/~teerapong/news_archive/article-feb-0814.html\n",
      "http://www.it.kmitl.ac.th/~teerapong/news_archive/article-feb-4229.html\n",
      "http://www.it.kmitl.ac.th/~teerapong/news_archive/article-feb-0630.html\n",
      "http://www.it.kmitl.ac.th/~teerapong/news_archive/article-feb-2030.html\n",
      "http://www.it.kmitl.ac.th/~teerapong/news_archive/article-feb-1336.html\n",
      "http://www.it.kmitl.ac.th/~teerapong/news_archive/article-feb-3074.html\n",
      "http://www.it.kmitl.ac.th/~teerapong/news_archive/article-feb-1812.html\n",
      "http://www.it.kmitl.ac.th/~teerapong/news_archive/article-feb-1149.html\n",
      "http://www.it.kmitl.ac.th/~teerapong/news_archive/article-feb-0800.html\n",
      "http://www.it.kmitl.ac.th/~teerapong/news_archive/article-feb-2206.html\n",
      "http://www.it.kmitl.ac.th/~teerapong/news_archive/article-feb-0110.html\n",
      "http://www.it.kmitl.ac.th/~teerapong/news_archive/article-feb-3700.html\n",
      "http://www.it.kmitl.ac.th/~teerapong/news_archive/article-feb-4539.html\n",
      "http://www.it.kmitl.ac.th/~teerapong/news_archive/article-feb-0707.html\n",
      "http://www.it.kmitl.ac.th/~teerapong/news_archive/article-feb-2055.html\n",
      "http://www.it.kmitl.ac.th/~teerapong/news_archive/article-feb-4838.html\n",
      "http://www.it.kmitl.ac.th/~teerapong/news_archive/article-feb-2802.html\n",
      "http://www.it.kmitl.ac.th/~teerapong/news_archive/article-feb-2640.html\n",
      "http://www.it.kmitl.ac.th/~teerapong/news_archive/article-feb-4399.html\n",
      "http://www.it.kmitl.ac.th/~teerapong/news_archive/article-feb-0406.html\n",
      "http://www.it.kmitl.ac.th/~teerapong/news_archive/article-feb-2304.html\n",
      "http://www.it.kmitl.ac.th/~teerapong/news_archive/article-feb-2170.html\n",
      "http://www.it.kmitl.ac.th/~teerapong/news_archive/article-feb-3783.html\n",
      "http://www.it.kmitl.ac.th/~teerapong/news_archive/article-feb-4402.html\n",
      "http://www.it.kmitl.ac.th/~teerapong/news_archive/article-feb-1028.html\n",
      "http://www.it.kmitl.ac.th/~teerapong/news_archive/article-feb-2316.html\n",
      "http://www.it.kmitl.ac.th/~teerapong/news_archive/article-feb-0243.html\n",
      "http://www.it.kmitl.ac.th/~teerapong/news_archive/article-feb-2017.html\n",
      "http://www.it.kmitl.ac.th/~teerapong/news_archive/article-feb-2660.html\n",
      "http://www.it.kmitl.ac.th/~teerapong/news_archive/article-feb-0224.html\n",
      "http://www.it.kmitl.ac.th/~teerapong/news_archive/article-feb-2955.html\n",
      "http://www.it.kmitl.ac.th/~teerapong/news_archive/article-feb-4616.html\n",
      "http://www.it.kmitl.ac.th/~teerapong/news_archive/article-feb-0576.html\n",
      "http://www.it.kmitl.ac.th/~teerapong/news_archive/article-feb-0519.html\n",
      "http://www.it.kmitl.ac.th/~teerapong/news_archive/article-feb-1952.html\n",
      "http://www.it.kmitl.ac.th/~teerapong/news_archive/article-mar-1126.html\n",
      "http://www.it.kmitl.ac.th/~teerapong/news_archive/article-mar-3331.html\n",
      "http://www.it.kmitl.ac.th/~teerapong/news_archive/article-mar-3141.html\n",
      "http://www.it.kmitl.ac.th/~teerapong/news_archive/article-mar-3697.html\n",
      "http://www.it.kmitl.ac.th/~teerapong/news_archive/article-mar-3655.html\n",
      "http://www.it.kmitl.ac.th/~teerapong/news_archive/article-mar-2120.html\n",
      "http://www.it.kmitl.ac.th/~teerapong/news_archive/article-mar-2380.html\n",
      "http://www.it.kmitl.ac.th/~teerapong/news_archive/article-mar-1445.html\n",
      "http://www.it.kmitl.ac.th/~teerapong/news_archive/article-mar-1627.html\n",
      "http://www.it.kmitl.ac.th/~teerapong/news_archive/article-mar-0220.html\n",
      "http://www.it.kmitl.ac.th/~teerapong/news_archive/article-mar-1595.html\n",
      "http://www.it.kmitl.ac.th/~teerapong/news_archive/article-mar-4085.html\n",
      "http://www.it.kmitl.ac.th/~teerapong/news_archive/article-mar-2495.html\n",
      "http://www.it.kmitl.ac.th/~teerapong/news_archive/article-mar-4902.html\n",
      "http://www.it.kmitl.ac.th/~teerapong/news_archive/article-mar-3484.html\n",
      "http://www.it.kmitl.ac.th/~teerapong/news_archive/article-mar-1905.html\n",
      "http://www.it.kmitl.ac.th/~teerapong/news_archive/article-mar-1702.html\n",
      "http://www.it.kmitl.ac.th/~teerapong/news_archive/article-mar-4607.html\n",
      "http://www.it.kmitl.ac.th/~teerapong/news_archive/article-mar-4510.html\n",
      "http://www.it.kmitl.ac.th/~teerapong/news_archive/article-mar-1543.html\n",
      "http://www.it.kmitl.ac.th/~teerapong/news_archive/article-mar-0210.html\n",
      "http://www.it.kmitl.ac.th/~teerapong/news_archive/article-mar-1989.html\n",
      "http://www.it.kmitl.ac.th/~teerapong/news_archive/article-mar-4293.html\n",
      "http://www.it.kmitl.ac.th/~teerapong/news_archive/article-mar-0521.html\n",
      "http://www.it.kmitl.ac.th/~teerapong/news_archive/article-mar-3692.html\n",
      "http://www.it.kmitl.ac.th/~teerapong/news_archive/article-mar-2874.html\n",
      "http://www.it.kmitl.ac.th/~teerapong/news_archive/article-mar-3420.html\n",
      "http://www.it.kmitl.ac.th/~teerapong/news_archive/article-mar-3360.html\n",
      "http://www.it.kmitl.ac.th/~teerapong/news_archive/article-mar-0037.html\n",
      "http://www.it.kmitl.ac.th/~teerapong/news_archive/article-mar-2432.html\n",
      "http://www.it.kmitl.ac.th/~teerapong/news_archive/article-mar-1244.html\n",
      "http://www.it.kmitl.ac.th/~teerapong/news_archive/article-mar-1251.html\n",
      "http://www.it.kmitl.ac.th/~teerapong/news_archive/article-mar-0183.html\n",
      "http://www.it.kmitl.ac.th/~teerapong/news_archive/article-mar-2000.html\n",
      "http://www.it.kmitl.ac.th/~teerapong/news_archive/article-mar-3083.html\n",
      "http://www.it.kmitl.ac.th/~teerapong/news_archive/article-mar-3722.html\n",
      "http://www.it.kmitl.ac.th/~teerapong/news_archive/article-mar-1165.html\n",
      "http://www.it.kmitl.ac.th/~teerapong/news_archive/article-mar-2123.html\n",
      "http://www.it.kmitl.ac.th/~teerapong/news_archive/article-mar-3909.html\n",
      "http://www.it.kmitl.ac.th/~teerapong/news_archive/article-mar-0579.html\n",
      "http://www.it.kmitl.ac.th/~teerapong/news_archive/article-mar-3023.html\n",
      "http://www.it.kmitl.ac.th/~teerapong/news_archive/article-mar-0977.html\n",
      "http://www.it.kmitl.ac.th/~teerapong/news_archive/article-mar-4216.html\n",
      "http://www.it.kmitl.ac.th/~teerapong/news_archive/article-mar-2195.html\n",
      "http://www.it.kmitl.ac.th/~teerapong/news_archive/article-mar-4576.html\n",
      "http://www.it.kmitl.ac.th/~teerapong/news_archive/article-mar-2382.html\n",
      "http://www.it.kmitl.ac.th/~teerapong/news_archive/article-mar-0012.html\n",
      "http://www.it.kmitl.ac.th/~teerapong/news_archive/article-mar-4343.html\n",
      "http://www.it.kmitl.ac.th/~teerapong/news_archive/article-mar-3567.html\n",
      "http://www.it.kmitl.ac.th/~teerapong/news_archive/article-mar-1674.html\n",
      "http://www.it.kmitl.ac.th/~teerapong/news_archive/article-mar-3810.html\n",
      "http://www.it.kmitl.ac.th/~teerapong/news_archive/article-mar-3301.html\n",
      "http://www.it.kmitl.ac.th/~teerapong/news_archive/article-mar-2795.html\n",
      "http://www.it.kmitl.ac.th/~teerapong/news_archive/article-mar-3037.html\n",
      "http://www.it.kmitl.ac.th/~teerapong/news_archive/article-mar-1629.html\n",
      "http://www.it.kmitl.ac.th/~teerapong/news_archive/article-mar-0481.html\n",
      "http://www.it.kmitl.ac.th/~teerapong/news_archive/article-mar-0388.html\n",
      "http://www.it.kmitl.ac.th/~teerapong/news_archive/article-mar-1453.html\n",
      "http://www.it.kmitl.ac.th/~teerapong/news_archive/article-mar-1606.html\n",
      "http://www.it.kmitl.ac.th/~teerapong/news_archive/article-mar-1230.html\n",
      "http://www.it.kmitl.ac.th/~teerapong/news_archive/article-mar-3153.html\n",
      "http://www.it.kmitl.ac.th/~teerapong/news_archive/article-mar-0170.html\n",
      "http://www.it.kmitl.ac.th/~teerapong/news_archive/article-mar-4481.html\n",
      "http://www.it.kmitl.ac.th/~teerapong/news_archive/article-mar-4754.html\n",
      "http://www.it.kmitl.ac.th/~teerapong/news_archive/article-mar-3612.html\n",
      "http://www.it.kmitl.ac.th/~teerapong/news_archive/article-mar-3927.html\n",
      "http://www.it.kmitl.ac.th/~teerapong/news_archive/article-mar-4340.html\n",
      "http://www.it.kmitl.ac.th/~teerapong/news_archive/article-mar-1335.html\n",
      "http://www.it.kmitl.ac.th/~teerapong/news_archive/article-mar-2040.html\n",
      "http://www.it.kmitl.ac.th/~teerapong/news_archive/article-mar-0033.html\n",
      "http://www.it.kmitl.ac.th/~teerapong/news_archive/article-mar-2536.html\n",
      "http://www.it.kmitl.ac.th/~teerapong/news_archive/article-mar-4512.html\n",
      "http://www.it.kmitl.ac.th/~teerapong/news_archive/article-mar-4615.html\n",
      "http://www.it.kmitl.ac.th/~teerapong/news_archive/article-mar-4246.html\n",
      "http://www.it.kmitl.ac.th/~teerapong/news_archive/article-mar-4861.html\n",
      "http://www.it.kmitl.ac.th/~teerapong/news_archive/article-mar-4279.html\n",
      "http://www.it.kmitl.ac.th/~teerapong/news_archive/article-mar-4599.html\n",
      "http://www.it.kmitl.ac.th/~teerapong/news_archive/article-mar-2276.html\n",
      "http://www.it.kmitl.ac.th/~teerapong/news_archive/article-mar-1739.html\n",
      "http://www.it.kmitl.ac.th/~teerapong/news_archive/article-mar-4407.html\n",
      "http://www.it.kmitl.ac.th/~teerapong/news_archive/article-mar-3144.html\n",
      "http://www.it.kmitl.ac.th/~teerapong/news_archive/article-mar-0182.html\n",
      "http://www.it.kmitl.ac.th/~teerapong/news_archive/article-mar-2488.html\n",
      "http://www.it.kmitl.ac.th/~teerapong/news_archive/article-mar-4584.html\n",
      "http://www.it.kmitl.ac.th/~teerapong/news_archive/article-mar-4102.html\n",
      "http://www.it.kmitl.ac.th/~teerapong/news_archive/article-mar-3792.html\n",
      "http://www.it.kmitl.ac.th/~teerapong/news_archive/article-mar-0131.html\n",
      "http://www.it.kmitl.ac.th/~teerapong/news_archive/article-mar-4398.html\n",
      "http://www.it.kmitl.ac.th/~teerapong/news_archive/article-mar-0463.html\n",
      "http://www.it.kmitl.ac.th/~teerapong/news_archive/article-mar-0029.html\n",
      "http://www.it.kmitl.ac.th/~teerapong/news_archive/article-mar-4749.html\n",
      "http://www.it.kmitl.ac.th/~teerapong/news_archive/article-mar-3392.html\n",
      "http://www.it.kmitl.ac.th/~teerapong/news_archive/article-mar-0952.html\n",
      "http://www.it.kmitl.ac.th/~teerapong/news_archive/article-mar-1203.html\n",
      "http://www.it.kmitl.ac.th/~teerapong/news_archive/article-mar-2048.html\n",
      "http://www.it.kmitl.ac.th/~teerapong/news_archive/article-mar-3318.html\n",
      "http://www.it.kmitl.ac.th/~teerapong/news_archive/article-mar-2788.html\n",
      "http://www.it.kmitl.ac.th/~teerapong/news_archive/article-mar-4562.html\n",
      "http://www.it.kmitl.ac.th/~teerapong/news_archive/article-mar-0620.html\n",
      "http://www.it.kmitl.ac.th/~teerapong/news_archive/article-mar-4001.html\n",
      "http://www.it.kmitl.ac.th/~teerapong/news_archive/article-mar-1599.html\n",
      "http://www.it.kmitl.ac.th/~teerapong/news_archive/article-mar-2785.html\n",
      "http://www.it.kmitl.ac.th/~teerapong/news_archive/article-mar-1454.html\n",
      "http://www.it.kmitl.ac.th/~teerapong/news_archive/article-mar-1913.html\n",
      "http://www.it.kmitl.ac.th/~teerapong/news_archive/article-mar-4140.html\n",
      "http://www.it.kmitl.ac.th/~teerapong/news_archive/article-mar-4357.html\n",
      "http://www.it.kmitl.ac.th/~teerapong/news_archive/article-mar-4898.html\n",
      "http://www.it.kmitl.ac.th/~teerapong/news_archive/article-mar-0550.html\n",
      "http://www.it.kmitl.ac.th/~teerapong/news_archive/article-mar-2508.html\n",
      "http://www.it.kmitl.ac.th/~teerapong/news_archive/article-mar-2039.html\n",
      "http://www.it.kmitl.ac.th/~teerapong/news_archive/article-mar-4111.html\n",
      "http://www.it.kmitl.ac.th/~teerapong/news_archive/article-mar-4582.html\n",
      "http://www.it.kmitl.ac.th/~teerapong/news_archive/article-mar-3651.html\n",
      "http://www.it.kmitl.ac.th/~teerapong/news_archive/article-mar-3663.html\n",
      "http://www.it.kmitl.ac.th/~teerapong/news_archive/article-mar-4500.html\n",
      "http://www.it.kmitl.ac.th/~teerapong/news_archive/article-mar-1916.html\n",
      "http://www.it.kmitl.ac.th/~teerapong/news_archive/article-apr-1897.html\n",
      "http://www.it.kmitl.ac.th/~teerapong/news_archive/article-apr-2967.html\n",
      "http://www.it.kmitl.ac.th/~teerapong/news_archive/article-apr-2939.html\n",
      "http://www.it.kmitl.ac.th/~teerapong/news_archive/article-apr-0145.html\n",
      "http://www.it.kmitl.ac.th/~teerapong/news_archive/article-apr-1938.html\n",
      "http://www.it.kmitl.ac.th/~teerapong/news_archive/article-apr-1748.html\n",
      "http://www.it.kmitl.ac.th/~teerapong/news_archive/article-apr-2559.html\n",
      "http://www.it.kmitl.ac.th/~teerapong/news_archive/article-apr-1306.html\n",
      "http://www.it.kmitl.ac.th/~teerapong/news_archive/article-apr-2454.html\n",
      "http://www.it.kmitl.ac.th/~teerapong/news_archive/article-apr-0039.html\n",
      "http://www.it.kmitl.ac.th/~teerapong/news_archive/article-apr-1044.html\n",
      "http://www.it.kmitl.ac.th/~teerapong/news_archive/article-apr-2151.html\n",
      "http://www.it.kmitl.ac.th/~teerapong/news_archive/article-apr-2808.html\n",
      "http://www.it.kmitl.ac.th/~teerapong/news_archive/article-apr-4324.html\n",
      "http://www.it.kmitl.ac.th/~teerapong/news_archive/article-apr-2873.html\n",
      "http://www.it.kmitl.ac.th/~teerapong/news_archive/article-apr-4741.html\n",
      "http://www.it.kmitl.ac.th/~teerapong/news_archive/article-apr-0433.html\n",
      "http://www.it.kmitl.ac.th/~teerapong/news_archive/article-apr-4890.html\n",
      "http://www.it.kmitl.ac.th/~teerapong/news_archive/article-apr-4575.html\n",
      "http://www.it.kmitl.ac.th/~teerapong/news_archive/article-apr-0228.html\n",
      "http://www.it.kmitl.ac.th/~teerapong/news_archive/article-apr-4827.html\n",
      "http://www.it.kmitl.ac.th/~teerapong/news_archive/article-apr-1926.html\n",
      "http://www.it.kmitl.ac.th/~teerapong/news_archive/article-apr-1571.html\n",
      "http://www.it.kmitl.ac.th/~teerapong/news_archive/article-apr-1904.html\n",
      "http://www.it.kmitl.ac.th/~teerapong/news_archive/article-apr-3933.html\n",
      "http://www.it.kmitl.ac.th/~teerapong/news_archive/article-apr-4960.html\n",
      "http://www.it.kmitl.ac.th/~teerapong/news_archive/article-apr-4241.html\n",
      "http://www.it.kmitl.ac.th/~teerapong/news_archive/article-apr-4901.html\n",
      "http://www.it.kmitl.ac.th/~teerapong/news_archive/article-apr-0724.html\n",
      "http://www.it.kmitl.ac.th/~teerapong/news_archive/article-apr-4907.html\n",
      "http://www.it.kmitl.ac.th/~teerapong/news_archive/article-apr-3088.html\n",
      "http://www.it.kmitl.ac.th/~teerapong/news_archive/article-apr-0395.html\n",
      "http://www.it.kmitl.ac.th/~teerapong/news_archive/article-apr-4460.html\n",
      "http://www.it.kmitl.ac.th/~teerapong/news_archive/article-apr-0524.html\n",
      "http://www.it.kmitl.ac.th/~teerapong/news_archive/article-apr-3536.html\n",
      "http://www.it.kmitl.ac.th/~teerapong/news_archive/article-apr-4694.html\n",
      "http://www.it.kmitl.ac.th/~teerapong/news_archive/article-apr-3827.html\n",
      "http://www.it.kmitl.ac.th/~teerapong/news_archive/article-apr-2270.html\n",
      "http://www.it.kmitl.ac.th/~teerapong/news_archive/article-apr-0205.html\n",
      "http://www.it.kmitl.ac.th/~teerapong/news_archive/article-apr-1858.html\n",
      "http://www.it.kmitl.ac.th/~teerapong/news_archive/article-apr-3390.html\n",
      "http://www.it.kmitl.ac.th/~teerapong/news_archive/article-apr-3841.html\n",
      "http://www.it.kmitl.ac.th/~teerapong/news_archive/article-apr-4467.html\n",
      "http://www.it.kmitl.ac.th/~teerapong/news_archive/article-apr-3842.html\n",
      "http://www.it.kmitl.ac.th/~teerapong/news_archive/article-apr-3718.html\n",
      "http://www.it.kmitl.ac.th/~teerapong/news_archive/article-apr-0784.html\n",
      "http://www.it.kmitl.ac.th/~teerapong/news_archive/article-apr-2677.html\n",
      "http://www.it.kmitl.ac.th/~teerapong/news_archive/article-apr-3475.html\n",
      "http://www.it.kmitl.ac.th/~teerapong/news_archive/article-apr-2558.html\n",
      "http://www.it.kmitl.ac.th/~teerapong/news_archive/article-apr-2706.html\n",
      "http://www.it.kmitl.ac.th/~teerapong/news_archive/article-apr-4921.html\n",
      "http://www.it.kmitl.ac.th/~teerapong/news_archive/article-apr-0240.html\n",
      "http://www.it.kmitl.ac.th/~teerapong/news_archive/article-apr-2106.html\n",
      "http://www.it.kmitl.ac.th/~teerapong/news_archive/article-apr-0622.html\n",
      "http://www.it.kmitl.ac.th/~teerapong/news_archive/article-apr-4699.html\n",
      "http://www.it.kmitl.ac.th/~teerapong/news_archive/article-apr-4622.html\n",
      "http://www.it.kmitl.ac.th/~teerapong/news_archive/article-apr-2061.html\n",
      "http://www.it.kmitl.ac.th/~teerapong/news_archive/article-apr-0646.html\n",
      "http://www.it.kmitl.ac.th/~teerapong/news_archive/article-apr-4064.html\n",
      "http://www.it.kmitl.ac.th/~teerapong/news_archive/article-apr-4854.html\n",
      "http://www.it.kmitl.ac.th/~teerapong/news_archive/article-apr-4446.html\n",
      "http://www.it.kmitl.ac.th/~teerapong/news_archive/article-apr-0150.html\n",
      "http://www.it.kmitl.ac.th/~teerapong/news_archive/article-apr-3146.html\n",
      "http://www.it.kmitl.ac.th/~teerapong/news_archive/article-apr-1270.html\n",
      "http://www.it.kmitl.ac.th/~teerapong/news_archive/article-apr-2879.html\n",
      "http://www.it.kmitl.ac.th/~teerapong/news_archive/article-apr-1276.html\n",
      "http://www.it.kmitl.ac.th/~teerapong/news_archive/article-apr-0061.html\n",
      "http://www.it.kmitl.ac.th/~teerapong/news_archive/article-apr-1620.html\n",
      "http://www.it.kmitl.ac.th/~teerapong/news_archive/article-apr-2704.html\n",
      "http://www.it.kmitl.ac.th/~teerapong/news_archive/article-apr-4823.html\n",
      "http://www.it.kmitl.ac.th/~teerapong/news_archive/article-apr-0564.html\n",
      "http://www.it.kmitl.ac.th/~teerapong/news_archive/article-apr-0338.html\n",
      "http://www.it.kmitl.ac.th/~teerapong/news_archive/article-apr-4399.html\n",
      "http://www.it.kmitl.ac.th/~teerapong/news_archive/article-apr-4686.html\n",
      "http://www.it.kmitl.ac.th/~teerapong/news_archive/article-apr-2813.html\n",
      "http://www.it.kmitl.ac.th/~teerapong/news_archive/article-apr-0953.html\n",
      "http://www.it.kmitl.ac.th/~teerapong/news_archive/article-apr-2019.html\n",
      "http://www.it.kmitl.ac.th/~teerapong/news_archive/article-apr-0042.html\n",
      "http://www.it.kmitl.ac.th/~teerapong/news_archive/article-apr-4569.html\n",
      "http://www.it.kmitl.ac.th/~teerapong/news_archive/article-apr-2560.html\n",
      "http://www.it.kmitl.ac.th/~teerapong/news_archive/article-apr-1918.html\n",
      "http://www.it.kmitl.ac.th/~teerapong/news_archive/article-apr-0857.html\n",
      "http://www.it.kmitl.ac.th/~teerapong/news_archive/article-apr-0028.html\n",
      "http://www.it.kmitl.ac.th/~teerapong/news_archive/article-apr-1068.html\n",
      "http://www.it.kmitl.ac.th/~teerapong/news_archive/article-apr-4171.html\n",
      "http://www.it.kmitl.ac.th/~teerapong/news_archive/article-apr-4618.html\n",
      "http://www.it.kmitl.ac.th/~teerapong/news_archive/article-apr-1300.html\n",
      "http://www.it.kmitl.ac.th/~teerapong/news_archive/article-apr-1815.html\n",
      "http://www.it.kmitl.ac.th/~teerapong/news_archive/article-apr-3833.html\n",
      "http://www.it.kmitl.ac.th/~teerapong/news_archive/article-apr-1205.html\n",
      "http://www.it.kmitl.ac.th/~teerapong/news_archive/article-apr-3471.html\n",
      "http://www.it.kmitl.ac.th/~teerapong/news_archive/article-apr-4435.html\n",
      "http://www.it.kmitl.ac.th/~teerapong/news_archive/article-apr-0484.html\n",
      "http://www.it.kmitl.ac.th/~teerapong/news_archive/article-apr-1009.html\n",
      "http://www.it.kmitl.ac.th/~teerapong/news_archive/article-apr-0361.html\n",
      "http://www.it.kmitl.ac.th/~teerapong/news_archive/article-apr-4474.html\n",
      "http://www.it.kmitl.ac.th/~teerapong/news_archive/article-apr-3423.html\n",
      "http://www.it.kmitl.ac.th/~teerapong/news_archive/article-apr-3100.html\n",
      "http://www.it.kmitl.ac.th/~teerapong/news_archive/article-apr-0865.html\n",
      "http://www.it.kmitl.ac.th/~teerapong/news_archive/article-apr-0134.html\n",
      "http://www.it.kmitl.ac.th/~teerapong/news_archive/article-apr-2219.html\n",
      "http://www.it.kmitl.ac.th/~teerapong/news_archive/article-apr-0182.html\n",
      "http://www.it.kmitl.ac.th/~teerapong/news_archive/article-apr-4228.html\n",
      "http://www.it.kmitl.ac.th/~teerapong/news_archive/article-apr-3753.html\n",
      "http://www.it.kmitl.ac.th/~teerapong/news_archive/article-apr-2040.html\n",
      "http://www.it.kmitl.ac.th/~teerapong/news_archive/article-apr-4036.html\n",
      "http://www.it.kmitl.ac.th/~teerapong/news_archive/article-apr-4395.html\n",
      "http://www.it.kmitl.ac.th/~teerapong/news_archive/article-apr-4277.html\n",
      "http://www.it.kmitl.ac.th/~teerapong/news_archive/article-apr-1102.html\n",
      "http://www.it.kmitl.ac.th/~teerapong/news_archive/article-apr-3992.html\n",
      "http://www.it.kmitl.ac.th/~teerapong/news_archive/article-apr-3250.html\n",
      "http://www.it.kmitl.ac.th/~teerapong/news_archive/article-apr-4031.html\n",
      "http://www.it.kmitl.ac.th/~teerapong/news_archive/article-apr-0896.html\n",
      "http://www.it.kmitl.ac.th/~teerapong/news_archive/article-apr-3567.html\n",
      "http://www.it.kmitl.ac.th/~teerapong/news_archive/article-apr-3586.html\n",
      "http://www.it.kmitl.ac.th/~teerapong/news_archive/article-apr-4951.html\n",
      "http://www.it.kmitl.ac.th/~teerapong/news_archive/article-apr-0345.html\n",
      "http://www.it.kmitl.ac.th/~teerapong/news_archive/article-may-0284.html\n",
      "http://www.it.kmitl.ac.th/~teerapong/news_archive/article-may-3980.html\n",
      "http://www.it.kmitl.ac.th/~teerapong/news_archive/article-may-2027.html\n",
      "http://www.it.kmitl.ac.th/~teerapong/news_archive/article-may-2024.html\n",
      "http://www.it.kmitl.ac.th/~teerapong/news_archive/article-may-2738.html\n",
      "http://www.it.kmitl.ac.th/~teerapong/news_archive/article-may-4424.html\n",
      "http://www.it.kmitl.ac.th/~teerapong/news_archive/article-may-2659.html\n",
      "http://www.it.kmitl.ac.th/~teerapong/news_archive/article-may-4512.html\n",
      "http://www.it.kmitl.ac.th/~teerapong/news_archive/article-may-0131.html\n",
      "http://www.it.kmitl.ac.th/~teerapong/news_archive/article-may-2874.html\n",
      "http://www.it.kmitl.ac.th/~teerapong/news_archive/article-may-2905.html\n",
      "http://www.it.kmitl.ac.th/~teerapong/news_archive/article-may-1663.html\n",
      "http://www.it.kmitl.ac.th/~teerapong/news_archive/article-may-1702.html\n",
      "http://www.it.kmitl.ac.th/~teerapong/news_archive/article-may-4777.html\n",
      "http://www.it.kmitl.ac.th/~teerapong/news_archive/article-may-2166.html\n",
      "http://www.it.kmitl.ac.th/~teerapong/news_archive/article-may-1662.html\n",
      "http://www.it.kmitl.ac.th/~teerapong/news_archive/article-may-1837.html\n",
      "http://www.it.kmitl.ac.th/~teerapong/news_archive/article-may-1887.html\n",
      "http://www.it.kmitl.ac.th/~teerapong/news_archive/article-may-3273.html\n",
      "http://www.it.kmitl.ac.th/~teerapong/news_archive/article-may-2294.html\n",
      "http://www.it.kmitl.ac.th/~teerapong/news_archive/article-may-3257.html\n",
      "http://www.it.kmitl.ac.th/~teerapong/news_archive/article-may-2723.html\n",
      "http://www.it.kmitl.ac.th/~teerapong/news_archive/article-may-1549.html\n",
      "http://www.it.kmitl.ac.th/~teerapong/news_archive/article-may-0149.html\n",
      "http://www.it.kmitl.ac.th/~teerapong/news_archive/article-may-2122.html\n",
      "http://www.it.kmitl.ac.th/~teerapong/news_archive/article-may-4336.html\n",
      "http://www.it.kmitl.ac.th/~teerapong/news_archive/article-may-0706.html\n",
      "http://www.it.kmitl.ac.th/~teerapong/news_archive/article-may-0573.html\n",
      "http://www.it.kmitl.ac.th/~teerapong/news_archive/article-may-2915.html\n",
      "http://www.it.kmitl.ac.th/~teerapong/news_archive/article-may-1785.html\n",
      "http://www.it.kmitl.ac.th/~teerapong/news_archive/article-may-1306.html\n",
      "http://www.it.kmitl.ac.th/~teerapong/news_archive/article-may-2222.html\n",
      "http://www.it.kmitl.ac.th/~teerapong/news_archive/article-may-1674.html\n",
      "http://www.it.kmitl.ac.th/~teerapong/news_archive/article-may-3633.html\n",
      "http://www.it.kmitl.ac.th/~teerapong/news_archive/article-may-3723.html\n",
      "http://www.it.kmitl.ac.th/~teerapong/news_archive/article-may-2499.html\n",
      "http://www.it.kmitl.ac.th/~teerapong/news_archive/article-may-2400.html\n",
      "http://www.it.kmitl.ac.th/~teerapong/news_archive/article-may-2476.html\n",
      "http://www.it.kmitl.ac.th/~teerapong/news_archive/article-may-2112.html\n",
      "http://www.it.kmitl.ac.th/~teerapong/news_archive/article-may-2581.html\n",
      "http://www.it.kmitl.ac.th/~teerapong/news_archive/article-may-2727.html\n",
      "http://www.it.kmitl.ac.th/~teerapong/news_archive/article-may-0713.html\n",
      "http://www.it.kmitl.ac.th/~teerapong/news_archive/article-may-4324.html\n",
      "http://www.it.kmitl.ac.th/~teerapong/news_archive/article-may-4280.html\n",
      "http://www.it.kmitl.ac.th/~teerapong/news_archive/article-may-0143.html\n",
      "http://www.it.kmitl.ac.th/~teerapong/news_archive/article-may-2440.html\n",
      "http://www.it.kmitl.ac.th/~teerapong/news_archive/article-may-1036.html\n",
      "http://www.it.kmitl.ac.th/~teerapong/news_archive/article-may-0966.html\n",
      "http://www.it.kmitl.ac.th/~teerapong/news_archive/article-may-4655.html\n",
      "http://www.it.kmitl.ac.th/~teerapong/news_archive/article-may-2796.html\n",
      "http://www.it.kmitl.ac.th/~teerapong/news_archive/article-may-0305.html\n",
      "http://www.it.kmitl.ac.th/~teerapong/news_archive/article-may-2491.html\n",
      "http://www.it.kmitl.ac.th/~teerapong/news_archive/article-may-2781.html\n",
      "http://www.it.kmitl.ac.th/~teerapong/news_archive/article-may-1795.html\n",
      "http://www.it.kmitl.ac.th/~teerapong/news_archive/article-may-0332.html\n",
      "http://www.it.kmitl.ac.th/~teerapong/news_archive/article-may-4014.html\n",
      "http://www.it.kmitl.ac.th/~teerapong/news_archive/article-may-4886.html\n",
      "http://www.it.kmitl.ac.th/~teerapong/news_archive/article-may-4104.html\n",
      "http://www.it.kmitl.ac.th/~teerapong/news_archive/article-may-1112.html\n",
      "http://www.it.kmitl.ac.th/~teerapong/news_archive/article-may-0180.html\n",
      "http://www.it.kmitl.ac.th/~teerapong/news_archive/article-may-1740.html\n",
      "http://www.it.kmitl.ac.th/~teerapong/news_archive/article-may-4133.html\n",
      "http://www.it.kmitl.ac.th/~teerapong/news_archive/article-may-0916.html\n",
      "http://www.it.kmitl.ac.th/~teerapong/news_archive/article-may-3761.html\n",
      "http://www.it.kmitl.ac.th/~teerapong/news_archive/article-may-4517.html\n",
      "http://www.it.kmitl.ac.th/~teerapong/news_archive/article-may-1326.html\n",
      "http://www.it.kmitl.ac.th/~teerapong/news_archive/article-may-0373.html\n",
      "http://www.it.kmitl.ac.th/~teerapong/news_archive/article-may-4484.html\n",
      "http://www.it.kmitl.ac.th/~teerapong/news_archive/article-may-4229.html\n",
      "http://www.it.kmitl.ac.th/~teerapong/news_archive/article-may-4474.html\n",
      "http://www.it.kmitl.ac.th/~teerapong/news_archive/article-may-1687.html\n",
      "http://www.it.kmitl.ac.th/~teerapong/news_archive/article-may-1905.html\n",
      "http://www.it.kmitl.ac.th/~teerapong/news_archive/article-may-2611.html\n",
      "http://www.it.kmitl.ac.th/~teerapong/news_archive/article-may-4895.html\n",
      "http://www.it.kmitl.ac.th/~teerapong/news_archive/article-may-0016.html\n",
      "http://www.it.kmitl.ac.th/~teerapong/news_archive/article-may-1238.html\n",
      "http://www.it.kmitl.ac.th/~teerapong/news_archive/article-may-1947.html\n",
      "http://www.it.kmitl.ac.th/~teerapong/news_archive/article-may-2512.html\n",
      "http://www.it.kmitl.ac.th/~teerapong/news_archive/article-may-1598.html\n",
      "http://www.it.kmitl.ac.th/~teerapong/news_archive/article-may-4585.html\n",
      "http://www.it.kmitl.ac.th/~teerapong/news_archive/article-may-4874.html\n",
      "http://www.it.kmitl.ac.th/~teerapong/news_archive/article-may-0488.html\n",
      "http://www.it.kmitl.ac.th/~teerapong/news_archive/article-may-0292.html\n",
      "http://www.it.kmitl.ac.th/~teerapong/news_archive/article-may-3235.html\n",
      "http://www.it.kmitl.ac.th/~teerapong/news_archive/article-may-1464.html\n",
      "http://www.it.kmitl.ac.th/~teerapong/news_archive/article-may-2443.html\n",
      "http://www.it.kmitl.ac.th/~teerapong/news_archive/article-may-2260.html\n",
      "http://www.it.kmitl.ac.th/~teerapong/news_archive/article-may-3908.html\n",
      "http://www.it.kmitl.ac.th/~teerapong/news_archive/article-may-2514.html\n",
      "http://www.it.kmitl.ac.th/~teerapong/news_archive/article-may-0985.html\n",
      "http://www.it.kmitl.ac.th/~teerapong/news_archive/article-may-3855.html\n",
      "http://www.it.kmitl.ac.th/~teerapong/news_archive/article-may-0057.html\n",
      "http://www.it.kmitl.ac.th/~teerapong/news_archive/article-may-0549.html\n",
      "http://www.it.kmitl.ac.th/~teerapong/news_archive/article-may-0738.html\n",
      "http://www.it.kmitl.ac.th/~teerapong/news_archive/article-may-1288.html\n",
      "http://www.it.kmitl.ac.th/~teerapong/news_archive/article-may-2467.html\n",
      "http://www.it.kmitl.ac.th/~teerapong/news_archive/article-may-2263.html\n",
      "http://www.it.kmitl.ac.th/~teerapong/news_archive/article-may-0648.html\n",
      "http://www.it.kmitl.ac.th/~teerapong/news_archive/article-may-3222.html\n",
      "http://www.it.kmitl.ac.th/~teerapong/news_archive/article-may-1355.html\n",
      "http://www.it.kmitl.ac.th/~teerapong/news_archive/article-may-3184.html\n",
      "http://www.it.kmitl.ac.th/~teerapong/news_archive/article-may-2365.html\n",
      "http://www.it.kmitl.ac.th/~teerapong/news_archive/article-may-0720.html\n",
      "http://www.it.kmitl.ac.th/~teerapong/news_archive/article-may-3287.html\n",
      "http://www.it.kmitl.ac.th/~teerapong/news_archive/article-may-2299.html\n",
      "http://www.it.kmitl.ac.th/~teerapong/news_archive/article-may-0748.html\n",
      "http://www.it.kmitl.ac.th/~teerapong/news_archive/article-may-4097.html\n",
      "http://www.it.kmitl.ac.th/~teerapong/news_archive/article-may-2131.html\n",
      "http://www.it.kmitl.ac.th/~teerapong/news_archive/article-may-3461.html\n",
      "http://www.it.kmitl.ac.th/~teerapong/news_archive/article-may-4326.html\n",
      "http://www.it.kmitl.ac.th/~teerapong/news_archive/article-may-2814.html\n",
      "http://www.it.kmitl.ac.th/~teerapong/news_archive/article-may-2271.html\n",
      "http://www.it.kmitl.ac.th/~teerapong/news_archive/article-may-3619.html\n",
      "http://www.it.kmitl.ac.th/~teerapong/news_archive/article-may-0996.html\n",
      "http://www.it.kmitl.ac.th/~teerapong/news_archive/article-jun-1972.html\n",
      "http://www.it.kmitl.ac.th/~teerapong/news_archive/article-jun-1987.html\n",
      "http://www.it.kmitl.ac.th/~teerapong/news_archive/article-jun-0716.html\n",
      "http://www.it.kmitl.ac.th/~teerapong/news_archive/article-jun-2935.html\n",
      "http://www.it.kmitl.ac.th/~teerapong/news_archive/article-jun-4840.html\n",
      "http://www.it.kmitl.ac.th/~teerapong/news_archive/article-jun-4479.html\n",
      "http://www.it.kmitl.ac.th/~teerapong/news_archive/article-jun-1568.html\n",
      "http://www.it.kmitl.ac.th/~teerapong/news_archive/article-jun-1579.html\n",
      "http://www.it.kmitl.ac.th/~teerapong/news_archive/article-jun-3219.html\n",
      "http://www.it.kmitl.ac.th/~teerapong/news_archive/article-jun-1778.html\n",
      "http://www.it.kmitl.ac.th/~teerapong/news_archive/article-jun-1644.html\n",
      "http://www.it.kmitl.ac.th/~teerapong/news_archive/article-jun-2609.html\n",
      "http://www.it.kmitl.ac.th/~teerapong/news_archive/article-jun-1346.html\n",
      "http://www.it.kmitl.ac.th/~teerapong/news_archive/article-jun-3633.html\n",
      "http://www.it.kmitl.ac.th/~teerapong/news_archive/article-jun-3298.html\n",
      "http://www.it.kmitl.ac.th/~teerapong/news_archive/article-jun-3624.html\n",
      "http://www.it.kmitl.ac.th/~teerapong/news_archive/article-jun-0532.html\n",
      "http://www.it.kmitl.ac.th/~teerapong/news_archive/article-jun-2071.html\n",
      "http://www.it.kmitl.ac.th/~teerapong/news_archive/article-jun-1491.html\n",
      "http://www.it.kmitl.ac.th/~teerapong/news_archive/article-jun-1294.html\n",
      "http://www.it.kmitl.ac.th/~teerapong/news_archive/article-jun-1801.html\n",
      "http://www.it.kmitl.ac.th/~teerapong/news_archive/article-jun-4596.html\n",
      "http://www.it.kmitl.ac.th/~teerapong/news_archive/article-jun-4483.html\n",
      "http://www.it.kmitl.ac.th/~teerapong/news_archive/article-jun-0384.html\n",
      "http://www.it.kmitl.ac.th/~teerapong/news_archive/article-jun-3025.html\n",
      "http://www.it.kmitl.ac.th/~teerapong/news_archive/article-jun-3207.html\n",
      "http://www.it.kmitl.ac.th/~teerapong/news_archive/article-jun-3422.html\n",
      "http://www.it.kmitl.ac.th/~teerapong/news_archive/article-jun-3285.html\n",
      "http://www.it.kmitl.ac.th/~teerapong/news_archive/article-jun-1131.html\n",
      "http://www.it.kmitl.ac.th/~teerapong/news_archive/article-jun-4266.html\n",
      "http://www.it.kmitl.ac.th/~teerapong/news_archive/article-jun-4362.html\n",
      "http://www.it.kmitl.ac.th/~teerapong/news_archive/article-jun-0537.html\n",
      "http://www.it.kmitl.ac.th/~teerapong/news_archive/article-jun-1448.html\n",
      "http://www.it.kmitl.ac.th/~teerapong/news_archive/article-jun-4007.html\n",
      "http://www.it.kmitl.ac.th/~teerapong/news_archive/article-jun-3887.html\n",
      "http://www.it.kmitl.ac.th/~teerapong/news_archive/article-jun-3406.html\n",
      "http://www.it.kmitl.ac.th/~teerapong/news_archive/article-jun-2920.html\n",
      "http://www.it.kmitl.ac.th/~teerapong/news_archive/article-jun-2699.html\n",
      "http://www.it.kmitl.ac.th/~teerapong/news_archive/article-jun-0332.html\n",
      "http://www.it.kmitl.ac.th/~teerapong/news_archive/article-jun-4500.html\n",
      "http://www.it.kmitl.ac.th/~teerapong/news_archive/article-jun-1482.html\n",
      "http://www.it.kmitl.ac.th/~teerapong/news_archive/article-jun-0787.html\n",
      "http://www.it.kmitl.ac.th/~teerapong/news_archive/article-jun-2022.html\n",
      "http://www.it.kmitl.ac.th/~teerapong/news_archive/article-jun-3687.html\n",
      "http://www.it.kmitl.ac.th/~teerapong/news_archive/article-jun-3700.html\n",
      "http://www.it.kmitl.ac.th/~teerapong/news_archive/article-jun-3528.html\n",
      "http://www.it.kmitl.ac.th/~teerapong/news_archive/article-jun-2557.html\n",
      "http://www.it.kmitl.ac.th/~teerapong/news_archive/article-jun-2381.html\n",
      "http://www.it.kmitl.ac.th/~teerapong/news_archive/article-jun-1633.html\n",
      "http://www.it.kmitl.ac.th/~teerapong/news_archive/article-jun-4342.html\n",
      "http://www.it.kmitl.ac.th/~teerapong/news_archive/article-jun-4535.html\n",
      "http://www.it.kmitl.ac.th/~teerapong/news_archive/article-jun-1155.html\n",
      "http://www.it.kmitl.ac.th/~teerapong/news_archive/article-jun-0553.html\n",
      "http://www.it.kmitl.ac.th/~teerapong/news_archive/article-jun-1387.html\n",
      "http://www.it.kmitl.ac.th/~teerapong/news_archive/article-jun-2401.html\n",
      "http://www.it.kmitl.ac.th/~teerapong/news_archive/article-jun-4329.html\n",
      "http://www.it.kmitl.ac.th/~teerapong/news_archive/article-jun-1532.html\n",
      "http://www.it.kmitl.ac.th/~teerapong/news_archive/article-jun-1434.html\n",
      "http://www.it.kmitl.ac.th/~teerapong/news_archive/article-jun-2521.html\n",
      "http://www.it.kmitl.ac.th/~teerapong/news_archive/article-jun-2097.html\n",
      "http://www.it.kmitl.ac.th/~teerapong/news_archive/article-jun-2226.html\n",
      "http://www.it.kmitl.ac.th/~teerapong/news_archive/article-jun-4453.html\n",
      "http://www.it.kmitl.ac.th/~teerapong/news_archive/article-jun-4509.html\n",
      "http://www.it.kmitl.ac.th/~teerapong/news_archive/article-jun-2467.html\n",
      "http://www.it.kmitl.ac.th/~teerapong/news_archive/article-jun-1038.html\n",
      "http://www.it.kmitl.ac.th/~teerapong/news_archive/article-jun-2420.html\n",
      "http://www.it.kmitl.ac.th/~teerapong/news_archive/article-jun-4994.html\n",
      "http://www.it.kmitl.ac.th/~teerapong/news_archive/article-jun-3434.html\n",
      "http://www.it.kmitl.ac.th/~teerapong/news_archive/article-jun-4410.html\n",
      "http://www.it.kmitl.ac.th/~teerapong/news_archive/article-jun-0925.html\n",
      "http://www.it.kmitl.ac.th/~teerapong/news_archive/article-jun-1788.html\n",
      "http://www.it.kmitl.ac.th/~teerapong/news_archive/article-jun-0749.html\n",
      "http://www.it.kmitl.ac.th/~teerapong/news_archive/article-jun-4657.html\n",
      "http://www.it.kmitl.ac.th/~teerapong/news_archive/article-jun-2787.html\n",
      "http://www.it.kmitl.ac.th/~teerapong/news_archive/article-jun-2319.html\n",
      "http://www.it.kmitl.ac.th/~teerapong/news_archive/article-jun-1141.html\n",
      "http://www.it.kmitl.ac.th/~teerapong/news_archive/article-jun-4805.html\n",
      "http://www.it.kmitl.ac.th/~teerapong/news_archive/article-jun-0101.html\n",
      "http://www.it.kmitl.ac.th/~teerapong/news_archive/article-jun-4636.html\n",
      "http://www.it.kmitl.ac.th/~teerapong/news_archive/article-jun-1885.html\n",
      "http://www.it.kmitl.ac.th/~teerapong/news_archive/article-jun-1112.html\n",
      "http://www.it.kmitl.ac.th/~teerapong/news_archive/article-jun-4470.html\n",
      "http://www.it.kmitl.ac.th/~teerapong/news_archive/article-jun-3966.html\n",
      "http://www.it.kmitl.ac.th/~teerapong/news_archive/article-jun-1668.html\n",
      "http://www.it.kmitl.ac.th/~teerapong/news_archive/article-jun-1940.html\n",
      "http://www.it.kmitl.ac.th/~teerapong/news_archive/article-jun-0693.html\n",
      "http://www.it.kmitl.ac.th/~teerapong/news_archive/article-jun-0583.html\n",
      "http://www.it.kmitl.ac.th/~teerapong/news_archive/article-jun-4042.html\n",
      "http://www.it.kmitl.ac.th/~teerapong/news_archive/article-jun-1150.html\n",
      "http://www.it.kmitl.ac.th/~teerapong/news_archive/article-jun-0829.html\n",
      "http://www.it.kmitl.ac.th/~teerapong/news_archive/article-jun-4361.html\n",
      "http://www.it.kmitl.ac.th/~teerapong/news_archive/article-jun-2660.html\n",
      "http://www.it.kmitl.ac.th/~teerapong/news_archive/article-jun-3293.html\n",
      "http://www.it.kmitl.ac.th/~teerapong/news_archive/article-jun-4523.html\n",
      "http://www.it.kmitl.ac.th/~teerapong/news_archive/article-jun-2536.html\n",
      "http://www.it.kmitl.ac.th/~teerapong/news_archive/article-jun-0684.html\n",
      "http://www.it.kmitl.ac.th/~teerapong/news_archive/article-jun-3126.html\n",
      "http://www.it.kmitl.ac.th/~teerapong/news_archive/article-jun-1396.html\n",
      "http://www.it.kmitl.ac.th/~teerapong/news_archive/article-jun-3380.html\n",
      "http://www.it.kmitl.ac.th/~teerapong/news_archive/article-jun-3599.html\n",
      "http://www.it.kmitl.ac.th/~teerapong/news_archive/article-jun-0780.html\n",
      "http://www.it.kmitl.ac.th/~teerapong/news_archive/article-jun-0505.html\n",
      "http://www.it.kmitl.ac.th/~teerapong/news_archive/article-jun-2320.html\n",
      "http://www.it.kmitl.ac.th/~teerapong/news_archive/article-jun-3360.html\n",
      "http://www.it.kmitl.ac.th/~teerapong/news_archive/article-jun-1094.html\n",
      "http://www.it.kmitl.ac.th/~teerapong/news_archive/article-jun-2505.html\n",
      "http://www.it.kmitl.ac.th/~teerapong/news_archive/article-jun-2405.html\n",
      "http://www.it.kmitl.ac.th/~teerapong/news_archive/article-jun-4106.html\n",
      "http://www.it.kmitl.ac.th/~teerapong/news_archive/article-jun-0039.html\n",
      "http://www.it.kmitl.ac.th/~teerapong/news_archive/article-jun-2519.html\n",
      "http://www.it.kmitl.ac.th/~teerapong/news_archive/article-jun-1446.html\n",
      "http://www.it.kmitl.ac.th/~teerapong/news_archive/article-jun-1293.html\n",
      "http://www.it.kmitl.ac.th/~teerapong/news_archive/article-jun-4259.html\n",
      "http://www.it.kmitl.ac.th/~teerapong/news_archive/article-jun-4520.html\n",
      "http://www.it.kmitl.ac.th/~teerapong/news_archive/article-jul-1745.html\n",
      "http://www.it.kmitl.ac.th/~teerapong/news_archive/article-jul-0465.html\n",
      "http://www.it.kmitl.ac.th/~teerapong/news_archive/article-jul-4512.html\n",
      "http://www.it.kmitl.ac.th/~teerapong/news_archive/article-jul-2758.html\n",
      "http://www.it.kmitl.ac.th/~teerapong/news_archive/article-jul-4068.html\n",
      "http://www.it.kmitl.ac.th/~teerapong/news_archive/article-jul-1257.html\n",
      "http://www.it.kmitl.ac.th/~teerapong/news_archive/article-jul-2965.html\n",
      "http://www.it.kmitl.ac.th/~teerapong/news_archive/article-jul-2977.html\n",
      "http://www.it.kmitl.ac.th/~teerapong/news_archive/article-jul-0794.html\n",
      "http://www.it.kmitl.ac.th/~teerapong/news_archive/article-jul-0495.html\n",
      "http://www.it.kmitl.ac.th/~teerapong/news_archive/article-jul-2215.html\n",
      "http://www.it.kmitl.ac.th/~teerapong/news_archive/article-jul-4187.html\n",
      "http://www.it.kmitl.ac.th/~teerapong/news_archive/article-jul-3607.html\n",
      "http://www.it.kmitl.ac.th/~teerapong/news_archive/article-jul-3406.html\n",
      "http://www.it.kmitl.ac.th/~teerapong/news_archive/article-jul-4480.html\n",
      "http://www.it.kmitl.ac.th/~teerapong/news_archive/article-jul-4575.html\n",
      "http://www.it.kmitl.ac.th/~teerapong/news_archive/article-jul-2829.html\n",
      "http://www.it.kmitl.ac.th/~teerapong/news_archive/article-jul-4356.html\n",
      "http://www.it.kmitl.ac.th/~teerapong/news_archive/article-jul-3487.html\n",
      "http://www.it.kmitl.ac.th/~teerapong/news_archive/article-jul-3941.html\n",
      "http://www.it.kmitl.ac.th/~teerapong/news_archive/article-jul-4527.html\n",
      "http://www.it.kmitl.ac.th/~teerapong/news_archive/article-jul-3516.html\n",
      "http://www.it.kmitl.ac.th/~teerapong/news_archive/article-jul-0165.html\n",
      "http://www.it.kmitl.ac.th/~teerapong/news_archive/article-jul-2340.html\n",
      "http://www.it.kmitl.ac.th/~teerapong/news_archive/article-jul-4614.html\n",
      "http://www.it.kmitl.ac.th/~teerapong/news_archive/article-jul-2009.html\n",
      "http://www.it.kmitl.ac.th/~teerapong/news_archive/article-jul-2742.html\n",
      "http://www.it.kmitl.ac.th/~teerapong/news_archive/article-jul-3010.html\n",
      "http://www.it.kmitl.ac.th/~teerapong/news_archive/article-jul-4101.html\n",
      "http://www.it.kmitl.ac.th/~teerapong/news_archive/article-jul-2708.html\n",
      "http://www.it.kmitl.ac.th/~teerapong/news_archive/article-jul-4268.html\n",
      "http://www.it.kmitl.ac.th/~teerapong/news_archive/article-jul-4019.html\n",
      "http://www.it.kmitl.ac.th/~teerapong/news_archive/article-jul-1748.html\n",
      "http://www.it.kmitl.ac.th/~teerapong/news_archive/article-jul-1249.html\n",
      "http://www.it.kmitl.ac.th/~teerapong/news_archive/article-jul-4170.html\n",
      "http://www.it.kmitl.ac.th/~teerapong/news_archive/article-jul-2162.html\n",
      "http://www.it.kmitl.ac.th/~teerapong/news_archive/article-jul-0339.html\n",
      "http://www.it.kmitl.ac.th/~teerapong/news_archive/article-jul-2286.html\n",
      "http://www.it.kmitl.ac.th/~teerapong/news_archive/article-jul-2988.html\n",
      "http://www.it.kmitl.ac.th/~teerapong/news_archive/article-jul-4021.html\n",
      "http://www.it.kmitl.ac.th/~teerapong/news_archive/article-jul-4373.html\n",
      "http://www.it.kmitl.ac.th/~teerapong/news_archive/article-jul-4895.html\n",
      "http://www.it.kmitl.ac.th/~teerapong/news_archive/article-jul-4326.html\n",
      "http://www.it.kmitl.ac.th/~teerapong/news_archive/article-jul-0662.html\n",
      "http://www.it.kmitl.ac.th/~teerapong/news_archive/article-jul-2558.html\n",
      "http://www.it.kmitl.ac.th/~teerapong/news_archive/article-jul-3455.html\n",
      "http://www.it.kmitl.ac.th/~teerapong/news_archive/article-jul-4969.html\n",
      "http://www.it.kmitl.ac.th/~teerapong/news_archive/article-jul-3422.html\n",
      "http://www.it.kmitl.ac.th/~teerapong/news_archive/article-jul-1711.html\n",
      "http://www.it.kmitl.ac.th/~teerapong/news_archive/article-jul-2063.html\n",
      "http://www.it.kmitl.ac.th/~teerapong/news_archive/article-jul-2960.html\n",
      "http://www.it.kmitl.ac.th/~teerapong/news_archive/article-jul-4915.html\n",
      "http://www.it.kmitl.ac.th/~teerapong/news_archive/article-jul-4812.html\n",
      "http://www.it.kmitl.ac.th/~teerapong/news_archive/article-jul-3520.html\n",
      "http://www.it.kmitl.ac.th/~teerapong/news_archive/article-jul-0643.html\n",
      "http://www.it.kmitl.ac.th/~teerapong/news_archive/article-jul-3273.html\n",
      "http://www.it.kmitl.ac.th/~teerapong/news_archive/article-jul-3870.html\n",
      "http://www.it.kmitl.ac.th/~teerapong/news_archive/article-jul-0803.html\n",
      "http://www.it.kmitl.ac.th/~teerapong/news_archive/article-jul-4157.html\n",
      "http://www.it.kmitl.ac.th/~teerapong/news_archive/article-jul-0297.html\n",
      "http://www.it.kmitl.ac.th/~teerapong/news_archive/article-jul-4908.html\n",
      "http://www.it.kmitl.ac.th/~teerapong/news_archive/article-jul-1013.html\n",
      "http://www.it.kmitl.ac.th/~teerapong/news_archive/article-jul-4496.html\n",
      "http://www.it.kmitl.ac.th/~teerapong/news_archive/article-jul-3168.html\n",
      "http://www.it.kmitl.ac.th/~teerapong/news_archive/article-jul-4242.html\n",
      "http://www.it.kmitl.ac.th/~teerapong/news_archive/article-jul-2527.html\n",
      "http://www.it.kmitl.ac.th/~teerapong/news_archive/article-jul-1760.html\n",
      "http://www.it.kmitl.ac.th/~teerapong/news_archive/article-jul-4400.html\n",
      "http://www.it.kmitl.ac.th/~teerapong/news_archive/article-jul-4827.html\n",
      "http://www.it.kmitl.ac.th/~teerapong/news_archive/article-jul-4341.html\n",
      "http://www.it.kmitl.ac.th/~teerapong/news_archive/article-jul-3525.html\n",
      "http://www.it.kmitl.ac.th/~teerapong/news_archive/article-jul-2544.html\n",
      "http://www.it.kmitl.ac.th/~teerapong/news_archive/article-jul-0637.html\n",
      "http://www.it.kmitl.ac.th/~teerapong/news_archive/article-jul-4798.html\n",
      "http://www.it.kmitl.ac.th/~teerapong/news_archive/article-jul-2909.html\n",
      "http://www.it.kmitl.ac.th/~teerapong/news_archive/article-jul-2815.html\n",
      "http://www.it.kmitl.ac.th/~teerapong/news_archive/article-jul-4628.html\n",
      "http://www.it.kmitl.ac.th/~teerapong/news_archive/article-jul-1361.html\n",
      "http://www.it.kmitl.ac.th/~teerapong/news_archive/article-jul-0597.html\n",
      "http://www.it.kmitl.ac.th/~teerapong/news_archive/article-jul-2241.html\n",
      "http://www.it.kmitl.ac.th/~teerapong/news_archive/article-jul-1728.html\n",
      "http://www.it.kmitl.ac.th/~teerapong/news_archive/article-jul-1219.html\n",
      "http://www.it.kmitl.ac.th/~teerapong/news_archive/article-jul-4829.html\n",
      "http://www.it.kmitl.ac.th/~teerapong/news_archive/article-jul-1320.html\n",
      "http://www.it.kmitl.ac.th/~teerapong/news_archive/article-jul-2463.html\n",
      "http://www.it.kmitl.ac.th/~teerapong/news_archive/article-jul-3438.html\n",
      "http://www.it.kmitl.ac.th/~teerapong/news_archive/article-jul-4719.html\n",
      "http://www.it.kmitl.ac.th/~teerapong/news_archive/article-jul-3289.html\n",
      "http://www.it.kmitl.ac.th/~teerapong/news_archive/article-jul-2439.html\n",
      "http://www.it.kmitl.ac.th/~teerapong/news_archive/article-jul-3943.html\n",
      "http://www.it.kmitl.ac.th/~teerapong/news_archive/article-jul-3331.html\n",
      "http://www.it.kmitl.ac.th/~teerapong/news_archive/article-jul-3957.html\n",
      "http://www.it.kmitl.ac.th/~teerapong/news_archive/article-jul-0733.html\n",
      "http://www.it.kmitl.ac.th/~teerapong/news_archive/article-jul-0168.html\n",
      "http://www.it.kmitl.ac.th/~teerapong/news_archive/article-jul-2667.html\n",
      "http://www.it.kmitl.ac.th/~teerapong/news_archive/article-jul-4244.html\n",
      "http://www.it.kmitl.ac.th/~teerapong/news_archive/article-jul-0334.html\n",
      "http://www.it.kmitl.ac.th/~teerapong/news_archive/article-jul-0645.html\n",
      "http://www.it.kmitl.ac.th/~teerapong/news_archive/article-jul-3380.html\n",
      "http://www.it.kmitl.ac.th/~teerapong/news_archive/article-jul-0019.html\n",
      "http://www.it.kmitl.ac.th/~teerapong/news_archive/article-jul-4790.html\n",
      "http://www.it.kmitl.ac.th/~teerapong/news_archive/article-jul-4384.html\n",
      "http://www.it.kmitl.ac.th/~teerapong/news_archive/article-jul-3522.html\n",
      "http://www.it.kmitl.ac.th/~teerapong/news_archive/article-jul-1717.html\n",
      "http://www.it.kmitl.ac.th/~teerapong/news_archive/article-jul-1112.html\n",
      "http://www.it.kmitl.ac.th/~teerapong/news_archive/article-jul-0202.html\n",
      "http://www.it.kmitl.ac.th/~teerapong/news_archive/article-jul-1885.html\n",
      "http://www.it.kmitl.ac.th/~teerapong/news_archive/article-jul-3830.html\n",
      "http://www.it.kmitl.ac.th/~teerapong/news_archive/article-jul-0931.html\n",
      "http://www.it.kmitl.ac.th/~teerapong/news_archive/article-jul-1059.html\n",
      "http://www.it.kmitl.ac.th/~teerapong/news_archive/article-jul-3879.html\n",
      "http://www.it.kmitl.ac.th/~teerapong/news_archive/article-jul-4233.html\n",
      "http://www.it.kmitl.ac.th/~teerapong/news_archive/article-jul-0417.html\n",
      "http://www.it.kmitl.ac.th/~teerapong/news_archive/article-jul-3332.html\n",
      "http://www.it.kmitl.ac.th/~teerapong/news_archive/article-jul-0589.html\n",
      "http://www.it.kmitl.ac.th/~teerapong/news_archive/article-jul-4193.html\n",
      "http://www.it.kmitl.ac.th/~teerapong/news_archive/article-jul-0503.html\n",
      "http://www.it.kmitl.ac.th/~teerapong/news_archive/article-jul-1350.html\n",
      "http://www.it.kmitl.ac.th/~teerapong/news_archive/article-jul-1729.html\n",
      "http://www.it.kmitl.ac.th/~teerapong/news_archive/article-jul-4500.html\n",
      "http://www.it.kmitl.ac.th/~teerapong/news_archive/article-jul-3874.html\n",
      "http://www.it.kmitl.ac.th/~teerapong/news_archive/article-jul-2168.html\n",
      "http://www.it.kmitl.ac.th/~teerapong/news_archive/article-aug-3515.html\n",
      "http://www.it.kmitl.ac.th/~teerapong/news_archive/article-aug-1123.html\n",
      "http://www.it.kmitl.ac.th/~teerapong/news_archive/article-aug-4475.html\n",
      "http://www.it.kmitl.ac.th/~teerapong/news_archive/article-aug-3384.html\n",
      "http://www.it.kmitl.ac.th/~teerapong/news_archive/article-aug-4019.html\n",
      "http://www.it.kmitl.ac.th/~teerapong/news_archive/article-aug-0806.html\n",
      "http://www.it.kmitl.ac.th/~teerapong/news_archive/article-aug-4964.html\n",
      "http://www.it.kmitl.ac.th/~teerapong/news_archive/article-aug-4265.html\n",
      "http://www.it.kmitl.ac.th/~teerapong/news_archive/article-aug-3926.html\n",
      "http://www.it.kmitl.ac.th/~teerapong/news_archive/article-aug-4614.html\n",
      "http://www.it.kmitl.ac.th/~teerapong/news_archive/article-aug-2567.html\n",
      "http://www.it.kmitl.ac.th/~teerapong/news_archive/article-aug-4701.html\n",
      "http://www.it.kmitl.ac.th/~teerapong/news_archive/article-aug-0893.html\n",
      "http://www.it.kmitl.ac.th/~teerapong/news_archive/article-aug-4668.html\n",
      "http://www.it.kmitl.ac.th/~teerapong/news_archive/article-aug-1637.html\n",
      "http://www.it.kmitl.ac.th/~teerapong/news_archive/article-aug-0324.html\n",
      "http://www.it.kmitl.ac.th/~teerapong/news_archive/article-aug-0908.html\n",
      "http://www.it.kmitl.ac.th/~teerapong/news_archive/article-aug-1443.html\n",
      "http://www.it.kmitl.ac.th/~teerapong/news_archive/article-aug-3079.html\n",
      "http://www.it.kmitl.ac.th/~teerapong/news_archive/article-aug-0896.html\n",
      "http://www.it.kmitl.ac.th/~teerapong/news_archive/article-aug-4896.html\n",
      "http://www.it.kmitl.ac.th/~teerapong/news_archive/article-aug-3579.html\n",
      "http://www.it.kmitl.ac.th/~teerapong/news_archive/article-aug-4658.html\n",
      "http://www.it.kmitl.ac.th/~teerapong/news_archive/article-aug-2737.html\n",
      "http://www.it.kmitl.ac.th/~teerapong/news_archive/article-aug-1784.html\n",
      "http://www.it.kmitl.ac.th/~teerapong/news_archive/article-aug-2063.html\n",
      "http://www.it.kmitl.ac.th/~teerapong/news_archive/article-aug-1532.html\n",
      "http://www.it.kmitl.ac.th/~teerapong/news_archive/article-aug-0644.html\n",
      "http://www.it.kmitl.ac.th/~teerapong/news_archive/article-aug-3247.html\n",
      "http://www.it.kmitl.ac.th/~teerapong/news_archive/article-aug-2464.html\n",
      "http://www.it.kmitl.ac.th/~teerapong/news_archive/article-aug-2142.html\n",
      "http://www.it.kmitl.ac.th/~teerapong/news_archive/article-aug-1157.html\n",
      "http://www.it.kmitl.ac.th/~teerapong/news_archive/article-aug-2119.html\n",
      "http://www.it.kmitl.ac.th/~teerapong/news_archive/article-aug-3859.html\n",
      "http://www.it.kmitl.ac.th/~teerapong/news_archive/article-aug-1614.html\n",
      "http://www.it.kmitl.ac.th/~teerapong/news_archive/article-aug-3206.html\n",
      "http://www.it.kmitl.ac.th/~teerapong/news_archive/article-aug-3335.html\n",
      "http://www.it.kmitl.ac.th/~teerapong/news_archive/article-aug-2889.html\n",
      "http://www.it.kmitl.ac.th/~teerapong/news_archive/article-aug-0763.html\n",
      "http://www.it.kmitl.ac.th/~teerapong/news_archive/article-aug-0648.html\n",
      "http://www.it.kmitl.ac.th/~teerapong/news_archive/article-aug-1226.html\n",
      "http://www.it.kmitl.ac.th/~teerapong/news_archive/article-aug-2762.html\n",
      "http://www.it.kmitl.ac.th/~teerapong/news_archive/article-aug-0319.html\n",
      "http://www.it.kmitl.ac.th/~teerapong/news_archive/article-aug-3240.html\n",
      "http://www.it.kmitl.ac.th/~teerapong/news_archive/article-aug-1817.html\n",
      "http://www.it.kmitl.ac.th/~teerapong/news_archive/article-aug-0781.html\n",
      "http://www.it.kmitl.ac.th/~teerapong/news_archive/article-aug-4887.html\n",
      "http://www.it.kmitl.ac.th/~teerapong/news_archive/article-aug-4692.html\n",
      "http://www.it.kmitl.ac.th/~teerapong/news_archive/article-aug-0685.html\n",
      "http://www.it.kmitl.ac.th/~teerapong/news_archive/article-aug-1101.html\n",
      "http://www.it.kmitl.ac.th/~teerapong/news_archive/article-aug-1823.html\n",
      "http://www.it.kmitl.ac.th/~teerapong/news_archive/article-aug-3199.html\n",
      "http://www.it.kmitl.ac.th/~teerapong/news_archive/article-aug-0176.html\n",
      "http://www.it.kmitl.ac.th/~teerapong/news_archive/article-aug-1452.html\n",
      "http://www.it.kmitl.ac.th/~teerapong/news_archive/article-aug-3112.html\n",
      "http://www.it.kmitl.ac.th/~teerapong/news_archive/article-aug-0373.html\n",
      "http://www.it.kmitl.ac.th/~teerapong/news_archive/article-aug-4936.html\n",
      "http://www.it.kmitl.ac.th/~teerapong/news_archive/article-aug-1558.html\n",
      "http://www.it.kmitl.ac.th/~teerapong/news_archive/article-aug-3754.html\n",
      "http://www.it.kmitl.ac.th/~teerapong/news_archive/article-aug-2783.html\n",
      "http://www.it.kmitl.ac.th/~teerapong/news_archive/article-aug-4587.html\n",
      "http://www.it.kmitl.ac.th/~teerapong/news_archive/article-aug-3962.html\n",
      "http://www.it.kmitl.ac.th/~teerapong/news_archive/article-aug-0665.html\n",
      "http://www.it.kmitl.ac.th/~teerapong/news_archive/article-aug-3312.html\n",
      "http://www.it.kmitl.ac.th/~teerapong/news_archive/article-aug-2549.html\n",
      "http://www.it.kmitl.ac.th/~teerapong/news_archive/article-aug-4009.html\n",
      "http://www.it.kmitl.ac.th/~teerapong/news_archive/article-aug-2180.html\n",
      "http://www.it.kmitl.ac.th/~teerapong/news_archive/article-aug-3857.html\n",
      "http://www.it.kmitl.ac.th/~teerapong/news_archive/article-aug-3877.html\n",
      "http://www.it.kmitl.ac.th/~teerapong/news_archive/article-aug-3101.html\n",
      "http://www.it.kmitl.ac.th/~teerapong/news_archive/article-aug-3408.html\n",
      "http://www.it.kmitl.ac.th/~teerapong/news_archive/article-aug-3126.html\n",
      "http://www.it.kmitl.ac.th/~teerapong/news_archive/article-aug-2688.html\n",
      "http://www.it.kmitl.ac.th/~teerapong/news_archive/article-aug-2601.html\n",
      "http://www.it.kmitl.ac.th/~teerapong/news_archive/article-aug-1976.html\n",
      "http://www.it.kmitl.ac.th/~teerapong/news_archive/article-aug-4015.html\n",
      "http://www.it.kmitl.ac.th/~teerapong/news_archive/article-aug-4910.html\n",
      "http://www.it.kmitl.ac.th/~teerapong/news_archive/article-aug-1990.html\n",
      "http://www.it.kmitl.ac.th/~teerapong/news_archive/article-aug-3360.html\n",
      "http://www.it.kmitl.ac.th/~teerapong/news_archive/article-aug-3213.html\n",
      "http://www.it.kmitl.ac.th/~teerapong/news_archive/article-aug-3564.html\n",
      "http://www.it.kmitl.ac.th/~teerapong/news_archive/article-aug-4998.html\n",
      "http://www.it.kmitl.ac.th/~teerapong/news_archive/article-aug-0801.html\n",
      "http://www.it.kmitl.ac.th/~teerapong/news_archive/article-aug-4456.html\n",
      "http://www.it.kmitl.ac.th/~teerapong/news_archive/article-aug-4931.html\n",
      "http://www.it.kmitl.ac.th/~teerapong/news_archive/article-aug-4232.html\n",
      "http://www.it.kmitl.ac.th/~teerapong/news_archive/article-aug-1046.html\n",
      "http://www.it.kmitl.ac.th/~teerapong/news_archive/article-aug-3940.html\n",
      "http://www.it.kmitl.ac.th/~teerapong/news_archive/article-aug-4740.html\n",
      "http://www.it.kmitl.ac.th/~teerapong/news_archive/article-aug-2812.html\n",
      "http://www.it.kmitl.ac.th/~teerapong/news_archive/article-aug-0633.html\n",
      "http://www.it.kmitl.ac.th/~teerapong/news_archive/article-aug-3280.html\n",
      "http://www.it.kmitl.ac.th/~teerapong/news_archive/article-aug-4746.html\n",
      "http://www.it.kmitl.ac.th/~teerapong/news_archive/article-aug-4220.html\n",
      "http://www.it.kmitl.ac.th/~teerapong/news_archive/article-aug-1720.html\n",
      "http://www.it.kmitl.ac.th/~teerapong/news_archive/article-aug-1390.html\n",
      "http://www.it.kmitl.ac.th/~teerapong/news_archive/article-aug-2437.html\n",
      "http://www.it.kmitl.ac.th/~teerapong/news_archive/article-aug-1486.html\n",
      "http://www.it.kmitl.ac.th/~teerapong/news_archive/article-aug-2512.html\n",
      "http://www.it.kmitl.ac.th/~teerapong/news_archive/article-aug-1933.html\n",
      "http://www.it.kmitl.ac.th/~teerapong/news_archive/article-aug-1337.html\n",
      "http://www.it.kmitl.ac.th/~teerapong/news_archive/article-aug-4172.html\n",
      "http://www.it.kmitl.ac.th/~teerapong/news_archive/article-aug-3301.html\n",
      "http://www.it.kmitl.ac.th/~teerapong/news_archive/article-aug-2517.html\n",
      "http://www.it.kmitl.ac.th/~teerapong/news_archive/article-aug-4672.html\n",
      "http://www.it.kmitl.ac.th/~teerapong/news_archive/article-aug-0800.html\n",
      "http://www.it.kmitl.ac.th/~teerapong/news_archive/article-aug-0840.html\n",
      "http://www.it.kmitl.ac.th/~teerapong/news_archive/article-aug-4831.html\n",
      "http://www.it.kmitl.ac.th/~teerapong/news_archive/article-aug-2563.html\n",
      "http://www.it.kmitl.ac.th/~teerapong/news_archive/article-aug-4625.html\n",
      "http://www.it.kmitl.ac.th/~teerapong/news_archive/article-aug-1797.html\n",
      "http://www.it.kmitl.ac.th/~teerapong/news_archive/article-aug-2487.html\n",
      "http://www.it.kmitl.ac.th/~teerapong/news_archive/article-aug-0053.html\n",
      "http://www.it.kmitl.ac.th/~teerapong/news_archive/article-aug-1767.html\n",
      "http://www.it.kmitl.ac.th/~teerapong/news_archive/article-aug-3362.html\n",
      "http://www.it.kmitl.ac.th/~teerapong/news_archive/article-aug-1146.html\n",
      "http://www.it.kmitl.ac.th/~teerapong/news_archive/article-sep-1375.html\n",
      "http://www.it.kmitl.ac.th/~teerapong/news_archive/article-sep-3874.html\n",
      "http://www.it.kmitl.ac.th/~teerapong/news_archive/article-sep-0096.html\n",
      "http://www.it.kmitl.ac.th/~teerapong/news_archive/article-sep-3814.html\n",
      "http://www.it.kmitl.ac.th/~teerapong/news_archive/article-sep-4619.html\n",
      "http://www.it.kmitl.ac.th/~teerapong/news_archive/article-sep-3639.html\n",
      "http://www.it.kmitl.ac.th/~teerapong/news_archive/article-sep-4996.html\n",
      "http://www.it.kmitl.ac.th/~teerapong/news_archive/article-sep-3370.html\n",
      "http://www.it.kmitl.ac.th/~teerapong/news_archive/article-sep-0503.html\n",
      "http://www.it.kmitl.ac.th/~teerapong/news_archive/article-sep-4426.html\n",
      "http://www.it.kmitl.ac.th/~teerapong/news_archive/article-sep-1785.html\n",
      "http://www.it.kmitl.ac.th/~teerapong/news_archive/article-sep-3918.html\n",
      "http://www.it.kmitl.ac.th/~teerapong/news_archive/article-sep-0401.html\n",
      "http://www.it.kmitl.ac.th/~teerapong/news_archive/article-sep-2816.html\n",
      "http://www.it.kmitl.ac.th/~teerapong/news_archive/article-sep-3016.html\n",
      "http://www.it.kmitl.ac.th/~teerapong/news_archive/article-sep-2767.html\n",
      "http://www.it.kmitl.ac.th/~teerapong/news_archive/article-sep-4852.html\n",
      "http://www.it.kmitl.ac.th/~teerapong/news_archive/article-sep-1803.html\n",
      "http://www.it.kmitl.ac.th/~teerapong/news_archive/article-sep-0386.html\n",
      "http://www.it.kmitl.ac.th/~teerapong/news_archive/article-sep-3587.html\n",
      "http://www.it.kmitl.ac.th/~teerapong/news_archive/article-sep-1349.html\n",
      "http://www.it.kmitl.ac.th/~teerapong/news_archive/article-sep-3570.html\n",
      "http://www.it.kmitl.ac.th/~teerapong/news_archive/article-sep-4970.html\n",
      "http://www.it.kmitl.ac.th/~teerapong/news_archive/article-sep-0920.html\n",
      "http://www.it.kmitl.ac.th/~teerapong/news_archive/article-sep-4665.html\n",
      "http://www.it.kmitl.ac.th/~teerapong/news_archive/article-sep-3053.html\n",
      "http://www.it.kmitl.ac.th/~teerapong/news_archive/article-sep-4093.html\n",
      "http://www.it.kmitl.ac.th/~teerapong/news_archive/article-sep-1145.html\n",
      "http://www.it.kmitl.ac.th/~teerapong/news_archive/article-sep-3077.html\n",
      "http://www.it.kmitl.ac.th/~teerapong/news_archive/article-sep-2562.html\n",
      "http://www.it.kmitl.ac.th/~teerapong/news_archive/article-sep-4352.html\n",
      "http://www.it.kmitl.ac.th/~teerapong/news_archive/article-sep-2859.html\n",
      "http://www.it.kmitl.ac.th/~teerapong/news_archive/article-sep-3900.html\n",
      "http://www.it.kmitl.ac.th/~teerapong/news_archive/article-sep-3760.html\n",
      "http://www.it.kmitl.ac.th/~teerapong/news_archive/article-sep-2440.html\n",
      "http://www.it.kmitl.ac.th/~teerapong/news_archive/article-sep-2872.html\n",
      "http://www.it.kmitl.ac.th/~teerapong/news_archive/article-sep-4414.html\n",
      "http://www.it.kmitl.ac.th/~teerapong/news_archive/article-sep-4877.html\n",
      "http://www.it.kmitl.ac.th/~teerapong/news_archive/article-sep-3592.html\n",
      "http://www.it.kmitl.ac.th/~teerapong/news_archive/article-sep-0022.html\n",
      "http://www.it.kmitl.ac.th/~teerapong/news_archive/article-sep-0232.html\n",
      "http://www.it.kmitl.ac.th/~teerapong/news_archive/article-sep-1748.html\n",
      "http://www.it.kmitl.ac.th/~teerapong/news_archive/article-sep-4345.html\n",
      "http://www.it.kmitl.ac.th/~teerapong/news_archive/article-sep-1443.html\n",
      "http://www.it.kmitl.ac.th/~teerapong/news_archive/article-sep-4275.html\n",
      "http://www.it.kmitl.ac.th/~teerapong/news_archive/article-sep-0555.html\n",
      "http://www.it.kmitl.ac.th/~teerapong/news_archive/article-sep-4613.html\n",
      "http://www.it.kmitl.ac.th/~teerapong/news_archive/article-sep-2949.html\n",
      "http://www.it.kmitl.ac.th/~teerapong/news_archive/article-sep-3287.html\n",
      "http://www.it.kmitl.ac.th/~teerapong/news_archive/article-sep-4860.html\n",
      "http://www.it.kmitl.ac.th/~teerapong/news_archive/article-sep-3046.html\n",
      "http://www.it.kmitl.ac.th/~teerapong/news_archive/article-sep-4890.html\n",
      "http://www.it.kmitl.ac.th/~teerapong/news_archive/article-sep-3678.html\n",
      "http://www.it.kmitl.ac.th/~teerapong/news_archive/article-sep-3602.html\n",
      "http://www.it.kmitl.ac.th/~teerapong/news_archive/article-sep-4876.html\n",
      "http://www.it.kmitl.ac.th/~teerapong/news_archive/article-sep-4207.html\n",
      "http://www.it.kmitl.ac.th/~teerapong/news_archive/article-sep-1238.html\n",
      "http://www.it.kmitl.ac.th/~teerapong/news_archive/article-sep-4867.html\n",
      "http://www.it.kmitl.ac.th/~teerapong/news_archive/article-sep-0823.html\n",
      "http://www.it.kmitl.ac.th/~teerapong/news_archive/article-sep-0254.html\n",
      "http://www.it.kmitl.ac.th/~teerapong/news_archive/article-sep-3264.html\n",
      "http://www.it.kmitl.ac.th/~teerapong/news_archive/article-sep-2587.html\n",
      "http://www.it.kmitl.ac.th/~teerapong/news_archive/article-sep-4095.html\n",
      "http://www.it.kmitl.ac.th/~teerapong/news_archive/article-sep-1406.html\n",
      "http://www.it.kmitl.ac.th/~teerapong/news_archive/article-sep-2272.html\n",
      "http://www.it.kmitl.ac.th/~teerapong/news_archive/article-sep-0584.html\n",
      "http://www.it.kmitl.ac.th/~teerapong/news_archive/article-sep-4404.html\n",
      "http://www.it.kmitl.ac.th/~teerapong/news_archive/article-sep-1405.html\n",
      "http://www.it.kmitl.ac.th/~teerapong/news_archive/article-sep-2520.html\n",
      "http://www.it.kmitl.ac.th/~teerapong/news_archive/article-sep-4936.html\n",
      "http://www.it.kmitl.ac.th/~teerapong/news_archive/article-sep-1696.html\n",
      "http://www.it.kmitl.ac.th/~teerapong/news_archive/article-sep-3711.html\n",
      "http://www.it.kmitl.ac.th/~teerapong/news_archive/article-sep-3745.html\n",
      "http://www.it.kmitl.ac.th/~teerapong/news_archive/article-sep-0082.html\n",
      "http://www.it.kmitl.ac.th/~teerapong/news_archive/article-sep-3128.html\n",
      "http://www.it.kmitl.ac.th/~teerapong/news_archive/article-sep-4623.html\n",
      "http://www.it.kmitl.ac.th/~teerapong/news_archive/article-sep-0592.html\n",
      "http://www.it.kmitl.ac.th/~teerapong/news_archive/article-sep-1313.html\n",
      "http://www.it.kmitl.ac.th/~teerapong/news_archive/article-sep-1672.html\n",
      "http://www.it.kmitl.ac.th/~teerapong/news_archive/article-sep-0863.html\n",
      "http://www.it.kmitl.ac.th/~teerapong/news_archive/article-sep-1411.html\n",
      "http://www.it.kmitl.ac.th/~teerapong/news_archive/article-sep-3583.html\n",
      "http://www.it.kmitl.ac.th/~teerapong/news_archive/article-sep-2426.html\n",
      "http://www.it.kmitl.ac.th/~teerapong/news_archive/article-sep-3558.html\n",
      "http://www.it.kmitl.ac.th/~teerapong/news_archive/article-sep-1539.html\n",
      "http://www.it.kmitl.ac.th/~teerapong/news_archive/article-sep-3347.html\n",
      "http://www.it.kmitl.ac.th/~teerapong/news_archive/article-sep-2082.html\n",
      "http://www.it.kmitl.ac.th/~teerapong/news_archive/article-sep-4027.html\n",
      "http://www.it.kmitl.ac.th/~teerapong/news_archive/article-sep-4329.html\n",
      "http://www.it.kmitl.ac.th/~teerapong/news_archive/article-sep-4851.html\n",
      "http://www.it.kmitl.ac.th/~teerapong/news_archive/article-sep-1519.html\n",
      "http://www.it.kmitl.ac.th/~teerapong/news_archive/article-sep-1782.html\n",
      "http://www.it.kmitl.ac.th/~teerapong/news_archive/article-sep-4130.html\n",
      "http://www.it.kmitl.ac.th/~teerapong/news_archive/article-sep-2601.html\n",
      "http://www.it.kmitl.ac.th/~teerapong/news_archive/article-sep-0226.html\n",
      "http://www.it.kmitl.ac.th/~teerapong/news_archive/article-sep-2914.html\n",
      "http://www.it.kmitl.ac.th/~teerapong/news_archive/article-sep-0174.html\n",
      "http://www.it.kmitl.ac.th/~teerapong/news_archive/article-sep-4443.html\n",
      "http://www.it.kmitl.ac.th/~teerapong/news_archive/article-sep-0063.html\n",
      "http://www.it.kmitl.ac.th/~teerapong/news_archive/article-sep-4940.html\n",
      "http://www.it.kmitl.ac.th/~teerapong/news_archive/article-sep-2528.html\n",
      "http://www.it.kmitl.ac.th/~teerapong/news_archive/article-sep-4107.html\n",
      "http://www.it.kmitl.ac.th/~teerapong/news_archive/article-sep-2374.html\n",
      "http://www.it.kmitl.ac.th/~teerapong/news_archive/article-sep-3813.html\n",
      "http://www.it.kmitl.ac.th/~teerapong/news_archive/article-sep-2892.html\n",
      "http://www.it.kmitl.ac.th/~teerapong/news_archive/article-sep-0388.html\n",
      "http://www.it.kmitl.ac.th/~teerapong/news_archive/article-sep-3414.html\n",
      "http://www.it.kmitl.ac.th/~teerapong/news_archive/article-sep-2293.html\n",
      "http://www.it.kmitl.ac.th/~teerapong/news_archive/article-sep-1752.html\n",
      "http://www.it.kmitl.ac.th/~teerapong/news_archive/article-sep-2040.html\n",
      "http://www.it.kmitl.ac.th/~teerapong/news_archive/article-sep-0237.html\n",
      "http://www.it.kmitl.ac.th/~teerapong/news_archive/article-sep-2517.html\n",
      "http://www.it.kmitl.ac.th/~teerapong/news_archive/article-oct-3861.html\n",
      "http://www.it.kmitl.ac.th/~teerapong/news_archive/article-oct-0443.html\n",
      "http://www.it.kmitl.ac.th/~teerapong/news_archive/article-oct-0777.html\n",
      "http://www.it.kmitl.ac.th/~teerapong/news_archive/article-oct-1914.html\n",
      "http://www.it.kmitl.ac.th/~teerapong/news_archive/article-oct-2035.html\n",
      "http://www.it.kmitl.ac.th/~teerapong/news_archive/article-oct-0709.html\n",
      "http://www.it.kmitl.ac.th/~teerapong/news_archive/article-oct-1226.html\n",
      "http://www.it.kmitl.ac.th/~teerapong/news_archive/article-oct-0945.html\n",
      "http://www.it.kmitl.ac.th/~teerapong/news_archive/article-oct-1295.html\n",
      "http://www.it.kmitl.ac.th/~teerapong/news_archive/article-oct-4199.html\n",
      "http://www.it.kmitl.ac.th/~teerapong/news_archive/article-oct-0924.html\n",
      "http://www.it.kmitl.ac.th/~teerapong/news_archive/article-oct-3880.html\n",
      "http://www.it.kmitl.ac.th/~teerapong/news_archive/article-oct-3790.html\n",
      "http://www.it.kmitl.ac.th/~teerapong/news_archive/article-oct-3326.html\n",
      "http://www.it.kmitl.ac.th/~teerapong/news_archive/article-oct-1924.html\n",
      "http://www.it.kmitl.ac.th/~teerapong/news_archive/article-oct-3040.html\n",
      "http://www.it.kmitl.ac.th/~teerapong/news_archive/article-oct-1787.html\n",
      "http://www.it.kmitl.ac.th/~teerapong/news_archive/article-oct-2701.html\n",
      "http://www.it.kmitl.ac.th/~teerapong/news_archive/article-oct-2317.html\n",
      "http://www.it.kmitl.ac.th/~teerapong/news_archive/article-oct-0300.html\n",
      "http://www.it.kmitl.ac.th/~teerapong/news_archive/article-oct-4879.html\n",
      "http://www.it.kmitl.ac.th/~teerapong/news_archive/article-oct-0163.html\n",
      "http://www.it.kmitl.ac.th/~teerapong/news_archive/article-oct-4089.html\n",
      "http://www.it.kmitl.ac.th/~teerapong/news_archive/article-oct-4812.html\n",
      "http://www.it.kmitl.ac.th/~teerapong/news_archive/article-oct-4850.html\n",
      "http://www.it.kmitl.ac.th/~teerapong/news_archive/article-oct-3470.html\n",
      "http://www.it.kmitl.ac.th/~teerapong/news_archive/article-oct-4758.html\n",
      "http://www.it.kmitl.ac.th/~teerapong/news_archive/article-oct-2145.html\n",
      "http://www.it.kmitl.ac.th/~teerapong/news_archive/article-oct-3548.html\n",
      "http://www.it.kmitl.ac.th/~teerapong/news_archive/article-oct-3256.html\n",
      "http://www.it.kmitl.ac.th/~teerapong/news_archive/article-oct-4836.html\n",
      "http://www.it.kmitl.ac.th/~teerapong/news_archive/article-oct-2748.html\n",
      "http://www.it.kmitl.ac.th/~teerapong/news_archive/article-oct-0832.html\n",
      "http://www.it.kmitl.ac.th/~teerapong/news_archive/article-oct-2828.html\n",
      "http://www.it.kmitl.ac.th/~teerapong/news_archive/article-oct-0817.html\n",
      "http://www.it.kmitl.ac.th/~teerapong/news_archive/article-oct-2348.html\n",
      "http://www.it.kmitl.ac.th/~teerapong/news_archive/article-oct-1261.html\n",
      "http://www.it.kmitl.ac.th/~teerapong/news_archive/article-oct-0898.html\n",
      "http://www.it.kmitl.ac.th/~teerapong/news_archive/article-oct-1441.html\n",
      "http://www.it.kmitl.ac.th/~teerapong/news_archive/article-oct-0064.html\n",
      "http://www.it.kmitl.ac.th/~teerapong/news_archive/article-oct-2801.html\n",
      "http://www.it.kmitl.ac.th/~teerapong/news_archive/article-oct-2209.html\n",
      "http://www.it.kmitl.ac.th/~teerapong/news_archive/article-oct-2955.html\n",
      "http://www.it.kmitl.ac.th/~teerapong/news_archive/article-oct-3459.html\n",
      "http://www.it.kmitl.ac.th/~teerapong/news_archive/article-oct-4140.html\n",
      "http://www.it.kmitl.ac.th/~teerapong/news_archive/article-oct-4990.html\n",
      "http://www.it.kmitl.ac.th/~teerapong/news_archive/article-oct-3207.html\n",
      "http://www.it.kmitl.ac.th/~teerapong/news_archive/article-oct-0844.html\n",
      "http://www.it.kmitl.ac.th/~teerapong/news_archive/article-oct-2177.html\n",
      "http://www.it.kmitl.ac.th/~teerapong/news_archive/article-oct-3103.html\n",
      "http://www.it.kmitl.ac.th/~teerapong/news_archive/article-oct-4815.html\n",
      "http://www.it.kmitl.ac.th/~teerapong/news_archive/article-oct-4038.html\n",
      "http://www.it.kmitl.ac.th/~teerapong/news_archive/article-oct-1049.html\n",
      "http://www.it.kmitl.ac.th/~teerapong/news_archive/article-oct-1011.html\n",
      "http://www.it.kmitl.ac.th/~teerapong/news_archive/article-oct-0417.html\n",
      "http://www.it.kmitl.ac.th/~teerapong/news_archive/article-oct-3162.html\n",
      "http://www.it.kmitl.ac.th/~teerapong/news_archive/article-oct-0421.html\n",
      "http://www.it.kmitl.ac.th/~teerapong/news_archive/article-oct-2333.html\n",
      "http://www.it.kmitl.ac.th/~teerapong/news_archive/article-oct-4803.html\n",
      "http://www.it.kmitl.ac.th/~teerapong/news_archive/article-oct-1193.html\n",
      "http://www.it.kmitl.ac.th/~teerapong/news_archive/article-oct-4546.html\n",
      "http://www.it.kmitl.ac.th/~teerapong/news_archive/article-oct-0057.html\n",
      "http://www.it.kmitl.ac.th/~teerapong/news_archive/article-oct-4981.html\n",
      "http://www.it.kmitl.ac.th/~teerapong/news_archive/article-oct-4914.html\n",
      "http://www.it.kmitl.ac.th/~teerapong/news_archive/article-oct-1753.html\n",
      "http://www.it.kmitl.ac.th/~teerapong/news_archive/article-oct-2102.html\n",
      "http://www.it.kmitl.ac.th/~teerapong/news_archive/article-oct-2774.html\n",
      "http://www.it.kmitl.ac.th/~teerapong/news_archive/article-oct-4605.html\n",
      "http://www.it.kmitl.ac.th/~teerapong/news_archive/article-oct-3910.html\n",
      "http://www.it.kmitl.ac.th/~teerapong/news_archive/article-oct-2454.html\n",
      "http://www.it.kmitl.ac.th/~teerapong/news_archive/article-oct-0059.html\n",
      "http://www.it.kmitl.ac.th/~teerapong/news_archive/article-oct-0992.html\n",
      "http://www.it.kmitl.ac.th/~teerapong/news_archive/article-oct-2740.html\n",
      "http://www.it.kmitl.ac.th/~teerapong/news_archive/article-oct-2886.html\n",
      "http://www.it.kmitl.ac.th/~teerapong/news_archive/article-oct-4166.html\n",
      "http://www.it.kmitl.ac.th/~teerapong/news_archive/article-oct-2188.html\n",
      "http://www.it.kmitl.ac.th/~teerapong/news_archive/article-oct-4084.html\n",
      "http://www.it.kmitl.ac.th/~teerapong/news_archive/article-oct-2574.html\n",
      "http://www.it.kmitl.ac.th/~teerapong/news_archive/article-oct-3663.html\n",
      "http://www.it.kmitl.ac.th/~teerapong/news_archive/article-oct-2181.html\n",
      "http://www.it.kmitl.ac.th/~teerapong/news_archive/article-oct-0999.html\n",
      "http://www.it.kmitl.ac.th/~teerapong/news_archive/article-oct-2121.html\n",
      "http://www.it.kmitl.ac.th/~teerapong/news_archive/article-oct-2094.html\n",
      "http://www.it.kmitl.ac.th/~teerapong/news_archive/article-oct-2301.html\n",
      "http://www.it.kmitl.ac.th/~teerapong/news_archive/article-oct-0815.html\n",
      "http://www.it.kmitl.ac.th/~teerapong/news_archive/article-oct-3222.html\n",
      "http://www.it.kmitl.ac.th/~teerapong/news_archive/article-oct-4804.html\n",
      "http://www.it.kmitl.ac.th/~teerapong/news_archive/article-oct-1215.html\n",
      "http://www.it.kmitl.ac.th/~teerapong/news_archive/article-oct-2080.html\n",
      "http://www.it.kmitl.ac.th/~teerapong/news_archive/article-oct-0412.html\n",
      "http://www.it.kmitl.ac.th/~teerapong/news_archive/article-oct-3387.html\n",
      "http://www.it.kmitl.ac.th/~teerapong/news_archive/article-oct-3524.html\n",
      "http://www.it.kmitl.ac.th/~teerapong/news_archive/article-oct-0580.html\n",
      "http://www.it.kmitl.ac.th/~teerapong/news_archive/article-oct-0746.html\n",
      "http://www.it.kmitl.ac.th/~teerapong/news_archive/article-oct-1921.html\n",
      "http://www.it.kmitl.ac.th/~teerapong/news_archive/article-oct-0382.html\n",
      "http://www.it.kmitl.ac.th/~teerapong/news_archive/article-oct-1007.html\n",
      "http://www.it.kmitl.ac.th/~teerapong/news_archive/article-oct-3749.html\n",
      "http://www.it.kmitl.ac.th/~teerapong/news_archive/article-oct-3029.html\n",
      "http://www.it.kmitl.ac.th/~teerapong/news_archive/article-oct-0721.html\n",
      "http://www.it.kmitl.ac.th/~teerapong/news_archive/article-oct-0108.html\n",
      "http://www.it.kmitl.ac.th/~teerapong/news_archive/article-oct-3547.html\n",
      "http://www.it.kmitl.ac.th/~teerapong/news_archive/article-oct-0113.html\n",
      "http://www.it.kmitl.ac.th/~teerapong/news_archive/article-oct-0512.html\n",
      "http://www.it.kmitl.ac.th/~teerapong/news_archive/article-oct-1276.html\n",
      "http://www.it.kmitl.ac.th/~teerapong/news_archive/article-oct-0911.html\n",
      "http://www.it.kmitl.ac.th/~teerapong/news_archive/article-oct-2527.html\n",
      "http://www.it.kmitl.ac.th/~teerapong/news_archive/article-oct-0621.html\n",
      "http://www.it.kmitl.ac.th/~teerapong/news_archive/article-oct-1756.html\n",
      "http://www.it.kmitl.ac.th/~teerapong/news_archive/article-oct-3563.html\n",
      "http://www.it.kmitl.ac.th/~teerapong/news_archive/article-oct-3862.html\n",
      "http://www.it.kmitl.ac.th/~teerapong/news_archive/article-oct-2448.html\n",
      "http://www.it.kmitl.ac.th/~teerapong/news_archive/article-oct-1751.html\n",
      "http://www.it.kmitl.ac.th/~teerapong/news_archive/article-oct-1516.html\n",
      "http://www.it.kmitl.ac.th/~teerapong/news_archive/article-oct-3160.html\n",
      "http://www.it.kmitl.ac.th/~teerapong/news_archive/article-oct-0660.html\n",
      "http://www.it.kmitl.ac.th/~teerapong/news_archive/article-oct-2835.html\n",
      "http://www.it.kmitl.ac.th/~teerapong/news_archive/article-oct-4649.html\n",
      "http://www.it.kmitl.ac.th/~teerapong/news_archive/article-oct-3920.html\n",
      "http://www.it.kmitl.ac.th/~teerapong/news_archive/article-oct-2293.html\n",
      "http://www.it.kmitl.ac.th/~teerapong/news_archive/article-oct-2189.html\n",
      "http://www.it.kmitl.ac.th/~teerapong/news_archive/article-oct-4749.html\n",
      "http://www.it.kmitl.ac.th/~teerapong/news_archive/article-nov-3410.html\n",
      "http://www.it.kmitl.ac.th/~teerapong/news_archive/article-nov-3432.html\n",
      "http://www.it.kmitl.ac.th/~teerapong/news_archive/article-nov-3526.html\n",
      "http://www.it.kmitl.ac.th/~teerapong/news_archive/article-nov-1412.html\n",
      "http://www.it.kmitl.ac.th/~teerapong/news_archive/article-nov-2347.html\n",
      "http://www.it.kmitl.ac.th/~teerapong/news_archive/article-nov-2329.html\n",
      "http://www.it.kmitl.ac.th/~teerapong/news_archive/article-nov-0186.html\n",
      "http://www.it.kmitl.ac.th/~teerapong/news_archive/article-nov-0386.html\n",
      "http://www.it.kmitl.ac.th/~teerapong/news_archive/article-nov-1815.html\n",
      "http://www.it.kmitl.ac.th/~teerapong/news_archive/article-nov-3071.html\n",
      "http://www.it.kmitl.ac.th/~teerapong/news_archive/article-nov-3512.html\n",
      "http://www.it.kmitl.ac.th/~teerapong/news_archive/article-nov-3037.html\n",
      "http://www.it.kmitl.ac.th/~teerapong/news_archive/article-nov-4414.html\n",
      "http://www.it.kmitl.ac.th/~teerapong/news_archive/article-nov-4953.html\n",
      "http://www.it.kmitl.ac.th/~teerapong/news_archive/article-nov-2298.html\n",
      "http://www.it.kmitl.ac.th/~teerapong/news_archive/article-nov-3205.html\n",
      "http://www.it.kmitl.ac.th/~teerapong/news_archive/article-nov-0449.html\n",
      "http://www.it.kmitl.ac.th/~teerapong/news_archive/article-nov-4384.html\n",
      "http://www.it.kmitl.ac.th/~teerapong/news_archive/article-nov-4904.html\n",
      "http://www.it.kmitl.ac.th/~teerapong/news_archive/article-nov-3590.html\n",
      "http://www.it.kmitl.ac.th/~teerapong/news_archive/article-nov-3584.html\n",
      "http://www.it.kmitl.ac.th/~teerapong/news_archive/article-nov-4254.html\n",
      "http://www.it.kmitl.ac.th/~teerapong/news_archive/article-nov-2334.html\n",
      "http://www.it.kmitl.ac.th/~teerapong/news_archive/article-nov-2909.html\n",
      "http://www.it.kmitl.ac.th/~teerapong/news_archive/article-nov-3579.html\n",
      "http://www.it.kmitl.ac.th/~teerapong/news_archive/article-nov-2737.html\n",
      "http://www.it.kmitl.ac.th/~teerapong/news_archive/article-nov-4176.html\n",
      "http://www.it.kmitl.ac.th/~teerapong/news_archive/article-nov-1674.html\n",
      "http://www.it.kmitl.ac.th/~teerapong/news_archive/article-nov-1801.html\n",
      "http://www.it.kmitl.ac.th/~teerapong/news_archive/article-nov-4606.html\n",
      "http://www.it.kmitl.ac.th/~teerapong/news_archive/article-nov-2647.html\n",
      "http://www.it.kmitl.ac.th/~teerapong/news_archive/article-nov-3091.html\n",
      "http://www.it.kmitl.ac.th/~teerapong/news_archive/article-nov-2546.html\n",
      "http://www.it.kmitl.ac.th/~teerapong/news_archive/article-nov-4461.html\n",
      "http://www.it.kmitl.ac.th/~teerapong/news_archive/article-nov-2714.html\n",
      "http://www.it.kmitl.ac.th/~teerapong/news_archive/article-nov-2130.html\n",
      "http://www.it.kmitl.ac.th/~teerapong/news_archive/article-nov-3500.html\n",
      "http://www.it.kmitl.ac.th/~teerapong/news_archive/article-nov-1451.html\n",
      "http://www.it.kmitl.ac.th/~teerapong/news_archive/article-nov-0372.html\n",
      "http://www.it.kmitl.ac.th/~teerapong/news_archive/article-nov-4242.html\n",
      "http://www.it.kmitl.ac.th/~teerapong/news_archive/article-nov-2953.html\n",
      "http://www.it.kmitl.ac.th/~teerapong/news_archive/article-nov-1329.html\n",
      "http://www.it.kmitl.ac.th/~teerapong/news_archive/article-nov-2527.html\n",
      "http://www.it.kmitl.ac.th/~teerapong/news_archive/article-nov-3879.html\n",
      "http://www.it.kmitl.ac.th/~teerapong/news_archive/article-nov-4060.html\n",
      "http://www.it.kmitl.ac.th/~teerapong/news_archive/article-nov-3626.html\n",
      "http://www.it.kmitl.ac.th/~teerapong/news_archive/article-nov-3702.html\n",
      "http://www.it.kmitl.ac.th/~teerapong/news_archive/article-nov-0130.html\n",
      "http://www.it.kmitl.ac.th/~teerapong/news_archive/article-nov-4260.html\n",
      "http://www.it.kmitl.ac.th/~teerapong/news_archive/article-nov-3907.html\n",
      "http://www.it.kmitl.ac.th/~teerapong/news_archive/article-nov-0746.html\n",
      "http://www.it.kmitl.ac.th/~teerapong/news_archive/article-nov-0232.html\n",
      "http://www.it.kmitl.ac.th/~teerapong/news_archive/article-nov-1428.html\n",
      "http://www.it.kmitl.ac.th/~teerapong/news_archive/article-nov-1085.html\n",
      "http://www.it.kmitl.ac.th/~teerapong/news_archive/article-nov-1407.html\n",
      "http://www.it.kmitl.ac.th/~teerapong/news_archive/article-nov-3342.html\n",
      "http://www.it.kmitl.ac.th/~teerapong/news_archive/article-nov-4180.html\n",
      "http://www.it.kmitl.ac.th/~teerapong/news_archive/article-nov-1466.html\n",
      "http://www.it.kmitl.ac.th/~teerapong/news_archive/article-nov-4049.html\n",
      "http://www.it.kmitl.ac.th/~teerapong/news_archive/article-nov-4897.html\n",
      "http://www.it.kmitl.ac.th/~teerapong/news_archive/article-nov-0748.html\n",
      "http://www.it.kmitl.ac.th/~teerapong/news_archive/article-nov-1277.html\n",
      "http://www.it.kmitl.ac.th/~teerapong/news_archive/article-nov-0580.html\n",
      "http://www.it.kmitl.ac.th/~teerapong/news_archive/article-nov-3296.html\n",
      "http://www.it.kmitl.ac.th/~teerapong/news_archive/article-nov-4356.html\n",
      "http://www.it.kmitl.ac.th/~teerapong/news_archive/article-nov-3617.html\n",
      "http://www.it.kmitl.ac.th/~teerapong/news_archive/article-nov-1260.html\n",
      "http://www.it.kmitl.ac.th/~teerapong/news_archive/article-nov-0628.html\n",
      "http://www.it.kmitl.ac.th/~teerapong/news_archive/article-nov-0654.html\n",
      "http://www.it.kmitl.ac.th/~teerapong/news_archive/article-nov-0518.html\n",
      "http://www.it.kmitl.ac.th/~teerapong/news_archive/article-nov-2968.html\n",
      "http://www.it.kmitl.ac.th/~teerapong/news_archive/article-nov-3867.html\n",
      "http://www.it.kmitl.ac.th/~teerapong/news_archive/article-nov-0420.html\n",
      "http://www.it.kmitl.ac.th/~teerapong/news_archive/article-nov-4250.html\n",
      "http://www.it.kmitl.ac.th/~teerapong/news_archive/article-nov-4495.html\n",
      "http://www.it.kmitl.ac.th/~teerapong/news_archive/article-nov-2769.html\n",
      "http://www.it.kmitl.ac.th/~teerapong/news_archive/article-nov-1623.html\n",
      "http://www.it.kmitl.ac.th/~teerapong/news_archive/article-nov-4572.html\n",
      "http://www.it.kmitl.ac.th/~teerapong/news_archive/article-nov-1118.html\n",
      "http://www.it.kmitl.ac.th/~teerapong/news_archive/article-nov-4319.html\n",
      "http://www.it.kmitl.ac.th/~teerapong/news_archive/article-nov-0662.html\n",
      "http://www.it.kmitl.ac.th/~teerapong/news_archive/article-nov-0319.html\n",
      "http://www.it.kmitl.ac.th/~teerapong/news_archive/article-nov-1730.html\n",
      "http://www.it.kmitl.ac.th/~teerapong/news_archive/article-nov-4517.html\n",
      "http://www.it.kmitl.ac.th/~teerapong/news_archive/article-nov-1386.html\n",
      "http://www.it.kmitl.ac.th/~teerapong/news_archive/article-nov-3935.html\n",
      "http://www.it.kmitl.ac.th/~teerapong/news_archive/article-nov-0317.html\n",
      "http://www.it.kmitl.ac.th/~teerapong/news_archive/article-nov-0906.html\n",
      "http://www.it.kmitl.ac.th/~teerapong/news_archive/article-nov-2832.html\n",
      "http://www.it.kmitl.ac.th/~teerapong/news_archive/article-nov-1255.html\n",
      "http://www.it.kmitl.ac.th/~teerapong/news_archive/article-nov-4235.html\n",
      "http://www.it.kmitl.ac.th/~teerapong/news_archive/article-nov-2326.html\n",
      "http://www.it.kmitl.ac.th/~teerapong/news_archive/article-nov-1637.html\n",
      "http://www.it.kmitl.ac.th/~teerapong/news_archive/article-nov-0761.html\n",
      "http://www.it.kmitl.ac.th/~teerapong/news_archive/article-nov-4428.html\n",
      "http://www.it.kmitl.ac.th/~teerapong/news_archive/article-nov-4174.html\n",
      "http://www.it.kmitl.ac.th/~teerapong/news_archive/article-nov-2399.html\n",
      "http://www.it.kmitl.ac.th/~teerapong/news_archive/article-nov-2282.html\n",
      "http://www.it.kmitl.ac.th/~teerapong/news_archive/article-nov-1288.html\n",
      "http://www.it.kmitl.ac.th/~teerapong/news_archive/article-nov-3650.html\n",
      "http://www.it.kmitl.ac.th/~teerapong/news_archive/article-nov-0435.html\n",
      "http://www.it.kmitl.ac.th/~teerapong/news_archive/article-nov-1149.html\n",
      "http://www.it.kmitl.ac.th/~teerapong/news_archive/article-nov-0147.html\n",
      "http://www.it.kmitl.ac.th/~teerapong/news_archive/article-nov-1264.html\n",
      "http://www.it.kmitl.ac.th/~teerapong/news_archive/article-nov-2018.html\n",
      "http://www.it.kmitl.ac.th/~teerapong/news_archive/article-nov-2115.html\n",
      "http://www.it.kmitl.ac.th/~teerapong/news_archive/article-nov-4659.html\n",
      "http://www.it.kmitl.ac.th/~teerapong/news_archive/article-nov-2397.html\n",
      "http://www.it.kmitl.ac.th/~teerapong/news_archive/article-nov-1341.html\n",
      "http://www.it.kmitl.ac.th/~teerapong/news_archive/article-nov-3574.html\n",
      "http://www.it.kmitl.ac.th/~teerapong/news_archive/article-nov-2226.html\n",
      "http://www.it.kmitl.ac.th/~teerapong/news_archive/article-nov-0560.html\n",
      "http://www.it.kmitl.ac.th/~teerapong/news_archive/article-nov-4374.html\n",
      "http://www.it.kmitl.ac.th/~teerapong/news_archive/article-nov-0575.html\n",
      "http://www.it.kmitl.ac.th/~teerapong/news_archive/article-nov-1388.html\n",
      "http://www.it.kmitl.ac.th/~teerapong/news_archive/article-nov-3587.html\n",
      "http://www.it.kmitl.ac.th/~teerapong/news_archive/article-nov-0584.html\n",
      "http://www.it.kmitl.ac.th/~teerapong/news_archive/article-nov-4426.html\n",
      "http://www.it.kmitl.ac.th/~teerapong/news_archive/article-nov-2469.html\n",
      "http://www.it.kmitl.ac.th/~teerapong/news_archive/article-nov-1794.html\n",
      "http://www.it.kmitl.ac.th/~teerapong/news_archive/article-nov-1348.html\n",
      "http://www.it.kmitl.ac.th/~teerapong/news_archive/article-dec-0244.html\n",
      "http://www.it.kmitl.ac.th/~teerapong/news_archive/article-dec-0895.html\n",
      "http://www.it.kmitl.ac.th/~teerapong/news_archive/article-dec-4490.html\n",
      "http://www.it.kmitl.ac.th/~teerapong/news_archive/article-dec-0891.html\n",
      "http://www.it.kmitl.ac.th/~teerapong/news_archive/article-dec-0672.html\n",
      "http://www.it.kmitl.ac.th/~teerapong/news_archive/article-dec-3487.html\n",
      "http://www.it.kmitl.ac.th/~teerapong/news_archive/article-dec-0478.html\n",
      "http://www.it.kmitl.ac.th/~teerapong/news_archive/article-dec-2633.html\n",
      "http://www.it.kmitl.ac.th/~teerapong/news_archive/article-dec-4269.html\n",
      "http://www.it.kmitl.ac.th/~teerapong/news_archive/article-dec-1656.html\n",
      "http://www.it.kmitl.ac.th/~teerapong/news_archive/article-dec-3628.html\n",
      "http://www.it.kmitl.ac.th/~teerapong/news_archive/article-dec-2267.html\n",
      "http://www.it.kmitl.ac.th/~teerapong/news_archive/article-dec-4194.html\n",
      "http://www.it.kmitl.ac.th/~teerapong/news_archive/article-dec-2360.html\n",
      "http://www.it.kmitl.ac.th/~teerapong/news_archive/article-dec-2956.html\n",
      "http://www.it.kmitl.ac.th/~teerapong/news_archive/article-dec-4469.html\n",
      "http://www.it.kmitl.ac.th/~teerapong/news_archive/article-dec-2115.html\n",
      "http://www.it.kmitl.ac.th/~teerapong/news_archive/article-dec-0625.html\n",
      "http://www.it.kmitl.ac.th/~teerapong/news_archive/article-dec-2771.html\n",
      "http://www.it.kmitl.ac.th/~teerapong/news_archive/article-dec-0788.html\n",
      "http://www.it.kmitl.ac.th/~teerapong/news_archive/article-dec-1911.html\n",
      "http://www.it.kmitl.ac.th/~teerapong/news_archive/article-dec-3413.html\n",
      "http://www.it.kmitl.ac.th/~teerapong/news_archive/article-dec-0038.html\n",
      "http://www.it.kmitl.ac.th/~teerapong/news_archive/article-dec-0035.html\n",
      "http://www.it.kmitl.ac.th/~teerapong/news_archive/article-dec-4444.html\n",
      "http://www.it.kmitl.ac.th/~teerapong/news_archive/article-dec-4307.html\n",
      "http://www.it.kmitl.ac.th/~teerapong/news_archive/article-dec-4450.html\n",
      "http://www.it.kmitl.ac.th/~teerapong/news_archive/article-dec-3044.html\n",
      "http://www.it.kmitl.ac.th/~teerapong/news_archive/article-dec-3401.html\n",
      "http://www.it.kmitl.ac.th/~teerapong/news_archive/article-dec-1775.html\n",
      "http://www.it.kmitl.ac.th/~teerapong/news_archive/article-dec-2589.html\n",
      "http://www.it.kmitl.ac.th/~teerapong/news_archive/article-dec-3264.html\n",
      "http://www.it.kmitl.ac.th/~teerapong/news_archive/article-dec-0784.html\n",
      "http://www.it.kmitl.ac.th/~teerapong/news_archive/article-dec-2635.html\n",
      "http://www.it.kmitl.ac.th/~teerapong/news_archive/article-dec-3589.html\n",
      "http://www.it.kmitl.ac.th/~teerapong/news_archive/article-dec-3518.html\n",
      "http://www.it.kmitl.ac.th/~teerapong/news_archive/article-dec-0473.html\n",
      "http://www.it.kmitl.ac.th/~teerapong/news_archive/article-dec-2110.html\n",
      "http://www.it.kmitl.ac.th/~teerapong/news_archive/article-dec-2790.html\n",
      "http://www.it.kmitl.ac.th/~teerapong/news_archive/article-dec-0180.html\n",
      "http://www.it.kmitl.ac.th/~teerapong/news_archive/article-dec-3784.html\n",
      "http://www.it.kmitl.ac.th/~teerapong/news_archive/article-dec-3423.html\n",
      "http://www.it.kmitl.ac.th/~teerapong/news_archive/article-dec-4596.html\n",
      "http://www.it.kmitl.ac.th/~teerapong/news_archive/article-dec-1585.html\n",
      "http://www.it.kmitl.ac.th/~teerapong/news_archive/article-dec-2351.html\n",
      "http://www.it.kmitl.ac.th/~teerapong/news_archive/article-dec-2624.html\n",
      "http://www.it.kmitl.ac.th/~teerapong/news_archive/article-dec-1865.html\n",
      "http://www.it.kmitl.ac.th/~teerapong/news_archive/article-dec-0232.html\n",
      "http://www.it.kmitl.ac.th/~teerapong/news_archive/article-dec-4377.html\n",
      "http://www.it.kmitl.ac.th/~teerapong/news_archive/article-dec-4926.html\n",
      "http://www.it.kmitl.ac.th/~teerapong/news_archive/article-dec-1263.html\n",
      "http://www.it.kmitl.ac.th/~teerapong/news_archive/article-dec-1718.html\n"
     ]
    },
    {
     "name": "stdout",
     "output_type": "stream",
     "text": [
      "http://www.it.kmitl.ac.th/~teerapong/news_archive/article-dec-2008.html\n",
      "http://www.it.kmitl.ac.th/~teerapong/news_archive/article-dec-4999.html\n",
      "http://www.it.kmitl.ac.th/~teerapong/news_archive/article-dec-3411.html\n",
      "http://www.it.kmitl.ac.th/~teerapong/news_archive/article-dec-2288.html\n",
      "http://www.it.kmitl.ac.th/~teerapong/news_archive/article-dec-1460.html\n",
      "http://www.it.kmitl.ac.th/~teerapong/news_archive/article-dec-3392.html\n",
      "http://www.it.kmitl.ac.th/~teerapong/news_archive/article-dec-0393.html\n",
      "http://www.it.kmitl.ac.th/~teerapong/news_archive/article-dec-1629.html\n",
      "http://www.it.kmitl.ac.th/~teerapong/news_archive/article-dec-1156.html\n",
      "http://www.it.kmitl.ac.th/~teerapong/news_archive/article-dec-0557.html\n",
      "http://www.it.kmitl.ac.th/~teerapong/news_archive/article-dec-4844.html\n",
      "http://www.it.kmitl.ac.th/~teerapong/news_archive/article-dec-3260.html\n",
      "http://www.it.kmitl.ac.th/~teerapong/news_archive/article-dec-1963.html\n",
      "http://www.it.kmitl.ac.th/~teerapong/news_archive/article-dec-3608.html\n",
      "http://www.it.kmitl.ac.th/~teerapong/news_archive/article-dec-4161.html\n",
      "http://www.it.kmitl.ac.th/~teerapong/news_archive/article-dec-0910.html\n",
      "http://www.it.kmitl.ac.th/~teerapong/news_archive/article-dec-4820.html\n",
      "http://www.it.kmitl.ac.th/~teerapong/news_archive/article-dec-2402.html\n",
      "http://www.it.kmitl.ac.th/~teerapong/news_archive/article-dec-1135.html\n",
      "http://www.it.kmitl.ac.th/~teerapong/news_archive/article-dec-0909.html\n",
      "http://www.it.kmitl.ac.th/~teerapong/news_archive/article-dec-4678.html\n",
      "http://www.it.kmitl.ac.th/~teerapong/news_archive/article-dec-0712.html\n",
      "http://www.it.kmitl.ac.th/~teerapong/news_archive/article-dec-0481.html\n",
      "http://www.it.kmitl.ac.th/~teerapong/news_archive/article-dec-3993.html\n",
      "http://www.it.kmitl.ac.th/~teerapong/news_archive/article-dec-3175.html\n",
      "http://www.it.kmitl.ac.th/~teerapong/news_archive/article-dec-3052.html\n",
      "http://www.it.kmitl.ac.th/~teerapong/news_archive/article-dec-3186.html\n",
      "http://www.it.kmitl.ac.th/~teerapong/news_archive/article-dec-0204.html\n",
      "http://www.it.kmitl.ac.th/~teerapong/news_archive/article-dec-4675.html\n",
      "http://www.it.kmitl.ac.th/~teerapong/news_archive/article-dec-2813.html\n",
      "http://www.it.kmitl.ac.th/~teerapong/news_archive/article-dec-3030.html\n",
      "http://www.it.kmitl.ac.th/~teerapong/news_archive/article-dec-3403.html\n",
      "http://www.it.kmitl.ac.th/~teerapong/news_archive/article-dec-2445.html\n",
      "http://www.it.kmitl.ac.th/~teerapong/news_archive/article-dec-4353.html\n",
      "http://www.it.kmitl.ac.th/~teerapong/news_archive/article-dec-2117.html\n",
      "http://www.it.kmitl.ac.th/~teerapong/news_archive/article-dec-3966.html\n",
      "http://www.it.kmitl.ac.th/~teerapong/news_archive/article-dec-1690.html\n",
      "http://www.it.kmitl.ac.th/~teerapong/news_archive/article-dec-3207.html\n",
      "http://www.it.kmitl.ac.th/~teerapong/news_archive/article-dec-2963.html\n",
      "http://www.it.kmitl.ac.th/~teerapong/news_archive/article-dec-2023.html\n",
      "http://www.it.kmitl.ac.th/~teerapong/news_archive/article-dec-2397.html\n",
      "http://www.it.kmitl.ac.th/~teerapong/news_archive/article-dec-3903.html\n",
      "http://www.it.kmitl.ac.th/~teerapong/news_archive/article-dec-3692.html\n",
      "http://www.it.kmitl.ac.th/~teerapong/news_archive/article-dec-0367.html\n",
      "http://www.it.kmitl.ac.th/~teerapong/news_archive/article-dec-3169.html\n",
      "http://www.it.kmitl.ac.th/~teerapong/news_archive/article-dec-0271.html\n",
      "http://www.it.kmitl.ac.th/~teerapong/news_archive/article-dec-4210.html\n",
      "http://www.it.kmitl.ac.th/~teerapong/news_archive/article-dec-0983.html\n",
      "http://www.it.kmitl.ac.th/~teerapong/news_archive/article-dec-3570.html\n",
      "http://www.it.kmitl.ac.th/~teerapong/news_archive/article-dec-2331.html\n",
      "http://www.it.kmitl.ac.th/~teerapong/news_archive/article-dec-3694.html\n",
      "http://www.it.kmitl.ac.th/~teerapong/news_archive/article-dec-1576.html\n",
      "http://www.it.kmitl.ac.th/~teerapong/news_archive/article-dec-4918.html\n",
      "http://www.it.kmitl.ac.th/~teerapong/news_archive/article-dec-2759.html\n",
      "http://www.it.kmitl.ac.th/~teerapong/news_archive/article-dec-4347.html\n",
      "http://www.it.kmitl.ac.th/~teerapong/news_archive/article-dec-3179.html\n",
      "http://www.it.kmitl.ac.th/~teerapong/news_archive/article-dec-1456.html\n",
      "http://www.it.kmitl.ac.th/~teerapong/news_archive/article-dec-2238.html\n",
      "http://www.it.kmitl.ac.th/~teerapong/news_archive/article-dec-2334.html\n",
      "http://www.it.kmitl.ac.th/~teerapong/news_archive/article-dec-2095.html\n",
      "http://www.it.kmitl.ac.th/~teerapong/news_archive/article-dec-1351.html\n",
      "http://www.it.kmitl.ac.th/~teerapong/news_archive/article-dec-0068.html\n"
     ]
    }
   ],
   "source": [
    "# เข้าในเเต่ละลิงค์ข่าว\n",
    "for link in links:\n",
    "    print(link)"
   ]
  },
  {
   "cell_type": "markdown",
   "metadata": {},
   "source": [
    "## ขั้นตอนการเก็บหัวข้อข่าวเเละเนื้อหาข่าวไว้ใน list เดียวกัน"
   ]
  },
  {
   "cell_type": "markdown",
   "metadata": {},
   "source": [
    "### ตั้งฟังก์ชั่นเพื่อ return เฉพาะหัวข้อ "
   ]
  },
  {
   "cell_type": "code",
   "execution_count": 17,
   "metadata": {},
   "outputs": [],
   "source": [
    "# ตั้งฟังก์ชั่นเพื่อ return เฉพาะหัวข้อ \n",
    "def extract_title(soup): \n",
    "    selector = 'div.main > h2'   # ชื่อเรื่องอยู่ใน tag h2\n",
    "    tag = soup.select_one(selector)\n",
    "    title = tag.text # get text ใน tag h2 \n",
    "    return title"
   ]
  },
  {
   "cell_type": "markdown",
   "metadata": {},
   "source": [
    "### ตั้งฟังก์ชั่น เพื่อ return เนื้อหาข่าว"
   ]
  },
  {
   "cell_type": "code",
   "execution_count": 18,
   "metadata": {},
   "outputs": [],
   "source": [
    "def extract_body(soup):\n",
    "    selector = 'div.main > p'\n",
    "    tags = soup.select(selector)  # หา  tag p \n",
    "    data = []\n",
    "    for tag in tags:  # วนลูปเพื่อหาข้อความทั้งหมดใน tag p\n",
    "        dat = tag.get_text(strip=True)  # เเสดงเนื้อข่าว ซึ่งเนื้อหาข่าวในที่นี้จะมีหลายย่อหน้า จึงจะรวมให้เป็นเนื้อหาเดียวกันเลย โดยไม่ให้มีย่อหน้า \n",
    "        data.append(dat) # นำเนื้อหาข่าวเข้า  list data \n",
    "    data = \" \".join(data) # จากผลลัพธ์ทีได้มันจะมี รายการ list ว่างอยู่ เลยใช้ คำสั่ง join เพื่อลบลิส ว่าง เหล่านั้นออกค่ะ \n",
    "    return data"
   ]
  },
  {
   "cell_type": "code",
   "execution_count": 19,
   "metadata": {},
   "outputs": [],
   "source": [
    "# print(extract_body(soup))"
   ]
  },
  {
   "cell_type": "markdown",
   "metadata": {},
   "source": [
    "### ฟังก์ชั่น สำหรับรวมเนื้อหาเเละหัวข้อมาในเเต่ละหน้าเว็บ"
   ]
  },
  {
   "cell_type": "code",
   "execution_count": 20,
   "metadata": {
    "scrolled": false
   },
   "outputs": [],
   "source": [
    "# content = [] # \n",
    "def extract_news_info(url):\n",
    "    response = requests.get(link) # ร้องขอข้อมูลในเเต่ละลิ้งค์\n",
    "    soup = bs4.BeautifulSoup(response.content) #ใช้งานหน้าเว็บ\n",
    "    \n",
    "    title = extract_title(soup) # เรียกใช้ fn ในการดึงหัวข้อข่าว\n",
    "    body = extract_body(soup) # เรียกใช้ fn ในการดึงเนื้อหาข่าว \n",
    "    \n",
    "    bodies = [title , body] # นำข้อมูลเข้าสู่ list \n",
    "    return bodies"
   ]
  },
  {
   "cell_type": "code",
   "execution_count": 21,
   "metadata": {},
   "outputs": [
    {
     "data": {
      "text/plain": [
       "['Zambia confident and cautious',\n",
       " ' Zambia\\'s technical director, Kalusha Bwalya is confident and cautious ahead of the Cosafa Cup final against Angola on Saturday in Lusaka.  Bwalya said: \"Nothing short of victory will do.\" However Bwalya warned his side not to be too complacent. \"I don\\'t want my team to be too comfortable or too sure of victory as it is going to be a difficult game. \"For me the main aim of the game is to enjoy and to win.\" Zambia have shown their determination to win this final by recalling nine of their foreign-based players. However the 41 year-old Bwalya, who became the oldest player to appear in the competition when he played and scored against Mauritius, is uncertain whether he will take to the field or not. The Chipolopolo fans however are not being so cautious with a \\'victory\\' concert already scheduled for after the match featuring some of the country\\'s top musicians. Both sides are hoping to win the competition for a record third time, and so keep the trophy for good. The Chipolopolo won the first two editions of the regional tournament for Southern African nations in 1997 and 1998. They were prevented from a third straight win by Angola who knocked out the Zambians at the semi-final stage in 1999. That victory for Angola also marked a first defeat in 14 years for Zambia at Lusaka\\'s Independence stadium, where Saturday\\'s game is being played. Angola named just four overseas-based players in their preliminary squad. The Palancas Negras have been unable to secure the release of many of their Portugal-based players. Return to article search results']"
      ]
     },
     "execution_count": 21,
     "metadata": {},
     "output_type": "execute_result"
    }
   ],
   "source": [
    "# เเสดงผลลัพธ์ตัวอย่างจากการดึงหัวข้อเเละเนื้อหาข่าว \n",
    "extract_news_info('http://www.it.kmitl.ac.th/~teerapong/news_archive/article-jan-4007.html')"
   ]
  },
  {
   "cell_type": "markdown",
   "metadata": {},
   "source": [
    "<!-- #     selector = 'div.main > p'\n",
    "#     tags = soup.select(selector)\n",
    "# #     data = []\n",
    "\n",
    "#     for tag in tags:\n",
    "#         dat = tag.get_text(strip=True)\n",
    "#         data.append(dat)\n",
    "#         data = \" \".join(data)\n",
    "#         data = list(data.split(\"delimiter\"))\n",
    "# data\n",
    "# #     \n",
    "# res +=dat\n",
    "# res\n",
    "\n",
    "# bodies = soup.find_all('p') # หา  tag p \n",
    "# for body in bodies: # วนลูปเพื่อหาข้อความทั้งหมดใน tag p\n",
    "#     cont = body.get_text(strip=True)# เเสดงเนื้อข่าวเเละตัดตัวอักษรที่ไม่เกี่ยวข้องกับเนื้อข่าวออก\n",
    "#     content.append(cont)\n",
    "# #     \" \".join(my_list))\n",
    "    \n",
    "# content.remove('')\n",
    "# content = ''.join(content)\n",
    "# content -->"
   ]
  },
  {
   "cell_type": "markdown",
   "metadata": {},
   "source": [
    "### ฟังก์ชั่นหลักสำหรับดึงเนื้อหาทั้งหมด \n",
    ">ผลลัพธ์จะได้เป็นรายการข่าวทั้งหมดเเละถูกเก็บไว้ใน list ชื่อ data"
   ]
  },
  {
   "cell_type": "code",
   "execution_count": 22,
   "metadata": {
    "scrolled": true
   },
   "outputs": [
    {
     "data": {
      "text/plain": [
       "[['21st-Century Sports: How Digital Technology Is Changing the Face Of The Sporting Industry',\n",
       "  ' The sporting industry has come a long way since the ‘60s. It has carved out for itself a niche with its roots so deep that I cannot fathom the sports industry showing any sign of decline any time soon - or later.  The reason can be found in this seemingly subtle difference - other industries have customers; the sporting industry has fans. Vivek Ranadivé, leader of the ownership group of the NBA’s Sacramento Kings, explained it beautifully, “Fans will paint their face purple, fans will evangelize. ... Every other CEO in every business is dying to be in our position — they’re dying to have fans.“  While fan passion alone could almost certainly keep the industry going, leagues and sporting franchises have decided not to rest on their laurels. The last few years have seen the steady introduction of technology into the world of sports - amplifying fans’ appreciation of games, enhancing athletes’ public profiles and informing their training methods, even influencing how contests are waged.  Also, digital technology in particular has helped to create an alternative source of revenue, besides the games themselves - corporate sponsorship. They achieved this by capitalizing on the ardor of their customer base - sorry, fan base. Return to article search results'],\n",
       " ['Asian quake hits European shares',\n",
       "  'Asian quake hits European shares  Shares in Europe\\'s leading reinsurers and travel firms have fallen as the scale of the damage wrought by tsunamis across south Asia has become apparent.  More than 23,000 people have been killed following a massive underwater earthquake and many of the worst hit areas are popular tourist destinations. Reisurance firms such as Swiss Re and Munich Re lost value as investors worried about rebuilding costs. But the disaster has little impact on stock markets in the US and Asia.  Currencies including the Thai baht and Indonesian rupiah weakened as analysts warned that economic growth may slow. \"It came at the worst possible time,\" said Hans Goetti, a Singapore-based fund manager. \"The impact on the tourist industry is pretty devastating, especially in Thailand.\" Travel-related shares dropped in Europe, with companies such as Germany\\'s TUI and Lufthansa and France\\'s Club Mediterranne sliding. Insurers and reinsurance firms were also under pressure in Europe.  Shares in Munich Re and Swiss Re - the world\\'s two biggest reinsurers - both fell 1.7% as the market speculated about the cost of rebuilding in Asia. Zurich Financial, Allianz and Axa also suffered a decline in value.  However, their losses were much smaller, reflecting the market\\'s view that reinsurers were likely to pick up the bulk of the costs. Worries about the size of insurance liabilities dragged European shares down, although the impact was exacerbated by light post-Christmas trading. Germany\\'s benchmark Dax index closed the day 16.29 points lower at 3.817.69 while France\\'s Cac index of leading shares fell 5.07 points to 3.817.69. Investors pointed out, however, that declines probably would be industry specific, with the travel and insurance firms hit hardest. \"It\\'s still too early for concrete damage figures,\" Swiss Re\\'s spokesman Floiran Woest told Associated Press. \"That also has to do with the fact that the damage is very widely spread geographically.\"  The unfolding scale of the disaster in south Asia had little immediate impact on US shares, however. The Dow Jones index had risen 20.54 points, or 0.2%, to 10,847.66 by late morning as analsyts were cheered by more encouraging reports from retailers about post-Christmas sales. In Asian markets, adjustments were made quickly to account for lower earnings and the cost of repairs. Thai Airways shed almost 4%. The country relies on tourism for about 6% of its total economy. Singapore Airlines dropped 2.6%. About 5% of Singapore\\'s annual gross domestic product (GDP) comes from tourism. Malaysia\\'s budget airline, AirAsia fell 2.9%. Resort operator Tanco Holdings slumped 5%.  Travel companies also took a hit, with Japan\\'s Kinki Nippon sliding 1.5% and HIS dropping 3.3%. However, the overall impact on Asia\\'s largest stock market, Japan\\'s Nikkei, was slight. Shares fell just 0.03%. Concerns about the strength of economic growth going forward weighed on the currency markets. The Indonesian rupiah lost as much as 0.6% against the US dollar, before bouncing back slightly to trade at 9,300. The Thai baht lost 0.3% against the US currency, trading at 39.10. In India, where more than 2,000 people are thought to have died, the rupee shed 0.1% against the dollar Analysts said that it was difficult to predict the total cost of the disaster and warned that share prices and currencies would come under increasing pressure as the bills mounted. Comments are closed for this article.'],\n",
       " ['BT offers free net phone calls',\n",
       "  ' BT is offering customers free internet telephone calls if they sign up to broadband in December.  The Christmas give-away entitles customers to free telephone calls anywhere in the UK via the internet. Users will need to use BT\\'s internet telephony software, known as BT Communicator, and have a microphone and speakers or headset on their PC. BT has launched the promotion to show off the potential of a broadband connection to customers.  People wanting to take advantage of the offer will need to be a BT Together fixed-line customer and will have to sign up to broadband online. The offer will be limited to the first 50,000 people who sign up and there are limitations - the free calls do not include calls to mobiles, non-geographical numbers such as 0870, premium numbers or international numbers. BT is keen to provide extra services to its broadband customers. \"People already using BT Communicator have found it by far the most convenient way of making a call if they are at their PC,\" said Andrew Burke, director of value-added services at BT Retail. As more homes get high-speed access, providers are increasingly offering add-ons such as cheap net calls. \"Broadband and telephony are attractive to customers and BT wants to make sure it is in the first wave of services,\" said Ian Fogg, an analyst with Jupiter Research. \"BT Communicator had a quiet launch in the summer and now BT is waving the flag a bit more for it,\" he added.  BT has struggled to maintain its market share of broadband subscribers as more competitors enter the market. Reports say that BT has lost around 10% of market share over the last year, down from half of broadband users to less than 40%. BT is hoping its latest offer can persuade more people to jump on the broadband bandwagon. It currently has 1.3 million broadband subscribers. Comments are closed for this article.'],\n",
       " ['Barclays shares up on merger talk',\n",
       "  'Barclays shares up on merger talk  Shares in UK banking group Barclays have risen on Monday following a weekend press report that it had held merger talks with US bank Wells Fargo.  A tie-up between Barclays and California-based Wells Fargo would create the world\\'s fourth biggest bank, valued at $180bn (£96bn). Barclays has declined to comment on the report in the Sunday Express, saying it does not respond to market speculation. The two banks reportedly held talks in October and November 2004.  Barclays shares were up 8 pence, or 1.3%, at 605 pence by late morning in London on Monday, making it the second biggest gainer in the FTSE 100 index. UK banking icon Barclays was founded more than 300 years ago; it has operations in over 60 countries and employs 76,200 staff worldwide. Its North American divisions focus on business banking, whereas Wells Fargo operates retail and business banking services from 6,000 branches. In 2003, Barclays reported a 20% rise in pre-tax profits to £3.8bn, and it has recently forecast similar gains in 2004, predicting that full year pre-tax profits would rise 18% to £4.5bn. Wells Fargo had net income of $6.2bn in its last financial year, a 9% increase on the previous year, and revenues of $28.4bn. Barclays was the focus of takeover speculation in August, when it was linked to Citigroup, though no bid has ever materialised. Stock market traders were sceptical that the latest reports heralded a deal. \"The chief executive would be abandoning his duty if he didn\\'t talk to rivals, but a deal doesn\\'t seem likely,\" Online News quoted one trader as saying. Return to article search results'],\n",
       " ['Barkley fit for match in Ireland',\n",
       "  ' England centre Olly Barkley has been passed fit for Sunday\\'s Six Nations clash withIrelandat Lansdowne Road.  Barkley withdrew from Bath\\'s team for Friday\\'s clash with Gloucester after suffering a calf injury in training. Gloucester centre Henry Paul has also been cleared to play after overcoming an ankle injury.Englandcoach Andy Robinson, who names his team on Wednesday, has called up Bath prop Duncan Bell following Phil Vickery\\'s broken arm. With Vickery sidelined for at least six weeks and Julian White out with a neck injury, Bell could make hisEnglanddebut. Bell, 30, had set his sights on an international career with Wales. But last December, the International Rugby Board confirmed that he could only be eligible forEnglandas he had travelled on tour with them in 1998. \"I thought I\\'d burned all my bridges withEnglandwhen I expressed an interest in wanting to play for Wales, so it\\'s fantastic to get this opportunity,\" he said. Bell, who featured in theEnglandA side which beat France 30-20 10 days ago, added: \"I recognise that I got into theEnglandA squad because of injuries. \"And it\\'s the same again in getting into the senior squad. But now that I have this opportunity I intend to take it fully if selected and play my heart out for my country.\"  England coach Andy Robinson could take a gamble and call inexperienced Sale Sharks prop Andrew Sheridan into his front row. But Sheridan favours the loosehead side of the scrum and a more likely scenario is for uncapped Bell - who was among the try-scorers whenEnglandA beat France A 30-20 nine days ago - to be drafted in. Comments are closed for this article.']]"
      ]
     },
     "execution_count": 22,
     "metadata": {},
     "output_type": "execute_result"
    }
   ],
   "source": [
    "data = [] # ตั้งตัวแปรรับข้อมูลทั้งหมด \n",
    "for link in links: #วนลูปเข้าไปในเเต่ละลิ้งค์ที่จัดเก็บไว้เพื่อ\n",
    "    bodies = extract_news_info(link) # ส่งค่าในเเต่ละลิ้งค์ไปเข้าฟังก์ชั้นด้านบนเพื่อ return ข้อมูล title เเละ body ออกมา \n",
    "    data.append(bodies) # นำข้อมูลที่ return มาในเเต่ละครั้งเข้าสู่ list data \n",
    "data[:5] # ได้ผลลัพธ์เป็น list ข่าวในเเต่ละหัวข้อ ประกอบไปด้วยหัวข้อข่าวเเละเนื้อหาข่าวทั้งหหมด"
   ]
  },
  {
   "cell_type": "markdown",
   "metadata": {},
   "source": [
    "### แปลงเนื้อหาที่เก็บมาทั้งหมดเข้าสู่ DataFrame \n",
    "> จะได้รายการหัวข้อข่าว เเละเนื้อหาข่าวทั้งหมด"
   ]
  },
  {
   "cell_type": "code",
   "execution_count": 23,
   "metadata": {},
   "outputs": [
    {
     "data": {
      "text/html": [
       "<div>\n",
       "<style scoped>\n",
       "    .dataframe tbody tr th:only-of-type {\n",
       "        vertical-align: middle;\n",
       "    }\n",
       "\n",
       "    .dataframe tbody tr th {\n",
       "        vertical-align: top;\n",
       "    }\n",
       "\n",
       "    .dataframe thead th {\n",
       "        text-align: right;\n",
       "    }\n",
       "</style>\n",
       "<table border=\"1\" class=\"dataframe\">\n",
       "  <thead>\n",
       "    <tr style=\"text-align: right;\">\n",
       "      <th></th>\n",
       "      <th>Article_title</th>\n",
       "      <th>Content</th>\n",
       "    </tr>\n",
       "  </thead>\n",
       "  <tbody>\n",
       "    <tr>\n",
       "      <th>0</th>\n",
       "      <td>21st-Century Sports: How Digital Technology Is...</td>\n",
       "      <td>The sporting industry has come a long way sin...</td>\n",
       "    </tr>\n",
       "    <tr>\n",
       "      <th>1</th>\n",
       "      <td>Asian quake hits European shares</td>\n",
       "      <td>Asian quake hits European shares  Shares in Eu...</td>\n",
       "    </tr>\n",
       "    <tr>\n",
       "      <th>2</th>\n",
       "      <td>BT offers free net phone calls</td>\n",
       "      <td>BT is offering customers free internet teleph...</td>\n",
       "    </tr>\n",
       "    <tr>\n",
       "      <th>3</th>\n",
       "      <td>Barclays shares up on merger talk</td>\n",
       "      <td>Barclays shares up on merger talk  Shares in U...</td>\n",
       "    </tr>\n",
       "    <tr>\n",
       "      <th>4</th>\n",
       "      <td>Barkley fit for match in Ireland</td>\n",
       "      <td>England centre Olly Barkley has been passed f...</td>\n",
       "    </tr>\n",
       "    <tr>\n",
       "      <th>...</th>\n",
       "      <td>...</td>\n",
       "      <td>...</td>\n",
       "    </tr>\n",
       "    <tr>\n",
       "      <th>1403</th>\n",
       "      <td>Woodward eyes Brennan for Lions</td>\n",
       "      <td>Woodward eyes Brennan for Lions  Toulouse's fo...</td>\n",
       "    </tr>\n",
       "    <tr>\n",
       "      <th>1404</th>\n",
       "      <td>WorldCom trial starts in New York</td>\n",
       "      <td>The trial of Bernie Ebbers, former chief exec...</td>\n",
       "    </tr>\n",
       "    <tr>\n",
       "      <th>1405</th>\n",
       "      <td>Yukos accused of lying to court</td>\n",
       "      <td>Yukos accused of lying to court  Russian oil f...</td>\n",
       "    </tr>\n",
       "    <tr>\n",
       "      <th>1406</th>\n",
       "      <td>Yukos drops banks from court bid</td>\n",
       "      <td>Russian oil company Yukos has dropped the thr...</td>\n",
       "    </tr>\n",
       "    <tr>\n",
       "      <th>1407</th>\n",
       "      <td>Zambia confident and cautious</td>\n",
       "      <td>Zambia's technical director, Kalusha Bwalya i...</td>\n",
       "    </tr>\n",
       "  </tbody>\n",
       "</table>\n",
       "<p>1408 rows × 2 columns</p>\n",
       "</div>"
      ],
      "text/plain": [
       "                                          Article_title  \\\n",
       "0     21st-Century Sports: How Digital Technology Is...   \n",
       "1                      Asian quake hits European shares   \n",
       "2                        BT offers free net phone calls   \n",
       "3                     Barclays shares up on merger talk   \n",
       "4                      Barkley fit for match in Ireland   \n",
       "...                                                 ...   \n",
       "1403                    Woodward eyes Brennan for Lions   \n",
       "1404                  WorldCom trial starts in New York   \n",
       "1405                    Yukos accused of lying to court   \n",
       "1406                   Yukos drops banks from court bid   \n",
       "1407                      Zambia confident and cautious   \n",
       "\n",
       "                                                Content  \n",
       "0      The sporting industry has come a long way sin...  \n",
       "1     Asian quake hits European shares  Shares in Eu...  \n",
       "2      BT is offering customers free internet teleph...  \n",
       "3     Barclays shares up on merger talk  Shares in U...  \n",
       "4      England centre Olly Barkley has been passed f...  \n",
       "...                                                 ...  \n",
       "1403  Woodward eyes Brennan for Lions  Toulouse's fo...  \n",
       "1404   The trial of Bernie Ebbers, former chief exec...  \n",
       "1405  Yukos accused of lying to court  Russian oil f...  \n",
       "1406   Russian oil company Yukos has dropped the thr...  \n",
       "1407   Zambia's technical director, Kalusha Bwalya i...  \n",
       "\n",
       "[1408 rows x 2 columns]"
      ]
     },
     "execution_count": 23,
     "metadata": {},
     "output_type": "execute_result"
    }
   ],
   "source": [
    "# แปลงเป็น df \n",
    "Data = pd.DataFrame(data, columns={'Article_title','Content'}) # นำเนื้อหาเข้าสู่ df เเละกำหนด ชื่อcolumn \n",
    "Data"
   ]
  },
  {
   "cell_type": "markdown",
   "metadata": {},
   "source": [
    ">ดังนั้นตอนนี้ จะมีข้อมูลจำนวน 2 รูปแบบคือ <br>\n",
    "   - ข้อมูล target(ประภทข่าว) เเละ หัวข้อข่าว ซึ่งอยู่ในตัวแปรชื่อ title_target\n",
    "   - ข้อมูลหัวข้อข่าวเเละเนื้อหาข่าว  อยู่ในตัวแปรชื่อ Data"
   ]
  },
  {
   "cell_type": "markdown",
   "metadata": {},
   "source": [
    "## save file จาก DataFrame เป็น text file \n",
    "\n",
    "  - save ข้อมูลเฉพาะ target ของข่าวไว้ในโฟลเดอร์ target \n",
    "  - save ข้อมูลสำหรับเนื้อหาเเละหัวข้อ\n",
    "  - save ข้อมูลสำหรับเนื้อหาเท่านั้น"
   ]
  },
  {
   "cell_type": "code",
   "execution_count": 24,
   "metadata": {},
   "outputs": [],
   "source": [
    "# Save file to txt เฉพาะ Article_category หรือ target ของข้อมูล\n",
    "target = np.savetxt('target\\category.txt', title_target['Article_category'].values , fmt='%s')\n",
    "\n",
    "# save เป็น text file สำหรับเนื้อหาเเละหัวข้อด้วย\n",
    "contentplusheading = np.savetxt('datastore\\AllArticles_HeadingPlusContent.txt', Data.values , fmt='%s',encoding='utf-8')\n",
    "\n",
    "# save เป็น text file สำหรับเนื้อหาเท่านั้น\n",
    "contentonly =  np.savetxt('datastore\\AllArticles_OnlyContent.txt', Data['Content'].values , fmt='%s',encoding='utf-8')"
   ]
  },
  {
   "cell_type": "markdown",
   "metadata": {},
   "source": [
    "### save file to csv (เผื่อในกรณีต้องใช้สำรอง)\n",
    "   - สำหรับข้อมูล หัวข้อเเละ เนื้อหาข่าว\n",
    "   - เฉพาะข้อมูลเนื้อหาข่าว"
   ]
  },
  {
   "cell_type": "code",
   "execution_count": 25,
   "metadata": {},
   "outputs": [],
   "source": [
    "# save to csv \n",
    "# สำหรับข้อมูล หัวข้อเเละ เนื้อหาข่าว \n",
    "bodytext_title  = Data.to_csv('datastore\\AllArticles_HeadingPlusContent.csv',index=False)\n",
    "\n",
    "# เฉพาะข้อมูลเนื้อหาข่าว \n",
    "onlybodytext = Data['Content'].to_csv('datastore\\AllArticles_OnlyContent.csv',index=False)"
   ]
  },
  {
   "cell_type": "markdown",
   "metadata": {},
   "source": [
    "<!-- ## รวมข้อมูลเข้าด้วยกัน \n",
    "> โดยประกอบไปด้วย หัวข้อข่าว(title) เนื้อหาข่าว(Content) เเละ ประเภทของข่าว(class) -->"
   ]
  },
  {
   "cell_type": "markdown",
   "metadata": {},
   "source": [
    "<!-- #### เเสดงจำนวนข้อมูลของทั้งสองไฟล์ -->"
   ]
  },
  {
   "cell_type": "markdown",
   "metadata": {},
   "source": [
    "______________________________________________________________________________________________________________________"
   ]
  },
  {
   "cell_type": "markdown",
   "metadata": {},
   "source": [
    "# Part 2 – classifier evaluation"
   ]
  },
  {
   "cell_type": "markdown",
   "metadata": {},
   "source": [
    "<!-- โมเดลที่ใช้กันทั่วไปสำหรับ text classification  <br> -->"
   ]
  },
  {
   "cell_type": "markdown",
   "metadata": {},
   "source": [
    "> รูปเเบบการสร้าง multi-class classification models (ข่าว) จะใช้ข้อมูลเฉพาะเนื้อหาของข่าวมาใช้ในการทดลอง เเละ ประเภทข่าว เป็น target ที่เราสนใจ"
   ]
  },
  {
   "cell_type": "markdown",
   "metadata": {},
   "source": [
    "## import content news data"
   ]
  },
  {
   "cell_type": "code",
   "execution_count": 26,
   "metadata": {},
   "outputs": [
    {
     "name": "stdout",
     "output_type": "stream",
     "text": [
      "Read 1408 raw_document \n"
     ]
    }
   ],
   "source": [
    "# นำเข้าข้อมูลเนื้อหาข่าว\n",
    "fin = open(\"datastore/AllArticles_OnlyContent.txt\",\"r\" ,encoding=\"utf8\") # เปิดไฟล์เนื้อหาข่าวที่ save ไว้\n",
    "raw_document = fin.readlines() \n",
    "fin.close()\n",
    "print(\"Read %d raw_document \" % len(raw_document)) # เเสดงจำนวนเนื้อหาข่าว "
   ]
  },
  {
   "cell_type": "markdown",
   "metadata": {},
   "source": [
    "## import target news"
   ]
  },
  {
   "cell_type": "code",
   "execution_count": 27,
   "metadata": {},
   "outputs": [
    {
     "name": "stdout",
     "output_type": "stream",
     "text": [
      "Read 1408 raw target\n"
     ]
    }
   ],
   "source": [
    "# นำข้อมูล target เข้า \n",
    "fin = open(\"target/category.txt\",\"r\" ,encoding=\"utf8\") # เปิดไฟประเภทข่าวที่ save ไว้\n",
    "target = fin.read().splitlines() # เพิ่มไม่ให้ return เเต่ละค่าเป็น \\n \n",
    "fin.close()\n",
    "print(\"Read %d raw target\" % len(target))"
   ]
  },
  {
   "cell_type": "markdown",
   "metadata": {},
   "source": [
    "### <li> explor data"
   ]
  },
  {
   "cell_type": "code",
   "execution_count": 28,
   "metadata": {},
   "outputs": [
    {
     "data": {
      "text/plain": [
       "[' The sporting industry has come a long way since the ‘60s. It has carved out for itself a niche with its roots so deep that I cannot fathom the sports industry showing any sign of decline any time soon - or later.  The reason can be found in this seemingly subtle difference - other industries have customers; the sporting industry has fans. Vivek Ranadivé, leader of the ownership group of the NBA’s Sacramento Kings, explained it beautifully, “Fans will paint their face purple, fans will evangelize. ... Every other CEO in every business is dying to be in our position — they’re dying to have fans.“  While fan passion alone could almost certainly keep the industry going, leagues and sporting franchises have decided not to rest on their laurels. The last few years have seen the steady introduction of technology into the world of sports - amplifying fans’ appreciation of games, enhancing athletes’ public profiles and informing their training methods, even influencing how contests are waged.  Also, digital technology in particular has helped to create an alternative source of revenue, besides the games themselves - corporate sponsorship. They achieved this by capitalizing on the ardor of their customer base - sorry, fan base. Return to article search results\\n']"
      ]
     },
     "execution_count": 28,
     "metadata": {},
     "output_type": "execute_result"
    }
   ],
   "source": [
    "raw_document[:1] # เเสดงเนื้อหาข่าวลำดับที่ 0"
   ]
  },
  {
   "cell_type": "markdown",
   "metadata": {},
   "source": [
    "#### เรียกดูข้อมูล target"
   ]
  },
  {
   "cell_type": "code",
   "execution_count": 29,
   "metadata": {},
   "outputs": [
    {
     "data": {
      "text/plain": [
       "['technology']"
      ]
     },
     "execution_count": 29,
     "metadata": {},
     "output_type": "execute_result"
    }
   ],
   "source": [
    "target[:1] # เเสดงประเภทข่าวลำดับที่ 0"
   ]
  },
  {
   "cell_type": "markdown",
   "metadata": {},
   "source": [
    "- convert target data to type series เพื่อดูจำนวน target ใน class ต่างๆ "
   ]
  },
  {
   "cell_type": "code",
   "execution_count": 30,
   "metadata": {},
   "outputs": [
    {
     "data": {
      "text/plain": [
       "0       technology\n",
       "1         business\n",
       "2       technology\n",
       "3         business\n",
       "4            sport\n",
       "           ...    \n",
       "1403         sport\n",
       "1404      business\n",
       "1405      business\n",
       "1406      business\n",
       "1407         sport\n",
       "Length: 1408, dtype: object"
      ]
     },
     "execution_count": 30,
     "metadata": {},
     "output_type": "execute_result"
    }
   ],
   "source": [
    "dftarget = pd.Series(target)\n",
    "dftarget"
   ]
  },
  {
   "cell_type": "markdown",
   "metadata": {},
   "source": [
    "- เเสดงกราฟเพื่อดูว่าข่าวส่วนใหญ่เป็นข่าวประเภทใด \n",
    "> จากกราฟจึงพบว่า sport มีจำนวนมากสุด ประมาณ 500 กว่าข่าว"
   ]
  },
  {
   "cell_type": "code",
   "execution_count": 31,
   "metadata": {},
   "outputs": [
    {
     "data": {
      "image/png": "[encoded data removed]",
      "text/plain": [
       "<Figure size 432x288 with 1 Axes>"
      ]
     },
     "metadata": {
      "needs_background": "light"
     },
     "output_type": "display_data"
    }
   ],
   "source": [
    "# # ปริ้นจำนวนข้อมูล target เพื่อดูว่าข่าวส่วนใหญ่เป็นประเภทใด  \n",
    "import seaborn\n",
    "ax = seaborn.countplot(x=dftarget)"
   ]
  },
  {
   "cell_type": "markdown",
   "metadata": {},
   "source": [
    "## text processing ประกอบไปด้วยกระบวนการดังนี้ \n",
    "### 1. cleaning or Remove Noisy Data \n",
    ">คือการลบข้อมูล text ที่ไม่เกี่ยวข้องในการนำมาสร้าง model คือเป็นคำที่ไม่ได้สื่อถึงการรายงานข่าว รวมถึงสัญลักษ์ต่างๆจากที่ดึงมา\n",
    "### 2. การตัดคำ (Tokenize) \n",
    "> เป็นหน่วยของคำที่เราเลือกมาจาก word อีกที หมายถึงหากมีค่าสัญลักษณ์แปลกๆเกิดขึ้นใน text การใช้ Tokenize จะช่วยเลือกคำที่ใช้ได้ออกมา\n",
    "### 3. lemmatise \n",
    ">คือการตัดคำต่างๆให้เหลือเฉพาะรากศัพท์ โดยเหตุผลที่ใช้ lemma เเทน stem เนื่องจากว่า lemma จะมีการตัดคำโดยอ้างอิงจาก dictionary จะทำให้ได้ผลลัพธ์ของคำที่สามารถเข้าใจได้ง่ายกว่า stem ที่เป็นการตัดคำเเบบหยาบๆ อีกทั้ง lemma จะช่วยประหยัดพื้นที่ในเรื่องของจำนวนคำที่มีความหมายซ้ำกันได้ด้วย  \n",
    "### 4. convert to lowercast\n",
    "> แปลงเป็นตัวหนังสือพิมพ์เล็กทั้งหมด\n",
    "### 5. remove stopword \n",
    ">ดังนั้นเมื่อดูจากรายการคำที่พบบ่อยในเอกสารเเต่มักจะไม่ให้ประโยชน์ เราจึงจะทำการตัดคำ stop word ที่มีอยู่ในเอดสารเราออกด้วย\n",
    "### 6. bag of word\n",
    "> จะมีการนับจำนวนคำที่เกิดขึ้นในเเต่ละเอกสาร\n",
    "### 7. TF-IDF Weighting ด้วยกับ CountVectorizer + TfidfTransformer = tfidfvectorizer \n",
    "> หลังจากได้ค่าจำนวนคำจาก bag of word นำมาแปลงด้วย TfidfTransformer เพื่อได้ความถี่ของคำที่เกิดขึ้นจริงในเเต่ละเอกสาร ที่ใช้วิธีนี้เนื่องจากว่า การใช้ term weighting ในการให้ความถี่ของคำที่เกิดขึ้นจริงบนเอกสารทั้งหมด จะให้ประสิทธิภาพมากกว่าการนับจำนวนคำที่เกิดขึ้นในเเต่ละเอกสาร เพราะจะไม่เท่าเทียมในกรณีที่บางเอกสารยาว บางเอกสารสั้น ทำให้ประสิทธิภาพในการทำนายจะลดลงได้ \n",
    "### 8. ได้ document term Matrix ของ ข้อมูล content ทั้งหมด \n",
    "____________________________________________________________________________________________________________________________"
   ]
  },
  {
   "cell_type": "markdown",
   "metadata": {},
   "source": [
    "\n",
    "### 1. cleaning or Remove Noisy Data\n",
    ">#### เมื่อผู้จัดทำได้สำรวจข้อมูลเเล้วพบว่า ในเนื้อหาข่าวจะมีคำที่ไม่เกี่ยวข้องด้วย เช่น  \\n ,  Return to article search results ที่จะมีเหมือนๆกันในทุกๆ document จึงจะทำการตัดคำเหล่านั้นออก เพื่อไม่ให้มีผลต่อผลลัพธ์ที่ได้ เเละยังเป็นการประหยัดพื้นที่เเละระยเวลาในการ tune ได้ด้วย\n"
   ]
  },
  {
   "cell_type": "markdown",
   "metadata": {},
   "source": [
    "#### function สำหรับทำความสะอาดข้อมูล"
   ]
  },
  {
   "cell_type": "code",
   "execution_count": 32,
   "metadata": {},
   "outputs": [],
   "source": [
    "# text clening (ลบคำที่ไม่เกี่ยวข้องออก)\n",
    "def clean_text(raw_document):\n",
    "    \n",
    "    # ลบคำที่ไม่เกี่ยวข้องออก\n",
    "    for i in raw_document:\n",
    "        raw_document = raw_document.strip(\"Return to article search results\\n\") #ลบคำนี้ออก เนื่องจากไม่มีผลต่อการนำไป\n",
    "        raw_document = raw_document.replace(\"Comments are closed for this article.\",'') #ลบคำนี้ออก เนื่องจากไม่มีผลต่อการนำไป\n",
    "\n",
    "        return raw_document"
   ]
  },
  {
   "cell_type": "markdown",
   "metadata": {},
   "source": [
    "#### จัดเก็บข้อมูลทั้งหมดเข้า list"
   ]
  },
  {
   "cell_type": "code",
   "execution_count": 33,
   "metadata": {
    "scrolled": false
   },
   "outputs": [
    {
     "name": "stdout",
     "output_type": "stream",
     "text": [
      "['The sporting industry has come a long way since the ‘60s. It has carved out for itself a niche with its roots so deep that I cannot fathom the sports industry showing any sign of decline any time soon - or later.  The reason can be found in this seemingly subtle difference - other industries have customers; the sporting industry has fans. Vivek Ranadivé, leader of the ownership group of the NBA’s Sacramento Kings, explained it beautifully, “Fans will paint their face purple, fans will evangelize. ... Every other CEO in every business is dying to be in our position — they’re dying to have fans.“  While fan passion alone could almost certainly keep the industry going, leagues and sporting franchises have decided not to rest on their laurels. The last few years have seen the steady introduction of technology into the world of sports - amplifying fans’ appreciation of games, enhancing athletes’ public profiles and informing their training methods, even influencing how contests are waged.  Also, digital technology in particular has helped to create an alternative source of revenue, besides the games themselves - corporate sponsorship. They achieved this by capitalizing on the ardor of their customer base - sorry, fan base.', 'Asian quake hits European shares  Shares in Europe\\'s leading reinsurers and travel firms have fallen as the scale of the damage wrought by tsunamis across south Asia has become apparent.  More than 23,000 people have been killed following a massive underwater earthquake and many of the worst hit areas are popular tourist destinations. Reisurance firms such as Swiss Re and Munich Re lost value as investors worried about rebuilding costs. But the disaster has little impact on stock markets in the US and Asia.  Currencies including the Thai baht and Indonesian rupiah weakened as analysts warned that economic growth may slow. \"It came at the worst possible time,\" said Hans Goetti, a Singapore-based fund manager. \"The impact on the tourist industry is pretty devastating, especially in Thailand.\" Travel-related shares dropped in Europe, with companies such as Germany\\'s TUI and Lufthansa and France\\'s Club Mediterranne sliding. Insurers and reinsurance firms were also under pressure in Europe.  Shares in Munich Re and Swiss Re - the world\\'s two biggest reinsurers - both fell 1.7% as the market speculated about the cost of rebuilding in Asia. Zurich Financial, Allianz and Axa also suffered a decline in value.  However, their losses were much smaller, reflecting the market\\'s view that reinsurers were likely to pick up the bulk of the costs. Worries about the size of insurance liabilities dragged European shares down, although the impact was exacerbated by light post-Christmas trading. Germany\\'s benchmark Dax index closed the day 16.29 points lower at 3.817.69 while France\\'s Cac index of leading shares fell 5.07 points to 3.817.69. Investors pointed out, however, that declines probably would be industry specific, with the travel and insurance firms hit hardest. \"It\\'s still too early for concrete damage figures,\" Swiss Re\\'s spokesman Floiran Woest told Associated Press. \"That also has to do with the fact that the damage is very widely spread geographically.\"  The unfolding scale of the disaster in south Asia had little immediate impact on US shares, however. The Dow Jones index had risen 20.54 points, or 0.2%, to 10,847.66 by late morning as analsyts were cheered by more encouraging reports from retailers about post-Christmas sales. In Asian markets, adjustments were made quickly to account for lower earnings and the cost of repairs. Thai Airways shed almost 4%. The country relies on tourism for about 6% of its total economy. Singapore Airlines dropped 2.6%. About 5% of Singapore\\'s annual gross domestic product (GDP) comes from tourism. Malaysia\\'s budget airline, AirAsia fell 2.9%. Resort operator Tanco Holdings slumped 5%.  Travel companies also took a hit, with Japan\\'s Kinki Nippon sliding 1.5% and HIS dropping 3.3%. However, the overall impact on Asia\\'s largest stock market, Japan\\'s Nikkei, was slight. Shares fell just 0.03%. Concerns about the strength of economic growth going forward weighed on the currency markets. The Indonesian rupiah lost as much as 0.6% against the US dollar, before bouncing back slightly to trade at 9,300. The Thai baht lost 0.3% against the US currency, trading at 39.10. In India, where more than 2,000 people are thought to have died, the rupee shed 0.1% against the dollar Analysts said that it was difficult to predict the total cost of the disaster and warned that share prices and currencies would come under increasing pressure as the bills mounted. ']\n"
     ]
    }
   ],
   "source": [
    "raw_documents = [] # ตั้งตัวแปรเพื่อเก็บข้อมูลหลังจาก clean เเล้ว\n",
    "for i in raw_document: # วนลูปเอกสารข่าวทั้งหมดที่นำเข้ามา\n",
    "    new = clean_text(i) # clean ในเเต่ละเอกสาร\n",
    "    raw_documents.append(new) # เมื่อ clean เสร็จ ให้ append เข้า list raw_documents\n",
    "print(raw_documents[:2]) # เเสดงผลตัวอย่าง"
   ]
  },
  {
   "cell_type": "markdown",
   "metadata": {},
   "source": [
    "- โดยปกติเราสามารถนำข้อมูล มาเข้าโมเดลได้เลย เเต่กับ text มันยากสำหรับคอมพิวเตอร์ในการ train จึงต้องมีกระบวนการในการแปลง text ให้อยู่ในรูปแบบ matrix term (ตัวเลข) เพื่อใช้ในการ train model ได้ โดยจะทำผ่านกระบวนการดังนี้ "
   ]
  },
  {
   "cell_type": "markdown",
   "metadata": {},
   "source": [
    "### 2. Tokenize and 3. lemmatize  function นี้จะเป็นการเลือกคำจาก word (ตัดคำออก)เเละยังไว้ซึ่งความหมายของคำเเต่ละคำด้วย \n"
   ]
  },
  {
   "cell_type": "code",
   "execution_count": 34,
   "metadata": {},
   "outputs": [],
   "source": [
    "# define the function\n",
    "def lemma_tokenizer(text): # เป็น function เพื่อไว้ตัดคำ stop word รวมถึง ใช้รากคำในรูปแแบบ lemma\n",
    "    \n",
    "    from sklearn.feature_extraction.text import CountVectorizer\n",
    "    standard_tokenizer = CountVectorizer().build_tokenizer() # สร้าง token เพื่อเลือกคำมาจาก word ทั้งหมด ดังนั้น token != word \n",
    "    \n",
    "    tokens = standard_tokenizer(text) # ตัดคำ รายการคำทั้งหมด\n",
    "\n",
    "    lemmatizer = nltk.stem.WordNetLemmatizer() # ใช้ WordNetLemmatizer เพื่อลดรูปข้อความให้อยู่ในรูปเเบบ normal form of word\n",
    "    lemma_tokens = [] #ตั้ง list เพื่อจัดเก็บคำที่ลดรูปแล้ว\n",
    "    for token in tokens: # วนลูปเพื่อเลือกคำที่ผ่านการ token เเล้ว \n",
    "        lemma_tokens.append( lemmatizer.lemmatize(token)) # แปลงคำใน tokens ด้วยรายการคำศัพท์ใน Dictionary ให้อยู่ในรูปฟอร์มพื้นฐาน\n",
    "    return lemma_tokens"
   ]
  },
  {
   "cell_type": "markdown",
   "metadata": {},
   "source": [
    "### 4.lowercase 5. remove stop word  6. bag of word \n",
    "> กระบวนการนี้จะมีการกำหนด min df เเละ max df ของเอกสารทั้งหมดด้วย\n",
    "> ผลลัพธ์หลังจาก run กระบวนการนี้คือ เราจะได้ จำนวนคำที่เกิดขึ้นในเเต่ละเอกสารโดยผ่านการเลือกคำที่เป็นไปตามเงื่อนไขที่ตั้งไว้เเล้ว เช่น min_df stop word "
   ]
  },
  {
   "cell_type": "code",
   "execution_count": 35,
   "metadata": {},
   "outputs": [
    {
     "name": "stderr",
     "output_type": "stream",
     "text": [
      "[nltk_data] Downloading package wordnet to\n",
      "[nltk_data]     C:\\Users\\areeyamai\\AppData\\Roaming\\nltk_data...\n",
      "[nltk_data]   Package wordnet is already up-to-date!\n"
     ]
    },
    {
     "name": "stdout",
     "output_type": "stream",
     "text": [
      "[[ 0  0  0 ...  0  0  0]\n",
      " [ 2  2  0 ...  0  0  0]\n",
      " [ 1  1  0 ...  0  0  0]\n",
      " ...\n",
      " [ 1  0  0 ...  0 15  0]\n",
      " [ 0  0  0 ...  0  6  0]\n",
      " [ 0  0  0 ...  0  0  0]]\n",
      "(1408, 2087)\n"
     ]
    }
   ],
   "source": [
    "# ใช้ CountVectorizer เพื่อแปลงจาก ข้อความ lemma_tokens ให้เป็นตัวเลขในรูปแบบ matrix โดยการนับคำที่เกิดขึ้นในเอกสาร\n",
    "import nltk\n",
    "nltk.download('wordnet')\n",
    "from sklearn.feature_extraction.text import CountVectorizer\n",
    "'''เรียกใช้ fn lemma_tokenizer ที่มีการจัดคำไว้ ตั้ง stop_word ที่เป็นภาษาอังกฤษเพื่อลบคำที่ไม่สื่อความหมายออกจากเอกสาร เช่นคำเชื่อม \n",
    "เเละกำหนด mindf เเละ maxdf ด้วย หากมีคำที่ปรากฏบนเอกสาร < 20 เอกสาร หรือ > 700 เอกสารจะ ignore ทันที เพราะตัวเลข 700 ถือเป็นครึ่งหนึ่ง\n",
    "ของจำนวนเอกสารทั้งหมด เเละ class ของข้อมูลชุดนี้มีจำนวน 3 class ผู้จัดทำเลยคิดว่าหากมี > ครึ่งหนึ่งของเอกสารอาจเป็นคำที่ฟุ่มเฟือย เเละไม่ได้บอกคุณลักษระเฉพาะ\n",
    "ของเเต่ละเอกสารได้ เนื่องจากต้องการเปลียนค่าเป็นตัวพิมพ์เล็กด้วย จึงไม่ได้ใส่ lowercase เพราะ default จะกำหนดให้ return ตัวพิมพ์เล็ก'''\n",
    "vectorizer = CountVectorizer(tokenizer=lemma_tokenizer, stop_words=\"english\", min_df = 20, max_df=700) \n",
    "Feature = vectorizer.fit_transform(raw_documents) # นำ ข่าวทั้งหมดให้เป็นไปตามเงื่อนไขที่ตั้งไว้ จะ return เป็นค่า bag of word ออกมา\n",
    "print(Feature.todense()) # เรียกดู matix ความถี่ของคำ\n",
    "print(Feature.shape)  #จะได้จำนวนข่าว = 1408 ข่าว , จำนวนคำที่ไม่ซ้ำกันทั้งหมดในข่าว = 2087\n",
    "# print(X_train.todense())\n"
   ]
  },
  {
   "cell_type": "markdown",
   "metadata": {},
   "source": [
    "#### <li>ทดลองเรียกดูข้อมูลว่าเป็นตัวพิมพ์เล็กไหม"
   ]
  },
  {
   "cell_type": "code",
   "execution_count": 36,
   "metadata": {},
   "outputs": [
    {
     "name": "stdout",
     "output_type": "stream",
     "text": [
      "['associated', 'association', 'athens', 'athlete', 'athletics', 'atmosphere', 'attack', 'attacking', 'attempt', 'attention', 'auction', 'audience', 'audio', 'august', 'australia', 'australian', 'authority', 'auto', 'automatically', 'autumn']\n"
     ]
    }
   ],
   "source": [
    "terms = vectorizer.get_feature_names() # คำทั้งหมดที่ปรากฏ\n",
    "print(terms[201:221]) # เลือกบางคำ"
   ]
  },
  {
   "cell_type": "markdown",
   "metadata": {},
   "source": [
    "#### <li>หลังจากที่เราสร้างคลังคำศัพท์ เเละนับจำนวนคที่ปรากฎขึ้น (Bag-of-Word ด้วย CountVectorizer)  CountVectorizer จะ return จำนวนของคำในเเต่ละเอกสารออกมา\n",
    ">เเต่หากใช้เพียง CountVectorizer ความถี่ของคำจะมีปัญหาในกรณีที่เอกสารมีความยาวไม่เท่ากัน เเล้วดันเกิดคำนั้นซ้ำๆ จะส่งผลให้เกิดปัญหาในเรื่องของน้ำหนักความถี่ที่ได้จะไม่เท่ากัน ดังนั้นเราจึงนำ TF-IDF มาจัดการกับปัญหานี้ เพื่อลดน้ำหนักคำปกติทั่วๆไป เเละเพิ่มความถูกต้องในการนับคำ โดยจะทำต่อจาก CountVectorizer เพื่อเป็นการทำงานของ term Weighting "
   ]
  },
  {
   "cell_type": "markdown",
   "metadata": {},
   "source": [
    "### 7. TF-IDF Weighting เพื่อได้ความถี่ของคำจากเอกสารทั้งหมด \n",
    ">จากผลลัพธ์นี้เราจะได้ Document term matrix เพื่อสามารถเข้าสู่กระบวนการปกติในการ train model ได้ "
   ]
  },
  {
   "cell_type": "code",
   "execution_count": 37,
   "metadata": {},
   "outputs": [
    {
     "name": "stdout",
     "output_type": "stream",
     "text": [
      "X size  : (1408, 2087)\n",
      "[[0.         0.         0.         ... 0.         0.         0.        ]\n",
      " [0.06095425 0.06046855 0.         ... 0.         0.         0.        ]\n",
      " [0.02854119 0.02831376 0.         ... 0.         0.         0.        ]\n",
      " ...\n",
      " [0.02426885 0.         0.         ... 0.         0.69192239 0.        ]\n",
      " [0.         0.         0.         ... 0.         0.54849747 0.        ]\n",
      " [0.         0.         0.         ... 0.         0.         0.        ]]\n"
     ]
    }
   ],
   "source": [
    "# ใช้เพื่อเป็น tf-idf ในการคำนวนค่าความถี จาก Document ทั้งหมด \n",
    "from sklearn.feature_extraction.text import TfidfTransformer\n",
    "tfidf_transformer = TfidfTransformer()\n",
    "\n",
    "# ใช้ ความถี่จาก bag of word เพื่อนับคำที่เกิดขึ้นโดยจะเป็นความถี่ที่เกิดขึ้นจากการนับคำเเล้วหารด้วยคำทั้งหมดในเอกสาร\n",
    "X_Tfidf = tfidf_transformer.fit_transform(Feature) \n",
    "# Y_Tfidf = tfidf_transformer.fit_transform(target)\n",
    "\n",
    "print('X size  :',X_Tfidf.shape) # return จำนวน row column\n",
    "print(X_Tfidf.todense()) # เเสดงตัวเลขความถี่ในรูปแบบ matrix"
   ]
  },
  {
   "cell_type": "markdown",
   "metadata": {},
   "source": [
    "<li> ตอนนี้ผลลัพ์ที่ได้คือ term matrix ของข้อมูลเนื้อหาข่าวทั้งหมด ต่อไปจะทำการแปลง target จาก string ให้อยู่ในรูปเเบบตัวเลข ดังนี้ "
   ]
  },
  {
   "cell_type": "code",
   "execution_count": 38,
   "metadata": {},
   "outputs": [
    {
     "data": {
      "text/plain": [
       "['technology', 'business', 'technology', 'business', 'sport']"
      ]
     },
     "execution_count": 38,
     "metadata": {},
     "output_type": "execute_result"
    }
   ],
   "source": [
    "# เรียกดูข้อมูล target \n",
    "target[:5]"
   ]
  },
  {
   "cell_type": "markdown",
   "metadata": {},
   "source": [
    "#### แปลง target เป็น ตัวเลข "
   ]
  },
  {
   "cell_type": "code",
   "execution_count": 39,
   "metadata": {},
   "outputs": [
    {
     "data": {
      "text/plain": [
       "array([2, 0, 2, 0, 1], dtype=int64)"
      ]
     },
     "execution_count": 39,
     "metadata": {},
     "output_type": "execute_result"
    }
   ],
   "source": [
    "from sklearn.preprocessing import LabelEncoder\n",
    "labelEncoder = LabelEncoder() # เปลี่ยน target ให้เป็น 0, 1 ,2\n",
    "labelEncoder.fit(target) # fit กับข้อมูล target ทั้งหมด\n",
    "target = labelEncoder.transform(target) # แปลงจาก ตัวหนังสือ เป็น ตัวเลข\n",
    "target[:5]"
   ]
  },
  {
   "cell_type": "markdown",
   "metadata": {},
   "source": [
    "#### ดังนั้นจะได้ว่า <br>\n",
    "    0 = business <br>\n",
    "    1 = sport <br>\n",
    "    2 = technology"
   ]
  },
  {
   "cell_type": "code",
   "execution_count": 40,
   "metadata": {},
   "outputs": [
    {
     "data": {
      "text/plain": [
       "1408"
      ]
     },
     "execution_count": 40,
     "metadata": {},
     "output_type": "execute_result"
    }
   ],
   "source": [
    "len(target) # จำนวนข้อมูล target "
   ]
  },
  {
   "cell_type": "code",
   "execution_count": 41,
   "metadata": {},
   "outputs": [
    {
     "data": {
      "text/plain": [
       "(1408, 2087)"
      ]
     },
     "execution_count": 41,
     "metadata": {},
     "output_type": "execute_result"
    }
   ],
   "source": [
    "X_Tfidf.shape # เรียกดูจำนวนข้อมูล มีทั้งหมด 1408 เเถว (จำนวนข่าวทั้งหมด) มี 2087 feature : X_Tfidf = ตัวแปล X ในรูปแบบ term matrix "
   ]
  },
  {
   "cell_type": "code",
   "execution_count": 42,
   "metadata": {},
   "outputs": [],
   "source": [
    "# เพื่อความเข้าใจขอเเทนตัวแปร X เเละ Y สำหรับใช้ เป็น ข้อมูล feature เเละ target ตามลำดับ\n",
    "X = X_Tfidf\n",
    "Y = target"
   ]
  },
  {
   "cell_type": "markdown",
   "metadata": {},
   "source": [
    "### กระบวนการคร่าวๆ หลังจากนี้คือ \n",
    "            1. ได้ document term matrix จากขั้นตอน text processing \n",
    "            2. เเบ่ง test train \n",
    "            3. นำ test train มาสร้าง Model จาก classifier ประเภทต่างๆ พร้อม tune parameter \n",
    "            4. ได้ค่าความถูกต้อง ของเเต่ละโมเดล (โดยวิธีในการประเมินประสิทธิภาพของโมเดลเรานั้นจะพิจารณาค่า accuracy ของ model เเละ f1-score)\n",
    "                 - เหตุผลที่เลือกค่า f1-score เพราะเป็นค่าที่บ่งบอกถึง recall เเละ precision เลยเลือกที่จะพิจารณาเพื่อทราบค่าคร่าวๆของทั้ง 2 ได้ \n",
    "            5. เลือกใช้ model ที่ดีที่สุด \n",
    "            6. ทดลองนำข้อมูลใหม่เข้ามา เพื่อดูว่า model สามารถทำนายถูกต้องหรือไม่ "
   ]
  },
  {
   "cell_type": "markdown",
   "metadata": {},
   "source": [
    "## 2. เเบ่ง test train ด้วย วิธี hold-out sampling\n",
    "> เเบ่งเป็น 2 รูปแบบคือ \n",
    "  - train 80 test 20 \n",
    "  - train 70 test 30"
   ]
  },
  {
   "cell_type": "code",
   "execution_count": 43,
   "metadata": {},
   "outputs": [],
   "source": [
    "# เเบ่ง test train 80:20\n",
    "from sklearn.model_selection import train_test_split # '''เนื่องจากข้อมูลไม่ได้มีเยอะมาก จึงทดลองใช้ 80 20'''\n",
    "X_train2 , X_test2 , y_train2 , y_test2 = train_test_split(X, Y, test_size=0.2,\n",
    "                                                       random_state=42) # คือสุ่มทีละ 42 ตัว ใช้ค่านี้เนื่องจากเป็นค่าที่นิยมเเละใช้กันมากที่สุด "
   ]
  },
  {
   "cell_type": "code",
   "execution_count": 44,
   "metadata": {},
   "outputs": [],
   "source": [
    "# เเบ่ง test train 70:30\n",
    "from sklearn.model_selection import train_test_split \n",
    "X_train3 , X_test3 , y_train3 , y_test3 = train_test_split(X, Y, test_size=0.3,\n",
    "                                                       random_state=42)"
   ]
  },
  {
   "cell_type": "code",
   "execution_count": 45,
   "metadata": {},
   "outputs": [
    {
     "name": "stdout",
     "output_type": "stream",
     "text": [
      "X_train80 =  (1126, 2087)  || X_train70 =  (985, 2087)\n",
      "y_train80 =  (1126,)  ||  y_train70 =  (985,)\n",
      "X_test20 =  (282, 2087)  ||  X_test30 =  (423, 2087)\n",
      "y_test20 =  (282,)  ||  y_test30 =  (423,)\n"
     ]
    }
   ],
   "source": [
    "print('X_train80 = ' , X_train2.shape ,' ||', 'X_train70 = ' , X_train3.shape)\n",
    "print('y_train80 = ' , y_train2.shape,' || ', 'y_train70 = ' , y_train3.shape)\n",
    "print('X_test20 = ' , X_test2.shape,' || ', 'X_test30 = ' , X_test3.shape)\n",
    "print('y_test20 = ' , y_test2.shape ,' || ', 'y_test30 = ' , y_test3.shape)"
   ]
  },
  {
   "cell_type": "markdown",
   "metadata": {},
   "source": [
    "## 3. เริ่มสร้าง model\n",
    ">โดยเลือกใช้ classifier ประเภทต่างๆ  เเละปรับ parameter  เพื่อได้ Best parameter ในเเต่ละ model ดังนี้ <br>\n",
    "K-NN <br>\n",
    "XGboost <br>\n",
    "Logistic Regression<br>\n",
    "Neural network<br>\n",
    "ensemble"
   ]
  },
  {
   "cell_type": "markdown",
   "metadata": {},
   "source": [
    "## <li>KNeighborsClassifier\n",
    ">เนื่องจาก Knn เป็นหนึ่งในประเภท supervise learning ดังนั้นด้วยกับหลักการที่ว่ามันจะหาเพื่อนบ้านที่ใกล้ที่สุด เเละเลือกคำตอบจากผลลัพธ์ที่ได้มากที่สุด ดังนั้น ด้วยสมมติฐานของผู้เขียน การที่มันทำนายจากความคล้ายคลึงของคลาสต่างๆ จะช่วยให้เมื่อมันเจอข้อมูลใหม่ๆ จะสามารถคำนวณหาระยะห่างของตัวเลขข้อมูลได้ เเละติดสินใจได้ค่าที่ถูกต้องในคลาสต่างๆได้  เเต่เมื่อลองทดสอบดูเเล้วพบว่า ค่าความถูกต้องอาจจะยังไม่มาก ซึ่งอาจมาจากจำนวน attribute ของข้อมูลที่ใช้ train มีจำนวนมากๆ เเล้วส่งผลต่อ model \n"
   ]
  },
  {
   "cell_type": "code",
   "execution_count": 46,
   "metadata": {
    "scrolled": true
   },
   "outputs": [
    {
     "name": "stdout",
     "output_type": "stream",
     "text": [
      "Best param for test 20\n",
      "{'metric': 'euclidean', 'n_neighbors': 45, 'weights': 'uniform'}\n",
      "Best param for test 30\n",
      "{'metric': 'euclidean', 'n_neighbors': 45, 'weights': 'uniform'}\n"
     ]
    }
   ],
   "source": [
    "from sklearn.model_selection import GridSearchCV\n",
    "knn = KNeighborsClassifier() # กำหนด classifier\n",
    "parameters = { \n",
    "    'n_neighbors' : list(np.arange(3,60,2)),  # กำหนดจำนวนเพื่อนบ้านที่ใกล้ที่สุดตั้งเเต่ 3 - 60 จำนวน เพื่อ return ค่าที่เหมาะสมที่สุดสำหรับโมเดล\n",
    "    'weights' : ['uniform', 'distance'], # รูปแบบการคำนวณค่า weight\n",
    "    'metric' : ['euclidean', 'manhattan'] # เพื่อดูว่าต้องใช้การคำนวนระยะทางเเบบใดเพื่อได้ model ที่มีประสิทธิภาพมากที่สุด\n",
    "}\n",
    "'''จากรายการ parameters ที่ผู้จัดทำต้องการทราบคือ จำนวนเพื่อนบ้านที่ดีที่สุด\n",
    "weight ที่มีผลต่อการคำนวณน้ำหนักในเเต่ละจุดข้อมูล เพื่อลดปัญหาการนำข้อมูลเข้าผิดกลุ่ม \n",
    "เนื่องจากบางกรณี หากเราไม่มีการคำนวณค่าน้ำหนักของข้อมูลอื่นๆ การกำหนดเพียงค่า k อย่างเดียวอาจทำให้้ได้ผลของการเเบ่งกลุ่มที่ผิดพลาดได้'''\n",
    "\n",
    "folds = 5 # กำหนด k-fold = 5 ซึ่งเป็นค่าที่นิยมใช้กันมากที่สุด \n",
    "\n",
    "'''ช้คำสั่ง StratifiedKFold ซึ่งเอาไว้ใช้เมื่อต้องการแบ่งกลุ่มให้สัดส่วนคำตอบเท่าเดิมตอนทำ crossvalidation ในช่วงที่มีการนำข้อมูลมาเป็นทั้ง train เเละ test\n",
    "ต้องการให้เลขสุ่มเรียงด้วยคีย์เวิร์ด shuffle=True เพื่อกันการนำเอาข้อมูลเเต่ละ fold ที่ซ้ำกัน'''\n",
    "skf = StratifiedKFold(n_splits=folds, shuffle = True, random_state = 42) \n",
    "\n",
    "knn_best = GridSearchCV(knn, parameters, cv=skf) # หา parameter ด้วย gridsearch  \n",
    "Knn2 = knn_best.fit(X_train2,y_train2)  # train ด้วยข้อมูล 80:20 , 70:30\n",
    "knn3 = knn_best.fit(X_train3,y_train3) \n",
    "\n",
    "print(\"Best param for test 20\")\n",
    "print(Knn2.best_params_ ) # จะได้ค่า n ที่ดีที่สุดสำหรับข้อมูลเเต่ละชุด\n",
    "\n",
    "print(\"Best param for test 30\")\n",
    "print(knn3.best_params_)"
   ]
  },
  {
   "cell_type": "markdown",
   "metadata": {},
   "source": [
    "<li>กำหนดตัวแปลเพื่อเก็บค่า best parameter ไว้ "
   ]
  },
  {
   "cell_type": "code",
   "execution_count": 47,
   "metadata": {},
   "outputs": [],
   "source": [
    "bestparamKNN = Knn2.best_params_ #  parameter ที่ได้เหมือนกะนจึงเก็บไว้ในตัวแปลเดียว"
   ]
  },
  {
   "cell_type": "markdown",
   "metadata": {},
   "source": [
    "### สร้าง model ด้วย parameter ที่ดีที่สุด"
   ]
  },
  {
   "cell_type": "markdown",
   "metadata": {},
   "source": [
    "### ใช้ข้อมูล test = 20 เเละ train = 80 "
   ]
  },
  {
   "cell_type": "code",
   "execution_count": 48,
   "metadata": {},
   "outputs": [
    {
     "name": "stdout",
     "output_type": "stream",
     "text": [
      "KNeighborsClassifier accuracy of test set = 0.2 is  : 96.10%\n"
     ]
    }
   ],
   "source": [
    "# ใช้ค่า parameter ที่ดีที่สุด\n",
    "# knn = KNeighborsClassifier(bestparam20)\n",
    "knn.set_params(**bestparamKNN) # เพื่อเรียกใช้เซตพารามีเตอร์ที่ดีที่สุดไว้ในตัวแปร\n",
    "knn.fit(X_train2, y_train2) #  train \n",
    "y_pred2 = knn.predict(X_test2) # ทำนายข้อมูลด้วย X_test\n",
    "accuracyknn2 = accuracy_score(y_test2, y_pred2) # คำนวนค่า accuracy ของ model นี้\n",
    "print(\"KNeighborsClassifier accuracy of test set = 0.2 is  : {:.2f}%\". format(accuracyknn2*100))"
   ]
  },
  {
   "cell_type": "markdown",
   "metadata": {},
   "source": [
    "#### f1_score value for train 80 test 20"
   ]
  },
  {
   "cell_type": "code",
   "execution_count": 49,
   "metadata": {},
   "outputs": [
    {
     "name": "stdout",
     "output_type": "stream",
     "text": [
      "f1_score for XGB test set = 0.2 is  : 96.10%\n"
     ]
    }
   ],
   "source": [
    "from sklearn.metrics import f1_score\n",
    "f1_score = f1_score(y_test2, y_pred2,average='macro') # ใช้ค่าของข้อมูล test 20\n",
    "print(\"f1_score for XGB test set = 0.2 is  : {:.2f}%\". format(f1_score*100))"
   ]
  },
  {
   "cell_type": "markdown",
   "metadata": {},
   "source": [
    "### ใช้ข้อมูล test = 30 เเละ train = 70 \n",
    "> รูปแบบ code เหมือนกันกับ train test ด้านบน เพียงเเต่ต่างกันที่จำนวนข้อมูลเท่านั้น จึงขอไม่เขียนอธิบาย code เพิ่มเติมในส่วนของ train 70 test 30ในเเต่ละ model"
   ]
  },
  {
   "cell_type": "code",
   "execution_count": 50,
   "metadata": {},
   "outputs": [
    {
     "name": "stdout",
     "output_type": "stream",
     "text": [
      "KNeighborsClassifier accuracy of test set = 0.3 is  : 95.51%\n"
     ]
    }
   ],
   "source": [
    "# ใช้ค่า parameter ที่ดีที่สุด\n",
    "knn.set_params(**bestparamKNN)\n",
    "knn.fit(X_train3, y_train3)\n",
    "y_pred3 = knn.predict(X_test3)\n",
    "accuracyknn3 = accuracy_score(y_test3, y_pred3)\n",
    "print(\"KNeighborsClassifier accuracy of test set = 0.3 is  : {:.2f}%\". format(accuracyknn3*100))"
   ]
  },
  {
   "cell_type": "markdown",
   "metadata": {},
   "source": [
    "#### f1_score value for train 70 test 30"
   ]
  },
  {
   "cell_type": "code",
   "execution_count": 51,
   "metadata": {
    "scrolled": true
   },
   "outputs": [
    {
     "name": "stdout",
     "output_type": "stream",
     "text": [
      "f1_score for XGB test set = 0.2 is  : 95.47%\n"
     ]
    }
   ],
   "source": [
    "from sklearn.metrics import f1_score\n",
    "f1_score = f1_score(y_test3, y_pred3,average='macro') # ใช้ค่าของข้อมูล test 30\n",
    "print(\"f1_score for XGB test set = 0.2 is  : {:.2f}%\". format(f1_score*100))"
   ]
  },
  {
   "cell_type": "markdown",
   "metadata": {},
   "source": [
    "## <li>XGboost\n",
    ">XGboost เป็น model ที่มีการเรียนรู้ได้อย่างมีประสิทธิภาพ กล่าวคือ การเรียนเเล้วนำเอาข้อผิดพลาดกลับมาเรียนซ้ำๆ เพื่อสามารถลด error จากการเรียนรู้ก่อนๆ ได้ ทำให้ model ที่ใช้ XGboost จะช่วยลด bias รวมถึง overfit ได้ด้วย  จึงคิดว่า model นี้จะทำให้การทำนายออกมาเเม่นยำ เเละมีประสิทธิภาพมากขึ้น"
   ]
  },
  {
   "cell_type": "markdown",
   "metadata": {
    "scrolled": true
   },
   "source": [
    "### กำหนด parameter เพื่อหา best params ด้วย RandomizedSearchCV"
   ]
  },
  {
   "cell_type": "code",
   "execution_count": 52,
   "metadata": {},
   "outputs": [
    {
     "name": "stdout",
     "output_type": "stream",
     "text": [
      "Fitting 5 folds for each of 5 candidates, totalling 25 fits\n"
     ]
    },
    {
     "name": "stderr",
     "output_type": "stream",
     "text": [
      "[Parallel(n_jobs=2)]: Using backend LokyBackend with 2 concurrent workers.\n",
      "[Parallel(n_jobs=2)]: Done  25 out of  25 | elapsed:  1.3min finished\n"
     ]
    },
    {
     "name": "stdout",
     "output_type": "stream",
     "text": [
      "Fitting 5 folds for each of 5 candidates, totalling 25 fits\n"
     ]
    },
    {
     "name": "stderr",
     "output_type": "stream",
     "text": [
      "[Parallel(n_jobs=2)]: Using backend LokyBackend with 2 concurrent workers.\n",
      "[Parallel(n_jobs=2)]: Done  25 out of  25 | elapsed:  1.2min finished\n"
     ]
    },
    {
     "name": "stdout",
     "output_type": "stream",
     "text": [
      "{'n_estimators': 140, 'max_depth': 8}\n",
      "{'n_estimators': 140, 'max_depth': 8}\n"
     ]
    }
   ],
   "source": [
    "'''กำหนด parameter คือ max depth เเละ n_estimators คือความลึกของ tree เเละจำนวน tree เพราะหากไม่มีการ กำหนดค่าพวกนี้ หรือใช้ค่าเหล่านี้\n",
    "โดยไม่คำนึงถึงข้อมูลเรา อาจทำให้โมเดลที่ได้เกิด overfit ได้'''\n",
    "parameters = {\n",
    "    'max_depth': range (2, 10, 2),\n",
    "    'n_estimators': range(60, 220, 40), # จำนวน tree ที่จะได้ค่า acc มากที่สุด\n",
    "}\n",
    "\n",
    "\n",
    "xgb = XGBClassifier(learning_rate=0.02, objective='multi:softmax') # กำหนด objective เพราะเป็น multiclass \n",
    "# cross validation \n",
    "folds = 5\n",
    "skf = StratifiedKFold(n_splits=folds, shuffle = True)\n",
    "\n",
    "# เพื่อได้ parameter ที่ได้ จึงกำหนดค่า n_iter ให้มันเทนรเป็นจำนวน 5ครั้ง  n_jobs ให้มัน train พร้อมๆกัน , เเละ verbose = ความละเอียดในการ train model\n",
    "randomxgb = RandomizedSearchCV(xgb, param_distributions=parameters, n_iter=5, n_jobs=2, cv=skf, verbose=3, random_state=42) \n",
    "xgb2 = randomxgb.fit(X_train2,y_train2) # train ด้วย ข้อมูล 80 20 \n",
    "xgb3 = randomxgb.fit(X_train3,y_train3) # train ด้วย ข้อมูล 70 30 \n",
    "print(xgb2.best_params_) \n",
    "print(xgb3.best_params_)"
   ]
  },
  {
   "cell_type": "markdown",
   "metadata": {},
   "source": [
    "#### กำหนดตัวแปรเพื่อเก็บค่า bestparams ของเเต่ละโมเดล"
   ]
  },
  {
   "cell_type": "code",
   "execution_count": 53,
   "metadata": {},
   "outputs": [],
   "source": [
    "xgb_bestparams = xgb2.best_params_"
   ]
  },
  {
   "cell_type": "markdown",
   "metadata": {},
   "source": [
    "### ทดลองสร้าง model ด้วย best parameter "
   ]
  },
  {
   "cell_type": "markdown",
   "metadata": {},
   "source": [
    "### ใช้ข้อมูล train 80 test 20"
   ]
  },
  {
   "cell_type": "code",
   "execution_count": 54,
   "metadata": {},
   "outputs": [
    {
     "name": "stdout",
     "output_type": "stream",
     "text": [
      "XGB accuracy of test set = 0.2 is  : 91.84%\n"
     ]
    }
   ],
   "source": [
    "xgb.set_params(**xgb_bestparams) # นำค่า best params มา ใช้\n",
    "xgb.fit(X_train2,y_train2) # เเละใช้ train model \n",
    "y_pred2 = xgb.predict(X_test2) # ทำนายค่า X test\n",
    "# evaluate predictions\n",
    "accuracy = accuracy_score(y_test2,y_pred2) # คำนวน acc ของการทำนาย\n",
    "print(\"XGB accuracy of test set = 0.2 is  : {:.2f}%\". format(accuracy*100))"
   ]
  },
  {
   "cell_type": "markdown",
   "metadata": {},
   "source": [
    "#### f1_score value for train 80 test 20"
   ]
  },
  {
   "cell_type": "code",
   "execution_count": 55,
   "metadata": {},
   "outputs": [
    {
     "name": "stdout",
     "output_type": "stream",
     "text": [
      "f1_score for XGB test set = 0.2 is  : 91.70%\n"
     ]
    }
   ],
   "source": [
    "from sklearn.metrics import f1_score\n",
    "f1_score = f1_score(y_test2, y_pred2,average='macro') # ใช้ค่าของข้อมูล test 20\n",
    "print(\"f1_score for XGB test set = 0.2 is  : {:.2f}%\". format(f1_score*100))"
   ]
  },
  {
   "cell_type": "markdown",
   "metadata": {},
   "source": [
    "### ใช้ข้อมูล train 70 test 30"
   ]
  },
  {
   "cell_type": "code",
   "execution_count": 56,
   "metadata": {},
   "outputs": [
    {
     "name": "stdout",
     "output_type": "stream",
     "text": [
      "XGB accuracy of test set = 0.3 is  : 92.43%\n"
     ]
    }
   ],
   "source": [
    "# train 70 test 30\n",
    "xgb.set_params(**xgb_bestparams)\n",
    "# xgb = XGBClassifier(n_estimators= 140, max_dept= 8,learning_rate=0.05, objective='multi:softmax')\n",
    "xgb.fit(X_train3,y_train3)\n",
    "y_pred3 = xgb.predict(X_test3)\n",
    "# evaluate predictions\n",
    "accuracy = accuracy_score(y_test3,y_pred3)\n",
    "print(\"XGB accuracy of test set = 0.3 is  : {:.2f}%\". format(accuracy*100))"
   ]
  },
  {
   "cell_type": "markdown",
   "metadata": {},
   "source": [
    "#### f1_score value for train 70 test 30"
   ]
  },
  {
   "cell_type": "code",
   "execution_count": 57,
   "metadata": {},
   "outputs": [
    {
     "name": "stdout",
     "output_type": "stream",
     "text": [
      "f1_score for XGB test set = 0.3 is  : 92.34%\n"
     ]
    }
   ],
   "source": [
    "from sklearn.metrics import f1_score\n",
    "f1_score = f1_score(y_test3, y_pred3,average='macro') # ใช้ค่าของข้อมูล test 30\n",
    "print(\"f1_score for XGB test set = 0.3 is  : {:.2f}%\". format(f1_score*100))"
   ]
  },
  {
   "cell_type": "markdown",
   "metadata": {},
   "source": [
    "<!-- # SVM ใช้\n",
    "เหมาะกับ dataset ที่มีฟีเจอร์เยอะๆ แต่ขนาดข้อมูลเล็ก-ปานกลาง หลักการพื้นฐานคือพยายามหาเส้นแบ่งระหว่างคลาสต่างๆในข้อมูล -->"
   ]
  },
  {
   "cell_type": "markdown",
   "metadata": {},
   "source": [
    "## <li> Logistic Regression\n",
    ">โดยปกติ จะใช้กับ binary classification เพื่อใช้ทำนายความน่าจะเป็นว่าข้อมูลจะอยู่ class ใด เเต่ก็สามารถประยุกต์ใช้กับ multiclass-classification  ได้เช่นกัน เพื่อทำนายโอกาสที่จะเป็น class ไหนได้จาก class ที่มี % มากที่สุด ผู้จัดทำจึงเห็นว่าเมื่อเราลองเทรนเเล้ว จะใช้การคำนวนค่าความน่าจะเป็นว่ารูปแบบข้อมูลเเบบนี้จะอยู่ class ใดนั้นน่าจะให้ผลลัพธ์ที่ดีด้วย \n"
   ]
  },
  {
   "cell_type": "code",
   "execution_count": 58,
   "metadata": {},
   "outputs": [
    {
     "name": "stdout",
     "output_type": "stream",
     "text": [
      "tuned hpyerparameters :(best parameters)  {'C': 10, 'penalty': 'l2'}\n",
      "tuned hpyerparameters :(best parameters)  {'C': 10, 'penalty': 'l2'}\n"
     ]
    }
   ],
   "source": [
    "# Grid search and cross validation\n",
    "from sklearn.model_selection import GridSearchCV\n",
    "from sklearn.linear_model import LogisticRegression\n",
    "params={\"penalty\":[\"l1\",\"l2\"], # l1 l2 เพื่อกำหนดการคำนวนระยะทางเเบบ euclidean or manhattan l1-norm or l2-norm\n",
    "       'C': [0.001, 0.01, 0.1, 1, 10]}   # ค่า c เพื่อได้ ค่า c ที่เหมาะสมในการ fit model ที่ลด overfitting ได้ \n",
    "LR=LogisticRegression() # ประกาศ model\n",
    "folds = 5\n",
    "skf = StratifiedKFold(n_splits=folds, shuffle = True, random_state = 1001) # กำหนดรูปแบบการทำ cross val\n",
    "LR_cv=GridSearchCV(LR,params,cv=skf) # หา best params ด้วย gridsearch\n",
    "LR_cv2 = LR_cv.fit(X_train2,y_train2) # train model 80 | 20\n",
    "LR_cv3 = LR_cv.fit(X_train3,y_train3) #train model 70|30\n",
    "print(\"tuned hpyerparameters :(best parameters) \",LR_cv2.best_params_)\n",
    "print(\"tuned hpyerparameters :(best parameters) \",LR_cv3.best_params_)"
   ]
  },
  {
   "cell_type": "code",
   "execution_count": 59,
   "metadata": {},
   "outputs": [],
   "source": [
    "LR_bestparam = LR_cv2.best_params_"
   ]
  },
  {
   "cell_type": "markdown",
   "metadata": {},
   "source": [
    "### ใช้ข้อมูล test = 20 เเละ train = 80 "
   ]
  },
  {
   "cell_type": "code",
   "execution_count": 60,
   "metadata": {},
   "outputs": [
    {
     "name": "stdout",
     "output_type": "stream",
     "text": [
      "Accuracy for LogisticRegression of test set = 0.2 is  : 98.58%\n"
     ]
    }
   ],
   "source": [
    "# LR=LogisticRegression(C=10,penalty=\"l2\")\n",
    "LR.set_params(**LR_bestparam) # เรียกใช้ best params\n",
    "LR2 = LR.fit(X_train2,y_train2) # train with test 20\n",
    "pred=LR2.predict(X_test2)\n",
    "accuracylr2 = accuracy_score(y_test2, pred) # ค่า accuracy \n",
    "print(\"Accuracy for LogisticRegression of test set = 0.2 is  : {:.2f}%\". format(accuracylr2*100))"
   ]
  },
  {
   "cell_type": "markdown",
   "metadata": {},
   "source": [
    "#### f1_score value for train 80 test 20"
   ]
  },
  {
   "cell_type": "code",
   "execution_count": 61,
   "metadata": {},
   "outputs": [
    {
     "name": "stdout",
     "output_type": "stream",
     "text": [
      "f1_score for LogisticRegression test set = 0.2 is  : 98.61%\n"
     ]
    }
   ],
   "source": [
    "from sklearn.metrics import f1_score\n",
    "f1_score = f1_score(y_test2, pred,average='macro') # ใช้ค่าของข้อมูล test 20\n",
    "print(\"f1_score for LogisticRegression test set = 0.2 is  : {:.2f}%\". format(f1_score*100))"
   ]
  },
  {
   "cell_type": "markdown",
   "metadata": {},
   "source": [
    "### ใช้ข้อมูล test = 30 เเละ train = 70 "
   ]
  },
  {
   "cell_type": "code",
   "execution_count": 62,
   "metadata": {},
   "outputs": [
    {
     "name": "stdout",
     "output_type": "stream",
     "text": [
      "Accuracy for LogisticRegression of test set = 0.3 is  : 97.87%\n"
     ]
    }
   ],
   "source": [
    "LR.set_params(**LR_bestparam)\n",
    "LR3 = LR.fit(X_train3,y_train3)\n",
    "pred=LR3.predict(X_test3)\n",
    "accuracylr3 = accuracy_score(y_test3, pred)\n",
    "print(\"Accuracy for LogisticRegression of test set = 0.3 is  : {:.2f}%\". format(accuracylr3*100))"
   ]
  },
  {
   "cell_type": "markdown",
   "metadata": {},
   "source": [
    "#### f1_score value for train 70 test 30"
   ]
  },
  {
   "cell_type": "code",
   "execution_count": 63,
   "metadata": {},
   "outputs": [
    {
     "name": "stdout",
     "output_type": "stream",
     "text": [
      "f1_score for LogisticRegression  test set = 0.3 is  : 97.86%\n"
     ]
    }
   ],
   "source": [
    "from sklearn.metrics import f1_score\n",
    "f1_score = f1_score(y_test3, pred,average='macro') # ใช้ค่าของข้อมูล test 30\n",
    "print(\"f1_score for LogisticRegression  test set = 0.3 is  : {:.2f}%\". format(f1_score*100))"
   ]
  },
  {
   "cell_type": "markdown",
   "metadata": {},
   "source": [
    "## <li>Neural Network \n",
    ">เนื่องจาก Neural network ใช้เวลาสอนหรือเรียนรู้นาน จึงคิดว่ายิ่งเรียนรู้ได้ลึกซึ้งเพียงใดความถุกต้องจึงมีค่ามากขึ้นด้วย เเละยังช่วยจัดการข้อมูล train ที่มีค่า error ให้ลดลงได้ เเละที่สำคัญคือ Neural Network  จะมีการทำ Optimization Algorithms ที่จะช่วยให้ปรับปรุงค่าต่างๆ ใน ซึ่งหน้าที่ของมันคือปรับปรุงค่าต่างๆใน neural network ให้ผลลัพธ์ที่ได้ ใกล้เป้าหมายมากขึ้น จึงเลือกใช้ เพื่อหวังว่าโมเดลที่ได้จะมีประสิทธิภาพ"
   ]
  },
  {
   "cell_type": "code",
   "execution_count": 125,
   "metadata": {
    "scrolled": true
   },
   "outputs": [
    {
     "name": "stdout",
     "output_type": "stream",
     "text": [
      "{'activation': 'relu', 'alpha': 0.0001, 'hidden_layer_sizes': (50, 100, 50), 'learning_rate': 'constant', 'solver': 'adam'}\n",
      "{'activation': 'relu', 'alpha': 0.0001, 'hidden_layer_sizes': (50, 100, 50), 'learning_rate': 'constant', 'solver': 'adam'}\n"
     ]
    }
   ],
   "source": [
    "from sklearn.neural_network import MLPClassifier\n",
    "NN = MLPClassifier()\n",
    "'''กำหนด parameter สำหรับ neural network ด้วยการกำหนด hidden layer ที่เหมาะสมเพื่อให้การ train มีประสิทธิภาพ'''\n",
    "parameter = {\n",
    "    'hidden_layer_sizes': [(50,50,50), (50,100,50), (100,)],\n",
    "    'activation': ['relu','softmax'],\n",
    "    'solver': ['sgd', 'adam'],\n",
    "    'alpha': [0.0001, 0.05],\n",
    "    'learning_rate': ['constant','adaptive'],\n",
    "}\n",
    "folds = 5\n",
    "skf = StratifiedKFold(n_splits=folds, shuffle = True, random_state = 1001)\n",
    "NNgrid = GridSearchCV(NN, parameter, n_jobs=-1, cv=skf) # Tune parameter \n",
    "NN2 = NNgrid.fit(X_train2, y_train2) # train  80 20 \n",
    "NN3 = NNgrid.fit(X_train3, y_train3) # train  80 20 \n",
    "print(NN2.best_params_) #  return ค่า best params\n",
    "print(NN3.best_params_)"
   ]
  },
  {
   "cell_type": "code",
   "execution_count": 151,
   "metadata": {},
   "outputs": [],
   "source": [
    "NNbestparam = NN2.best_params_ # เก็บ parameter ไว้ในตัวแปร NNbestparam"
   ]
  },
  {
   "cell_type": "markdown",
   "metadata": {},
   "source": [
    "### ใช้ข้อมูล test = 20 เเละ train = 80"
   ]
  },
  {
   "cell_type": "code",
   "execution_count": 152,
   "metadata": {},
   "outputs": [
    {
     "name": "stdout",
     "output_type": "stream",
     "text": [
      "Accuracy for neural_network of test set = 0.2 is  : 98.94%\n"
     ]
    }
   ],
   "source": [
    "NN.set_params(**NNbestparam) # เรียกใช้ best params\n",
    "NN.fit(X_train2, y_train2) # train ข้อมูลด้วย best params\n",
    "pred =NN.predict(X_test2) # ทำนายค่า X test\n",
    "accuracynn = accuracy_score(y_test2, pred) # เทียบว่าตรงกับผลลัพธ์ไหม\n",
    "print(\"Accuracy for neural_network of test set = 0.2 is  : {:.2f}%\". format(accuracynn*100))"
   ]
  },
  {
   "cell_type": "markdown",
   "metadata": {},
   "source": [
    "#### f1_score value for train 80 test 20"
   ]
  },
  {
   "cell_type": "code",
   "execution_count": 156,
   "metadata": {},
   "outputs": [
    {
     "name": "stdout",
     "output_type": "stream",
     "text": [
      "f1_score for neural network test set = 0.2 is  : 98.94%\n"
     ]
    }
   ],
   "source": [
    "from sklearn.metrics import f1_score\n",
    "f1_score = f1_score(y_test2, pred,average='macro') # ใช้ค่าของข้อมูล test 20\n",
    "print(\"f1_score for neural network test set = 0.2 is  : {:.2f}%\". format(f1_score*100))"
   ]
  },
  {
   "cell_type": "markdown",
   "metadata": {},
   "source": [
    "### ใช้ข้อมูล test = 30 เเละ train = 70"
   ]
  },
  {
   "cell_type": "code",
   "execution_count": 157,
   "metadata": {},
   "outputs": [
    {
     "name": "stdout",
     "output_type": "stream",
     "text": [
      "Accuracy for neural_network of test set = 0.3 is  : 98.35%\n"
     ]
    }
   ],
   "source": [
    "NN.set_params(**NNbestparam)\n",
    "NN.fit(X_train3, y_train3)\n",
    "pred =NN.predict(X_test3)\n",
    "accuracynn3 = accuracy_score(y_test3, pred)\n",
    "print(\"Accuracy for neural_network of test set = 0.3 is  : {:.2f}%\". format(accuracynn3*100))"
   ]
  },
  {
   "cell_type": "markdown",
   "metadata": {},
   "source": [
    "#### f1_score value for train 70 test 30"
   ]
  },
  {
   "cell_type": "code",
   "execution_count": 130,
   "metadata": {},
   "outputs": [
    {
     "name": "stdout",
     "output_type": "stream",
     "text": [
      "f1_score for neural network test set = 0.3 is  : 98.33%\n"
     ]
    }
   ],
   "source": [
    "from sklearn.metrics import f1_score\n",
    "f1_score = f1_score(y_test3, pred,average='macro')\n",
    "print(\"f1_score for neural network test set = 0.3 is  : {:.2f}%\". format(f1_score*100))"
   ]
  },
  {
   "cell_type": "markdown",
   "metadata": {},
   "source": [
    "## <li>ensembles with individual model  ใช้ best parameter ของเเต่ละ classifier มาใช้ใน ensembles"
   ]
  },
  {
   "cell_type": "code",
   "execution_count": 132,
   "metadata": {},
   "outputs": [
    {
     "name": "stdout",
     "output_type": "stream",
     "text": [
      "Ensemble model perform = 98.58%\n"
     ]
    }
   ],
   "source": [
    "# ensemble with individual model  bestparamKNN ,xgb_bestparams , LR_bestparam, NNbestparam \n",
    "from sklearn.ensemble import VotingClassifier \n",
    "''' ขั้นตอนนี้จะเป็นการนำเอาค่า best parameter ของ ทั้ง 4 model ที่ทำไว้ได้แก่ [knn, xgboost, logistic regression เเละ neural network] มา train\n",
    "ด้วย ensemble ดดยมีความคาดหวังว่าจะได้ ค่า accuracy ที่มากขึ้น '''\n",
    "estimator = [('Knn',knn.set_params(**bestparamKNN) ),('xgb',xgb.set_params(**xgb_bestparams)),\n",
    "             ('LR' ,LR.set_params(**LR_bestparam) ), ('NN' ,NN.set_params(**NNbestparam))] #  \n",
    "# ใช้ voting เเบบ soft เนื่องจาก เราใช้จำนวน 4 โมเดล จึงไม่เหมาะกับเเบบ hard ที่เป็นลักษณะ majority voting\n",
    "ensemble = VotingClassifier(estimator,voting='soft') \n",
    "ensemble.fit(X_train2,y_train2) # fit ข้อมูลที่ถูกเเบ่งด้วย 80 20 เท่านั้น เพราะเมื่อพิจารณาดูเเล้ว การเเบ่ง 80 20 นั้นได้ค่า accuracy มากกว่า \n",
    "pred =ensemble.predict(X_test2) # ทำนายค่า X_test \n",
    "accuracy = accuracy_score(y_test2, pred) # คำนวนค่าความถูกต้องของ model \n",
    "print(\"Ensemble model perform = {:.2f}%\". format(accuracy*100))"
   ]
  },
  {
   "cell_type": "markdown",
   "metadata": {},
   "source": [
    "## สรุป ค่า accuracy ของเเต่ละโมเดล ที่ได้จากการทดลอง"
   ]
  },
  {
   "attachments": {
    "image.png": {
     "image/png": "[encoded data removed]"
    }
   },
   "cell_type": "markdown",
   "metadata": {},
   "source": [
    "![image.png](attachment:image.png)\n",
    "#### <li>จากผลลัพธ์จะพบว่า model ที่ได้ประสิทธิภาพมากที่สุดคือ neural network ได้ค่า accuracy = 98.94 % f1-score = 98.94% นั่นหมายความว่าค่า racall เเละ precision จะให้ค่าที่สอดคล้องกับค่า accuracy  ดังนั้นหากเลือกใช้โมเดลจากกการทดลองในครั้งนี้เพื่อให้ได้ประสิทธิภาพในการทำนายมากที่สุดจำนวน 1 model จะเลือกใช้ neural network ที่ถูกแบ่งข้อมูล train test เป็น 80 20  ค่ะ เพราะเมื่อลอง ทดลองไปเรื่อยๆเเล้ว พบว่า การเเบ่งข้อมูล test train 80 20 จะได้ประสิทธิภาพในการทำนายมากกว่าเเบบเเบ่ง 70 30 อาจเป็นเพราะข้อมูลของเราไม่ได้มีมาก จึงจำเป็นต้องใช้ข้อมูลในการ train ให้มากพอที่ model จะสามารถทำนายค่าได้"
   ]
  },
  {
   "cell_type": "markdown",
   "metadata": {},
   "source": [
    "### test model  neural network "
   ]
  },
  {
   "cell_type": "code",
   "execution_count": 155,
   "metadata": {},
   "outputs": [
    {
     "name": "stdout",
     "output_type": "stream",
     "text": [
      "ผลลัพธ์ที่เป็นค่าจริงของข้อมูลที่นำมาทำนาย ข่าวที่ 20 - 30 : [1 0 1 1 1 2 0 2 1 0 2 0 1 0 0]\n",
      "---------------------------------------------------------------------------------------------------------\n",
      "Predicted Value of neural network : ['1', '0', '1', '1', '1', '2', '0', '2', '1', '0', '2', '0', '1', '0', '0']\n"
     ]
    }
   ],
   "source": [
    "NeuralN_test = []\n",
    "for i in range(20,35,1): # เลือกข้อมูลมาทำนายข่าวที่ 20-30\n",
    "    predict_NN = NN.predict(X_Tfidf[i]) # ทำนายข้อมูลจาก document term matrix ที่ได้ กำหนดไว้ก่อนหน้า \n",
    "    NeuralN_test.append('%.0f' % (predict_NN))\n",
    "\n",
    "print('ผลลัพธ์ที่เป็นค่าจริงของข้อมูลที่นำมาทำนาย ข่าวที่ 20 - 30 :' , (target[20:35]))\n",
    "print('---------------------------------------------------------------------------------------------------------')\n",
    "print('Predicted Value of neural network :', (NeuralN_test))\n"
   ]
  },
  {
   "cell_type": "markdown",
   "metadata": {},
   "source": [
    ">เเต่ถ้าในกรณีที่ต้องการความเเม่นยำของ model อาจจะเลือก model 3 model ที่ให้ค่า accuracy มากที่สุด มาทดลองกับข้อมูลใหม่ๆ เเล้วใช้ majority voting ในการทำนายผลลัพธ์ที่ได้จากทั้ง 3 model ยกตัวอย่างเช่น neural network ทำนายได้ 0 , ensembles ทำนาย ได้ 1 , logistic regression ทำนายได้ 1 ก็จะเลือกผลลัพธ์สุดท้ายคือ 1 เป็นต้น "
   ]
  },
  {
   "cell_type": "markdown",
   "metadata": {},
   "source": [
    "#### หมายเหตุ :  \n",
    "- หากผู้จัดทำ รายงานสิ่งใดผิดพลาดประการใดต้องขออภัยมา ณ ที่นี้ด้วยค่ะ "
   ]
  },
  {
   "cell_type": "markdown",
   "metadata": {},
   "source": [
    "<!-- # # bag of word แบบปกติ \n",
    "# from sklearn.feature_extraction.text import CountVectorizer\n",
    "# vectorizer = CountVectorizer()\n",
    "# Content_count = vectorizer.fit_transform(raw_documents)\n",
    "# Content_count.shape # ได้จำนวนเมลล์ 1408 จำนวนคำศัพท์ทั้งหมดในเมลล์ 23343\n",
    "# # Content_count.todense([20:30,30:40]) -->"
   ]
  }
 ],
 "metadata": {
  "kernelspec": {
   "display_name": "Python 3",
   "language": "python",
   "name": "python3"
  },
  "language_info": {
   "codemirror_mode": {
    "name": "ipython",
    "version": 3
   },
   "file_extension": ".py",
   "mimetype": "text/x-python",
   "name": "python",
   "nbconvert_exporter": "python",
   "pygments_lexer": "ipython3",
   "version": "3.8.3"
  }
 },
 "nbformat": 4,
 "nbformat_minor": 4
}
